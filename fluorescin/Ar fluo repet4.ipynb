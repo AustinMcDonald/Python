{
 "cells": [
  {
   "cell_type": "code",
   "execution_count": 1,
   "metadata": {
    "collapsed": true
   },
   "outputs": [],
   "source": [
    "import csv\n",
    "import numpy as np\n",
    "import matplotlib.pyplot as plt\n",
    "import matplotlib.cm as cm\n",
    "import os\n",
    "import glob\n",
    "import pandas as pd\n",
    "from scipy.optimize import curve_fit\n",
    "from scipy.signal import savgol_filter\n",
    "from scipy import integrate\n",
    "\n",
    "%matplotlib inline\n"
   ]
  },
  {
   "cell_type": "code",
   "execution_count": 2,
   "metadata": {
    "collapsed": false
   },
   "outputs": [
    {
     "name": "stdout",
     "output_type": "stream",
     "text": [
      "/Users/austinmcdonald/Desktop/data/fluorescin/fluorescinrep\n"
     ]
    }
   ],
   "source": [
    "cd /Users/austinmcdonald/Desktop/data/fluorescin/fluorescinrep"
   ]
  },
  {
   "cell_type": "code",
   "execution_count": 3,
   "metadata": {
    "collapsed": false
   },
   "outputs": [
    {
     "data": {
      "text/plain": [
       "['.DS_Store',\n",
       " '1rep',\n",
       " '2rep',\n",
       " 'CCD-noise.csv',\n",
       " 'FLUORESCIN-5mum-1.csv',\n",
       " 'FLUORESCIN-5mum-2.csv',\n",
       " 'FLUORESCIN-5mum-3.csv']"
      ]
     },
     "execution_count": 3,
     "metadata": {},
     "output_type": "execute_result"
    }
   ],
   "source": [
    "os.listdir()"
   ]
  },
  {
   "cell_type": "code",
   "execution_count": 17,
   "metadata": {
    "collapsed": false
   },
   "outputs": [
    {
     "data": {
      "text/plain": [
       "['FLUORESCIN-5mum-1.csv', 'FLUORESCIN-5mum-3.csv']"
      ]
     },
     "execution_count": 17,
     "metadata": {},
     "output_type": "execute_result"
    }
   ],
   "source": [
    "datass = None\n",
    "datass = []\n",
    "for files in glob.glob(\"*.csv\"):\n",
    "    datass.append(files)\n",
    "ddat = datass[1:2]+datass[3:4]\n",
    "ddat"
   ]
  },
  {
   "cell_type": "code",
   "execution_count": 19,
   "metadata": {
    "collapsed": false
   },
   "outputs": [],
   "source": [
    "data = dict()\n",
    "dataf= dict()\n",
    "datacut = dict()\n",
    "intensity = dict()\n",
    "backg = pd.read_csv('CCD-noise.csv',delimiter=\",\",names = ['wave','sig'],skiprows=33,skipfooter=1,engine='python')\n",
    "#water = pd.read_csv('water.csv',delimiter=\",\",names = ['wave','sig'],skiprows=33,skipfooter=1,engine='python')\n",
    "for x in range(0,2):\n",
    "    data[x] = pd.read_csv(ddat[x],delimiter=\",\",names = ['wave','sig'],skiprows=33,skipfooter=1,engine='python')\n",
    "    data[x]['dif'] = data[x]['sig'].diff().abs()\n",
    "    data[x]['BS'] = (data[x]['sig']-backg['sig'])\n",
    "    dataf[x] = data[x][data[x]['dif']<.01]\n",
    "    datacut[x] = dataf[x][(dataf[x]['wave']>490) & (dataf[x]['wave']<700)]\n",
    "    intensity[x] = integrate.trapz(datacut[x]['BS'], datacut[x]['wave'])"
   ]
  },
  {
   "cell_type": "code",
   "execution_count": 20,
   "metadata": {
    "collapsed": false
   },
   "outputs": [
    {
     "name": "stdout",
     "output_type": "stream",
     "text": [
      "intensity =  [ 31.703693    31.82087952]\n",
      "maxes =  [ 0.71125181  0.71435009]\n"
     ]
    }
   ],
   "source": [
    "inte = []\n",
    "for x in range(0,2):\n",
    "    inte.append( intensity[x])\n",
    "inten = np.array(inte)\n",
    "print('intensity = ',inten)\n",
    "\n",
    "phts =[]\n",
    "for x in range(0,2):\n",
    "    phts.append( max(dataf[x]['BS']))\n",
    "pht = np.array(phts)\n",
    "print('maxes = ',pht)"
   ]
  },
  {
   "cell_type": "code",
   "execution_count": 22,
   "metadata": {
    "collapsed": false
   },
   "outputs": [
    {
     "ename": "SyntaxError",
     "evalue": "invalid syntax (<ipython-input-22-4540fc380887>, line 7)",
     "output_type": "error",
     "traceback": [
      "\u001b[0;36m  File \u001b[0;32m\"<ipython-input-22-4540fc380887>\"\u001b[0;36m, line \u001b[0;32m7\u001b[0m\n\u001b[0;31m    3plt.plot(dataf[1]['wave'],dataf[1]['BS'],color=cm.gist_heat(1/7),linewidth=2)\u001b[0m\n\u001b[0m       ^\u001b[0m\n\u001b[0;31mSyntaxError\u001b[0m\u001b[0;31m:\u001b[0m invalid syntax\n"
     ]
    }
   ],
   "source": [
    "plt.figure(figsize=(10,10))\n",
    "\n",
    "#plt.plot(dataf[5]['wave'],dataf[5]['BS'],color=cm.gist_heat(5/7),linewidth=2)\n",
    "#plt.plot(dataf[4]['wave'],dataf[4]['BS'],color=cm.gist_heat(4/7),linewidth=2)\n",
    "#plt.plot(dataf[3]['wave'],dataf[3]['BS'],color=cm.gist_heat(3/7),linewidth=2)\n",
    "plt.plot(dataf[2]['wave'],dataf[2]['BS'],color=cm.gist_heat(2/7),linewidth=2)\n",
    "3plt.plot(dataf[1]['wave'],dataf[1]['BS'],color=cm.gist_heat(1/7),linewidth=2)\n",
    "plt.plot(dataf[0]['wave'],dataf[0]['BS'],color=cm.gist_heat(0/7),linewidth=2)\n",
    "\n",
    "plt.xlabel(r'Wavelength ($nm$)', fontsize=32)\n",
    "plt.ylabel('Relative Intensity', fontsize=32)\n",
    "#plt.title('Fluorescein Emission Spectrum ', fontsize=32)\n",
    "plt.legend(bbox_to_anchor=(1,1), loc=1, borderaxespad=0.,fontsize=22,shadow=True, fancybox=True)\n",
    "plt.xticks(fontsize = 10)\n",
    "plt.yticks(fontsize = 10)\n",
    "plt.xticks([450,475,500,525,550,575,600,625,650])\n",
    "plt.tight_layout()\n",
    "\n",
    "plt.xlim(450,650)\n",
    "plt.ylim(0,.98)\n",
    "#plt.savefig('/Users/austinmcdonald/Desktop/Plots/paper8-16/Ar_Fluo_IF.pdf')\n",
    "\n",
    "plt.show()"
   ]
  },
  {
   "cell_type": "code",
   "execution_count": 9,
   "metadata": {
    "collapsed": false
   },
   "outputs": [
    {
     "data": {
      "text/plain": [
       "3.4203475840778674"
      ]
     },
     "execution_count": 9,
     "metadata": {},
     "output_type": "execute_result"
    }
   ],
   "source": [
    "np.std(inten)/np.mean(inten)*100"
   ]
  },
  {
   "cell_type": "code",
   "execution_count": 10,
   "metadata": {
    "collapsed": false
   },
   "outputs": [
    {
     "data": {
      "text/plain": [
       "3.8596493030770556"
      ]
     },
     "execution_count": 10,
     "metadata": {},
     "output_type": "execute_result"
    }
   ],
   "source": [
    "np.std(pht)/np.mean(pht)*100"
   ]
  },
  {
   "cell_type": "code",
   "execution_count": null,
   "metadata": {
    "collapsed": true
   },
   "outputs": [],
   "source": []
  }
 ],
 "metadata": {
  "kernelspec": {
   "display_name": "Python 3",
   "language": "python",
   "name": "python3"
  },
  "language_info": {
   "codemirror_mode": {
    "name": "ipython",
    "version": 3
   },
   "file_extension": ".py",
   "mimetype": "text/x-python",
   "name": "python",
   "nbconvert_exporter": "python",
   "pygments_lexer": "ipython3",
   "version": "3.5.2"
  }
 },
 "nbformat": 4,
 "nbformat_minor": 0
}
