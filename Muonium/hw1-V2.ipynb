{
 "cells": [
  {
   "cell_type": "code",
   "execution_count": 1,
   "metadata": {
    "collapsed": false
   },
   "outputs": [],
   "source": [
    "from sympy import *\n",
    "import numpy as np\n",
    "from sympy import DiracDelta\n",
    "import itertools\n",
    "import math\n",
    "import random"
   ]
  },
  {
   "cell_type": "code",
   "execution_count": 2,
   "metadata": {
    "collapsed": true
   },
   "outputs": [],
   "source": [
    "from sympy import init_printing\n",
    "init_printing() "
   ]
  },
  {
   "cell_type": "code",
   "execution_count": 3,
   "metadata": {
    "collapsed": true
   },
   "outputs": [],
   "source": [
    "x, y, z, u, dx, dy, dz = symbols('x y z u dx dy dz',real=True,positive=True)\n",
    "K0, K1, K2, K3 = symbols('K0 K1 K2 K3',real=True)\n",
    "m0, m1, m2, m3, E1, E2, E3 = symbols('m0 m1 m2 m3 E1 E2 E3',real=True,positive=True)\n",
    "p1, p2, p3 = symbols('p1 p2 p3',real=True,positive=True)\n",
    "\n",
    "theta1, theta2, theta3, phi1, phi2, phi3 = symbols('theta1 theta2 theta3 phi1 phi2 phi3',real=True,positive=True)"
   ]
  },
  {
   "cell_type": "code",
   "execution_count": null,
   "metadata": {
    "collapsed": true
   },
   "outputs": [],
   "source": []
  },
  {
   "cell_type": "code",
   "execution_count": 4,
   "metadata": {
    "collapsed": false
   },
   "outputs": [],
   "source": [
    "Identity = Matrix([[1, 0, 0, 0], [0, 1, 0, 0], [0, 0, 1, 0], [0, 0, 0, 1]])\n",
    "Gamma0 = Matrix([[1, 0, 0, 0], [0, 1, 0, 0], [0, 0, -1, 0], [0, 0, 0, -1]])\n",
    "Gamma1 = Matrix([[0, 0, 0, 1], [0, 0, 1, 0], [0, -1, 0, 0], [-1, 0, 0,0]])\n",
    "Gamma2 = Matrix([[0, 0, 0, -I], [0, 0, I, 0], [0, I, 0, 0], [-I, 0, 0, 0]])\n",
    "Gamma3 = Matrix([[0, 0, 1, 0], [0, 0, 0, -1], [-1, 0, 0, 0], [0, 1, 0, 0]])\n",
    "Gamma5 = I*Gamma0*Gamma1*Gamma2*Gamma3\n",
    "\n",
    "CoGamma0 = Gamma0\n",
    "CoGamma1 = -Gamma1\n",
    "CoGamma2 = -Gamma2\n",
    "CoGamma3 = -Gamma3\n",
    "CoGamma5 = Gamma5\n",
    "\n",
    "TwoPR = (Identity + Gamma5)\n",
    "TwoPL = (Identity - Gamma5)\n"
   ]
  },
  {
   "cell_type": "code",
   "execution_count": 5,
   "metadata": {
    "collapsed": false
   },
   "outputs": [],
   "source": [
    "N1 = sqrt(E1+m1) #sqrt(p1**2+2*m1**2)\n",
    "N2 = sqrt(E2+m2)\n",
    "N3 = sqrt(E3+m3)\n",
    "con1 = p1/(m1+E1) # p1/(m1+sqrt(p1**2+m1**2))\n",
    "con2 = p2/(m2+E2)\n",
    "con3 = p3/(m3+E3)\n",
    "s1 = sqrt((1-cos(theta1))/2) # sin(theta1/2)\n",
    "s2 = sqrt((1-cos(theta2))/2) # sin(theta2/2)\n",
    "s3 = sqrt((1-cos(theta3))/2) # sin(theta3/2)\n",
    "c1 = sqrt((1+cos(theta1))/2) # cos(theta1/2)\n",
    "c2 = sqrt((1+cos(theta2))/2) # cos(theta2/2)\n",
    "c3 = sqrt((1+cos(theta3))/2) # cos(theta3/2)\n",
    "#e1 = exp(phi1)\n",
    "#e2 = exp(phi2)\n",
    "#e3 = exp(phi3)\n",
    "ei1 = exp(I*phi1)\n",
    "ei2 = exp(I*phi2)\n",
    "ei3 = exp(I*phi3)"
   ]
  },
  {
   "cell_type": "code",
   "execution_count": null,
   "metadata": {
    "collapsed": true
   },
   "outputs": [],
   "source": []
  },
  {
   "cell_type": "code",
   "execution_count": null,
   "metadata": {
    "collapsed": true
   },
   "outputs": [],
   "source": []
  },
  {
   "cell_type": "code",
   "execution_count": null,
   "metadata": {
    "collapsed": true
   },
   "outputs": [],
   "source": []
  },
  {
   "cell_type": "code",
   "execution_count": 6,
   "metadata": {
    "collapsed": false
   },
   "outputs": [],
   "source": [
    "N1 = sqrt(E1+m1) #sqrt(p1**2+2*m1**2)\n",
    "N2 = sqrt(E2+m2)\n",
    "N3 = sqrt(E3+m3)\n",
    "con1 = 1- m1/p1 #p1/(m1+E1) # p1/(m1+sqrt(p1**2+m1**2))\n",
    "con2 = 1- m2/p2 #p2/(m2+E2)\n",
    "con3 = 1- m3/p3 #p3/(m3+E3)\n",
    "s1 =  sin(theta1/2)\n",
    "s2 =  sin(theta2/2)\n",
    "s3 =  sin(theta3/2)\n",
    "c1 =  cos(theta1/2)\n",
    "c2 =  cos(theta2/2)\n",
    "c3 =  cos(theta3/2)\n",
    "ei1 = cos(phi1)+I*sin(phi1) #exp(I*phi1)\n",
    "ei2 = cos(phi2)+I*sin(phi2)  #exp(I*phi2)\n",
    "ei3 = cos(phi3)+I*sin(phi3)  #exp(I*phi3)\n",
    "\n",
    "v0up = sqrt(2*m0)*Matrix([0,0,0,1])\n",
    "v0dn = sqrt(2*m0)*Matrix([0,0,1,0])\n",
    "\n",
    "v1up = N1*Matrix([con1*s1,-con1*c1*ei1,-s1,c1*ei1])\n",
    "v1dn = N1*Matrix([con1*c1,con1*s1*ei1,c1,s1*ei1])\n",
    "\n",
    "v3up = N3*Matrix([con3*s3,-con3*c3*ei3,-s3,c3*ei3])\n",
    "v3dn = N3*Matrix([con3*c3,con3*s3*ei3,c3,s3*ei3])\n",
    "\n",
    "u2up = N2*Matrix([c2,s2*ei2,con2*c2,con2*s2*ei2])\n",
    "u2dn = N2*Matrix([-s2,c2*ei2,con2*s2,-con2*c2*ei2])"
   ]
  },
  {
   "cell_type": "code",
   "execution_count": null,
   "metadata": {
    "collapsed": false
   },
   "outputs": [],
   "source": [
    "v1up"
   ]
  },
  {
   "cell_type": "code",
   "execution_count": null,
   "metadata": {
    "collapsed": true
   },
   "outputs": [],
   "source": []
  },
  {
   "cell_type": "code",
   "execution_count": 5,
   "metadata": {
    "collapsed": false
   },
   "outputs": [],
   "source": [
    "s1 =  sin(theta1/2)\n",
    "s2 =  sin(theta2/2)\n",
    "s3 =  sin(theta3/2)\n",
    "c1 =  cos(theta1/2)\n",
    "c2 =  cos(theta2/2)\n",
    "c3 =  cos(theta3/2)\n",
    "ei1 = cos(phi1)+I*sin(phi1) #exp(I*phi1)\n",
    "ei2 = cos(phi2)+I*sin(phi2)  #exp(I*phi2)\n",
    "ei3 = cos(phi3)+I*sin(phi3)  #exp(I*phi3)\n",
    "\n",
    "AA = (sqrt(p1) -m1/(2*sqrt(p1)))\n",
    "A  = (sqrt(p1) +m1/(2*sqrt(p1)))\n",
    "BB = (sqrt(p3) -m3/(2*sqrt(p3)))\n",
    "B  = (sqrt(p3) +m3/(2*sqrt(p3)))\n",
    "CC = (sqrt(p2) -m2/(2*sqrt(p2)))\n",
    "C  = (sqrt(p2) +m2/(2*sqrt(p2)))\n",
    "\n",
    "v0up = sqrt(2*m0)*Matrix([0,0,0,1])\n",
    "v0dn = sqrt(2*m0)*Matrix([0,0,1,0])\n",
    "\n",
    "v1up = Matrix([AA*s1,-AA*c1*ei1,-A*s1,A*c1*ei1])\n",
    "v1dn = Matrix([AA*c1,AA*s1*ei1,A*c1,A*s1*ei1])\n",
    "\n",
    "con3 = p3/(m3+E3)\n",
    "N3 = sqrt(E3+m3)\n",
    "v3up = N3*Matrix([con3*s3,-con3*c3*ei3,-s3,c3*ei3])\n",
    "v3dn = N3*Matrix([con3*c3,con3*s3*ei3,c3,s3*ei3])\n",
    "\n",
    "u2up = Matrix([C*c2,C*s2*ei2,CC*c2,CC*s2*ei2])\n",
    "u2dn = Matrix([-C*s2,C*c2*ei2,CC*s2,-CC*c2*ei2])"
   ]
  },
  {
   "cell_type": "code",
   "execution_count": null,
   "metadata": {
    "collapsed": false
   },
   "outputs": [],
   "source": []
  },
  {
   "cell_type": "code",
   "execution_count": null,
   "metadata": {
    "collapsed": true
   },
   "outputs": [],
   "source": []
  },
  {
   "cell_type": "code",
   "execution_count": null,
   "metadata": {
    "collapsed": true
   },
   "outputs": [],
   "source": []
  },
  {
   "cell_type": "code",
   "execution_count": 6,
   "metadata": {
    "collapsed": true
   },
   "outputs": [],
   "source": [
    "E1simp = p1 + m1**2/(2*p1)\n",
    "E2simp = p2 + m2**2/(2*p2)\n",
    "\n",
    "E3simp = m0-p1-m1**2/(2*p1)-p2-m2**2/(2*p2)\n",
    "p3simp = sqrt(p1**2+p2**2+2*p1*p2*(cos(theta1)*cos(theta2)+cos(phi1-phi2)*sin(theta1)*sin(theta2)))\n",
    "C3simp = acos((p1*cos(theta1)+p2*cos(theta2))/p3)\n",
    "#S3simp = (p1*sin(theta1)*sin(phi1)+p2*sin(theta2)*sin(phi2))/p3\n",
    "p2simp = -p1*(sin(theta1)*cos(phi1))/(sin(theta2)*cos(phi2))"
   ]
  },
  {
   "cell_type": "code",
   "execution_count": 7,
   "metadata": {
    "collapsed": false
   },
   "outputs": [
    {
     "data": {
      "image/png": "[encoded data removed]",
      "text/latex": [
       "$$- \\frac{p_{1} \\sin{\\left (\\theta_{1} \\right )} \\cos{\\left (\\phi_{1} \\right )}}{\\sin{\\left (\\theta_{2} \\right )} \\cos{\\left (\\phi_{2} \\right )}}$$"
      ],
      "text/plain": [
       "-p₁⋅sin(θ₁)⋅cos(φ₁) \n",
       "────────────────────\n",
       "  sin(θ₂)⋅cos(φ₂)   "
      ]
     },
     "execution_count": 7,
     "metadata": {},
     "output_type": "execute_result"
    }
   ],
   "source": [
    "p2simp"
   ]
  },
  {
   "cell_type": "code",
   "execution_count": 8,
   "metadata": {
    "collapsed": true
   },
   "outputs": [],
   "source": [
    "SUBS = [(phi3,pi/2),(E1,E1simp),(E2,E2simp),(E3,E3simp),(theta3,C3simp),(p3,p3simp),(p2,p2simp)]"
   ]
  },
  {
   "cell_type": "code",
   "execution_count": null,
   "metadata": {
    "collapsed": true
   },
   "outputs": [],
   "source": []
  },
  {
   "cell_type": "code",
   "execution_count": null,
   "metadata": {
    "collapsed": true
   },
   "outputs": [],
   "source": []
  },
  {
   "cell_type": "code",
   "execution_count": 28,
   "metadata": {
    "collapsed": false
   },
   "outputs": [
    {
     "ename": "KeyboardInterrupt",
     "evalue": "",
     "output_type": "error",
     "traceback": [
      "\u001b[0;31m---------------------------------------------------------------------------\u001b[0m",
      "\u001b[0;31mKeyboardInterrupt\u001b[0m                         Traceback (most recent call last)",
      "\u001b[0;32m<ipython-input-28-20feba248749>\u001b[0m in \u001b[0;36m<module>\u001b[0;34m()\u001b[0m\n\u001b[0;32m----> 1\u001b[0;31m \u001b[0msolve\u001b[0m\u001b[0;34m(\u001b[0m\u001b[0mm0\u001b[0m\u001b[0;34m-\u001b[0m\u001b[0mp1\u001b[0m\u001b[0;34m-\u001b[0m\u001b[0mm1\u001b[0m\u001b[0;34m**\u001b[0m\u001b[0;36m2\u001b[0m\u001b[0;34m/\u001b[0m\u001b[0;34m(\u001b[0m\u001b[0;36m2\u001b[0m\u001b[0;34m*\u001b[0m\u001b[0mp1\u001b[0m\u001b[0;34m)\u001b[0m\u001b[0;34m-\u001b[0m\u001b[0mp2\u001b[0m\u001b[0;34m-\u001b[0m\u001b[0mm2\u001b[0m\u001b[0;34m**\u001b[0m\u001b[0;36m2\u001b[0m\u001b[0;34m/\u001b[0m\u001b[0;34m(\u001b[0m\u001b[0;36m2\u001b[0m\u001b[0;34m*\u001b[0m\u001b[0mp2\u001b[0m\u001b[0;34m)\u001b[0m\u001b[0;34m-\u001b[0m\u001b[0msqrt\u001b[0m\u001b[0;34m(\u001b[0m\u001b[0mp1\u001b[0m\u001b[0;34m**\u001b[0m\u001b[0;36m2\u001b[0m\u001b[0;34m+\u001b[0m\u001b[0mp2\u001b[0m\u001b[0;34m**\u001b[0m\u001b[0;36m2\u001b[0m\u001b[0;34m+\u001b[0m\u001b[0;36m2\u001b[0m\u001b[0;34m*\u001b[0m\u001b[0mp1\u001b[0m\u001b[0;34m*\u001b[0m\u001b[0mp2\u001b[0m\u001b[0;34m*\u001b[0m\u001b[0;34m(\u001b[0m\u001b[0mu\u001b[0m\u001b[0;34m)\u001b[0m\u001b[0;34m-\u001b[0m\u001b[0mm3\u001b[0m\u001b[0;34m**\u001b[0m\u001b[0;36m2\u001b[0m\u001b[0;34m)\u001b[0m\u001b[0;34m,\u001b[0m \u001b[0mp2\u001b[0m\u001b[0;34m)\u001b[0m\u001b[0;34m\u001b[0m\u001b[0m\n\u001b[0m",
      "\u001b[0;32m//anaconda/envs/py35/lib/python3.5/site-packages/sympy/solvers/solvers.py\u001b[0m in \u001b[0;36msolve\u001b[0;34m(f, *symbols, **flags)\u001b[0m\n\u001b[1;32m   1051\u001b[0m     \u001b[0;31m###########################################################################\u001b[0m\u001b[0;34m\u001b[0m\u001b[0;34m\u001b[0m\u001b[0m\n\u001b[1;32m   1052\u001b[0m     \u001b[0;32mif\u001b[0m \u001b[0mbare_f\u001b[0m\u001b[0;34m:\u001b[0m\u001b[0;34m\u001b[0m\u001b[0m\n\u001b[0;32m-> 1053\u001b[0;31m         \u001b[0msolution\u001b[0m \u001b[0;34m=\u001b[0m \u001b[0m_solve\u001b[0m\u001b[0;34m(\u001b[0m\u001b[0mf\u001b[0m\u001b[0;34m[\u001b[0m\u001b[0;36m0\u001b[0m\u001b[0;34m]\u001b[0m\u001b[0;34m,\u001b[0m \u001b[0;34m*\u001b[0m\u001b[0msymbols\u001b[0m\u001b[0;34m,\u001b[0m \u001b[0;34m**\u001b[0m\u001b[0mflags\u001b[0m\u001b[0;34m)\u001b[0m\u001b[0;34m\u001b[0m\u001b[0m\n\u001b[0m\u001b[1;32m   1054\u001b[0m     \u001b[0;32melse\u001b[0m\u001b[0;34m:\u001b[0m\u001b[0;34m\u001b[0m\u001b[0m\n\u001b[1;32m   1055\u001b[0m         \u001b[0msolution\u001b[0m \u001b[0;34m=\u001b[0m \u001b[0m_solve_system\u001b[0m\u001b[0;34m(\u001b[0m\u001b[0mf\u001b[0m\u001b[0;34m,\u001b[0m \u001b[0msymbols\u001b[0m\u001b[0;34m,\u001b[0m \u001b[0;34m**\u001b[0m\u001b[0mflags\u001b[0m\u001b[0;34m)\u001b[0m\u001b[0;34m\u001b[0m\u001b[0m\n",
      "\u001b[0;32m//anaconda/envs/py35/lib/python3.5/site-packages/sympy/solvers/solvers.py\u001b[0m in \u001b[0;36m_solve\u001b[0;34m(f, *symbols, **flags)\u001b[0m\n\u001b[1;32m   1629\u001b[0m         \u001b[0;31m# if in doubt, keep it\u001b[0m\u001b[0;34m\u001b[0m\u001b[0;34m\u001b[0m\u001b[0m\n\u001b[1;32m   1630\u001b[0m         \u001b[0mdens\u001b[0m \u001b[0;34m=\u001b[0m \u001b[0m_simple_dens\u001b[0m\u001b[0;34m(\u001b[0m\u001b[0mf\u001b[0m\u001b[0;34m,\u001b[0m \u001b[0msymbols\u001b[0m\u001b[0;34m)\u001b[0m\u001b[0;34m\u001b[0m\u001b[0m\n\u001b[0;32m-> 1631\u001b[0;31m         result = [s for s in result if\n\u001b[0m\u001b[1;32m   1632\u001b[0m                   all(not checksol(d, {symbol: s}, **flags)\n\u001b[1;32m   1633\u001b[0m                     for d in dens)]\n",
      "\u001b[0;32m//anaconda/envs/py35/lib/python3.5/site-packages/sympy/solvers/solvers.py\u001b[0m in \u001b[0;36m<listcomp>\u001b[0;34m(.0)\u001b[0m\n\u001b[1;32m   1631\u001b[0m         result = [s for s in result if\n\u001b[1;32m   1632\u001b[0m                   all(not checksol(d, {symbol: s}, **flags)\n\u001b[0;32m-> 1633\u001b[0;31m                     for d in dens)]\n\u001b[0m\u001b[1;32m   1634\u001b[0m     \u001b[0;32mif\u001b[0m \u001b[0mcheck\u001b[0m\u001b[0;34m:\u001b[0m\u001b[0;34m\u001b[0m\u001b[0m\n\u001b[1;32m   1635\u001b[0m         \u001b[0;31m# keep only results if the check is not False\u001b[0m\u001b[0;34m\u001b[0m\u001b[0;34m\u001b[0m\u001b[0m\n",
      "\u001b[0;32m//anaconda/envs/py35/lib/python3.5/site-packages/sympy/solvers/solvers.py\u001b[0m in \u001b[0;36m<genexpr>\u001b[0;34m(.0)\u001b[0m\n\u001b[1;32m   1631\u001b[0m         result = [s for s in result if\n\u001b[1;32m   1632\u001b[0m                   all(not checksol(d, {symbol: s}, **flags)\n\u001b[0;32m-> 1633\u001b[0;31m                     for d in dens)]\n\u001b[0m\u001b[1;32m   1634\u001b[0m     \u001b[0;32mif\u001b[0m \u001b[0mcheck\u001b[0m\u001b[0;34m:\u001b[0m\u001b[0;34m\u001b[0m\u001b[0m\n\u001b[1;32m   1635\u001b[0m         \u001b[0;31m# keep only results if the check is not False\u001b[0m\u001b[0;34m\u001b[0m\u001b[0;34m\u001b[0m\u001b[0m\n",
      "\u001b[0;32m//anaconda/envs/py35/lib/python3.5/site-packages/sympy/solvers/solvers.py\u001b[0m in \u001b[0;36mchecksol\u001b[0;34m(f, symbol, sol, **flags)\u001b[0m\n\u001b[1;32m    249\u001b[0m             \u001b[0mval\u001b[0m \u001b[0;34m=\u001b[0m \u001b[0mpowsimp\u001b[0m\u001b[0;34m(\u001b[0m\u001b[0mval\u001b[0m\u001b[0;34m)\u001b[0m\u001b[0;34m\u001b[0m\u001b[0m\n\u001b[1;32m    250\u001b[0m         \u001b[0;32melif\u001b[0m \u001b[0mattempt\u001b[0m \u001b[0;34m==\u001b[0m \u001b[0;36m4\u001b[0m\u001b[0;34m:\u001b[0m\u001b[0;34m\u001b[0m\u001b[0m\n\u001b[0;32m--> 251\u001b[0;31m             \u001b[0mval\u001b[0m \u001b[0;34m=\u001b[0m \u001b[0mcancel\u001b[0m\u001b[0;34m(\u001b[0m\u001b[0mval\u001b[0m\u001b[0;34m)\u001b[0m\u001b[0;34m\u001b[0m\u001b[0m\n\u001b[0m\u001b[1;32m    252\u001b[0m         \u001b[0;32melif\u001b[0m \u001b[0mattempt\u001b[0m \u001b[0;34m==\u001b[0m \u001b[0;36m5\u001b[0m\u001b[0;34m:\u001b[0m\u001b[0;34m\u001b[0m\u001b[0m\n\u001b[1;32m    253\u001b[0m             \u001b[0mval\u001b[0m \u001b[0;34m=\u001b[0m \u001b[0mval\u001b[0m\u001b[0;34m.\u001b[0m\u001b[0mexpand\u001b[0m\u001b[0;34m(\u001b[0m\u001b[0;34m)\u001b[0m\u001b[0;34m\u001b[0m\u001b[0m\n",
      "\u001b[0;32m//anaconda/envs/py35/lib/python3.5/site-packages/sympy/polys/polytools.py\u001b[0m in \u001b[0;36mcancel\u001b[0;34m(f, *gens, **args)\u001b[0m\n\u001b[1;32m   6329\u001b[0m \u001b[0;34m\u001b[0m\u001b[0m\n\u001b[1;32m   6330\u001b[0m     \u001b[0;32mtry\u001b[0m\u001b[0;34m:\u001b[0m\u001b[0;34m\u001b[0m\u001b[0m\n\u001b[0;32m-> 6331\u001b[0;31m         \u001b[0;34m(\u001b[0m\u001b[0mF\u001b[0m\u001b[0;34m,\u001b[0m \u001b[0mG\u001b[0m\u001b[0;34m)\u001b[0m\u001b[0;34m,\u001b[0m \u001b[0mopt\u001b[0m \u001b[0;34m=\u001b[0m \u001b[0mparallel_poly_from_expr\u001b[0m\u001b[0;34m(\u001b[0m\u001b[0;34m(\u001b[0m\u001b[0mp\u001b[0m\u001b[0;34m,\u001b[0m \u001b[0mq\u001b[0m\u001b[0;34m)\u001b[0m\u001b[0;34m,\u001b[0m \u001b[0;34m*\u001b[0m\u001b[0mgens\u001b[0m\u001b[0;34m,\u001b[0m \u001b[0;34m**\u001b[0m\u001b[0margs\u001b[0m\u001b[0;34m)\u001b[0m\u001b[0;34m\u001b[0m\u001b[0m\n\u001b[0m\u001b[1;32m   6332\u001b[0m     \u001b[0;32mexcept\u001b[0m \u001b[0mPolificationFailed\u001b[0m\u001b[0;34m:\u001b[0m\u001b[0;34m\u001b[0m\u001b[0m\n\u001b[1;32m   6333\u001b[0m         \u001b[0;32mif\u001b[0m \u001b[0;32mnot\u001b[0m \u001b[0misinstance\u001b[0m\u001b[0;34m(\u001b[0m\u001b[0mf\u001b[0m\u001b[0;34m,\u001b[0m \u001b[0;34m(\u001b[0m\u001b[0mtuple\u001b[0m\u001b[0;34m,\u001b[0m \u001b[0mTuple\u001b[0m\u001b[0;34m)\u001b[0m\u001b[0;34m)\u001b[0m\u001b[0;34m:\u001b[0m\u001b[0;34m\u001b[0m\u001b[0m\n",
      "\u001b[0;32m//anaconda/envs/py35/lib/python3.5/site-packages/sympy/polys/polytools.py\u001b[0m in \u001b[0;36mparallel_poly_from_expr\u001b[0;34m(exprs, *gens, **args)\u001b[0m\n\u001b[1;32m   4166\u001b[0m     \u001b[0;34m\"\"\"Construct polynomials from expressions. \"\"\"\u001b[0m\u001b[0;34m\u001b[0m\u001b[0m\n\u001b[1;32m   4167\u001b[0m     \u001b[0mopt\u001b[0m \u001b[0;34m=\u001b[0m \u001b[0moptions\u001b[0m\u001b[0;34m.\u001b[0m\u001b[0mbuild_options\u001b[0m\u001b[0;34m(\u001b[0m\u001b[0mgens\u001b[0m\u001b[0;34m,\u001b[0m \u001b[0margs\u001b[0m\u001b[0;34m)\u001b[0m\u001b[0;34m\u001b[0m\u001b[0m\n\u001b[0;32m-> 4168\u001b[0;31m     \u001b[0;32mreturn\u001b[0m \u001b[0m_parallel_poly_from_expr\u001b[0m\u001b[0;34m(\u001b[0m\u001b[0mexprs\u001b[0m\u001b[0;34m,\u001b[0m \u001b[0mopt\u001b[0m\u001b[0;34m)\u001b[0m\u001b[0;34m\u001b[0m\u001b[0m\n\u001b[0m\u001b[1;32m   4169\u001b[0m \u001b[0;34m\u001b[0m\u001b[0m\n\u001b[1;32m   4170\u001b[0m \u001b[0;34m\u001b[0m\u001b[0m\n",
      "\u001b[0;32m//anaconda/envs/py35/lib/python3.5/site-packages/sympy/polys/polytools.py\u001b[0m in \u001b[0;36m_parallel_poly_from_expr\u001b[0;34m(exprs, opt)\u001b[0m\n\u001b[1;32m   4220\u001b[0m \u001b[0;34m\u001b[0m\u001b[0m\n\u001b[1;32m   4221\u001b[0m     \u001b[0;32mtry\u001b[0m\u001b[0;34m:\u001b[0m\u001b[0;34m\u001b[0m\u001b[0m\n\u001b[0;32m-> 4222\u001b[0;31m         \u001b[0mreps\u001b[0m\u001b[0;34m,\u001b[0m \u001b[0mopt\u001b[0m \u001b[0;34m=\u001b[0m \u001b[0m_parallel_dict_from_expr\u001b[0m\u001b[0;34m(\u001b[0m\u001b[0mexprs\u001b[0m\u001b[0;34m,\u001b[0m \u001b[0mopt\u001b[0m\u001b[0;34m)\u001b[0m\u001b[0;34m\u001b[0m\u001b[0m\n\u001b[0m\u001b[1;32m   4223\u001b[0m     \u001b[0;32mexcept\u001b[0m \u001b[0mGeneratorsNeeded\u001b[0m\u001b[0;34m:\u001b[0m\u001b[0;34m\u001b[0m\u001b[0m\n\u001b[1;32m   4224\u001b[0m         \u001b[0;32mraise\u001b[0m \u001b[0mPolificationFailed\u001b[0m\u001b[0;34m(\u001b[0m\u001b[0mopt\u001b[0m\u001b[0;34m,\u001b[0m \u001b[0morigs\u001b[0m\u001b[0;34m,\u001b[0m \u001b[0mexprs\u001b[0m\u001b[0;34m,\u001b[0m \u001b[0;32mTrue\u001b[0m\u001b[0;34m)\u001b[0m\u001b[0;34m\u001b[0m\u001b[0m\n",
      "\u001b[0;32m//anaconda/envs/py35/lib/python3.5/site-packages/sympy/polys/polyutils.py\u001b[0m in \u001b[0;36m_parallel_dict_from_expr\u001b[0;34m(exprs, opt)\u001b[0m\n\u001b[1;32m    328\u001b[0m     \u001b[0;34m\"\"\"Transform expressions into a multinomial form. \"\"\"\u001b[0m\u001b[0;34m\u001b[0m\u001b[0m\n\u001b[1;32m    329\u001b[0m     \u001b[0;32mif\u001b[0m \u001b[0mopt\u001b[0m\u001b[0;34m.\u001b[0m\u001b[0mexpand\u001b[0m \u001b[0;32mis\u001b[0m \u001b[0;32mnot\u001b[0m \u001b[0;32mFalse\u001b[0m\u001b[0;34m:\u001b[0m\u001b[0;34m\u001b[0m\u001b[0m\n\u001b[0;32m--> 330\u001b[0;31m         \u001b[0mexprs\u001b[0m \u001b[0;34m=\u001b[0m \u001b[0;34m[\u001b[0m \u001b[0mexpr\u001b[0m\u001b[0;34m.\u001b[0m\u001b[0mexpand\u001b[0m\u001b[0;34m(\u001b[0m\u001b[0;34m)\u001b[0m \u001b[0;32mfor\u001b[0m \u001b[0mexpr\u001b[0m \u001b[0;32min\u001b[0m \u001b[0mexprs\u001b[0m \u001b[0;34m]\u001b[0m\u001b[0;34m\u001b[0m\u001b[0m\n\u001b[0m\u001b[1;32m    331\u001b[0m \u001b[0;34m\u001b[0m\u001b[0m\n\u001b[1;32m    332\u001b[0m     \u001b[0;32mif\u001b[0m \u001b[0many\u001b[0m\u001b[0;34m(\u001b[0m\u001b[0mexpr\u001b[0m\u001b[0;34m.\u001b[0m\u001b[0mis_commutative\u001b[0m \u001b[0;32mis\u001b[0m \u001b[0;32mFalse\u001b[0m \u001b[0;32mfor\u001b[0m \u001b[0mexpr\u001b[0m \u001b[0;32min\u001b[0m \u001b[0mexprs\u001b[0m\u001b[0;34m)\u001b[0m\u001b[0;34m:\u001b[0m\u001b[0;34m\u001b[0m\u001b[0m\n",
      "\u001b[0;32m//anaconda/envs/py35/lib/python3.5/site-packages/sympy/polys/polyutils.py\u001b[0m in \u001b[0;36m<listcomp>\u001b[0;34m(.0)\u001b[0m\n\u001b[1;32m    328\u001b[0m     \u001b[0;34m\"\"\"Transform expressions into a multinomial form. \"\"\"\u001b[0m\u001b[0;34m\u001b[0m\u001b[0m\n\u001b[1;32m    329\u001b[0m     \u001b[0;32mif\u001b[0m \u001b[0mopt\u001b[0m\u001b[0;34m.\u001b[0m\u001b[0mexpand\u001b[0m \u001b[0;32mis\u001b[0m \u001b[0;32mnot\u001b[0m \u001b[0;32mFalse\u001b[0m\u001b[0;34m:\u001b[0m\u001b[0;34m\u001b[0m\u001b[0m\n\u001b[0;32m--> 330\u001b[0;31m         \u001b[0mexprs\u001b[0m \u001b[0;34m=\u001b[0m \u001b[0;34m[\u001b[0m \u001b[0mexpr\u001b[0m\u001b[0;34m.\u001b[0m\u001b[0mexpand\u001b[0m\u001b[0;34m(\u001b[0m\u001b[0;34m)\u001b[0m \u001b[0;32mfor\u001b[0m \u001b[0mexpr\u001b[0m \u001b[0;32min\u001b[0m \u001b[0mexprs\u001b[0m \u001b[0;34m]\u001b[0m\u001b[0;34m\u001b[0m\u001b[0m\n\u001b[0m\u001b[1;32m    331\u001b[0m \u001b[0;34m\u001b[0m\u001b[0m\n\u001b[1;32m    332\u001b[0m     \u001b[0;32mif\u001b[0m \u001b[0many\u001b[0m\u001b[0;34m(\u001b[0m\u001b[0mexpr\u001b[0m\u001b[0;34m.\u001b[0m\u001b[0mis_commutative\u001b[0m \u001b[0;32mis\u001b[0m \u001b[0;32mFalse\u001b[0m \u001b[0;32mfor\u001b[0m \u001b[0mexpr\u001b[0m \u001b[0;32min\u001b[0m \u001b[0mexprs\u001b[0m\u001b[0;34m)\u001b[0m\u001b[0;34m:\u001b[0m\u001b[0;34m\u001b[0m\u001b[0m\n",
      "\u001b[0;32m//anaconda/envs/py35/lib/python3.5/site-packages/sympy/core/expr.py\u001b[0m in \u001b[0;36mexpand\u001b[0;34m(self, deep, modulus, power_base, power_exp, mul, log, multinomial, basic, **hints)\u001b[0m\n\u001b[1;32m   2960\u001b[0m             \u001b[0;32mif\u001b[0m \u001b[0muse_hint\u001b[0m\u001b[0;34m:\u001b[0m\u001b[0;34m\u001b[0m\u001b[0m\n\u001b[1;32m   2961\u001b[0m                 \u001b[0mhint\u001b[0m \u001b[0;34m=\u001b[0m \u001b[0;34m'_eval_expand_'\u001b[0m \u001b[0;34m+\u001b[0m \u001b[0mhint\u001b[0m\u001b[0;34m\u001b[0m\u001b[0m\n\u001b[0;32m-> 2962\u001b[0;31m                 \u001b[0mexpr\u001b[0m\u001b[0;34m,\u001b[0m \u001b[0mhit\u001b[0m \u001b[0;34m=\u001b[0m \u001b[0mExpr\u001b[0m\u001b[0;34m.\u001b[0m\u001b[0m_expand_hint\u001b[0m\u001b[0;34m(\u001b[0m\u001b[0mexpr\u001b[0m\u001b[0;34m,\u001b[0m \u001b[0mhint\u001b[0m\u001b[0;34m,\u001b[0m \u001b[0mdeep\u001b[0m\u001b[0;34m=\u001b[0m\u001b[0mdeep\u001b[0m\u001b[0;34m,\u001b[0m \u001b[0;34m**\u001b[0m\u001b[0mhints\u001b[0m\u001b[0;34m)\u001b[0m\u001b[0;34m\u001b[0m\u001b[0m\n\u001b[0m\u001b[1;32m   2963\u001b[0m \u001b[0;34m\u001b[0m\u001b[0m\n\u001b[1;32m   2964\u001b[0m         \u001b[0;32mwhile\u001b[0m \u001b[0;32mTrue\u001b[0m\u001b[0;34m:\u001b[0m\u001b[0;34m\u001b[0m\u001b[0m\n",
      "\u001b[0;32m//anaconda/envs/py35/lib/python3.5/site-packages/sympy/core/expr.py\u001b[0m in \u001b[0;36m_expand_hint\u001b[0;34m(expr, hint, deep, **hints)\u001b[0m\n\u001b[1;32m   2893\u001b[0m             \u001b[0msargs\u001b[0m \u001b[0;34m=\u001b[0m \u001b[0;34m[\u001b[0m\u001b[0;34m]\u001b[0m\u001b[0;34m\u001b[0m\u001b[0m\n\u001b[1;32m   2894\u001b[0m             \u001b[0;32mfor\u001b[0m \u001b[0marg\u001b[0m \u001b[0;32min\u001b[0m \u001b[0mexpr\u001b[0m\u001b[0;34m.\u001b[0m\u001b[0margs\u001b[0m\u001b[0;34m:\u001b[0m\u001b[0;34m\u001b[0m\u001b[0m\n\u001b[0;32m-> 2895\u001b[0;31m                 \u001b[0marg\u001b[0m\u001b[0;34m,\u001b[0m \u001b[0marghit\u001b[0m \u001b[0;34m=\u001b[0m \u001b[0mExpr\u001b[0m\u001b[0;34m.\u001b[0m\u001b[0m_expand_hint\u001b[0m\u001b[0;34m(\u001b[0m\u001b[0marg\u001b[0m\u001b[0;34m,\u001b[0m \u001b[0mhint\u001b[0m\u001b[0;34m,\u001b[0m \u001b[0;34m**\u001b[0m\u001b[0mhints\u001b[0m\u001b[0;34m)\u001b[0m\u001b[0;34m\u001b[0m\u001b[0m\n\u001b[0m\u001b[1;32m   2896\u001b[0m                 \u001b[0mhit\u001b[0m \u001b[0;34m|=\u001b[0m \u001b[0marghit\u001b[0m\u001b[0;34m\u001b[0m\u001b[0m\n\u001b[1;32m   2897\u001b[0m                 \u001b[0msargs\u001b[0m\u001b[0;34m.\u001b[0m\u001b[0mappend\u001b[0m\u001b[0;34m(\u001b[0m\u001b[0marg\u001b[0m\u001b[0;34m)\u001b[0m\u001b[0;34m\u001b[0m\u001b[0m\n",
      "\u001b[0;32m//anaconda/envs/py35/lib/python3.5/site-packages/sympy/core/expr.py\u001b[0m in \u001b[0;36m_expand_hint\u001b[0;34m(expr, hint, deep, **hints)\u001b[0m\n\u001b[1;32m   2893\u001b[0m             \u001b[0msargs\u001b[0m \u001b[0;34m=\u001b[0m \u001b[0;34m[\u001b[0m\u001b[0;34m]\u001b[0m\u001b[0;34m\u001b[0m\u001b[0m\n\u001b[1;32m   2894\u001b[0m             \u001b[0;32mfor\u001b[0m \u001b[0marg\u001b[0m \u001b[0;32min\u001b[0m \u001b[0mexpr\u001b[0m\u001b[0;34m.\u001b[0m\u001b[0margs\u001b[0m\u001b[0;34m:\u001b[0m\u001b[0;34m\u001b[0m\u001b[0m\n\u001b[0;32m-> 2895\u001b[0;31m                 \u001b[0marg\u001b[0m\u001b[0;34m,\u001b[0m \u001b[0marghit\u001b[0m \u001b[0;34m=\u001b[0m \u001b[0mExpr\u001b[0m\u001b[0;34m.\u001b[0m\u001b[0m_expand_hint\u001b[0m\u001b[0;34m(\u001b[0m\u001b[0marg\u001b[0m\u001b[0;34m,\u001b[0m \u001b[0mhint\u001b[0m\u001b[0;34m,\u001b[0m \u001b[0;34m**\u001b[0m\u001b[0mhints\u001b[0m\u001b[0;34m)\u001b[0m\u001b[0;34m\u001b[0m\u001b[0m\n\u001b[0m\u001b[1;32m   2896\u001b[0m                 \u001b[0mhit\u001b[0m \u001b[0;34m|=\u001b[0m \u001b[0marghit\u001b[0m\u001b[0;34m\u001b[0m\u001b[0m\n\u001b[1;32m   2897\u001b[0m                 \u001b[0msargs\u001b[0m\u001b[0;34m.\u001b[0m\u001b[0mappend\u001b[0m\u001b[0;34m(\u001b[0m\u001b[0marg\u001b[0m\u001b[0;34m)\u001b[0m\u001b[0;34m\u001b[0m\u001b[0m\n",
      "\u001b[0;32m//anaconda/envs/py35/lib/python3.5/site-packages/sympy/core/expr.py\u001b[0m in \u001b[0;36m_expand_hint\u001b[0;34m(expr, hint, deep, **hints)\u001b[0m\n\u001b[1;32m   2893\u001b[0m             \u001b[0msargs\u001b[0m \u001b[0;34m=\u001b[0m \u001b[0;34m[\u001b[0m\u001b[0;34m]\u001b[0m\u001b[0;34m\u001b[0m\u001b[0m\n\u001b[1;32m   2894\u001b[0m             \u001b[0;32mfor\u001b[0m \u001b[0marg\u001b[0m \u001b[0;32min\u001b[0m \u001b[0mexpr\u001b[0m\u001b[0;34m.\u001b[0m\u001b[0margs\u001b[0m\u001b[0;34m:\u001b[0m\u001b[0;34m\u001b[0m\u001b[0m\n\u001b[0;32m-> 2895\u001b[0;31m                 \u001b[0marg\u001b[0m\u001b[0;34m,\u001b[0m \u001b[0marghit\u001b[0m \u001b[0;34m=\u001b[0m \u001b[0mExpr\u001b[0m\u001b[0;34m.\u001b[0m\u001b[0m_expand_hint\u001b[0m\u001b[0;34m(\u001b[0m\u001b[0marg\u001b[0m\u001b[0;34m,\u001b[0m \u001b[0mhint\u001b[0m\u001b[0;34m,\u001b[0m \u001b[0;34m**\u001b[0m\u001b[0mhints\u001b[0m\u001b[0;34m)\u001b[0m\u001b[0;34m\u001b[0m\u001b[0m\n\u001b[0m\u001b[1;32m   2896\u001b[0m                 \u001b[0mhit\u001b[0m \u001b[0;34m|=\u001b[0m \u001b[0marghit\u001b[0m\u001b[0;34m\u001b[0m\u001b[0m\n\u001b[1;32m   2897\u001b[0m                 \u001b[0msargs\u001b[0m\u001b[0;34m.\u001b[0m\u001b[0mappend\u001b[0m\u001b[0;34m(\u001b[0m\u001b[0marg\u001b[0m\u001b[0;34m)\u001b[0m\u001b[0;34m\u001b[0m\u001b[0m\n",
      "\u001b[0;32m//anaconda/envs/py35/lib/python3.5/site-packages/sympy/core/expr.py\u001b[0m in \u001b[0;36m_expand_hint\u001b[0;34m(expr, hint, deep, **hints)\u001b[0m\n\u001b[1;32m   2893\u001b[0m             \u001b[0msargs\u001b[0m \u001b[0;34m=\u001b[0m \u001b[0;34m[\u001b[0m\u001b[0;34m]\u001b[0m\u001b[0;34m\u001b[0m\u001b[0m\n\u001b[1;32m   2894\u001b[0m             \u001b[0;32mfor\u001b[0m \u001b[0marg\u001b[0m \u001b[0;32min\u001b[0m \u001b[0mexpr\u001b[0m\u001b[0;34m.\u001b[0m\u001b[0margs\u001b[0m\u001b[0;34m:\u001b[0m\u001b[0;34m\u001b[0m\u001b[0m\n\u001b[0;32m-> 2895\u001b[0;31m                 \u001b[0marg\u001b[0m\u001b[0;34m,\u001b[0m \u001b[0marghit\u001b[0m \u001b[0;34m=\u001b[0m \u001b[0mExpr\u001b[0m\u001b[0;34m.\u001b[0m\u001b[0m_expand_hint\u001b[0m\u001b[0;34m(\u001b[0m\u001b[0marg\u001b[0m\u001b[0;34m,\u001b[0m \u001b[0mhint\u001b[0m\u001b[0;34m,\u001b[0m \u001b[0;34m**\u001b[0m\u001b[0mhints\u001b[0m\u001b[0;34m)\u001b[0m\u001b[0;34m\u001b[0m\u001b[0m\n\u001b[0m\u001b[1;32m   2896\u001b[0m                 \u001b[0mhit\u001b[0m \u001b[0;34m|=\u001b[0m \u001b[0marghit\u001b[0m\u001b[0;34m\u001b[0m\u001b[0m\n\u001b[1;32m   2897\u001b[0m                 \u001b[0msargs\u001b[0m\u001b[0;34m.\u001b[0m\u001b[0mappend\u001b[0m\u001b[0;34m(\u001b[0m\u001b[0marg\u001b[0m\u001b[0;34m)\u001b[0m\u001b[0;34m\u001b[0m\u001b[0m\n",
      "\u001b[0;32m//anaconda/envs/py35/lib/python3.5/site-packages/sympy/core/expr.py\u001b[0m in \u001b[0;36m_expand_hint\u001b[0;34m(expr, hint, deep, **hints)\u001b[0m\n\u001b[1;32m   2893\u001b[0m             \u001b[0msargs\u001b[0m \u001b[0;34m=\u001b[0m \u001b[0;34m[\u001b[0m\u001b[0;34m]\u001b[0m\u001b[0;34m\u001b[0m\u001b[0m\n\u001b[1;32m   2894\u001b[0m             \u001b[0;32mfor\u001b[0m \u001b[0marg\u001b[0m \u001b[0;32min\u001b[0m \u001b[0mexpr\u001b[0m\u001b[0;34m.\u001b[0m\u001b[0margs\u001b[0m\u001b[0;34m:\u001b[0m\u001b[0;34m\u001b[0m\u001b[0m\n\u001b[0;32m-> 2895\u001b[0;31m                 \u001b[0marg\u001b[0m\u001b[0;34m,\u001b[0m \u001b[0marghit\u001b[0m \u001b[0;34m=\u001b[0m \u001b[0mExpr\u001b[0m\u001b[0;34m.\u001b[0m\u001b[0m_expand_hint\u001b[0m\u001b[0;34m(\u001b[0m\u001b[0marg\u001b[0m\u001b[0;34m,\u001b[0m \u001b[0mhint\u001b[0m\u001b[0;34m,\u001b[0m \u001b[0;34m**\u001b[0m\u001b[0mhints\u001b[0m\u001b[0;34m)\u001b[0m\u001b[0;34m\u001b[0m\u001b[0m\n\u001b[0m\u001b[1;32m   2896\u001b[0m                 \u001b[0mhit\u001b[0m \u001b[0;34m|=\u001b[0m \u001b[0marghit\u001b[0m\u001b[0;34m\u001b[0m\u001b[0m\n\u001b[1;32m   2897\u001b[0m                 \u001b[0msargs\u001b[0m\u001b[0;34m.\u001b[0m\u001b[0mappend\u001b[0m\u001b[0;34m(\u001b[0m\u001b[0marg\u001b[0m\u001b[0;34m)\u001b[0m\u001b[0;34m\u001b[0m\u001b[0m\n",
      "\u001b[0;32m//anaconda/envs/py35/lib/python3.5/site-packages/sympy/core/expr.py\u001b[0m in \u001b[0;36m_expand_hint\u001b[0;34m(expr, hint, deep, **hints)\u001b[0m\n\u001b[1;32m   2893\u001b[0m             \u001b[0msargs\u001b[0m \u001b[0;34m=\u001b[0m \u001b[0;34m[\u001b[0m\u001b[0;34m]\u001b[0m\u001b[0;34m\u001b[0m\u001b[0m\n\u001b[1;32m   2894\u001b[0m             \u001b[0;32mfor\u001b[0m \u001b[0marg\u001b[0m \u001b[0;32min\u001b[0m \u001b[0mexpr\u001b[0m\u001b[0;34m.\u001b[0m\u001b[0margs\u001b[0m\u001b[0;34m:\u001b[0m\u001b[0;34m\u001b[0m\u001b[0m\n\u001b[0;32m-> 2895\u001b[0;31m                 \u001b[0marg\u001b[0m\u001b[0;34m,\u001b[0m \u001b[0marghit\u001b[0m \u001b[0;34m=\u001b[0m \u001b[0mExpr\u001b[0m\u001b[0;34m.\u001b[0m\u001b[0m_expand_hint\u001b[0m\u001b[0;34m(\u001b[0m\u001b[0marg\u001b[0m\u001b[0;34m,\u001b[0m \u001b[0mhint\u001b[0m\u001b[0;34m,\u001b[0m \u001b[0;34m**\u001b[0m\u001b[0mhints\u001b[0m\u001b[0;34m)\u001b[0m\u001b[0;34m\u001b[0m\u001b[0m\n\u001b[0m\u001b[1;32m   2896\u001b[0m                 \u001b[0mhit\u001b[0m \u001b[0;34m|=\u001b[0m \u001b[0marghit\u001b[0m\u001b[0;34m\u001b[0m\u001b[0m\n\u001b[1;32m   2897\u001b[0m                 \u001b[0msargs\u001b[0m\u001b[0;34m.\u001b[0m\u001b[0mappend\u001b[0m\u001b[0;34m(\u001b[0m\u001b[0marg\u001b[0m\u001b[0;34m)\u001b[0m\u001b[0;34m\u001b[0m\u001b[0m\n",
      "\u001b[0;32m//anaconda/envs/py35/lib/python3.5/site-packages/sympy/core/expr.py\u001b[0m in \u001b[0;36m_expand_hint\u001b[0;34m(expr, hint, deep, **hints)\u001b[0m\n\u001b[1;32m   2893\u001b[0m             \u001b[0msargs\u001b[0m \u001b[0;34m=\u001b[0m \u001b[0;34m[\u001b[0m\u001b[0;34m]\u001b[0m\u001b[0;34m\u001b[0m\u001b[0m\n\u001b[1;32m   2894\u001b[0m             \u001b[0;32mfor\u001b[0m \u001b[0marg\u001b[0m \u001b[0;32min\u001b[0m \u001b[0mexpr\u001b[0m\u001b[0;34m.\u001b[0m\u001b[0margs\u001b[0m\u001b[0;34m:\u001b[0m\u001b[0;34m\u001b[0m\u001b[0m\n\u001b[0;32m-> 2895\u001b[0;31m                 \u001b[0marg\u001b[0m\u001b[0;34m,\u001b[0m \u001b[0marghit\u001b[0m \u001b[0;34m=\u001b[0m \u001b[0mExpr\u001b[0m\u001b[0;34m.\u001b[0m\u001b[0m_expand_hint\u001b[0m\u001b[0;34m(\u001b[0m\u001b[0marg\u001b[0m\u001b[0;34m,\u001b[0m \u001b[0mhint\u001b[0m\u001b[0;34m,\u001b[0m \u001b[0;34m**\u001b[0m\u001b[0mhints\u001b[0m\u001b[0;34m)\u001b[0m\u001b[0;34m\u001b[0m\u001b[0m\n\u001b[0m\u001b[1;32m   2896\u001b[0m                 \u001b[0mhit\u001b[0m \u001b[0;34m|=\u001b[0m \u001b[0marghit\u001b[0m\u001b[0;34m\u001b[0m\u001b[0m\n\u001b[1;32m   2897\u001b[0m                 \u001b[0msargs\u001b[0m\u001b[0;34m.\u001b[0m\u001b[0mappend\u001b[0m\u001b[0;34m(\u001b[0m\u001b[0marg\u001b[0m\u001b[0;34m)\u001b[0m\u001b[0;34m\u001b[0m\u001b[0m\n",
      "\u001b[0;32m//anaconda/envs/py35/lib/python3.5/site-packages/sympy/core/expr.py\u001b[0m in \u001b[0;36m_expand_hint\u001b[0;34m(expr, hint, deep, **hints)\u001b[0m\n\u001b[1;32m   2893\u001b[0m             \u001b[0msargs\u001b[0m \u001b[0;34m=\u001b[0m \u001b[0;34m[\u001b[0m\u001b[0;34m]\u001b[0m\u001b[0;34m\u001b[0m\u001b[0m\n\u001b[1;32m   2894\u001b[0m             \u001b[0;32mfor\u001b[0m \u001b[0marg\u001b[0m \u001b[0;32min\u001b[0m \u001b[0mexpr\u001b[0m\u001b[0;34m.\u001b[0m\u001b[0margs\u001b[0m\u001b[0;34m:\u001b[0m\u001b[0;34m\u001b[0m\u001b[0m\n\u001b[0;32m-> 2895\u001b[0;31m                 \u001b[0marg\u001b[0m\u001b[0;34m,\u001b[0m \u001b[0marghit\u001b[0m \u001b[0;34m=\u001b[0m \u001b[0mExpr\u001b[0m\u001b[0;34m.\u001b[0m\u001b[0m_expand_hint\u001b[0m\u001b[0;34m(\u001b[0m\u001b[0marg\u001b[0m\u001b[0;34m,\u001b[0m \u001b[0mhint\u001b[0m\u001b[0;34m,\u001b[0m \u001b[0;34m**\u001b[0m\u001b[0mhints\u001b[0m\u001b[0;34m)\u001b[0m\u001b[0;34m\u001b[0m\u001b[0m\n\u001b[0m\u001b[1;32m   2896\u001b[0m                 \u001b[0mhit\u001b[0m \u001b[0;34m|=\u001b[0m \u001b[0marghit\u001b[0m\u001b[0;34m\u001b[0m\u001b[0m\n\u001b[1;32m   2897\u001b[0m                 \u001b[0msargs\u001b[0m\u001b[0;34m.\u001b[0m\u001b[0mappend\u001b[0m\u001b[0;34m(\u001b[0m\u001b[0marg\u001b[0m\u001b[0;34m)\u001b[0m\u001b[0;34m\u001b[0m\u001b[0m\n",
      "\u001b[0;32m//anaconda/envs/py35/lib/python3.5/site-packages/sympy/core/expr.py\u001b[0m in \u001b[0;36m_expand_hint\u001b[0;34m(expr, hint, deep, **hints)\u001b[0m\n\u001b[1;32m   2877\u001b[0m         \u001b[0;32mreturn\u001b[0m \u001b[0mreal\u001b[0m \u001b[0;34m+\u001b[0m \u001b[0mS\u001b[0m\u001b[0;34m.\u001b[0m\u001b[0mImaginaryUnit\u001b[0m\u001b[0;34m*\u001b[0m\u001b[0mimag\u001b[0m\u001b[0;34m\u001b[0m\u001b[0m\n\u001b[1;32m   2878\u001b[0m \u001b[0;34m\u001b[0m\u001b[0m\n\u001b[0;32m-> 2879\u001b[0;31m     \u001b[0;34m@\u001b[0m\u001b[0mstaticmethod\u001b[0m\u001b[0;34m\u001b[0m\u001b[0m\n\u001b[0m\u001b[1;32m   2880\u001b[0m     \u001b[0;32mdef\u001b[0m \u001b[0m_expand_hint\u001b[0m\u001b[0;34m(\u001b[0m\u001b[0mexpr\u001b[0m\u001b[0;34m,\u001b[0m \u001b[0mhint\u001b[0m\u001b[0;34m,\u001b[0m \u001b[0mdeep\u001b[0m\u001b[0;34m=\u001b[0m\u001b[0;32mTrue\u001b[0m\u001b[0;34m,\u001b[0m \u001b[0;34m**\u001b[0m\u001b[0mhints\u001b[0m\u001b[0;34m)\u001b[0m\u001b[0;34m:\u001b[0m\u001b[0;34m\u001b[0m\u001b[0m\n\u001b[1;32m   2881\u001b[0m         \"\"\"\n",
      "\u001b[0;31mKeyboardInterrupt\u001b[0m: "
     ]
    }
   ],
   "source": [
    "solve(m0-p1-m1**2/(2*p1)-p2-m2**2/(2*p2)-sqrt(p1**2+p2**2+2*p1*p2*(u)-m3**2), p2)"
   ]
  },
  {
   "cell_type": "code",
   "execution_count": null,
   "metadata": {
    "collapsed": true
   },
   "outputs": [],
   "source": []
  },
  {
   "cell_type": "code",
   "execution_count": null,
   "metadata": {
    "collapsed": true
   },
   "outputs": [],
   "source": []
  },
  {
   "cell_type": "code",
   "execution_count": null,
   "metadata": {
    "collapsed": true
   },
   "outputs": [],
   "source": []
  },
  {
   "cell_type": "code",
   "execution_count": null,
   "metadata": {
    "collapsed": true
   },
   "outputs": [],
   "source": []
  },
  {
   "cell_type": "code",
   "execution_count": 9,
   "metadata": {
    "collapsed": false
   },
   "outputs": [],
   "source": [
    "v1up = v1up.subs(SUBS)\n",
    "v1dn = v1dn.subs(SUBS)\n",
    "\n",
    "v3up = v3up.subs(SUBS)\n",
    "v3dn = v3dn.subs(SUBS)\n",
    "\n",
    "u2up = u2up.subs(SUBS)\n",
    "u2dn = u2dn.subs(SUBS)"
   ]
  },
  {
   "cell_type": "code",
   "execution_count": null,
   "metadata": {
    "collapsed": true
   },
   "outputs": [],
   "source": []
  },
  {
   "cell_type": "code",
   "execution_count": null,
   "metadata": {
    "collapsed": true
   },
   "outputs": [],
   "source": []
  },
  {
   "cell_type": "code",
   "execution_count": 16,
   "metadata": {
    "collapsed": true
   },
   "outputs": [],
   "source": [
    "Gf = 1#1.16636e-5\n",
    "rt2 = sqrt(2)\n",
    "def element(a,b,c,d):\n",
    "    return Gf/rt2*(a.T*Gamma0*Gamma0*TwoPL*b*c.T*Gamma0*CoGamma0*TwoPL*d + \\\n",
    "            a.T*Gamma0*Gamma1*TwoPL*b*c.T*Gamma0*CoGamma1*TwoPL*d + \\\n",
    "             a.T*Gamma0*Gamma2*TwoPL*b*c.T*Gamma0*CoGamma2*TwoPL*d + \\\n",
    "              a.T*Gamma0*Gamma3*TwoPL*b*c.T*Gamma0*CoGamma3*TwoPL*d)"
   ]
  },
  {
   "cell_type": "code",
   "execution_count": null,
   "metadata": {
    "collapsed": true
   },
   "outputs": [],
   "source": []
  },
  {
   "cell_type": "code",
   "execution_count": 11,
   "metadata": {
    "collapsed": false
   },
   "outputs": [],
   "source": [
    "tet1   = element(v0up, v1up, u2up, v3up)*conjugate(element(v0up, v1up, u2up, v3up))\n",
    "tet2   = element(v0up, v1dn, u2up, v3up)*conjugate(element(v0up, v1dn, u2up, v3up))\n",
    "tet3   = element(v0up, v1up, u2dn, v3up)*conjugate(element(v0up, v1up, u2dn, v3up))\n",
    "tet4   = element(v0up, v1up, u2up, v3dn)*conjugate(element(v0up, v1up, u2up, v3dn))\n",
    "tet5   = element(v0up, v1dn, u2dn, v3up)*conjugate(element(v0up, v1dn, u2dn, v3up))\n",
    "tet6   = element(v0up, v1dn, u2up, v3dn)*conjugate(element(v0up, v1dn, u2up, v3dn))\n",
    "tet7   = element(v0up, v1dn, u2dn, v3dn)*conjugate(element(v0up, v1dn, u2dn, v3dn))\n",
    "tet8   = element(v0up, v1up, u2dn, v3dn)*conjugate(element(v0up, v1up, u2dn, v3dn))"
   ]
  },
  {
   "cell_type": "code",
   "execution_count": 12,
   "metadata": {
    "collapsed": false
   },
   "outputs": [],
   "source": [
    "tet9   = element(v0dn, v1up, u2up, v3up)*conjugate(element(v0dn, v1up, u2up, v3up))\n",
    "tet10  = element(v0dn, v1dn, u2up, v3up)*conjugate(element(v0dn, v1dn, u2up, v3up))\n",
    "tet11  = element(v0dn, v1up, u2dn, v3up)*conjugate(element(v0dn, v1up, u2dn, v3up))\n",
    "tet12  = element(v0dn, v1up, u2up, v3dn)*conjugate(element(v0dn, v1up, u2up, v3dn))\n",
    "tet13  = element(v0dn, v1dn, u2dn, v3up)*conjugate(element(v0dn, v1dn, u2dn, v3up))\n",
    "tet14  = element(v0dn, v1dn, u2up, v3dn)*conjugate(element(v0dn, v1dn, u2up, v3dn))\n",
    "tet15  = element(v0dn, v1dn, u2dn, v3dn)*conjugate(element(v0dn, v1dn, u2dn, v3dn))\n",
    "tet16  = element(v0dn, v1up, u2dn, v3dn)*conjugate(element(v0dn, v1up, u2dn, v3dn))"
   ]
  },
  {
   "cell_type": "code",
   "execution_count": 17,
   "metadata": {
    "collapsed": true
   },
   "outputs": [],
   "source": [
    "tet1  = element(v0up, v1up, u2up, v3up)*conjugate(element(v0up, v1up, u2up, v3up))"
   ]
  },
  {
   "cell_type": "code",
   "execution_count": 18,
   "metadata": {
    "collapsed": false
   },
   "outputs": [],
   "source": [
    "PutIn=[(m0,50),(m3,0.778),(m1,0.023),(m2,0.56),(p1,0.01),(theta1,1.2),(theta2,1),(phi1,0.5),(phi2,2)]"
   ]
  },
  {
   "cell_type": "code",
   "execution_count": 19,
   "metadata": {
    "collapsed": false
   },
   "outputs": [
    {
     "data": {
      "image/png": "[encoded data removed]",
      "text/latex": [
       "$$\\left[\\begin{matrix}19.8443856139278 - 19.5344053521191 i\\end{matrix}\\right]$$"
      ],
      "text/plain": [
       "[19.8443856139278 - 19.5344053521191⋅ⅈ]"
      ]
     },
     "execution_count": 19,
     "metadata": {},
     "output_type": "execute_result"
    }
   ],
   "source": [
    "N(element(v0up, v1up, u2up, v3up).subs(PutIn))"
   ]
  },
  {
   "cell_type": "code",
   "execution_count": 20,
   "metadata": {
    "collapsed": false
   },
   "outputs": [
    {
     "data": {
      "image/png": "[encoded data removed]",
      "text/latex": [
       "$$\\left[\\begin{matrix}775.392632855162\\end{matrix}\\right]$$"
      ],
      "text/plain": [
       "[775.392632855162]"
      ]
     },
     "execution_count": 20,
     "metadata": {},
     "output_type": "execute_result"
    }
   ],
   "source": [
    "N(tet1.subs(PutIn))"
   ]
  },
  {
   "cell_type": "code",
   "execution_count": 15,
   "metadata": {
    "collapsed": false
   },
   "outputs": [
    {
     "data": {
      "image/png": "[encoded data removed]",
      "text/latex": [
       "$$\\left[\\begin{matrix}0.00371043227780692\\\\0.0018897072276601 i\\\\5.91117381206381\\\\3.01053544176648 i\\end{matrix}\\right]$$"
      ],
      "text/plain": [
       "⎡0.00371043227780692 ⎤\n",
       "⎢                    ⎥\n",
       "⎢0.0018897072276601⋅ⅈ⎥\n",
       "⎢                    ⎥\n",
       "⎢  5.91117381206381  ⎥\n",
       "⎢                    ⎥\n",
       "⎣ 3.01053544176648⋅ⅈ ⎦"
      ]
     },
     "execution_count": 15,
     "metadata": {},
     "output_type": "execute_result"
    }
   ],
   "source": [
    "N(v3dn.subs(PutIn))"
   ]
  },
  {
   "cell_type": "code",
   "execution_count": null,
   "metadata": {
    "collapsed": false
   },
   "outputs": [],
   "source": [
    "TT = C3simp.subs(SUBS)\n",
    "N(TT.subs(PutIn))"
   ]
  },
  {
   "cell_type": "code",
   "execution_count": null,
   "metadata": {
    "collapsed": false
   },
   "outputs": [],
   "source": [
    "TT = p3simp.subs(SUBS)\n",
    "N(TT.subs(PutIn))"
   ]
  },
  {
   "cell_type": "code",
   "execution_count": null,
   "metadata": {
    "collapsed": false
   },
   "outputs": [],
   "source": [
    "p3simp"
   ]
  },
  {
   "cell_type": "code",
   "execution_count": null,
   "metadata": {
    "collapsed": true
   },
   "outputs": [],
   "source": []
  },
  {
   "cell_type": "code",
   "execution_count": null,
   "metadata": {
    "collapsed": false
   },
   "outputs": [],
   "source": [
    "C3simp"
   ]
  },
  {
   "cell_type": "code",
   "execution_count": null,
   "metadata": {
    "collapsed": true
   },
   "outputs": [],
   "source": []
  },
  {
   "cell_type": "code",
   "execution_count": null,
   "metadata": {
    "collapsed": true
   },
   "outputs": [],
   "source": []
  },
  {
   "cell_type": "code",
   "execution_count": null,
   "metadata": {
    "collapsed": true
   },
   "outputs": [],
   "source": []
  },
  {
   "cell_type": "code",
   "execution_count": null,
   "metadata": {
    "collapsed": true
   },
   "outputs": [],
   "source": []
  },
  {
   "cell_type": "code",
   "execution_count": 21,
   "metadata": {
    "collapsed": true
   },
   "outputs": [],
   "source": [
    "'dtheta1 dtheta2 dhpi1 dphi2 dp1 ===> sub in the other stuff'\n",
    "dLIPS = 1/(64*(math.pi)**5*m0)*1/(E1*E2*E3)*p1**2*p2**2*p3**2*sin(theta1)*sin(theta2)"
   ]
  },
  {
   "cell_type": "code",
   "execution_count": 22,
   "metadata": {
    "collapsed": false
   },
   "outputs": [
    {
     "data": {
      "image/png": "[encoded data removed]",
      "text/latex": [
       "$$\\frac{5.10588069227092 \\cdot 10^{-5} p_{1}^{2} p_{2}^{2} p_{3}^{2}}{E_{1} E_{2} E_{3} m_{0}} \\sin{\\left (\\theta_{1} \\right )} \\sin{\\left (\\theta_{2} \\right )}$$"
      ],
      "text/plain": [
       "                      2   2   2                \n",
       "5.10588069227092e-5⋅p₁ ⋅p₂ ⋅p₃ ⋅sin(θ₁)⋅sin(θ₂)\n",
       "───────────────────────────────────────────────\n",
       "                  E₁⋅E₂⋅E₃⋅m₀                  "
      ]
     },
     "execution_count": 22,
     "metadata": {},
     "output_type": "execute_result"
    }
   ],
   "source": [
    "dLIPS"
   ]
  },
  {
   "cell_type": "code",
   "execution_count": 23,
   "metadata": {
    "collapsed": false
   },
   "outputs": [],
   "source": [
    "dLIPS = dLIPS.subs(SUBS)\n",
    "#dLIPS = dLIPS.subs(Masses)"
   ]
  },
  {
   "cell_type": "code",
   "execution_count": 24,
   "metadata": {
    "collapsed": false
   },
   "outputs": [
    {
     "data": {
      "image/png": "[encoded data removed]",
      "text/latex": [
       "$$3.14111847674562 \\cdot 10^{-18}$$"
      ],
      "text/plain": [
       "3.14111847674562e-18"
      ]
     },
     "execution_count": 24,
     "metadata": {},
     "output_type": "execute_result"
    }
   ],
   "source": [
    "N(dLIPS.subs(PutIn))"
   ]
  },
  {
   "cell_type": "code",
   "execution_count": 41,
   "metadata": {
    "collapsed": false
   },
   "outputs": [
    {
     "data": {
      "image/png": "[encoded data removed]",
      "text/latex": [
       "$$- \\frac{0.000486274351644849 p_{1}^{2} \\sin^{2}{\\left (\\theta_{1} \\right )} \\cos{\\left (\\phi_{1} \\right )}}{\\left(\\frac{p_{1} \\sin{\\left (\\theta_{1} \\right )} \\cos{\\left (\\phi_{1} \\right )}}{\\sin{\\left (\\theta_{2} \\right )} \\cos{\\left (\\phi_{2} \\right )}} - p_{1} + 0.105\\right) \\cos{\\left (\\phi_{2} \\right )}} \\left(- \\frac{2 p_{1}^{2} \\sin{\\left (\\theta_{1} \\right )} \\cos{\\left (\\phi_{1} \\right )}}{\\sin{\\left (\\theta_{2} \\right )} \\cos{\\left (\\phi_{2} \\right )}} \\left(\\sin{\\left (\\theta_{1} \\right )} \\sin{\\left (\\theta_{2} \\right )} \\cos{\\left (\\phi_{1} - \\phi_{2} \\right )} + \\cos{\\left (\\theta_{1} \\right )} \\cos{\\left (\\theta_{2} \\right )}\\right) + \\frac{p_{1}^{2} \\sin^{2}{\\left (\\theta_{1} \\right )} \\cos^{2}{\\left (\\phi_{1} \\right )}}{\\sin^{2}{\\left (\\theta_{2} \\right )} \\cos^{2}{\\left (\\phi_{2} \\right )}} + p_{1}^{2}\\right)$$"
      ],
      "text/plain": [
       "                          ⎛      2                                            \n",
       "                        2 ⎜  2⋅p₁ ⋅(sin(θ₁)⋅sin(θ₂)⋅cos(φ₁ - φ₂) + cos(θ₁)⋅cos\n",
       "-0.000486274351644849⋅p₁ ⋅⎜- ─────────────────────────────────────────────────\n",
       "                          ⎜                             sin(θ₂)⋅cos(φ₂)       \n",
       "                          ⎝                                                   \n",
       "──────────────────────────────────────────────────────────────────────────────\n",
       "                                                     ⎛p₁⋅sin(θ₁)⋅cos(φ₁)      \n",
       "                                                     ⎜────────────────── - p₁ \n",
       "                                                     ⎝ sin(θ₂)⋅cos(φ₂)        \n",
       "\n",
       "                          2    2        2          ⎞                  \n",
       "(θ₂))⋅sin(θ₁)⋅cos(φ₁)   p₁ ⋅sin (θ₁)⋅cos (φ₁)     2⎟    2             \n",
       "───────────────────── + ───────────────────── + p₁ ⎟⋅sin (θ₁)⋅cos(φ₁) \n",
       "                             2        2            ⎟                  \n",
       "                          sin (θ₂)⋅cos (φ₂)        ⎠                  \n",
       "──────────────────────────────────────────────────────────────────────\n",
       "       ⎞                                                              \n",
       "+ 0.105⎟⋅cos(φ₂)                                                      \n",
       "       ⎠                                                              "
      ]
     },
     "execution_count": 41,
     "metadata": {},
     "output_type": "execute_result"
    }
   ],
   "source": [
    "dLIPS"
   ]
  },
  {
   "cell_type": "code",
   "execution_count": 16,
   "metadata": {
    "collapsed": true
   },
   "outputs": [],
   "source": [
    "Masses = [(m0,105e-3),(m3,500e-6),(m1,0),(m2,0),(u,1.16636e-5)]\n",
    "#Masses = [(m0,105e-3),(m3,0),(m1,0),(m2,0)]"
   ]
  },
  {
   "cell_type": "code",
   "execution_count": 17,
   "metadata": {
    "collapsed": true
   },
   "outputs": [],
   "source": [
    "Matrix = tet1+tet2+tet3+tet4+tet5+tet6+tet7+tet8+tet9+tet10+tet11+tet12+tet13+tet14+tet15+tet16"
   ]
  },
  {
   "cell_type": "code",
   "execution_count": null,
   "metadata": {
    "collapsed": true
   },
   "outputs": [],
   "source": []
  },
  {
   "cell_type": "code",
   "execution_count": 18,
   "metadata": {
    "collapsed": false
   },
   "outputs": [],
   "source": [
    "ELEMENT = Matrix*dLIPS\n",
    "ELEMENT = ELEMENT.subs(Masses)"
   ]
  },
  {
   "cell_type": "code",
   "execution_count": null,
   "metadata": {
    "collapsed": true
   },
   "outputs": [],
   "source": []
  },
  {
   "cell_type": "code",
   "execution_count": null,
   "metadata": {
    "collapsed": true
   },
   "outputs": [],
   "source": []
  },
  {
   "cell_type": "code",
   "execution_count": 18,
   "metadata": {
    "collapsed": false
   },
   "outputs": [],
   "source": [
    "import itertools\n",
    "import math\n",
    "import random\n",
    "import numpy as np\n",
    "import time\n",
    "\n",
    "\n",
    "def integrate(integrand, sampler, measure=1.0, n=100):\n",
    "    # Sum elements and elements squared\n",
    "    total = 0.0\n",
    "    total_sq = 0.0\n",
    "    for x in itertools.islice(sampler, n):\n",
    "        f = integrand(x)\n",
    "        total += f\n",
    "        total_sq += (f**2)\n",
    "    # Return answer\n",
    "    sample_mean = total/n\n",
    "    sample_var = (total_sq - ((total/n)**2)/n)/(n-1.0)\n",
    "    #return (measure*sample_mean, measure*math.sqrt(sample_var/n))\n",
    "    return (measure*sample_mean)"
   ]
  },
  {
   "cell_type": "code",
   "execution_count": 19,
   "metadata": {
    "collapsed": true
   },
   "outputs": [],
   "source": [
    "Masses = [(m0,105e-3),(m3,500e-6),(m1,0),(m2,0),(u,1.16636e-5)]"
   ]
  },
  {
   "cell_type": "code",
   "execution_count": 20,
   "metadata": {
    "collapsed": true
   },
   "outputs": [],
   "source": [
    "tet1   = (element(v0up, v1up, u2up, v3up)*conjugate(element(v0up, v1up, u2up, v3up))).subs(Masses)\n",
    "tet2   = (element(v0up, v1dn, u2up, v3up)*conjugate(element(v0up, v1dn, u2up, v3up))).subs(Masses)\n",
    "tet3   = (element(v0up, v1up, u2dn, v3up)*conjugate(element(v0up, v1up, u2dn, v3up))).subs(Masses)\n",
    "tet4   = (element(v0up, v1up, u2up, v3dn)*conjugate(element(v0up, v1up, u2up, v3dn))).subs(Masses)\n",
    "tet5   = (element(v0up, v1dn, u2dn, v3up)*conjugate(element(v0up, v1dn, u2dn, v3up))).subs(Masses)\n",
    "tet6   = (element(v0up, v1dn, u2up, v3dn)*conjugate(element(v0up, v1dn, u2up, v3dn))).subs(Masses)\n",
    "tet7   = (element(v0up, v1dn, u2dn, v3dn)*conjugate(element(v0up, v1dn, u2dn, v3dn))).subs(Masses)\n",
    "tet8   = (element(v0up, v1up, u2dn, v3dn)*conjugate(element(v0up, v1up, u2dn, v3dn))).subs(Masses)\n",
    "tet9   = (element(v0dn, v1up, u2up, v3up)*conjugate(element(v0dn, v1up, u2up, v3up))).subs(Masses)\n",
    "tet10  = (element(v0dn, v1dn, u2up, v3up)*conjugate(element(v0dn, v1dn, u2up, v3up))).subs(Masses)\n",
    "tet11  = (element(v0dn, v1up, u2dn, v3up)*conjugate(element(v0dn, v1up, u2dn, v3up))).subs(Masses)\n",
    "tet12  = (element(v0dn, v1up, u2up, v3dn)*conjugate(element(v0dn, v1up, u2up, v3dn))).subs(Masses)\n",
    "tet13  = (element(v0dn, v1dn, u2dn, v3up)*conjugate(element(v0dn, v1dn, u2dn, v3up))).subs(Masses)\n",
    "tet14  = (element(v0dn, v1dn, u2up, v3dn)*conjugate(element(v0dn, v1dn, u2up, v3dn))).subs(Masses)\n",
    "tet15  = (element(v0dn, v1dn, u2dn, v3dn)*conjugate(element(v0dn, v1dn, u2dn, v3dn))).subs(Masses)\n",
    "tet16  = (element(v0dn, v1up, u2dn, v3dn)*conjugate(element(v0dn, v1up, u2dn, v3dn))).subs(Masses)"
   ]
  },
  {
   "cell_type": "code",
   "execution_count": null,
   "metadata": {
    "collapsed": false
   },
   "outputs": [],
   "source": []
  },
  {
   "cell_type": "code",
   "execution_count": null,
   "metadata": {
    "collapsed": true
   },
   "outputs": [],
   "source": []
  },
  {
   "cell_type": "code",
   "execution_count": 21,
   "metadata": {
    "collapsed": true
   },
   "outputs": [],
   "source": [
    "def integrand(x):\n",
    "    Momentum = x[0]\n",
    "    ThetaOne = x[1]\n",
    "    ThetaTwo = x[2]\n",
    "    PhiOne   = x[3]\n",
    "    PhiTwo   = x[4]\n",
    "    Values   = [(p1,Momentum),(theta1,ThetaOne),(theta2,ThetaTwo),(phi1,PhiOne),(phi2,PhiTwo)]\n",
    "    M1=tet1.subs(Values) ; M5=tet5.subs(Values) ;M9=tet9.subs(Values)   ;M13=tet13.subs(Values)\n",
    "    M2=tet2.subs(Values) ; M6=tet6.subs(Values) ;M10=tet10.subs(Values) ;M14=tet14.subs(Values)    \n",
    "    M3=tet3.subs(Values) ; M7=tet7.subs(Values) ;M11=tet11.subs(Values) ;M15=tet15.subs(Values)\n",
    "    M4=tet4.subs(Values) ; M8=tet8.subs(Values) ;M12=tet12.subs(Values) ;M16=tet16.subs(Values)\n",
    "    This     = M1+M2+M3+M4+M5+M6+M7+M8+M9+M10+M11+M12+M13+M14+M15+M16\n",
    "    return abs(This[0])\n",
    "    #return np.real(This)\n",
    "\n",
    "def sampler():\n",
    "    while True:\n",
    "        Momentum = random.uniform(0.,0.0525)#half m0\n",
    "        ThetaOne = random.uniform(0.,math.pi)\n",
    "        ThetaTwo = random.uniform(0.,math.pi)\n",
    "        PhiOne   = random.uniform(0.,2*math.pi)\n",
    "        PhiTwo   = random.uniform(0.,2*math.pi)\n",
    "        \n",
    "        yield (Momentum, ThetaOne, ThetaTwo, PhiOne, PhiTwo)\n",
    "\n",
    "domainsize = math.pow(math.pi,4)*4*0.0525\n"
   ]
  },
  {
   "cell_type": "code",
   "execution_count": 22,
   "metadata": {
    "collapsed": false
   },
   "outputs": [
    {
     "name": "stdout",
     "output_type": "stream",
     "text": [
      "0.204559091171405*Abs(6.801978248e-11*(-1.72207289145795e-6*sqrt(2) - 1.86132045423695e-6*sqrt(2)*I*(0.83574356076353 - 0.549119932840082*I))*(-1.72207289145795e-6*sqrt(2) + 1.86132045423695e-6*sqrt(2)*I*(0.83574356076353 + 0.549119932840082*I)) + 6.801978248e-11*(-7.14299878302451e-11*sqrt(2) + 5.8461187500149e-5*sqrt(2)*I*(0.83574356076353 - 0.549119932840082*I))*(-7.14299878302451e-11*sqrt(2) - 5.8461187500149e-5*sqrt(2)*I*(0.83574356076353 + 0.549119932840082*I)) + 6.801978248e-11*(-1.01785602647908e-10*sqrt(2)*(0.844081630145712 + 0.536214697346648*I) + 8.33054489013285e-5*sqrt(2)*I*(0.83574356076353 - 0.549119932840082*I)*(0.844081630145712 + 0.536214697346648*I))*(-8.33054489013285e-5*sqrt(2)*I*(0.83574356076353 + 0.549119932840082*I)*(0.844081630145712 - 0.536214697346648*I) - 1.01785602647908e-10*sqrt(2)*(0.844081630145712 - 0.536214697346648*I)) + 6.801978248e-11*(-2.45390251888653e-6*sqrt(2)*(0.844081630145712 - 0.536214697346648*I) + 2.65232614354675e-6*sqrt(2)*I*(0.83574356076353 + 0.549119932840082*I)*(0.844081630145712 - 0.536214697346648*I))*(-2.65232614354675e-6*sqrt(2)*I*(0.83574356076353 - 0.549119932840082*I)*(0.844081630145712 + 0.536214697346648*I) - 2.45390251888653e-6*sqrt(2)*(0.844081630145712 + 0.536214697346648*I))) + 0.204559091171405*Abs(6.801978248e-11*(-5.58285296961359e-7*sqrt(2) + 2.70411353059851e-7*sqrt(2)*I*(0.937360505273505 - 0.348360851924264*I))*(-5.58285296961359e-7*sqrt(2) - 2.70411353059851e-7*sqrt(2)*I*(0.937360505273505 + 0.348360851924264*I)) + 6.801978248e-11*(-1.8493863794357e-10*sqrt(2) - 0.000300803615813136*sqrt(2)*I*(0.937360505273505 - 0.348360851924264*I))*(-1.8493863794357e-10*sqrt(2) + 0.000300803615813136*sqrt(2)*I*(0.937360505273505 + 0.348360851924264*I)) + 6.801978248e-11*(-3.05598533434701e-10*sqrt(2)*(0.989719180167247 - 0.143024279089505*I) + 0.000497057536848512*sqrt(2)*I*(0.937360505273505 + 0.348360851924264*I)*(0.989719180167247 - 0.143024279089505*I))*(-0.000497057536848512*sqrt(2)*I*(0.937360505273505 - 0.348360851924264*I)*(0.989719180167247 + 0.143024279089505*I) - 3.05598533434701e-10*sqrt(2)*(0.989719180167247 + 0.143024279089505*I)) + 6.801978248e-11*(-9.22528520198176e-7*sqrt(2)*(0.989719180167247 + 0.143024279089505*I) + 4.46836387669291e-7*sqrt(2)*I*(0.937360505273505 - 0.348360851924264*I)*(0.989719180167247 + 0.143024279089505*I))*(-4.46836387669291e-7*sqrt(2)*I*(0.937360505273505 + 0.348360851924264*I)*(0.989719180167247 - 0.143024279089505*I) - 9.22528520198176e-7*sqrt(2)*(0.989719180167247 - 0.143024279089505*I))) + 0.204559091171405*Abs(6.801978248e-11*(-0.000628562798683262*sqrt(2)*(-0.878627831439574 + 0.477507208133858*I) + 0.000635987417303086*sqrt(2)*I*(-0.878627831439574 + 0.477507208133858*I)*(-0.0511759577480034 - 0.998689652168568*I))*(-0.000635987417303086*sqrt(2)*I*(-0.878627831439574 - 0.477507208133858*I)*(-0.0511759577480034 + 0.998689652168568*I) - 0.000628562798683262*sqrt(2)*(-0.878627831439574 - 0.477507208133858*I)) + 6.801978248e-11*(-0.000350747657543219*sqrt(2) - 0.000698531052837853*sqrt(2)*I*(-0.0511759577480034 - 0.998689652168568*I))*(-0.000350747657543219*sqrt(2) + 0.000698531052837853*sqrt(2)*I*(-0.0511759577480034 + 0.998689652168568*I)) + 6.801978248e-11*(-0.000593950391597529*sqrt(2) + 0.000600966166546261*sqrt(2)*I*(-0.0511759577480034 - 0.998689652168568*I))*(-0.000593950391597529*sqrt(2) - 0.000600966166546261*sqrt(2)*I*(-0.0511759577480034 + 0.998689652168568*I)) + 6.801978248e-11*(-0.00037118744658789*sqrt(2)*(-0.878627831439574 - 0.477507208133858*I) + 0.000739237888804101*sqrt(2)*I*(-0.878627831439574 - 0.477507208133858*I)*(-0.0511759577480034 + 0.998689652168568*I))*(-0.000739237888804101*sqrt(2)*I*(-0.878627831439574 + 0.477507208133858*I)*(-0.0511759577480034 - 0.998689652168568*I) - 0.00037118744658789*sqrt(2)*(-0.878627831439574 + 0.477507208133858*I))) + 0.204559091171405*Abs(6.801978248e-11*(-0.000306274826752325*sqrt(2) - 0.000340512086591905*sqrt(2)*I*(-0.420312450441501 - 0.907379437723746*I))*(-0.000306274826752325*sqrt(2) + 0.000340512086591905*sqrt(2)*I*(-0.420312450441501 + 0.907379437723746*I)) + 6.801978248e-11*(-0.000868514486880011*sqrt(2)*(-0.956288728659446 + 0.292424122532496*I) + 0.000965602309856061*sqrt(2)*I*(-0.956288728659446 + 0.292424122532496*I)*(-0.420312450441501 + 0.907379437723746*I))*(-0.000965602309856061*sqrt(2)*I*(-0.956288728659446 - 0.292424122532496*I)*(-0.420312450441501 - 0.907379437723746*I) - 0.000868514486880011*sqrt(2)*(-0.956288728659446 - 0.292424122532496*I)) + 6.801978248e-11*(-0.00023131820659342*sqrt(2)*(-0.956288728659446 - 0.292424122532496*I) + 0.00294691998152186*sqrt(2)*I*(-0.956288728659446 - 0.292424122532496*I)*(-0.420312450441501 - 0.907379437723746*I))*(-0.00294691998152186*sqrt(2)*I*(-0.956288728659446 + 0.292424122532496*I)*(-0.420312450441501 + 0.907379437723746*I) - 0.00023131820659342*sqrt(2)*(-0.956288728659446 + 0.292424122532496*I)) + 6.801978248e-11*(-8.15725525817811e-5*sqrt(2) + 0.00103920823478246*sqrt(2)*I*(-0.420312450441501 - 0.907379437723746*I))*(-8.15725525817811e-5*sqrt(2) - 0.00103920823478246*sqrt(2)*I*(-0.420312450441501 + 0.907379437723746*I))) + 0.204559091171405*Abs(6.801978248e-11*(-7.93066056779559e-6*sqrt(2)*(-0.916869012105846 - 0.39918819451488*I) + 0.000965557435866126*sqrt(2)*I*(-0.916869012105846 - 0.39918819451488*I)*(-0.419430286076342 - 0.907787549552161*I))*(-0.000965557435866126*sqrt(2)*I*(-0.916869012105846 + 0.39918819451488*I)*(-0.419430286076342 + 0.907787549552161*I) - 7.93066056779559e-6*sqrt(2)*(-0.916869012105846 + 0.39918819451488*I)) + 6.801978248e-11*(-0.00101865252806817*sqrt(2)*(-0.916869012105846 + 0.39918819451488*I) + 0.000698271442123187*sqrt(2)*I*(-0.916869012105846 + 0.39918819451488*I)*(-0.419430286076342 + 0.907787549552161*I))*(-0.000698271442123187*sqrt(2)*I*(-0.916869012105846 - 0.39918819451488*I)*(-0.419430286076342 - 0.907787549552161*I) - 0.00101865252806817*sqrt(2)*(-0.916869012105846 - 0.39918819451488*I)) + 6.801978248e-11*(-1.44707584078509e-5*sqrt(2) + 0.00176181394524195*sqrt(2)*I*(-0.419430286076342 - 0.907787549552161*I))*(-1.44707584078509e-5*sqrt(2) - 0.00176181394524195*sqrt(2)*I*(-0.419430286076342 + 0.907787549552161*I)) + 6.801978248e-11*(-0.00185869443146757*sqrt(2) - 0.00127410790761847*sqrt(2)*I*(-0.419430286076342 - 0.907787549552161*I))*(-0.00185869443146757*sqrt(2) + 0.00127410790761847*sqrt(2)*I*(-0.419430286076342 + 0.907787549552161*I))) + 0.204559091171405*Abs(6.801978248e-11*(-0.000134270590931387*sqrt(2) + 0.000170198583982908*sqrt(2)*I*(-0.141961289916761 - 0.989872210017621*I))*(-0.000134270590931387*sqrt(2) - 0.000170198583982908*sqrt(2)*I*(-0.141961289916761 + 0.989872210017621*I)) + 6.801978248e-11*(-0.000684726558659693*sqrt(2)*(-0.720297568440234 + 0.693665202312388*I) + 0.000867945019761785*sqrt(2)*I*(-0.720297568440234 + 0.693665202312388*I)*(-0.141961289916761 - 0.989872210017621*I))*(-0.000867945019761785*sqrt(2)*I*(-0.720297568440234 - 0.693665202312388*I)*(-0.141961289916761 + 0.989872210017621*I) - 0.000684726558659693*sqrt(2)*(-0.720297568440234 - 0.693665202312388*I)) + 6.801978248e-11*(-1.43810144695781e-5*sqrt(2) - 0.000766624465550162*sqrt(2)*I*(-0.141961289916761 - 0.989872210017621*I))*(-1.43810144695781e-5*sqrt(2) + 0.000766624465550162*sqrt(2)*I*(-0.141961289916761 + 0.989872210017621*I)) + 6.801978248e-11*(-7.33374485021918e-5*sqrt(2)*(-0.720297568440234 - 0.693665202312388*I) + 0.00390947956986895*sqrt(2)*I*(-0.720297568440234 - 0.693665202312388*I)*(-0.141961289916761 + 0.989872210017621*I))*(-0.00390947956986895*sqrt(2)*I*(-0.720297568440234 + 0.693665202312388*I)*(-0.141961289916761 - 0.989872210017621*I) - 7.33374485021918e-5*sqrt(2)*(-0.720297568440234 + 0.693665202312388*I))) + 0.204559091171405*Abs(6.801978248e-11*(-0.000109734309137338*sqrt(2)*(0.99987931344042 - 0.0155357186481291*I) + 0.000898544559209635*sqrt(2)*I*(0.614698265304167 - 0.788762348639974*I)*(0.99987931344042 - 0.0155357186481291*I))*(-0.000898544559209635*sqrt(2)*I*(0.614698265304167 + 0.788762348639974*I)*(0.99987931344042 + 0.0155357186481291*I) - 0.000109734309137338*sqrt(2)*(0.99987931344042 + 0.0155357186481291*I)) + 6.801978248e-11*(-0.000783335653802122*sqrt(2)*(0.99987931344042 + 0.0155357186481291*I) + 0.00020719402854898*sqrt(2)*I*(0.614698265304167 + 0.788762348639974*I)*(0.99987931344042 + 0.0155357186481291*I))*(-0.00020719402854898*sqrt(2)*I*(0.614698265304167 - 0.788762348639974*I)*(0.99987931344042 - 0.0155357186481291*I) - 0.000783335653802122*sqrt(2)*(0.99987931344042 - 0.0155357186481291*I)) + 6.801978248e-11*(-0.000626684307251772*sqrt(2) + 0.00513151975029421*sqrt(2)*I*(0.614698265304167 - 0.788762348639974*I))*(-0.000626684307251772*sqrt(2) - 0.00513151975029421*sqrt(2)*I*(0.614698265304167 + 0.788762348639974*I)) + 6.801978248e-11*(-0.00447357043943482*sqrt(2) - 0.00118326936460149*sqrt(2)*I*(0.614698265304167 - 0.788762348639974*I))*(-0.00447357043943482*sqrt(2) + 0.00118326936460149*sqrt(2)*I*(0.614698265304167 + 0.788762348639974*I))) + 0.204559091171405*Abs(6.801978248e-11*(-0.00184789176537501*sqrt(2)*(-0.897310099799644 + 0.441400707744735*I) + 0.00161816547623105*sqrt(2)*I*(-0.907555532646894 - 0.419932083987414*I)*(-0.897310099799644 + 0.441400707744735*I))*(-0.00161816547623105*sqrt(2)*I*(-0.907555532646894 + 0.419932083987414*I)*(-0.897310099799644 - 0.441400707744735*I) - 0.00184789176537501*sqrt(2)*(-0.897310099799644 - 0.441400707744735*I)) + 6.801978248e-11*(-0.00251213181912356*sqrt(2)*(-0.897310099799644 - 0.441400707744735*I) + 0.00154140400703407*sqrt(2)*I*(-0.907555532646894 + 0.419932083987414*I)*(-0.897310099799644 - 0.441400707744735*I))*(-0.00154140400703407*sqrt(2)*I*(-0.907555532646894 - 0.419932083987414*I)*(-0.897310099799644 + 0.441400707744735*I) - 0.00251213181912356*sqrt(2)*(-0.897310099799644 + 0.441400707744735*I)) + 6.801978248e-11*(-0.00393927561694032*sqrt(2) - 0.00241707667350109*sqrt(2)*I*(-0.907555532646894 - 0.419932083987414*I))*(-0.00393927561694032*sqrt(2) + 0.00241707667350109*sqrt(2)*I*(-0.907555532646894 + 0.419932083987414*I)) + 6.801978248e-11*(-0.00289768033614822*sqrt(2) + 0.00253744638564211*sqrt(2)*I*(-0.907555532646894 - 0.419932083987414*I))*(-0.00289768033614822*sqrt(2) - 0.00253744638564211*sqrt(2)*I*(-0.907555532646894 + 0.419932083987414*I))) + 0.204559091171405*Abs(6.801978248e-11*(-0.00200194257039013*sqrt(2)*(0.964260450191423 + 0.264956192976563*I) + 0.000162215234617116*sqrt(2)*I*(0.162477033353071 - 0.986712325671867*I)*(0.964260450191423 + 0.264956192976563*I))*(-0.000162215234617116*sqrt(2)*I*(0.162477033353071 + 0.986712325671867*I)*(0.964260450191423 - 0.264956192976563*I) - 0.00200194257039013*sqrt(2)*(0.964260450191423 - 0.264956192976563*I)) + 6.801978248e-11*(-0.00176599037060321*sqrt(2) - 0.00194143419314399*sqrt(2)*I*(0.162477033353071 - 0.986712325671867*I))*(-0.00176599037060321*sqrt(2) + 0.00194143419314399*sqrt(2)*I*(0.162477033353071 + 0.986712325671867*I)) + 6.801978248e-11*(-0.00546343627850809*sqrt(2)*(0.964260450191423 - 0.264956192976563*I) + 0.00600620602451867*sqrt(2)*I*(0.162477033353071 + 0.986712325671867*I)*(0.964260450191423 - 0.264956192976563*I))*(-0.00600620602451867*sqrt(2)*I*(0.162477033353071 - 0.986712325671867*I)*(0.964260450191423 + 0.264956192976563*I) - 0.00546343627850809*sqrt(2)*(0.964260450191423 + 0.264956192976563*I)) + 6.801978248e-11*(-0.000647103969294401*sqrt(2) + 5.24341326036649e-5*sqrt(2)*I*(0.162477033353071 - 0.986712325671867*I))*(-0.000647103969294401*sqrt(2) - 5.24341326036649e-5*sqrt(2)*I*(0.162477033353071 + 0.986712325671867*I))) + 0.204559091171405*Abs(6.801978248e-11*(-0.00213807375263186*sqrt(2) + 0.00107769731999812*sqrt(2)*I*(-0.528707490640542 - 0.848804093616767*I))*(-0.00213807375263186*sqrt(2) - 0.00107769731999812*sqrt(2)*I*(-0.528707490640542 + 0.848804093616767*I)) + 6.801978248e-11*(-0.0072769274925038*sqrt(2)*(-0.899595785950415 + 0.43672350738225*I) + 0.0036679395398959*sqrt(2)*I*(-0.899595785950415 + 0.43672350738225*I)*(-0.528707490640542 - 0.848804093616767*I))*(-0.0036679395398959*sqrt(2)*I*(-0.899595785950415 - 0.43672350738225*I)*(-0.528707490640542 + 0.848804093616767*I) - 0.0072769274925038*sqrt(2)*(-0.899595785950415 - 0.43672350738225*I)) + 6.801978248e-11*(-0.0016800090552026*sqrt(2) - 0.00361101978519132*sqrt(2)*I*(-0.528707490640542 - 0.848804093616767*I))*(-0.0016800090552026*sqrt(2) + 0.00361101978519132*sqrt(2)*I*(-0.528707490640542 + 0.848804093616767*I)) + 6.801978248e-11*(-0.0057179056926406*sqrt(2)*(-0.899595785950415 - 0.43672350738225*I) + 0.0122900948194552*sqrt(2)*I*(-0.899595785950415 - 0.43672350738225*I)*(-0.528707490640542 + 0.848804093616767*I))*(-0.0122900948194552*sqrt(2)*I*(-0.899595785950415 + 0.43672350738225*I)*(-0.528707490640542 - 0.848804093616767*I) - 0.0057179056926406*sqrt(2)*(-0.899595785950415 + 0.43672350738225*I))) + 0.204559091171405*Abs(6.801978248e-11*(-0.00846423455609796*sqrt(2)*(-0.773914638119368 + 0.633289927998676*I) + 0.00413624563548532*sqrt(2)*I*(-0.777553650071868 - 0.628816603836059*I)*(-0.773914638119368 + 0.633289927998676*I))*(-0.00413624563548532*sqrt(2)*I*(-0.777553650071868 + 0.628816603836059*I)*(-0.773914638119368 - 0.633289927998676*I) - 0.00846423455609796*sqrt(2)*(-0.773914638119368 - 0.633289927998676*I)) + 6.801978248e-11*(-0.00798315375289695*sqrt(2) - 0.00631132891438912*sqrt(2)*I*(-0.777553650071868 - 0.628816603836059*I))*(-0.00798315375289695*sqrt(2) + 0.00631132891438912*sqrt(2)*I*(-0.777553650071868 + 0.628816603836059*I)) + 6.801978248e-11*(-0.0175716261748667*sqrt(2) + 0.00858678497062797*sqrt(2)*I*(-0.777553650071868 - 0.628816603836059*I))*(-0.0175716261748667*sqrt(2) - 0.00858678497062797*sqrt(2)*I*(-0.777553650071868 + 0.628816603836059*I)) + 6.801978248e-11*(-0.00384547708843039*sqrt(2)*(-0.773914638119368 - 0.633289927998676*I) + 0.00304016075464216*sqrt(2)*I*(-0.777553650071868 + 0.628816603836059*I)*(-0.773914638119368 - 0.633289927998676*I))*(-0.00304016075464216*sqrt(2)*I*(-0.777553650071868 - 0.628816603836059*I)*(-0.773914638119368 + 0.633289927998676*I) - 0.00384547708843039*sqrt(2)*(-0.773914638119368 + 0.633289927998676*I))) + 0.204559091171405*Abs(6.801978248e-11*(-0.00128767222057628*sqrt(2) + 0.00503622545437905*sqrt(2)*I*(-0.203773862284268 - 0.979017984027746*I))*(-0.00128767222057628*sqrt(2) - 0.00503622545437905*sqrt(2)*I*(-0.203773862284268 + 0.979017984027746*I)) + 6.801978248e-11*(-0.0106945693089611*sqrt(2) - 0.00913025455276873*sqrt(2)*I*(-0.203773862284268 - 0.979017984027746*I))*(-0.0106945693089611*sqrt(2) + 0.00913025455276873*sqrt(2)*I*(-0.203773862284268 + 0.979017984027746*I)) + 6.801978248e-11*(-0.000463507794363661*sqrt(2)*(-0.777831447663581 + 0.628472942158672*I) + 0.00181282916178208*sqrt(2)*I*(-0.777831447663581 + 0.628472942158672*I)*(-0.203773862284268 - 0.979017984027746*I))*(-0.00181282916178208*sqrt(2)*I*(-0.777831447663581 - 0.628472942158672*I)*(-0.203773862284268 + 0.979017984027746*I) - 0.000463507794363661*sqrt(2)*(-0.777831447663581 - 0.628472942158672*I)) + 6.801978248e-11*(-0.00384959475933048*sqrt(2)*(-0.777831447663581 - 0.628472942158672*I) + 0.00328650729751603*sqrt(2)*I*(-0.777831447663581 - 0.628472942158672*I)*(-0.203773862284268 + 0.979017984027746*I))*(-0.00328650729751603*sqrt(2)*I*(-0.777831447663581 + 0.628472942158672*I)*(-0.203773862284268 - 0.979017984027746*I) - 0.00384959475933048*sqrt(2)*(-0.777831447663581 + 0.628472942158672*I))) + 0.204559091171405*Abs(6.801978248e-11*(-0.000187067914458107*sqrt(2) + 0.00563735858338647*sqrt(2)*I*(0.94898898487395 - 0.315309223759644*I))*(-0.000187067914458107*sqrt(2) - 0.00563735858338647*sqrt(2)*I*(0.94898898487395 + 0.315309223759644*I)) + 6.801978248e-11*(-0.0120515249237247*sqrt(2)*(0.913387789251332 + 0.407090587519*I) + 0.000372476688647094*sqrt(2)*I*(0.913387789251332 + 0.407090587519*I)*(0.94898898487395 + 0.315309223759644*I))*(-0.000372476688647094*sqrt(2)*I*(0.913387789251332 - 0.407090587519*I)*(0.94898898487395 - 0.315309223759644*I) - 0.0120515249237247*sqrt(2)*(0.913387789251332 - 0.407090587519*I)) + 6.801978248e-11*(-0.000645970451586476*sqrt(2)*(0.913387789251332 - 0.407090587519*I) + 0.0194665508535435*sqrt(2)*I*(0.913387789251332 - 0.407090587519*I)*(0.94898898487395 - 0.315309223759644*I))*(-0.0194665508535435*sqrt(2)*I*(0.913387789251332 + 0.407090587519*I)*(0.94898898487395 + 0.315309223759644*I) - 0.000645970451586476*sqrt(2)*(0.913387789251332 + 0.407090587519*I)) + 6.801978248e-11*(-0.00349002594156472*sqrt(2) - 0.000107866291961724*sqrt(2)*I*(0.94898898487395 - 0.315309223759644*I))*(-0.00349002594156472*sqrt(2) + 0.000107866291961724*sqrt(2)*I*(0.94898898487395 + 0.315309223759644*I))) + 0.204559091171405*Abs(6.801978248e-11*(-0.00380753595470578*sqrt(2) - 0.000162144507654483*sqrt(2)*I*(0.710449916530253 - 0.703747764545051*I))*(-0.00380753595470578*sqrt(2) + 0.000162144507654483*sqrt(2)*I*(0.710449916530253 + 0.703747764545051*I)) + 6.801978248e-11*(-0.00150249691598853*sqrt(2)*(0.804368023151412 - 0.594131368748941*I) + 0.0246044636247649*sqrt(2)*I*(0.710449916530253 - 0.703747764545051*I)*(0.804368023151412 - 0.594131368748941*I))*(-0.0246044636247649*sqrt(2)*I*(0.710449916530253 + 0.703747764545051*I)*(0.804368023151412 + 0.594131368748941*I) - 0.00150249691598853*sqrt(2)*(0.804368023151412 + 0.594131368748941*I)) + 6.801978248e-11*(-0.000393805125499327*sqrt(2) + 0.00644884111407264*sqrt(2)*I*(0.710449916530253 - 0.703747764545051*I))*(-0.000393805125499327*sqrt(2) - 0.00644884111407264*sqrt(2)*I*(0.710449916530253 + 0.703747764545051*I)) + 6.801978248e-11*(-0.014527010084511*sqrt(2)*(0.804368023151412 + 0.594131368748941*I) + 0.00061863497176792*sqrt(2)*I*(0.710449916530253 + 0.703747764545051*I)*(0.804368023151412 + 0.594131368748941*I))*(-0.00061863497176792*sqrt(2)*I*(0.710449916530253 - 0.703747764545051*I)*(0.804368023151412 - 0.594131368748941*I) - 0.014527010084511*sqrt(2)*(0.804368023151412 - 0.594131368748941*I))) + 0.204559091171405*Abs(6.801978248e-11*(-0.00218095793660865*sqrt(2)*(0.999860071589501 - 0.0167283364695446*I) - 9.91652896591709e-5*sqrt(2)*I*(-0.960727486742992 - 0.277493596712597*I)*(0.999860071589501 - 0.0167283364695446*I))*(9.91652896591709e-5*sqrt(2)*I*(-0.960727486742992 + 0.277493596712597*I)*(0.999860071589501 + 0.0167283364695446*I) - 0.00218095793660865*sqrt(2)*(0.999860071589501 + 0.0167283364695446*I)) + 6.801978248e-11*(0.000269408113922906*sqrt(2) - 0.036824658296748*sqrt(2)*I*(-0.960727486742992 - 0.277493596712597*I))*(0.000269408113922906*sqrt(2) + 0.036824658296748*sqrt(2)*I*(-0.960727486742992 + 0.277493596712597*I)) + 6.801978248e-11*(-0.0413852532933123*sqrt(2) - 0.00188173305021695*sqrt(2)*I*(-0.960727486742992 - 0.277493596712597*I))*(-0.0413852532933123*sqrt(2) + 0.00188173305021695*sqrt(2)*I*(-0.960727486742992 + 0.277493596712597*I)) + 6.801978248e-11*(1.41975152376771e-5*sqrt(2)*(0.999860071589501 - 0.0167283364695446*I) - 0.00194061952952146*sqrt(2)*I*(-0.960727486742992 - 0.277493596712597*I)*(0.999860071589501 - 0.0167283364695446*I))*(0.00194061952952146*sqrt(2)*I*(-0.960727486742992 + 0.277493596712597*I)*(0.999860071589501 + 0.0167283364695446*I) + 1.41975152376771e-5*sqrt(2)*(0.999860071589501 + 0.0167283364695446*I))) + 0.204559091171405*Abs(6.801978248e-11*(-2.16216087685638e-5*sqrt(2) + 0.000287881303985181*sqrt(2)*I*(-0.494337021621839 - 0.869270331401026*I))*(-2.16216087685638e-5*sqrt(2) - 0.000287881303985181*sqrt(2)*I*(-0.494337021621839 + 0.869270331401026*I)) + 6.801978248e-11*(-0.00152071882279458*sqrt(2)*(0.909125494526842 - 0.416522310568504*I) - 0.0202476384799555*sqrt(2)*I*(-0.494337021621839 + 0.869270331401026*I)*(0.909125494526842 - 0.416522310568504*I))*(0.0202476384799555*sqrt(2)*I*(-0.494337021621839 - 0.869270331401026*I)*(0.909125494526842 + 0.416522310568504*I) - 0.00152071882279458*sqrt(2)*(0.909125494526842 + 0.416522310568504*I)) + 6.801978248e-11*(0.000759508133742309*sqrt(2) + 3.51672977999445e-6*sqrt(2)*I*(-0.494337021621839 - 0.869270331401026*I))*(0.000759508133742309*sqrt(2) - 3.51672977999445e-6*sqrt(2)*I*(-0.494337021621839 + 0.869270331401026*I)) + 6.801978248e-11*(0.0534187038259058*sqrt(2)*(0.909125494526842 - 0.416522310568504*I) - 0.000247343166198408*sqrt(2)*I*(-0.494337021621839 + 0.869270331401026*I)*(0.909125494526842 - 0.416522310568504*I))*(0.000247343166198408*sqrt(2)*I*(-0.494337021621839 - 0.869270331401026*I)*(0.909125494526842 + 0.416522310568504*I) + 0.0534187038259058*sqrt(2)*(0.909125494526842 + 0.416522310568504*I))) + 0.204559091171405*Abs(6.801978248e-11*(-0.00155591576867616*sqrt(2) + 0.000686421847026194*sqrt(2)*I*(-0.719124950223053 - 0.694880785434949*I))*(-0.00155591576867616*sqrt(2) - 0.000686421847026194*sqrt(2)*I*(-0.719124950223053 + 0.694880785434949*I)) + 6.801978248e-11*(-0.010375417039559*sqrt(2)*(-0.423535934102123 + 0.905879303508057*I) + 0.00457731264849943*sqrt(2)*I*(-0.719124950223053 - 0.694880785434949*I)*(-0.423535934102123 + 0.905879303508057*I))*(-0.00457731264849943*sqrt(2)*I*(-0.719124950223053 + 0.694880785434949*I)*(-0.423535934102123 - 0.905879303508057*I) - 0.010375417039559*sqrt(2)*(-0.423535934102123 - 0.905879303508057*I)) + 6.801978248e-11*(-0.000935788356800636*sqrt(2) - 0.00840359169487857*sqrt(2)*I*(-0.719124950223053 - 0.694880785434949*I))*(-0.000935788356800636*sqrt(2) + 0.00840359169487857*sqrt(2)*I*(-0.719124950223053 + 0.694880785434949*I)) + 6.801978248e-11*(-0.00624018000076649*sqrt(2)*(-0.423535934102123 - 0.905879303508057*I) + 0.056038231773128*sqrt(2)*I*(-0.719124950223053 + 0.694880785434949*I)*(-0.423535934102123 - 0.905879303508057*I))*(-0.056038231773128*sqrt(2)*I*(-0.719124950223053 - 0.694880785434949*I)*(-0.423535934102123 + 0.905879303508057*I) - 0.00624018000076649*sqrt(2)*(-0.423535934102123 + 0.905879303508057*I))) + 0.204559091171405*Abs(6.801978248e-11*(-0.0031231960512128*sqrt(2) - 0.0141346548123825*sqrt(2)*I*(0.781448529241174 - 0.623969707715692*I))*(-0.0031231960512128*sqrt(2) + 0.0141346548123825*sqrt(2)*I*(0.781448529241174 + 0.623969707715692*I)) + 6.801978248e-11*(-0.0221949072388306*sqrt(2)*(0.508683276059705 + 0.860953729684218*I) + 0.00872450629007835*sqrt(2)*I*(0.508683276059705 + 0.860953729684218*I)*(0.781448529241174 - 0.623969707715692*I))*(-0.00872450629007835*sqrt(2)*I*(0.508683276059705 - 0.860953729684218*I)*(0.781448529241174 + 0.623969707715692*I) - 0.0221949072388306*sqrt(2)*(0.508683276059705 - 0.860953729684218*I)) + 6.801978248e-11*(-0.00082006747060507*sqrt(2)*(0.508683276059705 - 0.860953729684218*I) + 0.00371138104358359*sqrt(2)*I*(0.508683276059705 - 0.860953729684218*I)*(0.781448529241174 + 0.623969707715692*I))*(-0.00371138104358359*sqrt(2)*I*(0.508683276059705 + 0.860953729684218*I)*(0.781448529241174 - 0.623969707715692*I) - 0.00082006747060507*sqrt(2)*(0.508683276059705 + 0.860953729684218*I)) + 6.801978248e-11*(-0.0845284676323088*sqrt(2) + 0.0332269533552517*sqrt(2)*I*(0.781448529241174 - 0.623969707715692*I))*(-0.0845284676323088*sqrt(2) - 0.0332269533552517*sqrt(2)*I*(0.781448529241174 + 0.623969707715692*I))) + 0.204559091171405*Abs(6.801978248e-11*(-1.72159936415436e-5*sqrt(2)*(-0.984438668715071 - 0.17572850519622*I) + 7.84195454300314e-5*sqrt(2)*I*(-0.984438668715071 - 0.17572850519622*I)*(-0.75461260152521 + 0.65617057357013*I))*(-7.84195454300314e-5*sqrt(2)*I*(-0.984438668715071 + 0.17572850519622*I)*(-0.75461260152521 - 0.65617057357013*I) - 1.72159936415436e-5*sqrt(2)*(-0.984438668715071 + 0.17572850519622*I)) + 6.801978248e-11*(-0.00155159798034081*sqrt(2)*(-0.984438668715071 + 0.17572850519622*I) + 5.41478088810517e-6*sqrt(2)*I*(-0.984438668715071 + 0.17572850519622*I)*(-0.75461260152521 - 0.65617057357013*I))*(-5.41478088810517e-6*sqrt(2)*I*(-0.984438668715071 - 0.17572850519622*I)*(-0.75461260152521 + 0.65617057357013*I) - 0.00155159798034081*sqrt(2)*(-0.984438668715071 - 0.17572850519622*I)) + 6.801978248e-11*(-0.0736234146851554*sqrt(2) + 0.000256931669031083*sqrt(2)*I*(-0.75461260152521 - 0.65617057357013*I))*(-0.0736234146851554*sqrt(2) - 0.000256931669031083*sqrt(2)*I*(-0.75461260152521 + 0.65617057357013*I)) + 6.801978248e-11*(-0.000816899902647433*sqrt(2) - 0.00372101200553795*sqrt(2)*I*(-0.75461260152521 - 0.65617057357013*I))*(-0.000816899902647433*sqrt(2) + 0.00372101200553795*sqrt(2)*I*(-0.75461260152521 + 0.65617057357013*I))) + 0.204559091171405*Abs(6.801978248e-11*(0.0071543500308079*sqrt(2) - 0.00170505634341742*sqrt(2)*I*(0.632187013081609 - 0.774815836499845*I))*(0.0071543500308079*sqrt(2) + 0.00170505634341742*sqrt(2)*I*(0.632187013081609 + 0.774815836499845*I)) + 6.801978248e-11*(-0.00491045931099388*sqrt(2) - 0.0120816403316446*sqrt(2)*I*(0.632187013081609 - 0.774815836499845*I))*(-0.00491045931099388*sqrt(2) + 0.0120816403316446*sqrt(2)*I*(0.632187013081609 + 0.774815836499845*I)) + 6.801978248e-11*(0.0390280096979062*sqrt(2)*(-0.864461658781314 - 0.502698757206598*I) - 0.00930132789419267*sqrt(2)*I*(-0.864461658781314 - 0.502698757206598*I)*(0.632187013081609 - 0.774815836499845*I))*(0.00930132789419267*sqrt(2)*I*(-0.864461658781314 + 0.502698757206598*I)*(0.632187013081609 + 0.774815836499845*I) + 0.0390280096979062*sqrt(2)*(-0.864461658781314 + 0.502698757206598*I)) + 6.801978248e-11*(-0.0267872626842947*sqrt(2)*(-0.864461658781314 - 0.502698757206598*I) - 0.0659070878555818*sqrt(2)*I*(-0.864461658781314 - 0.502698757206598*I)*(0.632187013081609 - 0.774815836499845*I))*(0.0659070878555818*sqrt(2)*I*(-0.864461658781314 + 0.502698757206598*I)*(0.632187013081609 + 0.774815836499845*I) - 0.0267872626842947*sqrt(2)*(-0.864461658781314 + 0.502698757206598*I))) + 0.204559091171405*Abs(6.801978248e-11*(8.62531804513142e-5*sqrt(2) + 0.0213490502330268*sqrt(2)*I*(0.904237715968873 - 0.427029452168578*I))*(8.62531804513142e-5*sqrt(2) - 0.0213490502330268*sqrt(2)*I*(0.904237715968873 + 0.427029452168578*I)) + 6.801978248e-11*(-0.00190899931527398*sqrt(2)*(-0.968939384816668 + 0.2472983391596*I) - 0.000106343431490633*sqrt(2)*I*(-0.968939384816668 + 0.2472983391596*I)*(0.904237715968873 + 0.427029452168578*I))*(0.000106343431490633*sqrt(2)*I*(-0.968939384816668 - 0.2472983391596*I)*(0.904237715968873 - 0.427029452168578*I) - 0.00190899931527398*sqrt(2)*(-0.968939384816668 - 0.2472983391596*I)) + 6.801978248e-11*(1.7017389827911e-6*sqrt(2)*(-0.968939384816668 + 0.2472983391596*I) - 0.000421207784304419*sqrt(2)*I*(-0.968939384816668 + 0.2472983391596*I)*(0.904237715968873 + 0.427029452168578*I))*(0.000421207784304419*sqrt(2)*I*(-0.968939384816668 - 0.2472983391596*I)*(0.904237715968873 - 0.427029452168578*I) + 1.7017389827911e-6*sqrt(2)*(-0.968939384816668 - 0.2472983391596*I)) + 6.801978248e-11*(-0.0967582361847876*sqrt(2) + 0.00539005057704521*sqrt(2)*I*(0.904237715968873 - 0.427029452168578*I))*(-0.0967582361847876*sqrt(2) - 0.00539005057704521*sqrt(2)*I*(0.904237715968873 + 0.427029452168578*I))) + 0.204559091171405*Abs(6.801978248e-11*(0.00450035825372923*sqrt(2) - 0.000789469085240841*sqrt(2)*I*(-0.674034751648172 - 0.738699636909744*I))*(0.00450035825372923*sqrt(2) + 0.000789469085240841*sqrt(2)*I*(-0.674034751648172 + 0.738699636909744*I)) + 6.801978248e-11*(-0.00727065809250141*sqrt(2) - 0.0118009969378549*sqrt(2)*I*(-0.674034751648172 - 0.738699636909744*I))*(-0.00727065809250141*sqrt(2) + 0.0118009969378549*sqrt(2)*I*(-0.674034751648172 + 0.738699636909744*I)) + 6.801978248e-11*(0.024437613400767*sqrt(2)*(0.634729255534142 - 0.772734606555882*I) - 0.00428693433039156*sqrt(2)*I*(-0.674034751648172 - 0.738699636909744*I)*(0.634729255534142 - 0.772734606555882*I))*(0.00428693433039156*sqrt(2)*I*(-0.674034751648172 + 0.738699636909744*I)*(0.634729255534142 + 0.772734606555882*I) + 0.024437613400767*sqrt(2)*(0.634729255534142 + 0.772734606555882*I)) + 6.801978248e-11*(-0.039480752779287*sqrt(2)*(0.634729255534142 - 0.772734606555882*I) - 0.064081165243225*sqrt(2)*I*(-0.674034751648172 - 0.738699636909744*I)*(0.634729255534142 - 0.772734606555882*I))*(0.064081165243225*sqrt(2)*I*(-0.674034751648172 + 0.738699636909744*I)*(0.634729255534142 + 0.772734606555882*I) - 0.039480752779287*sqrt(2)*(0.634729255534142 + 0.772734606555882*I))) + 0.204559091171405*Abs(6.801978248e-11*(-0.0946690009732281*sqrt(2) - 0.00968668702430632*sqrt(2)*I*(0.771928139492972 - 0.635709798146071*I))*(-0.0946690009732281*sqrt(2) + 0.00968668702430632*sqrt(2)*I*(0.771928139492972 + 0.635709798146071*I)) + 6.801978248e-11*(0.000106981816530277*sqrt(2)*(-0.962144381370373 + 0.27254025280208*I) - 0.00235614596322674*sqrt(2)*I*(-0.962144381370373 + 0.27254025280208*I)*(0.771928139492972 - 0.635709798146071*I))*(0.00235614596322674*sqrt(2)*I*(-0.962144381370373 - 0.27254025280208*I)*(0.771928139492972 + 0.635709798146071*I) + 0.000106981816530277*sqrt(2)*(-0.962144381370373 - 0.27254025280208*I)) + 6.801978248e-11*(-0.0108242525894252*sqrt(2)*(-0.962144381370373 + 0.27254025280208*I) - 0.00110755522956718*sqrt(2)*I*(-0.962144381370373 + 0.27254025280208*I)*(0.771928139492972 - 0.635709798146071*I))*(0.00110755522956718*sqrt(2)*I*(-0.962144381370373 - 0.27254025280208*I)*(0.771928139492972 + 0.635709798146071*I) - 0.0108242525894252*sqrt(2)*(-0.962144381370373 - 0.27254025280208*I)) + 6.801978248e-11*(0.000935663835405778*sqrt(2) - 0.0206068717117422*sqrt(2)*I*(0.771928139492972 - 0.635709798146071*I))*(0.000935663835405778*sqrt(2) + 0.0206068717117422*sqrt(2)*I*(0.771928139492972 + 0.635709798146071*I))) + 0.204559091171405*Abs(6.801978248e-11*(0.00893267128367382*sqrt(2) - 0.00530013076193908*sqrt(2)*I*(0.963243433251509 - 0.268630021214768*I))*(0.00893267128367382*sqrt(2) + 0.00530013076193908*sqrt(2)*I*(0.963243433251509 + 0.268630021214768*I)) + 6.801978248e-11*(-0.0219098408990158*sqrt(2)*(-0.346507114075059 - 0.938047344165194*I) - 0.132314700515279*sqrt(2)*I*(-0.346507114075059 - 0.938047344165194*I)*(0.963243433251509 - 0.268630021214768*I))*(0.132314700515279*sqrt(2)*I*(-0.346507114075059 + 0.938047344165194*I)*(0.963243433251509 + 0.268630021214768*I) - 0.0219098408990158*sqrt(2)*(-0.346507114075059 + 0.938047344165194*I)) + 6.801978248e-11*(-0.00771998252464349*sqrt(2) - 0.0466213871857587*sqrt(2)*I*(0.963243433251509 - 0.268630021214768*I))*(-0.00771998252464349*sqrt(2) + 0.0466213871857587*sqrt(2)*I*(0.963243433251509 + 0.268630021214768*I)) + 6.801978248e-11*(0.0253515349294834*sqrt(2)*(-0.346507114075059 - 0.938047344165194*I) - 0.0150421353114951*sqrt(2)*I*(-0.346507114075059 - 0.938047344165194*I)*(0.963243433251509 - 0.268630021214768*I))*(0.0150421353114951*sqrt(2)*I*(-0.346507114075059 + 0.938047344165194*I)*(0.963243433251509 + 0.268630021214768*I) + 0.0253515349294834*sqrt(2)*(-0.346507114075059 + 0.938047344165194*I))) + 0.204559091171405*Abs(6.801978248e-11*(0.0130638168306831*sqrt(2) - 0.00743439130622002*sqrt(2)*I*(0.715461500489235 - 0.698652160461622*I))*(0.0130638168306831*sqrt(2) + 0.00743439130622002*sqrt(2)*I*(0.715461500489235 + 0.698652160461622*I)) + 6.801978248e-11*(0.0321398004182329*sqrt(2)*(-0.334499655483766 - 0.942395872487375*I) - 0.0182902023129838*sqrt(2)*I*(-0.334499655483766 - 0.942395872487375*I)*(0.715461500489235 - 0.698652160461622*I))*(0.0182902023129838*sqrt(2)*I*(-0.334499655483766 + 0.942395872487375*I)*(0.715461500489235 + 0.698652160461622*I) + 0.0321398004182329*sqrt(2)*(-0.334499655483766 + 0.942395872487375*I)) + 6.801978248e-11*(-0.018502693639084*sqrt(2) - 0.0531297698003407*sqrt(2)*I*(0.715461500489235 - 0.698652160461622*I))*(-0.018502693639084*sqrt(2) + 0.0531297698003407*sqrt(2)*I*(0.715461500489235 + 0.698652160461622*I)) + 6.801978248e-11*(-0.0455206076805327*sqrt(2)*(-0.334499655483766 - 0.942395872487375*I) - 0.130710665939452*sqrt(2)*I*(-0.334499655483766 - 0.942395872487375*I)*(0.715461500489235 - 0.698652160461622*I))*(0.130710665939452*sqrt(2)*I*(-0.334499655483766 + 0.942395872487375*I)*(0.715461500489235 + 0.698652160461622*I) - 0.0455206076805327*sqrt(2)*(-0.334499655483766 + 0.942395872487375*I))) + 0.204559091171405*Abs(6.801978248e-11*(1.57252907656446e-5*sqrt(2)*(0.714806968125244 + 0.699321813130119*I) - 0.000345151852333598*sqrt(2)*I*(-0.994906517625695 + 0.100801890785401*I)*(0.714806968125244 + 0.699321813130119*I))*(0.000345151852333598*sqrt(2)*I*(-0.994906517625695 - 0.100801890785401*I)*(0.714806968125244 - 0.699321813130119*I) + 1.57252907656446e-5*sqrt(2)*(0.714806968125244 - 0.699321813130119*I)) + 6.801978248e-11*(-0.64784422943433*sqrt(2) + 0.00354234658019709*sqrt(2)*I*(-0.994906517625695 - 0.100801890785401*I))*(-0.64784422943433*sqrt(2) - 0.00354234658019709*sqrt(2)*I*(-0.994906517625695 + 0.100801890785401*I)) + 6.801978248e-11*(0.000740339962148976*sqrt(2) + 0.016249601555894*sqrt(2)*I*(-0.994906517625695 - 0.100801890785401*I))*(0.000740339962148976*sqrt(2) - 0.016249601555894*sqrt(2)*I*(-0.994906517625695 + 0.100801890785401*I)) + 6.801978248e-11*(-0.0137606226862705*sqrt(2)*(0.714806968125244 + 0.699321813130119*I) - 7.52416900535715e-5*sqrt(2)*I*(-0.994906517625695 + 0.100801890785401*I)*(0.714806968125244 + 0.699321813130119*I))*(7.52416900535715e-5*sqrt(2)*I*(-0.994906517625695 - 0.100801890785401*I)*(0.714806968125244 - 0.699321813130119*I) - 0.0137606226862705*sqrt(2)*(0.714806968125244 - 0.699321813130119*I))) + 2.41618762805254e-9\n",
      "123.48967504501343\n"
     ]
    }
   ],
   "source": [
    "t1 = time.time()\n",
    "print(integrate(integrand, sampler(), measure=domainsize, n=100))\n",
    "t2 = time.time()\n",
    "print(t2-t1)"
   ]
  },
  {
   "cell_type": "code",
   "execution_count": null,
   "metadata": {
    "collapsed": true
   },
   "outputs": [],
   "source": []
  },
  {
   "cell_type": "code",
   "execution_count": null,
   "metadata": {
    "collapsed": true
   },
   "outputs": [],
   "source": []
  },
  {
   "cell_type": "code",
   "execution_count": null,
   "metadata": {
    "collapsed": true
   },
   "outputs": [],
   "source": []
  },
  {
   "cell_type": "code",
   "execution_count": null,
   "metadata": {
    "collapsed": true
   },
   "outputs": [],
   "source": []
  },
  {
   "cell_type": "code",
   "execution_count": null,
   "metadata": {
    "collapsed": true
   },
   "outputs": [],
   "source": []
  },
  {
   "cell_type": "code",
   "execution_count": null,
   "metadata": {
    "collapsed": true
   },
   "outputs": [],
   "source": []
  },
  {
   "cell_type": "code",
   "execution_count": null,
   "metadata": {
    "collapsed": true
   },
   "outputs": [],
   "source": []
  },
  {
   "cell_type": "code",
   "execution_count": 24,
   "metadata": {
    "collapsed": true
   },
   "outputs": [],
   "source": [
    "def integrand(x):\n",
    "    Momentum = x[0]\n",
    "    ThetaOne = x[1]\n",
    "    ThetaTwo = x[2]\n",
    "    PhiOne   = x[3]\n",
    "    PhiTwo   = x[4]\n",
    "    Values   = [(p1,Momentum),(theta1,ThetaOne),(theta2,ThetaTwo),(phi1,PhiOne),(phi2,PhiTwo)]\n",
    "    This     = N(ELEMENT.subs(Values))[0]\n",
    "    return abs(This)\n",
    "    #return np.real(This)\n",
    "\n",
    "def sampler():\n",
    "    while True:\n",
    "        Momentum = random.uniform(0.,0.0525)#half m0\n",
    "        ThetaOne = random.uniform(0.,math.pi)\n",
    "        ThetaTwo = random.uniform(0.,math.pi)\n",
    "        PhiOne   = random.uniform(0.,2*math.pi)\n",
    "        PhiTwo   = random.uniform(0.,2*math.pi)\n",
    "        \n",
    "        yield (Momentum, ThetaOne, ThetaTwo, PhiOne, PhiTwo)\n",
    "\n",
    "domainsize = math.pow(math.pi,4)*4*0.0525"
   ]
  },
  {
   "cell_type": "code",
   "execution_count": 25,
   "metadata": {
    "collapsed": false
   },
   "outputs": [
    {
     "name": "stdout",
     "output_type": "stream",
     "text": [
      "1.02743866560034e-10\n",
      "42.227355003356934\n"
     ]
    }
   ],
   "source": [
    "t1 = time.time()\n",
    "print(integrate(integrand, sampler(), measure=domainsize, n=100))\n",
    "t2 = time.time()\n",
    "print(t2-t1)"
   ]
  },
  {
   "cell_type": "code",
   "execution_count": 26,
   "metadata": {
    "collapsed": false
   },
   "outputs": [
    {
     "name": "stdout",
     "output_type": "stream",
     "text": [
      "2.24394745714368e-10\n",
      "43.35280895233154\n"
     ]
    }
   ],
   "source": [
    "t1 = time.time()\n",
    "print(integrate(integrand, sampler(), measure=domainsize, n=100))\n",
    "t2 = time.time()\n",
    "print(t2-t1)"
   ]
  },
  {
   "cell_type": "code",
   "execution_count": 27,
   "metadata": {
    "collapsed": false
   },
   "outputs": [
    {
     "name": "stdout",
     "output_type": "stream",
     "text": [
      "5.86343426504037e-16\n",
      "42.93415021896362\n"
     ]
    }
   ],
   "source": [
    "t1 = time.time()\n",
    "print(integrate(integrand, sampler(), measure=domainsize, n=100))\n",
    "t2 = time.time()\n",
    "print(t2-t1)"
   ]
  },
  {
   "cell_type": "code",
   "execution_count": null,
   "metadata": {
    "collapsed": true
   },
   "outputs": [],
   "source": []
  },
  {
   "cell_type": "code",
   "execution_count": null,
   "metadata": {
    "collapsed": true
   },
   "outputs": [],
   "source": []
  },
  {
   "cell_type": "code",
   "execution_count": 32,
   "metadata": {
    "collapsed": true
   },
   "outputs": [],
   "source": [
    "def integrand(x):\n",
    "    Momentum = x[0]\n",
    "    ThetaOne = x[1]\n",
    "    ThetaTwo = x[2]\n",
    "    PhiOne   = x[3]\n",
    "    PhiTwo   = x[4]\n",
    "    Values   = [(p1,Momentum),(theta1,ThetaOne),(theta2,ThetaTwo),(phi1,PhiOne),(phi2,PhiTwo)]\n",
    "    This     = N(ELEMENT.subs(Values))[0]\n",
    "    #return abs(This)\n",
    "    return np.real(This)\n",
    "\n",
    "def sampler():\n",
    "    while True:\n",
    "        Momentum = random.uniform(0.,0.0525)#half m0\n",
    "        ThetaOne = random.uniform(0.,math.pi)\n",
    "        ThetaTwo = random.uniform(0.,math.pi)\n",
    "        PhiOne   = random.uniform(0.,2*math.pi)\n",
    "        PhiTwo   = random.uniform(0.,2*math.pi)\n",
    "        \n",
    "        yield (Momentum, ThetaOne, ThetaTwo, PhiOne, PhiTwo)\n",
    "\n",
    "domainsize = math.pow(math.pi,4)*4*0.0525"
   ]
  },
  {
   "cell_type": "code",
   "execution_count": 33,
   "metadata": {
    "collapsed": false
   },
   "outputs": [
    {
     "name": "stdout",
     "output_type": "stream",
     "text": [
      "1.84910101564077e-19 - 2.54594869917009e-59*I\n",
      "46.727437019348145\n"
     ]
    }
   ],
   "source": [
    "t1 = time.time()\n",
    "print(integrate(integrand, sampler(), measure=domainsize, n=100))\n",
    "t2 = time.time()\n",
    "print(t2-t1)"
   ]
  },
  {
   "cell_type": "code",
   "execution_count": null,
   "metadata": {
    "collapsed": true
   },
   "outputs": [],
   "source": []
  },
  {
   "cell_type": "code",
   "execution_count": null,
   "metadata": {
    "collapsed": true
   },
   "outputs": [],
   "source": []
  },
  {
   "cell_type": "code",
   "execution_count": null,
   "metadata": {
    "collapsed": true
   },
   "outputs": [],
   "source": []
  },
  {
   "cell_type": "code",
   "execution_count": null,
   "metadata": {
    "collapsed": true
   },
   "outputs": [],
   "source": []
  },
  {
   "cell_type": "code",
   "execution_count": null,
   "metadata": {
    "collapsed": true
   },
   "outputs": [],
   "source": []
  },
  {
   "cell_type": "code",
   "execution_count": null,
   "metadata": {
    "collapsed": true
   },
   "outputs": [],
   "source": []
  },
  {
   "cell_type": "code",
   "execution_count": null,
   "metadata": {
    "collapsed": false
   },
   "outputs": [],
   "source": [
    "\n",
    "def w(r, theta, phi, alpha, beta, gamma):\n",
    "    return(-math.log(theta * beta))\n",
    "\n",
    "def integrand(x):\n",
    "    r     = x[0]\n",
    "    theta = x[1]\n",
    "    alpha = x[2]\n",
    "    beta  = x[3]\n",
    "    gamma = x[4]\n",
    "    phi   = x[5]\n",
    "\n",
    "    k = 1.\n",
    "    T = 1.\n",
    "    ww = w(r, theta, phi, alpha, beta, gamma)\n",
    "    return (math.exp(-ww/(k*T)) - 1.)*r*r*math.sin(beta)*math.sin(theta)\n",
    "\n",
    "def sampler():\n",
    "    while True:\n",
    "        r     = random.uniform(0.,1.)\n",
    "        theta = random.uniform(0.,2.*math.pi)\n",
    "        alpha = random.uniform(0.,2.*math.pi)\n",
    "        beta  = random.uniform(0.,2.*math.pi)\n",
    "        gamma = random.uniform(0.,2.*math.pi)\n",
    "        phi   = random.uniform(0.,math.pi)\n",
    "        yield (r, theta, alpha, beta, gamma, phi)\n",
    "\n",
    "domainsize = math.pow(2*math.pi,4)*math.pi*1\n",
    "expected = 16*math.pow(math.pi,5)/3.\n",
    "\n",
    "\n",
    "for nmc in [1000, 10000]:\n",
    "    random.seed(1)\n",
    "    result, error = integrate(integrand, sampler(), measure=domainsize, n=nmc)\n",
    "\n",
    "    print( \"Using n = \", nmc)\n",
    "    print( \"Result = \", result, \"estimated error = \", error)\n"
   ]
  },
  {
   "cell_type": "code",
   "execution_count": null,
   "metadata": {
    "collapsed": false
   },
   "outputs": [],
   "source": [
    "sampler()"
   ]
  },
  {
   "cell_type": "code",
   "execution_count": null,
   "metadata": {
    "collapsed": false
   },
   "outputs": [],
   "source": [
    "qwer = cos(z+u/2)"
   ]
  },
  {
   "cell_type": "code",
   "execution_count": null,
   "metadata": {
    "collapsed": false
   },
   "outputs": [],
   "source": [
    "a = N(qwer.subs([(z,1),(u,0)]))\n"
   ]
  },
  {
   "cell_type": "code",
   "execution_count": null,
   "metadata": {
    "collapsed": true
   },
   "outputs": [],
   "source": []
  },
  {
   "cell_type": "code",
   "execution_count": null,
   "metadata": {
    "collapsed": false
   },
   "outputs": [],
   "source": [
    "test = integrand((1,1,1,1,1))"
   ]
  },
  {
   "cell_type": "code",
   "execution_count": null,
   "metadata": {
    "collapsed": false
   },
   "outputs": [],
   "source": [
    "test[0].dtype"
   ]
  },
  {
   "cell_type": "code",
   "execution_count": null,
   "metadata": {
    "collapsed": true
   },
   "outputs": [],
   "source": []
  },
  {
   "cell_type": "code",
   "execution_count": null,
   "metadata": {
    "collapsed": true
   },
   "outputs": [],
   "source": []
  },
  {
   "cell_type": "code",
   "execution_count": null,
   "metadata": {
    "collapsed": false
   },
   "outputs": [],
   "source": [
    "abs(-3)"
   ]
  },
  {
   "cell_type": "code",
   "execution_count": null,
   "metadata": {
    "collapsed": true
   },
   "outputs": [],
   "source": []
  },
  {
   "cell_type": "code",
   "execution_count": null,
   "metadata": {
    "collapsed": false
   },
   "outputs": [],
   "source": [
    "def integrand(x):\n",
    "    Momentum = x[0]\n",
    "    ThetaOne = x[1]\n",
    "    ThetaTwo = x[2]\n",
    "    PhiOne   = x[3]\n",
    "    PhiTwo   = x[4]\n",
    "    Values   = [(p1,Momentum),(theta1,ThetaOne),(theta2,ThetaTwo),(phi1,PhiOne),(phi2,PhiTwo)]\n",
    "    This     = np.array(N(ELEMENT.subs(Values))[0])\n",
    "    return This.real\n",
    "\n",
    "def sampler():\n",
    "    while True:\n",
    "        Momentum = random.uniform(0.,1.)\n",
    "        ThetaOne = random.uniform(0.,math.pi)\n",
    "        ThetaTwo = random.uniform(0.,math.pi)\n",
    "        PhiOne   = random.uniform(0.,2*math.pi)\n",
    "        PhiTwo   = random.uniform(0.,2*math.pi)\n",
    "        \n",
    "        yield (Momentum, ThetaOne, ThetaTwo, PhiOne, PhiTwo)\n",
    "\n",
    "domainsize = math.pow(math.pi,4)*4\n"
   ]
  },
  {
   "cell_type": "code",
   "execution_count": null,
   "metadata": {
    "collapsed": false
   },
   "outputs": [],
   "source": [
    "integrate(integrand, sampler(), measure=1, n=100)"
   ]
  },
  {
   "cell_type": "code",
   "execution_count": null,
   "metadata": {
    "collapsed": true
   },
   "outputs": [],
   "source": []
  },
  {
   "cell_type": "code",
   "execution_count": null,
   "metadata": {
    "collapsed": true
   },
   "outputs": [],
   "source": []
  },
  {
   "cell_type": "code",
   "execution_count": null,
   "metadata": {
    "collapsed": true
   },
   "outputs": [],
   "source": []
  },
  {
   "cell_type": "code",
   "execution_count": null,
   "metadata": {
    "collapsed": false
   },
   "outputs": [],
   "source": [
    "result, error = integrate(integrand, sampler(), measure=1, n=100)\n",
    "print( \"Result = \", result, \"estimated error = \", error)"
   ]
  },
  {
   "cell_type": "code",
   "execution_count": null,
   "metadata": {
    "collapsed": true
   },
   "outputs": [],
   "source": []
  },
  {
   "cell_type": "code",
   "execution_count": null,
   "metadata": {
    "collapsed": true
   },
   "outputs": [],
   "source": []
  },
  {
   "cell_type": "code",
   "execution_count": null,
   "metadata": {
    "collapsed": true
   },
   "outputs": [],
   "source": []
  },
  {
   "cell_type": "code",
   "execution_count": null,
   "metadata": {
    "collapsed": true
   },
   "outputs": [],
   "source": []
  },
  {
   "cell_type": "code",
   "execution_count": null,
   "metadata": {
    "collapsed": false
   },
   "outputs": [],
   "source": [
    "Momentum"
   ]
  },
  {
   "cell_type": "code",
   "execution_count": null,
   "metadata": {
    "collapsed": true
   },
   "outputs": [],
   "source": []
  },
  {
   "cell_type": "code",
   "execution_count": null,
   "metadata": {
    "collapsed": false
   },
   "outputs": [],
   "source": [
    "\n",
    "def integrand(x):\n",
    "    Momentum = x[0]\n",
    "    ThetaOne = x[1]\n",
    "    ThetaTwo = x[2]\n",
    "    PhiOne   = x[3]\n",
    "    PhiTwo   = x[4]\n",
    "    \n",
    "    return N(ELEMENT.subs([(z,r),(u,theta)]))\n",
    "\n",
    "def sampler():\n",
    "    while True:\n",
    "        r     = random.uniform(-math.pi/2,math.pi/2)\n",
    "        theta = random.uniform(0.,math.pi)\n",
    "        \n",
    "        yield (r, theta)\n",
    "\n",
    "domainsize = math.pow(math.pi,2)*1\n",
    "\n",
    "\n",
    "\n",
    "for nmc in [1000, 10000, 100000, 1000000]:\n",
    "    random.seed(1)\n",
    "    result, error = integrate(integrand, sampler(), measure=domainsize, n=nmc)\n",
    "\n",
    "    print( \"Using n = \", nmc)\n",
    "    print( \"Result = \", result, \"estimated error = \", error)"
   ]
  },
  {
   "cell_type": "code",
   "execution_count": null,
   "metadata": {
    "collapsed": true
   },
   "outputs": [],
   "source": []
  },
  {
   "cell_type": "code",
   "execution_count": null,
   "metadata": {
    "collapsed": true
   },
   "outputs": [],
   "source": []
  },
  {
   "cell_type": "code",
   "execution_count": null,
   "metadata": {
    "collapsed": true
   },
   "outputs": [],
   "source": []
  }
 ],
 "metadata": {
  "kernelspec": {
   "display_name": "Python 3",
   "language": "python",
   "name": "python3"
  },
  "language_info": {
   "codemirror_mode": {
    "name": "ipython",
    "version": 3
   },
   "file_extension": ".py",
   "mimetype": "text/x-python",
   "name": "python",
   "nbconvert_exporter": "python",
   "pygments_lexer": "ipython3",
   "version": "3.5.2"
  }
 },
 "nbformat": 4,
 "nbformat_minor": 0
}
