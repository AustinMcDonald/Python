{
 "cells": [
  {
   "cell_type": "code",
   "execution_count": 1,
   "metadata": {
    "collapsed": true
   },
   "outputs": [],
   "source": [
    "import numpy as np\n",
    "import matplotlib.pyplot as plt\n",
    "import os\n",
    "import glob\n",
    "%matplotlib inline\n",
    "from readTRC import readTrc"
   ]
  },
  {
   "cell_type": "code",
   "execution_count": 14,
   "metadata": {},
   "outputs": [
    {
     "name": "stdout",
     "output_type": "stream",
     "text": [
      "/Users/austinmcdonald/Desktop/Compton/NoBarier/zero\n"
     ]
    }
   ],
   "source": [
    "cd /Users/austinmcdonald/Desktop/Compton/NoBarier/zero/"
   ]
  },
  {
   "cell_type": "code",
   "execution_count": 15,
   "metadata": {},
   "outputs": [
    {
     "data": {
      "text/plain": [
       "['C4waveform-zero-NO-00019.trc',\n",
       " 'C4waveform-zero-NO-00018.trc',\n",
       " 'C4waveform-zero-NO-00023.trc',\n",
       " 'C4waveform-zero-NO-00020.trc',\n",
       " 'C4waveform-zero-NO-00046.trc',\n",
       " 'C4waveform-zero-NO-00041.trc',\n",
       " 'C4waveform-zero-NO-00038.trc',\n",
       " 'C4waveform-zero-NO-00039.trc',\n",
       " 'C4waveform-zero-NO-00002.trc',\n",
       " 'C4waveform-zero-NO-00001.trc']"
      ]
     },
     "execution_count": 15,
     "metadata": {},
     "output_type": "execute_result"
    }
   ],
   "source": [
    "files = os.listdir()\n",
    "len(files)\n",
    "files[0::5]"
   ]
  },
  {
   "cell_type": "code",
   "execution_count": null,
   "metadata": {
    "collapsed": true
   },
   "outputs": [],
   "source": []
  },
  {
   "cell_type": "code",
   "execution_count": 16,
   "metadata": {},
   "outputs": [],
   "source": [
    "area = []\n",
    "Ttime= []\n",
    "for q in range(0,len(files)):\n",
    "    datX, datY, info = readTrc(files[q])\n",
    "    NTraces     =   info['SUBARRAY_COUNT']\n",
    "    TotalPoints =   info[ 'WAVE_ARRAY_COUNT']\n",
    "    dx          =   info['HORIZ_INTERVAL']\n",
    "    \n",
    "    a = info[\"TRIGGER_TIME\"].hour *60*60\n",
    "    b = info[\"TRIGGER_TIME\"].minute *60\n",
    "    c = info[\"TRIGGER_TIME\"].second *60\n",
    "    Ttime.append(a+b+c)\n",
    "    PPT         =   TotalPoints/NTraces\n",
    "    YTraces     =   np.split(datY, NTraces)\n",
    "    #XTraces     =   np.split(datX, NTraces)\n",
    "    for x in range(0,len(YTraces)):\n",
    "        aa = abs(sum(YTraces[x])*dx)\n",
    "        area.append(aa)\n",
    "area = np.array(area)\n",
    "Ttime = np.array(Ttime)"
   ]
  },
  {
   "cell_type": "code",
   "execution_count": 17,
   "metadata": {},
   "outputs": [
    {
     "name": "stdout",
     "output_type": "stream",
     "text": [
      "50000\n",
      "50\n"
     ]
    }
   ],
   "source": [
    "print(len(area))\n",
    "print(len(Ttime))"
   ]
  },
  {
   "cell_type": "code",
   "execution_count": 18,
   "metadata": {},
   "outputs": [
    {
     "data": {
      "text/plain": [
       "11.835748792270531"
      ]
     },
     "execution_count": 18,
     "metadata": {},
     "output_type": "execute_result"
    }
   ],
   "source": [
    "qq = Ttime-min(Ttime)\n",
    "49000/max(qq)"
   ]
  },
  {
   "cell_type": "code",
   "execution_count": 19,
   "metadata": {},
   "outputs": [],
   "source": [
    "#np.savetxt('/Users/austinmcdonald/Desktop/Compton/no-zero-11835.txt',area)"
   ]
  },
  {
   "cell_type": "code",
   "execution_count": 22,
   "metadata": {},
   "outputs": [
    {
     "data": {
      "text/plain": [
       "<function matplotlib.pyplot.show>"
      ]
     },
     "execution_count": 22,
     "metadata": {},
     "output_type": "execute_result"
    },
    {
     "data": {
      "image/png": "[encoded data removed]",
      "text/plain": [
       "<matplotlib.figure.Figure at 0x10441ccc0>"
      ]
     },
     "metadata": {},
     "output_type": "display_data"
    }
   ],
   "source": [
    "plt.hist(area,bins=200)\n",
    "plt.show"
   ]
  },
  {
   "cell_type": "code",
   "execution_count": null,
   "metadata": {
    "collapsed": true
   },
   "outputs": [],
   "source": []
  },
  {
   "cell_type": "code",
   "execution_count": null,
   "metadata": {
    "collapsed": true
   },
   "outputs": [],
   "source": []
  }
 ],
 "metadata": {
  "kernelspec": {
   "display_name": "Python 3",
   "language": "python",
   "name": "python3"
  },
  "language_info": {
   "codemirror_mode": {
    "name": "ipython",
    "version": 3
   },
   "file_extension": ".py",
   "mimetype": "text/x-python",
   "name": "python",
   "nbconvert_exporter": "python",
   "pygments_lexer": "ipython3",
   "version": "3.5.2"
  }
 },
 "nbformat": 4,
 "nbformat_minor": 1
}
