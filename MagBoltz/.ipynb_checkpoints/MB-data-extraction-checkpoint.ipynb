{
 "cells": [
  {
   "cell_type": "code",
   "execution_count": 10,
   "metadata": {
    "collapsed": true
   },
   "outputs": [],
   "source": [
    "import numpy as np"
   ]
  },
  {
   "cell_type": "code",
   "execution_count": 11,
   "metadata": {
    "collapsed": true
   },
   "outputs": [],
   "source": [
    "PATH = \"/Users/austinmcdonald/Documents/Gas-physics/Bolts/\""
   ]
  },
  {
   "cell_type": "code",
   "execution_count": 12,
   "metadata": {},
   "outputs": [
    {
     "name": "stdout",
     "output_type": "stream",
     "text": [
      " RM4\n"
     ]
    }
   ],
   "source": [
    "file = open(PATH+\"Outtt.txt\", \"r\") \n",
    "print( file.readline(4) )"
   ]
  },
  {
   "cell_type": "code",
   "execution_count": 13,
   "metadata": {
    "collapsed": true
   },
   "outputs": [],
   "source": [
    "with open(PATH+\"Outtt.txt\") as f:\n",
    "    content = f.readlines()\n",
    "content = [x.strip() for x in content] "
   ]
  },
  {
   "cell_type": "code",
   "execution_count": 14,
   "metadata": {},
   "outputs": [
    {
     "name": "stdout",
     "output_type": "stream",
     "text": [
      "This is Line  0\n",
      "RM48 INITIALIZED:  54217137           0         0\n",
      "This is Line  1\n",
      "\n",
      "This is Line  2\n",
      "\n",
      "This is Line  3\n",
      "PROGRAM MAGBOLTZ 2 VERSION 11.4\n",
      "This is Line  4\n",
      "\n",
      "This is Line  5\n",
      "MONTE CARLO SOLUTION FOR MIXTURE OF  2 GASES.\n",
      "This is Line  6\n",
      "------------------------------------------------------\n",
      "This is Line  7\n",
      "\n",
      "This is Line  8\n",
      "GASES  USED                 PERCENTAGE USED\n",
      "This is Line  9\n",
      "\n",
      "This is Line  10\n",
      "XENON 2013   ANISOTROPIC        97.0000\n",
      "This is Line  11\n",
      "ARGON ANISOTROPIC    2014        3.0000\n",
      "This is Line  12\n",
      "\n",
      "This is Line  13\n",
      "\n",
      "This is Line  14\n",
      "GAS TEMPERATURE =  23.0 DEGREES CENTIGRADE.\n",
      "This is Line  15\n",
      "GAS PRESSURE =   750.0 TORR.\n",
      "This is Line  16\n",
      "\n",
      "This is Line  17\n",
      "INTEGRATION FROM 0.0 TO     5.66 EV.  IN 4000 STEPS.\n",
      "This is Line  18\n",
      "\n",
      "This is Line  19\n",
      "PENNING EFFECTS NOT INCLUDED\n",
      "This is Line  20\n",
      "\n",
      "This is Line  21\n",
      "ANISOTROPIC SCATTERING TYPE 2 (OKHRIMOVSKYY) USED IF AVAILABLE\n",
      "This is Line  22\n",
      "\n",
      "This is Line  23\n",
      "SHORT DECORRELATION LENGTH = 400000 COLLISIONS.\n",
      "This is Line  24\n",
      "\n",
      "This is Line  25\n",
      "\n",
      "This is Line  26\n",
      "THERMAL MOTION OF GAS INCLUDED\n",
      "This is Line  27\n",
      "\n",
      "This is Line  28\n",
      "ELECTRIC FIELD =    200.0000 VOLTS/CM.\n",
      "This is Line  29\n",
      "MAGNETIC FIELD =     0.0000 KILOGAUSS.\n",
      "This is Line  30\n",
      "ANGLE BETWEEN ELECTRIC AND MAGNETIC FIELD =     0.000 DEGREES.\n",
      "This is Line  31\n",
      "CYCLOTRON FREQ. =   0.000D+00 RADIANS/PICOSECOND\n",
      "This is Line  32\n",
      "\n",
      "This is Line  33\n",
      "INITIAL ELECTRON ENERGY =   0.113 EV.\n",
      "This is Line  34\n",
      "\n",
      "This is Line  35\n",
      "TOTAL NUMBER OF REAL COLLISIONS =   80000000\n",
      "This is Line  36\n",
      "\n",
      "This is Line  37\n",
      "NULL COLLISION FREQUENCY FOR EACH GAS COMPONENT IN UNITS OF  (*10**12/SEC)\n",
      "This is Line  38\n",
      "0.134D+02         0.107D+00         0.000D+00\n",
      "This is Line  39\n",
      "0.000D+00         0.000D+00         0.000D+00\n",
      "This is Line  40\n",
      "\n",
      "This is Line  41\n",
      "\n",
      "This is Line  42\n",
      "VEL      POS        TIME      ENERGY   COUNT   DIFXX     DIFYY     DIFZZ\n",
      "This is Line  43\n",
      "\n",
      "This is Line  44\n",
      "1.23  0.625D-02  0.509D+07   1.6425    20     3813.1    2423.0       0.0\n",
      "This is Line  45\n",
      "1.20  0.126D-01  0.105D+08   1.6254    40     3597.5    3318.6       0.0\n",
      "This is Line  46\n",
      "1.23  0.191D-01  0.156D+08   1.6399    60     3877.1    3503.1     242.6\n",
      "This is Line  47\n",
      "1.25  0.257D-01  0.206D+08   1.6466    80     3825.6    3492.7     234.5\n",
      "This is Line  48\n",
      "1.24  0.321D-01  0.259D+08   1.6387   100     4347.4    3539.8     238.6\n",
      "This is Line  49\n",
      "1.24  0.386D-01  0.311D+08   1.6361   120     4412.9    3525.3     249.7\n",
      "This is Line  50\n",
      "1.23  0.447D-01  0.364D+08   1.6348   140     4384.6    3439.2     262.3\n",
      "This is Line  51\n",
      "1.24  0.513D-01  0.413D+08   1.6382   160     4255.5    3324.9     259.0\n",
      "This is Line  52\n",
      "1.25  0.576D-01  0.461D+08   1.6437   180     4223.0    3471.7     261.9\n",
      "This is Line  53\n",
      "1.23  0.636D-01  0.517D+08   1.6355   200     4144.7    3507.9     281.0\n",
      "This is Line  54\n",
      "-----------------------------------------------------------------------------\n",
      "This is Line  55\n",
      "-----------------------------------------------------------------------------\n",
      "This is Line  56\n",
      "\n",
      "This is Line  57\n",
      "CALCULATED MAX. COLLISION TIME =  84.54 PICOSECONDS.\n",
      "This is Line  58\n",
      "\n",
      "This is Line  59\n",
      "NUMBER OF NULL COLLISIONS =  618283712\n",
      "This is Line  60\n",
      "NUMBER OF REAL COLLISIONS =   80000000\n",
      "This is Line  61\n",
      "\n",
      "This is Line  62\n",
      "Z DRIFT VELOCITY = 0.1231E+01 MICRONS/NANOSECOND  +-    1.95%\n",
      "This is Line  63\n",
      "Y DRIFT VELOCITY = 0.0000E+00 MICRONS/NANOSECOND  +-    0.00%\n",
      "This is Line  64\n",
      "X DRIFT VELOCITY = 0.0000E+00 MICRONS/NANOSECOND  +-    0.00%\n",
      "This is Line  65\n",
      "\n",
      "This is Line  66\n",
      "\n",
      "This is Line  67\n",
      "DIFFUSION IN CM**2/SEC.\n",
      "This is Line  68\n",
      "\n",
      "This is Line  69\n",
      "\n",
      "This is Line  70\n",
      "TRANSVERSE DIFFUSION   = 0.3826D+04 +-    6.66%\n",
      "This is Line  71\n",
      "=   6.2145 EV. +-    6.94%\n",
      "This is Line  72\n",
      "= 2492.898 MICRONS/CENTIMETER**0.5  +-    3.47%\n",
      "This is Line  73\n",
      "\n",
      "This is Line  74\n",
      "\n",
      "This is Line  75\n",
      "LONGITUDINAL DIFFUSION = 0.2810D+03 +-     7.2%\n",
      "This is Line  76\n",
      "=   0.4565 EV. +-    7.48%\n",
      "This is Line  77\n",
      "=  675.616 MICRONS/CENTIMETER**0.5  +-    3.74%\n",
      "This is Line  78\n",
      "\n",
      "This is Line  79\n",
      "\n",
      "This is Line  80\n",
      "\n",
      "This is Line  81\n",
      "IONISATION RATE /CM.= 0.0000E+00 +/-  0.00 PERCENT.\n",
      "This is Line  82\n",
      "ATTACHMENT RATE /CM.= 0.0000E+00 +/-  0.00 PERCENT.\n",
      "This is Line  83\n",
      "\n",
      "This is Line  84\n",
      "\n",
      "This is Line  85\n",
      "\n",
      "This is Line  86\n",
      "MEAN ELECTRON ENERGY =   1.6355 EV. ERROR =  +-    0.72%\n",
      "This is Line  87\n",
      "\n",
      "This is Line  88\n",
      "-----------------------------------------------------------------------------\n",
      "This is Line  89\n",
      "-----------------------------------------------------------------------------\n",
      "This is Line  90\n",
      "\n",
      "This is Line  91\n",
      "\n",
      "This is Line  92\n",
      "NUMBER OF COLLISIONS IN FINAL ENERGY BIN =     0.0\n",
      "This is Line  93\n",
      "\n",
      "This is Line  94\n",
      "TOTAL COLL. FREQ. = 0.1548D+01 (*10**12)/SEC.\n",
      "This is Line  95\n",
      "ELASTIC COLL. FREQ. = 0.1548D+01 (*10**12)/SEC.\n",
      "This is Line  96\n",
      "INELASTIC COLL. FREQ. = 0.0000D+00 (*10**12)/SEC.\n",
      "This is Line  97\n",
      "IONISATION COLL. FREQ. = 0.0000D+00 (*10**12)/SEC.\n",
      "This is Line  98\n",
      "ATTACHMENT COLL. FREQ. = 0.0000D+00 (*10**12)/SEC.\n",
      "This is Line  99\n",
      "\n",
      "This is Line  100\n",
      "-----------------------------------------------------------------------------\n",
      "This is Line  101\n",
      "\n",
      "This is Line  102\n",
      "DETAILED COLLISION FREQUENCIES FOR EACH GAS IN UNITS OF 10**12/SEC. :\n",
      "This is Line  103\n",
      "\n",
      "This is Line  104\n",
      "\n",
      "This is Line  105\n",
      "\n",
      "This is Line  106\n",
      "XENON 2013   ANISOTROPIC\n",
      "This is Line  107\n",
      "----------------------------\n",
      "This is Line  108\n",
      "\n",
      "This is Line  109\n",
      "\n",
      "This is Line  110\n",
      "ELASTIC ANISOTROPIC      XENON                        0.1532D+01 +-  0.0112 %\n",
      "This is Line  111\n",
      "ATTACHMENT                                            0.0000D+00 +-  0.0000 %\n",
      "This is Line  112\n",
      "\n",
      "This is Line  113\n",
      "ARGON ANISOTROPIC    2014\n",
      "This is Line  114\n",
      "----------------------------\n",
      "This is Line  115\n",
      "\n",
      "This is Line  116\n",
      "\n",
      "This is Line  117\n",
      "ELASTIC ANISOTROPIC       ARGON                      0.1587D-01 +-  0.1104 %\n",
      "This is Line  118\n",
      "ATTACHMENT                                           0.0000D+00 +-  0.0000 %\n",
      "This is Line  119\n",
      "-----------------------------------------------------------------------------\n",
      "This is Line  120\n",
      "-----------------------------------------------------------------------------\n",
      "This is Line  121\n",
      "\n",
      "This is Line  122\n",
      "\n",
      "This is Line  123\n",
      "NORMALISED ENERGY DISTRIBUTION\n",
      "This is Line  124\n",
      "E=      0.071      SPEC= 0.1121D-01\n",
      "This is Line  125\n",
      "E=      0.212      SPEC= 0.1264D-01\n",
      "This is Line  126\n",
      "E=      0.354      SPEC= 0.9536D-02\n",
      "This is Line  127\n",
      "E=      0.495      SPEC= 0.7507D-02\n",
      "This is Line  128\n",
      "E=      0.636      SPEC= 0.5200D-02\n",
      "This is Line  129\n",
      "E=      0.778      SPEC= 0.4756D-02\n",
      "This is Line  130\n",
      "E=      0.919      SPEC= 0.6984D-02\n",
      "This is Line  131\n",
      "E=      1.061      SPEC= 0.1079D-01\n",
      "This is Line  132\n",
      "E=      1.202      SPEC= 0.1597D-01\n",
      "This is Line  133\n",
      "E=      1.344      SPEC= 0.2292D-01\n",
      "This is Line  134\n",
      "E=      1.485      SPEC= 0.3165D-01\n",
      "This is Line  135\n",
      "E=      1.626      SPEC= 0.4174D-01\n",
      "This is Line  136\n",
      "E=      1.768      SPEC= 0.5230D-01\n",
      "This is Line  137\n",
      "E=      1.909      SPEC= 0.6326D-01\n",
      "This is Line  138\n",
      "E=      2.051      SPEC= 0.7436D-01\n",
      "This is Line  139\n",
      "E=      2.192      SPEC= 0.8077D-01\n",
      "This is Line  140\n",
      "E=      2.333      SPEC= 0.8501D-01\n",
      "This is Line  141\n",
      "E=      2.475      SPEC= 0.8564D-01\n",
      "This is Line  142\n",
      "E=      2.616      SPEC= 0.8426D-01\n",
      "This is Line  143\n",
      "E=      2.758      SPEC= 0.7789D-01\n",
      "This is Line  144\n",
      "E=      2.899      SPEC= 0.6520D-01\n",
      "This is Line  145\n",
      "E=      3.041      SPEC= 0.5189D-01\n",
      "This is Line  146\n",
      "E=      3.182      SPEC= 0.3856D-01\n",
      "This is Line  147\n",
      "E=      3.323      SPEC= 0.2570D-01\n",
      "This is Line  148\n",
      "E=      3.465      SPEC= 0.1532D-01\n",
      "This is Line  149\n",
      "E=      3.606      SPEC= 0.9205D-02\n",
      "This is Line  150\n",
      "E=      3.748      SPEC= 0.5464D-02\n",
      "This is Line  151\n",
      "E=      3.889      SPEC= 0.2715D-02\n",
      "This is Line  152\n",
      "E=      4.031      SPEC= 0.1172D-02\n",
      "This is Line  153\n",
      "E=      4.172      SPEC= 0.3429D-03\n",
      "This is Line  154\n",
      "E=      4.313      SPEC= 0.3514D-04\n",
      "This is Line  155\n",
      "E=      4.455      SPEC= 0.0000D+00\n",
      "This is Line  156\n",
      "E=      4.596      SPEC= 0.0000D+00\n",
      "This is Line  157\n",
      "E=      4.738      SPEC= 0.0000D+00\n",
      "This is Line  158\n",
      "E=      4.879      SPEC= 0.0000D+00\n",
      "This is Line  159\n",
      "E=      5.020      SPEC= 0.0000D+00\n",
      "This is Line  160\n",
      "E=      5.162      SPEC= 0.0000D+00\n",
      "This is Line  161\n",
      "E=      5.303      SPEC= 0.0000D+00\n",
      "This is Line  162\n",
      "E=      5.445      SPEC= 0.0000D+00\n",
      "This is Line  163\n",
      "E=      5.586      SPEC= 0.0000D+00\n"
     ]
    }
   ],
   "source": [
    "for x in range(0,len(content)):\n",
    "    print(\"This is Line \",x)\n",
    "    print(content[x])"
   ]
  },
  {
   "cell_type": "code",
   "execution_count": 20,
   "metadata": {},
   "outputs": [
    {
     "data": {
      "text/plain": [
       "-1"
      ]
     },
     "execution_count": 20,
     "metadata": {},
     "output_type": "execute_result"
    }
   ],
   "source": [
    "def DataExtractor(file):\n",
    "    with open(file) as f:\n",
    "        content = f.readlines()\n",
    "    content = [x.strip() for x in content]\n",
    "    Fname= file.split('/')[-1]\n",
    "    XeP = Fname.split(\"_\")[0].split('-')[-1]\n",
    "    ArP = Fname.split(\"_\")[1].split('-')[-1]\n",
    "    if len(content)<10:\n",
    "        ZZ = int(0)\n",
    "        Vals = [ZZ,ZZ,ZZ,ZZ,ZZ,ZZ,ZZ,ZZ,ZZ,ZZ,ZZ,ZZ,ZZ]\n",
    "    elif len(content)>100:\n",
    "        XePer  = XeP  ; ArPer =\tArP\n",
    "        Temp   = content[14].split(' ')[4]   ; Pres = content[15].split(' ')[-2]\n",
    "        Efield = content[28].split(' ')[-2]\n",
    "        Zloc   = content[62].split(' ').index(\"MICRONS/NANOSECOND\")-1\n",
    "        Zdrift = content[62].split(' ')[Zloc].split('=')[-1]   ; Zerr = content[62].split(' ')[-1].split(\"%\")[0]\n",
    "        Tdiff  = content[70].split(' ')[5].replace(\"D\",\"E\")    ; Terr = content[70].split(' ')[-1].split(\"%\")[0]\n",
    "        Ldiff  = content[75].split(' ')[3].replace(\"D\",\"E\")    ; Lerr = content[75].split(' ')[-1].split(\"%\")[0]\n",
    "        Mele   = content[86].split(' ')[6]                     ; Merr = content[86].split(' ')[-1].split(\"%\")[0]\n",
    "        Vals = [XePer, ArPer, Temp, Pres, Efield, Zdrift, Zerr,\n",
    "                Tdiff, Terr, Ldiff, Lerr, Mele, Merr]\n",
    "        Vals = [float(x) for x in Vals]\n",
    "    else:\n",
    "        XePer = XeP ; ArPer = ArP\n",
    "        Temp = content[14].split(' ')[4]   ; Pres = content[15].split(' ')[-2]\n",
    "        Efield = content[28].split(' ')[-2]\n",
    "        Vals = [XePer, ArPer, Temp, Pres, Efield, 0,0,0,0,0,0,0,0]\n",
    "        Vals = [float(x) for x in Vals]\n",
    "\n",
    "    return Vals"
   ]
  },
  {
   "cell_type": "code",
   "execution_count": null,
   "metadata": {
    "collapsed": true
   },
   "outputs": [],
   "source": []
  },
  {
   "cell_type": "code",
   "execution_count": 42,
   "metadata": {},
   "outputs": [
    {
     "name": "stdout",
     "output_type": "stream",
     "text": [
      "GAS TEMPERATURE =  23.0 DEGREES CENTIGRADE.\n",
      "23.0\n",
      "GAS PRESSURE =   750.0 TORR.\n",
      "750.0\n",
      "ELECTRIC FIELD =    200.0000 VOLTS/CM.\n",
      "200.0000\n",
      "Z DRIFT VELOCITY = 0.1231E+01 MICRONS/NANOSECOND  +-    1.95%\n",
      "0.1231E+01\n",
      "1.95\n",
      "= 2492.898 MICRONS/CENTIMETER**0.5  +-    3.47%\n",
      "2492.898\n",
      "3.47\n",
      "=  675.616 MICRONS/CENTIMETER**0.5  +-    3.74%\n",
      "675.616\n",
      "3.74\n",
      "MEAN ELECTRON ENERGY =   1.6355 EV. ERROR =  +-    0.72%\n",
      "1.6355\n",
      "0.72\n"
     ]
    }
   ],
   "source": [
    "for x in range(0,len(content)):\n",
    "    if content[x].find('GAS TEMPERATURE') == 0:\n",
    "        print(content[x])\n",
    "        Temp   = content[x].split(' ')[4]\n",
    "        print(Temp)\n",
    "    if content[x].find('GAS PRESSURE') == 0:\n",
    "        print(content[x])\n",
    "        Pres = content[x].split(' ')[-2]\n",
    "        print(Pres)\n",
    "    if content[x].find('ELECTRIC FIELD') == 0:\n",
    "        print(content[x])\n",
    "        Efield = content[x].split(' ')[-2]\n",
    "        print(Efield)\n",
    "    if content[x].find('Z DRIFT VELOCITY') == 0:\n",
    "        print(content[x])\n",
    "        Zloc   = content[x].split(' ').index(\"MICRONS/NANOSECOND\")-1\n",
    "        Zdrift = content[x].split(' ')[Zloc].split('=')[-1]\n",
    "        Zerr = content[x].split(' ')[-1].split(\"%\")[0]\n",
    "        print(Zdrift)\n",
    "        print(Zerr)\n",
    "    if content[x].find('TRANSVERSE DIFFUSION') == 0:\n",
    "        print(content[x+2]) \n",
    "        Tloc   = content[x+2].split(' ').index(\"MICRONS/CENTIMETER**0.5\")-1\n",
    "        Tdiff  = content[x+2].split(' ')[Tloc].replace(\"D\",\"E\")\n",
    "        Terr = content[x+2].split(' ')[-1].split(\"%\")[0]\n",
    "        print(Tdiff)\n",
    "        print(Terr)\n",
    "        \n",
    "    if content[x].find('LONGITUDINAL DIFFUSION') == 0:\n",
    "        print(content[x+2]) \n",
    "        Lloc   = content[x+2].split(' ').index(\"MICRONS/CENTIMETER**0.5\")-1\n",
    "        Ldiff  = content[x+2].split(' ')[Lloc].replace(\"D\",\"E\")\n",
    "        Lerr = content[x+2].split(' ')[-1].split(\"%\")[0]\n",
    "        print(Ldiff)\n",
    "        print(Lerr)\n",
    "    if content[x].find('MEAN ELECTRON ENERGY') == 0:\n",
    "        print(content[x]) \n",
    "        Mele   = content[x].split(' ')[6]\n",
    "        Merr = content[x].split(' ')[-1].split(\"%\")[0]\n",
    "        print(Mele)\n",
    "        print(Merr)"
   ]
  },
  {
   "cell_type": "code",
   "execution_count": null,
   "metadata": {
    "collapsed": true
   },
   "outputs": [],
   "source": []
  },
  {
   "cell_type": "code",
   "execution_count": 31,
   "metadata": {},
   "outputs": [
    {
     "name": "stdout",
     "output_type": "stream",
     "text": [
      "XENON 2013   ANISOTROPIC        97.0000\n",
      "ARGON ANISOTROPIC    2014        3.0000\n",
      "GAS TEMPERATURE =  23.0 DEGREES CENTIGRADE.\n",
      "GAS PRESSURE =   750.0 TORR.\n",
      "ELECTRIC FIELD =    200.0000 VOLTS/CM.\n",
      "Z DRIFT VELOCITY = 0.1231E+01 MICRONS/NANOSECOND  +-    1.95%\n",
      "Y DRIFT VELOCITY = 0.0000E+00 MICRONS/NANOSECOND  +-    0.00%\n",
      "X DRIFT VELOCITY = 0.0000E+00 MICRONS/NANOSECOND  +-    0.00%\n",
      "TRANSVERSE DIFFUSION   = 0.3826D+04 +-    6.66%\n",
      "LONGITUDINAL DIFFUSION = 0.2810D+03 +-     7.2%\n",
      "MEAN ELECTRON ENERGY =   1.6355 EV. ERROR =  +-    0.72%\n"
     ]
    }
   ],
   "source": [
    "## lines i think are important\n",
    "print(content[10])\n",
    "print(content[11])\n",
    "print(content[14])\n",
    "print(content[15])\n",
    "print(content[28])\n",
    "print(content[62])\n",
    "print(content[63])\n",
    "print(content[64])\n",
    "print(content[70])\n",
    "print(content[75])\n",
    "print(content[86])\n"
   ]
  },
  {
   "cell_type": "code",
   "execution_count": 78,
   "metadata": {},
   "outputs": [
    {
     "name": "stdout",
     "output_type": "stream",
     "text": [
      "164\n"
     ]
    }
   ],
   "source": [
    "print(len(content))\n"
   ]
  },
  {
   "cell_type": "code",
   "execution_count": 57,
   "metadata": {},
   "outputs": [
    {
     "data": {
      "text/plain": [
       "['MEAN',\n",
       " 'ELECTRON',\n",
       " 'ENERGY',\n",
       " '=',\n",
       " '',\n",
       " '',\n",
       " '1.6355',\n",
       " 'EV.',\n",
       " 'ERROR',\n",
       " '=',\n",
       " '',\n",
       " '+-',\n",
       " '',\n",
       " '',\n",
       " '',\n",
       " '0.72%']"
      ]
     },
     "execution_count": 57,
     "metadata": {},
     "output_type": "execute_result"
    }
   ],
   "source": [
    "content[86].split(' ')"
   ]
  },
  {
   "cell_type": "code",
   "execution_count": null,
   "metadata": {
    "collapsed": true
   },
   "outputs": [],
   "source": []
  },
  {
   "cell_type": "code",
   "execution_count": 127,
   "metadata": {},
   "outputs": [
    {
     "data": {
      "text/plain": [
       "4"
      ]
     },
     "execution_count": 127,
     "metadata": {},
     "output_type": "execute_result"
    }
   ],
   "source": [
    "content[62].split(' ').index(\"=\") +1"
   ]
  },
  {
   "cell_type": "code",
   "execution_count": 125,
   "metadata": {},
   "outputs": [
    {
     "data": {
      "text/plain": [
       "True"
      ]
     },
     "execution_count": 125,
     "metadata": {},
     "output_type": "execute_result"
    }
   ],
   "source": [
    "any(\"=\" in s for s in content[62].split(' ') )"
   ]
  },
  {
   "cell_type": "code",
   "execution_count": null,
   "metadata": {
    "collapsed": true
   },
   "outputs": [],
   "source": []
  },
  {
   "cell_type": "code",
   "execution_count": 61,
   "metadata": {},
   "outputs": [
    {
     "name": "stdout",
     "output_type": "stream",
     "text": [
      "97.0000\n",
      "3.0000\n",
      "23.0\n",
      "750.0\n",
      "200.0000\n",
      "Z DRIFT VELOCITY = 0.1231E+01 MICRONS/NANOSECOND  +-    1.95%\n",
      "0.1231E+01\n",
      "1.95%\n",
      "Y DRIFT VELOCITY = 0.0000E+00 MICRONS/NANOSECOND  +-    0.00%\n",
      "0.0000E+00\n",
      "0.00%\n",
      "X DRIFT VELOCITY = 0.0000E+00 MICRONS/NANOSECOND  +-    0.00%\n",
      "0.0000E+00\n",
      "0.00%\n",
      "TRANSVERSE DIFFUSION   = 0.3826D+04 +-    6.66%\n",
      "0.3826D+04\n",
      "6.66%\n",
      "LONGITUDINAL DIFFUSION = 0.2810D+03 +-     7.2%\n",
      "0.2810D+03\n",
      "7.2%\n",
      "MEAN ELECTRON ENERGY =   1.6355 EV. ERROR =  +-    0.72%\n",
      "1.6355\n",
      "0.72%\n"
     ]
    }
   ],
   "source": [
    "print(content[10].split(' ')[-1])\n",
    "print(content[11].split(' ')[-1])\n",
    "print(content[14].split(' ')[4])\n",
    "print(content[15].split(' ')[5])\n",
    "print(content[28].split(' ')[6])\n",
    "\n",
    "print(content[62])\n",
    "print(content[62].split(' ')[4])\n",
    "print(content[62].split(' ')[-1])\n",
    "\n",
    "print(content[63])\n",
    "print(content[63].split(' ')[4])\n",
    "print(content[63].split(' ')[-1])\n",
    "\n",
    "print(content[64])\n",
    "print(content[64].split(' ')[4])\n",
    "print(content[64].split(' ')[-1])\n",
    "\n",
    "print(content[70])\n",
    "print(content[70].split(' ')[5])\n",
    "print(content[70].split(' ')[-1])\n",
    "\n",
    "print(content[75])\n",
    "print(content[75].split(' ')[3])\n",
    "print(content[75].split(' ')[-1])\n",
    "\n",
    "print(content[86])\n",
    "print(content[86].split(' ')[6])\n",
    "print(content[86].split(' ')[-1])"
   ]
  },
  {
   "cell_type": "code",
   "execution_count": 91,
   "metadata": {},
   "outputs": [
    {
     "name": "stdout",
     "output_type": "stream",
     "text": [
      "Z DRIFT VELOCITY = 0.1231E+01 MICRONS/NANOSECOND  +-    1.95%\n",
      "0.1231E+01\n",
      "0.0195\n"
     ]
    }
   ],
   "source": [
    "print(content[62])\n",
    "print(content[62].split(' ')[4].replace(\"D\",\"E\"))\n",
    "print(float(content[62].split(' ')[-1].split(\"%\")[0])/100)"
   ]
  },
  {
   "cell_type": "code",
   "execution_count": 93,
   "metadata": {},
   "outputs": [
    {
     "name": "stdout",
     "output_type": "stream",
     "text": [
      "MEAN ELECTRON ENERGY =   1.6355 EV. ERROR =  +-    0.72%\n",
      "1.6355\n",
      "0.72\n"
     ]
    }
   ],
   "source": [
    "print(content[86])\n",
    "print(float(content[86].split(' ')[6].replace(\"D\",\"E\")))\n",
    "print(content[86].split(' ')[-1].split(\"%\")[0])"
   ]
  },
  {
   "cell_type": "code",
   "execution_count": 141,
   "metadata": {},
   "outputs": [
    {
     "data": {
      "text/plain": [
       "'0.1231E+01'"
      ]
     },
     "execution_count": 141,
     "metadata": {},
     "output_type": "execute_result"
    }
   ],
   "source": [
    "content[62].split(' ').index(\"MICRONS/NANOSECOND\")-1\n",
    "content[62].split(' ')[4].split('=')[-1]"
   ]
  },
  {
   "cell_type": "code",
   "execution_count": 138,
   "metadata": {},
   "outputs": [
    {
     "data": {
      "text/plain": [
       "['', '-0.1466E-01']"
      ]
     },
     "execution_count": 138,
     "metadata": {},
     "output_type": "execute_result"
    }
   ],
   "source": [
    "a =   'Z DRIFT VELOCITY =-0.1466E-01 MICRONS/NANOSECOND  +-  -88.40%'\n",
    "aa = a.split(' ')\n",
    "aa.index(\"MICRONS/NANOSECOND\")-1\n",
    "aa[3].split('=')"
   ]
  },
  {
   "cell_type": "code",
   "execution_count": 142,
   "metadata": {
    "collapsed": true
   },
   "outputs": [],
   "source": [
    "def DataExtractor(file):\n",
    "    with open(file) as f:\n",
    "        content = f.readlines()\n",
    "    content = [x.strip() for x in content] \n",
    "    if len(content)>100:\n",
    "        XePer  = content[10].split(' ')[-1]  ; ArPer = content[11].split(' ')[-1]\n",
    "        Temp   = content[14].split(' ')[4]   ; Pres = content[15].split(' ')[-2]\n",
    "        Efield = content[28].split(' ')[-2]\n",
    "        Zloc   = content[62].split(' ').index(\"MICRONS/NANOSECOND\")-1\n",
    "        Zdrift = content[62].split(' ')[Zloc].split('=')[-1]   ; Zerr = content[62].split(' ')[-1].split(\"%\")[0]\n",
    "        Tdiff  = content[70].split(' ')[5].replace(\"D\",\"E\") ; Terr = content[70].split(' ')[-1].split(\"%\")[0]\n",
    "        Ldiff  = content[75].split(' ')[3].replace(\"D\",\"E\") ; Lerr = content[75].split(' ')[-1].split(\"%\")[0]\n",
    "        Mele   = content[86].split(' ')[6]                  ; Merr = content[86].split(' ')[-1].split(\"%\")[0]\n",
    "        Vals = [XePer, ArPer, Temp, Pres, Efield, Zdrift, Zerr,\n",
    "                Tdiff, Terr, Ldiff, Lerr, Mele, Merr]\n",
    "        Vals = [float(x) for x in Vals] \n",
    "    else:\n",
    "        XePer = content[10].split(' ')[-1] ; ArPer = content[11].split(' ')[-1]\n",
    "        Temp = content[14].split(' ')[4]   ; Pres = content[15].split(' ')[-2]\n",
    "        Efield = content[28].split(' ')[-2]\n",
    "        Vals = [XePer, ArPer, Temp, Pres, Efield, 0,0,0,0,0,0,0,0]\n",
    "        Vals = [float(x) for x in Vals]\n",
    "        \n",
    "    return Vals"
   ]
  },
  {
   "cell_type": "code",
   "execution_count": 143,
   "metadata": {},
   "outputs": [
    {
     "data": {
      "text/plain": [
       "[97.0,\n",
       " 3.0,\n",
       " 23.0,\n",
       " 750.0,\n",
       " 200.0,\n",
       " 1.231,\n",
       " 1.95,\n",
       " 3826.0,\n",
       " 6.66,\n",
       " 281.0,\n",
       " 7.2,\n",
       " 1.6355,\n",
       " 0.72]"
      ]
     },
     "execution_count": 143,
     "metadata": {},
     "output_type": "execute_result"
    }
   ],
   "source": [
    "DataExtractor(PATH+\"Outtt.txt\")"
   ]
  },
  {
   "cell_type": "code",
   "execution_count": 7,
   "metadata": {},
   "outputs": [
    {
     "data": {
      "text/plain": [
       "'000'"
      ]
     },
     "execution_count": 7,
     "metadata": {},
     "output_type": "execute_result"
    }
   ],
   "source": [
    "Fname='Xe-100_Ar-000_P-02250_E-200_.txt '\n",
    "XeP = Fname.split(\"_\")[0].split('-')[-1]\n",
    "ArP = Fname.split(\"_\")[1].split('-')[-1]\n",
    "ArPer"
   ]
  },
  {
   "cell_type": "code",
   "execution_count": null,
   "metadata": {
    "collapsed": true
   },
   "outputs": [],
   "source": [
    "      XENON 2013   ANISOTROPIC       100.0000\n",
    "\n",
    "\n",
    "  GAS TEMPERATURE =  23.0 DEGREES CENTIGRADE.\n",
    "  GAS PRESSURE =  2250.0 TORR."
   ]
  },
  {
   "cell_type": "code",
   "execution_count": null,
   "metadata": {
    "collapsed": true
   },
   "outputs": [],
   "source": [
    "print(content[15].split(' ')[5])"
   ]
  },
  {
   "cell_type": "code",
   "execution_count": 9,
   "metadata": {},
   "outputs": [
    {
     "data": {
      "text/plain": [
       "'2250.0'"
      ]
     },
     "execution_count": 9,
     "metadata": {},
     "output_type": "execute_result"
    }
   ],
   "source": [
    "a = 'GAS PRESSURE =  2250.0 TORR.'\n",
    "a.split(' ')[-2]"
   ]
  },
  {
   "cell_type": "code",
   "execution_count": 4,
   "metadata": {},
   "outputs": [
    {
     "ename": "ValueError",
     "evalue": "invalid literal for int() with base 10: ''",
     "output_type": "error",
     "traceback": [
      "\u001b[0;31m---------------------------------------------------------------------------\u001b[0m",
      "\u001b[0;31mValueError\u001b[0m                                Traceback (most recent call last)",
      "\u001b[0;32m<ipython-input-4-246a058e96a8>\u001b[0m in \u001b[0;36m<module>\u001b[0;34m()\u001b[0m\n\u001b[0;32m----> 1\u001b[0;31m \u001b[0mint\u001b[0m\u001b[0;34m(\u001b[0m\u001b[0ma\u001b[0m\u001b[0;34m.\u001b[0m\u001b[0msplit\u001b[0m\u001b[0;34m(\u001b[0m\u001b[0;34m' '\u001b[0m\u001b[0;34m)\u001b[0m\u001b[0;34m[\u001b[0m\u001b[0;36m3\u001b[0m\u001b[0;34m]\u001b[0m\u001b[0;34m)\u001b[0m\u001b[0;34m\u001b[0m\u001b[0m\n\u001b[0m",
      "\u001b[0;31mValueError\u001b[0m: invalid literal for int() with base 10: ''"
     ]
    }
   ],
   "source": [
    "int(a.split(' ')[3])"
   ]
  },
  {
   "cell_type": "code",
   "execution_count": null,
   "metadata": {
    "collapsed": true
   },
   "outputs": [],
   "source": []
  },
  {
   "cell_type": "code",
   "execution_count": null,
   "metadata": {
    "collapsed": true
   },
   "outputs": [],
   "source": []
  },
  {
   "cell_type": "code",
   "execution_count": null,
   "metadata": {
    "collapsed": true
   },
   "outputs": [],
   "source": []
  },
  {
   "cell_type": "code",
   "execution_count": null,
   "metadata": {
    "collapsed": true
   },
   "outputs": [],
   "source": []
  },
  {
   "cell_type": "code",
   "execution_count": null,
   "metadata": {
    "collapsed": true
   },
   "outputs": [],
   "source": []
  },
  {
   "cell_type": "code",
   "execution_count": null,
   "metadata": {
    "collapsed": true
   },
   "outputs": [],
   "source": []
  },
  {
   "cell_type": "code",
   "execution_count": null,
   "metadata": {
    "collapsed": true
   },
   "outputs": [],
   "source": []
  },
  {
   "cell_type": "code",
   "execution_count": null,
   "metadata": {
    "collapsed": true
   },
   "outputs": [],
   "source": []
  }
 ],
 "metadata": {
  "kernelspec": {
   "display_name": "Python 3",
   "language": "python",
   "name": "python3"
  },
  "language_info": {
   "codemirror_mode": {
    "name": "ipython",
    "version": 3
   },
   "file_extension": ".py",
   "mimetype": "text/x-python",
   "name": "python",
   "nbconvert_exporter": "python",
   "pygments_lexer": "ipython3",
   "version": "3.5.2"
  }
 },
 "nbformat": 4,
 "nbformat_minor": 1
}
