{
 "cells": [
  {
   "cell_type": "code",
   "execution_count": 1,
   "metadata": {
    "collapsed": true
   },
   "outputs": [],
   "source": [
    "import numpy as np"
   ]
  },
  {
   "cell_type": "code",
   "execution_count": 2,
   "metadata": {},
   "outputs": [
    {
     "name": "stdout",
     "output_type": "stream",
     "text": [
      "12\n"
     ]
    },
    {
     "data": {
      "text/plain": [
       "array([  0,  20,  40,  60,  80, 100, 150, 200, 250, 300, 350, 400])"
      ]
     },
     "execution_count": 2,
     "metadata": {},
     "output_type": "execute_result"
    }
   ],
   "source": [
    "Efields = np.append(np.arange(0,100,20),np.arange(100,410,50))\n",
    "print(len(Efields))\n",
    "Efields"
   ]
  },
  {
   "cell_type": "code",
   "execution_count": 3,
   "metadata": {},
   "outputs": [
    {
     "name": "stdout",
     "output_type": "stream",
     "text": [
      "7\n"
     ]
    },
    {
     "data": {
      "text/plain": [
       "[375, 750, 2250, 3750, 5250, 6750, 8250]"
      ]
     },
     "execution_count": 3,
     "metadata": {},
     "output_type": "execute_result"
    }
   ],
   "source": [
    "pre1 = np.array([0.5])\n",
    "Pressure = np.append(pre1,np.arange(1,12,2))*750\n",
    "Pressure = [int(Input) for Input in Pressure]\n",
    "print(len(Pressure))\n",
    "Pressure"
   ]
  },
  {
   "cell_type": "code",
   "execution_count": 4,
   "metadata": {},
   "outputs": [
    {
     "name": "stdout",
     "output_type": "stream",
     "text": [
      "21\n"
     ]
    },
    {
     "data": {
      "text/plain": [
       "array([  0,   5,  10,  15,  20,  25,  30,  35,  40,  45,  50,  55,  60,\n",
       "        65,  70,  75,  80,  85,  90,  95, 100])"
      ]
     },
     "execution_count": 4,
     "metadata": {},
     "output_type": "execute_result"
    }
   ],
   "source": [
    "Fractions = np.arange(0,101,5)\n",
    "print(len(Fractions))\n",
    "FractionsAr = Fractions\n",
    "FractionsAr"
   ]
  },
  {
   "cell_type": "code",
   "execution_count": 5,
   "metadata": {},
   "outputs": [
    {
     "data": {
      "text/plain": [
       "array([100,  95,  90,  85,  80,  75,  70,  65,  60,  55,  50,  45,  40,\n",
       "        35,  30,  25,  20,  15,  10,   5,   0])"
      ]
     },
     "execution_count": 5,
     "metadata": {},
     "output_type": "execute_result"
    }
   ],
   "source": [
    "FractionsXe = 100-Fractions\n",
    "FractionsXe"
   ]
  },
  {
   "cell_type": "code",
   "execution_count": 6,
   "metadata": {
    "collapsed": true
   },
   "outputs": [],
   "source": [
    "def CardGen(Pressure, Efield, XePer, ArPer):\n",
    "    NGAS   = 2\n",
    "    NMAX   = 2\n",
    "    IPEN   = 0\n",
    "    ITHERM = 1\n",
    "    EFINAL = 0.0\n",
    "    NGAS1  = 7\n",
    "    NGAS2  = 2\n",
    "    NGAS3  = 0\n",
    "    NGAS4  = 0\n",
    "    NGAS5  = 0\n",
    "    NGAS6  = 0\n",
    "    FRAC1  = XePer\n",
    "    FRAC2  = ArPer\n",
    "    FRAC3  = 0\n",
    "    FRAC4  = 0\n",
    "    FRAC5  = 0\n",
    "    FRAC6  = 0\n",
    "    TEMP   = 23\n",
    "    TORR   = Pressure\n",
    "    EFIELD = Efield\n",
    "    BMAG   = 0\n",
    "    BTHETA = 0\n",
    "    TERM   = 4*NGAS+1\n",
    "\n",
    "    InputCard = [NGAS,  NMAX,  IPEN,   ITHERM, EFINAL,\n",
    "                 NGAS1, NGAS2, NGAS3,  NGAS4,  NGAS5,  NGAS6,\n",
    "                 FRAC1, FRAC2, FRAC3,  FRAC4,  FRAC5,  FRAC6,\n",
    "                 TEMP,  TORR,  EFIELD, BMAG,   BTHETA, TERM ] \n",
    "\n",
    "    InputCard = [str(Input) for Input in InputCard]\n",
    "    Xe  = str(XePer).zfill(3)\n",
    "    Ar  = str(ArPer).zfill(3)\n",
    "    P = str(Pressure).zfill(4)\n",
    "    E   = str(Efield).zfill(3)\n",
    "    FileName  = \"Xe-\"+Xe+\"_Ar-\"+Ar+\"_P-\"+P+\"_E-\"+E+\"_.txt\"\n",
    "    ScriptName  = \"Xe-\"+Xe+\"_Ar-\"+Ar+\"_P-\"+P+\"_E-\"+E+\"_.sh\"\n",
    "    return InputCard , FileName, ScriptName\n",
    "    "
   ]
  },
  {
   "cell_type": "code",
   "execution_count": 20,
   "metadata": {
    "collapsed": true
   },
   "outputs": [],
   "source": [
    "FractionsAr = np.array([97.994, 91.863, 84.747, 64.432, 0.953])\n",
    "FractionsEr = np.array([ 0.575, 0.417, 0.344, 0.216, 0.121])"
   ]
  },
  {
   "cell_type": "code",
   "execution_count": 21,
   "metadata": {},
   "outputs": [
    {
     "data": {
      "text/plain": [
       "array([  1.431,   7.72 ,  14.909,  35.352,  98.926,   2.581,   8.554,\n",
       "        15.597,  35.784,  99.168])"
      ]
     },
     "execution_count": 21,
     "metadata": {},
     "output_type": "execute_result"
    }
   ],
   "source": [
    "FAR = FractionsAr+FractionsEr\n",
    "FAR = np.append(FAR,FractionsAr-FractionsEr)\n",
    "100-FAR"
   ]
  },
  {
   "cell_type": "code",
   "execution_count": 22,
   "metadata": {},
   "outputs": [
    {
     "data": {
      "text/plain": [
       "array([  2.006,   8.137,  15.253,  35.568,  99.047,   2.006,   8.137,\n",
       "        15.253,  35.568,  99.047])"
      ]
     },
     "execution_count": 22,
     "metadata": {},
     "output_type": "execute_result"
    }
   ],
   "source": [
    "FAR = FractionsAr#+FractionsEr\n",
    "FAR = np.append(FAR,FractionsAr)#-FractionsEr)\n",
    "100-FAR"
   ]
  },
  {
   "cell_type": "code",
   "execution_count": null,
   "metadata": {
    "collapsed": true
   },
   "outputs": [],
   "source": []
  },
  {
   "cell_type": "code",
   "execution_count": 9,
   "metadata": {},
   "outputs": [],
   "source": [
    "FArUP = FractionsAr+FractionsEr\n",
    "FXeup = 100-FArUP"
   ]
  },
  {
   "cell_type": "code",
   "execution_count": 16,
   "metadata": {},
   "outputs": [],
   "source": [
    "Card, Fname, ScrName = CardGen(10,200,FXeup[4],100-FXeup[4])"
   ]
  },
  {
   "cell_type": "code",
   "execution_count": 17,
   "metadata": {},
   "outputs": [
    {
     "data": {
      "text/plain": [
       "'Xe-98.926_Ar-1.074_P-0010_E-200_.txt'"
      ]
     },
     "execution_count": 17,
     "metadata": {},
     "output_type": "execute_result"
    }
   ],
   "source": [
    "Fname"
   ]
  },
  {
   "cell_type": "code",
   "execution_count": 14,
   "metadata": {},
   "outputs": [
    {
     "data": {
      "text/plain": [
       "1.4309999999999974"
      ]
     },
     "execution_count": 14,
     "metadata": {},
     "output_type": "execute_result"
    }
   ],
   "source": [
    "FXeup[0]"
   ]
  },
  {
   "cell_type": "code",
   "execution_count": null,
   "metadata": {
    "collapsed": true
   },
   "outputs": [],
   "source": []
  },
  {
   "cell_type": "code",
   "execution_count": null,
   "metadata": {
    "collapsed": true
   },
   "outputs": [],
   "source": []
  },
  {
   "cell_type": "code",
   "execution_count": null,
   "metadata": {
    "collapsed": true
   },
   "outputs": [],
   "source": []
  },
  {
   "cell_type": "code",
   "execution_count": null,
   "metadata": {
    "collapsed": true
   },
   "outputs": [],
   "source": []
  },
  {
   "cell_type": "code",
   "execution_count": null,
   "metadata": {
    "collapsed": true
   },
   "outputs": [],
   "source": []
  },
  {
   "cell_type": "code",
   "execution_count": 88,
   "metadata": {
    "collapsed": true
   },
   "outputs": [],
   "source": [
    "def InputFileGen(Card,Path,Name):\n",
    "    FullPath = Path+Name\n",
    "    File = open(FullPath,'a')\n",
    "    for Input in Card:\n",
    "        File.write(Input)\n",
    "        File.write(\"\\n\")\n",
    "    File.close()"
   ]
  },
  {
   "cell_type": "code",
   "execution_count": 92,
   "metadata": {
    "collapsed": true
   },
   "outputs": [],
   "source": [
    "def ScriptGen(ScrPath, ScrName,MagPath, InputPath, OutPath, Fname):\n",
    "    SCPath = ScrPath+ScrName\n",
    "    InPath   = InputPath+Fname\n",
    "    OutPath  = OutPath+Fname\n",
    "    File = open(SCPath,'a')\n",
    "    File.write(\"#!/bin/sh\"+\"\\n\")\n",
    "    File.write(\"#PBS -q hep\"+\"\\n\")\n",
    "    File.write(\"#PBS -l nodes=1 \"+\"\\n\")\n",
    "    File.write(\"#PBS -l cput=00:30:00  \"+\"\\n\")\n",
    "    File.write(\"#PBS -m bea\"+\"\\n\")\n",
    "    File.write(\"#PBS -M austin.mcdonald@uta.edu\"+\"\\n\")\n",
    "    File.write(\"\\n\")\n",
    "    File.write(MagPath+\" < \"+InPath+\" > \"+OutPath)\n",
    "    File.close()"
   ]
  },
  {
   "cell_type": "code",
   "execution_count": null,
   "metadata": {
    "collapsed": true
   },
   "outputs": [],
   "source": []
  },
  {
   "cell_type": "code",
   "execution_count": null,
   "metadata": {
    "collapsed": true
   },
   "outputs": [],
   "source": []
  },
  {
   "cell_type": "code",
   "execution_count": 95,
   "metadata": {
    "collapsed": true
   },
   "outputs": [],
   "source": [
    "PATH      = \"/Users/austinmcdonald/Desktop/TestIN/\"\n",
    "MagPath   = '/cluster/home/amcdonald/Gas-Physics/a.out'\n",
    "InputPath = '/Users/austinmcdonald/Desktop/TestIN/Input/'\n",
    "OutPath   = '/Users/austinmcdonald/Desktop/TestIN/Output/'\n",
    "ScrPath   = '/Users/austinmcdonald/Desktop/TestIN/Script/'\n",
    "for P in Pressure:\n",
    "    for E in Efields:\n",
    "        for FXe in FractionsXe:\n",
    "            Card, Fname, ScrName = CardGen(P,E,FXe,100-FXe)\n",
    "            InputFileGen(Card, InputPath, Fname)\n",
    "            ScriptGen(ScrPath, ScrName,MagPath, InputPath, OutPath, Fname)\n",
    "        "
   ]
  },
  {
   "cell_type": "code",
   "execution_count": null,
   "metadata": {
    "collapsed": true
   },
   "outputs": [],
   "source": []
  },
  {
   "cell_type": "code",
   "execution_count": null,
   "metadata": {
    "collapsed": true
   },
   "outputs": [],
   "source": []
  },
  {
   "cell_type": "code",
   "execution_count": null,
   "metadata": {
    "collapsed": true
   },
   "outputs": [],
   "source": []
  },
  {
   "cell_type": "code",
   "execution_count": null,
   "metadata": {
    "collapsed": true
   },
   "outputs": [],
   "source": []
  },
  {
   "cell_type": "code",
   "execution_count": null,
   "metadata": {
    "collapsed": true
   },
   "outputs": [],
   "source": []
  },
  {
   "cell_type": "code",
   "execution_count": null,
   "metadata": {
    "collapsed": true
   },
   "outputs": [],
   "source": []
  },
  {
   "cell_type": "code",
   "execution_count": null,
   "metadata": {
    "collapsed": true
   },
   "outputs": [],
   "source": []
  },
  {
   "cell_type": "code",
   "execution_count": null,
   "metadata": {
    "collapsed": true
   },
   "outputs": [],
   "source": []
  },
  {
   "cell_type": "code",
   "execution_count": null,
   "metadata": {
    "collapsed": true
   },
   "outputs": [],
   "source": []
  },
  {
   "cell_type": "code",
   "execution_count": null,
   "metadata": {
    "collapsed": true
   },
   "outputs": [],
   "source": []
  },
  {
   "cell_type": "code",
   "execution_count": 68,
   "metadata": {
    "collapsed": true
   },
   "outputs": [],
   "source": [
    "MagPath = '/cluster/home/amcdonald/Gas-Physics/a.out'\n",
    "InputPath = '/cluster/home/amcdonald/Gas-Physics/inputTest.txt'\n",
    "OutPath  = '/cluster/home/amcdonald/Gas-Physics/Outputs/Test2.txt'\n",
    "def ScriptGen(ScrPath, ScrName,MagPath, InputPath, OutPath, Fname):\n",
    "    FullPath = ScrPath+ScrName\n",
    "    InPath   = InputPath+Fname\n",
    "    OutPath  = OutPath+Fname\n",
    "    File = open(FullPath,'a')\n",
    "    File.write(\"#!/bin/sh\"+\"\\n\")\n",
    "    File.write(\"#PBS -q hep\"+\"\\n\")\n",
    "    File.write(\"#PBS -l nodes=1 \"+\"\\n\")\n",
    "    File.write(\"#PBS -l cput=00:30:00  \"+\"\\n\")\n",
    "    File.write(\"#PBS -m bea\"+\"\\n\")\n",
    "    File.write(\"#PBS -M austin.mcdonald@uta.edu\"+\"\\n\")\n",
    "    File.write(\"\\n\")\n",
    "    File.write(MagPath+\" < \"+InPath+\" > \"+OutPath)\n",
    "    File.close()"
   ]
  },
  {
   "cell_type": "code",
   "execution_count": 65,
   "metadata": {
    "collapsed": true
   },
   "outputs": [],
   "source": [
    "PATH = \"/Users/austinmcdonald/Desktop/TestIN/\"\n",
    "ScriptGen(PATH, 'Test.sh',MagPath, InputPath, OutPath)"
   ]
  },
  {
   "cell_type": "code",
   "execution_count": null,
   "metadata": {
    "collapsed": true
   },
   "outputs": [],
   "source": [
    "#!/bin/sh                                                                                                                                                           \n",
    "#PBS -q hep                                                                                                                                                         \n",
    "#PBS -l nodes=1                                                                                                                                                     \n",
    "#PBS -l cput=00:30:00                                                                                                                                               \n",
    "#PBS -m bea                                                                                                                                                         \n",
    "#PBS -M austin.mcdonald@uta.edu                                                                                                                                     \n",
    "\n",
    "\n",
    "/cluster/home/amcdonald/Gas-Physics/a.out < /cluster/home/amcdonald/Gas-Physics/inputTest.txt > /cluster/home/amcdonald/Gas-Physics/Outputs/Test2.txt\n",
    "\n",
    "\n"
   ]
  },
  {
   "cell_type": "code",
   "execution_count": null,
   "metadata": {
    "collapsed": true
   },
   "outputs": [],
   "source": []
  },
  {
   "cell_type": "code",
   "execution_count": null,
   "metadata": {
    "collapsed": true
   },
   "outputs": [],
   "source": []
  },
  {
   "cell_type": "code",
   "execution_count": 52,
   "metadata": {
    "collapsed": true
   },
   "outputs": [],
   "source": [
    "Card, Fname = CardGen(Pressure[6],Efields[0],FractionsXe[0],FractionsAr[0])"
   ]
  },
  {
   "cell_type": "code",
   "execution_count": null,
   "metadata": {
    "collapsed": true
   },
   "outputs": [],
   "source": [
    "def InputFile(Card,Path,Name):\n",
    "    FullPath = Path+Name\n",
    "    File = open(FullPath,'a')\n",
    "    for Input in Card:\n",
    "        File.write(Input)\n",
    "        File.write(\"\\n\")\n",
    "    File.close()"
   ]
  },
  {
   "cell_type": "code",
   "execution_count": null,
   "metadata": {
    "collapsed": true
   },
   "outputs": [],
   "source": [
    "/Users/austinmcdonald/Desktop/TestIN"
   ]
  },
  {
   "cell_type": "code",
   "execution_count": null,
   "metadata": {
    "collapsed": true
   },
   "outputs": [],
   "source": [
    "F = open(\"/Users/austinmcdonald/Desktop/TTest.txt\",'a')\n",
    "for Input in InputCard:\n",
    "    F.write(Input)\n",
    "    F.write(\"\\n\")\n",
    "F.close()"
   ]
  },
  {
   "cell_type": "code",
   "execution_count": null,
   "metadata": {
    "collapsed": true
   },
   "outputs": [],
   "source": []
  },
  {
   "cell_type": "code",
   "execution_count": null,
   "metadata": {
    "collapsed": true
   },
   "outputs": [],
   "source": []
  },
  {
   "cell_type": "code",
   "execution_count": null,
   "metadata": {
    "collapsed": true
   },
   "outputs": [],
   "source": []
  },
  {
   "cell_type": "code",
   "execution_count": null,
   "metadata": {
    "collapsed": true
   },
   "outputs": [],
   "source": []
  },
  {
   "cell_type": "code",
   "execution_count": null,
   "metadata": {
    "collapsed": true
   },
   "outputs": [],
   "source": []
  },
  {
   "cell_type": "code",
   "execution_count": null,
   "metadata": {
    "collapsed": true
   },
   "outputs": [],
   "source": []
  },
  {
   "cell_type": "code",
   "execution_count": null,
   "metadata": {
    "collapsed": true
   },
   "outputs": [],
   "source": []
  },
  {
   "cell_type": "code",
   "execution_count": 7,
   "metadata": {
    "collapsed": true
   },
   "outputs": [],
   "source": [
    "NGAS   = 2\n",
    "NMAX   = 2\n",
    "IPEN   = 0\n",
    "ITHERM = 1\n",
    "EFINAL = 0.0\n",
    "NGAS1  = 7\n",
    "NGAS2  = 2\n",
    "NGAS3  = 0\n",
    "NGAS4  = 0\n",
    "NGAS5  = 0\n",
    "NGAS6  = 0\n",
    "FRAC1  = 97\n",
    "FRAC2  = 3\n",
    "FRAC3  = 0\n",
    "FRAC4  = 0\n",
    "FRAC5  = 0\n",
    "FRAC6  = 0\n",
    "TEMP   = 23\n",
    "TORR   = 750\n",
    "EFIELD = 200\n",
    "BMAG   = 0\n",
    "BTHETA = 0\n",
    "TERM   = 4*NGAS+1\n",
    "\n",
    "InputCard = [NGAS,  NMAX,  IPEN,   ITHERM, EFINAL,\n",
    "             NGAS1, NGAS2, NGAS3,  NGAS4,  NGAS5,  NGAS6,\n",
    "             FRAC1, FRAC2, FRAC3,  FRAC4,  FRAC5,  FRAC6,\n",
    "             TEMP,  TORR,  EFIELD, BMAG,   BTHETA, TERM ] \n",
    "\n",
    "InputCard = [str(Input) for Input in InputCard]"
   ]
  },
  {
   "cell_type": "code",
   "execution_count": 8,
   "metadata": {
    "collapsed": true
   },
   "outputs": [],
   "source": [
    "InputCard = [str(Input) for Input in InputCard]"
   ]
  },
  {
   "cell_type": "code",
   "execution_count": 9,
   "metadata": {
    "collapsed": true
   },
   "outputs": [],
   "source": [
    "F = open(\"/Users/austinmcdonald/Desktop/TTest.txt\",'a')\n",
    "for Input in InputCard:\n",
    "    F.write(Input)\n",
    "    F.write(\"\\n\")\n",
    "F.close()"
   ]
  },
  {
   "cell_type": "code",
   "execution_count": null,
   "metadata": {
    "collapsed": true
   },
   "outputs": [],
   "source": []
  },
  {
   "cell_type": "code",
   "execution_count": 14,
   "metadata": {},
   "outputs": [
    {
     "data": {
      "text/plain": [
       "362.3188405797101"
      ]
     },
     "execution_count": 14,
     "metadata": {},
     "output_type": "execute_result"
    }
   ],
   "source": [
    "5000/13.8"
   ]
  },
  {
   "cell_type": "code",
   "execution_count": null,
   "metadata": {
    "collapsed": true
   },
   "outputs": [],
   "source": []
  },
  {
   "cell_type": "code",
   "execution_count": null,
   "metadata": {
    "collapsed": true
   },
   "outputs": [],
   "source": []
  },
  {
   "cell_type": "code",
   "execution_count": null,
   "metadata": {
    "collapsed": true
   },
   "outputs": [],
   "source": []
  },
  {
   "cell_type": "code",
   "execution_count": null,
   "metadata": {
    "collapsed": true
   },
   "outputs": [],
   "source": []
  },
  {
   "cell_type": "code",
   "execution_count": 8,
   "metadata": {
    "collapsed": true
   },
   "outputs": [],
   "source": [
    "InputCardStr = [str(Input) for Input in InputCard]"
   ]
  },
  {
   "cell_type": "code",
   "execution_count": 9,
   "metadata": {},
   "outputs": [
    {
     "data": {
      "text/plain": [
       "['2',\n",
       " '2',\n",
       " '0',\n",
       " '1',\n",
       " '0.0',\n",
       " '7',\n",
       " '2',\n",
       " '0',\n",
       " '0',\n",
       " '0',\n",
       " '0',\n",
       " '97',\n",
       " '3',\n",
       " '0',\n",
       " '0',\n",
       " '0',\n",
       " '0',\n",
       " '23',\n",
       " '750',\n",
       " '200',\n",
       " '0',\n",
       " '0',\n",
       " '9']"
      ]
     },
     "execution_count": 9,
     "metadata": {},
     "output_type": "execute_result"
    }
   ],
   "source": [
    "InputCardStr"
   ]
  },
  {
   "cell_type": "code",
   "execution_count": 13,
   "metadata": {
    "collapsed": true
   },
   "outputs": [],
   "source": [
    "a=[]\n",
    "for Input in InputCardStr:\n",
    "    a.append(Input.encode())"
   ]
  },
  {
   "cell_type": "code",
   "execution_count": 14,
   "metadata": {},
   "outputs": [
    {
     "data": {
      "text/plain": [
       "[b'2',\n",
       " b'2',\n",
       " b'0',\n",
       " b'1',\n",
       " b'0.0',\n",
       " b'7',\n",
       " b'2',\n",
       " b'0',\n",
       " b'0',\n",
       " b'0',\n",
       " b'0',\n",
       " b'97',\n",
       " b'3',\n",
       " b'0',\n",
       " b'0',\n",
       " b'0',\n",
       " b'0',\n",
       " b'23',\n",
       " b'750',\n",
       " b'200',\n",
       " b'0',\n",
       " b'0',\n",
       " b'9']"
      ]
     },
     "execution_count": 14,
     "metadata": {},
     "output_type": "execute_result"
    }
   ],
   "source": [
    "a"
   ]
  },
  {
   "cell_type": "code",
   "execution_count": null,
   "metadata": {
    "collapsed": true
   },
   "outputs": [],
   "source": []
  },
  {
   "cell_type": "code",
   "execution_count": 15,
   "metadata": {
    "collapsed": true
   },
   "outputs": [],
   "source": [
    "import numpy as np"
   ]
  },
  {
   "cell_type": "code",
   "execution_count": 21,
   "metadata": {
    "collapsed": true
   },
   "outputs": [],
   "source": [
    "D1 = 1.58\n",
    "D2 = 13.8\n",
    "D3 = 0.397\n",
    "\n",
    "Drift_Field = np.linspace(10,500,50)\n",
    "Vbias_Drift = Drift_Field*D2\n",
    "Vbial_Plate = 2*Drift_Field*D1\n",
    "Vbias_Gold  = Vbias_Drift + 300*D3"
   ]
  },
  {
   "cell_type": "code",
   "execution_count": 31,
   "metadata": {},
   "outputs": [
    {
     "name": "stdout",
     "output_type": "stream",
     "text": [
      "Drift field of  300.0\n",
      "Gold Bias of  4259.1\n",
      "Drift Bias of  4140.0\n",
      "Plate Bias of  948.0\n",
      "\n",
      "Reduced field of  27.2727272727\n"
     ]
    }
   ],
   "source": [
    "Run = 29\n",
    "print(\"Drift field of \", Drift_Field[Run])\n",
    "print(\"Gold Bias of \" , Vbias_Gold[Run])\n",
    "print(\"Drift Bias of \", Vbias_Drift[Run])\n",
    "print(\"Plate Bias of \", Vbial_Plate[Run])\n",
    "print()\n",
    "print(\"Reduced field of \",Drift_Field[Run]/11)"
   ]
  },
  {
   "cell_type": "code",
   "execution_count": 32,
   "metadata": {},
   "outputs": [
    {
     "name": "stdout",
     "output_type": "stream",
     "text": [
      "Drift field of  250.0\n",
      "Gold Bias of  3569.1\n",
      "Drift Bias of  3450.0\n",
      "Plate Bias of  790.0\n",
      "\n",
      "Reduced field of  22.7272727273\n"
     ]
    }
   ],
   "source": [
    "Run = 24\n",
    "print(\"Drift field of \", Drift_Field[Run])\n",
    "print(\"Gold Bias of \" , Vbias_Gold[Run])\n",
    "print(\"Drift Bias of \", Vbias_Drift[Run])\n",
    "print(\"Plate Bias of \", Vbial_Plate[Run])\n",
    "print()\n",
    "print(\"Reduced field of \",Drift_Field[Run]/11)"
   ]
  },
  {
   "cell_type": "code",
   "execution_count": null,
   "metadata": {
    "collapsed": true
   },
   "outputs": [],
   "source": []
  },
  {
   "cell_type": "code",
   "execution_count": 33,
   "metadata": {},
   "outputs": [
    {
     "name": "stdout",
     "output_type": "stream",
     "text": [
      "Drift field of  200.0\n",
      "Gold Bias of  2879.1\n",
      "Drift Bias of  2760.0\n",
      "Plate Bias of  632.0\n",
      "\n",
      "Reduced field of  18.1818181818\n"
     ]
    }
   ],
   "source": [
    "Run = 19\n",
    "print(\"Drift field of \", Drift_Field[Run])\n",
    "print(\"Gold Bias of \" , Vbias_Gold[Run])\n",
    "print(\"Drift Bias of \", Vbias_Drift[Run])\n",
    "print(\"Plate Bias of \", Vbial_Plate[Run])\n",
    "print()\n",
    "print(\"Reduced field of \",Drift_Field[Run]/11)"
   ]
  },
  {
   "cell_type": "code",
   "execution_count": 35,
   "metadata": {},
   "outputs": [
    {
     "name": "stdout",
     "output_type": "stream",
     "text": [
      "Drift field of  150.0\n",
      "Gold Bias of  2189.1\n",
      "Drift Bias of  2070.0\n",
      "Plate Bias of  474.0\n",
      "\n",
      "Reduced field of  13.6363636364\n"
     ]
    }
   ],
   "source": [
    "Run = 14\n",
    "print(\"Drift field of \", Drift_Field[Run])\n",
    "print(\"Gold Bias of \" , Vbias_Gold[Run])\n",
    "print(\"Drift Bias of \", Vbias_Drift[Run])\n",
    "print(\"Plate Bias of \", Vbial_Plate[Run])\n",
    "print()\n",
    "print(\"Reduced field of \",Drift_Field[Run]/11)"
   ]
  },
  {
   "cell_type": "code",
   "execution_count": 36,
   "metadata": {},
   "outputs": [
    {
     "name": "stdout",
     "output_type": "stream",
     "text": [
      "Drift field of  100.0\n",
      "Gold Bias of  1499.1\n",
      "Drift Bias of  1380.0\n",
      "Plate Bias of  316.0\n",
      "\n",
      "Reduced field of  9.09090909091\n"
     ]
    }
   ],
   "source": [
    "Run = 9\n",
    "print(\"Drift field of \", Drift_Field[Run])\n",
    "print(\"Gold Bias of \" , Vbias_Gold[Run])\n",
    "print(\"Drift Bias of \", Vbias_Drift[Run])\n",
    "print(\"Plate Bias of \", Vbial_Plate[Run])\n",
    "print()\n",
    "print(\"Reduced field of \",Drift_Field[Run]/11)"
   ]
  },
  {
   "cell_type": "code",
   "execution_count": 39,
   "metadata": {},
   "outputs": [
    {
     "name": "stdout",
     "output_type": "stream",
     "text": [
      "Drift field of  50.0\n",
      "Gold Bias of  809.1\n",
      "Drift Bias of  690.0\n",
      "Plate Bias of  158.0\n",
      "\n",
      "Reduced field of  4.54545454545\n"
     ]
    }
   ],
   "source": [
    "Run = \n",
    "print(\"Drift field of \", Drift_Field[Run])\n",
    "print(\"Gold Bias of \" , Vbias_Gold[Run])\n",
    "print(\"Drift Bias of \", Vbias_Drift[Run])\n",
    "print(\"Plate Bias of \", Vbial_Plate[Run])\n",
    "print()\n",
    "print(\"Reduced field of \",Drift_Field[Run]/11)"
   ]
  },
  {
   "cell_type": "code",
   "execution_count": null,
   "metadata": {
    "collapsed": true
   },
   "outputs": [],
   "source": []
  },
  {
   "cell_type": "code",
   "execution_count": null,
   "metadata": {
    "collapsed": true
   },
   "outputs": [],
   "source": []
  },
  {
   "cell_type": "code",
   "execution_count": null,
   "metadata": {
    "collapsed": true
   },
   "outputs": [],
   "source": []
  }
 ],
 "metadata": {
  "kernelspec": {
   "display_name": "Python 3",
   "language": "python",
   "name": "python3"
  },
  "language_info": {
   "codemirror_mode": {
    "name": "ipython",
    "version": 3
   },
   "file_extension": ".py",
   "mimetype": "text/x-python",
   "name": "python",
   "nbconvert_exporter": "python",
   "pygments_lexer": "ipython3",
   "version": "3.5.2"
  }
 },
 "nbformat": 4,
 "nbformat_minor": 1
}
