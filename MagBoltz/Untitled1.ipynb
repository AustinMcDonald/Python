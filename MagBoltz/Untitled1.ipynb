{
 "cells": [
  {
   "cell_type": "code",
   "execution_count": 4,
   "metadata": {
    "collapsed": true
   },
   "outputs": [],
   "source": [
    "import numpy as np\n",
    "import os"
   ]
  },
  {
   "cell_type": "code",
   "execution_count": 6,
   "metadata": {},
   "outputs": [
    {
     "name": "stdout",
     "output_type": "stream",
     "text": [
      "/Users/austinmcdonald/Desktop/DONE-HOLD\n"
     ]
    }
   ],
   "source": [
    "cd /Users/austinmcdonald/Desktop/DONE-HOLD/"
   ]
  },
  {
   "cell_type": "code",
   "execution_count": 9,
   "metadata": {
    "collapsed": true
   },
   "outputs": [],
   "source": [
    "#InputPath = '/cluster/home/amcdonald/Gas-Physics/XeAr/Input/'\n",
    "\n",
    "Efields = np.array([80, 100, 150, 200, 250, 300])\n",
    "\n",
    "Pressure = np.array([1, 3, 6, 9, 11])\n",
    "Pressure = [int(Input) for Input in Pressure]\n",
    "\n",
    "FractionsXe = 95\n"
   ]
  },
  {
   "cell_type": "code",
   "execution_count": 10,
   "metadata": {
    "collapsed": true
   },
   "outputs": [],
   "source": [
    "Xe  = str(FractionsXe).zfill(3)\n",
    "P = str(Press).zfill(5)\n",
    "E   = str(Efield).zfill(3)\n",
    "FileName    = \"Xe-\"+Xe+\"_P-\"+P+\"_E-\"+E"
   ]
  },
  {
   "cell_type": "code",
   "execution_count": 13,
   "metadata": {},
   "outputs": [],
   "source": [
    "for Press in Pressure:\n",
    "    for Efield in Efields:\n",
    "        Xe  = str(FractionsXe).zfill(3)\n",
    "        P = str(Press).zfill(2)\n",
    "        E   = str(Efield).zfill(3)\n",
    "        FileName    = r\"Xe-\"+Xe+\"_P-\"+P+\"_E-\"+E \n",
    "        #print(FileName)\n",
    "        current_directory = os.getcwd()\n",
    "        final_directory = os.path.join(current_directory, FileName)\n",
    "        if not os.path.exists(final_directory):\n",
    "            os.makedirs(final_directory)"
   ]
  },
  {
   "cell_type": "code",
   "execution_count": null,
   "metadata": {
    "collapsed": true
   },
   "outputs": [],
   "source": []
  },
  {
   "cell_type": "code",
   "execution_count": 5,
   "metadata": {
    "collapsed": true
   },
   "outputs": [],
   "source": [
    "current_directory = os.getcwd()\n",
    "final_directory = os.path.join(current_directory, r'new_folder')\n",
    "if not os.path.exists(final_directory):\n",
    "    os.makedirs(final_directory)"
   ]
  },
  {
   "cell_type": "code",
   "execution_count": null,
   "metadata": {
    "collapsed": true
   },
   "outputs": [],
   "source": [
    "def InputFileGen(Card,Path,Name):\n",
    "    FullPath = Path+Name\n",
    "    File = open(FullPath,'a')\n",
    "    for Input in Card:\n",
    "        File.write(Input)\n",
    "        File.write(\"\\n\")\n",
    "    File.close()"
   ]
  },
  {
   "cell_type": "code",
   "execution_count": null,
   "metadata": {
    "collapsed": true
   },
   "outputs": [],
   "source": []
  },
  {
   "cell_type": "code",
   "execution_count": null,
   "metadata": {
    "collapsed": true
   },
   "outputs": [],
   "source": []
  },
  {
   "cell_type": "code",
   "execution_count": null,
   "metadata": {
    "collapsed": true
   },
   "outputs": [],
   "source": []
  },
  {
   "cell_type": "code",
   "execution_count": null,
   "metadata": {
    "collapsed": true
   },
   "outputs": [],
   "source": []
  },
  {
   "cell_type": "code",
   "execution_count": null,
   "metadata": {
    "collapsed": true
   },
   "outputs": [],
   "source": []
  }
 ],
 "metadata": {
  "kernelspec": {
   "display_name": "Python 3",
   "language": "python",
   "name": "python3"
  },
  "language_info": {
   "codemirror_mode": {
    "name": "ipython",
    "version": 3
   },
   "file_extension": ".py",
   "mimetype": "text/x-python",
   "name": "python",
   "nbconvert_exporter": "python",
   "pygments_lexer": "ipython3",
   "version": "3.5.2"
  }
 },
 "nbformat": 4,
 "nbformat_minor": 1
}
