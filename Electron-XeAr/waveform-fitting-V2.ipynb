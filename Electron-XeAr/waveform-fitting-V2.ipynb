{
 "cells": [
  {
   "cell_type": "code",
   "execution_count": 1,
   "metadata": {
    "collapsed": true
   },
   "outputs": [],
   "source": [
    "import numpy as np\n",
    "import matplotlib.pyplot as plt\n",
    "%matplotlib inline\n",
    "import matplotlib.mlab as mlab\n",
    "import glob\n",
    "from scipy import optimize\n",
    "from scipy.special import erf\n",
    "import os"
   ]
  },
  {
   "cell_type": "code",
   "execution_count": 2,
   "metadata": {
    "collapsed": true
   },
   "outputs": [],
   "source": [
    "def find_nearest(array,value):\n",
    "    idx = (np.abs(array-value)).argmin()\n",
    "    return array[idx]\n",
    "\n",
    "def moving_average(a, n=3) :\n",
    "    ret = np.cumsum(a, dtype=float)\n",
    "    ret[n:] = ret[n:] - ret[:-n]\n",
    "    return ret[n - 1:] / n"
   ]
  },
  {
   "cell_type": "code",
   "execution_count": 3,
   "metadata": {
    "collapsed": true
   },
   "outputs": [],
   "source": [
    "def FIND_MAX(X,Y):\n",
    "    TriggerTime = find_nearest(X,0)\n",
    "    Trigger     = np.where(X==TriggerTime)[0][0]+5\n",
    "    xx = moving_average(X,20)\n",
    "    yy = moving_average(Y,20)\n",
    "    \n",
    "    xxx = xx[Trigger:]\n",
    "    yyy = yy[Trigger:]\n",
    "    \n",
    "    maxy = max(yyy)\n",
    "    \n",
    "    hold      = find_nearest(yyy,maxy)\n",
    "    peak     = np.where(yyy==hold)[0][0]\n",
    "\n",
    "    xxx = xx[Trigger:Trigger+peak]\n",
    "    yyy = yy[Trigger:Trigger+peak]\n",
    "    \n",
    "    hold      = find_nearest(yyy,maxy*0.1)\n",
    "    edge     = np.where(yyy==hold)[0][0]\n",
    "    return Trigger+peak, Trigger+edge\n",
    "\n",
    "def FIND_MIN(X,Y):\n",
    "    TriggerTime = find_nearest(X,0)\n",
    "    Trigger     = np.where(X==TriggerTime)[0][0]+20\n",
    "    xx = moving_average(X,20)\n",
    "    yy = moving_average(Y,20)\n",
    "    \n",
    "    xxx = xx[Trigger:]\n",
    "    yyy = yy[Trigger:]\n",
    "    \n",
    "    miny = min(yyy)\n",
    "    \n",
    "    hold      = find_nearest(yyy,miny)\n",
    "    MINLOC     = np.where(yyy==hold)[0][0]\n",
    "    \n",
    "    TT = Trigger+MINLOC\n",
    "    xxxx = xx[Trigger:TT]\n",
    "    yyyy = yy[Trigger:TT]\n",
    "    \n",
    "    hold      = find_nearest(yyyy,miny*0.1)\n",
    "    REDGE     = np.where(yyyy==hold)[0][0]\n",
    "    return MINLOC+Trigger,miny,REDGE+Trigger"
   ]
  },
  {
   "cell_type": "code",
   "execution_count": 4,
   "metadata": {
    "collapsed": true
   },
   "outputs": [],
   "source": [
    "def func(t,t0,sig,a,tau):\n",
    "    #tau = 150e-6\n",
    "    A = (sig**2-2*(t-t0)*tau)/(2*tau**2)\n",
    "    B = (-sig**2 +(t-t0)*tau)/(np.sqrt(2)*tau*sig)\n",
    "    C = np.exp(A)\n",
    "    D = (1 + erf(B))\n",
    "    E = a*C*D\n",
    "    return E"
   ]
  },
  {
   "cell_type": "code",
   "execution_count": 5,
   "metadata": {
    "collapsed": true
   },
   "outputs": [],
   "source": [
    "def FITTER_GOLD(x,y):\n",
    "    avg=50\n",
    "    YY = moving_average(y,avg)\n",
    "    XX = moving_average(x,avg)\n",
    "    pp,ee = FIND_MAX(XX,YY)\n",
    "    I = ee + int((pp-ee)/2)\n",
    "    MM = max(YY[I:])\n",
    "    \n",
    "    fitval = [XX[I],8e-6, MM,150e-6]\n",
    "\n",
    "    errfunc = lambda p, x, y: (func(x, *p) - y)**2\n",
    "    optim, success = optimize.leastsq(errfunc, fitval, args=(XX,YY))\n",
    "    return XX,YY,optim"
   ]
  },
  {
   "cell_type": "code",
   "execution_count": 6,
   "metadata": {
    "collapsed": true
   },
   "outputs": [],
   "source": [
    "def FITTER_ANOD(x,y):\n",
    "    avg=50\n",
    "    YY = moving_average(y,avg)\n",
    "    XX = moving_average(x,avg)\n",
    "    MM, MIN, RE = FIND_MIN(Data[0],Data[2])\n",
    "    I2 = RE + int((MM-RE)/2)\n",
    "    MM = min(YY[I2:])\n",
    "    SIG = abs(x[MM]-x[RE])\n",
    "    \n",
    "    fitval = [XX[I2],8e-6, MM,120e-6]\n",
    "    #fitval = [XX[I],SIG, MM,150e-6]\n",
    "\n",
    "    errfunc = lambda p, x, y: (func(x, *p) - y)**2\n",
    "    optim, success = optimize.leastsq(errfunc, fitval, args=(XX,YY))\n",
    "    return XX,YY,optim\n",
    "    #return SIG"
   ]
  },
  {
   "cell_type": "code",
   "execution_count": null,
   "metadata": {
    "collapsed": true
   },
   "outputs": [],
   "source": []
  },
  {
   "cell_type": "code",
   "execution_count": null,
   "metadata": {
    "collapsed": true
   },
   "outputs": [],
   "source": []
  },
  {
   "cell_type": "code",
   "execution_count": null,
   "metadata": {
    "collapsed": true
   },
   "outputs": [],
   "source": []
  },
  {
   "cell_type": "code",
   "execution_count": 39,
   "metadata": {},
   "outputs": [
    {
     "data": {
      "text/plain": [
       "['/Users/austinmcdonald/Desktop/Xenon/Data/000/',\n",
       " '/Users/austinmcdonald/Desktop/Xenon/Data/002/',\n",
       " '/Users/austinmcdonald/Desktop/Xenon/Data/003/',\n",
       " '/Users/austinmcdonald/Desktop/Xenon/Data/008/',\n",
       " '/Users/austinmcdonald/Desktop/Xenon/Data/015/',\n",
       " '/Users/austinmcdonald/Desktop/Xenon/Data/035/',\n",
       " '/Users/austinmcdonald/Desktop/Xenon/Data/050/',\n",
       " '/Users/austinmcdonald/Desktop/Xenon/Data/065/',\n",
       " '/Users/austinmcdonald/Desktop/Xenon/Data/085/',\n",
       " '/Users/austinmcdonald/Desktop/Xenon/Data/095/',\n",
       " '/Users/austinmcdonald/Desktop/Xenon/Data/099/',\n",
       " '/Users/austinmcdonald/Desktop/Xenon/Data/100-2/',\n",
       " '/Users/austinmcdonald/Desktop/Xenon/Data/100/',\n",
       " '/Users/austinmcdonald/Desktop/Xenon/Data/35-S/']"
      ]
     },
     "execution_count": 39,
     "metadata": {},
     "output_type": "execute_result"
    }
   ],
   "source": [
    "PATH = '/Users/austinmcdonald/Desktop/Xenon/Data/'\n",
    "folders = glob.glob(PATH+\"*/\")\n",
    "folders.sort()\n",
    "folders"
   ]
  },
  {
   "cell_type": "code",
   "execution_count": null,
   "metadata": {},
   "outputs": [],
   "source": [
    "folders = [folders[0],folders[1],folders[3],folders[4],folders[10],folders[11],folders[12]]\n",
    "folders"
   ]
  },
  {
   "cell_type": "code",
   "execution_count": 40,
   "metadata": {},
   "outputs": [
    {
     "data": {
      "text/plain": [
       "['/Users/austinmcdonald/Desktop/Xenon/Data/100-2/']"
      ]
     },
     "execution_count": 40,
     "metadata": {},
     "output_type": "execute_result"
    }
   ],
   "source": [
    "folders = [folders[-3]]\n",
    "folders"
   ]
  },
  {
   "cell_type": "code",
   "execution_count": 41,
   "metadata": {},
   "outputs": [
    {
     "data": {
      "text/plain": [
       "['.DS_Store',\n",
       " 'Xe-100_P-01_E-080.txt',\n",
       " 'Xe-100_P-01_E-100.txt',\n",
       " 'Xe-100_P-01_E-150.txt',\n",
       " 'Xe-100_P-01_E-200.txt',\n",
       " 'Xe-100_P-01_E-250.txt',\n",
       " 'Xe-100_P-01_E-300.txt',\n",
       " 'Xe-100_P-03_E-080.txt',\n",
       " 'Xe-100_P-03_E-100.txt',\n",
       " 'Xe-100_P-03_E-150.txt',\n",
       " 'Xe-100_P-03_E-200.txt',\n",
       " 'Xe-100_P-03_E-250.txt',\n",
       " 'Xe-100_P-03_E-300.txt',\n",
       " 'Xe-100_P-06_E-080.txt',\n",
       " 'Xe-100_P-06_E-100.txt',\n",
       " 'Xe-100_P-06_E-150.txt',\n",
       " 'Xe-100_P-06_E-200.txt',\n",
       " 'Xe-100_P-06_E-250.txt',\n",
       " 'Xe-100_P-06_E-300.txt',\n",
       " 'Xe-100_P-09_E-080.txt',\n",
       " 'Xe-100_P-09_E-100.txt',\n",
       " 'Xe-100_P-09_E-150.txt',\n",
       " 'Xe-100_P-09_E-200.txt',\n",
       " 'Xe-100_P-09_E-250.txt',\n",
       " 'Xe-100_P-09_E-300.txt',\n",
       " 'Xe-100_P-09_E-350.txt',\n",
       " 'Xe-100_P-11_E-100.txt',\n",
       " 'Xe-100_P-11_E-150.txt',\n",
       " 'Xe-100_P-11_E-200.txt',\n",
       " 'Xe-100_P-11_E-250.txt',\n",
       " 'Xe-100_P-11_E-300.txt',\n",
       " 'Xe-100_P-11_E-350.txt']"
      ]
     },
     "execution_count": 41,
     "metadata": {},
     "output_type": "execute_result"
    }
   ],
   "source": [
    "ff = os.listdir(folders[0])\n",
    "ff.sort()\n",
    "ff"
   ]
  },
  {
   "cell_type": "code",
   "execution_count": 42,
   "metadata": {},
   "outputs": [
    {
     "data": {
      "text/plain": [
       "3"
      ]
     },
     "execution_count": 42,
     "metadata": {},
     "output_type": "execute_result"
    }
   ],
   "source": [
    "int(ff[10].split('.')[0].split('-')[2].split('_')[0])"
   ]
  },
  {
   "cell_type": "code",
   "execution_count": 43,
   "metadata": {},
   "outputs": [
    {
     "name": "stderr",
     "output_type": "stream",
     "text": [
      "//anaconda/envs/py35/lib/python3.5/site-packages/ipykernel/__main__.py:8: DeprecationWarning: using a non-integer number instead of an integer will result in an error in the future\n"
     ]
    }
   ],
   "source": [
    "# arrival, sigma, max, RC\n",
    "GOLDD = []\n",
    "ANODE = []\n",
    "REDU  = []\n",
    "PRE = []\n",
    "for F in range(0,len(folders)):\n",
    "    files = os.listdir(folders[F])\n",
    "    if '.DS_Store' in files: files.remove('.DS_Store')\n",
    "    files.sort()\n",
    "    for fi in files:\n",
    "        Data = np.loadtxt(folders[F]+fi)\n",
    "        XG,YG,OG = FITTER_GOLD(Data[0],Data[1])\n",
    "        XA,YA,OA = FITTER_ANOD(Data[0],Data[2])\n",
    "        A = 100e-6\n",
    "        B = 200e-6\n",
    "        EE =int(fi.split('.')[0].split('-')[-1])\n",
    "        PP = int(fi.split('.')[0].split('-')[2].split('_')[0])\n",
    "        PRE.append(PP)\n",
    "        REDU.append(EE/PP)\n",
    "        ANODE.append(OA)\n",
    "        GOLDD.append(OG)\n",
    "        #if PP == 6:\n",
    "        #    ANODE.append(OA)\n",
    "        #    GOLDD.append(OG)\n"
   ]
  },
  {
   "cell_type": "code",
   "execution_count": 44,
   "metadata": {
    "collapsed": true
   },
   "outputs": [],
   "source": [
    "GOLDD = np.array(GOLDD)\n",
    "ANODE = np.array(ANODE)\n",
    "REDU  = np.array(REDU)\n",
    "PRE   = np.array(PRE)"
   ]
  },
  {
   "cell_type": "code",
   "execution_count": 45,
   "metadata": {},
   "outputs": [
    {
     "name": "stdout",
     "output_type": "stream",
     "text": [
      "mean gold leaving =  9.87581912666\n",
      "STD gold leaving =  0.598925057417\n",
      "mean gold RC =  121.303261273\n",
      "STD gold RC =  2.63766232871\n",
      "\n",
      "\n",
      "\n",
      "\n",
      "mean anode leaving =  216.154258481\n",
      "STD anode leaving =  121.468015819\n",
      "mean anode RC =  128.037465842\n",
      "STD anode RC =  15.7540878898\n"
     ]
    }
   ],
   "source": [
    "print(\"mean gold leaving = \",np.mean(GOLDD[:,0]*1e6))\n",
    "print(\"STD gold leaving = \",np.std(GOLDD[:,0]*1e6))\n",
    "print(\"mean gold RC = \",np.mean(GOLDD[:,3]*1e6))\n",
    "print(\"STD gold RC = \",np.std(GOLDD[:,3]*1e6))\n",
    "print(\"\\n\")\n",
    "print(\"\\n\")\n",
    "print(\"mean anode leaving = \",np.mean(ANODE[:,0]*1e6))\n",
    "print(\"STD anode leaving = \",np.std(ANODE[:,0]*1e6))\n",
    "print(\"mean anode RC = \",np.mean(ANODE[:,3]*1e6))\n",
    "print(\"STD anode RC = \",np.std(ANODE[:,3]*1e6))"
   ]
  },
  {
   "cell_type": "code",
   "execution_count": 46,
   "metadata": {},
   "outputs": [
    {
     "data": {
      "text/plain": [
       "<matplotlib.collections.PathCollection at 0x11f1f1630>"
      ]
     },
     "execution_count": 46,
     "metadata": {},
     "output_type": "execute_result"
    },
    {
     "data": {
      "image/png": "[encoded data removed]",
      "text/plain": [
       "<matplotlib.figure.Figure at 0x11f320f60>"
      ]
     },
     "metadata": {},
     "output_type": "display_data"
    }
   ],
   "source": [
    "xval = np.arange(len(ANODE[:,3]*1e6))\n",
    "plt.title(\"RC times\")\n",
    "plt.scatter(xval,ANODE[:,3]*1e6,color='k')\n",
    "plt.scatter(xval,GOLDD[:,3]*1e6,color='r')\n",
    "#plt.ylim(100,200)"
   ]
  },
  {
   "cell_type": "code",
   "execution_count": 47,
   "metadata": {},
   "outputs": [
    {
     "data": {
      "text/plain": [
       "<matplotlib.collections.PathCollection at 0x11f177438>"
      ]
     },
     "execution_count": 47,
     "metadata": {},
     "output_type": "execute_result"
    },
    {
     "data": {
      "image/png": "[encoded data removed]",
      "text/plain": [
       "<matplotlib.figure.Figure at 0x11f320d68>"
      ]
     },
     "metadata": {},
     "output_type": "display_data"
    }
   ],
   "source": [
    "xval = np.arange(len(ANODE[:,3]))\n",
    "plt.title(\"arrival times\")\n",
    "plt.scatter(xval,ANODE[:,0]*1e6,color='k')\n",
    "plt.scatter(xval,GOLDD[:,0]*1e6,color='r')\n",
    "#plt.ylim(100,200)"
   ]
  },
  {
   "cell_type": "code",
   "execution_count": 48,
   "metadata": {},
   "outputs": [
    {
     "data": {
      "text/plain": [
       "<matplotlib.collections.PathCollection at 0x11e773550>"
      ]
     },
     "execution_count": 48,
     "metadata": {},
     "output_type": "execute_result"
    },
    {
     "data": {
      "image/png": "[encoded data removed]",
      "text/plain": [
       "<matplotlib.figure.Figure at 0x11f320908>"
      ]
     },
     "metadata": {},
     "output_type": "display_data"
    }
   ],
   "source": [
    "plt.scatter(GOLDD[:,0]*1e6,ANODE[:,0]*1e6,color='k')\n",
    "#plt.scatter(xval,GOLDD[:,0]*1e6,color='r')\n",
    "#plt.ylim(100,200)"
   ]
  },
  {
   "cell_type": "code",
   "execution_count": 49,
   "metadata": {},
   "outputs": [
    {
     "data": {
      "text/plain": [
       "<matplotlib.collections.PathCollection at 0x11e39da58>"
      ]
     },
     "execution_count": 49,
     "metadata": {},
     "output_type": "execute_result"
    },
    {
     "data": {
      "image/png": "[encoded data removed]",
      "text/plain": [
       "<matplotlib.figure.Figure at 0x11f320128>"
      ]
     },
     "metadata": {},
     "output_type": "display_data"
    }
   ],
   "source": [
    "xval = np.arange(len(ANODE[:,3]))\n",
    "#plt.title(\"RC times\")\n",
    "plt.scatter(xval,ANODE[:,1]*1e6,color='k')\n",
    "plt.scatter(xval,GOLDD[:,1]*1e6,color='r')\n",
    "#plt.ylim(100,200)"
   ]
  },
  {
   "cell_type": "code",
   "execution_count": null,
   "metadata": {
    "collapsed": true
   },
   "outputs": [],
   "source": []
  },
  {
   "cell_type": "code",
   "execution_count": null,
   "metadata": {},
   "outputs": [],
   "source": [
    "x = 2*Dt\n",
    "y = (ANODE[:,1]*1e6)**2-(GOLDD[:,1]*1e6)**2\n",
    "plt.scatter(x,y)\n",
    "\n",
    "def poly(t,Dl,a):\n",
    "    return Dl*t+a\n",
    "\n",
    "popt,pcov = optimize.curve_fit(poly,x,y,p0=[14/130,0])\n",
    "plt.plot(x,poly(x,*popt),'ro:',label='fit')\n",
    "popt"
   ]
  },
  {
   "cell_type": "code",
   "execution_count": 50,
   "metadata": {
    "collapsed": true
   },
   "outputs": [],
   "source": [
    "Dt = (ANODE[:,0] - GOLDD[:,0])*1e6\n",
    "\n",
    "d = 13.8\n",
    "Vd = d/Dt\n",
    "x = 2*Dt/Vd**2\n",
    "y = (ANODE[:,1]*1e6)**2-(GOLDD[:,1]*1e6)**2\n",
    "\n",
    "Dl = y/x"
   ]
  },
  {
   "cell_type": "code",
   "execution_count": 53,
   "metadata": {},
   "outputs": [
    {
     "data": {
      "text/plain": [
       "array([  833.23662667,  1154.94044921,  1058.6179824 ,  1106.85635065,\n",
       "         914.77959362,   799.14858259,  1471.35424332,  1086.32883298,\n",
       "        1389.39191324,  1170.36211454,  1138.8385505 ,  1021.38043231,\n",
       "        1597.35890152,  1532.11236475,  1217.7016454 ,  1133.47946666,\n",
       "        1300.29572856,   992.31979739,  1455.83377985,  1550.17534873,\n",
       "        1216.08211115,  1185.38971879,  1243.16289949,  1184.54064866,\n",
       "        1034.6242798 ,  1114.93674474,  1249.64720607,  1198.7893754 ,\n",
       "        1137.69586761,  1103.22416873,   892.58071389])"
      ]
     },
     "execution_count": 53,
     "metadata": {},
     "output_type": "execute_result"
    }
   ],
   "source": [
    "#difff =np.sqrt((273/296*.95*2*PP)*Dl*1e8/Vd)\n",
    "#difff =np.sqrt(Dl*1e8/Vd)\n",
    "\n",
    "Zp =12.123*(289.77/273.15)*(PRE/57.65) \n",
    "difff =np.sqrt((0.22/Zp*2*PRE)*Dl*1e8/Vd)\n",
    "\n",
    "difff"
   ]
  },
  {
   "cell_type": "code",
   "execution_count": 54,
   "metadata": {},
   "outputs": [
    {
     "data": {
      "text/plain": [
       "(0, 250)"
      ]
     },
     "execution_count": 54,
     "metadata": {},
     "output_type": "execute_result"
    },
    {
     "data": {
      "image/png": "[encoded data removed]",
      "text/plain": [
       "<matplotlib.figure.Figure at 0x104e5f048>"
      ]
     },
     "metadata": {},
     "output_type": "display_data"
    }
   ],
   "source": [
    "col=['b','g','r','k','m']\n",
    "plt.figure(figsize=(9,9))\n",
    "for x in range(0,len(PRE)):\n",
    "    if PRE[x]==1:\n",
    "        plt.scatter(REDU[x],difff[x],color=col[1])\n",
    "    if PRE[x]==3:\n",
    "        plt.scatter(REDU[x],difff[x],color=col[2])\n",
    "    if PRE[x]==6:\n",
    "        plt.scatter(REDU[x],difff[x],color=col[3])\n",
    "    if PRE[x]==9:\n",
    "        plt.scatter(REDU[x],difff[x],color=col[4])\n",
    "    if PRE[x]==11:\n",
    "        plt.scatter(REDU[x],difff[x],color=col[0])\n",
    "        \n",
    "#plt.scatter(REDU,difff)\n",
    "plt.scatter(dd[:,0],dd[:,1],color='y')\n",
    "plt.xlim(0,250)"
   ]
  },
  {
   "cell_type": "code",
   "execution_count": null,
   "metadata": {
    "collapsed": true
   },
   "outputs": [],
   "source": []
  },
  {
   "cell_type": "code",
   "execution_count": 23,
   "metadata": {},
   "outputs": [],
   "source": [
    "dd = np.genfromtxt('/Users/austinmcdonald/Desktop/set.csv',delimiter=',')"
   ]
  },
  {
   "cell_type": "code",
   "execution_count": 24,
   "metadata": {},
   "outputs": [
    {
     "data": {
      "text/plain": [
       "array([ 22.90880631,  28.49373882,  25.98076923,  26.41413238,\n",
       "        28.55826151,  28.07867133,  29.96202635,  33.18657505,\n",
       "        34.04756871,  38.06334363,  38.02333713,  38.29094162,\n",
       "        42.05216295,  43.44738982,  44.35826964,  47.57196292,\n",
       "        48.54907302,  53.65051228,  57.1358351 ])"
      ]
     },
     "execution_count": 24,
     "metadata": {},
     "output_type": "execute_result"
    }
   ],
   "source": [
    "dd[:,0]"
   ]
  },
  {
   "cell_type": "code",
   "execution_count": null,
   "metadata": {
    "collapsed": true
   },
   "outputs": [],
   "source": []
  },
  {
   "cell_type": "code",
   "execution_count": null,
   "metadata": {
    "collapsed": true
   },
   "outputs": [],
   "source": []
  },
  {
   "cell_type": "code",
   "execution_count": null,
   "metadata": {},
   "outputs": [],
   "source": [
    "np.sqrt(273/296*12)*np.sqrt(Dl/Vd)"
   ]
  },
  {
   "cell_type": "code",
   "execution_count": null,
   "metadata": {},
   "outputs": [],
   "source": [
    "np.sqrt(273/296*12)"
   ]
  },
  {
   "cell_type": "code",
   "execution_count": null,
   "metadata": {
    "collapsed": true
   },
   "outputs": [],
   "source": [
    "####Xe-008_P-01_E-100.txt\n",
    "#Xe-099_P-0302_E-250.txt\n",
    "#Xe-099_P-0302_E-040.txt\n",
    "#Xe-099_P-0901_E-080.txt\n",
    "#Xe-099_P-0995_E-250.txt\n",
    "#Xe-099_P-0601_E-250.txt\n",
    "#Xe-100_P-1080_E-080.txt\n",
    "#Xe-100_P-0302_E-100.txt\n",
    "#Xe-100_P-0101_E-100.txt\n",
    "#Xe-100_P-1080_E-250.txt\n",
    "#Xe-100_P-0101_E-250.txt\n",
    "##Xe-100_P-1080_E-300.txt\n",
    "#Xe-100_P-1080_E-100.txt\n",
    "#Xe-100_P-0302_E-040.txt\n",
    "#Xe-100_P-0607_E-300.txt\n",
    "#Xe-035_P-01_E-080.txt\n",
    "#Xe-035_P-06_E-200.txt"
   ]
  },
  {
   "cell_type": "code",
   "execution_count": null,
   "metadata": {
    "collapsed": true
   },
   "outputs": [],
   "source": [
    "Xe-035_P-01_E-080.txt\n",
    "Xe-035_P-11_E-080.txt\n",
    "Xe-035_P-06_E-200.txt"
   ]
  },
  {
   "cell_type": "code",
   "execution_count": null,
   "metadata": {
    "collapsed": true
   },
   "outputs": [],
   "source": [
    "PATH = '/Users/austinmcdonald/Desktop/Xenon/Data/100/'\n",
    "PP = \"Xe-100_P-0909_E-200.txt\"\n",
    "Data = np.loadtxt(PATH+PP)"
   ]
  },
  {
   "cell_type": "code",
   "execution_count": null,
   "metadata": {},
   "outputs": [],
   "source": [
    "plt.figure(figsize=(9,9))\n",
    "plt.plot(Data[0],Data[1])\n",
    "X,Y,O = FITTER_GOLD(Data[0],Data[1])\n",
    "print(O)\n",
    "plt.plot(X,func(X,*O),color='r')\n",
    "plt.plot(Data[0],Data[2])\n",
    "X,Y,O = FITTER_ANOD(Data[0],Data[2])\n",
    "print(O)\n",
    "plt.plot(X,func(X,*O),color='r')\n",
    "#plt.xlim(0,0.001)"
   ]
  },
  {
   "cell_type": "code",
   "execution_count": null,
   "metadata": {
    "collapsed": true
   },
   "outputs": [],
   "source": [
    "def gaus(x,a,x0,sigma):\n",
    "    return a*np.exp(-(x-x0)**2/(2*sigma**2))"
   ]
  },
  {
   "cell_type": "code",
   "execution_count": null,
   "metadata": {},
   "outputs": [],
   "source": [
    "#plt.plot(Data[0],Data[1])\n",
    "X,Y,O = FITTER_GOLD(Data[0],Data[1])\n",
    "O"
   ]
  },
  {
   "cell_type": "code",
   "execution_count": null,
   "metadata": {},
   "outputs": [],
   "source": [
    "# arrival, sigma, max, RC\n",
    "xval = np.linspace(-.0001,0.002,10000)\n",
    "\n",
    "X,Y,O = FITTER_GOLD(Data[0],Data[1])\n",
    "plt.plot(xval,gaus(xval,O[2],O[0],O[1]),color='r')\n",
    "X,Y,O = FITTER_ANOD(Data[0],Data[2])\n",
    "plt.plot(xval,gaus(xval,O[2],O[0],O[1]),color='g')\n",
    "plt.xlim(-1e-5,3e-4)"
   ]
  },
  {
   "cell_type": "code",
   "execution_count": null,
   "metadata": {},
   "outputs": [],
   "source": [
    "X,Y,O = FITTER_GOLD(Data[0],Data[1])\n",
    "plt.plot(xval,gaus(xval,1,0,O[1]),color='r')\n",
    "print(O[1])\n",
    "X,Y,O = FITTER_ANOD(Data[0],Data[2])\n",
    "plt.plot(xval,abs(gaus(xval,1,0,O[1])),color='g')\n",
    "print(O[1])\n",
    "plt.xlim(-1e-5,1e-5)"
   ]
  },
  {
   "cell_type": "code",
   "execution_count": null,
   "metadata": {
    "collapsed": true
   },
   "outputs": [],
   "source": []
  },
  {
   "cell_type": "code",
   "execution_count": null,
   "metadata": {},
   "outputs": [],
   "source": [
    "(7.0303106598e-06-4.75471431319e-06)*1e6\n"
   ]
  },
  {
   "cell_type": "code",
   "execution_count": null,
   "metadata": {},
   "outputs": [],
   "source": [
    "(6.13364779471e-06)*1e6*13.8"
   ]
  },
  {
   "cell_type": "code",
   "execution_count": null,
   "metadata": {
    "collapsed": true
   },
   "outputs": [],
   "source": []
  },
  {
   "cell_type": "code",
   "execution_count": null,
   "metadata": {
    "collapsed": true
   },
   "outputs": [],
   "source": []
  },
  {
   "cell_type": "code",
   "execution_count": null,
   "metadata": {
    "collapsed": true
   },
   "outputs": [],
   "source": []
  },
  {
   "cell_type": "code",
   "execution_count": null,
   "metadata": {
    "collapsed": true
   },
   "outputs": [],
   "source": []
  },
  {
   "cell_type": "code",
   "execution_count": null,
   "metadata": {
    "collapsed": true
   },
   "outputs": [],
   "source": []
  },
  {
   "cell_type": "code",
   "execution_count": null,
   "metadata": {
    "collapsed": true
   },
   "outputs": [],
   "source": []
  },
  {
   "cell_type": "code",
   "execution_count": null,
   "metadata": {
    "collapsed": true
   },
   "outputs": [],
   "source": []
  },
  {
   "cell_type": "code",
   "execution_count": null,
   "metadata": {
    "collapsed": true
   },
   "outputs": [],
   "source": []
  },
  {
   "cell_type": "code",
   "execution_count": null,
   "metadata": {
    "collapsed": true
   },
   "outputs": [],
   "source": []
  },
  {
   "cell_type": "code",
   "execution_count": null,
   "metadata": {
    "collapsed": true
   },
   "outputs": [],
   "source": []
  },
  {
   "cell_type": "code",
   "execution_count": null,
   "metadata": {
    "collapsed": true
   },
   "outputs": [],
   "source": []
  },
  {
   "cell_type": "code",
   "execution_count": null,
   "metadata": {
    "collapsed": true
   },
   "outputs": [],
   "source": []
  },
  {
   "cell_type": "code",
   "execution_count": null,
   "metadata": {
    "collapsed": true
   },
   "outputs": [],
   "source": []
  },
  {
   "cell_type": "code",
   "execution_count": null,
   "metadata": {
    "collapsed": true
   },
   "outputs": [],
   "source": []
  }
 ],
 "metadata": {
  "kernelspec": {
   "display_name": "Python 3",
   "language": "python",
   "name": "python3"
  },
  "language_info": {
   "codemirror_mode": {
    "name": "ipython",
    "version": 3
   },
   "file_extension": ".py",
   "mimetype": "text/x-python",
   "name": "python",
   "nbconvert_exporter": "python",
   "pygments_lexer": "ipython3",
   "version": "3.5.2"
  }
 },
 "nbformat": 4,
 "nbformat_minor": 1
}
