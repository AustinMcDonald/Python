{
 "cells": [
  {
   "cell_type": "code",
   "execution_count": 1,
   "metadata": {
    "collapsed": true
   },
   "outputs": [],
   "source": [
    "import numpy as np\n",
    "import matplotlib.pyplot as plt\n",
    "%matplotlib inline\n",
    "import matplotlib.mlab as mlab\n",
    "import glob\n",
    "from scipy import optimize\n",
    "from scipy.special import erf\n",
    "import os\n",
    "import numpy.polynomial.polynomial as poly"
   ]
  },
  {
   "cell_type": "code",
   "execution_count": 2,
   "metadata": {
    "collapsed": true
   },
   "outputs": [],
   "source": [
    "def find_nearest(array,value):\n",
    "    idx = (np.abs(array-value)).argmin()\n",
    "    return array[idx]\n",
    "\n",
    "def moving_average(a, n=3) :\n",
    "    ret = np.cumsum(a, dtype=float)\n",
    "    ret[n:] = ret[n:] - ret[:-n]\n",
    "    return ret[n - 1:] / n"
   ]
  },
  {
   "cell_type": "code",
   "execution_count": 3,
   "metadata": {
    "collapsed": true
   },
   "outputs": [],
   "source": [
    "def FIND_MAX(X,Y):\n",
    "    TriggerTime = find_nearest(X,0)\n",
    "    Trigger     = np.where(X==TriggerTime)[0][0]+5\n",
    "    xx = moving_average(X,20)\n",
    "    yy = moving_average(Y,20)\n",
    "    \n",
    "    xxx = xx[Trigger:]\n",
    "    yyy = yy[Trigger:]\n",
    "    \n",
    "    maxy = max(yyy)\n",
    "    \n",
    "    hold      = find_nearest(yyy,maxy)\n",
    "    peak     = np.where(yyy==hold)[0][0]\n",
    "\n",
    "    xxx = xx[Trigger:Trigger+peak]\n",
    "    yyy = yy[Trigger:Trigger+peak]\n",
    "    \n",
    "    hold      = find_nearest(yyy,maxy*0.1)\n",
    "    edge     = np.where(yyy==hold)[0][0]\n",
    "    return Trigger+peak, Trigger+edge\n",
    "\n",
    "def FIND_MIN(X,Y):\n",
    "    TriggerTime = find_nearest(X,0)\n",
    "    Trigger     = np.where(X==TriggerTime)[0][0]+20\n",
    "    xx = moving_average(X,20)\n",
    "    yy = moving_average(Y,20)\n",
    "    \n",
    "    xxx = xx[Trigger:]\n",
    "    yyy = yy[Trigger:]\n",
    "    \n",
    "    miny = min(yyy)\n",
    "    \n",
    "    hold      = find_nearest(yyy,miny)\n",
    "    MINLOC     = np.where(yyy==hold)[0][0]\n",
    "    \n",
    "    TT = Trigger+MINLOC\n",
    "    xxxx = xx[Trigger:TT]\n",
    "    yyyy = yy[Trigger:TT]\n",
    "    \n",
    "    hold      = find_nearest(yyyy,miny*0.1)\n",
    "    REDGE     = np.where(yyyy==hold)[0][0]\n",
    "    return MINLOC+Trigger,miny,REDGE+Trigger"
   ]
  },
  {
   "cell_type": "code",
   "execution_count": 4,
   "metadata": {
    "collapsed": true
   },
   "outputs": [],
   "source": [
    "def funcG(t,t0,sig,a):\n",
    "    tau = 121e-6\n",
    "    A = (sig**2-2*(t-t0)*tau)/(2*tau**2)\n",
    "    B = (-sig**2 +(t-t0)*tau)/(np.sqrt(2)*tau*sig)\n",
    "    C = np.exp(A)\n",
    "    D = (1 + erf(B))\n",
    "    E = a*C*D\n",
    "    return E\n",
    "\n",
    "def funcA(t,t0,sig,a):\n",
    "    tau = 123e-6\n",
    "    A = (sig**2-2*(t-t0)*tau)/(2*tau**2)\n",
    "    B = (-sig**2 +(t-t0)*tau)/(np.sqrt(2)*tau*sig)\n",
    "    C = np.exp(A)\n",
    "    D = (1 + erf(B))\n",
    "    E = a*C*D\n",
    "    return E"
   ]
  },
  {
   "cell_type": "code",
   "execution_count": 5,
   "metadata": {
    "collapsed": true
   },
   "outputs": [],
   "source": [
    "def FITTER_GOLD(x,y):\n",
    "    avg=5\n",
    "    YY = moving_average(y,avg)\n",
    "    XX = moving_average(x,avg)\n",
    "    pp,ee = FIND_MAX(XX,YY)\n",
    "    I = ee + int((pp-ee)/2)\n",
    "    MM = max(YY[I:])\n",
    "    \n",
    "    fitval = [XX[I],8e-6, MM]\n",
    "\n",
    "    errfunc = lambda p, x, y: (funcG(x, *p) - y)**2\n",
    "    optim, success = optimize.leastsq(errfunc, fitval, args=(XX,YY))\n",
    "    return XX,YY,optim"
   ]
  },
  {
   "cell_type": "code",
   "execution_count": 6,
   "metadata": {
    "collapsed": true
   },
   "outputs": [],
   "source": [
    "def FITTER_ANOD(x,y):\n",
    "    avg=5\n",
    "    YY = moving_average(y,avg)\n",
    "    XX = moving_average(x,avg)\n",
    "    MM, MIN, RE = FIND_MIN(Data[0],Data[2])\n",
    "    I2 = RE + int((MM-RE)/2)\n",
    "    MM = min(YY[I2:])\n",
    "    SIG = abs(x[MM]-x[RE])\n",
    "    \n",
    "    fitval = [XX[I2],8e-6, MM]\n",
    "    #fitval = [XX[I],SIG, MM,150e-6]\n",
    "\n",
    "    errfunc = lambda p, x, y: (funcA(x, *p) - y)**2\n",
    "    optim, success = optimize.leastsq(errfunc, fitval, args=(XX,YY))\n",
    "    return XX,YY,optim\n",
    "    #return SIG"
   ]
  },
  {
   "cell_type": "code",
   "execution_count": null,
   "metadata": {
    "collapsed": true
   },
   "outputs": [],
   "source": []
  },
  {
   "cell_type": "code",
   "execution_count": null,
   "metadata": {
    "collapsed": true
   },
   "outputs": [],
   "source": []
  },
  {
   "cell_type": "code",
   "execution_count": null,
   "metadata": {
    "collapsed": true
   },
   "outputs": [],
   "source": []
  },
  {
   "cell_type": "code",
   "execution_count": 7,
   "metadata": {},
   "outputs": [
    {
     "data": {
      "text/plain": [
       "['/Users/austinmcdonald/Desktop/Xenon/Data/000/',\n",
       " '/Users/austinmcdonald/Desktop/Xenon/Data/002/',\n",
       " '/Users/austinmcdonald/Desktop/Xenon/Data/003/',\n",
       " '/Users/austinmcdonald/Desktop/Xenon/Data/008/',\n",
       " '/Users/austinmcdonald/Desktop/Xenon/Data/015/',\n",
       " '/Users/austinmcdonald/Desktop/Xenon/Data/035/',\n",
       " '/Users/austinmcdonald/Desktop/Xenon/Data/050/',\n",
       " '/Users/austinmcdonald/Desktop/Xenon/Data/065/',\n",
       " '/Users/austinmcdonald/Desktop/Xenon/Data/085/',\n",
       " '/Users/austinmcdonald/Desktop/Xenon/Data/095/',\n",
       " '/Users/austinmcdonald/Desktop/Xenon/Data/099/',\n",
       " '/Users/austinmcdonald/Desktop/Xenon/Data/100-2/',\n",
       " '/Users/austinmcdonald/Desktop/Xenon/Data/100/',\n",
       " '/Users/austinmcdonald/Desktop/Xenon/Data/35-S/']"
      ]
     },
     "execution_count": 7,
     "metadata": {},
     "output_type": "execute_result"
    }
   ],
   "source": [
    "PATH = '/Users/austinmcdonald/Desktop/Xenon/Data/'\n",
    "folders = glob.glob(PATH+\"*/\")\n",
    "folders.sort()\n",
    "folders"
   ]
  },
  {
   "cell_type": "code",
   "execution_count": 8,
   "metadata": {},
   "outputs": [
    {
     "data": {
      "text/plain": [
       "['/Users/austinmcdonald/Desktop/Xenon/Data/100-2/']"
      ]
     },
     "execution_count": 8,
     "metadata": {},
     "output_type": "execute_result"
    }
   ],
   "source": [
    "folders = [folders[-3]]\n",
    "folders"
   ]
  },
  {
   "cell_type": "code",
   "execution_count": 9,
   "metadata": {},
   "outputs": [
    {
     "data": {
      "text/plain": [
       "['.DS_Store',\n",
       " 'Xe-100_P-01_E-080.txt',\n",
       " 'Xe-100_P-01_E-100.txt',\n",
       " 'Xe-100_P-01_E-150.txt',\n",
       " 'Xe-100_P-01_E-200.txt',\n",
       " 'Xe-100_P-01_E-250.txt',\n",
       " 'Xe-100_P-01_E-300.txt',\n",
       " 'Xe-100_P-03_E-080.txt',\n",
       " 'Xe-100_P-03_E-100.txt',\n",
       " 'Xe-100_P-03_E-150.txt',\n",
       " 'Xe-100_P-03_E-200.txt',\n",
       " 'Xe-100_P-03_E-250.txt',\n",
       " 'Xe-100_P-03_E-300.txt',\n",
       " 'Xe-100_P-06_E-080.txt',\n",
       " 'Xe-100_P-06_E-100.txt',\n",
       " 'Xe-100_P-06_E-150.txt',\n",
       " 'Xe-100_P-06_E-200.txt',\n",
       " 'Xe-100_P-06_E-250.txt',\n",
       " 'Xe-100_P-06_E-300.txt',\n",
       " 'Xe-100_P-09_E-080.txt',\n",
       " 'Xe-100_P-09_E-100.txt',\n",
       " 'Xe-100_P-09_E-150.txt',\n",
       " 'Xe-100_P-09_E-200.txt',\n",
       " 'Xe-100_P-09_E-250.txt',\n",
       " 'Xe-100_P-09_E-300.txt',\n",
       " 'Xe-100_P-09_E-350.txt',\n",
       " 'Xe-100_P-11_E-100.txt',\n",
       " 'Xe-100_P-11_E-150.txt',\n",
       " 'Xe-100_P-11_E-200.txt',\n",
       " 'Xe-100_P-11_E-250.txt',\n",
       " 'Xe-100_P-11_E-300.txt',\n",
       " 'Xe-100_P-11_E-350.txt']"
      ]
     },
     "execution_count": 9,
     "metadata": {},
     "output_type": "execute_result"
    }
   ],
   "source": [
    "ff = os.listdir(folders[0])\n",
    "ff.sort()\n",
    "ff"
   ]
  },
  {
   "cell_type": "code",
   "execution_count": 10,
   "metadata": {},
   "outputs": [
    {
     "data": {
      "text/plain": [
       "3"
      ]
     },
     "execution_count": 10,
     "metadata": {},
     "output_type": "execute_result"
    }
   ],
   "source": [
    "int(ff[10].split('.')[0].split('-')[2].split('_')[0])"
   ]
  },
  {
   "cell_type": "code",
   "execution_count": 11,
   "metadata": {
    "scrolled": false
   },
   "outputs": [
    {
     "name": "stderr",
     "output_type": "stream",
     "text": [
      "//anaconda/envs/py35/lib/python3.5/site-packages/ipykernel/__main__.py:8: DeprecationWarning: using a non-integer number instead of an integer will result in an error in the future\n"
     ]
    }
   ],
   "source": [
    "# arrival, sigma, max, RC\n",
    "GOLDD = []\n",
    "ANODE = []\n",
    "REDU  = []\n",
    "PRE = []\n",
    "EFID = []\n",
    "for F in range(0,len(folders)):\n",
    "    files = os.listdir(folders[F])\n",
    "    if '.DS_Store' in files: files.remove('.DS_Store')\n",
    "    files.sort()\n",
    "    for fi in files:\n",
    "        Data = np.loadtxt(folders[F]+fi)\n",
    "        #plt.plot(Data[0],Data[1],color='b')\n",
    "        #plt.plot(Data[0],Data[2],color='g')\n",
    "        \n",
    "        XG,YG,OG = FITTER_GOLD(Data[0],Data[1])\n",
    "        XA,YA,OA = FITTER_ANOD(Data[0],Data[2])\n",
    "        #plt.plot(XG,YG,color='r')\n",
    "        #plt.plot(XA,YA,color='r')\n",
    "        #plt.show()\n",
    "\n",
    "        EE =int(fi.split('.')[0].split('-')[-1])\n",
    "        PP = int(fi.split('.')[0].split('-')[2].split('_')[0])\n",
    "        #if EE ==350 or EE ==300 or EE ==250 or EE ==200 or EE ==150:\n",
    "        #    PRE.append(PP)\n",
    "        #    REDU.append(EE/PP)\n",
    "        #    ANODE.append(OA)\n",
    "        #    GOLDD.append(OG)\n",
    "        #    EFID.append(EE)\n",
    " \n",
    "        PRE.append(PP)\n",
    "        REDU.append(EE/PP)\n",
    "        ANODE.append(OA)\n",
    "        GOLDD.append(OG)\n",
    "        EFID.append(EE)\n",
    "        #if PP == 6:\n",
    "        #    ANODE.append(OA)\n",
    "        #    GOLDD.append(OG)\n"
   ]
  },
  {
   "cell_type": "code",
   "execution_count": 12,
   "metadata": {
    "collapsed": true
   },
   "outputs": [],
   "source": [
    "GOLDD = np.array(GOLDD)\n",
    "ANODE = np.array(ANODE)\n",
    "REDU  = np.array(REDU)\n",
    "PRE   = np.array(PRE)\n",
    "EFID   = np.array(EFID)"
   ]
  },
  {
   "cell_type": "code",
   "execution_count": null,
   "metadata": {
    "collapsed": true
   },
   "outputs": [],
   "source": []
  },
  {
   "cell_type": "code",
   "execution_count": 94,
   "metadata": {
    "collapsed": true
   },
   "outputs": [],
   "source": [
    "Dt = (ANODE[:,0] - GOLDD[:,0])*1e6\n",
    "sig = ((ANODE[:,1]*1e6))**2 -((GOLDD[:,1]*1e6))**2\n",
    "#sig = ((ANODE[:,1]*1e6))**2 \n",
    "\n",
    "dd = 13.8*1e4\n",
    "Dlong = sig*0.5*dd**2/Dt**3\n",
    "\n",
    "Vd = 13.8/Dt\n",
    "\n",
    "DlStar = np.sqrt(2*Dlong/Vd)*np.sqrt(PRE)*np.sqrt(273/296)\n"
   ]
  },
  {
   "cell_type": "code",
   "execution_count": null,
   "metadata": {},
   "outputs": [],
   "source": []
  },
  {
   "cell_type": "code",
   "execution_count": 97,
   "metadata": {},
   "outputs": [
    {
     "data": {
      "text/plain": [
       "(0, 350)"
      ]
     },
     "execution_count": 97,
     "metadata": {},
     "output_type": "execute_result"
    },
    {
     "data": {
      "image/png": "[encoded data removed]",
      "text/plain": [
       "<matplotlib.figure.Figure at 0x11b5644a8>"
      ]
     },
     "metadata": {},
     "output_type": "display_data"
    }
   ],
   "source": [
    "col=['b','g','r','k','m']\n",
    "plt.figure(figsize=(12,7))\n",
    "plt.scatter(REDU,DlStar/1.5,color='r')\n",
    "\n",
    "\n",
    "plt.xlabel('reduced field',fontsize=20)\n",
    "plt.ylabel('reduced diffusion',fontsize=20)\n",
    "plt.xlim(0,350)\n",
    "#plt.ylim(0,0.006)"
   ]
  },
  {
   "cell_type": "code",
   "execution_count": null,
   "metadata": {
    "collapsed": true
   },
   "outputs": [],
   "source": []
  },
  {
   "cell_type": "code",
   "execution_count": 411,
   "metadata": {},
   "outputs": [
    {
     "data": {
      "text/plain": [
       "(0, 350)"
      ]
     },
     "execution_count": 411,
     "metadata": {},
     "output_type": "execute_result"
    },
    {
     "data": {
      "image/png": "[encoded data removed]",
      "text/plain": [
       "<matplotlib.figure.Figure at 0x1276fabe0>"
      ]
     },
     "metadata": {},
     "output_type": "display_data"
    }
   ],
   "source": [
    "col=['b','g','r','k','m']\n",
    "plt.figure(figsize=(12,7))\n",
    "for x in range(0,len(PRE)):\n",
    "    if PRE[x]==1:\n",
    "        plt.scatter(REDU[x],difff[x],color=col[1])\n",
    "        plt.errorbar(REDU[x],difff[x],yerr=100,color=col[1])\n",
    "    if PRE[x]==3:\n",
    "        plt.scatter(REDU[x],difff[x],color=col[2])\n",
    "        plt.errorbar(REDU[x],difff[x],yerr=100,color=col[2])\n",
    "    if PRE[x]==6:\n",
    "        plt.scatter(REDU[x],difff[x],color=col[3])\n",
    "        plt.errorbar(REDU[x],difff[x],yerr=100,color=col[3])\n",
    "    if PRE[x]==9:\n",
    "        plt.scatter(REDU[x],difff[x],color=col[4])\n",
    "        plt.errorbar(REDU[x],difff[x],yerr=100,color=col[4])\n",
    "    if PRE[x]==11:\n",
    "        plt.scatter(REDU[x],difff[x],color=col[0])\n",
    "        plt.errorbar(REDU[x],difff[x],yerr=100,color=col[0])\n",
    "plt.xlabel('reduced field',fontsize=20)\n",
    "plt.ylabel('reduced diffusion',fontsize=20)\n",
    "#plt.scatter(REDU,difff)\n",
    "#plt.scatter(dd[:,0],dd[:,1],color='y')\n",
    "plt.xlim(0,350)"
   ]
  },
  {
   "cell_type": "code",
   "execution_count": null,
   "metadata": {
    "collapsed": true
   },
   "outputs": [],
   "source": []
  },
  {
   "cell_type": "code",
   "execution_count": null,
   "metadata": {
    "collapsed": true
   },
   "outputs": [],
   "source": []
  },
  {
   "cell_type": "code",
   "execution_count": null,
   "metadata": {
    "collapsed": true
   },
   "outputs": [],
   "source": []
  },
  {
   "cell_type": "code",
   "execution_count": null,
   "metadata": {
    "collapsed": true
   },
   "outputs": [],
   "source": []
  },
  {
   "cell_type": "code",
   "execution_count": null,
   "metadata": {
    "collapsed": true
   },
   "outputs": [],
   "source": []
  },
  {
   "cell_type": "code",
   "execution_count": null,
   "metadata": {
    "collapsed": true
   },
   "outputs": [],
   "source": []
  },
  {
   "cell_type": "code",
   "execution_count": null,
   "metadata": {
    "collapsed": true
   },
   "outputs": [],
   "source": []
  },
  {
   "cell_type": "code",
   "execution_count": null,
   "metadata": {
    "collapsed": true
   },
   "outputs": [],
   "source": []
  },
  {
   "cell_type": "code",
   "execution_count": null,
   "metadata": {
    "collapsed": true
   },
   "outputs": [],
   "source": []
  },
  {
   "cell_type": "code",
   "execution_count": null,
   "metadata": {
    "collapsed": true
   },
   "outputs": [],
   "source": []
  },
  {
   "cell_type": "code",
   "execution_count": 242,
   "metadata": {},
   "outputs": [
    {
     "data": {
      "text/plain": [
       "(0, 350)"
      ]
     },
     "execution_count": 242,
     "metadata": {},
     "output_type": "execute_result"
    },
    {
     "data": {
      "image/png": "[encoded data removed]",
      "text/plain": [
       "<matplotlib.figure.Figure at 0x1231b39b0>"
      ]
     },
     "metadata": {},
     "output_type": "display_data"
    }
   ],
   "source": [
    "col=['b','g','r','k','m']\n",
    "plt.figure(figsize=(12,7))\n",
    "for x in range(0,len(PRE)):\n",
    "    if PRE[x]==1:\n",
    "        plt.scatter(REDU[x],difff[x],color=col[1])\n",
    "        plt.errorbar(REDU[x],difff[x],yerr=100,color=col[1])\n",
    "    if PRE[x]==3:\n",
    "        plt.scatter(REDU[x],difff[x],color=col[2])\n",
    "        plt.errorbar(REDU[x],difff[x],yerr=100,color=col[2])\n",
    "    if PRE[x]==6:\n",
    "        plt.scatter(REDU[x],difff[x],color=col[3])\n",
    "        plt.errorbar(REDU[x],difff[x],yerr=100,color=col[3])\n",
    "    if PRE[x]==9:\n",
    "        plt.scatter(REDU[x],difff[x],color=col[4])\n",
    "        plt.errorbar(REDU[x],difff[x],yerr=100,color=col[4])\n",
    "    if PRE[x]==11:\n",
    "        plt.scatter(REDU[x],difff[x],color=col[0])\n",
    "        plt.errorbar(REDU[x],difff[x],yerr=100,color=col[0])\n",
    "plt.xlabel('reduced field',fontsize=20)\n",
    "plt.ylabel('reduced diffusion',fontsize=20)\n",
    "#plt.scatter(REDU,difff)\n",
    "plt.scatter(dd[:,0],dd[:,1],color='y')\n",
    "plt.xlim(0,350)"
   ]
  },
  {
   "cell_type": "code",
   "execution_count": 261,
   "metadata": {},
   "outputs": [
    {
     "data": {
      "text/plain": [
       "(50, 370)"
      ]
     },
     "execution_count": 261,
     "metadata": {},
     "output_type": "execute_result"
    },
    {
     "data": {
      "image/png": "[encoded data removed]",
      "text/plain": [
       "<matplotlib.figure.Figure at 0x123827470>"
      ]
     },
     "metadata": {},
     "output_type": "display_data"
    }
   ],
   "source": [
    "col=['b','g','r','k','m']\n",
    "plt.figure(figsize=(9,9))\n",
    "for x in range(0,len(PRE)):\n",
    "    if PRE[x]==1:\n",
    "        plt.scatter(EFID[x],Dl[x]*1e8,color=col[1])\n",
    "        plt.errorbar(EFID[x],Dl[x]*1e8,yerr=100,color=col[1])\n",
    "    if PRE[x]==3:\n",
    "        plt.scatter(EFID[x],Dl[x]*1e8,color=col[2])\n",
    "        plt.errorbar(EFID[x],Dl[x]*1e8,yerr=100,color=col[2])\n",
    "    if PRE[x]==6:\n",
    "        plt.scatter(EFID[x],Dl[x]*1e8,color=col[3])\n",
    "        plt.errorbar(EFID[x],Dl[x]*1e8,yerr=100,color=col[3])\n",
    "    if PRE[x]==9:\n",
    "        plt.scatter(EFID[x],Dl[x]*1e8,color=col[4])\n",
    "        plt.errorbar(EFID[x],Dl[x]*1e8,yerr=100,color=col[4])\n",
    "    if PRE[x]==11:\n",
    "        plt.scatter(EFID[x],Dl[x]*1e8,color=col[0])\n",
    "        plt.errorbar(EFID[x],Dl[x]*1e8,yerr=100,color=col[0])\n",
    "        \n",
    "#plt.scatter(REDU,difff)\n",
    "plt.xlabel('E field',fontsize=20)\n",
    "plt.ylabel(' diffusion',fontsize=20)\n",
    "#plt.scatter(dd[:,0],dd[:,1],color='y')\n",
    "plt.xlim(50,370)"
   ]
  },
  {
   "cell_type": "code",
   "execution_count": null,
   "metadata": {
    "collapsed": true
   },
   "outputs": [],
   "source": []
  },
  {
   "cell_type": "code",
   "execution_count": 262,
   "metadata": {},
   "outputs": [
    {
     "data": {
      "text/plain": [
       "<matplotlib.text.Text at 0x123f513c8>"
      ]
     },
     "execution_count": 262,
     "metadata": {},
     "output_type": "execute_result"
    },
    {
     "data": {
      "image/png": "[encoded data removed]",
      "text/plain": [
       "<matplotlib.figure.Figure at 0x123bd82e8>"
      ]
     },
     "metadata": {},
     "output_type": "display_data"
    }
   ],
   "source": [
    "col=['b','g','r','k','m']\n",
    "plt.figure(figsize=(9,9))\n",
    "for x in range(0,len(PRE)):\n",
    "    if PRE[x]==1:\n",
    "        plt.scatter(REDU[x],Dl[x]/Mu[x]*1e8,color=col[1])\n",
    "        #plt.errorbar(EFID[x],Dl[x]*1e8,yerr=100,color=col[1])\n",
    "    if PRE[x]==3:\n",
    "        plt.scatter(REDU[x],Dl[x]/Mu[x]*1e8,color=col[2])\n",
    "        #plt.errorbar(EFID[x],Dl[x]*1e8,yerr=100,color=col[2])\n",
    "    if PRE[x]==6:\n",
    "        plt.scatter(REDU[x],Dl[x]/Mu[x]*1e8,color=col[3])\n",
    "        #plt.errorbar(EFID[x],Dl[x]*1e8,yerr=100,color=col[3])\n",
    "    if PRE[x]==9:\n",
    "        plt.scatter(REDU[x],Dl[x]/Mu[x]*1e8,color=col[4])\n",
    "        #plt.errorbar(EFID[x],Dl[x]*1e8,yerr=100,color=col[4])\n",
    "    if PRE[x]==11:\n",
    "        plt.scatter(REDU[x],Dl[x]/Mu[x]*1e8,color=col[0])\n",
    "        #plt.errorbar(EFID[x],Dl[x]*1e8,yerr=100,color=col[0])\n",
    "        \n",
    "#plt.scatter(REDU,difff)\n",
    "plt.xlabel('E field',fontsize=20)\n",
    "plt.ylabel(' diffusion',fontsize=20)\n",
    "#plt.scatter(dd[:,0],dd[:,1],color='y')\n",
    "#plt.xlim(50,370)"
   ]
  },
  {
   "cell_type": "code",
   "execution_count": null,
   "metadata": {
    "collapsed": true
   },
   "outputs": [],
   "source": []
  },
  {
   "cell_type": "code",
   "execution_count": 24,
   "metadata": {
    "collapsed": true
   },
   "outputs": [],
   "source": [
    "dd = np.genfromtxt('/Users/austinmcdonald/Desktop/set.csv',delimiter=',')"
   ]
  },
  {
   "cell_type": "code",
   "execution_count": 25,
   "metadata": {},
   "outputs": [
    {
     "data": {
      "text/plain": [
       "array([ 22.90880631,  28.49373882,  25.98076923,  26.41413238,\n",
       "        28.55826151,  28.07867133,  29.96202635,  33.18657505,\n",
       "        34.04756871,  38.06334363,  38.02333713,  38.29094162,\n",
       "        42.05216295,  43.44738982,  44.35826964,  47.57196292,\n",
       "        48.54907302,  53.65051228,  57.1358351 ])"
      ]
     },
     "execution_count": 25,
     "metadata": {},
     "output_type": "execute_result"
    }
   ],
   "source": [
    "dd[:,0]"
   ]
  },
  {
   "cell_type": "code",
   "execution_count": null,
   "metadata": {
    "collapsed": true
   },
   "outputs": [],
   "source": []
  },
  {
   "cell_type": "code",
   "execution_count": null,
   "metadata": {
    "collapsed": true
   },
   "outputs": [],
   "source": []
  },
  {
   "cell_type": "code",
   "execution_count": null,
   "metadata": {
    "collapsed": true
   },
   "outputs": [],
   "source": []
  },
  {
   "cell_type": "code",
   "execution_count": 266,
   "metadata": {},
   "outputs": [
    {
     "data": {
      "image/png": "[encoded data removed]",
      "text/plain": [
       "<matplotlib.figure.Figure at 0x11deb9ac8>"
      ]
     },
     "metadata": {},
     "output_type": "display_data"
    }
   ],
   "source": [
    "col=['b','g','r','k','m']\n",
    "plt.figure(figsize=(9,9))\n",
    "for x in range(0,len(PRE)):\n",
    "    if PRE[x]==1:\n",
    "        plt.scatter(REDU[x],Dl[x]*1e8,color=col[1])\n",
    "    if PRE[x]==3:\n",
    "        plt.scatter(REDU[x],Dl[x]*1e8,color=col[2])\n",
    "    if PRE[x]==6:\n",
    "        plt.scatter(REDU[x],Dl[x]*1e8,color=col[3])\n",
    "    if PRE[x]==9:\n",
    "        plt.scatter(REDU[x],Dl[x]*1e8,color=col[4])\n",
    "    if PRE[x]==11:\n",
    "        plt.scatter(REDU[x],Dl[x]*1e8,color=col[0])\n",
    "        \n",
    "#plt.scatter(REDU,difff)\n",
    "#plt.scatter(dd[:,0],dd[:,1],color='y')\n",
    "#plt.xlim(0,75)"
   ]
  },
  {
   "cell_type": "code",
   "execution_count": null,
   "metadata": {
    "collapsed": true
   },
   "outputs": [],
   "source": []
  },
  {
   "cell_type": "code",
   "execution_count": null,
   "metadata": {
    "collapsed": true
   },
   "outputs": [],
   "source": []
  },
  {
   "cell_type": "code",
   "execution_count": 251,
   "metadata": {},
   "outputs": [
    {
     "name": "stderr",
     "output_type": "stream",
     "text": [
      "//anaconda/envs/py35/lib/python3.5/site-packages/ipykernel/__main__.py:4: RuntimeWarning: divide by zero encountered in true_divide\n"
     ]
    },
    {
     "data": {
      "text/plain": [
       "(0, 0.15)"
      ]
     },
     "execution_count": 251,
     "metadata": {},
     "output_type": "execute_result"
    },
    {
     "data": {
      "image/png": "[encoded data removed]",
      "text/plain": [
       "<matplotlib.figure.Figure at 0x123d91048>"
      ]
     },
     "metadata": {},
     "output_type": "display_data"
    }
   ],
   "source": [
    "xnew = np.linspace(0,300,100)\n",
    "def polyy(x,a,b,c):\n",
    "    #return a*np.sqrt(x)+b+c*x+d\n",
    "    return -a/x+b +c*x\n",
    "popt,pcov = optimize.curve_fit(polyy,REDU,Vd)\n",
    "plt.figure(figsize=(6,6))\n",
    "plt.plot(xnew,polyy(xnew,*popt))\n",
    "plt.scatter(REDU,Vd)\n",
    "plt.ylim(0,0.15)"
   ]
  },
  {
   "cell_type": "code",
   "execution_count": 84,
   "metadata": {},
   "outputs": [
    {
     "data": {
      "text/plain": [
       "[<matplotlib.lines.Line2D at 0x121d67080>]"
      ]
     },
     "execution_count": 84,
     "metadata": {},
     "output_type": "execute_result"
    },
    {
     "data": {
      "image/png": "[encoded data removed]",
      "text/plain": [
       "<matplotlib.figure.Figure at 0x121d792b0>"
      ]
     },
     "metadata": {},
     "output_type": "display_data"
    }
   ],
   "source": [
    "coefs = poly.polyfit(REDU, Vd*100, 5)\n",
    "xnew = np.linspace(0,300,100)\n",
    "ffit = poly.polyval(xnew, coefs)\n",
    "\n",
    "plt.scatter(REDU,Vd*100)\n",
    "plt.plot(xnew,ffit)"
   ]
  },
  {
   "cell_type": "code",
   "execution_count": null,
   "metadata": {
    "collapsed": true
   },
   "outputs": [],
   "source": []
  },
  {
   "cell_type": "code",
   "execution_count": null,
   "metadata": {
    "collapsed": true
   },
   "outputs": [],
   "source": []
  },
  {
   "cell_type": "code",
   "execution_count": null,
   "metadata": {
    "collapsed": true
   },
   "outputs": [],
   "source": [
    "np.sqrt(273/296*12)*np.sqrt(Dl/Vd)"
   ]
  },
  {
   "cell_type": "code",
   "execution_count": null,
   "metadata": {
    "collapsed": true
   },
   "outputs": [],
   "source": [
    "np.sqrt(273/296*12)"
   ]
  },
  {
   "cell_type": "code",
   "execution_count": null,
   "metadata": {
    "collapsed": true
   },
   "outputs": [],
   "source": [
    "####Xe-008_P-01_E-100.txt\n",
    "#Xe-099_P-0302_E-250.txt\n",
    "#Xe-099_P-0302_E-040.txt\n",
    "#Xe-099_P-0901_E-080.txt\n",
    "#Xe-099_P-0995_E-250.txt\n",
    "#Xe-099_P-0601_E-250.txt\n",
    "#Xe-100_P-1080_E-080.txt\n",
    "#Xe-100_P-0302_E-100.txt\n",
    "#Xe-100_P-0101_E-100.txt\n",
    "#Xe-100_P-1080_E-250.txt\n",
    "#Xe-100_P-0101_E-250.txt\n",
    "##Xe-100_P-1080_E-300.txt\n",
    "#Xe-100_P-1080_E-100.txt\n",
    "#Xe-100_P-0302_E-040.txt\n",
    "#Xe-100_P-0607_E-300.txt\n",
    "#Xe-035_P-01_E-080.txt\n",
    "#Xe-035_P-06_E-200.txt"
   ]
  },
  {
   "cell_type": "code",
   "execution_count": null,
   "metadata": {
    "collapsed": true
   },
   "outputs": [],
   "source": [
    "Xe-035_P-01_E-080.txt\n",
    "Xe-035_P-11_E-080.txt\n",
    "Xe-035_P-06_E-200.txt"
   ]
  },
  {
   "cell_type": "code",
   "execution_count": null,
   "metadata": {
    "collapsed": true
   },
   "outputs": [],
   "source": [
    "PATH = '/Users/austinmcdonald/Desktop/Xenon/Data/100/'\n",
    "PP = \"Xe-100_P-0909_E-200.txt\"\n",
    "Data = np.loadtxt(PATH+PP)"
   ]
  },
  {
   "cell_type": "code",
   "execution_count": null,
   "metadata": {
    "collapsed": true
   },
   "outputs": [],
   "source": [
    "plt.figure(figsize=(9,9))\n",
    "plt.plot(Data[0],Data[1])\n",
    "X,Y,O = FITTER_GOLD(Data[0],Data[1])\n",
    "print(O)\n",
    "plt.plot(X,func(X,*O),color='r')\n",
    "plt.plot(Data[0],Data[2])\n",
    "X,Y,O = FITTER_ANOD(Data[0],Data[2])\n",
    "print(O)\n",
    "plt.plot(X,func(X,*O),color='r')\n",
    "#plt.xlim(0,0.001)"
   ]
  },
  {
   "cell_type": "code",
   "execution_count": null,
   "metadata": {
    "collapsed": true
   },
   "outputs": [],
   "source": [
    "def gaus(x,a,x0,sigma):\n",
    "    return a*np.exp(-(x-x0)**2/(2*sigma**2))"
   ]
  },
  {
   "cell_type": "code",
   "execution_count": null,
   "metadata": {
    "collapsed": true
   },
   "outputs": [],
   "source": [
    "#plt.plot(Data[0],Data[1])\n",
    "X,Y,O = FITTER_GOLD(Data[0],Data[1])\n",
    "O"
   ]
  },
  {
   "cell_type": "code",
   "execution_count": null,
   "metadata": {
    "collapsed": true
   },
   "outputs": [],
   "source": [
    "# arrival, sigma, max, RC\n",
    "xval = np.linspace(-.0001,0.002,10000)\n",
    "\n",
    "X,Y,O = FITTER_GOLD(Data[0],Data[1])\n",
    "plt.plot(xval,gaus(xval,O[2],O[0],O[1]),color='r')\n",
    "X,Y,O = FITTER_ANOD(Data[0],Data[2])\n",
    "plt.plot(xval,gaus(xval,O[2],O[0],O[1]),color='g')\n",
    "plt.xlim(-1e-5,3e-4)"
   ]
  },
  {
   "cell_type": "code",
   "execution_count": null,
   "metadata": {
    "collapsed": true
   },
   "outputs": [],
   "source": [
    "X,Y,O = FITTER_GOLD(Data[0],Data[1])\n",
    "plt.plot(xval,gaus(xval,1,0,O[1]),color='r')\n",
    "print(O[1])\n",
    "X,Y,O = FITTER_ANOD(Data[0],Data[2])\n",
    "plt.plot(xval,abs(gaus(xval,1,0,O[1])),color='g')\n",
    "print(O[1])\n",
    "plt.xlim(-1e-5,1e-5)"
   ]
  },
  {
   "cell_type": "code",
   "execution_count": null,
   "metadata": {
    "collapsed": true
   },
   "outputs": [],
   "source": []
  },
  {
   "cell_type": "code",
   "execution_count": null,
   "metadata": {
    "collapsed": true
   },
   "outputs": [],
   "source": [
    "(7.0303106598e-06-4.75471431319e-06)*1e6\n"
   ]
  },
  {
   "cell_type": "code",
   "execution_count": null,
   "metadata": {
    "collapsed": true
   },
   "outputs": [],
   "source": [
    "(6.13364779471e-06)*1e6*13.8"
   ]
  },
  {
   "cell_type": "code",
   "execution_count": null,
   "metadata": {
    "collapsed": true
   },
   "outputs": [],
   "source": []
  },
  {
   "cell_type": "code",
   "execution_count": null,
   "metadata": {
    "collapsed": true
   },
   "outputs": [],
   "source": []
  },
  {
   "cell_type": "code",
   "execution_count": null,
   "metadata": {
    "collapsed": true
   },
   "outputs": [],
   "source": []
  },
  {
   "cell_type": "code",
   "execution_count": null,
   "metadata": {
    "collapsed": true
   },
   "outputs": [],
   "source": []
  },
  {
   "cell_type": "code",
   "execution_count": null,
   "metadata": {
    "collapsed": true
   },
   "outputs": [],
   "source": []
  },
  {
   "cell_type": "code",
   "execution_count": null,
   "metadata": {
    "collapsed": true
   },
   "outputs": [],
   "source": []
  },
  {
   "cell_type": "code",
   "execution_count": null,
   "metadata": {
    "collapsed": true
   },
   "outputs": [],
   "source": []
  },
  {
   "cell_type": "code",
   "execution_count": null,
   "metadata": {
    "collapsed": true
   },
   "outputs": [],
   "source": []
  },
  {
   "cell_type": "code",
   "execution_count": null,
   "metadata": {
    "collapsed": true
   },
   "outputs": [],
   "source": []
  },
  {
   "cell_type": "code",
   "execution_count": null,
   "metadata": {
    "collapsed": true
   },
   "outputs": [],
   "source": []
  },
  {
   "cell_type": "code",
   "execution_count": null,
   "metadata": {
    "collapsed": true
   },
   "outputs": [],
   "source": []
  },
  {
   "cell_type": "code",
   "execution_count": null,
   "metadata": {
    "collapsed": true
   },
   "outputs": [],
   "source": []
  },
  {
   "cell_type": "code",
   "execution_count": null,
   "metadata": {
    "collapsed": true
   },
   "outputs": [],
   "source": []
  },
  {
   "cell_type": "code",
   "execution_count": null,
   "metadata": {
    "collapsed": true
   },
   "outputs": [],
   "source": []
  }
 ],
 "metadata": {
  "kernelspec": {
   "display_name": "Python 3",
   "language": "python",
   "name": "python3"
  },
  "language_info": {
   "codemirror_mode": {
    "name": "ipython",
    "version": 3
   },
   "file_extension": ".py",
   "mimetype": "text/x-python",
   "name": "python",
   "nbconvert_exporter": "python",
   "pygments_lexer": "ipython3",
   "version": "3.5.2"
  }
 },
 "nbformat": 4,
 "nbformat_minor": 1
}
