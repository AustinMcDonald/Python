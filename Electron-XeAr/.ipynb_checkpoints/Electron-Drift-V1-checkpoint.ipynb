{
 "cells": [
  {
   "cell_type": "code",
   "execution_count": 68,
   "metadata": {
    "collapsed": true
   },
   "outputs": [],
   "source": [
    "import numpy as np\n",
    "import glob\n",
    "import os\n",
    "%matplotlib inline\n",
    "from readTRC import readTrc\n",
    "import matplotlib.pyplot as plt\n"
   ]
  },
  {
   "cell_type": "code",
   "execution_count": 69,
   "metadata": {
    "collapsed": true
   },
   "outputs": [],
   "source": [
    "def find_nearest(array,value):\n",
    "    idx = (np.abs(array-value)).argmin()\n",
    "    return array[idx]\n",
    "\n",
    "def moving_average(a, n=3) :\n",
    "    ret = np.cumsum(a, dtype=float)\n",
    "    ret[n:] = ret[n:] - ret[:-n]\n",
    "    return ret[n - 1:] / n"
   ]
  },
  {
   "cell_type": "code",
   "execution_count": 70,
   "metadata": {},
   "outputs": [
    {
     "name": "stdout",
     "output_type": "stream",
     "text": [
      "/Users/austinmcdonald/Desktop/Xenon/Data\n"
     ]
    }
   ],
   "source": [
    "cd /Users/austinmcdonald/Desktop/Xenon/Data/"
   ]
  },
  {
   "cell_type": "code",
   "execution_count": 73,
   "metadata": {},
   "outputs": [
    {
     "data": {
      "text/plain": [
       "['/Users/austinmcdonald/Desktop/Xenon/Data/000/',\n",
       " '/Users/austinmcdonald/Desktop/Xenon/Data/003/',\n",
       " '/Users/austinmcdonald/Desktop/Xenon/Data/035/',\n",
       " '/Users/austinmcdonald/Desktop/Xenon/Data/050/',\n",
       " '/Users/austinmcdonald/Desktop/Xenon/Data/065/',\n",
       " '/Users/austinmcdonald/Desktop/Xenon/Data/085/',\n",
       " '/Users/austinmcdonald/Desktop/Xenon/Data/095/',\n",
       " '/Users/austinmcdonald/Desktop/Xenon/Data/099/',\n",
       " '/Users/austinmcdonald/Desktop/Xenon/Data/100/']"
      ]
     },
     "execution_count": 73,
     "metadata": {},
     "output_type": "execute_result"
    }
   ],
   "source": [
    "PATH = '/Users/austinmcdonald/Desktop/Xenon/Data/'\n",
    "folders = glob.glob(PATH+\"*/\")\n",
    "folders.sort()\n",
    "folders"
   ]
  },
  {
   "cell_type": "code",
   "execution_count": 83,
   "metadata": {},
   "outputs": [],
   "source": [
    "F=0\n",
    "NAME = folders[F].split('/')[-2]\n",
    "files = os.listdir(folders[F])\n",
    "EP = []\n",
    "Vd = []\n",
    "\n",
    "for x in range(0,len(files)):\n",
    "    name = files[x].split(\".\")[0]\n",
    "    broken = name.split('_')\n",
    "    percent  = int(broken[0].split('-')[1])\n",
    "    tt = broken[1].split('-')[1]\n",
    "    a, b = tt[:2], tt[2:]\n",
    "    P = a+'.'+b\n",
    "    pressure = float(P)\n",
    "    Efield   = int(broken[2].split('-')[1])\n",
    "    EP.append(Efield/pressure)\n",
    "  \n",
    "    Data = np.loadtxt(folders[F]+files[x])\n",
    "    pp,ee = FIND_MAX(Data[0],Data[1])\n",
    "    MM, MIN, RE = FIND_MIN(Data[0],Data[2])\n",
    "    \n",
    "    T0 = ee + int((pp-ee)/2)\n",
    "    T0 = Data[0][T0]\n",
    "    T1 = RE + int((MM-RE)/2)\n",
    "    T1 = Data[0][T1]\n",
    "    DT = (T1-T0)\n",
    "    Vd.append(13.8*1e-5/DT)"
   ]
  },
  {
   "cell_type": "code",
   "execution_count": 84,
   "metadata": {},
   "outputs": [
    {
     "data": {
      "text/plain": [
       "<matplotlib.collections.PathCollection at 0x1057d8940>"
      ]
     },
     "execution_count": 84,
     "metadata": {},
     "output_type": "execute_result"
    },
    {
     "data": {
      "image/png": "[encoded data removed]",
      "text/plain": [
       "<matplotlib.figure.Figure at 0x1183fcba8>"
      ]
     },
     "metadata": {},
     "output_type": "display_data"
    }
   ],
   "source": [
    "plt.scatter(EP,Vd)"
   ]
  },
  {
   "cell_type": "code",
   "execution_count": null,
   "metadata": {
    "collapsed": true
   },
   "outputs": [],
   "source": []
  },
  {
   "cell_type": "code",
   "execution_count": null,
   "metadata": {
    "collapsed": true
   },
   "outputs": [],
   "source": []
  },
  {
   "cell_type": "code",
   "execution_count": 86,
   "metadata": {},
   "outputs": [],
   "source": [
    "perc = dict()\n",
    "redu = dict()\n",
    "drift= dict()\n",
    "for y in range(0,len(folders)):\n",
    "    F = y\n",
    "    NAME = folders[F].split('/')[-2]\n",
    "    files = os.listdir(folders[F])\n",
    "    EP = []\n",
    "    Vd = []\n",
    "\n",
    "    for x in range(0,len(files)):\n",
    "        name = files[x].split(\".\")[0]\n",
    "        broken = name.split('_')\n",
    "        percent  = int(broken[0].split('-')[1])\n",
    "        tt = broken[1].split('-')[1]\n",
    "        a, b = tt[:2], tt[2:]\n",
    "        P = a+'.'+b\n",
    "        pressure = float(P)\n",
    "        Efield   = int(broken[2].split('-')[1])\n",
    "        EP.append(Efield/pressure)\n",
    "\n",
    "        Data = np.loadtxt(folders[F]+files[x])\n",
    "        pp,ee = FIND_MAX(Data[0],Data[1])\n",
    "        MM, MIN, RE = FIND_MIN(Data[0],Data[2])\n",
    "\n",
    "        T0 = ee + int((pp-ee)/2)\n",
    "        T0 = Data[0][T0]\n",
    "        T1 = RE + int((MM-RE)/2)\n",
    "        T1 = Data[0][T1]\n",
    "        DT = (T1-T0)\n",
    "        Vd.append(13.8*1e-5/DT)\n",
    "    \n",
    "    perc[y] = NAME\n",
    "    redu[y] = EP\n",
    "    drift[y] = Vd"
   ]
  },
  {
   "cell_type": "code",
   "execution_count": null,
   "metadata": {
    "collapsed": true
   },
   "outputs": [],
   "source": []
  },
  {
   "cell_type": "code",
   "execution_count": 90,
   "metadata": {},
   "outputs": [
    {
     "data": {
      "image/png": "[encoded data removed]",
      "text/plain": [
       "<matplotlib.figure.Figure at 0x1165f2d68>"
      ]
     },
     "metadata": {},
     "output_type": "display_data"
    }
   ],
   "source": [
    "plt.figure(figsize=(9,9))\n",
    "plt.scatter(redu[0],drift[0],label=perc[0],color='r')\n",
    "plt.scatter(redu[2],drift[2],label=perc[2],color='g')\n",
    "plt.scatter(redu[3],drift[3],label=perc[3],color='b')\n",
    "plt.scatter(redu[4],drift[4],label=perc[4],color='m')\n",
    "plt.scatter(redu[5],drift[5],label=perc[5],color='k')\n",
    "plt.scatter(redu[6],drift[6],label=perc[6],color='y')\n",
    "plt.scatter(redu[7],drift[7],label=perc[7],color='c')\n",
    "plt.scatter(redu[8],drift[8],label=perc[8],color='pink')\n",
    "\n",
    "\n",
    "plt.legend(loc=\"upper right\")\n",
    "plt.xlim(0,230)\n",
    "plt.ylim(0,2.6)\n",
    "plt.show()\n",
    "   "
   ]
  },
  {
   "cell_type": "code",
   "execution_count": null,
   "metadata": {
    "collapsed": true
   },
   "outputs": [],
   "source": []
  },
  {
   "cell_type": "code",
   "execution_count": null,
   "metadata": {
    "collapsed": true
   },
   "outputs": [],
   "source": []
  },
  {
   "cell_type": "code",
   "execution_count": null,
   "metadata": {
    "collapsed": true
   },
   "outputs": [],
   "source": []
  },
  {
   "cell_type": "code",
   "execution_count": null,
   "metadata": {
    "collapsed": true
   },
   "outputs": [],
   "source": []
  },
  {
   "cell_type": "code",
   "execution_count": null,
   "metadata": {
    "collapsed": true
   },
   "outputs": [],
   "source": []
  },
  {
   "cell_type": "code",
   "execution_count": null,
   "metadata": {
    "collapsed": true
   },
   "outputs": [],
   "source": []
  },
  {
   "cell_type": "code",
   "execution_count": null,
   "metadata": {
    "collapsed": true
   },
   "outputs": [],
   "source": []
  },
  {
   "cell_type": "code",
   "execution_count": null,
   "metadata": {
    "collapsed": true
   },
   "outputs": [],
   "source": []
  },
  {
   "cell_type": "code",
   "execution_count": null,
   "metadata": {
    "collapsed": true
   },
   "outputs": [],
   "source": []
  },
  {
   "cell_type": "code",
   "execution_count": null,
   "metadata": {
    "collapsed": true
   },
   "outputs": [],
   "source": []
  },
  {
   "cell_type": "code",
   "execution_count": null,
   "metadata": {
    "collapsed": true
   },
   "outputs": [],
   "source": []
  },
  {
   "cell_type": "code",
   "execution_count": null,
   "metadata": {
    "collapsed": true
   },
   "outputs": [],
   "source": []
  },
  {
   "cell_type": "code",
   "execution_count": null,
   "metadata": {
    "collapsed": true
   },
   "outputs": [],
   "source": []
  },
  {
   "cell_type": "code",
   "execution_count": null,
   "metadata": {
    "collapsed": true
   },
   "outputs": [],
   "source": []
  },
  {
   "cell_type": "code",
   "execution_count": null,
   "metadata": {
    "collapsed": true
   },
   "outputs": [],
   "source": []
  },
  {
   "cell_type": "code",
   "execution_count": null,
   "metadata": {
    "collapsed": true
   },
   "outputs": [],
   "source": []
  },
  {
   "cell_type": "code",
   "execution_count": null,
   "metadata": {
    "collapsed": true
   },
   "outputs": [],
   "source": []
  },
  {
   "cell_type": "code",
   "execution_count": null,
   "metadata": {
    "collapsed": true
   },
   "outputs": [],
   "source": []
  },
  {
   "cell_type": "code",
   "execution_count": null,
   "metadata": {
    "collapsed": true
   },
   "outputs": [],
   "source": []
  },
  {
   "cell_type": "code",
   "execution_count": null,
   "metadata": {
    "collapsed": true
   },
   "outputs": [],
   "source": []
  },
  {
   "cell_type": "code",
   "execution_count": null,
   "metadata": {
    "collapsed": true
   },
   "outputs": [],
   "source": []
  },
  {
   "cell_type": "code",
   "execution_count": null,
   "metadata": {
    "collapsed": true
   },
   "outputs": [],
   "source": []
  },
  {
   "cell_type": "code",
   "execution_count": null,
   "metadata": {
    "collapsed": true
   },
   "outputs": [],
   "source": []
  },
  {
   "cell_type": "code",
   "execution_count": null,
   "metadata": {
    "collapsed": true
   },
   "outputs": [],
   "source": []
  },
  {
   "cell_type": "code",
   "execution_count": null,
   "metadata": {
    "collapsed": true
   },
   "outputs": [],
   "source": [
    "Tdrift=[]\n",
    "for x in range(0,len(files)):\n",
    "    Data = np.loadtxt(files[x])\n",
    "    pp,ee = FIND_MAX(Data[0],Data[1])\n",
    "    MM, MIN, RE = FIND_MIN(Data[0],Data[2])\n",
    "    P = INFO[x][2]\n",
    "    T0 = ee + int((pp-ee)/2)\n",
    "    T0 = Data[0][T0]\n",
    "    T1 = RE + int((MM-RE)/2)\n",
    "    T1 = Data[0][T1]\n",
    "    DT = (T1-T0)\n",
    "    er = np.sqrt((0.1/13.8)**2+2*(0/DT)**2)\n",
    "    Tdrift.append(13.8*1e-5/DT)\n",
    "    Erry.append(er)\n",
    "    er2 = np.sqrt((0.1/INFO[x][3])**2+(0.05/INFO[x][2])**2+(0.1/13.8)**2)\n",
    "    Errx.append(er2)"
   ]
  },
  {
   "cell_type": "code",
   "execution_count": null,
   "metadata": {
    "collapsed": true
   },
   "outputs": [],
   "source": []
  },
  {
   "cell_type": "code",
   "execution_count": null,
   "metadata": {
    "collapsed": true
   },
   "outputs": [],
   "source": []
  },
  {
   "cell_type": "code",
   "execution_count": null,
   "metadata": {
    "collapsed": true
   },
   "outputs": [],
   "source": []
  },
  {
   "cell_type": "code",
   "execution_count": 18,
   "metadata": {
    "collapsed": true
   },
   "outputs": [],
   "source": [
    "files = os.listdir()\n",
    "files.remove('.DS_Store')\n",
    "files.sort()\n",
    "#files"
   ]
  },
  {
   "cell_type": "code",
   "execution_count": 19,
   "metadata": {
    "collapsed": true
   },
   "outputs": [],
   "source": [
    "name = files[0].split(\".\")[0]\n",
    "broken = name.split('_')\n",
    "percent  = int(broken[0].split('-')[1])\n",
    "tt = broken[1].split('-')[1]\n",
    "a, b = tt[:2], tt[2:]\n",
    "P = a+'.'+b\n",
    "pressure = float(P)\n",
    "Efield   = int(broken[2].split('-')[1])"
   ]
  },
  {
   "cell_type": "code",
   "execution_count": 6,
   "metadata": {},
   "outputs": [
    {
     "data": {
      "text/plain": [
       "'01'"
      ]
     },
     "execution_count": 6,
     "metadata": {},
     "output_type": "execute_result"
    }
   ],
   "source": [
    "broken[1].split('-')[1]"
   ]
  },
  {
   "cell_type": "code",
   "execution_count": 7,
   "metadata": {},
   "outputs": [
    {
     "data": {
      "text/plain": [
       "1.0"
      ]
     },
     "execution_count": 7,
     "metadata": {},
     "output_type": "execute_result"
    }
   ],
   "source": [
    "tt = broken[1].split('-')[1]\n",
    "a, b = tt[:2], tt[2:]\n",
    "P = a+'.'+b\n",
    "float(P)"
   ]
  },
  {
   "cell_type": "code",
   "execution_count": 8,
   "metadata": {},
   "outputs": [
    {
     "data": {
      "text/plain": [
       "'Xe-000_P-01_E-060'"
      ]
     },
     "execution_count": 8,
     "metadata": {},
     "output_type": "execute_result"
    }
   ],
   "source": [
    "name"
   ]
  },
  {
   "cell_type": "code",
   "execution_count": 56,
   "metadata": {
    "collapsed": true
   },
   "outputs": [],
   "source": [
    "INFO = []\n",
    "for q in range(0,len(files)):    \n",
    "    name = files[q].split(\".\")[0]\n",
    "    broken = name.split('_')\n",
    "    percent  = int(broken[0].split('-')[1])\n",
    "    tt = broken[1].split('-')[1]\n",
    "    a, b = tt[:2], tt[2:]\n",
    "    P = a+'.'+b\n",
    "    pressure = float(P)\n",
    "    Efield   = int(broken[2].split('-')[1])\n",
    "    II = [name, float(percent), float(pressure), float(Efield)]\n",
    "    INFO.append(II)\n",
    "INFO = np.array(INFO)"
   ]
  },
  {
   "cell_type": "code",
   "execution_count": 32,
   "metadata": {
    "collapsed": true
   },
   "outputs": [],
   "source": [
    "def FIND_MIN(X,Y):\n",
    "    TriggerTime = find_nearest(X,0)\n",
    "    Trigger     = np.where(X==TriggerTime)[0][0]+20\n",
    "    xx = moving_average(X,20)\n",
    "    yy = moving_average(Y,20)\n",
    "    \n",
    "    xxx = xx[Trigger:]\n",
    "    yyy = yy[Trigger:]\n",
    "    \n",
    "    miny = min(yyy)\n",
    "    \n",
    "    hold      = find_nearest(yyy,miny)\n",
    "    MINLOC     = np.where(yyy==hold)[0][0]\n",
    "    \n",
    "    TT = Trigger+MINLOC\n",
    "    xxxx = xx[Trigger:TT]\n",
    "    yyyy = yy[Trigger:TT]\n",
    "    \n",
    "    hold      = find_nearest(yyyy,miny*0.1)\n",
    "    REDGE     = np.where(yyyy==hold)[0][0]\n",
    "    return MINLOC+Trigger,miny,REDGE+Trigger"
   ]
  },
  {
   "cell_type": "code",
   "execution_count": 33,
   "metadata": {
    "collapsed": true
   },
   "outputs": [],
   "source": [
    "def FIND_MAX(X,Y):\n",
    "    TriggerTime = find_nearest(X,0)\n",
    "    Trigger     = np.where(X==TriggerTime)[0][0]+5\n",
    "    xx = moving_average(X,20)\n",
    "    yy = moving_average(Y,20)\n",
    "    \n",
    "    xxx = xx[Trigger:]\n",
    "    yyy = yy[Trigger:]\n",
    "    \n",
    "    maxy = max(yyy)\n",
    "    \n",
    "    hold      = find_nearest(yyy,maxy)\n",
    "    peak     = np.where(yyy==hold)[0][0]\n",
    "\n",
    "    xxx = xx[Trigger:Trigger+peak]\n",
    "    yyy = yy[Trigger:Trigger+peak]\n",
    "    \n",
    "    hold      = find_nearest(yyy,maxy*0.1)\n",
    "    edge     = np.where(yyy==hold)[0][0]\n",
    "    return Trigger+peak, Trigger+edge"
   ]
  },
  {
   "cell_type": "code",
   "execution_count": null,
   "metadata": {
    "collapsed": true
   },
   "outputs": [],
   "source": []
  },
  {
   "cell_type": "code",
   "execution_count": null,
   "metadata": {
    "collapsed": true
   },
   "outputs": [],
   "source": []
  },
  {
   "cell_type": "code",
   "execution_count": 12,
   "metadata": {},
   "outputs": [
    {
     "data": {
      "text/plain": [
       "'Xe-050_P-0304_E-150.txt'"
      ]
     },
     "execution_count": 12,
     "metadata": {},
     "output_type": "execute_result"
    }
   ],
   "source": [
    "files[65]"
   ]
  },
  {
   "cell_type": "code",
   "execution_count": 13,
   "metadata": {
    "collapsed": true
   },
   "outputs": [],
   "source": [
    "Data = np.loadtxt(files[65])"
   ]
  },
  {
   "cell_type": "code",
   "execution_count": 14,
   "metadata": {},
   "outputs": [
    {
     "data": {
      "text/plain": [
       "7.9800000932550656e-05"
      ]
     },
     "execution_count": 14,
     "metadata": {},
     "output_type": "execute_result"
    },
    {
     "data": {
      "image/png": "[encoded data removed]",
      "text/plain": [
       "<matplotlib.figure.Figure at 0x1053d0cc0>"
      ]
     },
     "metadata": {},
     "output_type": "display_data"
    }
   ],
   "source": [
    "plt.plot(Data[0],Data[1])\n",
    "pp,ee = FIND_MAX(Data[0],Data[1])\n",
    "plt.axvline(Data[0][pp],color='r')\n",
    "plt.axvline(Data[0][ee],color='g')\n",
    "I = ee + int((pp-ee)/2)\n",
    "plt.axvline(Data[0][I],color='k')\n",
    "\n",
    "plt.plot(Data[0],Data[2])\n",
    "MM, MIN, RE = FIND_MIN(Data[0],Data[2])\n",
    "plt.axvline(Data[0][RE],color='r')\n",
    "plt.axvline(Data[0][MM],color='g')\n",
    "I2 = RE + int((MM-RE)/2)\n",
    "plt.axvline(Data[0][I2],color='k')\n",
    "\n",
    "plt.xlim(0,0.0003)\n",
    "\n",
    "Data[0][I2]-Data[0][I]"
   ]
  },
  {
   "cell_type": "code",
   "execution_count": null,
   "metadata": {
    "collapsed": true
   },
   "outputs": [],
   "source": []
  },
  {
   "cell_type": "code",
   "execution_count": 26,
   "metadata": {},
   "outputs": [
    {
     "data": {
      "text/plain": [
       "'Xe-003_P-01_E-080.txt'"
      ]
     },
     "execution_count": 26,
     "metadata": {},
     "output_type": "execute_result"
    }
   ],
   "source": [
    "#    II = [name, percent, pressure, Efield]\n",
    "#    INFO.append(II)\n",
    "files[22]"
   ]
  },
  {
   "cell_type": "code",
   "execution_count": 31,
   "metadata": {},
   "outputs": [
    {
     "data": {
      "text/plain": [
       "[<matplotlib.lines.Line2D at 0x1164ee438>]"
      ]
     },
     "execution_count": 31,
     "metadata": {},
     "output_type": "execute_result"
    },
    {
     "data": {
      "image/png": "[encoded data removed]",
      "text/plain": [
       "<matplotlib.figure.Figure at 0x1164ee5f8>"
      ]
     },
     "metadata": {},
     "output_type": "display_data"
    }
   ],
   "source": [
    "Data = np.loadtxt(files[22])\n",
    "plt.plot(Data[0],Data[1])\n",
    "plt.plot(Data[0],Data[2])\n"
   ]
  },
  {
   "cell_type": "code",
   "execution_count": null,
   "metadata": {
    "collapsed": true
   },
   "outputs": [],
   "source": []
  },
  {
   "cell_type": "code",
   "execution_count": null,
   "metadata": {
    "collapsed": true
   },
   "outputs": [],
   "source": []
  },
  {
   "cell_type": "code",
   "execution_count": null,
   "metadata": {
    "collapsed": true
   },
   "outputs": [],
   "source": []
  },
  {
   "cell_type": "code",
   "execution_count": 41,
   "metadata": {},
   "outputs": [],
   "source": [
    "Erry =[]\n",
    "Errx =[]\n",
    "\n",
    "Tdrift=[]\n",
    "for x in range(0,len(files)):\n",
    "    Data = np.loadtxt(files[x])\n",
    "    pp,ee = FIND_MAX(Data[0],Data[1])\n",
    "    MM, MIN, RE = FIND_MIN(Data[0],Data[2])\n",
    "    P = INFO[x][2]\n",
    "    T0 = ee + int((pp-ee)/2)\n",
    "    T0 = Data[0][T0]\n",
    "    T1 = RE + int((MM-RE)/2)\n",
    "    T1 = Data[0][T1]\n",
    "    DT = (T1-T0)\n",
    "    er = np.sqrt((0.1/13.8)**2+2*(0/DT)**2)\n",
    "    Tdrift.append(13.8*1e-5/DT)\n",
    "    Erry.append(er)\n",
    "    er2 = np.sqrt((0.1/INFO[x][3])**2+(0.05/INFO[x][2])**2+(0.1/13.8)**2)\n",
    "    Errx.append(er2)"
   ]
  },
  {
   "cell_type": "code",
   "execution_count": 65,
   "metadata": {},
   "outputs": [],
   "source": [
    "Name=[]\n",
    "Efields=[]\n",
    "Pressure=[]\n",
    "Percent=[]\n",
    "for q in range(0,len(files)):    \n",
    "    name = files[q].split(\".\")[0]\n",
    "    broken = name.split('_')\n",
    "    percent  = int(broken[0].split('-')[1])\n",
    "    tt = broken[1].split('-')[1]\n",
    "    a, b = tt[:2], tt[2:]\n",
    "    P = a+'.'+b\n",
    "    pressure = float(P)\n",
    "    Efield   = int(broken[2].split('-')[1])\n",
    "    \n",
    "    Name.append(name)\n",
    "    Efields.append(Efield)\n",
    "    Pressure.append(pressure)\n",
    "    Percent.append(percent)\n",
    "    \n",
    "    "
   ]
  },
  {
   "cell_type": "code",
   "execution_count": 67,
   "metadata": {},
   "outputs": [
    {
     "data": {
      "text/plain": [
       "array([  0,   3,  35,  50,  65,  85,  95,  99, 100])"
      ]
     },
     "execution_count": 67,
     "metadata": {},
     "output_type": "execute_result"
    }
   ],
   "source": [
    "Per = np.unique(Percent)\n",
    "Per"
   ]
  },
  {
   "cell_type": "code",
   "execution_count": null,
   "metadata": {
    "collapsed": true
   },
   "outputs": [],
   "source": [
    "for x in range(0,len(Percent)):\n",
    "    "
   ]
  },
  {
   "cell_type": "code",
   "execution_count": null,
   "metadata": {
    "collapsed": true
   },
   "outputs": [],
   "source": []
  },
  {
   "cell_type": "code",
   "execution_count": null,
   "metadata": {},
   "outputs": [],
   "source": [
    "np.sqrt((0.1/200)**2+(6e-6/DT)**2)"
   ]
  },
  {
   "cell_type": "code",
   "execution_count": null,
   "metadata": {},
   "outputs": [],
   "source": [
    "eh=0\n",
    "plt.figure(figsize=(9,9))\n",
    "\n",
    "for x in range(0,len(files)):\n",
    "    eh=0\n",
    "    if INFO[x][1] == 99:\n",
    "        \n",
    "        plt.scatter(INFO[x][3]/INFO[x][2],Tdrift[x],color='r')\n",
    "        #plt.errorbar(INFO[x][3]/INFO[x][2],Tdrift[x],yerr=Erry[x],color='r',alpha=0.7,fmt='D',linewidth=1.4)\n",
    "        eh+=1\n",
    "    if INFO[x][1] == 100:\n",
    "        #eh+=1\n",
    "        plt.scatter(INFO[x][3]/INFO[x][2],Tdrift[x],color='g')\n",
    "        \n",
    "    if INFO[x][1] == 95:\n",
    "        #eh+=1\n",
    "        plt.scatter(INFO[x][3]/INFO[x][2],Tdrift[x],color='b')\n",
    "    if INFO[x][1] == 85:\n",
    "        #eh+=1\n",
    "        plt.scatter(INFO[x][3]/INFO[x][2],Tdrift[x],color='m') \n",
    "        #plt.errorbar(INFO[x][3]/INFO[x][2],Tdrift[x],yerr=Erry[x],color='m',alpha=0.7,fmt='D',linewidth=1.4)\n",
    "\n",
    "    if INFO[x][1] == 65:\n",
    "        #eh+=1\n",
    "        plt.scatter(INFO[x][3]/INFO[x][2],Tdrift[x],color='k') \n",
    "    \n",
    "    \n",
    "    if INFO[x][1] == 50:\n",
    "        #eh+=1\n",
    "        plt.scatter(INFO[x][3]/INFO[x][2],Tdrift[x],color='y')  \n",
    "        #plt.errorbar(INFO[x][3]/INFO[x][2],Tdrift[x],yerr=Erry[x],color='y',alpha=0.7,fmt='D',linewidth=1.4)\n",
    "        \n",
    "    if INFO[x][1] == 35:\n",
    "        #eh+=1\n",
    "        plt.scatter(INFO[x][3]/INFO[x][2],Tdrift[x],color='c')\n",
    "        \n",
    "    if INFO[x][1] == 0:\n",
    "        #eh+=1\n",
    "        plt.scatter(INFO[x][3]/INFO[x][2],Tdrift[x],color='pink')\n",
    "        \n",
    "#plt.scatter(MagX5,MagY5,color='k',alpha = 0.3)\n",
    "#plt.scatter(Mx35,My35,color='b',alpha = 0.3)\n",
    "plt.legend()\n",
    "plt.xlim(0,230)\n",
    "plt.ylim(0,2.6)"
   ]
  },
  {
   "cell_type": "code",
   "execution_count": null,
   "metadata": {
    "collapsed": true
   },
   "outputs": [],
   "source": []
  },
  {
   "cell_type": "code",
   "execution_count": 35,
   "metadata": {},
   "outputs": [
    {
     "name": "stderr",
     "output_type": "stream",
     "text": [
      "//anaconda/envs/py35/lib/python3.5/site-packages/matplotlib/axes/_axes.py:519: UserWarning: No labelled objects found. Use label='...' kwarg on individual plots.\n",
      "  warnings.warn(\"No labelled objects found. \"\n"
     ]
    },
    {
     "data": {
      "text/plain": [
       "(0, 2.6)"
      ]
     },
     "execution_count": 35,
     "metadata": {},
     "output_type": "execute_result"
    },
    {
     "data": {
      "image/png": "[encoded data removed]",
      "text/plain": [
       "<matplotlib.figure.Figure at 0x11651ebe0>"
      ]
     },
     "metadata": {},
     "output_type": "display_data"
    }
   ],
   "source": [
    "eh=0\n",
    "plt.figure(figsize=(9,9))\n",
    "\n",
    "for x in range(0,len(files)):\n",
    "\n",
    "    if INFO[x][1] == 100:\n",
    "        plt.scatter(INFO[x][3]/INFO[x][2],Tdrift[x],color='g')\n",
    "    if INFO[x][1] == 95:\n",
    "        None\n",
    "        #plt.scatter(INFO[x][3]/INFO[x][2],Tdrift[x],color='b')\n",
    "    if INFO[x][1] == 85:\n",
    "        plt.scatter(INFO[x][3]/INFO[x][2],Tdrift[x],color='m') \n",
    "    if INFO[x][1] == 35:\n",
    "        plt.scatter(INFO[x][3]/INFO[x][2],Tdrift[x],color='k') \n",
    "    if INFO[x][1] == 0:\n",
    "        #eh+=1\n",
    "        plt.scatter(INFO[x][3]/INFO[x][2],Tdrift[x],color='r')\n",
    "    if INFO[x][1] == 3:\n",
    "        #eh+=1\n",
    "        plt.scatter(INFO[x][3]/INFO[x][2],Tdrift[x],color='blue')        \n",
    "#plt.scatter(MagX5,MagY5,color='k',alpha = 0.3)\n",
    "#plt.scatter(Mx35,My35,color='b',alpha = 0.3)\n",
    "plt.legend()\n",
    "plt.xlim(0,230)\n",
    "plt.ylim(0,2.6)"
   ]
  },
  {
   "cell_type": "code",
   "execution_count": 39,
   "metadata": {},
   "outputs": [
    {
     "data": {
      "image/png": "[encoded data removed]",
      "text/plain": [
       "<matplotlib.figure.Figure at 0x10ab8f198>"
      ]
     },
     "metadata": {},
     "output_type": "display_data"
    }
   ],
   "source": [
    "eh=0\n",
    "plt.figure(figsize=(9,9))\n",
    "\n",
    "for x in range(0,len(files)):\n",
    "    if INFO[x][1] == 100:\n",
    "        plt.scatter(INFO[x][3]/INFO[x][2],Tdrift[x],color='g')\n",
    "    if INFO[x][1] == 95:\n",
    "        None\n",
    "        #plt.scatter(INFO[x][3]/INFO[x][2],Tdrift[x],color='b')\n",
    "    if INFO[x][1] == 85:\n",
    "        plt.scatter(INFO[x][3]/INFO[x][2],Tdrift[x],color='m') \n",
    "    if INFO[x][1] == 35:\n",
    "        plt.scatter(INFO[x][3]/INFO[x][2],Tdrift[x],color='k') \n",
    "    if INFO[x][1] == 0:\n",
    "        #eh+=1\n",
    "        plt.scatter(INFO[x][3]/INFO[x][2],Tdrift[x],color='r')\n",
    "    if INFO[x][1] == 3:\n",
    "        #eh+=1\n",
    "        plt.scatter(INFO[x][3]/INFO[x][2],Tdrift[x],color='blue')         \n",
    "#plt.scatter(MagX5,MagY5,color='k',alpha = 0.3)\n",
    "#plt.scatter(Mx35,My35,color='b',alpha = 0.3)\n",
    "#plt.xlim(0,230)\n",
    "#plt.ylim(0,2.6)"
   ]
  },
  {
   "cell_type": "code",
   "execution_count": 40,
   "metadata": {},
   "outputs": [
    {
     "name": "stdout",
     "output_type": "stream",
     "text": [
      "['Xe-003_P-01_E-080', 3, 1.0, 80]\n",
      "['Xe-003_P-01_E-100', 3, 1.0, 100]\n",
      "['Xe-003_P-01_E-150', 3, 1.0, 150]\n",
      "['Xe-003_P-01_E-200', 3, 1.0, 200]\n",
      "['Xe-003_P-03_E-080', 3, 3.0, 80]\n",
      "['Xe-003_P-03_E-100', 3, 3.0, 100]\n",
      "['Xe-003_P-03_E-150', 3, 3.0, 150]\n",
      "['Xe-003_P-03_E-200', 3, 3.0, 200]\n",
      "['Xe-003_P-06_E-080', 3, 6.0, 80]\n",
      "['Xe-003_P-06_E-100', 3, 6.0, 100]\n",
      "['Xe-003_P-06_E-150', 3, 6.0, 150]\n",
      "['Xe-003_P-06_E-200', 3, 6.0, 200]\n",
      "['Xe-003_P-09_E-080', 3, 9.0, 80]\n",
      "['Xe-003_P-09_E-100', 3, 9.0, 100]\n",
      "['Xe-003_P-09_E-150', 3, 9.0, 150]\n",
      "['Xe-003_P-09_E-200', 3, 9.0, 200]\n"
     ]
    },
    {
     "data": {
      "image/png": "[encoded data removed]",
      "text/plain": [
       "<matplotlib.figure.Figure at 0x11608bdd8>"
      ]
     },
     "metadata": {},
     "output_type": "display_data"
    }
   ],
   "source": [
    "plt.figure(figsize=(9,9))\n",
    "for x in range(0,len(files)):\n",
    "    if INFO[x][1] == 3:\n",
    "        print(INFO[x])\n",
    "        if INFO[x][2] == 1:\n",
    "            plt.scatter(INFO[x][3],Tdrift[x],color='b',label='1bar')\n",
    "        if INFO[x][2] == 3:\n",
    "            plt.scatter(INFO[x][3],Tdrift[x],color='g',label='3bar')\n",
    "        if INFO[x][2] == 6:\n",
    "            plt.scatter(INFO[x][3],Tdrift[x],color='r',label='6bar')\n",
    "        if INFO[x][2] == 9:\n",
    "            plt.scatter(INFO[x][3],Tdrift[x],color='m',label='9bar') \n",
    "        if INFO[x][2] == 11:\n",
    "            plt.scatter(INFO[x][3],Tdrift[x],color='k',label='10bar')       \n",
    "#plt.legend(loc='upper left')            \n",
    "plt.show()"
   ]
  },
  {
   "cell_type": "code",
   "execution_count": null,
   "metadata": {
    "collapsed": true
   },
   "outputs": [],
   "source": []
  },
  {
   "cell_type": "code",
   "execution_count": null,
   "metadata": {
    "collapsed": true
   },
   "outputs": [],
   "source": [
    "II = [name, percent, pressure, Efield]"
   ]
  },
  {
   "cell_type": "code",
   "execution_count": null,
   "metadata": {
    "collapsed": true
   },
   "outputs": [],
   "source": []
  },
  {
   "cell_type": "code",
   "execution_count": null,
   "metadata": {},
   "outputs": [],
   "source": [
    "plt.figure(figsize=(9,9))\n",
    "for x in range(0,len(files)):\n",
    "    if INFO[x][1] == 99:\n",
    "        print(INFO[x])\n",
    "        if INFO[x][2] == 1.08:\n",
    "            plt.scatter(INFO[x][3],Tdrift[x],color='b',label='1bar')\n",
    "        if INFO[x][2] == 3.02:\n",
    "            plt.scatter(INFO[x][3],Tdrift[x],color='g',label='3bar')\n",
    "        if INFO[x][2] == 6.01:\n",
    "            plt.scatter(INFO[x][3],Tdrift[x],color='r',label='6bar')\n",
    "        if INFO[x][2] == 9.01:\n",
    "            plt.scatter(INFO[x][3],Tdrift[x],color='m',label='9bar') \n",
    "        if INFO[x][2] == 9.95:\n",
    "            plt.scatter(INFO[x][3],Tdrift[x],color='k',label='10bar')       \n",
    "plt.legend(loc='upper left')            \n",
    "plt.show()\n",
    "            ##plt.scatter(INFO[x][3]/INFO[x][2],Tdrift[x],color='r')"
   ]
  },
  {
   "cell_type": "code",
   "execution_count": null,
   "metadata": {
    "collapsed": true
   },
   "outputs": [],
   "source": []
  },
  {
   "cell_type": "code",
   "execution_count": null,
   "metadata": {},
   "outputs": [],
   "source": [
    "plt.figure(figsize=(9,9))\n",
    "for x in range(0,len(files)):\n",
    "    if INFO[x][1] == 85:\n",
    "        print(INFO[x])\n",
    "        if INFO[x][2] == 1.07:\n",
    "            plt.scatter(INFO[x][3]/1.07,Tdrift[x],color='b',label='1bar')\n",
    "        if INFO[x][2] == 3.03:\n",
    "            plt.scatter(INFO[x][3]/3.03,Tdrift[x],color='g',label='3bar')\n",
    "        if INFO[x][2] == 5.96:\n",
    "            plt.scatter(INFO[x][3]/5.96,Tdrift[x],color='r',label='6bar')\n",
    "        if INFO[x][2] == 8.69:\n",
    "            plt.scatter(INFO[x][3]/8.69,Tdrift[x],color='m',label='9bar') \n",
    "        if INFO[x][2] == 10.94:\n",
    "            plt.scatter(INFO[x][3]/10.94,Tdrift[x],color='k',label='10bar')       \n",
    "#plt.legend(loc='upper left')            \n",
    "plt.show()\n",
    "            ##plt.scatter(INFO[x][3]/INFO[x][2],Tdrift[x],color='r')"
   ]
  },
  {
   "cell_type": "code",
   "execution_count": null,
   "metadata": {
    "collapsed": true
   },
   "outputs": [],
   "source": []
  },
  {
   "cell_type": "code",
   "execution_count": null,
   "metadata": {},
   "outputs": [],
   "source": [
    "plt.figure(figsize=(9,9))\n",
    "for x in range(0,len(files)):\n",
    "    if INFO[x][1] == 50:\n",
    "        print(INFO[x])\n",
    "        if INFO[x][2] == 1.06:\n",
    "            plt.scatter(INFO[x][3]/INFO[x][2],Tdrift[x],color='b',label='1bar')\n",
    "        if INFO[x][2] == 3.04:\n",
    "            plt.scatter(INFO[x][3]/INFO[x][2],Tdrift[x],color='g',label='3bar')\n",
    "        if INFO[x][2] == 6.0:\n",
    "            plt.scatter(INFO[x][3]/INFO[x][2],Tdrift[x],color='r',label='6bar')\n",
    "        if INFO[x][2] == 8.91:\n",
    "            plt.scatter(INFO[x][3]/INFO[x][2],Tdrift[x],color='m',label='9bar') \n",
    "        if INFO[x][2] == 11.02:\n",
    "            plt.scatter(INFO[x][3]/INFO[x][2],Tdrift[x],color='k',label='10bar')       \n",
    "#plt.legend(loc='upper left')            \n",
    "plt.show()\n",
    "            ##plt.scatter(INFO[x][3]/INFO[x][2],Tdrift[x],color='r')"
   ]
  },
  {
   "cell_type": "code",
   "execution_count": null,
   "metadata": {
    "collapsed": true
   },
   "outputs": [],
   "source": []
  },
  {
   "cell_type": "code",
   "execution_count": null,
   "metadata": {},
   "outputs": [],
   "source": [
    "plt.figure(figsize=(9,9))\n",
    "for x in range(0,len(files)):\n",
    "    if INFO[x][1] == 35:\n",
    "        print(INFO[x])\n",
    "        if INFO[x][2] == 1.06:\n",
    "            plt.scatter(INFO[x][3]/INFO[x][2],Tdrift[x],color='b',label='1bar')\n",
    "        if INFO[x][2] == 3.08:\n",
    "            plt.scatter(INFO[x][3]/INFO[x][2],Tdrift[x],color='g',label='3bar')\n",
    "        if INFO[x][2] == 6.04:\n",
    "            plt.scatter(INFO[x][3]/INFO[x][2],Tdrift[x],color='r',label='6bar')\n",
    "        if INFO[x][2] == 8.97:\n",
    "            plt.scatter(INFO[x][3]/INFO[x][2],Tdrift[x],color='m',label='9bar') \n",
    "        if INFO[x][2] == 10.96:\n",
    "            plt.scatter(INFO[x][3]/INFO[x][2],Tdrift[x],color='k',label='10bar')       \n",
    "#plt.legend(loc='upper left')            \n",
    "plt.show()\n",
    "            ##plt.scatter(INFO[x][3]/INFO[x][2],Tdrift[x],color='r')"
   ]
  },
  {
   "cell_type": "code",
   "execution_count": null,
   "metadata": {
    "collapsed": true
   },
   "outputs": [],
   "source": []
  },
  {
   "cell_type": "code",
   "execution_count": null,
   "metadata": {
    "collapsed": true
   },
   "outputs": [],
   "source": []
  },
  {
   "cell_type": "code",
   "execution_count": null,
   "metadata": {
    "collapsed": true
   },
   "outputs": [],
   "source": []
  },
  {
   "cell_type": "code",
   "execution_count": null,
   "metadata": {},
   "outputs": [],
   "source": [
    "plt.figure(figsize=(9,9))\n",
    "for x in range(0,len(files)):\n",
    "    if INFO[x][1] == 0:\n",
    "        print(INFO[x])\n",
    "        if INFO[x][2] == 1:\n",
    "            plt.scatter(INFO[x][3],Tdrift[x],color='b',label='1bar')\n",
    "        if INFO[x][2] == 3:\n",
    "            plt.scatter(INFO[x][3],Tdrift[x],color='g',label='3bar')\n",
    "        if INFO[x][2] == 6:\n",
    "            plt.scatter(INFO[x][3],Tdrift[x],color='r',label='6bar')\n",
    "        if INFO[x][2] == 9:\n",
    "            plt.scatter(INFO[x][3],Tdrift[x],color='m',label='9bar') \n",
    "        if INFO[x][2] == 11:\n",
    "            plt.scatter(INFO[x][3],Tdrift[x],color='k',label='10bar')       \n",
    "#plt.legend(loc='upper left')            \n",
    "plt.show()\n",
    "            ##plt.scatter(INFO[x][3]/INFO[x][2],Tdrift[x],color='r')"
   ]
  },
  {
   "cell_type": "code",
   "execution_count": null,
   "metadata": {
    "collapsed": true
   },
   "outputs": [],
   "source": []
  },
  {
   "cell_type": "code",
   "execution_count": null,
   "metadata": {
    "collapsed": true
   },
   "outputs": [],
   "source": []
  },
  {
   "cell_type": "code",
   "execution_count": null,
   "metadata": {},
   "outputs": [],
   "source": [
    "eh"
   ]
  },
  {
   "cell_type": "code",
   "execution_count": null,
   "metadata": {},
   "outputs": [],
   "source": [
    "36+27"
   ]
  },
  {
   "cell_type": "code",
   "execution_count": null,
   "metadata": {},
   "outputs": [],
   "source": [
    "len(INFO)"
   ]
  },
  {
   "cell_type": "code",
   "execution_count": null,
   "metadata": {
    "collapsed": true
   },
   "outputs": [],
   "source": []
  },
  {
   "cell_type": "code",
   "execution_count": null,
   "metadata": {
    "collapsed": true
   },
   "outputs": [],
   "source": []
  },
  {
   "cell_type": "code",
   "execution_count": null,
   "metadata": {
    "collapsed": true
   },
   "outputs": [],
   "source": []
  },
  {
   "cell_type": "code",
   "execution_count": null,
   "metadata": {
    "collapsed": true
   },
   "outputs": [],
   "source": [
    "plt.axvline(Data[0][pp],color='r')\n",
    "plt.axvline(Data[0][ee],color='g')"
   ]
  },
  {
   "cell_type": "code",
   "execution_count": null,
   "metadata": {},
   "outputs": [],
   "source": [
    "(Data[0][pp]-Data[0][ee])/2"
   ]
  },
  {
   "cell_type": "code",
   "execution_count": null,
   "metadata": {
    "collapsed": true
   },
   "outputs": [],
   "source": [
    "Data = np.loadtxt(files[4])"
   ]
  },
  {
   "cell_type": "code",
   "execution_count": null,
   "metadata": {
    "collapsed": true
   },
   "outputs": [],
   "source": [
    "pp,ee = FIND_MAX(Data[0],Data[1])\n",
    "T0 = (Data[0][pp]-Data[0][ee])/2\n",
    "\n",
    "MM, MIN, RE = FIND_MIN(Data[0],Data[2])\n",
    "T1 = (Data[0][MM]-Data[0][RE])/2"
   ]
  },
  {
   "cell_type": "code",
   "execution_count": null,
   "metadata": {},
   "outputs": [],
   "source": [
    "T1-T0"
   ]
  },
  {
   "cell_type": "code",
   "execution_count": null,
   "metadata": {},
   "outputs": [],
   "source": [
    "T1"
   ]
  },
  {
   "cell_type": "code",
   "execution_count": null,
   "metadata": {},
   "outputs": [],
   "source": [
    "T0"
   ]
  },
  {
   "cell_type": "code",
   "execution_count": null,
   "metadata": {},
   "outputs": [],
   "source": [
    "tt = '1056'\n",
    "a, b = tt[:2], tt[2:]\n",
    "ff = a+'.'+b\n",
    "float(ff)"
   ]
  },
  {
   "cell_type": "code",
   "execution_count": null,
   "metadata": {},
   "outputs": [],
   "source": [
    "a"
   ]
  },
  {
   "cell_type": "code",
   "execution_count": null,
   "metadata": {
    "collapsed": true
   },
   "outputs": [],
   "source": []
  }
 ],
 "metadata": {
  "kernelspec": {
   "display_name": "Python 3",
   "language": "python",
   "name": "python3"
  },
  "language_info": {
   "codemirror_mode": {
    "name": "ipython",
    "version": 3
   },
   "file_extension": ".py",
   "mimetype": "text/x-python",
   "name": "python",
   "nbconvert_exporter": "python",
   "pygments_lexer": "ipython3",
   "version": "3.5.2"
  }
 },
 "nbformat": 4,
 "nbformat_minor": 1
}
