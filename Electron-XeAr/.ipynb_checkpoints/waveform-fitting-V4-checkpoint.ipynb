{
 "cells": [
  {
   "cell_type": "code",
   "execution_count": 12,
   "metadata": {
    "collapsed": true
   },
   "outputs": [],
   "source": [
    "import numpy as np\n",
    "import matplotlib.pyplot as plt\n",
    "%matplotlib inline\n",
    "import matplotlib.mlab as mlab\n",
    "import glob\n",
    "from scipy import optimize\n",
    "from scipy.special import erf\n",
    "import os\n",
    "import numpy.polynomial.polynomial as poly\n",
    "from scipy.stats import chisquare\n"
   ]
  },
  {
   "cell_type": "code",
   "execution_count": 2,
   "metadata": {
    "collapsed": true
   },
   "outputs": [],
   "source": [
    "def find_nearest(array,value):\n",
    "    idx = (np.abs(array-value)).argmin()\n",
    "    return array[idx]\n",
    "\n",
    "def moving_average(a, n=3) :\n",
    "    ret = np.cumsum(a, dtype=float)\n",
    "    ret[n:] = ret[n:] - ret[:-n]\n",
    "    return ret[n - 1:] / n"
   ]
  },
  {
   "cell_type": "code",
   "execution_count": 3,
   "metadata": {
    "collapsed": true
   },
   "outputs": [],
   "source": [
    "def FIND_MAX(X,Y):\n",
    "    TriggerTime = find_nearest(X,0)\n",
    "    Trigger     = np.where(X==TriggerTime)[0][0]+5\n",
    "    xx = moving_average(X,20)\n",
    "    yy = moving_average(Y,20)\n",
    "    \n",
    "    xxx = xx[Trigger:]\n",
    "    yyy = yy[Trigger:]\n",
    "    \n",
    "    maxy = max(yyy)\n",
    "    \n",
    "    hold      = find_nearest(yyy,maxy)\n",
    "    peak     = np.where(yyy==hold)[0][0]\n",
    "\n",
    "    xxx = xx[Trigger:Trigger+peak]\n",
    "    yyy = yy[Trigger:Trigger+peak]\n",
    "    \n",
    "    hold      = find_nearest(yyy,maxy*0.1)\n",
    "    edge     = np.where(yyy==hold)[0][0]\n",
    "    return Trigger+peak, Trigger+edge\n",
    "\n",
    "def FIND_MIN(X,Y):\n",
    "    TriggerTime = find_nearest(X,0)\n",
    "    Trigger     = np.where(X==TriggerTime)[0][0]+20\n",
    "    xx = moving_average(X,20)\n",
    "    yy = moving_average(Y,20)\n",
    "    \n",
    "    xxx = xx[Trigger:]\n",
    "    yyy = yy[Trigger:]\n",
    "    \n",
    "    miny = min(yyy)\n",
    "    \n",
    "    hold      = find_nearest(yyy,miny)\n",
    "    MINLOC     = np.where(yyy==hold)[0][0]\n",
    "    \n",
    "    TT = Trigger+MINLOC\n",
    "    xxxx = xx[Trigger:TT]\n",
    "    yyyy = yy[Trigger:TT]\n",
    "    \n",
    "    hold      = find_nearest(yyyy,miny*0.1)\n",
    "    REDGE     = np.where(yyyy==hold)[0][0]\n",
    "    return MINLOC+Trigger,miny,REDGE+Trigger"
   ]
  },
  {
   "cell_type": "code",
   "execution_count": 222,
   "metadata": {
    "collapsed": true
   },
   "outputs": [],
   "source": [
    "def funcG(t,t0,sig,a):\n",
    "    tau = 121e-6\n",
    "    A = (sig**2-2*(t-t0)*tau)/(2*tau**2)\n",
    "    B = (-sig**2 +(t-t0)*tau)/(np.sqrt(2)*tau*sig)\n",
    "    C = np.exp(A)\n",
    "    D = (1 + erf(B))\n",
    "    E = a*C*D\n",
    "    return E\n",
    "\n",
    "def funcA(t,t0,sig,a):\n",
    "    tau = 123e-6\n",
    "    A = (sig**2-2*(t-t0)*tau)/(2*tau**2)\n",
    "    B = (-sig**2 +(t-t0)*tau)/(np.sqrt(2)*tau*sig)\n",
    "    C = np.exp(A)\n",
    "    D = (1 + erf(B))\n",
    "    E = a*C*D\n",
    "    return E\n",
    "def func(t,t0,sig,a,tau):\n",
    "    #tau = 123e-6\n",
    "    A = (sig**2-2*(t-t0)*tau)/(2*tau**2)\n",
    "    B = (-sig**2 +(t-t0)*tau)/(np.sqrt(2)*tau*sig)\n",
    "    C = np.exp(A)\n",
    "    D = (1 + erf(B))\n",
    "    E = a*C*D\n",
    "    return E"
   ]
  },
  {
   "cell_type": "code",
   "execution_count": 7,
   "metadata": {
    "collapsed": true
   },
   "outputs": [],
   "source": [
    "def FITTER_GOLD(x,y):\n",
    "    #avg=5\n",
    "    #YY = moving_average(y,avg)\n",
    "    #XX = moving_average(x,avg)\n",
    "    XX = x\n",
    "    YY = y\n",
    "    pp,ee = FIND_MAX(XX,YY)\n",
    "    I = ee + int((pp-ee)/2)\n",
    "    MM = max(YY[I:])\n",
    "    \n",
    "    fitval = [XX[I],8e-6, MM]\n",
    "\n",
    "    errfunc = lambda p, x, y: (funcG(x, *p) - y)**2\n",
    "    optim, success = optimize.leastsq(errfunc, fitval, args=(XX,YY))\n",
    "    return XX,YY,optim"
   ]
  },
  {
   "cell_type": "code",
   "execution_count": 28,
   "metadata": {
    "collapsed": true
   },
   "outputs": [],
   "source": [
    "def FITTER_ANOD(x,y):\n",
    "    #avg=5\n",
    "    #YY = moving_average(y,avg)\n",
    "    #XX = moving_average(x,avg)\n",
    "    XX = x\n",
    "    YY = y\n",
    "    MM, MIN, RE = FIND_MIN(Data[0],Data[2])\n",
    "    I2 = RE + int((MM-RE)/2)\n",
    "    MM = min(YY[I2:])\n",
    "    SIG = abs(x[MM]-x[RE])\n",
    "    \n",
    "    fitval = [XX[I2],8e-6, MM]\n",
    "    #fitval = [XX[I],SIG, MM,150e-6]\n",
    "    XX_new = XX[I2-400:I2+400]\n",
    "    YY_new = YY[I2-400:I2+400]\n",
    "\n",
    "    errfunc = lambda p, x, y: (funcA(x, *p) - y)**2\n",
    "    optim, success = optimize.leastsq(errfunc, fitval, args=(XX_new,YY_new))\n",
    "    return XX,YY,optim\n",
    "    #return SIG"
   ]
  },
  {
   "cell_type": "code",
   "execution_count": 106,
   "metadata": {
    "collapsed": true
   },
   "outputs": [],
   "source": [
    "Data = np.loadtxt(\"/Users/austinmcdonald/Desktop/Xenon/Data/100-2/Xe-100_P-03_E-080.txt\")\n"
   ]
  },
  {
   "cell_type": "code",
   "execution_count": null,
   "metadata": {
    "collapsed": true
   },
   "outputs": [],
   "source": []
  },
  {
   "cell_type": "code",
   "execution_count": 107,
   "metadata": {},
   "outputs": [
    {
     "name": "stderr",
     "output_type": "stream",
     "text": [
      "//anaconda/envs/py35/lib/python3.5/site-packages/ipykernel/__main__.py:28: DeprecationWarning: using a non-integer number instead of an integer will result in an error in the future\n",
      "//anaconda/envs/py35/lib/python3.5/site-packages/ipykernel/__main__.py:39: DeprecationWarning: using a non-integer number instead of an integer will result in an error in the future\n"
     ]
    },
    {
     "data": {
      "text/plain": [
       "[<matplotlib.lines.Line2D at 0x123c6b320>]"
      ]
     },
     "execution_count": 107,
     "metadata": {},
     "output_type": "execute_result"
    },
    {
     "data": {
      "image/png": "[encoded data removed]",
      "text/plain": [
       "<matplotlib.figure.Figure at 0x123e4cbe0>"
      ]
     },
     "metadata": {},
     "output_type": "display_data"
    }
   ],
   "source": [
    "XX = Data[0]\n",
    "YY = Data[2]\n",
    "\n",
    "TriggerTime = find_nearest(XX,0)\n",
    "Trigger     = np.where(XX==TriggerTime)[0][0]+20\n",
    "xx = moving_average(XX,20)\n",
    "yy = moving_average(YY,20)\n",
    "\n",
    "xxx = xx[Trigger:]\n",
    "yyy = yy[Trigger:]\n",
    "\n",
    "miny = min(yyy)\n",
    "\n",
    "hold      = find_nearest(yyy,miny)\n",
    "MINLOC     = np.where(yyy==hold)[0][0]\n",
    "\n",
    "TT = Trigger+MINLOC\n",
    "xxxx = xx[Trigger:TT]\n",
    "yyyy = yy[Trigger:TT]\n",
    "\n",
    "hold      = find_nearest(yyyy,miny*0.2)\n",
    "REDGE     = np.where(yyyy==hold)[0][0]\n",
    "\n",
    "\n",
    "MM, MIN, RE = FIND_MIN(XX,YY)\n",
    "I2 = RE + int((MM-RE)/2)\n",
    "MM = min(YY[I2:])\n",
    "SIG = abs(XX[MM]-XX[RE])\n",
    "\n",
    "fitval = [XX[I2],8e-6, MM]\n",
    "#fitval = [XX[I],SIG, MM,150e-6]\n",
    "XX_new = XX[I2-400:I2+400]\n",
    "YY_new = YY[I2-400:I2+400]\n",
    "\n",
    "errfunc = lambda p, x, y: (funcA(x, *p) - y)**2\n",
    "optim, success = optimize.leastsq(errfunc, fitval, args=(XX_new,YY_new))\n",
    "plt.plot(XX,YY,alpha=0.5)\n",
    "plt.plot(XX[I2:],YY[I2:],alpha=0.5)\n",
    "plt.axvline(XX[MM])\n",
    "plt.axvline(XX[REDGE])\n",
    "\n",
    "plt.plot(XX_new ,YY_new ,alpha=0.5)\n",
    "\n",
    "#plt.plot(XX,funcA(XX,*optim),color='r')\n"
   ]
  },
  {
   "cell_type": "code",
   "execution_count": null,
   "metadata": {
    "collapsed": true
   },
   "outputs": [],
   "source": []
  },
  {
   "cell_type": "code",
   "execution_count": 109,
   "metadata": {},
   "outputs": [
    {
     "name": "stdout",
     "output_type": "stream",
     "text": [
      "1.19636294239e-06\n"
     ]
    },
    {
     "data": {
      "image/png": "[encoded data removed]",
      "text/plain": [
       "<matplotlib.figure.Figure at 0x12392b898>"
      ]
     },
     "metadata": {},
     "output_type": "display_data"
    }
   ],
   "source": [
    "XX = Data[0]\n",
    "YY = Data[2]\n",
    "plt.plot(XX ,YY,alpha=0.5)\n",
    "\n",
    "TriggerTime = find_nearest(XX,0)\n",
    "Trigger     = np.where(XX==TriggerTime)[0][0]+20\n",
    "Trigger = int(Trigger)\n",
    "xx = moving_average(XX,20)\n",
    "yy = moving_average(YY,20)\n",
    "\n",
    "plt.plot(xx ,yy,alpha=0.5)\n",
    "xxx = xx[Trigger:]\n",
    "yyy = yy[Trigger:]\n",
    "plt.plot(xxx ,yyy,alpha=0.5)\n",
    "\n",
    "\n",
    "miny = min(yyy)\n",
    "\n",
    "hold      = find_nearest(yyy,miny)\n",
    "MINLOC     = np.where(yyy==hold)[0][0]\n",
    "\n",
    "TT = Trigger+MINLOC\n",
    "TT = int(TT)\n",
    "plt.axvline(xx[TT])\n",
    "plt.axvline(XX[TT],color='r')\n",
    "\n",
    "\n",
    "xxxx = xx[Trigger:TT]\n",
    "yyyy = yy[Trigger:TT]\n",
    "\n",
    "plt.plot(xxxx ,yyyy,alpha=0.5,color='k')\n",
    "\n",
    "hold      = find_nearest(yyyy,miny*0.2)\n",
    "REDGE     = np.where(yyyy==hold)[0][0]\n",
    "TTT = Trigger+REDGE\n",
    "plt.axvline(XX[TTT],color='m')\n",
    "Arr = TTT + int((TT-TTT)/2)\n",
    "\n",
    "\n",
    "plt.axvline(XX[Arr],color='y')\n",
    "\n",
    "fitval = [XX[Arr],8e-6, XX[TT]]\n",
    "cut = 600\n",
    "fitX = XX[Arr-cut:Arr+cut]\n",
    "fitY = YY[Arr-cut:Arr+cut]\n",
    "plt.plot(fitX ,fitY,alpha=0.5,color='k')\n",
    "\n",
    "\n",
    "\n",
    "\n",
    "errfunc = lambda p, x, y: (funcA(x, *p) - y)**2\n",
    "optim, success = optimize.leastsq(errfunc, fitval, args=(fitX,fitY))\n",
    "\n",
    "plt.plot(fitX,funcA(fitX,*optim),color='r')\n",
    "#plt.xlim(0.0005,0.001)\n",
    "chi = sum((funcA(fitX,*optim)- fitY)**2)\n",
    "print(chi)"
   ]
  },
  {
   "cell_type": "code",
   "execution_count": null,
   "metadata": {
    "collapsed": true
   },
   "outputs": [],
   "source": []
  },
  {
   "cell_type": "code",
   "execution_count": 182,
   "metadata": {},
   "outputs": [
    {
     "name": "stdout",
     "output_type": "stream",
     "text": [
      "3.62299297189e-06\n"
     ]
    },
    {
     "data": {
      "image/png": "[encoded data removed]",
      "text/plain": [
       "<matplotlib.figure.Figure at 0x12515f908>"
      ]
     },
     "metadata": {},
     "output_type": "display_data"
    }
   ],
   "source": [
    "XX = Data[0]\n",
    "YY = Data[1]\n",
    "plt.plot(XX ,YY,alpha=0.5)\n",
    "\n",
    "TriggerTime = find_nearest(XX,0)\n",
    "Trigger     = np.where(XX==TriggerTime)[0][0]+20\n",
    "Trigger = int(Trigger)\n",
    "xx = moving_average(XX,20)\n",
    "yy = moving_average(YY,20)\n",
    "\n",
    "plt.plot(xx ,yy,alpha=0.5)\n",
    "xxx = xx[Trigger:]\n",
    "yyy = yy[Trigger:]\n",
    "plt.plot(xxx ,yyy,alpha=0.5)\n",
    "\n",
    "\n",
    "miny = min(yyy)\n",
    "\n",
    "hold      = find_nearest(yyy,miny)\n",
    "MINLOC     = np.where(yyy==hold)[0][0]\n",
    "\n",
    "TT = Trigger+MINLOC\n",
    "TT = int(TT)\n",
    "plt.axvline(xx[TT])\n",
    "plt.axvline(XX[TT],color='r')\n",
    "\n",
    "\n",
    "xxxx = xx[Trigger:TT]\n",
    "yyyy = yy[Trigger:TT]\n",
    "\n",
    "plt.plot(xxxx ,yyyy,alpha=0.5,color='k')\n",
    "\n",
    "hold      = find_nearest(yyyy,miny*0.2)\n",
    "REDGE     = np.where(yyyy==hold)[0][0]\n",
    "TTT = Trigger+REDGE\n",
    "plt.axvline(XX[TTT],color='m')\n",
    "Arr = TTT + int((TT-TTT)/2)\n",
    "\n",
    "\n",
    "plt.axvline(XX[Arr],color='y')\n",
    "\n",
    "fitval = [XX[Arr],8e-6, XX[TT]]\n",
    "cut = 600\n",
    "fitX = XX[Arr-cut:Arr+cut]\n",
    "fitY = YY[Arr-cut:Arr+cut]\n",
    "plt.plot(fitX ,fitY,alpha=0.5,color='k')\n",
    "\n",
    "\n",
    "\n",
    "\n",
    "errfunc = lambda p, x, y: (funcA(x, *p) - y)**2\n",
    "optim, success = optimize.leastsq(errfunc, fitval, args=(fitX,fitY))\n",
    "\n",
    "plt.plot(fitX,funcA(fitX,*optim),color='r')\n",
    "#plt.xlim(0.0005,0.001)\n",
    "chi = sum((funcA(fitX,*optim)- fitY)**2)\n",
    "print(chi)"
   ]
  },
  {
   "cell_type": "code",
   "execution_count": null,
   "metadata": {
    "collapsed": true
   },
   "outputs": [],
   "source": []
  },
  {
   "cell_type": "code",
   "execution_count": 207,
   "metadata": {},
   "outputs": [
    {
     "name": "stdout",
     "output_type": "stream",
     "text": [
      "0.000700692040602\n",
      "[  9.50848713e-06   3.70000004e-06   1.73136344e-03]\n"
     ]
    },
    {
     "data": {
      "image/png": "[encoded data removed]",
      "text/plain": [
       "<matplotlib.figure.Figure at 0x1257f6208>"
      ]
     },
     "metadata": {},
     "output_type": "display_data"
    }
   ],
   "source": [
    "XX = Data[0]\n",
    "YY = Data[1]\n",
    "plt.plot(XX ,YY,alpha=0.5)\n",
    "\n",
    "TriggerTime = find_nearest(XX,0)\n",
    "Trigger     = np.where(XX==TriggerTime)[0][0]\n",
    "Trigger = int(Trigger)\n",
    "\n",
    "xx = moving_average(XX,20)\n",
    "yy = moving_average(YY,20)\n",
    "\n",
    "plt.plot(xx ,yy,alpha=0.5)\n",
    "xxx = xx[Trigger:]\n",
    "yyy = yy[Trigger:]\n",
    "plt.plot(xxx ,yyy,alpha=0.5)\n",
    "\n",
    "\n",
    "miny = max(yyy)\n",
    "\n",
    "hold      = find_nearest(yyy,miny)\n",
    "MINLOC     = np.where(yyy==hold)[0][0]\n",
    "\n",
    "TT = Trigger+MINLOC\n",
    "TT = int(TT)\n",
    "plt.axvline(xx[TT])\n",
    "plt.axvline(XX[TT],color='r')\n",
    "\n",
    "\n",
    "xxxx = xx[Trigger:TT]\n",
    "yyyy = yy[Trigger:TT]\n",
    "\n",
    "plt.plot(xxxx ,yyyy,alpha=0.5,color='k')\n",
    "\n",
    "hold      = find_nearest(yyyy,miny*0.2)\n",
    "REDGE     = np.where(yyyy==hold)[0][0]\n",
    "TTT = Trigger+REDGE\n",
    "plt.axvline(XX[TTT],color='m')\n",
    "Arr = TTT + int((TT-TTT)/2)\n",
    "\n",
    "\n",
    "plt.axvline(XX[Arr],color='y')\n",
    "BF = (XX[TT]-XX[TTT])/2\n",
    "fitval = [XX[Arr],BF, miny]\n",
    "cut = 600\n",
    "fitX = XX[0:Arr+cut]\n",
    "fitY = YY[0:Arr+cut]\n",
    "plt.plot(fitX ,fitY,alpha=0.5,color='k')\n",
    "plt.xlim(-0.000002,0.0001)\n",
    "\n",
    "#### adding bounds for the fit to top it being bad\n",
    "\n",
    "\n",
    "errfunc = lambda p, x, y: (funcG(x, *p) - y)**2\n",
    "#optim, success = optimize.least_squares(errfunc, fitval,bounds=([0,0,0], [0.1,1e-4,1e-3]), args=(fitX,fitY))\n",
    "optim = optimize.least_squares(errfunc, fitval,bounds=([0,1e-7,0], [0.5e-3,1e-5,10e-3]), args=(fitX,fitY)).x\n",
    "\n",
    "plt.plot(fitX,funcG(fitX,*optim),color='y')\n",
    "plt.xlim(-0.00002,0.0001)\n",
    "\n",
    "chi = sum((funcA(fitX,*optim)- fitY)**2)\n",
    "print(chi)\n",
    "print(optim)"
   ]
  },
  {
   "cell_type": "code",
   "execution_count": null,
   "metadata": {
    "collapsed": true
   },
   "outputs": [],
   "source": []
  },
  {
   "cell_type": "code",
   "execution_count": null,
   "metadata": {
    "collapsed": true
   },
   "outputs": [],
   "source": []
  },
  {
   "cell_type": "code",
   "execution_count": 264,
   "metadata": {},
   "outputs": [
    {
     "name": "stdout",
     "output_type": "stream",
     "text": [
      "[  9.50848713e-06   3.70000004e-06   1.73136344e-03]\n"
     ]
    },
    {
     "data": {
      "image/png": "[encoded data removed]",
      "text/plain": [
       "<matplotlib.figure.Figure at 0x128e95748>"
      ]
     },
     "metadata": {},
     "output_type": "display_data"
    }
   ],
   "source": [
    "XX = Data[0]\n",
    "YY = Data[1]\n",
    "plt.plot(XX ,YY,alpha=0.5)\n",
    "\n",
    "TriggerTime = find_nearest(XX,0)\n",
    "Trigger     = np.where(XX==TriggerTime)[0][0]\n",
    "Trigger = int(Trigger)\n",
    "XX = XX[Trigger:]\n",
    "YY = YY[Trigger:]\n",
    "\n",
    "xx = moving_average(XX,20)\n",
    "yy = moving_average(YY,20)\n",
    "\n",
    "plt.plot(xx ,yy,alpha=0.5)\n",
    "xxx = xx[Trigger:]\n",
    "yyy = yy[Trigger:]\n",
    "plt.plot(xxx ,yyy,alpha=0.5)\n",
    "\n",
    "\n",
    "miny = max(yy)\n",
    "\n",
    "hold      = find_nearest(yy,miny)\n",
    "MINLOC     = np.where(yy==hold)[0][0]\n",
    "\n",
    "TT = MINLOC\n",
    "TT = int(TT)\n",
    "plt.axvline(xx[TT])\n",
    "plt.axvline(XX[TT],color='r')\n",
    "\n",
    "\n",
    "xxxx = xx[:TT]\n",
    "yyyy = yy[:TT]\n",
    "\n",
    "plt.plot(xxxx ,yyyy,alpha=0.5,color='k')\n",
    "\n",
    "hold      = find_nearest(yyyy,miny*0.2)\n",
    "REDGE     = np.where(yyyy==hold)[0][0]\n",
    "TTT = REDGE\n",
    "plt.axvline(XX[TTT],color='m')\n",
    "Arr = TTT + int((TT-TTT)/2)\n",
    "#print((XX[TT]-XX[TTT])/2)\n",
    "\n",
    "\n",
    "plt.axvline(XX[Arr],color='y')\n",
    "BF = (XX[TT]-XX[TTT])/2\n",
    "fitval = [XX[Arr],BF, miny]\n",
    "cut = 600\n",
    "fitX = XX[0:Arr+cut]\n",
    "fitY = YY[0:Arr+cut]\n",
    "plt.plot(fitX ,fitY,alpha=0.5,color='k')\n",
    "plt.xlim(-0.000002,0.0001)\n",
    "\n",
    "#### adding bounds for the fit to top it being bad\n",
    "\n",
    "\n",
    "errfunc = lambda p, x, y: (funcG(x, *p) - y)**2\n",
    "#optim, success = optimize.least_squares(errfunc, fitval,bounds=([0,0,0], [0.1,1e-4,1e-3]), args=(fitX,fitY))\n",
    "optim = optimize.least_squares(errfunc, fitval,bounds=([0,1e-7,0], [0.5e-3,1e-5,10e-3]), args=(fitX,fitY)).x\n",
    "\n",
    "plt.plot(fitX,funcG(fitX,*optim),color='g')\n",
    "plt.xlim(-0.00002,0.0001)\n",
    "\n",
    "#fittt = funcG(fitX,*optim)\n",
    "#mmm = max(fittt)\n",
    "#plt.plot(fitX,fittt/mmm*miny,color='g')\n",
    "\n",
    "#chi = sum((funcA(fitX,*optim)- fitY)**2)\n",
    "#print(chi)\n",
    "print(optim)"
   ]
  },
  {
   "cell_type": "code",
   "execution_count": null,
   "metadata": {
    "collapsed": true
   },
   "outputs": [],
   "source": []
  },
  {
   "cell_type": "code",
   "execution_count": 247,
   "metadata": {},
   "outputs": [
    {
     "data": {
      "text/plain": [
       "5.5256247912152301e-06"
      ]
     },
     "execution_count": 247,
     "metadata": {},
     "output_type": "execute_result"
    }
   ],
   "source": [
    "mmm*miny"
   ]
  },
  {
   "cell_type": "code",
   "execution_count": 256,
   "metadata": {},
   "outputs": [
    {
     "data": {
      "text/plain": [
       "(0, 4e-05)"
      ]
     },
     "execution_count": 256,
     "metadata": {},
     "output_type": "execute_result"
    },
    {
     "data": {
      "image/png": "[encoded data removed]",
      "text/plain": [
       "<matplotlib.figure.Figure at 0x125fc80b8>"
      ]
     },
     "metadata": {},
     "output_type": "display_data"
    }
   ],
   "source": [
    "plt.plot(fitX ,fitY,alpha=0.5,color='b')\n",
    "plt.plot(fitX,funcG(fitX,9.50848713e-06,3.70000004e-06,9e-04),color='g')\n",
    "plt.xlim(0,0.00004)\n"
   ]
  },
  {
   "cell_type": "code",
   "execution_count": null,
   "metadata": {
    "collapsed": true
   },
   "outputs": [],
   "source": []
  },
  {
   "cell_type": "code",
   "execution_count": 206,
   "metadata": {},
   "outputs": [
    {
     "data": {
      "text/plain": [
       "0.0017313634364188395"
      ]
     },
     "execution_count": 206,
     "metadata": {},
     "output_type": "execute_result"
    }
   ],
   "source": [
    "miny"
   ]
  },
  {
   "cell_type": "code",
   "execution_count": null,
   "metadata": {
    "collapsed": true
   },
   "outputs": [],
   "source": []
  },
  {
   "cell_type": "code",
   "execution_count": 286,
   "metadata": {},
   "outputs": [
    {
     "name": "stdout",
     "output_type": "stream",
     "text": [
      "0.000698908407101\n",
      "[  1.80123434e-04   8.76521230e-06  -7.28580213e-04]\n"
     ]
    },
    {
     "data": {
      "image/png": "[encoded data removed]",
      "text/plain": [
       "<matplotlib.figure.Figure at 0x125bf4ba8>"
      ]
     },
     "metadata": {},
     "output_type": "display_data"
    }
   ],
   "source": [
    "XX = Data[0]\n",
    "YY = Data[2]\n",
    "plt.plot(XX ,YY,alpha=0.5)\n",
    "\n",
    "TriggerTime = find_nearest(XX,0)\n",
    "Trigger     = np.where(XX==TriggerTime)[0][0]\n",
    "Trigger = int(Trigger)\n",
    "XX = XX[Trigger:]\n",
    "YY = YY[Trigger:]\n",
    "\n",
    "xx = moving_average(XX,20)\n",
    "yy = moving_average(YY,20)\n",
    "\n",
    "plt.plot(xx ,yy,alpha=0.5)\n",
    "xxx = xx[Trigger:]\n",
    "yyy = yy[Trigger:]\n",
    "plt.plot(xxx ,yyy,alpha=0.5)\n",
    "\n",
    "\n",
    "miny = min(yy)\n",
    "\n",
    "hold      = find_nearest(yy,miny)\n",
    "MINLOC     = np.where(yy==hold)[0][0]\n",
    "\n",
    "TT = MINLOC\n",
    "TT = int(TT)\n",
    "plt.axvline(xx[TT])\n",
    "plt.axvline(XX[TT],color='r')\n",
    "\n",
    "\n",
    "xxxx = xx[:TT]\n",
    "yyyy = yy[:TT]\n",
    "\n",
    "plt.plot(xxxx ,yyyy,alpha=0.5,color='k')\n",
    "\n",
    "hold      = find_nearest(yyyy,miny*0.2)\n",
    "REDGE     = np.where(yyyy==hold)[0][0]\n",
    "TTT = REDGE\n",
    "plt.axvline(XX[TTT],color='m')\n",
    "Arr = TTT + int((TT-TTT)/2)\n",
    "#print((XX[TT]-XX[TTT])/2)\n",
    "\n",
    "\n",
    "plt.axvline(XX[Arr],color='y')\n",
    "BF = (XX[TT]-XX[TTT])/2\n",
    "fitval = [XX[Arr],BF, miny]\n",
    "cut = 600\n",
    "#fitX = XX[Arr-cut:Arr+cut]\n",
    "#fitY = YY[Arr-cut:Arr+cut]\n",
    "fitX = XX\n",
    "fitY = YY\n",
    "plt.plot(fitX ,fitY,alpha=0.5,color='k')\n",
    "\n",
    "#### adding bounds for the fit to top it being bad\n",
    "\n",
    "\n",
    "errfunc = lambda p, x, y: (funcA(x, *p) - y)**2\n",
    "#optim, success = optimize.least_squares(errfunc, fitval,bounds=([0,0,0], [0.1,1e-4,1e-3]), args=(fitX,fitY))\n",
    "optim = optimize.least_squares(errfunc, fitval,bounds=([0,0,-1], [1,1,0]), args=(fitX,fitY)).x\n",
    "\n",
    "plt.plot(fitX,funcA(fitX,*optim),color='g')\n",
    "plt.xlim(0,0.0004)\n",
    "\n",
    "#chi = sum((funcA(fitX,*optim)- fitY)**2)\n",
    "print(chi)\n",
    "print(optim)"
   ]
  },
  {
   "cell_type": "code",
   "execution_count": null,
   "metadata": {
    "collapsed": true
   },
   "outputs": [],
   "source": []
  },
  {
   "cell_type": "code",
   "execution_count": null,
   "metadata": {
    "collapsed": true
   },
   "outputs": [],
   "source": []
  },
  {
   "cell_type": "code",
   "execution_count": 168,
   "metadata": {},
   "outputs": [
    {
     "data": {
      "text/plain": [
       "array([  8.90198822e-06,   8.00000000e-06,   1.23019883e-05])"
      ]
     },
     "execution_count": 168,
     "metadata": {},
     "output_type": "execute_result"
    }
   ],
   "source": [
    "optimize.least_squares(errfunc, fitval,bounds=([0,0,0], [0.1,1e-4,1e-3]), args=(fitX,fitY)).x\n"
   ]
  },
  {
   "cell_type": "code",
   "execution_count": null,
   "metadata": {
    "collapsed": true
   },
   "outputs": [],
   "source": []
  },
  {
   "cell_type": "code",
   "execution_count": null,
   "metadata": {
    "collapsed": true
   },
   "outputs": [],
   "source": []
  },
  {
   "cell_type": "code",
   "execution_count": 258,
   "metadata": {
    "collapsed": true
   },
   "outputs": [],
   "source": [
    "def FULL_FITTER_GOLD(X,Y):\n",
    "    XX = X\n",
    "    YY = Y\n",
    "    #plt.plot(XX ,YY,alpha=0.5)\n",
    "    TriggerTime = find_nearest(XX,0)\n",
    "    Trigger     = np.where(XX==TriggerTime)[0][0]+20\n",
    "    Trigger = int(Trigger)\n",
    "    xx = moving_average(XX,20)\n",
    "    yy = moving_average(YY,20)\n",
    "    #plt.plot(xx ,yy,alpha=0.5)\n",
    "    xxx = xx[Trigger:]\n",
    "    yyy = yy[Trigger:]\n",
    "    #plt.plot(xxx ,yyy,alpha=0.5)\n",
    "    miny = max(yyy)\n",
    "    hold      = find_nearest(yyy,miny)\n",
    "    MINLOC     = np.where(yyy==hold)[0][0]\n",
    "    TT = Trigger+MINLOC\n",
    "    TT = int(TT)\n",
    "    #plt.axvline(xx[TT])\n",
    "    #plt.axvline(XX[TT],color='r')\n",
    "    xxxx = xx[Trigger:TT]\n",
    "    yyyy = yy[Trigger:TT]\n",
    "    #plt.plot(xxxx ,yyyy,alpha=0.5,color='k')\n",
    "    hold      = find_nearest(yyyy,miny*0.2)\n",
    "    REDGE     = np.where(yyyy==hold)[0][0]\n",
    "    TTT = Trigger+REDGE\n",
    "    #plt.axvline(XX[TTT],color='m')\n",
    "    Arr = TTT + int((TT-TTT)/2)\n",
    "    #plt.axvline(XX[Arr],color='y')\n",
    "    BF = (XX[TT]-XX[TTT])/2\n",
    "    fitval = [XX[Arr],BF, miny]\n",
    "    cut = 600\n",
    "    fitX = XX[0:Arr+cut]\n",
    "    fitY = YY[0:Arr+cut]\n",
    "    #plt.plot(fitX ,fitY,alpha=0.5,color='k')\n",
    "    #plt.xlim(-0.000002,0.0001)\n",
    "\n",
    "    #### adding bounds for the fit to top it being bad\n",
    "\n",
    "\n",
    "    errfunc = lambda p, x, y: (funcG(x, *p) - y)**2\n",
    "    #optim, success = optimize.least_squares(errfunc, fitval,bounds=([0,0,0], [0.1,1e-4,1e-3]), args=(fitX,fitY))\n",
    "    optim = optimize.least_squares(errfunc, fitval,bounds=([0,1e-7,0], [0.5e-3,1e-5,10e-3]), args=(fitX,fitY)).x\n",
    "\n",
    "    #plt.plot(fitX,funcA(fitX,*optim),color='r')\n",
    "    #plt.xlim(0.0,0.000021)\n",
    "    return optim\n",
    "\n",
    "\n",
    "def FULL_FITTER_ANODE(X,Y):\n",
    "    XX = X\n",
    "    YY = Y\n",
    "    #plt.plot(XX ,YY,alpha=0.5)\n",
    "    TriggerTime = find_nearest(XX,0)\n",
    "    Trigger     = np.where(XX==TriggerTime)[0][0]+20\n",
    "    Trigger = int(Trigger)\n",
    "    xx = moving_average(XX,20)\n",
    "    yy = moving_average(YY,20)\n",
    "    #plt.plot(xx ,yy,alpha=0.5)\n",
    "    xxx = xx[Trigger:]\n",
    "    yyy = yy[Trigger:]\n",
    "    #plt.plot(xxx ,yyy,alpha=0.5)\n",
    "    miny = min(yyy)\n",
    "    hold      = find_nearest(yyy,miny)\n",
    "    MINLOC     = np.where(yyy==hold)[0][0]\n",
    "    TT = Trigger+MINLOC\n",
    "    TT = int(TT)\n",
    "    #plt.axvline(xx[TT])\n",
    "    #plt.axvline(XX[TT],color='r')\n",
    "    xxxx = xx[Trigger:TT]\n",
    "    yyyy = yy[Trigger:TT]\n",
    "    #plt.plot(xxxx ,yyyy,alpha=0.5,color='k')\n",
    "    hold      = find_nearest(yyyy,miny*0.2)\n",
    "    REDGE     = np.where(yyyy==hold)[0][0]\n",
    "    TTT = Trigger+REDGE\n",
    "    #plt.axvline(XX[TTT],color='m')\n",
    "    Arr = TTT + int((TT-TTT)/2)\n",
    "    #plt.axvline(XX[Arr],color='y')\n",
    "    fitval = [XX[Arr],8e-6, XX[TT]]\n",
    "    cut = 600\n",
    "    fitX = XX[Arr-cut:Arr+cut]\n",
    "    fitY = YY[Arr-cut:Arr+cut]\n",
    "    #plt.plot(fitX ,fitY,alpha=0.5,color='k')\n",
    "    errfunc = lambda p, x, y: (funcA(x, *p) - y)**2\n",
    "    optim = optimize.least_squares(errfunc, fitval,bounds=([0,0,0], [1,1,1]), args=(fitX,fitY)).x\n",
    "\n",
    "    #plt.plot(fitX,funcA(fitX,*optim),color='r')\n",
    "    #plt.xlim(0.0,0.000021)\n",
    "    return optim"
   ]
  },
  {
   "cell_type": "code",
   "execution_count": null,
   "metadata": {
    "collapsed": true
   },
   "outputs": [],
   "source": []
  },
  {
   "cell_type": "code",
   "execution_count": null,
   "metadata": {
    "collapsed": true
   },
   "outputs": [],
   "source": [
    "def FULL_FITTER_GOLD(X,Y):\n",
    "    XX = X\n",
    "    YY = Y\n",
    "    #plt.plot(XX ,YY,alpha=0.5)\n",
    "    TriggerTime = find_nearest(XX,0)\n",
    "    Trigger     = np.where(XX==TriggerTime)[0][0]+20\n",
    "    Trigger = int(Trigger)\n",
    "    xx = moving_average(XX,20)\n",
    "    yy = moving_average(YY,20)\n",
    "    #plt.plot(xx ,yy,alpha=0.5)\n",
    "    xxx = xx[Trigger:]\n",
    "    yyy = yy[Trigger:]\n",
    "    #plt.plot(xxx ,yyy,alpha=0.5)\n",
    "    miny = max(yyy)\n",
    "    hold      = find_nearest(yyy,miny)\n",
    "    MINLOC     = np.where(yyy==hold)[0][0]\n",
    "    TT = Trigger+MINLOC\n",
    "    TT = int(TT)\n",
    "    #plt.axvline(xx[TT])\n",
    "    #plt.axvline(XX[TT],color='r')\n",
    "    xxxx = xx[Trigger:TT]\n",
    "    yyyy = yy[Trigger:TT]\n",
    "    #plt.plot(xxxx ,yyyy,alpha=0.5,color='k')\n",
    "    hold      = find_nearest(yyyy,miny*0.2)\n",
    "    REDGE     = np.where(yyyy==hold)[0][0]\n",
    "    TTT = Trigger+REDGE\n",
    "    #plt.axvline(XX[TTT],color='m')\n",
    "    Arr = TTT + int((TT-TTT)/2)\n",
    "    #plt.axvline(XX[Arr],color='y')\n",
    "    fitval = [XX[Arr],8e-6, XX[TT]]\n",
    "    cut = 600\n",
    "    #fitX = XX[Arr-cut:Arr+cut]\n",
    "    #fitY = YY[Arr-cut:Arr+cut]\n",
    "    fitX = xx[Arr-cut:Arr+cut]\n",
    "    fitY = yy[Arr-cut:Arr+cut]\n",
    "    #plt.plot(fitX ,fitY,alpha=0.5,color='k')\n",
    "    errfunc = lambda p, x, y: (funcG(x, *p) - y)**2\n",
    "    optim = optimize.least_squares(errfunc, fitval,bounds=([0,0,0], [1,1,1]), args=(fitX,fitY)).x\n",
    "\n",
    "    #plt.plot(fitX,funcA(fitX,*optim),color='r')\n",
    "    #plt.xlim(0.0,0.000021)\n",
    "    return optim"
   ]
  },
  {
   "cell_type": "code",
   "execution_count": 287,
   "metadata": {
    "collapsed": true
   },
   "outputs": [],
   "source": [
    "def FULL_FITTER_GOLD(X,Y):\n",
    "\n",
    "    XX = X\n",
    "    YY = Y\n",
    "\n",
    "    TriggerTime = find_nearest(XX,0)\n",
    "    Trigger     = np.where(XX==TriggerTime)[0][0]\n",
    "    Trigger = int(Trigger)\n",
    "    XX = XX[Trigger:]\n",
    "    YY = YY[Trigger:]\n",
    "\n",
    "    xx = moving_average(XX,20)\n",
    "    yy = moving_average(YY,20)\n",
    "    xxx = xx[Trigger:]\n",
    "    yyy = yy[Trigger:]\n",
    "\n",
    "    miny = max(yy)\n",
    "\n",
    "    hold      = find_nearest(yy,miny)\n",
    "    MINLOC     = np.where(yy==hold)[0][0]\n",
    "\n",
    "    TT = MINLOC\n",
    "    TT = int(TT)\n",
    "    xxxx = xx[:TT]\n",
    "    yyyy = yy[:TT]\n",
    "\n",
    "\n",
    "    hold      = find_nearest(yyyy,miny*0.2)\n",
    "    REDGE     = np.where(yyyy==hold)[0][0]\n",
    "    TTT = REDGE\n",
    "    plt.axvline(XX[TTT],color='m')\n",
    "    Arr = TTT + int((TT-TTT)/2)\n",
    "    BF = (XX[TT]-XX[TTT])/2\n",
    "    fitval = [XX[Arr],BF, miny]\n",
    "    cut = 1000\n",
    "    fitX = XX[0:Arr+cut]\n",
    "    fitY = YY[0:Arr+cut]\n",
    "\n",
    "    errfunc = lambda p, x, y: (funcG(x, *p) - y)**2\n",
    "    #optim, success = optimize.least_squares(errfunc, fitval,bounds=([0,0,0], [0.1,1e-4,1e-3]), args=(fitX,fitY))\n",
    "    optim = optimize.least_squares(errfunc, fitval,bounds=([0,1e-8,0], [0.5e-3,1e-5,10e-3]), args=(fitX,fitY)).x\n",
    "    return optim\n",
    "\n",
    "\n",
    "def FULL_FITTER_ANODE(X,Y):\n",
    "    XX = X\n",
    "    YY = Y\n",
    "    TriggerTime = find_nearest(XX,0)\n",
    "    Trigger     = np.where(XX==TriggerTime)[0][0]\n",
    "    Trigger = int(Trigger)\n",
    "    XX = XX[Trigger:]\n",
    "    YY = YY[Trigger:]\n",
    "\n",
    "    xx = moving_average(XX,20)\n",
    "    yy = moving_average(YY,20)\n",
    "    xxx = xx[Trigger:]\n",
    "    yyy = yy[Trigger:]\n",
    "    miny = min(yy)\n",
    "    hold      = find_nearest(yy,miny)\n",
    "    MINLOC     = np.where(yy==hold)[0][0]\n",
    "    TT = MINLOC\n",
    "    TT = int(TT)\n",
    "    xxxx = xx[:TT]\n",
    "    yyyy = yy[:TT]\n",
    "    hold      = find_nearest(yyyy,miny*0.2)\n",
    "    REDGE     = np.where(yyyy==hold)[0][0]\n",
    "    TTT = REDGE\n",
    "    Arr = TTT + int((TT-TTT)/2)\n",
    "    #print((XX[TT]-XX[TTT])/2)\n",
    "\n",
    "\n",
    "    BF = (XX[TT]-XX[TTT])/2\n",
    "    fitval = [XX[Arr],BF, miny]\n",
    "    cut = 600\n",
    "    #fitX = XX[Arr-cut:Arr+cut]\n",
    "    #fitY = YY[Arr-cut:Arr+cut]\n",
    "    fitX = XX\n",
    "    fitY = YY\n",
    "\n",
    "    #### adding bounds for the fit to top it being bad\n",
    "\n",
    "\n",
    "    errfunc = lambda p, x, y: (funcA(x, *p) - y)**2\n",
    "    #optim, success = optimize.least_squares(errfunc, fitval,bounds=([0,0,0], [0.1,1e-4,1e-3]), args=(fitX,fitY))\n",
    "    optim = optimize.least_squares(errfunc, fitval,bounds=([0,0,-1], [1,1,0]), args=(fitX,fitY)).x\n",
    "\n",
    "    return optim"
   ]
  },
  {
   "cell_type": "code",
   "execution_count": null,
   "metadata": {
    "collapsed": true
   },
   "outputs": [],
   "source": []
  },
  {
   "cell_type": "code",
   "execution_count": null,
   "metadata": {
    "collapsed": true
   },
   "outputs": [],
   "source": []
  },
  {
   "cell_type": "code",
   "execution_count": 323,
   "metadata": {},
   "outputs": [
    {
     "data": {
      "text/plain": [
       "['/Users/austinmcdonald/Desktop/Xenon/Data/000/',\n",
       " '/Users/austinmcdonald/Desktop/Xenon/Data/002/',\n",
       " '/Users/austinmcdonald/Desktop/Xenon/Data/003/',\n",
       " '/Users/austinmcdonald/Desktop/Xenon/Data/008/',\n",
       " '/Users/austinmcdonald/Desktop/Xenon/Data/015/',\n",
       " '/Users/austinmcdonald/Desktop/Xenon/Data/035/',\n",
       " '/Users/austinmcdonald/Desktop/Xenon/Data/050/',\n",
       " '/Users/austinmcdonald/Desktop/Xenon/Data/065/',\n",
       " '/Users/austinmcdonald/Desktop/Xenon/Data/085/',\n",
       " '/Users/austinmcdonald/Desktop/Xenon/Data/095/',\n",
       " '/Users/austinmcdonald/Desktop/Xenon/Data/099/',\n",
       " '/Users/austinmcdonald/Desktop/Xenon/Data/100-2/',\n",
       " '/Users/austinmcdonald/Desktop/Xenon/Data/100/',\n",
       " '/Users/austinmcdonald/Desktop/Xenon/Data/35-S/']"
      ]
     },
     "execution_count": 323,
     "metadata": {},
     "output_type": "execute_result"
    }
   ],
   "source": [
    "PATH = '/Users/austinmcdonald/Desktop/Xenon/Data/'\n",
    "folders = glob.glob(PATH+\"*/\")\n",
    "folders.sort()\n",
    "folders"
   ]
  },
  {
   "cell_type": "code",
   "execution_count": 324,
   "metadata": {},
   "outputs": [
    {
     "data": {
      "text/plain": [
       "['/Users/austinmcdonald/Desktop/Xenon/Data/100-2/']"
      ]
     },
     "execution_count": 324,
     "metadata": {},
     "output_type": "execute_result"
    }
   ],
   "source": [
    "folders = [folders[-3]]\n",
    "folders"
   ]
  },
  {
   "cell_type": "code",
   "execution_count": 325,
   "metadata": {},
   "outputs": [
    {
     "data": {
      "text/plain": [
       "['Xe-100_P-03_E-080.txt',\n",
       " 'Xe-100_P-09_E-150.txt',\n",
       " 'Xe-100_P-01_E-200.txt',\n",
       " 'Xe-100_P-11_E-250.txt',\n",
       " '.DS_Store',\n",
       " 'Xe-100_P-03_E-250.txt',\n",
       " 'Xe-100_P-06_E-100.txt',\n",
       " 'Xe-100_P-09_E-250.txt',\n",
       " 'Xe-100_P-01_E-100.txt',\n",
       " 'Xe-100_P-11_E-150.txt',\n",
       " 'Xe-100_P-06_E-200.txt',\n",
       " 'Xe-100_P-03_E-150.txt',\n",
       " 'Xe-100_P-09_E-080.txt',\n",
       " 'Xe-100_P-01_E-080.txt',\n",
       " 'Xe-100_P-03_E-200.txt',\n",
       " 'Xe-100_P-06_E-150.txt',\n",
       " 'Xe-100_P-09_E-100.txt',\n",
       " 'Xe-100_P-01_E-250.txt',\n",
       " 'Xe-100_P-11_E-200.txt',\n",
       " 'Xe-100_P-06_E-250.txt',\n",
       " 'Xe-100_P-03_E-100.txt',\n",
       " 'Xe-100_P-06_E-080.txt',\n",
       " 'Xe-100_P-09_E-200.txt',\n",
       " 'Xe-100_P-01_E-150.txt',\n",
       " 'Xe-100_P-11_E-100.txt']"
      ]
     },
     "execution_count": 325,
     "metadata": {},
     "output_type": "execute_result"
    }
   ],
   "source": [
    "ff = os.listdir(folders[0])\n",
    "#ff.sort()\n",
    "ff"
   ]
  },
  {
   "cell_type": "code",
   "execution_count": null,
   "metadata": {
    "collapsed": true
   },
   "outputs": [],
   "source": []
  },
  {
   "cell_type": "code",
   "execution_count": 333,
   "metadata": {},
   "outputs": [
    {
     "name": "stdout",
     "output_type": "stream",
     "text": [
      "Xe-100_P-01_E-080.txt\n",
      "Xe-100_P-01_E-100.txt\n",
      "Xe-100_P-01_E-150.txt\n",
      "Xe-100_P-01_E-200.txt\n",
      "Xe-100_P-01_E-250.txt\n",
      "Xe-100_P-01_E-300.txt\n",
      "Xe-100_P-03_E-080.txt\n",
      "Xe-100_P-03_E-100.txt\n",
      "Xe-100_P-03_E-150.txt\n",
      "Xe-100_P-03_E-200.txt\n",
      "Xe-100_P-03_E-250.txt\n",
      "Xe-100_P-03_E-300.txt\n",
      "Xe-100_P-06_E-080.txt\n",
      "Xe-100_P-06_E-100.txt\n",
      "Xe-100_P-06_E-150.txt\n",
      "Xe-100_P-06_E-200.txt\n",
      "Xe-100_P-06_E-250.txt\n",
      "Xe-100_P-06_E-300.txt\n",
      "Xe-100_P-09_E-080.txt\n",
      "Xe-100_P-09_E-100.txt\n",
      "Xe-100_P-09_E-150.txt\n",
      "Xe-100_P-09_E-200.txt\n",
      "Xe-100_P-09_E-250.txt\n",
      "Xe-100_P-09_E-300.txt\n",
      "Xe-100_P-09_E-350.txt\n",
      "Xe-100_P-11_E-100.txt\n",
      "Xe-100_P-11_E-150.txt\n",
      "Xe-100_P-11_E-200.txt\n",
      "Xe-100_P-11_E-250.txt\n",
      "Xe-100_P-11_E-300.txt\n",
      "Xe-100_P-11_E-350.txt\n"
     ]
    },
    {
     "data": {
      "image/png": "[encoded data removed]",
      "text/plain": [
       "<matplotlib.figure.Figure at 0x1291dc6d8>"
      ]
     },
     "metadata": {},
     "output_type": "display_data"
    }
   ],
   "source": [
    "# arrival, sigma, max, RC\n",
    "GOLDD = []\n",
    "ANODE = []\n",
    "REDU  = []\n",
    "PRE = []\n",
    "EFID = []\n",
    "for F in range(0,len(folders)):\n",
    "    files = os.listdir(folders[F])\n",
    "    if '.DS_Store' in files: files.remove('.DS_Store')\n",
    "    files.sort()\n",
    "    for fi in files:\n",
    "        print(fi)\n",
    "        Data = np.loadtxt(folders[F]+fi)\n",
    "        #plt.plot(Data[0],Data[1],color='b')\n",
    "        #plt.plot(Data[0],Data[2],color='g')\n",
    "        \n",
    "        OG = FULL_FITTER_GOLD(Data[0],Data[1])\n",
    "        OA = FULL_FITTER_ANODE(Data[0],Data[2])\n",
    "        EE =int(fi.split('.')[0].split('-')[-1])\n",
    "        PP = int(fi.split('.')[0].split('-')[2].split('_')[0])\n",
    "        #chi = sum((funcA(Data[0],*optim)- Data[1])**2)\n",
    "        #print(chi)\n",
    "        #print(OG)\n",
    "       # plt.plot(Data[0],funcG(Data[0],*OG),color='r')\n",
    "        \n",
    "        #cor = max(Data[1])/max(funcG(Data[0],*OG))\n",
    "        #plt.plot(Data[0],funcG(Data[0],*OG)*cor,color='m')\n",
    "\n",
    "        #plt.xlim(0.0,0.000051)\n",
    "        #plt.xlim(0.0,0.00051)\n",
    "        #plt.show()\n",
    "        \n",
    "        \n",
    "        #OA = FULL_FITTER_ANODE(Data[0],Data[2])\n",
    "        #plt.plot(XG,YG,color='r')\n",
    "        #plt.plot(XA,YA,color='r')\n",
    "        #plt.show()\n",
    "\n",
    " \n",
    "        PRE.append(PP)\n",
    "        REDU.append(EE/PP)\n",
    "        ANODE.append(OA)\n",
    "        GOLDD.append(OG)\n",
    "        EFID.append(EE)\n",
    "        #if PP == 6:\n",
    "        #    ANODE.append(OA)\n",
    "        #    GOLDD.append(OG)\n",
    "GOLDD = np.array(GOLDD)\n",
    "ANODE = np.array(ANODE)\n",
    "REDU  = np.array(REDU)\n",
    "PRE   = np.array(PRE)\n",
    "EFID   = np.array(EFID)"
   ]
  },
  {
   "cell_type": "code",
   "execution_count": 327,
   "metadata": {},
   "outputs": [
    {
     "data": {
      "text/plain": [
       "array([  4.67036750e-06,  -1.83431957e-05,  -1.95544359e-05, ...,\n",
       "         3.45912733e-06,   9.51532818e-06,   1.19378085e-05])"
      ]
     },
     "execution_count": 327,
     "metadata": {},
     "output_type": "execute_result"
    }
   ],
   "source": [
    "Data[2]"
   ]
  },
  {
   "cell_type": "code",
   "execution_count": null,
   "metadata": {
    "collapsed": true
   },
   "outputs": [],
   "source": []
  },
  {
   "cell_type": "code",
   "execution_count": 296,
   "metadata": {},
   "outputs": [
    {
     "data": {
      "text/plain": [
       "array([  2.96504041e-06,   2.90375525e-06,   2.95244692e-06,\n",
       "         3.02912464e-06,   2.99955034e-06,   2.96192280e-06,\n",
       "         3.62223522e-06,   3.60083664e-06,   3.61199896e-06,\n",
       "         3.62841417e-06,   3.70698292e-06,   3.70998381e-06,\n",
       "         3.70000004e-06,   3.70000004e-06,   3.70000004e-06,\n",
       "         3.50000004e-06,   3.80000004e-06,   3.60000004e-06,\n",
       "         4.70000005e-06,   4.40000005e-06,   3.90000005e-06,\n",
       "         3.80000004e-06,   4.00000005e-06,   3.90000005e-06,\n",
       "         4.00000005e-06,   4.20000005e-06,   4.00000005e-06,\n",
       "         4.10000005e-06,   4.20000005e-06,   4.80000006e-06,\n",
       "         3.70000004e-06])"
      ]
     },
     "execution_count": 296,
     "metadata": {},
     "output_type": "execute_result"
    }
   ],
   "source": [
    "GOLDD[:,1]"
   ]
  },
  {
   "cell_type": "code",
   "execution_count": 297,
   "metadata": {},
   "outputs": [
    {
     "data": {
      "text/plain": [
       "array([  7.93349605e-05,   5.89624485e-06,   6.61278501e-06,\n",
       "         4.18073117e-06,   4.07428356e-06,   2.26982660e-06,\n",
       "         7.77570646e-06,   6.95159330e-06,   5.49181297e-06,\n",
       "         4.61169580e-06,   4.62398937e-06,   4.02804022e-06,\n",
       "         1.32461173e-05,   9.36806563e-06,   7.69938118e-06,\n",
       "         6.70481415e-06,   5.40935924e-06,   4.02529414e-06,\n",
       "         2.55000003e-05,   1.49000002e-05,   8.83137152e-06,\n",
       "         5.81717191e-06,   5.99698378e-06,   4.75025625e-06,\n",
       "         3.53404505e-06,   2.50000003e-05,   1.31892118e-05,\n",
       "         6.88927771e-06,   5.73665342e-06,   3.13770430e-06,\n",
       "         5.06521225e-06])"
      ]
     },
     "execution_count": 297,
     "metadata": {},
     "output_type": "execute_result"
    }
   ],
   "source": [
    "ANODE[:,1] - GOLDD[:,1]"
   ]
  },
  {
   "cell_type": "code",
   "execution_count": null,
   "metadata": {
    "collapsed": true
   },
   "outputs": [],
   "source": []
  },
  {
   "cell_type": "code",
   "execution_count": null,
   "metadata": {
    "collapsed": true
   },
   "outputs": [],
   "source": []
  },
  {
   "cell_type": "code",
   "execution_count": null,
   "metadata": {
    "collapsed": true
   },
   "outputs": [],
   "source": []
  },
  {
   "cell_type": "code",
   "execution_count": 94,
   "metadata": {},
   "outputs": [
    {
     "name": "stderr",
     "output_type": "stream",
     "text": [
      "//anaconda/envs/py35/lib/python3.5/site-packages/scipy/optimize/minpack.py:427: RuntimeWarning: Number of calls to function has reached maxfev = 800.\n",
      "  warnings.warn(errors[info][0], RuntimeWarning)\n"
     ]
    }
   ],
   "source": [
    "# arrival, sigma, max, RC\n",
    "GOLDD = []\n",
    "ANODE = []\n",
    "REDU  = []\n",
    "PRE = []\n",
    "EFID = []\n",
    "for F in range(0,len(folders)):\n",
    "    files = os.listdir(folders[F])\n",
    "    if '.DS_Store' in files: files.remove('.DS_Store')\n",
    "    files.sort()\n",
    "    for fi in files:\n",
    "        Data = np.loadtxt(folders[F]+fi)\n",
    "        #plt.plot(Data[0],Data[1],color='b')\n",
    "        #plt.plot(Data[0],Data[2],color='g')\n",
    "        \n",
    "        OG = FULL_FITTER_GOLD(Data[0],Data[1])\n",
    "        OA = FULL_FITTER_ANODE(Data[0],Data[2])\n",
    "        #plt.plot(XG,YG,color='r')\n",
    "        #plt.plot(XA,YA,color='r')\n",
    "        #plt.show()\n",
    "\n",
    "        EE =int(fi.split('.')[0].split('-')[-1])\n",
    "        PP = int(fi.split('.')[0].split('-')[2].split('_')[0])\n",
    "        #if EE ==350 or EE ==300 or EE ==250 or EE ==200 or EE ==150:\n",
    "        #    PRE.append(PP)\n",
    "        #    REDU.append(EE/PP)\n",
    "        #    ANODE.append(OA)\n",
    "        #    GOLDD.append(OG)\n",
    "        #    EFID.append(EE)\n",
    " \n",
    "        PRE.append(PP)\n",
    "        REDU.append(EE/PP)\n",
    "        ANODE.append(OA)\n",
    "        GOLDD.append(OG)\n",
    "        EFID.append(EE)\n",
    "        #if PP == 6:\n",
    "        #    ANODE.append(OA)\n",
    "        #    GOLDD.append(OG)\n",
    "GOLDD = np.array(GOLDD)\n",
    "ANODE = np.array(ANODE)\n",
    "REDU  = np.array(REDU)\n",
    "PRE   = np.array(PRE)\n",
    "EFID   = np.array(EFID)"
   ]
  },
  {
   "cell_type": "code",
   "execution_count": 96,
   "metadata": {},
   "outputs": [
    {
     "data": {
      "text/plain": [
       "array([[  1.55061029e-04,   5.13182026e-06,  -1.09102035e-04],\n",
       "       [  1.49223848e-04,   6.38027538e-06,  -1.55566018e-04],\n",
       "       [  1.40174041e-04,   4.40566831e-06,  -2.57764352e-04],\n",
       "       [  1.33427412e-04,   4.36066218e-06,  -4.09507858e-04],\n",
       "       [  1.27410998e-04,   4.32414863e-06,  -5.42626927e-04],\n",
       "       [  1.23464979e-04,   3.74128368e-06,  -6.68779733e-04],\n",
       "       [  1.84225739e-04,   7.22612832e-06,  -1.79201695e-04],\n",
       "       [  1.76904293e-04,   6.58843056e-06,  -2.07377757e-04],\n",
       "       [  1.66118144e-04,   5.73331986e-06,  -3.19894577e-04],\n",
       "       [  1.59162357e-04,   5.36093111e-06,  -4.44985997e-04],\n",
       "       [  1.53946460e-04,   5.18805746e-06,  -5.39826928e-04],\n",
       "       [  1.49395170e-04,   4.59540542e-06,  -6.22942503e-04],\n",
       "       [  2.84989894e-04,   1.20136321e-05,  -2.48594225e-04],\n",
       "       [  2.22360936e-04,   8.35600348e-06,  -2.69146204e-04],\n",
       "       [  1.86371768e-04,   6.92610157e-06,  -3.73389597e-04],\n",
       "       [  1.76008410e-04,   6.10852032e-06,  -4.66454656e-04],\n",
       "       [  1.70014893e-04,   5.82898025e-06,  -5.19550583e-04],\n",
       "       [  1.65602820e-04,   5.51438306e-06,  -6.22024089e-04],\n",
       "       [  6.42064142e-04,   1.95721070e-05,  -9.92689449e-05],\n",
       "       [  3.94689943e-04,   1.43286756e-05,  -2.09785465e-04],\n",
       "       [  2.25440851e-04,   7.80932536e-06,  -3.71557562e-04],\n",
       "       [  1.94301266e-04,   6.65104684e-06,  -4.35320406e-04],\n",
       "       [  1.83500993e-04,   6.21669845e-06,  -5.14785750e-04],\n",
       "       [  1.77334468e-04,   6.35426987e-06,  -5.96930525e-04],\n",
       "       [  1.73296832e-04,   5.57005386e-06,  -6.27369314e-04],\n",
       "       [  6.25227488e-04,   1.98394597e-05,  -9.43982212e-05],\n",
       "       [  2.82889001e-04,   9.16519331e-06,  -2.91884447e-04],\n",
       "       [  2.14511768e-04,   6.88234295e-06,  -3.95849711e-04],\n",
       "       [  1.94719484e-04,   6.42737368e-06,  -4.82460852e-04],\n",
       "       [  1.86178841e-04,   5.94145217e-06,  -5.42298144e-04],\n",
       "       [  1.80725697e-04,   5.84452427e-06,  -5.78567354e-04]])"
      ]
     },
     "execution_count": 96,
     "metadata": {},
     "output_type": "execute_result"
    }
   ],
   "source": [
    "ANODE"
   ]
  },
  {
   "cell_type": "code",
   "execution_count": null,
   "metadata": {
    "collapsed": true
   },
   "outputs": [],
   "source": []
  },
  {
   "cell_type": "code",
   "execution_count": null,
   "metadata": {
    "collapsed": true
   },
   "outputs": [],
   "source": []
  },
  {
   "cell_type": "code",
   "execution_count": null,
   "metadata": {
    "collapsed": true
   },
   "outputs": [],
   "source": []
  },
  {
   "cell_type": "code",
   "execution_count": null,
   "metadata": {
    "collapsed": true
   },
   "outputs": [],
   "source": []
  },
  {
   "cell_type": "code",
   "execution_count": null,
   "metadata": {
    "collapsed": true
   },
   "outputs": [],
   "source": []
  },
  {
   "cell_type": "code",
   "execution_count": null,
   "metadata": {
    "collapsed": true
   },
   "outputs": [],
   "source": []
  },
  {
   "cell_type": "code",
   "execution_count": null,
   "metadata": {
    "collapsed": true
   },
   "outputs": [],
   "source": []
  },
  {
   "cell_type": "code",
   "execution_count": 368,
   "metadata": {},
   "outputs": [
    {
     "data": {
      "text/plain": [
       "['/Users/austinmcdonald/Desktop/Xenon/Data/000/',\n",
       " '/Users/austinmcdonald/Desktop/Xenon/Data/002/',\n",
       " '/Users/austinmcdonald/Desktop/Xenon/Data/003/',\n",
       " '/Users/austinmcdonald/Desktop/Xenon/Data/008/',\n",
       " '/Users/austinmcdonald/Desktop/Xenon/Data/015/',\n",
       " '/Users/austinmcdonald/Desktop/Xenon/Data/035/',\n",
       " '/Users/austinmcdonald/Desktop/Xenon/Data/050/',\n",
       " '/Users/austinmcdonald/Desktop/Xenon/Data/065/',\n",
       " '/Users/austinmcdonald/Desktop/Xenon/Data/085/',\n",
       " '/Users/austinmcdonald/Desktop/Xenon/Data/095/',\n",
       " '/Users/austinmcdonald/Desktop/Xenon/Data/099/',\n",
       " '/Users/austinmcdonald/Desktop/Xenon/Data/100-2/',\n",
       " '/Users/austinmcdonald/Desktop/Xenon/Data/100/',\n",
       " '/Users/austinmcdonald/Desktop/Xenon/Data/35-S/']"
      ]
     },
     "execution_count": 368,
     "metadata": {},
     "output_type": "execute_result"
    }
   ],
   "source": [
    "PATH = '/Users/austinmcdonald/Desktop/Xenon/Data/'\n",
    "folders = glob.glob(PATH+\"*/\")\n",
    "folders.sort()\n",
    "folders"
   ]
  },
  {
   "cell_type": "code",
   "execution_count": 369,
   "metadata": {},
   "outputs": [
    {
     "data": {
      "text/plain": [
       "['/Users/austinmcdonald/Desktop/Xenon/Data/100-2/']"
      ]
     },
     "execution_count": 369,
     "metadata": {},
     "output_type": "execute_result"
    }
   ],
   "source": [
    "folders = [folders[-3]]\n",
    "folders"
   ]
  },
  {
   "cell_type": "code",
   "execution_count": 370,
   "metadata": {},
   "outputs": [
    {
     "data": {
      "text/plain": [
       "['.DS_Store',\n",
       " 'Xe-100_P-01_E-080.txt',\n",
       " 'Xe-100_P-01_E-100.txt',\n",
       " 'Xe-100_P-01_E-150.txt',\n",
       " 'Xe-100_P-01_E-200.txt',\n",
       " 'Xe-100_P-01_E-250.txt',\n",
       " 'Xe-100_P-01_E-300.txt',\n",
       " 'Xe-100_P-03_E-080.txt',\n",
       " 'Xe-100_P-03_E-100.txt',\n",
       " 'Xe-100_P-03_E-150.txt',\n",
       " 'Xe-100_P-03_E-200.txt',\n",
       " 'Xe-100_P-03_E-250.txt',\n",
       " 'Xe-100_P-03_E-300.txt',\n",
       " 'Xe-100_P-06_E-080.txt',\n",
       " 'Xe-100_P-06_E-100.txt',\n",
       " 'Xe-100_P-06_E-150.txt',\n",
       " 'Xe-100_P-06_E-200.txt',\n",
       " 'Xe-100_P-06_E-250.txt',\n",
       " 'Xe-100_P-06_E-300.txt',\n",
       " 'Xe-100_P-09_E-080.txt',\n",
       " 'Xe-100_P-09_E-100.txt',\n",
       " 'Xe-100_P-09_E-150.txt',\n",
       " 'Xe-100_P-09_E-200.txt',\n",
       " 'Xe-100_P-09_E-250.txt',\n",
       " 'Xe-100_P-09_E-300.txt',\n",
       " 'Xe-100_P-09_E-350.txt',\n",
       " 'Xe-100_P-11_E-100.txt',\n",
       " 'Xe-100_P-11_E-150.txt',\n",
       " 'Xe-100_P-11_E-200.txt',\n",
       " 'Xe-100_P-11_E-250.txt',\n",
       " 'Xe-100_P-11_E-300.txt',\n",
       " 'Xe-100_P-11_E-350.txt']"
      ]
     },
     "execution_count": 370,
     "metadata": {},
     "output_type": "execute_result"
    }
   ],
   "source": [
    "ff = os.listdir(folders[0])\n",
    "ff.sort()\n",
    "ff"
   ]
  },
  {
   "cell_type": "code",
   "execution_count": 371,
   "metadata": {},
   "outputs": [
    {
     "data": {
      "text/plain": [
       "3"
      ]
     },
     "execution_count": 371,
     "metadata": {},
     "output_type": "execute_result"
    }
   ],
   "source": [
    "int(ff[10].split('.')[0].split('-')[2].split('_')[0])"
   ]
  },
  {
   "cell_type": "code",
   "execution_count": 379,
   "metadata": {
    "scrolled": false
   },
   "outputs": [
    {
     "name": "stderr",
     "output_type": "stream",
     "text": [
      "//anaconda/envs/py35/lib/python3.5/site-packages/ipykernel/__main__.py:8: DeprecationWarning: using a non-integer number instead of an integer will result in an error in the future\n"
     ]
    }
   ],
   "source": [
    "# arrival, sigma, max, RC\n",
    "GOLDD = []\n",
    "ANODE = []\n",
    "REDU  = []\n",
    "PRE = []\n",
    "EFID = []\n",
    "for F in range(0,len(folders)):\n",
    "    files = os.listdir(folders[F])\n",
    "    if '.DS_Store' in files: files.remove('.DS_Store')\n",
    "    files.sort()\n",
    "    for fi in files:\n",
    "        Data = np.loadtxt(folders[F]+fi)\n",
    "        #plt.plot(Data[0],Data[1],color='b')\n",
    "        #plt.plot(Data[0],Data[2],color='g')\n",
    "        \n",
    "        XG,YG,OG = FITTER_GOLD(Data[0],Data[1])\n",
    "        XA,YA,OA = FITTER_ANOD(Data[0],Data[2])\n",
    "        #plt.plot(XG,YG,color='r')\n",
    "        #plt.plot(XA,YA,color='r')\n",
    "        #plt.show()\n",
    "\n",
    "        EE =int(fi.split('.')[0].split('-')[-1])\n",
    "        PP = int(fi.split('.')[0].split('-')[2].split('_')[0])\n",
    "        #if EE ==350 or EE ==300 or EE ==250 or EE ==200 or EE ==150:\n",
    "        #    PRE.append(PP)\n",
    "        #    REDU.append(EE/PP)\n",
    "        #    ANODE.append(OA)\n",
    "        #    GOLDD.append(OG)\n",
    "        #    EFID.append(EE)\n",
    " \n",
    "        PRE.append(PP)\n",
    "        REDU.append(EE/PP)\n",
    "        ANODE.append(OA)\n",
    "        GOLDD.append(OG)\n",
    "        EFID.append(EE)\n",
    "        #if PP == 6:\n",
    "        #    ANODE.append(OA)\n",
    "        #    GOLDD.append(OG)\n"
   ]
  },
  {
   "cell_type": "code",
   "execution_count": 380,
   "metadata": {
    "collapsed": true
   },
   "outputs": [],
   "source": [
    "GOLDD = np.array(GOLDD)\n",
    "ANODE = np.array(ANODE)\n",
    "REDU  = np.array(REDU)\n",
    "PRE   = np.array(PRE)\n",
    "EFID   = np.array(EFID)"
   ]
  },
  {
   "cell_type": "code",
   "execution_count": null,
   "metadata": {
    "collapsed": true
   },
   "outputs": [],
   "source": []
  },
  {
   "cell_type": "code",
   "execution_count": 334,
   "metadata": {
    "collapsed": true
   },
   "outputs": [],
   "source": [
    "Dt = (ANODE[:,0] - GOLDD[:,0])*1e6\n",
    "\n",
    "d = 13.8\n",
    "Vd = d/Dt\n",
    "x = 2*Dt/Vd**2\n",
    "y = (ANODE[:,1]*1e6)**2-(GOLDD[:,1]*1e6)**2\n",
    "#y = ((ANODE[:,1]*1e6)-(GOLDD[:,1]*1e6))**2\n",
    "\n",
    "Dl = y/x\n",
    "Mu = Vd/EFID\n",
    "ddd = d**2*y/(2*Dt**3)\n",
    "dddd = np.sqrt((273/296*2*PP)*ddd*1e8/Vd)"
   ]
  },
  {
   "cell_type": "code",
   "execution_count": 335,
   "metadata": {},
   "outputs": [
    {
     "data": {
      "text/plain": [
       "array([ 5859.1812881 ,  6607.70784405,  6071.67447692,  6727.65135827,\n",
       "        6594.92280153,  4628.54848418,  5746.46076076,  7110.1208406 ,\n",
       "        6712.07503552,  6564.46705705,  6229.55264868,  5025.18203253,\n",
       "        7476.78346103,  8946.25070281,  6208.5602445 ,  6295.44543733,\n",
       "        6118.22819892,  6041.03334962,  5814.2811909 ,  5505.54380846,\n",
       "        6732.76841924,  6270.12509612,  5850.15266883,  6077.05349412,\n",
       "        5399.33882241,  6284.10014482,  6817.37758802,  6034.62603083,\n",
       "        5805.34172162,  5305.53490353,  5992.60832365])"
      ]
     },
     "execution_count": 335,
     "metadata": {},
     "output_type": "execute_result"
    }
   ],
   "source": [
    "#difff =np.sqrt((273/296*.95*2*PP)*Dl*1e8/Vd)\n",
    "#difff =np.sqrt(Dl*1e8/Vd)\n",
    "\n",
    "##Zp =12.123*(289.77/273.15)*(PRE/57.65) \n",
    "#Z0 = 0.22308122\n",
    "#difff =np.sqrt((Z0/Zp*2*PRE)*Dl*1e8/Vd)\n",
    "difff = np.sqrt((273/296*2*PP)*Dl*1e8/Vd)\n",
    "#difff = np.sqrt(Dl*1e8/PP)\n",
    "\n",
    "difff"
   ]
  },
  {
   "cell_type": "code",
   "execution_count": 336,
   "metadata": {},
   "outputs": [
    {
     "data": {
      "text/plain": [
       "array([ 1,  1,  1,  1,  1,  1,  3,  3,  3,  3,  3,  3,  6,  6,  6,  6,  6,\n",
       "        6,  9,  9,  9,  9,  9,  9,  9, 11, 11, 11, 11, 11, 11])"
      ]
     },
     "execution_count": 336,
     "metadata": {},
     "output_type": "execute_result"
    }
   ],
   "source": [
    "PRE"
   ]
  },
  {
   "cell_type": "code",
   "execution_count": 340,
   "metadata": {
    "collapsed": true
   },
   "outputs": [],
   "source": [
    "V = 5000 #cm**3\n",
    "K = 1.38e-23*10000 # cm**2*kg/s**2*k\n",
    "T = 273.15\n",
    "P = PRE*1000#1*1e5/10 # Pa  # kg/cm*s**2\n",
    "n = P/(K*T)\n",
    "N = n/V\n",
    "Td = 1e-17\n",
    "\n",
    "TDX = EFID/N/Td"
   ]
  },
  {
   "cell_type": "code",
   "execution_count": 343,
   "metadata": {},
   "outputs": [
    {
     "data": {
      "text/plain": [
       "array([ 1507.788     ,  1884.735     ,  2827.1025    ,  3769.47      ,\n",
       "        4711.8375    ,  5654.205     ,   502.596     ,   628.245     ,\n",
       "         942.3675    ,  1256.49      ,  1570.6125    ,  1884.735     ,\n",
       "         251.298     ,   314.1225    ,   471.18375   ,   628.245     ,\n",
       "         785.30625   ,   942.3675    ,   167.532     ,   209.415     ,\n",
       "         314.1225    ,   418.83      ,   523.5375    ,   628.245     ,\n",
       "         732.9525    ,   171.33954545,   257.00931818,   342.67909091,\n",
       "         428.34886364,   514.01863636,   599.68840909])"
      ]
     },
     "execution_count": 343,
     "metadata": {},
     "output_type": "execute_result"
    }
   ],
   "source": [
    "TDX"
   ]
  },
  {
   "cell_type": "code",
   "execution_count": 342,
   "metadata": {},
   "outputs": [
    {
     "data": {
      "text/plain": [
       "<matplotlib.text.Text at 0x1275e1898>"
      ]
     },
     "execution_count": 342,
     "metadata": {},
     "output_type": "execute_result"
    },
    {
     "data": {
      "image/png": "[encoded data removed]",
      "text/plain": [
       "<matplotlib.figure.Figure at 0x129700c88>"
      ]
     },
     "metadata": {},
     "output_type": "display_data"
    }
   ],
   "source": [
    "col=['b','g','r','k','m']\n",
    "plt.figure(figsize=(12,7))\n",
    "#plt.scatter(REDU,difff)\n",
    "plt.scatter(TDX,dddd)\n",
    "\n",
    "#plt.errorbar(REDU[x],difff[x],yerr=100,color=col[1])\n",
    "\n",
    "plt.xlabel('reduced field',fontsize=20)\n",
    "plt.ylabel('reduced diffusion',fontsize=20)\n",
    "#plt.scatter(REDU,difff)\n",
    "#plt.scatter(dd[:,0],dd[:,1],color='y')\n",
    "#plt.xlim(0,350)\n",
    "#plt.ylim(5000,10000)"
   ]
  },
  {
   "cell_type": "code",
   "execution_count": null,
   "metadata": {
    "collapsed": true
   },
   "outputs": [],
   "source": []
  },
  {
   "cell_type": "code",
   "execution_count": 411,
   "metadata": {},
   "outputs": [
    {
     "data": {
      "text/plain": [
       "(0, 350)"
      ]
     },
     "execution_count": 411,
     "metadata": {},
     "output_type": "execute_result"
    },
    {
     "data": {
      "image/png": "[encoded data removed]",
      "text/plain": [
       "<matplotlib.figure.Figure at 0x1276fabe0>"
      ]
     },
     "metadata": {},
     "output_type": "display_data"
    }
   ],
   "source": [
    "col=['b','g','r','k','m']\n",
    "plt.figure(figsize=(12,7))\n",
    "for x in range(0,len(PRE)):\n",
    "    if PRE[x]==1:\n",
    "        plt.scatter(REDU[x],difff[x],color=col[1])\n",
    "        plt.errorbar(REDU[x],difff[x],yerr=100,color=col[1])\n",
    "    if PRE[x]==3:\n",
    "        plt.scatter(REDU[x],difff[x],color=col[2])\n",
    "        plt.errorbar(REDU[x],difff[x],yerr=100,color=col[2])\n",
    "    if PRE[x]==6:\n",
    "        plt.scatter(REDU[x],difff[x],color=col[3])\n",
    "        plt.errorbar(REDU[x],difff[x],yerr=100,color=col[3])\n",
    "    if PRE[x]==9:\n",
    "        plt.scatter(REDU[x],difff[x],color=col[4])\n",
    "        plt.errorbar(REDU[x],difff[x],yerr=100,color=col[4])\n",
    "    if PRE[x]==11:\n",
    "        plt.scatter(REDU[x],difff[x],color=col[0])\n",
    "        plt.errorbar(REDU[x],difff[x],yerr=100,color=col[0])\n",
    "plt.xlabel('reduced field',fontsize=20)\n",
    "plt.ylabel('reduced diffusion',fontsize=20)\n",
    "#plt.scatter(REDU,difff)\n",
    "#plt.scatter(dd[:,0],dd[:,1],color='y')\n",
    "plt.xlim(0,350)"
   ]
  },
  {
   "cell_type": "code",
   "execution_count": null,
   "metadata": {
    "collapsed": true
   },
   "outputs": [],
   "source": []
  },
  {
   "cell_type": "code",
   "execution_count": null,
   "metadata": {
    "collapsed": true
   },
   "outputs": [],
   "source": []
  },
  {
   "cell_type": "code",
   "execution_count": null,
   "metadata": {
    "collapsed": true
   },
   "outputs": [],
   "source": []
  },
  {
   "cell_type": "code",
   "execution_count": null,
   "metadata": {
    "collapsed": true
   },
   "outputs": [],
   "source": []
  },
  {
   "cell_type": "code",
   "execution_count": null,
   "metadata": {
    "collapsed": true
   },
   "outputs": [],
   "source": []
  },
  {
   "cell_type": "code",
   "execution_count": null,
   "metadata": {
    "collapsed": true
   },
   "outputs": [],
   "source": []
  },
  {
   "cell_type": "code",
   "execution_count": null,
   "metadata": {
    "collapsed": true
   },
   "outputs": [],
   "source": []
  },
  {
   "cell_type": "code",
   "execution_count": null,
   "metadata": {
    "collapsed": true
   },
   "outputs": [],
   "source": []
  },
  {
   "cell_type": "code",
   "execution_count": null,
   "metadata": {
    "collapsed": true
   },
   "outputs": [],
   "source": []
  },
  {
   "cell_type": "code",
   "execution_count": null,
   "metadata": {
    "collapsed": true
   },
   "outputs": [],
   "source": []
  },
  {
   "cell_type": "code",
   "execution_count": 242,
   "metadata": {},
   "outputs": [
    {
     "data": {
      "text/plain": [
       "(0, 350)"
      ]
     },
     "execution_count": 242,
     "metadata": {},
     "output_type": "execute_result"
    },
    {
     "data": {
      "image/png": "[encoded data removed]",
      "text/plain": [
       "<matplotlib.figure.Figure at 0x1231b39b0>"
      ]
     },
     "metadata": {},
     "output_type": "display_data"
    }
   ],
   "source": [
    "col=['b','g','r','k','m']\n",
    "plt.figure(figsize=(12,7))\n",
    "for x in range(0,len(PRE)):\n",
    "    if PRE[x]==1:\n",
    "        plt.scatter(REDU[x],difff[x],color=col[1])\n",
    "        plt.errorbar(REDU[x],difff[x],yerr=100,color=col[1])\n",
    "    if PRE[x]==3:\n",
    "        plt.scatter(REDU[x],difff[x],color=col[2])\n",
    "        plt.errorbar(REDU[x],difff[x],yerr=100,color=col[2])\n",
    "    if PRE[x]==6:\n",
    "        plt.scatter(REDU[x],difff[x],color=col[3])\n",
    "        plt.errorbar(REDU[x],difff[x],yerr=100,color=col[3])\n",
    "    if PRE[x]==9:\n",
    "        plt.scatter(REDU[x],difff[x],color=col[4])\n",
    "        plt.errorbar(REDU[x],difff[x],yerr=100,color=col[4])\n",
    "    if PRE[x]==11:\n",
    "        plt.scatter(REDU[x],difff[x],color=col[0])\n",
    "        plt.errorbar(REDU[x],difff[x],yerr=100,color=col[0])\n",
    "plt.xlabel('reduced field',fontsize=20)\n",
    "plt.ylabel('reduced diffusion',fontsize=20)\n",
    "#plt.scatter(REDU,difff)\n",
    "plt.scatter(dd[:,0],dd[:,1],color='y')\n",
    "plt.xlim(0,350)"
   ]
  },
  {
   "cell_type": "code",
   "execution_count": 261,
   "metadata": {},
   "outputs": [
    {
     "data": {
      "text/plain": [
       "(50, 370)"
      ]
     },
     "execution_count": 261,
     "metadata": {},
     "output_type": "execute_result"
    },
    {
     "data": {
      "image/png": "[encoded data removed]",
      "text/plain": [
       "<matplotlib.figure.Figure at 0x123827470>"
      ]
     },
     "metadata": {},
     "output_type": "display_data"
    }
   ],
   "source": [
    "col=['b','g','r','k','m']\n",
    "plt.figure(figsize=(9,9))\n",
    "for x in range(0,len(PRE)):\n",
    "    if PRE[x]==1:\n",
    "        plt.scatter(EFID[x],Dl[x]*1e8,color=col[1])\n",
    "        plt.errorbar(EFID[x],Dl[x]*1e8,yerr=100,color=col[1])\n",
    "    if PRE[x]==3:\n",
    "        plt.scatter(EFID[x],Dl[x]*1e8,color=col[2])\n",
    "        plt.errorbar(EFID[x],Dl[x]*1e8,yerr=100,color=col[2])\n",
    "    if PRE[x]==6:\n",
    "        plt.scatter(EFID[x],Dl[x]*1e8,color=col[3])\n",
    "        plt.errorbar(EFID[x],Dl[x]*1e8,yerr=100,color=col[3])\n",
    "    if PRE[x]==9:\n",
    "        plt.scatter(EFID[x],Dl[x]*1e8,color=col[4])\n",
    "        plt.errorbar(EFID[x],Dl[x]*1e8,yerr=100,color=col[4])\n",
    "    if PRE[x]==11:\n",
    "        plt.scatter(EFID[x],Dl[x]*1e8,color=col[0])\n",
    "        plt.errorbar(EFID[x],Dl[x]*1e8,yerr=100,color=col[0])\n",
    "        \n",
    "#plt.scatter(REDU,difff)\n",
    "plt.xlabel('E field',fontsize=20)\n",
    "plt.ylabel(' diffusion',fontsize=20)\n",
    "#plt.scatter(dd[:,0],dd[:,1],color='y')\n",
    "plt.xlim(50,370)"
   ]
  },
  {
   "cell_type": "code",
   "execution_count": null,
   "metadata": {
    "collapsed": true
   },
   "outputs": [],
   "source": []
  },
  {
   "cell_type": "code",
   "execution_count": 262,
   "metadata": {},
   "outputs": [
    {
     "data": {
      "text/plain": [
       "<matplotlib.text.Text at 0x123f513c8>"
      ]
     },
     "execution_count": 262,
     "metadata": {},
     "output_type": "execute_result"
    },
    {
     "data": {
      "image/png": "[encoded data removed]",
      "text/plain": [
       "<matplotlib.figure.Figure at 0x123bd82e8>"
      ]
     },
     "metadata": {},
     "output_type": "display_data"
    }
   ],
   "source": [
    "col=['b','g','r','k','m']\n",
    "plt.figure(figsize=(9,9))\n",
    "for x in range(0,len(PRE)):\n",
    "    if PRE[x]==1:\n",
    "        plt.scatter(REDU[x],Dl[x]/Mu[x]*1e8,color=col[1])\n",
    "        #plt.errorbar(EFID[x],Dl[x]*1e8,yerr=100,color=col[1])\n",
    "    if PRE[x]==3:\n",
    "        plt.scatter(REDU[x],Dl[x]/Mu[x]*1e8,color=col[2])\n",
    "        #plt.errorbar(EFID[x],Dl[x]*1e8,yerr=100,color=col[2])\n",
    "    if PRE[x]==6:\n",
    "        plt.scatter(REDU[x],Dl[x]/Mu[x]*1e8,color=col[3])\n",
    "        #plt.errorbar(EFID[x],Dl[x]*1e8,yerr=100,color=col[3])\n",
    "    if PRE[x]==9:\n",
    "        plt.scatter(REDU[x],Dl[x]/Mu[x]*1e8,color=col[4])\n",
    "        #plt.errorbar(EFID[x],Dl[x]*1e8,yerr=100,color=col[4])\n",
    "    if PRE[x]==11:\n",
    "        plt.scatter(REDU[x],Dl[x]/Mu[x]*1e8,color=col[0])\n",
    "        #plt.errorbar(EFID[x],Dl[x]*1e8,yerr=100,color=col[0])\n",
    "        \n",
    "#plt.scatter(REDU,difff)\n",
    "plt.xlabel('E field',fontsize=20)\n",
    "plt.ylabel(' diffusion',fontsize=20)\n",
    "#plt.scatter(dd[:,0],dd[:,1],color='y')\n",
    "#plt.xlim(50,370)"
   ]
  },
  {
   "cell_type": "code",
   "execution_count": null,
   "metadata": {
    "collapsed": true
   },
   "outputs": [],
   "source": []
  },
  {
   "cell_type": "code",
   "execution_count": 24,
   "metadata": {
    "collapsed": true
   },
   "outputs": [],
   "source": [
    "dd = np.genfromtxt('/Users/austinmcdonald/Desktop/set.csv',delimiter=',')"
   ]
  },
  {
   "cell_type": "code",
   "execution_count": 25,
   "metadata": {},
   "outputs": [
    {
     "data": {
      "text/plain": [
       "array([ 22.90880631,  28.49373882,  25.98076923,  26.41413238,\n",
       "        28.55826151,  28.07867133,  29.96202635,  33.18657505,\n",
       "        34.04756871,  38.06334363,  38.02333713,  38.29094162,\n",
       "        42.05216295,  43.44738982,  44.35826964,  47.57196292,\n",
       "        48.54907302,  53.65051228,  57.1358351 ])"
      ]
     },
     "execution_count": 25,
     "metadata": {},
     "output_type": "execute_result"
    }
   ],
   "source": [
    "dd[:,0]"
   ]
  },
  {
   "cell_type": "code",
   "execution_count": null,
   "metadata": {
    "collapsed": true
   },
   "outputs": [],
   "source": []
  },
  {
   "cell_type": "code",
   "execution_count": null,
   "metadata": {
    "collapsed": true
   },
   "outputs": [],
   "source": []
  },
  {
   "cell_type": "code",
   "execution_count": null,
   "metadata": {
    "collapsed": true
   },
   "outputs": [],
   "source": []
  },
  {
   "cell_type": "code",
   "execution_count": 266,
   "metadata": {},
   "outputs": [
    {
     "data": {
      "image/png": "[encoded data removed]",
      "text/plain": [
       "<matplotlib.figure.Figure at 0x11deb9ac8>"
      ]
     },
     "metadata": {},
     "output_type": "display_data"
    }
   ],
   "source": [
    "col=['b','g','r','k','m']\n",
    "plt.figure(figsize=(9,9))\n",
    "for x in range(0,len(PRE)):\n",
    "    if PRE[x]==1:\n",
    "        plt.scatter(REDU[x],Dl[x]*1e8,color=col[1])\n",
    "    if PRE[x]==3:\n",
    "        plt.scatter(REDU[x],Dl[x]*1e8,color=col[2])\n",
    "    if PRE[x]==6:\n",
    "        plt.scatter(REDU[x],Dl[x]*1e8,color=col[3])\n",
    "    if PRE[x]==9:\n",
    "        plt.scatter(REDU[x],Dl[x]*1e8,color=col[4])\n",
    "    if PRE[x]==11:\n",
    "        plt.scatter(REDU[x],Dl[x]*1e8,color=col[0])\n",
    "        \n",
    "#plt.scatter(REDU,difff)\n",
    "#plt.scatter(dd[:,0],dd[:,1],color='y')\n",
    "#plt.xlim(0,75)"
   ]
  },
  {
   "cell_type": "code",
   "execution_count": null,
   "metadata": {
    "collapsed": true
   },
   "outputs": [],
   "source": []
  },
  {
   "cell_type": "code",
   "execution_count": null,
   "metadata": {
    "collapsed": true
   },
   "outputs": [],
   "source": []
  },
  {
   "cell_type": "code",
   "execution_count": 251,
   "metadata": {},
   "outputs": [
    {
     "name": "stderr",
     "output_type": "stream",
     "text": [
      "//anaconda/envs/py35/lib/python3.5/site-packages/ipykernel/__main__.py:4: RuntimeWarning: divide by zero encountered in true_divide\n"
     ]
    },
    {
     "data": {
      "text/plain": [
       "(0, 0.15)"
      ]
     },
     "execution_count": 251,
     "metadata": {},
     "output_type": "execute_result"
    },
    {
     "data": {
      "image/png": "[encoded data removed]",
      "text/plain": [
       "<matplotlib.figure.Figure at 0x123d91048>"
      ]
     },
     "metadata": {},
     "output_type": "display_data"
    }
   ],
   "source": [
    "xnew = np.linspace(0,300,100)\n",
    "def polyy(x,a,b,c):\n",
    "    #return a*np.sqrt(x)+b+c*x+d\n",
    "    return -a/x+b +c*x\n",
    "popt,pcov = optimize.curve_fit(polyy,REDU,Vd)\n",
    "plt.figure(figsize=(6,6))\n",
    "plt.plot(xnew,polyy(xnew,*popt))\n",
    "plt.scatter(REDU,Vd)\n",
    "plt.ylim(0,0.15)"
   ]
  },
  {
   "cell_type": "code",
   "execution_count": 84,
   "metadata": {},
   "outputs": [
    {
     "data": {
      "text/plain": [
       "[<matplotlib.lines.Line2D at 0x121d67080>]"
      ]
     },
     "execution_count": 84,
     "metadata": {},
     "output_type": "execute_result"
    },
    {
     "data": {
      "image/png": "[encoded data removed]",
      "text/plain": [
       "<matplotlib.figure.Figure at 0x121d792b0>"
      ]
     },
     "metadata": {},
     "output_type": "display_data"
    }
   ],
   "source": [
    "coefs = poly.polyfit(REDU, Vd*100, 5)\n",
    "xnew = np.linspace(0,300,100)\n",
    "ffit = poly.polyval(xnew, coefs)\n",
    "\n",
    "plt.scatter(REDU,Vd*100)\n",
    "plt.plot(xnew,ffit)"
   ]
  },
  {
   "cell_type": "code",
   "execution_count": null,
   "metadata": {
    "collapsed": true
   },
   "outputs": [],
   "source": []
  },
  {
   "cell_type": "code",
   "execution_count": null,
   "metadata": {
    "collapsed": true
   },
   "outputs": [],
   "source": []
  },
  {
   "cell_type": "code",
   "execution_count": null,
   "metadata": {
    "collapsed": true
   },
   "outputs": [],
   "source": [
    "np.sqrt(273/296*12)*np.sqrt(Dl/Vd)"
   ]
  },
  {
   "cell_type": "code",
   "execution_count": null,
   "metadata": {
    "collapsed": true
   },
   "outputs": [],
   "source": [
    "np.sqrt(273/296*12)"
   ]
  },
  {
   "cell_type": "code",
   "execution_count": null,
   "metadata": {
    "collapsed": true
   },
   "outputs": [],
   "source": [
    "####Xe-008_P-01_E-100.txt\n",
    "#Xe-099_P-0302_E-250.txt\n",
    "#Xe-099_P-0302_E-040.txt\n",
    "#Xe-099_P-0901_E-080.txt\n",
    "#Xe-099_P-0995_E-250.txt\n",
    "#Xe-099_P-0601_E-250.txt\n",
    "#Xe-100_P-1080_E-080.txt\n",
    "#Xe-100_P-0302_E-100.txt\n",
    "#Xe-100_P-0101_E-100.txt\n",
    "#Xe-100_P-1080_E-250.txt\n",
    "#Xe-100_P-0101_E-250.txt\n",
    "##Xe-100_P-1080_E-300.txt\n",
    "#Xe-100_P-1080_E-100.txt\n",
    "#Xe-100_P-0302_E-040.txt\n",
    "#Xe-100_P-0607_E-300.txt\n",
    "#Xe-035_P-01_E-080.txt\n",
    "#Xe-035_P-06_E-200.txt"
   ]
  },
  {
   "cell_type": "code",
   "execution_count": null,
   "metadata": {
    "collapsed": true
   },
   "outputs": [],
   "source": [
    "Xe-035_P-01_E-080.txt\n",
    "Xe-035_P-11_E-080.txt\n",
    "Xe-035_P-06_E-200.txt"
   ]
  },
  {
   "cell_type": "code",
   "execution_count": null,
   "metadata": {
    "collapsed": true
   },
   "outputs": [],
   "source": [
    "PATH = '/Users/austinmcdonald/Desktop/Xenon/Data/100/'\n",
    "PP = \"Xe-100_P-0909_E-200.txt\"\n",
    "Data = np.loadtxt(PATH+PP)"
   ]
  },
  {
   "cell_type": "code",
   "execution_count": null,
   "metadata": {
    "collapsed": true
   },
   "outputs": [],
   "source": [
    "plt.figure(figsize=(9,9))\n",
    "plt.plot(Data[0],Data[1])\n",
    "X,Y,O = FITTER_GOLD(Data[0],Data[1])\n",
    "print(O)\n",
    "plt.plot(X,func(X,*O),color='r')\n",
    "plt.plot(Data[0],Data[2])\n",
    "X,Y,O = FITTER_ANOD(Data[0],Data[2])\n",
    "print(O)\n",
    "plt.plot(X,func(X,*O),color='r')\n",
    "#plt.xlim(0,0.001)"
   ]
  },
  {
   "cell_type": "code",
   "execution_count": null,
   "metadata": {
    "collapsed": true
   },
   "outputs": [],
   "source": [
    "def gaus(x,a,x0,sigma):\n",
    "    return a*np.exp(-(x-x0)**2/(2*sigma**2))"
   ]
  },
  {
   "cell_type": "code",
   "execution_count": null,
   "metadata": {
    "collapsed": true
   },
   "outputs": [],
   "source": [
    "#plt.plot(Data[0],Data[1])\n",
    "X,Y,O = FITTER_GOLD(Data[0],Data[1])\n",
    "O"
   ]
  },
  {
   "cell_type": "code",
   "execution_count": null,
   "metadata": {
    "collapsed": true
   },
   "outputs": [],
   "source": [
    "# arrival, sigma, max, RC\n",
    "xval = np.linspace(-.0001,0.002,10000)\n",
    "\n",
    "X,Y,O = FITTER_GOLD(Data[0],Data[1])\n",
    "plt.plot(xval,gaus(xval,O[2],O[0],O[1]),color='r')\n",
    "X,Y,O = FITTER_ANOD(Data[0],Data[2])\n",
    "plt.plot(xval,gaus(xval,O[2],O[0],O[1]),color='g')\n",
    "plt.xlim(-1e-5,3e-4)"
   ]
  },
  {
   "cell_type": "code",
   "execution_count": null,
   "metadata": {
    "collapsed": true
   },
   "outputs": [],
   "source": [
    "X,Y,O = FITTER_GOLD(Data[0],Data[1])\n",
    "plt.plot(xval,gaus(xval,1,0,O[1]),color='r')\n",
    "print(O[1])\n",
    "X,Y,O = FITTER_ANOD(Data[0],Data[2])\n",
    "plt.plot(xval,abs(gaus(xval,1,0,O[1])),color='g')\n",
    "print(O[1])\n",
    "plt.xlim(-1e-5,1e-5)"
   ]
  },
  {
   "cell_type": "code",
   "execution_count": null,
   "metadata": {
    "collapsed": true
   },
   "outputs": [],
   "source": []
  },
  {
   "cell_type": "code",
   "execution_count": null,
   "metadata": {
    "collapsed": true
   },
   "outputs": [],
   "source": [
    "(7.0303106598e-06-4.75471431319e-06)*1e6\n"
   ]
  },
  {
   "cell_type": "code",
   "execution_count": null,
   "metadata": {
    "collapsed": true
   },
   "outputs": [],
   "source": [
    "(6.13364779471e-06)*1e6*13.8"
   ]
  },
  {
   "cell_type": "code",
   "execution_count": null,
   "metadata": {
    "collapsed": true
   },
   "outputs": [],
   "source": []
  },
  {
   "cell_type": "code",
   "execution_count": null,
   "metadata": {
    "collapsed": true
   },
   "outputs": [],
   "source": []
  },
  {
   "cell_type": "code",
   "execution_count": null,
   "metadata": {
    "collapsed": true
   },
   "outputs": [],
   "source": []
  },
  {
   "cell_type": "code",
   "execution_count": null,
   "metadata": {
    "collapsed": true
   },
   "outputs": [],
   "source": []
  },
  {
   "cell_type": "code",
   "execution_count": null,
   "metadata": {
    "collapsed": true
   },
   "outputs": [],
   "source": []
  },
  {
   "cell_type": "code",
   "execution_count": null,
   "metadata": {
    "collapsed": true
   },
   "outputs": [],
   "source": []
  },
  {
   "cell_type": "code",
   "execution_count": null,
   "metadata": {
    "collapsed": true
   },
   "outputs": [],
   "source": []
  },
  {
   "cell_type": "code",
   "execution_count": null,
   "metadata": {
    "collapsed": true
   },
   "outputs": [],
   "source": []
  },
  {
   "cell_type": "code",
   "execution_count": null,
   "metadata": {
    "collapsed": true
   },
   "outputs": [],
   "source": []
  },
  {
   "cell_type": "code",
   "execution_count": null,
   "metadata": {
    "collapsed": true
   },
   "outputs": [],
   "source": []
  },
  {
   "cell_type": "code",
   "execution_count": null,
   "metadata": {
    "collapsed": true
   },
   "outputs": [],
   "source": []
  },
  {
   "cell_type": "code",
   "execution_count": null,
   "metadata": {
    "collapsed": true
   },
   "outputs": [],
   "source": []
  },
  {
   "cell_type": "code",
   "execution_count": null,
   "metadata": {
    "collapsed": true
   },
   "outputs": [],
   "source": []
  },
  {
   "cell_type": "code",
   "execution_count": null,
   "metadata": {
    "collapsed": true
   },
   "outputs": [],
   "source": []
  }
 ],
 "metadata": {
  "kernelspec": {
   "display_name": "Python 3",
   "language": "python",
   "name": "python3"
  },
  "language_info": {
   "codemirror_mode": {
    "name": "ipython",
    "version": 3
   },
   "file_extension": ".py",
   "mimetype": "text/x-python",
   "name": "python",
   "nbconvert_exporter": "python",
   "pygments_lexer": "ipython3",
   "version": "3.5.2"
  }
 },
 "nbformat": 4,
 "nbformat_minor": 1
}
