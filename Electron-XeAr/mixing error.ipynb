{
 "cells": [
  {
   "cell_type": "code",
   "execution_count": 7,
   "metadata": {
    "collapsed": true
   },
   "outputs": [],
   "source": [
    "import numpy as np\n",
    "%matplotlib inline\n",
    "import matplotlib.pyplot as plt\n"
   ]
  },
  {
   "cell_type": "code",
   "execution_count": null,
   "metadata": {
    "collapsed": true
   },
   "outputs": [],
   "source": [
    "11.43\n",
    "11.54"
   ]
  },
  {
   "cell_type": "code",
   "execution_count": 6,
   "metadata": {},
   "outputs": [
    {
     "data": {
      "text/plain": [
       "0.9532062391680967"
      ]
     },
     "execution_count": 6,
     "metadata": {},
     "output_type": "execute_result"
    }
   ],
   "source": [
    "100-(11.43/11.54*100)"
   ]
  },
  {
   "cell_type": "code",
   "execution_count": 15,
   "metadata": {
    "collapsed": true
   },
   "outputs": [],
   "source": [
    "P1 = [11.43, 9.94,10.08, 9.2,  9.52, 9.1, 4.82, 5.66,2.76]\n",
    "P2 = [11.54,10.36,11.26,12.04,12.37,12.8,11.24,10.61,11.2]\n",
    "\n",
    "DeltaP = 0.01"
   ]
  },
  {
   "cell_type": "code",
   "execution_count": 34,
   "metadata": {},
   "outputs": [
    {
     "name": "stdout",
     "output_type": "stream",
     "text": [
      "Percent Xe  99.0467937608319\n",
      "Error  0.121966162497\n",
      "Percent Ar  0.953206239168106\n",
      "Error  0.00143528151962\n",
      "\n",
      "\n",
      "Percent Xe  95.03138320296034\n",
      "Error  0.176772749015\n",
      "Percent Ar  4.968616797039659\n",
      "Error  0.0104126279383\n",
      "\n",
      "\n",
      "Percent Xe  85.07249935042987\n",
      "Error  0.19461109936\n",
      "Percent Ar  14.927500649570138\n",
      "Error  0.0366311074741\n",
      "\n",
      "\n",
      "Percent Xe  65.00556428770388\n",
      "Error  0.173266179779\n",
      "Percent Ar  34.99443571229612\n",
      "Error  0.0976979443085\n",
      "\n",
      "\n",
      "Percent Xe  50.028534520528765\n",
      "Error  0.148924543521\n",
      "Percent Ar  49.97146547947123\n",
      "Error  0.154142438427\n",
      "\n",
      "\n",
      "Percent Xe  35.567161260688415\n",
      "Error  0.116230229121\n",
      "Percent Ar  64.43283873931158\n",
      "Error  0.216494123597\n",
      "\n",
      "\n",
      "Percent Xe  15.252110077982046\n",
      "Error  0.0605781280851\n",
      "Percent Ar  84.74788992201795\n",
      "Error  0.344941815333\n",
      "\n",
      "\n",
      "Percent Xe  8.136375404465445\n",
      "Error  0.0361908104763\n",
      "Percent Ar  91.86362459553456\n",
      "Error  0.417684173312\n",
      "\n",
      "\n",
      "Percent Xe  2.005035367528985\n",
      "Error  0.0116412333815\n",
      "Percent Ar  97.99496463247101\n",
      "Error  0.575646966454\n",
      "\n",
      "\n"
     ]
    }
   ],
   "source": [
    "Frac_xe = 1\n",
    "Frac_xeErr = 0\n",
    "for x in range(0,len(P1)):\n",
    "#for x in [0]:\n",
    "    P1Xe    = P1[x]*Frac_xe\n",
    "    P1XeErr = P1Xe*np.sqrt((DeltaP/P1[x])**2+(Frac_xeErr/Frac_xe)**2)\n",
    "    P2Ar    = P2[x]-P1Xe\n",
    "    P2ArErr = P2Ar*np.sqrt((DeltaP/P2[x])**2+(P1XeErr/P1Xe)**2)\n",
    "    Ptot    = P2[x]\n",
    "    PtotErr = Ptot*np.sqrt((DeltaP/P2[x])**2)\n",
    "    \n",
    "    PerXe   = P1Xe/Ptot\n",
    "    PerXeErr= PerXe*np.sqrt((P1XeErr/P1Xe)**2+(PtotErr/Ptot)**2)\n",
    "    \n",
    "    PerAr   = P2Ar/Ptot\n",
    "    PerArErr= PerAr*np.sqrt((P2ArErr/P2Ar)**2+(PtotErr/Ptot)**2)\n",
    "    print(\"Percent Xe \",PerXe*100)\n",
    "    print(\"Error \",PerXeErr*100)\n",
    "    print(\"Percent Ar \",PerAr*100)\n",
    "    print(\"Error \",PerArErr*100)\n",
    "    print(\"\\n\")\n",
    "\n",
    "    Frac_xe = PerXe\n",
    "    Frac_xeErr = PerXeErr"
   ]
  },
  {
   "cell_type": "code",
   "execution_count": 26,
   "metadata": {},
   "outputs": [
    {
     "data": {
      "text/plain": [
       "0.990467937608319"
      ]
     },
     "execution_count": 26,
     "metadata": {},
     "output_type": "execute_result"
    }
   ],
   "source": [
    "PerXe"
   ]
  },
  {
   "cell_type": "code",
   "execution_count": 27,
   "metadata": {},
   "outputs": [
    {
     "data": {
      "text/plain": [
       "1143.0000000003288"
      ]
     },
     "execution_count": 27,
     "metadata": {},
     "output_type": "execute_result"
    }
   ],
   "source": [
    "PerXeErr"
   ]
  },
  {
   "cell_type": "code",
   "execution_count": 29,
   "metadata": {},
   "outputs": [
    {
     "data": {
      "text/plain": [
       "0.0012313994008848815"
      ]
     },
     "execution_count": 29,
     "metadata": {},
     "output_type": "execute_result"
    }
   ],
   "source": [
    "np.sqrt((P1XeErr/P1Xe)**2+(PtotErr/Ptot)**2)"
   ]
  },
  {
   "cell_type": "code",
   "execution_count": 20,
   "metadata": {},
   "outputs": [
    {
     "data": {
      "text/plain": [
       "0.01"
      ]
     },
     "execution_count": 20,
     "metadata": {},
     "output_type": "execute_result"
    }
   ],
   "source": [
    "P1XeErr"
   ]
  },
  {
   "cell_type": "code",
   "execution_count": 23,
   "metadata": {},
   "outputs": [
    {
     "data": {
      "text/plain": [
       "0.00013545393409733627"
      ]
     },
     "execution_count": 23,
     "metadata": {},
     "output_type": "execute_result"
    }
   ],
   "source": [
    "P2ArErr"
   ]
  },
  {
   "cell_type": "code",
   "execution_count": 24,
   "metadata": {},
   "outputs": [
    {
     "data": {
      "text/plain": [
       "11.54"
      ]
     },
     "execution_count": 24,
     "metadata": {},
     "output_type": "execute_result"
    }
   ],
   "source": [
    "Ptot"
   ]
  },
  {
   "cell_type": "code",
   "execution_count": 25,
   "metadata": {},
   "outputs": [
    {
     "data": {
      "text/plain": [
       "0.00013545393409733627"
      ]
     },
     "execution_count": 25,
     "metadata": {},
     "output_type": "execute_result"
    }
   ],
   "source": [
    "P2ArErr"
   ]
  },
  {
   "cell_type": "code",
   "execution_count": null,
   "metadata": {
    "collapsed": true
   },
   "outputs": [],
   "source": []
  },
  {
   "cell_type": "code",
   "execution_count": null,
   "metadata": {
    "collapsed": true
   },
   "outputs": [],
   "source": []
  }
 ],
 "metadata": {
  "kernelspec": {
   "display_name": "Python 3",
   "language": "python",
   "name": "python3"
  },
  "language_info": {
   "codemirror_mode": {
    "name": "ipython",
    "version": 3
   },
   "file_extension": ".py",
   "mimetype": "text/x-python",
   "name": "python",
   "nbconvert_exporter": "python",
   "pygments_lexer": "ipython3",
   "version": "3.5.2"
  }
 },
 "nbformat": 4,
 "nbformat_minor": 1
}
