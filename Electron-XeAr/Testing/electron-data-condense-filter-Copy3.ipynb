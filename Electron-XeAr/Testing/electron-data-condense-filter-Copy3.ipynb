{
 "cells": [
  {
   "cell_type": "code",
   "execution_count": 1,
   "metadata": {
    "collapsed": true
   },
   "outputs": [],
   "source": [
    "import numpy as np\n",
    "import glob\n",
    "import os\n",
    "%matplotlib inline\n",
    "from readTRC import readTrc\n",
    "import matplotlib.pyplot as plt\n",
    "from scipy import stats\n",
    "from scipy.stats import chisquare\n",
    "import numpy.polynomial.polynomial as poly\n",
    "\n",
    "\n",
    "import matplotlib.mlab as mlab\n",
    "from scipy import optimize\n",
    "from scipy.special import erf\n",
    "import os\n",
    "import numpy.polynomial.polynomial as poly\n",
    "from collections import OrderedDict"
   ]
  },
  {
   "cell_type": "code",
   "execution_count": 2,
   "metadata": {
    "collapsed": true
   },
   "outputs": [],
   "source": [
    "def find_nearest(array,value):\n",
    "    idx = (np.abs(array-value)).argmin()\n",
    "    return array[idx]\n",
    "\n",
    "def moving_average(a, n=3) :\n",
    "    ret = np.cumsum(a, dtype=float)\n",
    "    ret[n:] = ret[n:] - ret[:-n]\n",
    "    return ret[n - 1:] / n"
   ]
  },
  {
   "cell_type": "code",
   "execution_count": 3,
   "metadata": {
    "collapsed": true
   },
   "outputs": [],
   "source": [
    "def FILE_SORTER(files):\n",
    "    FilesGold   = []\n",
    "    FilesSignal = []\n",
    "    for x in range(0,len(files)):\n",
    "        if int(files[x][1]) ==4 or int(files[x][1]) ==2:\n",
    "            FilesGold.append(files[x])\n",
    "        if int(files[x][1]) ==3 or int(files[x][1]) ==1:\n",
    "            FilesSignal.append(files[x])\n",
    "            \n",
    "    FilesGold.sort(); FilesSignal.sort()\n",
    "    return FilesGold, FilesSignal\n",
    "\n",
    "def MEAN_WAVEFORM(PATH,files):\n",
    "    #folders[F]+FilesSignal[0]\n",
    "    #X, Y, info = readTrc(PATH+files[10])\n",
    "    #Yvals = np.zeros(X.shape[0])\n",
    "    #Xvals = np.zeros(Y.shape[0])\n",
    "    Yvals = np.zeros(10002)\n",
    "    Xvals = np.zeros(10002)\n",
    "    avg = 0\n",
    "    for w in range(0,len(files)):\n",
    "\n",
    "        X, Y, info = readTrc(PATH+files[w])\n",
    "        if Y.shape[0]==Yvals.shape[0] and X.shape[0]==Xvals.shape[0]:\n",
    "            Yvals += Y\n",
    "            Xvals += X\n",
    "            avg   += 1\n",
    "    MSigY = Yvals/avg\n",
    "    MSigX = Xvals/avg\n",
    "    return MSigX,MSigY\n",
    "\n",
    "def WAVEFORM_QUALITY(PATH,files,MEAN,CHI):\n",
    "    \n",
    "    #X, Y, info = readTrc(PATH+files[10])\n",
    "    #Yvals = np.zeros(X.shape[0])\n",
    "    #Xvals = np.zeros(Y.shape[0])\n",
    "    Yvals = np.zeros(10002)\n",
    "    Xvals = np.zeros(10002)\n",
    "    avg = 0\n",
    "    #for w in range(0,1100):\n",
    "    CHII = []\n",
    "    for w in range(0,len(files)):\n",
    "\n",
    "        X, Y, info = readTrc(PATH+files[w])\n",
    "        if Y.shape[0]==Yvals.shape[0] and X.shape[0]==Xvals.shape[0]:\n",
    "            A = moving_average(MEAN,10)\n",
    "            B = moving_average(Y   ,10)\n",
    "            D = moving_average(X   ,10)\n",
    "            TriggerTime = find_nearest(D,0)\n",
    "            Trigger     = np.where(D==TriggerTime)[0][0]\n",
    "            As    = np.mean(A[:Trigger])\n",
    "            Bs    = np.mean(B[:Trigger])\n",
    "            \n",
    "            holder = ((A-As)-(B-Bs))**2\n",
    "            chi = np.sum(holder)*1e4\n",
    "            if chi <CHI:\n",
    "                Yvals += Y\n",
    "                Xvals += X\n",
    "                avg   += 1\n",
    "                CHII.append(chi)\n",
    "        if avg != 0:\n",
    "            SigY = Yvals/avg\n",
    "            SigX = Xvals/avg\n",
    "        else:\n",
    "            SigY = Yvals\n",
    "            SigX = Xvals \n",
    "        \n",
    "    #CHI=np.array(CHI)\n",
    "    return SigX,SigY,CHII"
   ]
  },
  {
   "cell_type": "code",
   "execution_count": null,
   "metadata": {
    "collapsed": true
   },
   "outputs": [],
   "source": []
  },
  {
   "cell_type": "code",
   "execution_count": 4,
   "metadata": {
    "collapsed": true
   },
   "outputs": [],
   "source": [
    "def find_nearest(array,value):\n",
    "    idx = (np.abs(array-value)).argmin()\n",
    "    return array[idx]\n",
    "\n",
    "def moving_average(a, n=3) :\n",
    "    ret = np.cumsum(a, dtype=float)\n",
    "    ret[n:] = ret[n:] - ret[:-n]\n",
    "    return ret[n - 1:] / n\n",
    "\n",
    "def FIND_MAX(X,Y):\n",
    "    TriggerTime = find_nearest(X,0)\n",
    "    Trigger     = np.where(X==TriggerTime)[0][0]+5\n",
    "    xx = moving_average(X,20)\n",
    "    yy = moving_average(Y,20)\n",
    "    \n",
    "    xxx = xx[Trigger:]\n",
    "    yyy = yy[Trigger:]\n",
    "    \n",
    "    maxy = max(yyy)\n",
    "    \n",
    "    hold      = find_nearest(yyy,maxy)\n",
    "    peak     = np.where(yyy==hold)[0][0]\n",
    "\n",
    "    xxx = xx[Trigger:Trigger+peak]\n",
    "    yyy = yy[Trigger:Trigger+peak]\n",
    "    \n",
    "    hold      = find_nearest(yyy,maxy*0.1)\n",
    "    edge     = np.where(yyy==hold)[0][0]\n",
    "    return Trigger+peak, Trigger+edge\n",
    "\n",
    "def FIND_MIN(X,Y):\n",
    "    TriggerTime = find_nearest(X,0)\n",
    "    Trigger     = np.where(X==TriggerTime)[0][0]+20\n",
    "    xx = moving_average(X,20)\n",
    "    yy = moving_average(Y,20)\n",
    "    \n",
    "    xxx = xx[Trigger:]\n",
    "    yyy = yy[Trigger:]\n",
    "    \n",
    "    miny = min(yyy)\n",
    "    \n",
    "    hold      = find_nearest(yyy,miny)\n",
    "    MINLOC     = np.where(yyy==hold)[0][0]\n",
    "    \n",
    "    TT = Trigger+MINLOC\n",
    "    xxxx = xx[Trigger:TT]\n",
    "    yyyy = yy[Trigger:TT]\n",
    "    \n",
    "    hold      = find_nearest(yyyy,miny*0.1)\n",
    "    REDGE     = np.where(yyyy==hold)[0][0]\n",
    "    return MINLOC+Trigger,miny,REDGE+Trigger\n",
    "\n",
    "def funcG(t,t0,sig,a,c):\n",
    "    tau = 121e-6\n",
    "    A = (sig**2-2*(t-t0)*tau)/(2*tau**2)\n",
    "    B = (-sig**2 +(t-t0)*tau)/(np.sqrt(2)*tau*sig)\n",
    "    C = np.exp(A)\n",
    "    D = (1 + erf(B))\n",
    "    E = a*C*D+c\n",
    "    return E\n",
    "\n",
    "def funcA(t,t0,sig,a,c):\n",
    "    tau = 123e-6\n",
    "    A = (sig**2-2*(t-t0)*tau)/(2*tau**2)\n",
    "    B = (-sig**2 +(t-t0)*tau)/(np.sqrt(2)*tau*sig)\n",
    "    C = np.exp(A)\n",
    "    D = (1 + erf(B))\n",
    "    E = a*C*D+c\n",
    "    return E\n",
    "def func(t,t0,sig,a,c,tau):\n",
    "    #tau = 123e-6\n",
    "    A = (sig**2-2*(t-t0)*tau)/(2*tau**2)\n",
    "    B = (-sig**2 +(t-t0)*tau)/(np.sqrt(2)*tau*sig)\n",
    "    C = np.exp(A)\n",
    "    D = (1 + erf(B))\n",
    "    E = a*C*D+c\n",
    "    return E\n",
    "\n",
    "def FITTER_GOLD(x,y):\n",
    "    XX = x\n",
    "    YY = y\n",
    "\n",
    "    TriggerTime = find_nearest(XX,0)\n",
    "    Trigger     = np.where(XX==TriggerTime)[0][0]\n",
    "    Trigger = int(Trigger)\n",
    "\n",
    "    xx = moving_average(XX,20)\n",
    "    yy = moving_average(YY,20)\n",
    "\n",
    "    xxx = xx[Trigger:]\n",
    "    yyy = yy[Trigger:]\n",
    "\n",
    "    miny = max(yyy)\n",
    "\n",
    "    hold      = find_nearest(yyy,miny)\n",
    "    MINLOC     = np.where(yyy==hold)[0][0]\n",
    "\n",
    "    TT = Trigger+MINLOC\n",
    "    TT = int(TT)\n",
    "\n",
    "    xxxx = xx[Trigger:TT]\n",
    "    yyyy = yy[Trigger:TT]\n",
    "\n",
    "    hold      = find_nearest(yyyy,miny*0.2)\n",
    "    REDGE     = np.where(yyyy==hold)[0][0]\n",
    "    TTT = Trigger+REDGE\n",
    "    Arr = TTT + int((TT-TTT)/2)\n",
    "\n",
    "    BF = (XX[TT]-XX[TTT])/2\n",
    "    Off = np.mean(YY[Trigger:])\n",
    "    fitval = [XX[Arr],BF, miny,Off]\n",
    "    cut = 400\n",
    "    cut2=cut-100\n",
    "    fitX = XX[Arr-cut2:Arr+cut]\n",
    "    fitY = YY[Arr-cut2:Arr+cut]\n",
    "\n",
    "    optim,eh = optimize.curve_fit(funcA,fitX,fitY,p0=fitval)\n",
    "\n",
    "    chi = sum((funcG(fitX,*optim)- fitY)**2)\n",
    "    return XX,YY,optim,chi\n",
    "\n",
    "def FITTER_ANOD(x,y):\n",
    "    XX = x\n",
    "    YY = y\n",
    "\n",
    "    TriggerTime = find_nearest(XX,0)\n",
    "    Trigger     = np.where(XX==TriggerTime)[0][0]\n",
    "    Trigger = int(Trigger)\n",
    "    XX = XX[Trigger:]\n",
    "    YY = YY[Trigger:]\n",
    "\n",
    "    xx = moving_average(XX,20)\n",
    "    yy = moving_average(YY,20)\n",
    "\n",
    "    xxx = xx[Trigger:]\n",
    "    yyy = yy[Trigger:]\n",
    "\n",
    "    miny = min(yy)\n",
    "\n",
    "    hold      = find_nearest(yy,miny)\n",
    "    MINLOC     = np.where(yy==hold)[0][0]\n",
    "\n",
    "    TT = MINLOC\n",
    "    TT = int(TT)\n",
    "\n",
    "    xxxx = xx[:TT]\n",
    "    yyyy = yy[:TT]\n",
    "\n",
    "    hold      = find_nearest(yyyy,miny*0.2)\n",
    "    REDGE     = np.where(yyyy==hold)[0][0]\n",
    "    TTT = REDGE\n",
    "    Arr = TTT + int((TT-TTT)/2)\n",
    "\n",
    "    BF = (XX[TT]-XX[TTT])/2\n",
    "    Off = np.mean(YY[Trigger:])\n",
    "    fitval = [XX[Arr],BF, miny,Off]\n",
    "    cut = 400\n",
    "    cut2=cut-100\n",
    "    if XX[Arr-cut2:Arr+cut].shape[0]!=0:\n",
    "        fitX = XX[Arr-cut2:Arr+cut]\n",
    "        fitY = YY[Arr-cut2:Arr+cut]\n",
    "    else:\n",
    "        fitX = XX[0:Arr+cut]\n",
    "        fitY = YY[0:Arr+cut]\n",
    "\n",
    "\n",
    "    optim,eh = optimize.curve_fit(funcA,fitX,fitY,p0=fitval)\n",
    "\n",
    "    chi = sum((funcA(fitX,*optim)- fitY)**2)\n",
    "    return XX,YY,optim,chi"
   ]
  },
  {
   "cell_type": "code",
   "execution_count": null,
   "metadata": {
    "collapsed": true
   },
   "outputs": [],
   "source": []
  },
  {
   "cell_type": "code",
   "execution_count": 5,
   "metadata": {
    "collapsed": true
   },
   "outputs": [],
   "source": [
    "FOLD = ['100/','035/','015/','008/','002/','000/']\n",
    "SPATH = '/Users/austinmcdonald/Desktop/XeAr/Data/'+FOLD[0]\n",
    "PATH = '/Users/austinmcdonald/Desktop/XeAr/'+FOLD[0]\n",
    "folders = glob.glob(PATH+\"*/\")\n",
    "folders.sort()\n",
    "#folders"
   ]
  },
  {
   "cell_type": "code",
   "execution_count": null,
   "metadata": {
    "collapsed": true
   },
   "outputs": [],
   "source": []
  },
  {
   "cell_type": "code",
   "execution_count": null,
   "metadata": {
    "collapsed": true
   },
   "outputs": [],
   "source": []
  },
  {
   "cell_type": "code",
   "execution_count": null,
   "metadata": {
    "collapsed": true
   },
   "outputs": [],
   "source": []
  },
  {
   "cell_type": "code",
   "execution_count": null,
   "metadata": {
    "collapsed": true
   },
   "outputs": [],
   "source": []
  },
  {
   "cell_type": "code",
   "execution_count": 6,
   "metadata": {},
   "outputs": [
    {
     "ename": "NameError",
     "evalue": "name 'NAME' is not defined",
     "output_type": "error",
     "traceback": [
      "\u001b[0;31m---------------------------------------------------------------------------\u001b[0m",
      "\u001b[0;31mNameError\u001b[0m                                 Traceback (most recent call last)",
      "\u001b[0;32m<ipython-input-6-bdee1e0161a4>\u001b[0m in \u001b[0;36m<module>\u001b[0;34m\u001b[0m\n\u001b[0;32m----> 1\u001b[0;31m \u001b[0mNAME\u001b[0m\u001b[0;34m\u001b[0m\u001b[0;34m\u001b[0m\u001b[0m\n\u001b[0m",
      "\u001b[0;31mNameError\u001b[0m: name 'NAME' is not defined"
     ]
    }
   ],
   "source": [
    "NAME"
   ]
  },
  {
   "cell_type": "code",
   "execution_count": 7,
   "metadata": {},
   "outputs": [
    {
     "ename": "NameError",
     "evalue": "name 'NAME' is not defined",
     "output_type": "error",
     "traceback": [
      "\u001b[0;31m---------------------------------------------------------------------------\u001b[0m",
      "\u001b[0;31mNameError\u001b[0m                                 Traceback (most recent call last)",
      "\u001b[0;32m<ipython-input-7-88422bc057cf>\u001b[0m in \u001b[0;36m<module>\u001b[0;34m\u001b[0m\n\u001b[0;32m----> 1\u001b[0;31m \u001b[0mP\u001b[0m \u001b[0;34m=\u001b[0m \u001b[0mint\u001b[0m\u001b[0;34m(\u001b[0m\u001b[0mNAME\u001b[0m\u001b[0;34m.\u001b[0m\u001b[0msplit\u001b[0m\u001b[0;34m(\u001b[0m\u001b[0;34m'_'\u001b[0m\u001b[0;34m)\u001b[0m\u001b[0;34m[\u001b[0m\u001b[0;36m1\u001b[0m\u001b[0;34m]\u001b[0m\u001b[0;34m.\u001b[0m\u001b[0msplit\u001b[0m\u001b[0;34m(\u001b[0m\u001b[0;34m'-'\u001b[0m\u001b[0;34m)\u001b[0m\u001b[0;34m[\u001b[0m\u001b[0;34m-\u001b[0m\u001b[0;36m1\u001b[0m\u001b[0;34m]\u001b[0m\u001b[0;34m)\u001b[0m\u001b[0;34m\u001b[0m\u001b[0;34m\u001b[0m\u001b[0m\n\u001b[0m\u001b[1;32m      2\u001b[0m \u001b[0mP\u001b[0m\u001b[0;34m\u001b[0m\u001b[0;34m\u001b[0m\u001b[0m\n",
      "\u001b[0;31mNameError\u001b[0m: name 'NAME' is not defined"
     ]
    }
   ],
   "source": [
    "P = int(NAME.split('_')[1].split('-')[-1])\n",
    "P"
   ]
  },
  {
   "cell_type": "code",
   "execution_count": null,
   "metadata": {
    "collapsed": true
   },
   "outputs": [],
   "source": []
  },
  {
   "cell_type": "code",
   "execution_count": 8,
   "metadata": {
    "scrolled": false
   },
   "outputs": [
    {
     "name": "stdout",
     "output_type": "stream",
     "text": [
      "Xe-100_P-01_E-080\n",
      "Xe-100_P-01_E-100\n",
      "OPT high G =  [8.76107498e-06 1.60476730e-06 2.21717390e-03 1.10604559e-04]\n",
      "OPT high S =  [ 1.50059352e-04  5.72163395e-06 -1.50362401e-04  2.01408574e-06]\n",
      "G chi =  1.2948339782179057\n",
      "A chi =  0.14513803208901077\n",
      "Xe-100_P-01_E-150\n",
      "Xe-100_P-01_E-200\n",
      "Xe-100_P-01_E-250\n",
      "Xe-100_P-01_E-300\n",
      "Xe-100_P-03_E-080\n",
      "Xe-100_P-03_E-100\n",
      "OPT high G =  [9.31278358e-06 1.93138023e-06 1.47070240e-03 2.67184995e-05]\n",
      "OPT high S =  [ 1.76650690e-04  6.64046053e-06 -2.13270618e-04  1.13287338e-05]\n",
      "G chi =  0.7851965273803937\n",
      "A chi =  0.21290332876651755\n",
      "Xe-100_P-03_E-150\n",
      "Xe-100_P-03_E-200\n",
      "Xe-100_P-03_E-250\n",
      "Xe-100_P-03_E-300\n",
      "Xe-100_P-06_E-080\n",
      "Xe-100_P-06_E-100\n",
      "OPT high G =  [ 9.70092967e-06  2.10274326e-06  1.14545578e-03 -1.72187917e-05]\n",
      "OPT high S =  [ 2.22547787e-04  8.38172046e-06 -2.70007115e-04  3.32850042e-06]\n",
      "G chi =  0.8132903279231948\n",
      "A chi =  0.15529104168132513\n",
      "Xe-100_P-06_E-150\n",
      "Xe-100_P-06_E-200\n",
      "Xe-100_P-06_E-250\n",
      "Xe-100_P-06_E-300\n",
      "Xe-100_P-09_E-080\n",
      "Xe-100_P-09_E-100\n",
      "OPT high G =  [1.01541727e-05 2.44580126e-06 9.74611062e-04 9.67540313e-05]\n",
      "OPT high S =  [ 3.95774775e-04  1.50795261e-05 -2.21414026e-04  6.77426306e-06]\n",
      "G chi =  0.6229173206595986\n",
      "A chi =  0.25354274825442796\n",
      "Xe-100_P-09_E-150\n",
      "Xe-100_P-09_E-200\n",
      "Xe-100_P-09_E-250\n",
      "Xe-100_P-09_E-300\n",
      "Xe-100_P-09_E-350\n",
      "Xe-100_P-11_E-100\n",
      "OPT high G =  [ 1.05954221e-05  2.64196187e-06  9.26026207e-04 -9.29521213e-05]\n",
      "OPT high S =  [ 6.23694482e-04  2.25668492e-05 -1.00621442e-04 -3.06875022e-06]\n",
      "G chi =  0.4529680833997629\n",
      "A chi =  0.21999985991121856\n",
      "Xe-100_P-11_E-150\n",
      "Xe-100_P-11_E-200\n",
      "Xe-100_P-11_E-250\n",
      "Xe-100_P-11_E-300\n",
      "Xe-100_P-11_E-350\n"
     ]
    },
    {
     "data": {
      "image/png": "[encoded data removed]",
      "text/plain": [
       "<Figure size 936x576 with 1 Axes>"
      ]
     },
     "metadata": {
      "needs_background": "light"
     },
     "output_type": "display_data"
    }
   ],
   "source": [
    "ChG = []\n",
    "ChS = []\n",
    "#for per in range(0,len(FOLD)):\n",
    "for per in [0]:\n",
    "\n",
    "    #SPATH = '/Users/austinmcdonald/Desktop/XeAr/Data/'+FOLD[per]\n",
    "    PATH = '/Users/austinmcdonald/Desktop/XeAr/'+FOLD[per]\n",
    "    folders = glob.glob(PATH+\"*/\")\n",
    "    folders.sort()\n",
    "    plt.figure(figsize=(13,8))\n",
    "    \n",
    "    for F in range(0,len(folders)):\n",
    "    #for F in [5]:\n",
    "        NAME = folders[F].split('/')[-2]\n",
    "        print(NAME)\n",
    "        E = int(NAME.split('-')[-1])\n",
    "        P = NAME.split('_')[1].split('-')[-1]\n",
    "\n",
    "        files = os.listdir(folders[F])\n",
    "        if '.DS_Store' in files: files.remove('.DS_Store')\n",
    "        CHI = 10\n",
    "        FG,FS = FILE_SORTER(files)\n",
    "        Mx,MEAN = MEAN_WAVEFORM(folders[F],FG)\n",
    "        Gx,Gy,ChiG = WAVEFORM_QUALITY(folders[F],FG,MEAN,CHI)\n",
    "        \n",
    "\n",
    "        Mx,MEAN = MEAN_WAVEFORM(folders[F],FS)\n",
    "        Sx,Sy,ChiS = WAVEFORM_QUALITY(folders[F],FS,MEAN,CHI)\n",
    "        \n",
    "        #ChG.append(ChiG)\n",
    "        #ChS.append(ChiS)\n",
    "        \n",
    "        TriggerTime  = find_nearest(Sx,0)\n",
    "        Trigger      = np.where(Sx==TriggerTime)[0][0]\n",
    "        baselineS    = np.mean(Sy[0:Trigger])\n",
    "        baselineG    = np.mean(Sy[0:Trigger])\n",
    "        XVALS  = Gx\n",
    "        YVALSG = Gy-baselineG\n",
    "        YVALSS = Sy-baselineS\n",
    "\n",
    "\n",
    "        if np.mean(np.nan_to_num(YVALSG))!=0 and np.mean(np.nan_to_num(YVALSS))!=0 and E == 100:\n",
    "            xa,ya,opta,chia = FITTER_ANOD(XVALS,YVALSS)\n",
    "            xg,yg,optg,chig = FITTER_GOLD(XVALS,YVALSG)\n",
    "            V = 15/((opta[0]-optg[0]))\n",
    "            V = V**(3/2)\n",
    "            #plt.plot(xa*V,funcA(xa,*opta),color='lime',alpha=0.9,linewidth=3)\n",
    "            #plt.plot(xg*V,funcG(xg,*optg),color='r',alpha=0.9,linewidth=3)\n",
    "            Nor = min(ya)\n",
    "            MinArg=np.argmin(funcA(xa,*opta))\n",
    "            xa1=xa-xa[MinArg]\n",
    "            plt.plot(xa1,ya/Nor,alpha=0.9,linewidth=3,label=P)\n",
    "            plt.plot(xa1,funcA(xa,*opta)/Nor,color='lime',alpha=0.9,linewidth=3)\n",
    "\n",
    "            #plt.plot(xg*V,yg*V,color='r',alpha=0.9,linewidth=3)\n",
    "            print(\"OPT high G = \",optg)\n",
    "            print(\"OPT high S = \",opta)\n",
    "            print(\"G chi = \",chig*1e6)\n",
    "            print(\"A chi = \",chia*1e6)\n",
    "        \n",
    "            #plt.xlim(0,0.0010)\n",
    "            #plt.xlim(0,0.00070)\n",
    "            #plt.xlim(0,.000040)\n",
    "            plt.xlim(-5e-5,1e-4)\n",
    "            plt.ylim(0,1)\n",
    "            #plt.ylim(-100,10)\n",
    "            plt.legend(loc=\"lower left\")\n",
    "    plt.show()\n",
    "        \n",
    "        \n",
    "        \n",
    "        #data = [Gx, Gy-baselineG, Sy-baselineS]\n",
    "        #np.savetxt(SPATH+NAME+'.txt',data)"
   ]
  },
  {
   "cell_type": "code",
   "execution_count": null,
   "metadata": {
    "collapsed": true
   },
   "outputs": [],
   "source": []
  },
  {
   "cell_type": "code",
   "execution_count": null,
   "metadata": {
    "collapsed": true
   },
   "outputs": [],
   "source": []
  },
  {
   "cell_type": "code",
   "execution_count": null,
   "metadata": {
    "collapsed": true
   },
   "outputs": [],
   "source": []
  },
  {
   "cell_type": "code",
   "execution_count": 12,
   "metadata": {},
   "outputs": [
    {
     "name": "stdout",
     "output_type": "stream",
     "text": [
      "Xe-100_P-01_E-080\n",
      "Xe-100_P-01_E-100\n",
      "OPT high G =  [8.76107498e-06 1.60476730e-06 2.21717390e-03 1.10604559e-04]\n",
      "OPT high S =  [ 1.50059352e-04  5.72163395e-06 -1.50362401e-04  2.01408574e-06]\n",
      "G chi =  1.2948339782179057\n",
      "A chi =  0.14513803208901077\n",
      "Xe-100_P-01_E-150\n",
      "Xe-100_P-01_E-200\n",
      "Xe-100_P-01_E-250\n",
      "Xe-100_P-01_E-300\n",
      "Xe-100_P-03_E-080\n",
      "Xe-100_P-03_E-100\n",
      "OPT high G =  [9.31278358e-06 1.93138023e-06 1.47070240e-03 2.67184995e-05]\n",
      "OPT high S =  [ 1.76650690e-04  6.64046053e-06 -2.13270618e-04  1.13287338e-05]\n",
      "G chi =  0.7851965273803937\n",
      "A chi =  0.21290332876651755\n",
      "Xe-100_P-03_E-150\n",
      "Xe-100_P-03_E-200\n",
      "Xe-100_P-03_E-250\n",
      "Xe-100_P-03_E-300\n",
      "Xe-100_P-06_E-080\n",
      "Xe-100_P-06_E-100\n",
      "OPT high G =  [ 9.70092967e-06  2.10274326e-06  1.14545578e-03 -1.72187917e-05]\n",
      "OPT high S =  [ 2.22547787e-04  8.38172046e-06 -2.70007115e-04  3.32850042e-06]\n",
      "G chi =  0.8132903279231948\n",
      "A chi =  0.15529104168132513\n",
      "Xe-100_P-06_E-150\n",
      "Xe-100_P-06_E-200\n",
      "Xe-100_P-06_E-250\n",
      "Xe-100_P-06_E-300\n",
      "Xe-100_P-09_E-080\n",
      "Xe-100_P-09_E-100\n",
      "OPT high G =  [1.01541727e-05 2.44580126e-06 9.74611062e-04 9.67540313e-05]\n",
      "OPT high S =  [ 3.95774775e-04  1.50795261e-05 -2.21414026e-04  6.77426306e-06]\n",
      "G chi =  0.6229173206595986\n",
      "A chi =  0.25354274825442796\n",
      "Xe-100_P-09_E-150\n",
      "Xe-100_P-09_E-200\n",
      "Xe-100_P-09_E-250\n",
      "Xe-100_P-09_E-300\n",
      "Xe-100_P-09_E-350\n",
      "Xe-100_P-11_E-100\n",
      "OPT high G =  [ 1.05954221e-05  2.64196187e-06  9.26026207e-04 -9.29521213e-05]\n",
      "OPT high S =  [ 6.23694482e-04  2.25668492e-05 -1.00621442e-04 -3.06875022e-06]\n",
      "G chi =  0.4529680833997629\n",
      "A chi =  0.21999985991121856\n",
      "Xe-100_P-11_E-150\n",
      "Xe-100_P-11_E-200\n",
      "Xe-100_P-11_E-250\n",
      "Xe-100_P-11_E-300\n",
      "Xe-100_P-11_E-350\n"
     ]
    },
    {
     "data": {
      "image/png": "[encoded data removed]",
      "text/plain": [
       "<Figure size 936x576 with 1 Axes>"
      ]
     },
     "metadata": {
      "needs_background": "light"
     },
     "output_type": "display_data"
    }
   ],
   "source": [
    "ChG = []\n",
    "ChS = []\n",
    "#for per in range(0,len(FOLD)):\n",
    "for per in [0]:\n",
    "\n",
    "    #SPATH = '/Users/austinmcdonald/Desktop/XeAr/Data/'+FOLD[per]\n",
    "    PATH = '/Users/austinmcdonald/Desktop/XeAr/'+FOLD[per]\n",
    "    folders = glob.glob(PATH+\"*/\")\n",
    "    folders.sort()\n",
    "    plt.figure(figsize=(13,8))\n",
    "    \n",
    "    for F in range(0,len(folders)):\n",
    "    #for F in [5]:\n",
    "        NAME = folders[F].split('/')[-2]\n",
    "        print(NAME)\n",
    "        E = int(NAME.split('-')[-1])\n",
    "        P = NAME.split('_')[1].split('-')[-1]\n",
    "\n",
    "        files = os.listdir(folders[F])\n",
    "        if '.DS_Store' in files: files.remove('.DS_Store')\n",
    "        CHI = 10\n",
    "        FG,FS = FILE_SORTER(files)\n",
    "        Mx,MEAN = MEAN_WAVEFORM(folders[F],FG)\n",
    "        Gx,Gy,ChiG = WAVEFORM_QUALITY(folders[F],FG,MEAN,CHI)\n",
    "        \n",
    "\n",
    "        Mx,MEAN = MEAN_WAVEFORM(folders[F],FS)\n",
    "        Sx,Sy,ChiS = WAVEFORM_QUALITY(folders[F],FS,MEAN,CHI)\n",
    "        \n",
    "        #ChG.append(ChiG)\n",
    "        #ChS.append(ChiS)\n",
    "        \n",
    "        TriggerTime  = find_nearest(Sx,0)\n",
    "        Trigger      = np.where(Sx==TriggerTime)[0][0]\n",
    "        baselineS    = np.mean(Sy[0:Trigger])\n",
    "        baselineG    = np.mean(Sy[0:Trigger])\n",
    "        XVALS  = Gx\n",
    "        YVALSG = Gy-baselineG\n",
    "        YVALSS = Sy-baselineS\n",
    "\n",
    "\n",
    "        if np.mean(np.nan_to_num(YVALSG))!=0 and np.mean(np.nan_to_num(YVALSS))!=0 and E == 100:\n",
    "            xa,ya,opta,chia = FITTER_ANOD(XVALS,YVALSS)\n",
    "            xg,yg,optg,chig = FITTER_GOLD(XVALS,YVALSG)\n",
    "            V = 15/((opta[0]-optg[0]))\n",
    "            V = V**(3/2)\n",
    "            #plt.plot(xa*V,funcA(xa,*opta),color='lime',alpha=0.9,linewidth=3)\n",
    "            #plt.plot(xg*V,funcG(xg,*optg),color='r',alpha=0.9,linewidth=3)\n",
    "            Nor = max(yg)\n",
    "            MinArg=np.argmax(funcG(xg,*optg))\n",
    "            xg1=xg#-xg[MinArg]\n",
    "            plt.plot(xg1,yg/Nor,alpha=0.9,linewidth=3,label=P)\n",
    "            plt.plot(xg1,funcG(xg,*optg)/Nor,color='lime',alpha=0.9,linewidth=3)\n",
    "\n",
    "            #plt.plot(xg*V,yg*V,color='r',alpha=0.9,linewidth=3)\n",
    "            print(\"OPT high G = \",optg)\n",
    "            print(\"OPT high S = \",opta)\n",
    "            print(\"G chi = \",chig*1e6)\n",
    "            print(\"A chi = \",chia*1e6)\n",
    "        \n",
    "            #plt.xlim(0,0.0010)\n",
    "            #plt.xlim(0,0.00070)\n",
    "            #plt.xlim(0,.000040)\n",
    "            plt.xlim(-1e-5,1e-5)\n",
    "            plt.xlim(0,3e-5)\n",
    "            plt.ylim(-0.2,1)\n",
    "            #plt.ylim(-100,10)\n",
    "            plt.legend(loc=\"lower left\")\n",
    "\n",
    "    plt.show()\n",
    "        \n",
    "        \n",
    "        \n",
    "        #data = [Gx, Gy-baselineG, Sy-baselineS]\n",
    "        #np.savetxt(SPATH+NAME+'.txt',data)"
   ]
  },
  {
   "cell_type": "code",
   "execution_count": null,
   "metadata": {
    "collapsed": true
   },
   "outputs": [],
   "source": []
  },
  {
   "cell_type": "code",
   "execution_count": null,
   "metadata": {
    "collapsed": true
   },
   "outputs": [],
   "source": []
  },
  {
   "cell_type": "code",
   "execution_count": null,
   "metadata": {
    "collapsed": true
   },
   "outputs": [],
   "source": []
  },
  {
   "cell_type": "code",
   "execution_count": null,
   "metadata": {
    "collapsed": true
   },
   "outputs": [],
   "source": []
  },
  {
   "cell_type": "code",
   "execution_count": null,
   "metadata": {
    "collapsed": true
   },
   "outputs": [],
   "source": []
  },
  {
   "cell_type": "code",
   "execution_count": null,
   "metadata": {
    "collapsed": true
   },
   "outputs": [],
   "source": []
  },
  {
   "cell_type": "code",
   "execution_count": null,
   "metadata": {
    "collapsed": true
   },
   "outputs": [],
   "source": []
  },
  {
   "cell_type": "code",
   "execution_count": null,
   "metadata": {
    "collapsed": true
   },
   "outputs": [],
   "source": []
  },
  {
   "cell_type": "code",
   "execution_count": null,
   "metadata": {
    "collapsed": true
   },
   "outputs": [],
   "source": []
  },
  {
   "cell_type": "code",
   "execution_count": null,
   "metadata": {
    "collapsed": true
   },
   "outputs": [],
   "source": []
  },
  {
   "cell_type": "code",
   "execution_count": null,
   "metadata": {
    "collapsed": true
   },
   "outputs": [],
   "source": []
  },
  {
   "cell_type": "code",
   "execution_count": null,
   "metadata": {
    "collapsed": true
   },
   "outputs": [],
   "source": [
    "chig"
   ]
  },
  {
   "cell_type": "code",
   "execution_count": null,
   "metadata": {
    "collapsed": true
   },
   "outputs": [],
   "source": [
    "len(ChG)"
   ]
  },
  {
   "cell_type": "code",
   "execution_count": null,
   "metadata": {
    "collapsed": true
   },
   "outputs": [],
   "source": [
    "plt.hist(ChG[50],bins=np.linspace(0,10,50),alpha=0.6,label=\"Gold\")\n",
    "plt.hist(ChS[50],bins=np.linspace(0,10,50),alpha=0.6,label=\"Anode\")\n",
    "plt.legend(loc=\"upper right\")\n",
    "plt.xlim(0,6)\n",
    "plt.axvline(0.75,color=\"r\")\n",
    "plt.axvline(1,color=\"lime\")\n",
    "plt.show()"
   ]
  },
  {
   "cell_type": "code",
   "execution_count": null,
   "metadata": {
    "collapsed": true
   },
   "outputs": [],
   "source": [
    "ChGF = [item for sublist in ChG for item in sublist]\n",
    "ChSF = [item for sublist in ChS for item in sublist]"
   ]
  },
  {
   "cell_type": "code",
   "execution_count": null,
   "metadata": {
    "collapsed": true
   },
   "outputs": [],
   "source": [
    "plt.hist(ChGF,bins=np.logspace(-2,4,100),alpha=0.6,label=\"Gold\")\n",
    "plt.hist(ChSF,bins=np.logspace(-2,4,100),alpha=0.6,label=\"Anode\")\n",
    "plt.legend(loc=\"upper right\")\n",
    "plt.loglog()\n",
    "#plt.xlim(0,6)\n",
    "#plt.axvline(0.75,color=\"r\")\n",
    "#plt.axvline(1,color=\"lime\")\n",
    "#plt.axvline(0.6,color=\"g\")\n",
    "#plt.axvline(0.8,color=\"b\")\n",
    "plt.show()\n",
    "plt.hist(ChGF,bins=np.linspace(0,2,100),alpha=0.6,label=\"Gold\")\n",
    "plt.hist(ChSF,bins=np.linspace(0,2,100),alpha=0.6,label=\"Anode\")\n",
    "plt.legend(loc=\"upper right\")\n",
    "plt.xlim(0,2)\n",
    "#plt.axvline(0.75,color=\"r\")\n",
    "plt.axvline(0.7,color=\"lime\")\n",
    "#plt.axvline(0.6,color=\"g\")\n",
    "#plt.axvline(0.8,color=\"b\")\n",
    "plt.show()"
   ]
  },
  {
   "cell_type": "code",
   "execution_count": null,
   "metadata": {
    "collapsed": true
   },
   "outputs": [],
   "source": []
  },
  {
   "cell_type": "code",
   "execution_count": null,
   "metadata": {
    "collapsed": true
   },
   "outputs": [],
   "source": []
  },
  {
   "cell_type": "code",
   "execution_count": null,
   "metadata": {
    "collapsed": true
   },
   "outputs": [],
   "source": []
  },
  {
   "cell_type": "code",
   "execution_count": null,
   "metadata": {
    "collapsed": true
   },
   "outputs": [],
   "source": []
  },
  {
   "cell_type": "code",
   "execution_count": null,
   "metadata": {
    "collapsed": true
   },
   "outputs": [],
   "source": []
  },
  {
   "cell_type": "code",
   "execution_count": null,
   "metadata": {
    "collapsed": true
   },
   "outputs": [],
   "source": []
  },
  {
   "cell_type": "code",
   "execution_count": null,
   "metadata": {
    "collapsed": true
   },
   "outputs": [],
   "source": []
  },
  {
   "cell_type": "code",
   "execution_count": null,
   "metadata": {
    "collapsed": true
   },
   "outputs": [],
   "source": []
  },
  {
   "cell_type": "code",
   "execution_count": null,
   "metadata": {
    "collapsed": true
   },
   "outputs": [],
   "source": []
  },
  {
   "cell_type": "code",
   "execution_count": null,
   "metadata": {
    "collapsed": true
   },
   "outputs": [],
   "source": []
  },
  {
   "cell_type": "code",
   "execution_count": null,
   "metadata": {
    "collapsed": true
   },
   "outputs": [],
   "source": []
  },
  {
   "cell_type": "code",
   "execution_count": null,
   "metadata": {
    "collapsed": true
   },
   "outputs": [],
   "source": [
    "for per in range(0,len(FOLD)):\n",
    "\n",
    "    SPATH = '/Users/austinmcdonald/Desktop/XeAr/Data-3/'+FOLD[per]\n",
    "    PATH = '/Users/austinmcdonald/Desktop/XeAr/'+FOLD[per]\n",
    "    folders = glob.glob(PATH+\"*/\")\n",
    "    folders.sort()\n",
    "    \n",
    "    CHI = 0.7\n",
    "    CHI = 20\n",
    "    for F in range(0,len(folders)):\n",
    "    #for F in [0]:\n",
    "        NAME = folders[F].split('/')[-2]\n",
    "        print(NAME)\n",
    "        files = os.listdir(folders[F])\n",
    "        if '.DS_Store' in files: files.remove('.DS_Store')\n",
    "\n",
    "        FG,FS = FILE_SORTER(files)\n",
    "        Mx,MEAN = MEAN_WAVEFORM(folders[F],FG)\n",
    "        Gx,Gy,C = WAVEFORM_QUALITY(folders[F],FG,MEAN,CHI)\n",
    "\n",
    "        Mx,MEAN = MEAN_WAVEFORM(folders[F],FS)\n",
    "        Sx,Sy,C = WAVEFORM_QUALITY(folders[F],FS,MEAN,CHI)\n",
    "\n",
    "        TriggerTime = find_nearest(Sx,0)\n",
    "        Trigger     = np.where(Sx==TriggerTime)[0][0]\n",
    "        baselineS    = np.mean(Sy[0:Trigger])\n",
    "        baselineG    = np.mean(Sy[0:Trigger])\n",
    "        data = [Gx, Gy-baselineG, Sy-baselineS]\n",
    "        np.savetxt(SPATH+NAME+'.txt',data)"
   ]
  },
  {
   "cell_type": "code",
   "execution_count": null,
   "metadata": {
    "collapsed": true
   },
   "outputs": [],
   "source": []
  },
  {
   "cell_type": "code",
   "execution_count": null,
   "metadata": {
    "collapsed": true
   },
   "outputs": [],
   "source": []
  },
  {
   "cell_type": "code",
   "execution_count": null,
   "metadata": {
    "collapsed": true
   },
   "outputs": [],
   "source": []
  },
  {
   "cell_type": "code",
   "execution_count": null,
   "metadata": {
    "collapsed": true
   },
   "outputs": [],
   "source": []
  },
  {
   "cell_type": "code",
   "execution_count": null,
   "metadata": {
    "collapsed": true
   },
   "outputs": [],
   "source": []
  },
  {
   "cell_type": "code",
   "execution_count": null,
   "metadata": {
    "collapsed": true
   },
   "outputs": [],
   "source": []
  },
  {
   "cell_type": "code",
   "execution_count": null,
   "metadata": {
    "collapsed": true
   },
   "outputs": [],
   "source": []
  },
  {
   "cell_type": "code",
   "execution_count": null,
   "metadata": {
    "collapsed": true
   },
   "outputs": [],
   "source": []
  },
  {
   "cell_type": "code",
   "execution_count": null,
   "metadata": {
    "collapsed": true
   },
   "outputs": [],
   "source": []
  },
  {
   "cell_type": "code",
   "execution_count": null,
   "metadata": {
    "collapsed": true
   },
   "outputs": [],
   "source": []
  },
  {
   "cell_type": "code",
   "execution_count": null,
   "metadata": {
    "collapsed": true
   },
   "outputs": [],
   "source": []
  },
  {
   "cell_type": "code",
   "execution_count": null,
   "metadata": {
    "collapsed": true
   },
   "outputs": [],
   "source": []
  },
  {
   "cell_type": "code",
   "execution_count": null,
   "metadata": {
    "collapsed": true
   },
   "outputs": [],
   "source": []
  },
  {
   "cell_type": "code",
   "execution_count": null,
   "metadata": {
    "collapsed": true
   },
   "outputs": [],
   "source": []
  },
  {
   "cell_type": "code",
   "execution_count": null,
   "metadata": {
    "collapsed": true
   },
   "outputs": [],
   "source": []
  },
  {
   "cell_type": "code",
   "execution_count": null,
   "metadata": {
    "collapsed": true
   },
   "outputs": [],
   "source": []
  },
  {
   "cell_type": "code",
   "execution_count": null,
   "metadata": {
    "collapsed": true
   },
   "outputs": [],
   "source": []
  },
  {
   "cell_type": "code",
   "execution_count": null,
   "metadata": {
    "collapsed": true
   },
   "outputs": [],
   "source": []
  },
  {
   "cell_type": "code",
   "execution_count": null,
   "metadata": {
    "collapsed": true
   },
   "outputs": [],
   "source": [
    "MEAN"
   ]
  },
  {
   "cell_type": "code",
   "execution_count": null,
   "metadata": {
    "collapsed": true
   },
   "outputs": [],
   "source": []
  },
  {
   "cell_type": "code",
   "execution_count": null,
   "metadata": {
    "collapsed": true
   },
   "outputs": [],
   "source": [
    "FOLD = ['100/','099/','098/','097/','096/','095/','093/','090/','085/']\n",
    "FF = 1\n",
    "SPATH = '/Users/austinmcdonald/Desktop/XeHe/Data/'+FOLD[FF]\n",
    "PATH = '/Users/austinmcdonald/Desktop/XeHe/'+FOLD[FF]\n",
    "folders = glob.glob(PATH+\"*/\")\n",
    "folders.sort()\n",
    "#folders"
   ]
  },
  {
   "cell_type": "code",
   "execution_count": null,
   "metadata": {
    "collapsed": true
   },
   "outputs": [],
   "source": [
    "CHI = 1\n",
    "for F in range(0,len(folders)):\n",
    "#for F in [0]:\n",
    "    NAME = folders[F].split('/')[-2]\n",
    "    print(NAME)\n",
    "    files = os.listdir(folders[F])\n",
    "    if '.DS_Store' in files: files.remove('.DS_Store')\n",
    "    FG,FS = FILE_SORTER(files)\n",
    "    Mx,MEAN = MEAN_WAVEFORM(folders[F],FG)\n",
    "    Gx,Gy = WAVEFORM_QUALITY(folders[F],FG,MEAN,CHI)\n",
    "    \n",
    "    Mx,MEAN = MEAN_WAVEFORM(folders[F],FS)\n",
    "    Sx,Sy = WAVEFORM_QUALITY(folders[F],FS,MEAN,CHI)\n",
    "    \n",
    "    TriggerTime = find_nearest(Sx,0)\n",
    "    Trigger     = np.where(Sx==TriggerTime)[0][0]\n",
    "    baselineS    = np.mean(Sy[0:Trigger])\n",
    "    baselineG    = np.mean(Sy[0:Trigger])\n",
    "    data = [Gx, Gy-baselineG, Sy-baselineS]\n",
    "    np.savetxt(SPATH+NAME+'.txt',data)"
   ]
  },
  {
   "cell_type": "code",
   "execution_count": null,
   "metadata": {
    "collapsed": true
   },
   "outputs": [],
   "source": []
  },
  {
   "cell_type": "code",
   "execution_count": null,
   "metadata": {
    "collapsed": true
   },
   "outputs": [],
   "source": []
  },
  {
   "cell_type": "code",
   "execution_count": null,
   "metadata": {
    "collapsed": true
   },
   "outputs": [],
   "source": []
  },
  {
   "cell_type": "code",
   "execution_count": null,
   "metadata": {
    "collapsed": true
   },
   "outputs": [],
   "source": []
  },
  {
   "cell_type": "code",
   "execution_count": null,
   "metadata": {
    "collapsed": true
   },
   "outputs": [],
   "source": []
  },
  {
   "cell_type": "code",
   "execution_count": null,
   "metadata": {
    "collapsed": true
   },
   "outputs": [],
   "source": []
  },
  {
   "cell_type": "code",
   "execution_count": null,
   "metadata": {
    "collapsed": true
   },
   "outputs": [],
   "source": []
  },
  {
   "cell_type": "code",
   "execution_count": null,
   "metadata": {
    "collapsed": true
   },
   "outputs": [],
   "source": []
  },
  {
   "cell_type": "code",
   "execution_count": null,
   "metadata": {
    "collapsed": true
   },
   "outputs": [],
   "source": []
  },
  {
   "cell_type": "code",
   "execution_count": null,
   "metadata": {
    "collapsed": true
   },
   "outputs": [],
   "source": []
  },
  {
   "cell_type": "code",
   "execution_count": null,
   "metadata": {
    "collapsed": true
   },
   "outputs": [],
   "source": []
  },
  {
   "cell_type": "code",
   "execution_count": null,
   "metadata": {
    "collapsed": true
   },
   "outputs": [],
   "source": []
  },
  {
   "cell_type": "code",
   "execution_count": null,
   "metadata": {
    "collapsed": true
   },
   "outputs": [],
   "source": []
  },
  {
   "cell_type": "code",
   "execution_count": null,
   "metadata": {
    "collapsed": true
   },
   "outputs": [],
   "source": []
  },
  {
   "cell_type": "code",
   "execution_count": null,
   "metadata": {
    "collapsed": true
   },
   "outputs": [],
   "source": []
  },
  {
   "cell_type": "code",
   "execution_count": null,
   "metadata": {
    "collapsed": true
   },
   "outputs": [],
   "source": []
  },
  {
   "cell_type": "code",
   "execution_count": null,
   "metadata": {
    "collapsed": true
   },
   "outputs": [],
   "source": []
  },
  {
   "cell_type": "code",
   "execution_count": null,
   "metadata": {
    "collapsed": true
   },
   "outputs": [],
   "source": []
  },
  {
   "cell_type": "code",
   "execution_count": null,
   "metadata": {
    "collapsed": true
   },
   "outputs": [],
   "source": []
  },
  {
   "cell_type": "code",
   "execution_count": null,
   "metadata": {
    "collapsed": true
   },
   "outputs": [],
   "source": []
  },
  {
   "cell_type": "code",
   "execution_count": null,
   "metadata": {
    "collapsed": true
   },
   "outputs": [],
   "source": []
  },
  {
   "cell_type": "code",
   "execution_count": null,
   "metadata": {
    "collapsed": true
   },
   "outputs": [],
   "source": []
  },
  {
   "cell_type": "code",
   "execution_count": null,
   "metadata": {
    "collapsed": true
   },
   "outputs": [],
   "source": []
  },
  {
   "cell_type": "code",
   "execution_count": null,
   "metadata": {
    "collapsed": true
   },
   "outputs": [],
   "source": []
  },
  {
   "cell_type": "code",
   "execution_count": null,
   "metadata": {
    "collapsed": true
   },
   "outputs": [],
   "source": []
  },
  {
   "cell_type": "code",
   "execution_count": null,
   "metadata": {
    "collapsed": true
   },
   "outputs": [],
   "source": []
  },
  {
   "cell_type": "code",
   "execution_count": null,
   "metadata": {
    "collapsed": true
   },
   "outputs": [],
   "source": []
  },
  {
   "cell_type": "code",
   "execution_count": null,
   "metadata": {
    "collapsed": true
   },
   "outputs": [],
   "source": []
  },
  {
   "cell_type": "code",
   "execution_count": null,
   "metadata": {
    "collapsed": true
   },
   "outputs": [],
   "source": []
  },
  {
   "cell_type": "code",
   "execution_count": null,
   "metadata": {
    "collapsed": true
   },
   "outputs": [],
   "source": [
    "Sx,Sy = WAVEFORM_QUALITY(folders[F],FS,MEAN,CHI)\n",
    "Sx"
   ]
  },
  {
   "cell_type": "code",
   "execution_count": null,
   "metadata": {
    "collapsed": true
   },
   "outputs": [],
   "source": [
    "EH = []\n",
    "PATH = folders[F]\n",
    "files = FS\n",
    "Yvals = np.zeros(10002)\n",
    "Xvals = np.zeros(10002)\n",
    "avg = 0\n",
    "#for w in range(0,1100):\n",
    "for w in range(0,len(files)):\n",
    "\n",
    "    X, Y, info = readTrc(PATH+files[w])\n",
    "    if Y.shape[0]==Yvals.shape[0] and X.shape[0]==Xvals.shape[0]:\n",
    "        A = moving_average(MEAN,10)\n",
    "        B = moving_average(Y   ,10)\n",
    "        D = moving_average(X   ,10)\n",
    "        TriggerTime = find_nearest(D,0)\n",
    "        Trigger     = np.where(D==TriggerTime)[0][0]\n",
    "        As    = np.mean(A[:Trigger])\n",
    "        Bs    = np.mean(B[:Trigger])\n",
    "\n",
    "        holder = ((A-As)-(B-Bs))**2\n",
    "        chi = np.sum(holder)*1e4\n",
    "        EH.append(chi)\n",
    "        if chi <100:\n",
    "            Yvals += Y\n",
    "            Xvals += X\n",
    "            avg   += 1\n",
    "    SigY = Yvals/avg\n",
    "    SigX = Xvals/avg"
   ]
  },
  {
   "cell_type": "code",
   "execution_count": null,
   "metadata": {
    "collapsed": true
   },
   "outputs": [],
   "source": [
    "plt.plot(SigX,SigY)"
   ]
  },
  {
   "cell_type": "code",
   "execution_count": null,
   "metadata": {
    "collapsed": true
   },
   "outputs": [],
   "source": [
    "plt.hist(EH)"
   ]
  },
  {
   "cell_type": "code",
   "execution_count": null,
   "metadata": {
    "collapsed": true
   },
   "outputs": [],
   "source": []
  },
  {
   "cell_type": "code",
   "execution_count": null,
   "metadata": {
    "collapsed": true
   },
   "outputs": [],
   "source": [
    "EH = []\n",
    "CHI = 2\n",
    "#for F in range(0,len(folders)):\n",
    "AHHH = \"/Users/austinmcdonald/Desktop/XeHe/099/Xe-099_P-10_E-350/\"\n",
    "#print(folders[F])\n",
    "NAME = AHHH.split('/')[-2]\n",
    "print(NAME)\n",
    "files = os.listdir(AHHH)\n",
    "FG,FS = FILE_SORTER(files)\n",
    "Mx,MEAN = MEAN_WAVEFORM(AHHH,FS)\n",
    "\n",
    "\n",
    "\n",
    "X, Y, info = readTrc(AHHH+FS[1])\n",
    "Yvals = np.zeros(X.shape[0])\n",
    "Xvals = np.zeros(Y.shape[0])\n",
    "avg = 0\n",
    "#for w in range(0,1100):\n",
    "for w in range(0,len(FS)):\n",
    "\n",
    "    X, Y, info = readTrc(AHHH+FS[w])\n",
    "    if Y.shape[0]==Yvals.shape[0] and X.shape[0]==Xvals.shape[0]:\n",
    "        A = moving_average(MEAN,10)\n",
    "        B = moving_average(Y   ,10)\n",
    "        D = moving_average(X   ,10)\n",
    "        TriggerTime = find_nearest(D,0)\n",
    "        Trigger     = np.where(D==TriggerTime)[0][0]\n",
    "        As    = np.mean(A[0:Trigger])\n",
    "        Bs    = np.mean(B[0:Trigger])\n",
    "\n",
    "        holder = ((A-As)-(B-Bs))**2\n",
    "        chi = np.sum(holder)*1e4\n",
    "        print(chi)\n",
    "        plt.figure(figsize=(6,6))\n",
    "        plt.plot(D,A-As)\n",
    "        plt.plot(D,B-Bs)\n",
    "        plt.show()\n",
    "\n",
    "        EH.append(chi)\n",
    "\n",
    "        if chi <3:\n",
    "            Yvals += Y\n",
    "            Xvals += X\n",
    "            avg   += 1\n",
    "    SigY = Yvals/avg\n",
    "    SigX = Xvals/avg\n",
    "\n"
   ]
  },
  {
   "cell_type": "code",
   "execution_count": null,
   "metadata": {
    "collapsed": true
   },
   "outputs": [],
   "source": [
    "TriggerTime = find_nearest(SigX,0)\n",
    "Trigger     = np.where(SigX==TriggerTime)[0][0]"
   ]
  },
  {
   "cell_type": "code",
   "execution_count": null,
   "metadata": {
    "collapsed": true
   },
   "outputs": [],
   "source": [
    "Trigger"
   ]
  },
  {
   "cell_type": "code",
   "execution_count": null,
   "metadata": {
    "collapsed": true
   },
   "outputs": [],
   "source": [
    "plt.plot(SigX,SigY)"
   ]
  },
  {
   "cell_type": "code",
   "execution_count": null,
   "metadata": {
    "collapsed": true
   },
   "outputs": [],
   "source": [
    "files = os.listdir(AHHH)\n",
    "FG,FS = FILE_SORTER(files)\n",
    "\n",
    "#X, Y, info = readTrc(AHHH+FG[0])\n",
    "#Yvals = np.zeros(X.shape[0])\n",
    "#Xvals = np.zeros(Y.shape[0])\n",
    "Yvals = np.zeros(10002)\n",
    "Xvals = np.zeros(10002)\n",
    "avg = 0\n",
    "for w in range(0,len(FG)):\n",
    "\n",
    "    X, Y, info = readTrc(AHHH +FG[w])\n",
    "    print(X.shape)\n",
    "\n",
    "    if Y.shape[0]==Yvals.shape[0] and X.shape[0]==Xvals.shape[0]:\n",
    "        Yvals += Y\n",
    "        Xvals += X\n",
    "        avg   += 1\n",
    "MSigY = Yvals/avg\n",
    "MSigX = Xvals/avg"
   ]
  },
  {
   "cell_type": "code",
   "execution_count": null,
   "metadata": {
    "collapsed": true
   },
   "outputs": [],
   "source": [
    "Xvals.shape"
   ]
  },
  {
   "cell_type": "code",
   "execution_count": null,
   "metadata": {
    "collapsed": true
   },
   "outputs": [],
   "source": [
    "plt.plot(MSigX,MSigY)"
   ]
  },
  {
   "cell_type": "code",
   "execution_count": null,
   "metadata": {
    "collapsed": true
   },
   "outputs": [],
   "source": []
  },
  {
   "cell_type": "code",
   "execution_count": null,
   "metadata": {
    "collapsed": true
   },
   "outputs": [],
   "source": []
  },
  {
   "cell_type": "code",
   "execution_count": null,
   "metadata": {
    "collapsed": true
   },
   "outputs": [],
   "source": []
  },
  {
   "cell_type": "code",
   "execution_count": null,
   "metadata": {
    "collapsed": true
   },
   "outputs": [],
   "source": []
  },
  {
   "cell_type": "code",
   "execution_count": null,
   "metadata": {
    "collapsed": true
   },
   "outputs": [],
   "source": []
  },
  {
   "cell_type": "code",
   "execution_count": null,
   "metadata": {
    "collapsed": true
   },
   "outputs": [],
   "source": []
  },
  {
   "cell_type": "code",
   "execution_count": null,
   "metadata": {
    "collapsed": true
   },
   "outputs": [],
   "source": []
  },
  {
   "cell_type": "code",
   "execution_count": null,
   "metadata": {
    "collapsed": true
   },
   "outputs": [],
   "source": []
  },
  {
   "cell_type": "code",
   "execution_count": null,
   "metadata": {
    "collapsed": true
   },
   "outputs": [],
   "source": []
  },
  {
   "cell_type": "code",
   "execution_count": null,
   "metadata": {
    "collapsed": true
   },
   "outputs": [],
   "source": []
  },
  {
   "cell_type": "code",
   "execution_count": null,
   "metadata": {
    "collapsed": true
   },
   "outputs": [],
   "source": []
  },
  {
   "cell_type": "code",
   "execution_count": null,
   "metadata": {
    "collapsed": true
   },
   "outputs": [],
   "source": []
  },
  {
   "cell_type": "code",
   "execution_count": null,
   "metadata": {
    "collapsed": true
   },
   "outputs": [],
   "source": []
  },
  {
   "cell_type": "code",
   "execution_count": null,
   "metadata": {
    "collapsed": true
   },
   "outputs": [],
   "source": []
  },
  {
   "cell_type": "code",
   "execution_count": null,
   "metadata": {
    "collapsed": true
   },
   "outputs": [],
   "source": []
  },
  {
   "cell_type": "code",
   "execution_count": null,
   "metadata": {
    "collapsed": true
   },
   "outputs": [],
   "source": []
  },
  {
   "cell_type": "code",
   "execution_count": null,
   "metadata": {
    "collapsed": true
   },
   "outputs": [],
   "source": []
  },
  {
   "cell_type": "code",
   "execution_count": null,
   "metadata": {
    "collapsed": true
   },
   "outputs": [],
   "source": []
  },
  {
   "cell_type": "code",
   "execution_count": null,
   "metadata": {
    "collapsed": true
   },
   "outputs": [],
   "source": [
    "SPATH = '/Users/austinmcdonald/Desktop/Xenon/Data/100-2/'\n",
    "PATH = '/Users/austinmcdonald/Desktop/Xenon/100-2/'\n",
    "folders = glob.glob(PATH+\"*/\")\n",
    "folders.sort()\n",
    "folders"
   ]
  },
  {
   "cell_type": "code",
   "execution_count": null,
   "metadata": {
    "collapsed": true
   },
   "outputs": [],
   "source": [
    "len(folders)"
   ]
  },
  {
   "cell_type": "code",
   "execution_count": null,
   "metadata": {
    "collapsed": true,
    "scrolled": true
   },
   "outputs": [],
   "source": [
    "CHI = 2\n",
    "for F in range(0,len(folders)):\n",
    "    #print(folders[F])\n",
    "    NAME = folders[F].split('/')[-2]\n",
    "    print(NAME)\n",
    "    files = os.listdir(folders[F])\n",
    "    \n",
    "    FilesGold   = []\n",
    "    FilesSignal = []\n",
    "\n",
    "    for x in range(0,len(files)):\n",
    "        if int(files[x][1]) ==4 or int(files[x][1]) ==2:\n",
    "            FilesGold.append(files[x])\n",
    "        if int(files[x][1]) ==3 or int(files[x][1]) ==1:\n",
    "            FilesSignal.append(files[x])\n",
    "            \n",
    "    X, Y, info = readTrc(folders[F]+FilesSignal[0])\n",
    "    Yvals = np.zeros(X.shape[0])\n",
    "    Xvals = np.zeros(Y.shape[0])\n",
    "    avg = 0\n",
    "    for w in range(0,len(FilesSignal)):\n",
    "\n",
    "        X, Y, info = readTrc(folders[F]+FilesSignal[w])\n",
    "        if Y.shape[0]==Yvals.shape[0] and X.shape[0]==Xvals.shape[0]:\n",
    "            Yvals += Y\n",
    "            Xvals += X\n",
    "            avg   += 1\n",
    "    MSigY = Yvals/avg\n",
    "    MSigX = Xvals/avg\n",
    "    \n",
    "    \n",
    "    X, Y, info = readTrc(folders[F]+FilesSignal[0])\n",
    "    Yvals = np.zeros(X.shape[0])\n",
    "    Xvals = np.zeros(Y.shape[0])\n",
    "    avg = 0\n",
    "    #for w in range(0,1100):\n",
    "    for w in range(0,len(FilesSignal)):\n",
    "\n",
    "        X, Y, info = readTrc(folders[F]+FilesSignal[w])\n",
    "        if Y.shape[0]==Yvals.shape[0] and X.shape[0]==Xvals.shape[0]:\n",
    "            CC = moving_average((MSigY-Y),1)\n",
    "            xx = moving_average(X,50)\n",
    "            chiH = CC**2\n",
    "            chi = np.sum(chiH)*1000\n",
    "            if chi <CHI:\n",
    "                mm.append(chi)\n",
    "                Yvals += Y\n",
    "                Xvals += X\n",
    "                avg   += 1\n",
    "    SigY = Yvals/avg\n",
    "    SigX = Xvals/avg\n",
    "    print(\"Sig avg\",avg)\n",
    "\n",
    "    \n",
    "    X, Y, info = readTrc(folders[F]+FilesGold[0])\n",
    "\n",
    "    avg = 0\n",
    "    for w in range(0,len(FilesGold)):\n",
    "\n",
    "        X, Y, info = readTrc(folders[F]+FilesGold[w])\n",
    "        if Y.shape[0]==Yvals.shape[0] and X.shape[0]==Xvals.shape[0]:\n",
    "            Yvals += Y\n",
    "            Xvals += X\n",
    "            avg   += 1\n",
    "    MGolY = Yvals/avg\n",
    "    MGolX = Xvals/avg\n",
    "    \n",
    "    \n",
    "    X, Y, info = readTrc(folders[F]+FilesGold[0])  \n",
    "    Yvals = np.zeros(X.shape[0])\n",
    "    Xvals = np.zeros(Y.shape[0])\n",
    "    avg = 0 \n",
    "    #for w in range(0,1100):\n",
    "    for w in range(0,len(FilesGold)):\n",
    "        X, Y, info = readTrc(folders[F]+FilesGold[w])\n",
    "        if Y.shape[0]==Yvals.shape[0] and X.shape[0]==Xvals.shape[0]:\n",
    "            CC = moving_average((MGolY-Y),1)\n",
    "            xx = moving_average(X,50)\n",
    "            EE = np.mean(CC)\n",
    "            chiH = (CC-EE)**2\n",
    "            chi = np.sum(chiH)*1000\n",
    "            if chi <CHI:\n",
    "                mm.append(chi)\n",
    "                Yvals += Y\n",
    "                Xvals += X\n",
    "                avg   += 1\n",
    "    GolY = Yvals/avg\n",
    "    GolX = Xvals/avg\n",
    "    print(\"Gol avg\",avg)\n",
    "\n",
    "\n",
    "    TriggerTime = find_nearest(SigX,0)\n",
    "    Trigger     = np.where(SigX==TriggerTime)[0][0]\n",
    "    baselineS    = np.mean(SigY[0:Trigger])\n",
    "    baselineG    = np.mean(GolY[0:Trigger])\n",
    "    data = [(GolX), GolY-baselineG, SigY-baselineS]\n",
    "    np.savetxt(SPATH+NAME+'.txt',data)\n",
    "    #print(\"DONE!\")"
   ]
  },
  {
   "cell_type": "code",
   "execution_count": null,
   "metadata": {
    "collapsed": true
   },
   "outputs": [],
   "source": [
    "def FILE_SORTER(files):\n",
    "    FilesGold   = []\n",
    "    FilesSignal = []\n",
    "    for x in range(0,len(files)):\n",
    "        if int(files[x][1]) ==4 or int(files[x][1]) ==2:\n",
    "            FilesGold.append(files[x])\n",
    "        if int(files[x][1]) ==3 or int(files[x][1]) ==1:\n",
    "            FilesSignal.append(files[x])\n",
    "            \n",
    "    FilesGold.sort(); FilesSignal.sort()\n",
    "    return FilesGold, FilesSignal\n",
    "\n",
    "def MEAN_WAVEFORM(PATH,files):\n",
    "    #folders[F]+FilesSignal[0]\n",
    "    X, Y, info = readTrc(PATH+files[0])\n",
    "    Yvals = np.zeros(X.shape[0])\n",
    "    Xvals = np.zeros(Y.shape[0])\n",
    "    avg = 0\n",
    "    for w in range(0,len(files)):\n",
    "\n",
    "        X, Y, info = readTrc(PATH+files[w])\n",
    "        if Y.shape[0]==Yvals.shape[0] and X.shape[0]==Xvals.shape[0]:\n",
    "            Yvals += Y\n",
    "            Xvals += X\n",
    "            avg   += 1\n",
    "    MSigY = Yvals/avg\n",
    "    MSigX = Xvals/avg\n",
    "    return MSigX,MSigY\n",
    "\n",
    "def WAVEFORM_QUALITY(PATH,files,MEAN,CHI):\n",
    "    \n",
    "    X, Y, info = readTrc(PATH+files[0])\n",
    "    Yvals = np.zeros(X.shape[0])\n",
    "    Xvals = np.zeros(Y.shape[0])\n",
    "    avg = 0\n",
    "    #for w in range(0,1100):\n",
    "    for w in range(0,len(files)):\n",
    "\n",
    "        X, Y, info = readTrc(PATH+files[w])\n",
    "        if Y.shape[0]==Yvals.shape[0] and X.shape[0]==Xvals.shape[0]:\n",
    "            A = moving_average(MEAN,10)\n",
    "            B = moving_average(Y   ,10)\n",
    "            D = moving_average(X   ,10)\n",
    "            TriggerTime = find_nearest(D,0)\n",
    "            Trigger     = np.where(D==TriggerTime)[0][0]\n",
    "            As    = np.mean(A[0:Trigger])\n",
    "            Bs    = np.mean(B[0:Trigger])\n",
    "            \n",
    "            holder = ((A-As)-(B-Bs))**2\n",
    "            chi = np.sum(holder)*1e4\n",
    "            if chi <CHI:\n",
    "                Yvals += Y\n",
    "                Xvals += X\n",
    "                avg   += 1\n",
    "        SigY = Yvals/avg\n",
    "        SigX = Xvals/avg\n",
    "    return SigX,SigY"
   ]
  },
  {
   "cell_type": "code",
   "execution_count": null,
   "metadata": {
    "collapsed": true
   },
   "outputs": [],
   "source": [
    "FG,FS = FILE_SORTER(files)"
   ]
  },
  {
   "cell_type": "code",
   "execution_count": null,
   "metadata": {
    "collapsed": true
   },
   "outputs": [],
   "source": [
    "Mx,My = MEAN_WAVEFORM(folders[F],FG)"
   ]
  },
  {
   "cell_type": "code",
   "execution_count": null,
   "metadata": {
    "collapsed": true
   },
   "outputs": [],
   "source": [
    "FOLD = '100/'\n",
    "SPATH = '/Users/austinmcdonald/Desktop/XeAr/Data/'+FOLD\n",
    "PATH = '/Users/austinmcdonald/Desktop/XeAr/'+FOLD\n",
    "folders = glob.glob(PATH+\"*/\")\n",
    "folders.sort()\n",
    "#folders"
   ]
  },
  {
   "cell_type": "code",
   "execution_count": null,
   "metadata": {
    "collapsed": true
   },
   "outputs": [],
   "source": [
    "CHI = 1\n",
    "for F in range(0,len(folders)):\n",
    "#for F in [0]:\n",
    "    NAME = folders[F].split('/')[-2]\n",
    "    print(NAME)\n",
    "    files = os.listdir(folders[F])\n",
    "    FG,FS = FILE_SORTER(files)\n",
    "    Mx,MEAN = MEAN_WAVEFORM(folders[F],FG)\n",
    "    Gx,Gy = WAVEFORM_QUALITY(folders[F],FG,MEAN,CHI)\n",
    "    \n",
    "    Mx,MEAN = MEAN_WAVEFORM(folders[F],FS)\n",
    "    Sx,Sy = WAVEFORM_QUALITY(folders[F],FS,MEAN,CHI)\n",
    "    \n",
    "    TriggerTime = find_nearest(Sx,0)\n",
    "    Trigger     = np.where(Sx==TriggerTime)[0][0]\n",
    "    baselineS    = np.mean(Sy[0:Trigger])\n",
    "    baselineG    = np.mean(Sy[0:Trigger])\n",
    "    data = [Gx, Gy-baselineG, Sy-baselineS]\n",
    "    np.savetxt(SPATH+NAME+'.txt',data)"
   ]
  },
  {
   "cell_type": "code",
   "execution_count": null,
   "metadata": {
    "collapsed": true
   },
   "outputs": [],
   "source": []
  },
  {
   "cell_type": "code",
   "execution_count": null,
   "metadata": {
    "collapsed": true
   },
   "outputs": [],
   "source": []
  },
  {
   "cell_type": "code",
   "execution_count": null,
   "metadata": {
    "collapsed": true
   },
   "outputs": [],
   "source": []
  },
  {
   "cell_type": "code",
   "execution_count": null,
   "metadata": {
    "collapsed": true
   },
   "outputs": [],
   "source": []
  },
  {
   "cell_type": "code",
   "execution_count": null,
   "metadata": {
    "collapsed": true
   },
   "outputs": [],
   "source": []
  },
  {
   "cell_type": "code",
   "execution_count": null,
   "metadata": {
    "collapsed": true
   },
   "outputs": [],
   "source": []
  },
  {
   "cell_type": "code",
   "execution_count": null,
   "metadata": {
    "collapsed": true
   },
   "outputs": [],
   "source": [
    "plt.plot(Sx,Sy)"
   ]
  },
  {
   "cell_type": "code",
   "execution_count": null,
   "metadata": {
    "collapsed": true
   },
   "outputs": [],
   "source": []
  },
  {
   "cell_type": "code",
   "execution_count": null,
   "metadata": {
    "collapsed": true
   },
   "outputs": [],
   "source": []
  },
  {
   "cell_type": "code",
   "execution_count": null,
   "metadata": {
    "collapsed": true,
    "scrolled": true
   },
   "outputs": [],
   "source": [
    "EH = []\n",
    "CHI = 2\n",
    "#for F in range(0,len(folders)):\n",
    "for F in [0]:\n",
    "\n",
    "#print(folders[F])\n",
    "    NAME = '/Users/austinmcdonald/Desktop/XeAr/100/Xe-100_P-09_E-200/'.split('/')[-2]\n",
    "    print(NAME)\n",
    "    files = os.listdir('/Users/austinmcdonald/Desktop/XeAr/100/Xe-100_P-09_E-200/')\n",
    "    FG,FS = FILE_SORTER(files)\n",
    "    Mx,MEAN = MEAN_WAVEFORM('/Users/austinmcdonald/Desktop/XeAr/100/Xe-100_P-09_E-200/',FG)\n",
    "    \n",
    "    \n",
    "    \n",
    "    X, Y, info = readTrc('/Users/austinmcdonald/Desktop/XeAr/100/Xe-100_P-09_E-200/'+FG[1])\n",
    "    Yvals = np.zeros(X.shape[0])\n",
    "    Xvals = np.zeros(Y.shape[0])\n",
    "    avg = 0\n",
    "    #for w in range(0,1100):\n",
    "    for w in range(0,len(FS)):\n",
    "\n",
    "        X, Y, info = readTrc('/Users/austinmcdonald/Desktop/XeAr/100/Xe-100_P-09_E-200/'+FG[w])\n",
    "        if Y.shape[0]==Yvals.shape[0] and X.shape[0]==Xvals.shape[0]:\n",
    "            A = moving_average(MEAN,10)\n",
    "            B = moving_average(Y   ,10)\n",
    "            D = moving_average(X   ,10)\n",
    "            TriggerTime = find_nearest(D,0)\n",
    "            Trigger     = np.where(D==TriggerTime)[0][0]\n",
    "            As    = np.mean(A[0:Trigger])\n",
    "            Bs    = np.mean(B[0:Trigger])\n",
    "            \n",
    "            holder = ((A-As)-(B-Bs))**2\n",
    "            chi = np.sum(holder)*1e4\n",
    "            print(chi)\n",
    "            plt.figure(figsize=(6,6))\n",
    "            plt.plot(D,A-As)\n",
    "            plt.plot(D,B-Bs)\n",
    "            plt.show()\n",
    "        \n",
    "            EH.append(chi)\n",
    "\n",
    "            if chi <1:\n",
    "                mm.append(chi)\n",
    "                Yvals += Y\n",
    "                Xvals += X\n",
    "                avg   += 1\n",
    "        SigY = Yvals/avg\n",
    "        SigX = Xvals/avg\n",
    "            \n"
   ]
  },
  {
   "cell_type": "code",
   "execution_count": null,
   "metadata": {
    "collapsed": true
   },
   "outputs": [],
   "source": [
    "MEAN"
   ]
  },
  {
   "cell_type": "code",
   "execution_count": null,
   "metadata": {
    "collapsed": true
   },
   "outputs": [],
   "source": [
    "np.linspace(0,1,10)"
   ]
  },
  {
   "cell_type": "code",
   "execution_count": null,
   "metadata": {
    "collapsed": true
   },
   "outputs": [],
   "source": [
    "plt.hist(EH,bins=np.linspace(0,10,100))\n",
    "plt.show()"
   ]
  },
  {
   "cell_type": "code",
   "execution_count": null,
   "metadata": {
    "collapsed": true
   },
   "outputs": [],
   "source": [
    "plt.plot(SigX,SigY)\n",
    "plt.plot(Sx,Sy)"
   ]
  },
  {
   "cell_type": "code",
   "execution_count": null,
   "metadata": {
    "collapsed": true
   },
   "outputs": [],
   "source": []
  },
  {
   "cell_type": "code",
   "execution_count": null,
   "metadata": {
    "collapsed": true
   },
   "outputs": [],
   "source": []
  },
  {
   "cell_type": "code",
   "execution_count": null,
   "metadata": {
    "collapsed": true
   },
   "outputs": [],
   "source": []
  },
  {
   "cell_type": "code",
   "execution_count": null,
   "metadata": {
    "collapsed": true
   },
   "outputs": [],
   "source": []
  },
  {
   "cell_type": "code",
   "execution_count": null,
   "metadata": {
    "collapsed": true
   },
   "outputs": [],
   "source": []
  },
  {
   "cell_type": "code",
   "execution_count": null,
   "metadata": {
    "collapsed": true
   },
   "outputs": [],
   "source": []
  },
  {
   "cell_type": "code",
   "execution_count": null,
   "metadata": {
    "collapsed": true
   },
   "outputs": [],
   "source": []
  },
  {
   "cell_type": "code",
   "execution_count": null,
   "metadata": {
    "collapsed": true
   },
   "outputs": [],
   "source": []
  },
  {
   "cell_type": "code",
   "execution_count": null,
   "metadata": {
    "collapsed": true
   },
   "outputs": [],
   "source": []
  },
  {
   "cell_type": "code",
   "execution_count": null,
   "metadata": {
    "collapsed": true
   },
   "outputs": [],
   "source": []
  },
  {
   "cell_type": "code",
   "execution_count": null,
   "metadata": {
    "collapsed": true
   },
   "outputs": [],
   "source": []
  },
  {
   "cell_type": "code",
   "execution_count": null,
   "metadata": {
    "collapsed": true
   },
   "outputs": [],
   "source": []
  },
  {
   "cell_type": "code",
   "execution_count": null,
   "metadata": {
    "collapsed": true
   },
   "outputs": [],
   "source": []
  },
  {
   "cell_type": "code",
   "execution_count": null,
   "metadata": {
    "collapsed": true
   },
   "outputs": [],
   "source": []
  },
  {
   "cell_type": "code",
   "execution_count": null,
   "metadata": {
    "collapsed": true
   },
   "outputs": [],
   "source": []
  },
  {
   "cell_type": "code",
   "execution_count": null,
   "metadata": {
    "collapsed": true
   },
   "outputs": [],
   "source": []
  },
  {
   "cell_type": "code",
   "execution_count": null,
   "metadata": {
    "collapsed": true
   },
   "outputs": [],
   "source": []
  },
  {
   "cell_type": "code",
   "execution_count": null,
   "metadata": {
    "collapsed": true
   },
   "outputs": [],
   "source": []
  },
  {
   "cell_type": "code",
   "execution_count": null,
   "metadata": {
    "collapsed": true
   },
   "outputs": [],
   "source": []
  },
  {
   "cell_type": "code",
   "execution_count": null,
   "metadata": {
    "collapsed": true
   },
   "outputs": [],
   "source": []
  },
  {
   "cell_type": "code",
   "execution_count": null,
   "metadata": {
    "collapsed": true
   },
   "outputs": [],
   "source": []
  },
  {
   "cell_type": "code",
   "execution_count": null,
   "metadata": {
    "collapsed": true
   },
   "outputs": [],
   "source": []
  },
  {
   "cell_type": "code",
   "execution_count": null,
   "metadata": {
    "collapsed": true
   },
   "outputs": [],
   "source": []
  },
  {
   "cell_type": "code",
   "execution_count": null,
   "metadata": {
    "collapsed": true
   },
   "outputs": [],
   "source": []
  },
  {
   "cell_type": "code",
   "execution_count": null,
   "metadata": {
    "collapsed": true
   },
   "outputs": [],
   "source": []
  },
  {
   "cell_type": "code",
   "execution_count": null,
   "metadata": {
    "collapsed": true
   },
   "outputs": [],
   "source": []
  },
  {
   "cell_type": "code",
   "execution_count": null,
   "metadata": {
    "collapsed": true
   },
   "outputs": [],
   "source": []
  },
  {
   "cell_type": "code",
   "execution_count": null,
   "metadata": {
    "collapsed": true
   },
   "outputs": [],
   "source": []
  },
  {
   "cell_type": "code",
   "execution_count": null,
   "metadata": {
    "collapsed": true
   },
   "outputs": [],
   "source": []
  },
  {
   "cell_type": "code",
   "execution_count": null,
   "metadata": {
    "collapsed": true
   },
   "outputs": [],
   "source": []
  },
  {
   "cell_type": "code",
   "execution_count": null,
   "metadata": {
    "collapsed": true
   },
   "outputs": [],
   "source": []
  },
  {
   "cell_type": "code",
   "execution_count": null,
   "metadata": {
    "collapsed": true
   },
   "outputs": [],
   "source": []
  },
  {
   "cell_type": "code",
   "execution_count": null,
   "metadata": {
    "collapsed": true
   },
   "outputs": [],
   "source": []
  },
  {
   "cell_type": "code",
   "execution_count": null,
   "metadata": {
    "collapsed": true
   },
   "outputs": [],
   "source": []
  },
  {
   "cell_type": "code",
   "execution_count": null,
   "metadata": {
    "collapsed": true
   },
   "outputs": [],
   "source": []
  },
  {
   "cell_type": "code",
   "execution_count": null,
   "metadata": {
    "collapsed": true,
    "scrolled": true
   },
   "outputs": [],
   "source": [
    "eh = '/Users/austinmcdonald/Desktop/Xenon/100-2/Xe-100_P-11_E-100/C1electron00026.trc'\n",
    "X, Y, info = readTrc(eh)\n",
    "plt.plot(X,Y,color='g')\n"
   ]
  },
  {
   "cell_type": "code",
   "execution_count": null,
   "metadata": {
    "collapsed": true
   },
   "outputs": [],
   "source": [
    "TriggerTime = find_nearest(GolX,0)\n",
    "Trigger     = np.where(GolX==TriggerTime)[0][0]+35\n",
    "\n",
    "T2 = find_nearest(GolX,0.00125)\n",
    "T2 = np.where(GolX==T2)[0][0]\n",
    "plt.plot(GolX,GolY,color='g')\n",
    "plt.plot(SigX,SigY,color='r')\n",
    "plt.plot(GolX[Trigger:T2],GolY[Trigger:T2],color='k')\n",
    "#plt.xlim(-0.00001,0.00001)"
   ]
  },
  {
   "cell_type": "code",
   "execution_count": null,
   "metadata": {
    "collapsed": true
   },
   "outputs": [],
   "source": [
    "    TriggerTime = find_nearest(X,0)\n",
    "    Trigger     = np.where(X==TriggerTime)[0][0]+20"
   ]
  },
  {
   "cell_type": "code",
   "execution_count": null,
   "metadata": {
    "collapsed": true
   },
   "outputs": [],
   "source": [
    "Trigger"
   ]
  },
  {
   "cell_type": "code",
   "execution_count": null,
   "metadata": {
    "collapsed": true
   },
   "outputs": [],
   "source": [
    "T2"
   ]
  },
  {
   "cell_type": "code",
   "execution_count": null,
   "metadata": {
    "collapsed": true
   },
   "outputs": [],
   "source": [
    "[1034:7249]"
   ]
  },
  {
   "cell_type": "code",
   "execution_count": null,
   "metadata": {
    "collapsed": true
   },
   "outputs": [],
   "source": [
    "mm=[]\n",
    "F=-1\n",
    "files = os.listdir(folders[F])\n",
    "\n",
    "FilesGold   = []\n",
    "FilesSignal = []\n",
    "\n",
    "for x in range(0,len(files)):\n",
    "    if int(files[x][1]) ==4 or int(files[x][1]) ==2:\n",
    "        FilesGold.append(files[x])\n",
    "    if int(files[x][1]) ==3 or int(files[x][1]) ==1:\n",
    "        FilesSignal.append(files[x])\n",
    "\n",
    "X, Y, info = readTrc(folders[F]+FilesGold[0])\n",
    "\n",
    "Yvals = np.zeros(X.shape[0])\n",
    "Xvals = np.zeros(Y.shape[0])\n",
    "avg = 0\n",
    "for w in range(0,len(FilesSignal)):\n",
    "\n",
    "    X, Y, info = readTrc(folders[F]+FilesGold[w])\n",
    "\n",
    "    if Y.shape[0]==Yvals.shape[0] and X.shape[0]==Xvals.shape[0]:\n",
    "        Yvals += Y\n",
    "        Xvals += X\n",
    "        avg   += 1\n",
    "MSigY = Yvals/avg\n",
    "MSigX = Xvals/avg\n",
    "\n",
    "\n",
    "X, Y, info = readTrc(folders[F]+FilesGold[0])\n",
    "\n",
    "Yvals = np.zeros(X.shape[0])\n",
    "Xvals = np.zeros(Y.shape[0])\n",
    "avg = 0\n",
    "#for w in range(0,11):\n",
    "for w in range(0,len(FilesGold)):\n",
    "\n",
    "    X, Y, info = readTrc(folders[F]+FilesGold[w])\n",
    "\n",
    "    if Y.shape[0]==Yvals.shape[0] and X.shape[0]==Xvals.shape[0]:\n",
    "        CC = moving_average((MSigY-Y),1)\n",
    "        xx = moving_average(X,1)\n",
    "        EE = np.mean(CC)\n",
    "        chiH = (CC-EE)**2\n",
    "        chi = np.sum(chiH)*1000\n",
    "\n",
    "        #coefs = poly.polyfit(xx, CC, 1)\n",
    "        #ffit = poly.polyval(xx, coefs)\n",
    "        #chi = abs(chisquare(CC, f_exp=ffit)[0])\n",
    "        print(chi)\n",
    "  \n",
    "        plt.plot(xx,CC)\n",
    "        #plt.plot(xx,ffit)\n",
    "\n",
    "        plt.show()\n",
    "        mm.append(chi)\n",
    "        if chi <1:\n",
    "            #mm.append(chi)\n",
    "            Yvals += Y\n",
    "            Xvals += X\n",
    "            avg   += 1\n",
    "SigY = Yvals/avg\n",
    "SigX = Xvals/avg\n",
    "print(\"Sig avg\",avg)"
   ]
  },
  {
   "cell_type": "code",
   "execution_count": null,
   "metadata": {
    "collapsed": true
   },
   "outputs": [],
   "source": [
    "plt.hist(mm,bins=np.linspace(0,10,100))\n",
    "plt.show()"
   ]
  },
  {
   "cell_type": "code",
   "execution_count": null,
   "metadata": {
    "collapsed": true
   },
   "outputs": [],
   "source": [
    "plt.plot(SigX,SigY)\n",
    "#plt.plot(MSigX,MSigY)"
   ]
  },
  {
   "cell_type": "code",
   "execution_count": null,
   "metadata": {
    "collapsed": true
   },
   "outputs": [],
   "source": [
    "plt.plot(SigX,MSigY-SigY)\n",
    "#plt.plot(MSigX,MSigY)"
   ]
  },
  {
   "cell_type": "code",
   "execution_count": null,
   "metadata": {
    "collapsed": true
   },
   "outputs": [],
   "source": []
  },
  {
   "cell_type": "code",
   "execution_count": null,
   "metadata": {
    "collapsed": true
   },
   "outputs": [],
   "source": [
    "plt.plot(MSigX[Trigger:T2],MSigY[Trigger:T2])"
   ]
  },
  {
   "cell_type": "code",
   "execution_count": null,
   "metadata": {
    "collapsed": true
   },
   "outputs": [],
   "source": []
  },
  {
   "cell_type": "code",
   "execution_count": null,
   "metadata": {
    "collapsed": true
   },
   "outputs": [],
   "source": []
  },
  {
   "cell_type": "code",
   "execution_count": null,
   "metadata": {
    "collapsed": true
   },
   "outputs": [],
   "source": []
  },
  {
   "cell_type": "code",
   "execution_count": null,
   "metadata": {
    "collapsed": true
   },
   "outputs": [],
   "source": []
  },
  {
   "cell_type": "code",
   "execution_count": null,
   "metadata": {
    "collapsed": true
   },
   "outputs": [],
   "source": []
  },
  {
   "cell_type": "code",
   "execution_count": null,
   "metadata": {
    "collapsed": true
   },
   "outputs": [],
   "source": []
  },
  {
   "cell_type": "code",
   "execution_count": null,
   "metadata": {
    "collapsed": true
   },
   "outputs": [],
   "source": []
  },
  {
   "cell_type": "code",
   "execution_count": null,
   "metadata": {
    "collapsed": true
   },
   "outputs": [],
   "source": []
  },
  {
   "cell_type": "code",
   "execution_count": null,
   "metadata": {
    "collapsed": true
   },
   "outputs": [],
   "source": []
  },
  {
   "cell_type": "code",
   "execution_count": null,
   "metadata": {
    "collapsed": true
   },
   "outputs": [],
   "source": []
  },
  {
   "cell_type": "code",
   "execution_count": null,
   "metadata": {
    "collapsed": true
   },
   "outputs": [],
   "source": []
  },
  {
   "cell_type": "code",
   "execution_count": null,
   "metadata": {
    "collapsed": true
   },
   "outputs": [],
   "source": []
  },
  {
   "cell_type": "code",
   "execution_count": null,
   "metadata": {
    "collapsed": true
   },
   "outputs": [],
   "source": [
    "from scipy import stats\n",
    "from scipy.stats import chisquare\n",
    "import numpy.polynomial.polynomial as poly\n",
    "\n",
    "#slope, intercept, r_value, p_value, std_err = stats.linregress(x,y)"
   ]
  },
  {
   "cell_type": "code",
   "execution_count": null,
   "metadata": {
    "collapsed": true
   },
   "outputs": [],
   "source": [
    "import numpy.polynomial.polynomial as poly\n",
    "\n",
    "#coefs = poly.polyfit(x, y, 4)\n",
    "#ffit = poly.polyval(x_new, coefs)"
   ]
  },
  {
   "cell_type": "code",
   "execution_count": null,
   "metadata": {
    "collapsed": true
   },
   "outputs": [],
   "source": [
    "F=-1   #print(folders[F])\n",
    "NAME = folders[F].split('/')[-2]\n",
    "NAME"
   ]
  },
  {
   "cell_type": "code",
   "execution_count": null,
   "metadata": {
    "collapsed": true
   },
   "outputs": [],
   "source": []
  },
  {
   "cell_type": "code",
   "execution_count": null,
   "metadata": {
    "collapsed": true,
    "scrolled": true
   },
   "outputs": [],
   "source": [
    "F = 3\n",
    "files = os.listdir(folders[F])\n",
    "\n",
    "FilesGold   = []\n",
    "FilesSignal = []\n",
    "\n",
    "for x in range(0,len(files)):\n",
    "    if int(files[x][1]) ==4 or int(files[x][1]) ==2:\n",
    "        FilesGold.append(files[x])\n",
    "    if int(files[x][1]) ==3 or int(files[x][1]) ==1:\n",
    "        FilesSignal.append(files[x])\n",
    "mm=[]\n",
    "\n",
    "X, Y, info = readTrc(folders[F]+FilesGold[0])\n",
    "\n",
    "\n",
    "\n",
    "\n",
    "avg = 0\n",
    "for w in range(0,len(FilesGold)):\n",
    "\n",
    "    X, Y, info = readTrc(folders[F]+FilesGold[w])\n",
    "    if Y.shape[0]==Yvals.shape[0] and X.shape[0]==Xvals.shape[0]:\n",
    "        Yvals += Y\n",
    "        Xvals += X\n",
    "        avg   += 1\n",
    "MGolY = Yvals/avg\n",
    "MGolX = Xvals/avg\n",
    "\n",
    "\n",
    "X, Y, info = readTrc(folders[F]+FilesGold[0])  \n",
    "\n",
    "\n",
    "Yvals = np.zeros(X.shape[0])\n",
    "Xvals = np.zeros(Y.shape[0])\n",
    "avg = 0\n",
    "#for w in range(0,10):\n",
    "for w in range(0,len(FilesGold)):\n",
    "    X, Y, info = readTrc(folders[F]+FilesGold[w])\n",
    "    if Y.shape[0]==Yvals.shape[0] and X.shape[0]==Xvals.shape[0]:\n",
    "        CC = moving_average((MGolY-Y),50)\n",
    "        xx = moving_average(X,50)\n",
    "        coefs = poly.polyfit(xx, CC, 1)\n",
    "        ffit = poly.polyval(xx, coefs)\n",
    "        chi = abs(chisquare(CC, f_exp=ffit)[0])\n",
    "        print(chi)\n",
    "        plt.plot(xx,CC)\n",
    "        plt.plot(xx,ffit)\n",
    "        plt.show()\n",
    "        mm.append(chi)\n",
    "\n",
    "        if chi <0.5:\n",
    "            #mm.append(chi)\n",
    "            Yvals += Y\n",
    "            Xvals += X\n",
    "            avg   += 1\n",
    "GGolY = Yvals/avg\n",
    "GGolX = Xvals/avg"
   ]
  },
  {
   "cell_type": "code",
   "execution_count": null,
   "metadata": {
    "collapsed": true
   },
   "outputs": [],
   "source": [
    "avg"
   ]
  },
  {
   "cell_type": "code",
   "execution_count": null,
   "metadata": {
    "collapsed": true
   },
   "outputs": [],
   "source": [
    "plt.plot(GolX,GolY,alpha=0.4)\n",
    "plt.plot(GGolX,GGolY,color='r')\n"
   ]
  },
  {
   "cell_type": "code",
   "execution_count": null,
   "metadata": {
    "collapsed": true
   },
   "outputs": [],
   "source": [
    "plt.plot(GolX,GolY,alpha=0.4)\n"
   ]
  },
  {
   "cell_type": "code",
   "execution_count": null,
   "metadata": {
    "collapsed": true
   },
   "outputs": [],
   "source": [
    "#SSigX3 =SSigX\n",
    "#SSigY3 =SSigY\n",
    "\n",
    "plt.plot(SSigX,SSigY,color='r')\n",
    "\n",
    "plt.plot(SigX,SigY,alpha=0.4)\n"
   ]
  },
  {
   "cell_type": "code",
   "execution_count": null,
   "metadata": {
    "collapsed": true
   },
   "outputs": [],
   "source": [
    "plt.plot(SigX,SigY-Y)\n",
    "plt.plot(X,Y)"
   ]
  },
  {
   "cell_type": "code",
   "execution_count": null,
   "metadata": {
    "collapsed": true
   },
   "outputs": [],
   "source": [
    "np.linspace(0,10,100)"
   ]
  },
  {
   "cell_type": "code",
   "execution_count": null,
   "metadata": {
    "collapsed": true
   },
   "outputs": [],
   "source": []
  },
  {
   "cell_type": "code",
   "execution_count": null,
   "metadata": {
    "collapsed": true
   },
   "outputs": [],
   "source": [
    "plt.hist(mm,bins=np.linspace(0,10,100))\n",
    "plt.show()"
   ]
  },
  {
   "cell_type": "code",
   "execution_count": null,
   "metadata": {
    "collapsed": true
   },
   "outputs": [],
   "source": []
  },
  {
   "cell_type": "code",
   "execution_count": null,
   "metadata": {
    "collapsed": true
   },
   "outputs": [],
   "source": []
  },
  {
   "cell_type": "code",
   "execution_count": null,
   "metadata": {
    "collapsed": true
   },
   "outputs": [],
   "source": [
    "mm"
   ]
  },
  {
   "cell_type": "code",
   "execution_count": null,
   "metadata": {
    "collapsed": true
   },
   "outputs": [],
   "source": []
  },
  {
   "cell_type": "code",
   "execution_count": null,
   "metadata": {
    "collapsed": true
   },
   "outputs": [],
   "source": []
  },
  {
   "cell_type": "code",
   "execution_count": null,
   "metadata": {
    "collapsed": true
   },
   "outputs": [],
   "source": []
  },
  {
   "cell_type": "code",
   "execution_count": null,
   "metadata": {
    "collapsed": true
   },
   "outputs": [],
   "source": []
  },
  {
   "cell_type": "code",
   "execution_count": null,
   "metadata": {
    "collapsed": true
   },
   "outputs": [],
   "source": []
  },
  {
   "cell_type": "code",
   "execution_count": null,
   "metadata": {
    "collapsed": true
   },
   "outputs": [],
   "source": []
  },
  {
   "cell_type": "code",
   "execution_count": null,
   "metadata": {
    "collapsed": true
   },
   "outputs": [],
   "source": []
  },
  {
   "cell_type": "code",
   "execution_count": null,
   "metadata": {
    "collapsed": true
   },
   "outputs": [],
   "source": [
    "AH = 3\n",
    "files = os.listdir(folders[AH])\n",
    "len(files)"
   ]
  },
  {
   "cell_type": "code",
   "execution_count": null,
   "metadata": {
    "collapsed": true
   },
   "outputs": [],
   "source": [
    "FilesGold   = []\n",
    "FilesSignal = []\n",
    "\n",
    "for x in range(0,len(files)):\n",
    "    if int(files[x][1]) ==4 or int(files[x][1]) ==2:\n",
    "        FilesGold.append(files[x])\n",
    "    if int(files[x][1]) ==3 or int(files[x][1]) ==1:\n",
    "        FilesSignal.append(files[x])"
   ]
  },
  {
   "cell_type": "code",
   "execution_count": null,
   "metadata": {
    "collapsed": true
   },
   "outputs": [],
   "source": []
  },
  {
   "cell_type": "code",
   "execution_count": null,
   "metadata": {
    "collapsed": true
   },
   "outputs": [],
   "source": []
  },
  {
   "cell_type": "code",
   "execution_count": null,
   "metadata": {
    "collapsed": true
   },
   "outputs": [],
   "source": []
  },
  {
   "cell_type": "code",
   "execution_count": null,
   "metadata": {
    "collapsed": true
   },
   "outputs": [],
   "source": []
  },
  {
   "cell_type": "code",
   "execution_count": null,
   "metadata": {
    "collapsed": true
   },
   "outputs": [],
   "source": [
    "X, Y, info = readTrc(folders[AH]+FilesSignal[0])\n",
    "\n",
    "Yvals = np.zeros(X.shape[0])\n",
    "Xvals = np.zeros(Y.shape[0])\n",
    "avg = 0\n",
    "#for w in range(0,1100):\n",
    "for w in range(0,len(FilesSignal)):\n",
    "\n",
    "    X, Y, info = readTrc(folders[AH]+FilesSignal[w])\n",
    "    if Y.shape[0]==Yvals.shape[0] and X.shape[0]==Xvals.shape[0]:\n",
    "        Yvals += Y\n",
    "        Xvals += X\n",
    "        avg   += 1\n",
    "SigY = Yvals/avg\n",
    "SigX = Xvals/avg\n",
    "\n",
    "X, Y, info = readTrc(folders[AH]+FilesGold[0])\n",
    "\n",
    "Yvals = np.zeros(X.shape[0])\n",
    "Xvals = np.zeros(Y.shape[0])\n",
    "avg = 0\n",
    "#for w in range(0,1100):\n",
    "for w in range(0,len(FilesGold)):\n",
    "    X, Y, info = readTrc(folders[AH]+FilesGold[w])\n",
    "    if Y.shape[0]==Yvals.shape[0] and X.shape[0]==Xvals.shape[0]:\n",
    "        Yvals += Y\n",
    "        Xvals += X\n",
    "        avg   += 1\n",
    "GolY = Yvals/avg\n",
    "GolX = Xvals/avg"
   ]
  },
  {
   "cell_type": "code",
   "execution_count": null,
   "metadata": {
    "collapsed": true
   },
   "outputs": [],
   "source": [
    "TriggerTime = find_nearest(SigX,0)\n",
    "Trigger     = np.where(SigX==TriggerTime)[0][0]\n",
    "baselineS    = np.mean(SigY[0:Trigger])\n",
    "baselineG    = np.mean(GolY[0:Trigger])\n",
    "data = [GolX, GolY-baselineG, SigY-baselineS]\n",
    "np.savetxt(PATH+\"test\"+'.txt',data)"
   ]
  },
  {
   "cell_type": "code",
   "execution_count": null,
   "metadata": {
    "collapsed": true
   },
   "outputs": [],
   "source": [
    "plt.plot(GolX,SigY-baselineS+0.001)\n",
    "plt.plot(GolX,GolY-baselineG)"
   ]
  },
  {
   "cell_type": "code",
   "execution_count": null,
   "metadata": {
    "collapsed": true
   },
   "outputs": [],
   "source": []
  },
  {
   "cell_type": "code",
   "execution_count": null,
   "metadata": {
    "collapsed": true
   },
   "outputs": [],
   "source": [
    "AH = 3\n",
    "Fold = folders[AH].split('/')[-2]\n",
    "cut = Fold+'/'\n",
    "\n",
    "\n",
    "\n",
    "files = os.listdir(folders[AH])\n",
    "#files.remove('.DS_Store')\n",
    "int(files[4][1])"
   ]
  },
  {
   "cell_type": "code",
   "execution_count": null,
   "metadata": {
    "collapsed": true
   },
   "outputs": [],
   "source": [
    "Fold"
   ]
  },
  {
   "cell_type": "code",
   "execution_count": null,
   "metadata": {
    "collapsed": true
   },
   "outputs": [],
   "source": []
  },
  {
   "cell_type": "code",
   "execution_count": null,
   "metadata": {
    "collapsed": true
   },
   "outputs": [],
   "source": [
    "FilesGold   = []\n",
    "FilesSignal = []\n",
    "\n",
    "for x in range(0,len(files)):\n",
    "    if int(files[x][1]) ==4 or int(files[x][1]) ==2:\n",
    "        FilesGold.append(files[x])\n",
    "    if int(files[x][1]) ==3 or int(files[x][1]) ==1:\n",
    "        FilesSignal.append(files[x])"
   ]
  },
  {
   "cell_type": "code",
   "execution_count": null,
   "metadata": {
    "collapsed": true
   },
   "outputs": [],
   "source": []
  },
  {
   "cell_type": "code",
   "execution_count": null,
   "metadata": {
    "collapsed": true
   },
   "outputs": [],
   "source": []
  },
  {
   "cell_type": "code",
   "execution_count": null,
   "metadata": {
    "collapsed": true
   },
   "outputs": [],
   "source": [
    "X, Y, info = readTrc(folders[AH]+FilesSignal[0])\n",
    "\n",
    "Yvals = np.zeros(X.shape[0])\n",
    "Xvals = np.zeros(Y.shape[0])\n",
    "avg = 0\n",
    "#for w in range(0,1100):\n",
    "for w in range(0,len(FilesSignal)):\n",
    "\n",
    "    X, Y, info = readTrc(folders[AH]+FilesSignal[w])\n",
    "    if Y.shape[0]==Yvals.shape[0] and X.shape[0]==Xvals.shape[0]:\n",
    "        Yvals += Y\n",
    "        Xvals += X\n",
    "        avg   += 1\n",
    "SigY = Yvals/avg\n",
    "SigX = Xvals/avg"
   ]
  },
  {
   "cell_type": "code",
   "execution_count": null,
   "metadata": {
    "collapsed": true
   },
   "outputs": [],
   "source": []
  },
  {
   "cell_type": "code",
   "execution_count": null,
   "metadata": {
    "collapsed": true
   },
   "outputs": [],
   "source": []
  },
  {
   "cell_type": "code",
   "execution_count": null,
   "metadata": {
    "collapsed": true
   },
   "outputs": [],
   "source": [
    "avg"
   ]
  },
  {
   "cell_type": "code",
   "execution_count": null,
   "metadata": {
    "collapsed": true
   },
   "outputs": [],
   "source": [
    "TriggerTime = find_nearest(SigX,0)\n",
    "Trigger     = np.where(SigX==TriggerTime)[0][0]\n",
    "baseline    = np.mean(SigY[0:Trigger])\n",
    "data = [SigX,SigY-baseline]\n",
    "np.savetxt('/Users/austinmcdonald/Desktop/Xenon-11bar-test/'+\"Sig-\"+Fold+'.txt',data)"
   ]
  },
  {
   "cell_type": "code",
   "execution_count": null,
   "metadata": {
    "collapsed": true
   },
   "outputs": [],
   "source": []
  },
  {
   "cell_type": "code",
   "execution_count": null,
   "metadata": {
    "collapsed": true
   },
   "outputs": [],
   "source": []
  },
  {
   "cell_type": "code",
   "execution_count": null,
   "metadata": {
    "collapsed": true
   },
   "outputs": [],
   "source": [
    "X, Y, info = readTrc(folders[AH]+FilesGold[1])\n",
    "\n",
    "Yvals = np.zeros(X.shape[0])\n",
    "Xvals = np.zeros(Y.shape[0])\n",
    "avg = 0\n",
    "#for w in range(0,1100):\n",
    "for w in range(0,len(FilesGold)):\n",
    "    X, Y, info = readTrc(folders[AH]+FilesGold[w])\n",
    "    if Y.shape[0]==Yvals.shape[0] and X.shape[0]==Xvals.shape[0]:\n",
    "        Yvals += Y\n",
    "        Xvals += X\n",
    "        avg   += 1\n",
    "GolY = Yvals/avg\n",
    "GolX = Xvals/avg"
   ]
  },
  {
   "cell_type": "code",
   "execution_count": null,
   "metadata": {
    "collapsed": true
   },
   "outputs": [],
   "source": [
    "avg"
   ]
  },
  {
   "cell_type": "code",
   "execution_count": null,
   "metadata": {
    "collapsed": true
   },
   "outputs": [],
   "source": [
    "TriggerTime = find_nearest(GolX,0)\n",
    "Trigger     = np.where(GolX==TriggerTime)[0][0]\n",
    "baseline    = np.mean(GolY[0:Trigger])\n",
    "data = [GolX,GolY-baseline]\n",
    "np.savetxt('/Users/austinmcdonald/Desktop/Xenon-11bar-test/'+\"Gol-\"+Fold+'.txt',data)"
   ]
  },
  {
   "cell_type": "code",
   "execution_count": null,
   "metadata": {
    "collapsed": true
   },
   "outputs": [],
   "source": []
  },
  {
   "cell_type": "code",
   "execution_count": null,
   "metadata": {
    "collapsed": true
   },
   "outputs": [],
   "source": []
  },
  {
   "cell_type": "code",
   "execution_count": null,
   "metadata": {
    "collapsed": true
   },
   "outputs": [],
   "source": []
  },
  {
   "cell_type": "code",
   "execution_count": null,
   "metadata": {
    "collapsed": true
   },
   "outputs": [],
   "source": []
  },
  {
   "cell_type": "code",
   "execution_count": null,
   "metadata": {
    "collapsed": true
   },
   "outputs": [],
   "source": []
  },
  {
   "cell_type": "code",
   "execution_count": null,
   "metadata": {
    "collapsed": true
   },
   "outputs": [],
   "source": []
  },
  {
   "cell_type": "code",
   "execution_count": null,
   "metadata": {
    "collapsed": true
   },
   "outputs": [],
   "source": []
  },
  {
   "cell_type": "code",
   "execution_count": null,
   "metadata": {
    "collapsed": true
   },
   "outputs": [],
   "source": []
  },
  {
   "cell_type": "code",
   "execution_count": null,
   "metadata": {
    "collapsed": true
   },
   "outputs": [],
   "source": []
  },
  {
   "cell_type": "code",
   "execution_count": null,
   "metadata": {
    "collapsed": true
   },
   "outputs": [],
   "source": []
  },
  {
   "cell_type": "code",
   "execution_count": null,
   "metadata": {
    "collapsed": true
   },
   "outputs": [],
   "source": []
  },
  {
   "cell_type": "code",
   "execution_count": null,
   "metadata": {
    "collapsed": true
   },
   "outputs": [],
   "source": []
  },
  {
   "cell_type": "code",
   "execution_count": null,
   "metadata": {
    "collapsed": true
   },
   "outputs": [],
   "source": []
  },
  {
   "cell_type": "code",
   "execution_count": null,
   "metadata": {
    "collapsed": true
   },
   "outputs": [],
   "source": []
  },
  {
   "cell_type": "code",
   "execution_count": null,
   "metadata": {
    "collapsed": true
   },
   "outputs": [],
   "source": []
  },
  {
   "cell_type": "code",
   "execution_count": null,
   "metadata": {
    "collapsed": true
   },
   "outputs": [],
   "source": []
  },
  {
   "cell_type": "code",
   "execution_count": null,
   "metadata": {
    "collapsed": true
   },
   "outputs": [],
   "source": []
  },
  {
   "cell_type": "code",
   "execution_count": null,
   "metadata": {
    "collapsed": true
   },
   "outputs": [],
   "source": []
  },
  {
   "cell_type": "code",
   "execution_count": null,
   "metadata": {
    "collapsed": true
   },
   "outputs": [],
   "source": []
  },
  {
   "cell_type": "code",
   "execution_count": null,
   "metadata": {
    "collapsed": true
   },
   "outputs": [],
   "source": []
  },
  {
   "cell_type": "code",
   "execution_count": null,
   "metadata": {
    "collapsed": true
   },
   "outputs": [],
   "source": []
  },
  {
   "cell_type": "code",
   "execution_count": null,
   "metadata": {
    "collapsed": true
   },
   "outputs": [],
   "source": []
  },
  {
   "cell_type": "code",
   "execution_count": null,
   "metadata": {
    "collapsed": true
   },
   "outputs": [],
   "source": []
  },
  {
   "cell_type": "code",
   "execution_count": null,
   "metadata": {
    "collapsed": true
   },
   "outputs": [],
   "source": []
  },
  {
   "cell_type": "code",
   "execution_count": null,
   "metadata": {
    "collapsed": true
   },
   "outputs": [],
   "source": []
  },
  {
   "cell_type": "code",
   "execution_count": null,
   "metadata": {
    "collapsed": true
   },
   "outputs": [],
   "source": []
  },
  {
   "cell_type": "code",
   "execution_count": null,
   "metadata": {
    "collapsed": true
   },
   "outputs": [],
   "source": [
    "for q in range(3,4):\n",
    "    files = os.listdir(folders[q])\n",
    "    Name = folders[q].split('/')[-2]\n",
    "    N = len(files)\n",
    "    \n",
    "    X, Y, info = readTrc(folders[q]+files[0])\n",
    "    \n",
    "    Yvals = np.zeros(X.shape[0])\n",
    "    Xvals = np.zeros(Y.shape[0])\n",
    "    avg = 0\n",
    "    for w in range(0,N):\n",
    "        X, Y, info = readTrc(folders[q]+files[w])\n",
    "        if Y.shape[0]==Yvals.shape[0] and X.shape[0]==Xvals.shape[0]:\n",
    "            Yvals += Y\n",
    "            Xvals += X\n",
    "            avg   += 1\n",
    "    Yvals = Yvals/avg\n",
    "    Xvals = Xvals/avg\n",
    "    TriggerTime = find_nearest(Xvals,0)\n",
    "    Trigger     = np.where(Xvals==TriggerTime)[0][0]\n",
    "    baseline    = np.mean(Yvals[0:Trigger])\n",
    "    data = [Xvals,Yvals-baseline]\n",
    "    np.savetxt(PATH+Name+'.txt',data)\n",
    "    \n",
    "    "
   ]
  },
  {
   "cell_type": "code",
   "execution_count": null,
   "metadata": {
    "collapsed": true
   },
   "outputs": [],
   "source": []
  },
  {
   "cell_type": "code",
   "execution_count": null,
   "metadata": {
    "collapsed": true
   },
   "outputs": [],
   "source": []
  },
  {
   "cell_type": "code",
   "execution_count": null,
   "metadata": {
    "collapsed": true
   },
   "outputs": [],
   "source": []
  },
  {
   "cell_type": "code",
   "execution_count": null,
   "metadata": {
    "collapsed": true
   },
   "outputs": [],
   "source": [
    "Yvals"
   ]
  },
  {
   "cell_type": "code",
   "execution_count": null,
   "metadata": {
    "collapsed": true
   },
   "outputs": [],
   "source": []
  },
  {
   "cell_type": "code",
   "execution_count": null,
   "metadata": {
    "collapsed": true
   },
   "outputs": [],
   "source": []
  },
  {
   "cell_type": "code",
   "execution_count": null,
   "metadata": {
    "collapsed": true
   },
   "outputs": [],
   "source": []
  },
  {
   "cell_type": "code",
   "execution_count": null,
   "metadata": {
    "collapsed": true
   },
   "outputs": [],
   "source": [
    "files = os.listdir()\n",
    "#files.remove('.DS_Store')\n"
   ]
  },
  {
   "cell_type": "code",
   "execution_count": null,
   "metadata": {
    "collapsed": true
   },
   "outputs": [],
   "source": [
    "len(files)"
   ]
  },
  {
   "cell_type": "code",
   "execution_count": null,
   "metadata": {
    "collapsed": true
   },
   "outputs": [],
   "source": [
    "N = len(files)\n",
    "Yvals = np.zeros(50e3+2)\n",
    "Xvals = np.zeros(50e3+2)\n",
    "\n",
    "for q in range(0,N):\n",
    "    X, Y, info = readTrc(files[q])\n",
    "    #Y = np.array(Y)\n",
    "    Yvals += Y\n",
    "    Xvals +=X\n",
    "Yvals = Yvals/N\n",
    "Xvals = Xvals/N"
   ]
  },
  {
   "cell_type": "code",
   "execution_count": null,
   "metadata": {
    "collapsed": true
   },
   "outputs": [],
   "source": [
    "find_nearest(Xvals,0)"
   ]
  },
  {
   "cell_type": "code",
   "execution_count": null,
   "metadata": {
    "collapsed": true
   },
   "outputs": [],
   "source": [
    "TriggerTime = find_nearest(Xvals,0)\n",
    "Trigger     = np.where(Xvals==TriggerTime)[0][0]\n",
    "baseline    = np.mean(Yvals[0:Trigger])\n",
    "baseline"
   ]
  },
  {
   "cell_type": "code",
   "execution_count": null,
   "metadata": {
    "collapsed": true
   },
   "outputs": [],
   "source": []
  },
  {
   "cell_type": "code",
   "execution_count": null,
   "metadata": {
    "collapsed": true
   },
   "outputs": [],
   "source": [
    "plt.plot(Xvals,Yvals-baseline)"
   ]
  },
  {
   "cell_type": "code",
   "execution_count": null,
   "metadata": {
    "collapsed": true
   },
   "outputs": [],
   "source": [
    "data = [Xvals,Yvals-baseline]"
   ]
  },
  {
   "cell_type": "code",
   "execution_count": null,
   "metadata": {
    "collapsed": true
   },
   "outputs": [],
   "source": [
    "path = '/Users/austinmcdonald/Desktop/data/Ion-stuff/Ion mobilitys/Argon/090418-cleaned-2bar/'\n",
    "np.savetxt(path+'050-clean.txt',data)"
   ]
  },
  {
   "cell_type": "code",
   "execution_count": null,
   "metadata": {
    "collapsed": true
   },
   "outputs": [],
   "source": []
  },
  {
   "cell_type": "code",
   "execution_count": null,
   "metadata": {
    "collapsed": true
   },
   "outputs": [],
   "source": []
  },
  {
   "cell_type": "code",
   "execution_count": null,
   "metadata": {
    "collapsed": true
   },
   "outputs": [],
   "source": []
  },
  {
   "cell_type": "code",
   "execution_count": null,
   "metadata": {
    "collapsed": true
   },
   "outputs": [],
   "source": [
    "AA = np.loadtxt(path+'200clean.txt')\n"
   ]
  },
  {
   "cell_type": "code",
   "execution_count": null,
   "metadata": {
    "collapsed": true
   },
   "outputs": [],
   "source": []
  },
  {
   "cell_type": "code",
   "execution_count": null,
   "metadata": {
    "collapsed": true
   },
   "outputs": [],
   "source": []
  },
  {
   "cell_type": "code",
   "execution_count": null,
   "metadata": {
    "collapsed": true
   },
   "outputs": [],
   "source": []
  }
 ],
 "metadata": {
  "anaconda-cloud": {},
  "kernelspec": {
   "display_name": "Python 3",
   "language": "python",
   "name": "python3"
  },
  "language_info": {
   "codemirror_mode": {
    "name": "ipython",
    "version": 3
   },
   "file_extension": ".py",
   "mimetype": "text/x-python",
   "name": "python",
   "nbconvert_exporter": "python",
   "pygments_lexer": "ipython3",
   "version": "3.6.7"
  }
 },
 "nbformat": 4,
 "nbformat_minor": 1
}
