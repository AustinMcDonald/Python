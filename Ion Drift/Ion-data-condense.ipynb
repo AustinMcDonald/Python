{
 "cells": [
  {
   "cell_type": "code",
   "execution_count": 2,
   "metadata": {
    "collapsed": true
   },
   "outputs": [],
   "source": [
    "import numpy as np\n",
    "import glob\n",
    "import os\n",
    "%matplotlib inline\n",
    "from readTRC import readTrc"
   ]
  },
  {
   "cell_type": "code",
   "execution_count": 3,
   "metadata": {
    "collapsed": true
   },
   "outputs": [],
   "source": [
    "def find_nearest(array,value):\n",
    "    idx = (np.abs(array-value)).argmin()\n",
    "    return array[idx]"
   ]
  },
  {
   "cell_type": "code",
   "execution_count": null,
   "metadata": {
    "collapsed": true
   },
   "outputs": [],
   "source": []
  },
  {
   "cell_type": "code",
   "execution_count": 6,
   "metadata": {},
   "outputs": [
    {
     "data": {
      "text/plain": [
       "['/Users/austinmcdonald/Desktop/XenonIon/120318/300/',\n",
       " '/Users/austinmcdonald/Desktop/XenonIon/120318/250/',\n",
       " '/Users/austinmcdonald/Desktop/XenonIon/120318/400/',\n",
       " '/Users/austinmcdonald/Desktop/XenonIon/120318/350/',\n",
       " '/Users/austinmcdonald/Desktop/XenonIon/120318/200/']"
      ]
     },
     "execution_count": 6,
     "metadata": {},
     "output_type": "execute_result"
    }
   ],
   "source": [
    "PATH = '/Users/austinmcdonald/Desktop/XenonIon/120318/'\n",
    "folders = glob.glob(PATH+\"*/\")\n",
    "folders"
   ]
  },
  {
   "cell_type": "code",
   "execution_count": 7,
   "metadata": {},
   "outputs": [
    {
     "data": {
      "text/plain": [
       "'300'"
      ]
     },
     "execution_count": 7,
     "metadata": {},
     "output_type": "execute_result"
    }
   ],
   "source": [
    "folders[0].split('/')[-2]"
   ]
  },
  {
   "cell_type": "code",
   "execution_count": null,
   "metadata": {
    "collapsed": true
   },
   "outputs": [],
   "source": []
  },
  {
   "cell_type": "code",
   "execution_count": 8,
   "metadata": {
    "collapsed": true
   },
   "outputs": [],
   "source": [
    "for q in range(0,len(folders)):\n",
    "    files = os.listdir(folders[q])\n",
    "    Name = folders[q].split('/')[-2]\n",
    "    N = len(files)\n",
    "    \n",
    "    X, Y, info = readTrc(folders[q]+files[0])\n",
    "    \n",
    "    Yvals = np.zeros(X.shape[0])\n",
    "    Xvals = np.zeros(Y.shape[0])\n",
    "    avg = 0\n",
    "    for w in range(0,N):\n",
    "        X, Y, info = readTrc(folders[q]+files[w])\n",
    "        if Y.shape[0]==Yvals.shape[0] and X.shape[0]==Xvals.shape[0]:\n",
    "            Yvals += Y\n",
    "            Xvals += X\n",
    "            avg   += 1\n",
    "    Yvals = Yvals/avg\n",
    "    Xvals = Xvals/avg\n",
    "    TriggerTime = find_nearest(Xvals,0)\n",
    "    Trigger     = np.where(Xvals==TriggerTime)[0][0]\n",
    "    baseline    = np.mean(Yvals[0:Trigger])\n",
    "    data = [Xvals,Yvals-baseline]\n",
    "    np.savetxt(PATH+Name+'.txt',data)\n",
    "    \n",
    "    "
   ]
  },
  {
   "cell_type": "code",
   "execution_count": null,
   "metadata": {
    "collapsed": true
   },
   "outputs": [],
   "source": []
  },
  {
   "cell_type": "code",
   "execution_count": null,
   "metadata": {
    "collapsed": true
   },
   "outputs": [],
   "source": []
  },
  {
   "cell_type": "code",
   "execution_count": null,
   "metadata": {
    "collapsed": true
   },
   "outputs": [],
   "source": []
  },
  {
   "cell_type": "code",
   "execution_count": null,
   "metadata": {
    "collapsed": true
   },
   "outputs": [],
   "source": []
  }
 ],
 "metadata": {
  "anaconda-cloud": {},
  "kernelspec": {
   "display_name": "Python 3",
   "language": "python",
   "name": "python3"
  },
  "language_info": {
   "codemirror_mode": {
    "name": "ipython",
    "version": 3
   },
   "file_extension": ".py",
   "mimetype": "text/x-python",
   "name": "python",
   "nbconvert_exporter": "python",
   "pygments_lexer": "ipython3",
   "version": "3.6.7"
  }
 },
 "nbformat": 4,
 "nbformat_minor": 1
}
