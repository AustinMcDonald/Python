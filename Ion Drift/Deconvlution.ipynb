{
 "cells": [
  {
   "cell_type": "code",
   "execution_count": 121,
   "metadata": {
    "collapsed": true
   },
   "outputs": [],
   "source": [
    "import numpy as np\n",
    "import matplotlib.pyplot as plt\n",
    "from scipy import signal\n",
    "%matplotlib inline\n",
    "\n",
    "\n",
    "import csv\n",
    "import matplotlib.mlab as mlab\n",
    "import os\n",
    "import glob\n",
    "%matplotlib inline\n",
    "from scipy.optimize import curve_fit\n",
    "from scipy.signal import savgol_filter\n",
    "from readTRC import readTrc\n",
    "from scipy.fftpack import rfft, irfft, fftfreq"
   ]
  },
  {
   "cell_type": "code",
   "execution_count": 4,
   "metadata": {
    "collapsed": true
   },
   "outputs": [],
   "source": [
    "def find_nearest(array,value):\n",
    "    idx = (np.abs(array-value)).argmin()\n",
    "    return array[idx]\n",
    "\n",
    "def find_vals(X,Y,cut):\n",
    "    dataX = X[cut:]\n",
    "    dataY = Y[cut:]\n",
    "    minn = min(dataY)\n",
    "    sig_val = minn*0.5\n",
    "    MeanLoc = np.where(dataY==minn)[0][0]\n",
    "    Mean = dataX[MeanLoc]\n",
    "    L = dataY[0:MeanLoc]\n",
    "    R = dataY[MeanLoc:len(dataY)]\n",
    "    LP =find_nearest(L,sig_val)\n",
    "    RP =find_nearest(R,sig_val)\n",
    "    whereL = np.where(L==LP)[0][0]\n",
    "    whereR = np.where(R==RP)[0][0]\n",
    "    Lpoint = dataX[whereL]\n",
    "    Rpoint = dataX[MeanLoc+whereR]\n",
    "    FWHM = (Rpoint-Lpoint)   \n",
    "    return (Mean,FWHM)\n",
    "\n",
    "def moving_average(a, n=3) :\n",
    "    ret = np.cumsum(a, dtype=float)\n",
    "    ret[n:] = ret[n:] - ret[:-n]\n",
    "    return ret[n - 1:] / n"
   ]
  },
  {
   "cell_type": "code",
   "execution_count": 5,
   "metadata": {},
   "outputs": [
    {
     "name": "stdout",
     "output_type": "stream",
     "text": [
      "/Users/austinmcdonald/Desktop/data/Ion-stuff/Ion mobilitys/Argon/090518-125-3bar-highstat\n"
     ]
    }
   ],
   "source": [
    "cd /Users/austinmcdonald/Desktop/data/Ion-stuff/Ion mobilitys/Argon/090518-125-3bar-highstat"
   ]
  },
  {
   "cell_type": "code",
   "execution_count": 6,
   "metadata": {},
   "outputs": [
    {
     "data": {
      "text/plain": [
       "['ColdGetter.txt', 'HotGetter-2.txt', 'HotGetter.txt']"
      ]
     },
     "execution_count": 6,
     "metadata": {},
     "output_type": "execute_result"
    }
   ],
   "source": [
    "#PATH = '/Users/austinmcdonald/Desktop/data/Ion-stuff/Ion mobilitys/Argon/090418-cleaned-2bar/'\n",
    "files = glob.glob('*.txt')\n",
    "#files.remove('.DS_Store')\n",
    "files.sort()\n",
    "files"
   ]
  },
  {
   "cell_type": "code",
   "execution_count": 7,
   "metadata": {
    "collapsed": true
   },
   "outputs": [],
   "source": [
    "ml = 1e3\n",
    "Hold = np.loadtxt('ColdGetter.txt')\n",
    "Xcold = Hold[0]*ml\n",
    "Ycold = Hold[1]*ml\n",
    "\n",
    "Hold = np.loadtxt('HotGetter-2.txt')\n",
    "Xhot = Hold[0]*ml\n",
    "Yhot = Hold[1]*ml\n"
   ]
  },
  {
   "cell_type": "code",
   "execution_count": 8,
   "metadata": {},
   "outputs": [
    {
     "data": {
      "text/plain": [
       "[<matplotlib.lines.Line2D at 0x11e72d550>]"
      ]
     },
     "execution_count": 8,
     "metadata": {},
     "output_type": "execute_result"
    },
    {
     "data": {
      "image/png": "[encoded data removed]",
      "text/plain": [
       "<matplotlib.figure.Figure at 0x11b561400>"
      ]
     },
     "metadata": {},
     "output_type": "display_data"
    }
   ],
   "source": [
    "plt.plot(Xhot,Yhot,color='steelblue',linewidth=2)"
   ]
  },
  {
   "cell_type": "code",
   "execution_count": null,
   "metadata": {
    "collapsed": true
   },
   "outputs": [],
   "source": []
  },
  {
   "cell_type": "code",
   "execution_count": null,
   "metadata": {
    "collapsed": true
   },
   "outputs": [],
   "source": []
  },
  {
   "cell_type": "code",
   "execution_count": 9,
   "metadata": {},
   "outputs": [
    {
     "data": {
      "text/plain": [
       "2391.5"
      ]
     },
     "execution_count": 9,
     "metadata": {},
     "output_type": "execute_result"
    }
   ],
   "source": [
    "TriggerTime = find_nearest(Xhot,0)\n",
    "Trigger     = np.where(Xhot==TriggerTime)[0][0]\n",
    "Cut = Trigger+100\n",
    "\n",
    "minPulseHold = find_nearest(Yhot,min(Yhot[2*Cut:]))\n",
    "minPulse     = np.where(Yhot==minPulseHold)[0][0]\n",
    "\n",
    "eh = Cut + (minPulse-Cut)/2\n",
    "eh"
   ]
  },
  {
   "cell_type": "code",
   "execution_count": 22,
   "metadata": {},
   "outputs": [
    {
     "name": "stderr",
     "output_type": "stream",
     "text": [
      "//anaconda/envs/py35/lib/python3.5/site-packages/ipykernel/__main__.py:8: DeprecationWarning: using a non-integer number instead of an integer will result in an error in the future\n"
     ]
    },
    {
     "data": {
      "text/plain": [
       "array([ -4.63041730e-01,   2.13608232e+01,  -4.56726468e-03])"
      ]
     },
     "execution_count": 22,
     "metadata": {},
     "output_type": "execute_result"
    }
   ],
   "source": [
    "def exponenial_func(x, a, b, c):\n",
    "    return a*np.exp(-x/b)+c\n",
    "\n",
    "#moving_average(X[Cut:eh],aa),moving_average(Y[Cut:eh],aa)\n",
    "#xes = moving_average(X[Cut:eh],aa)\n",
    "#yes = moving_average(Y[Cut:eh],aa)\n",
    "\n",
    "popt, pcov = curve_fit(exponenial_func, moving_average(Xhot[Cut:eh],10), moving_average(Yhot[Cut:eh],10),p0=[-.3,60,0])\n",
    "popt"
   ]
  },
  {
   "cell_type": "code",
   "execution_count": 23,
   "metadata": {},
   "outputs": [
    {
     "name": "stderr",
     "output_type": "stream",
     "text": [
      "//anaconda/envs/py35/lib/python3.5/site-packages/ipykernel/__main__.py:2: DeprecationWarning: using a non-integer number instead of an integer will result in an error in the future\n",
      "  from ipykernel import kernelapp as app\n",
      "//anaconda/envs/py35/lib/python3.5/site-packages/ipykernel/__main__.py:3: DeprecationWarning: using a non-integer number instead of an integer will result in an error in the future\n",
      "  app.launch_new_instance()\n"
     ]
    },
    {
     "data": {
      "text/plain": [
       "[<matplotlib.lines.Line2D at 0x11f74d940>]"
      ]
     },
     "execution_count": 23,
     "metadata": {},
     "output_type": "execute_result"
    },
    {
     "data": {
      "image/png": "[encoded data removed]",
      "text/plain": [
       "<matplotlib.figure.Figure at 0x11f750320>"
      ]
     },
     "metadata": {},
     "output_type": "display_data"
    }
   ],
   "source": [
    "aa=10\n",
    "xes = moving_average(Xhot[Cut:eh],aa)\n",
    "yes = moving_average(Yhot[Cut:eh],aa)\n",
    "plt.plot(xes,yes)\n",
    "\n",
    "plt.plot(xes,exponenial_func(xes,*popt),'r',label='fit')"
   ]
  },
  {
   "cell_type": "code",
   "execution_count": null,
   "metadata": {
    "collapsed": true
   },
   "outputs": [],
   "source": []
  },
  {
   "cell_type": "code",
   "execution_count": 122,
   "metadata": {},
   "outputs": [
    {
     "name": "stderr",
     "output_type": "stream",
     "text": [
      "//anaconda/envs/py35/lib/python3.5/site-packages/ipykernel/__main__.py:13: DeprecationWarning: using a non-integer number instead of an integer will result in an error in the future\n",
      "//anaconda/envs/py35/lib/python3.5/site-packages/ipykernel/__main__.py:15: DeprecationWarning: using a non-integer number instead of an integer will result in an error in the future\n",
      "//anaconda/envs/py35/lib/python3.5/site-packages/ipykernel/__main__.py:19: DeprecationWarning: using a non-integer number instead of an integer will result in an error in the future\n"
     ]
    }
   ],
   "source": [
    "aa=10\n",
    "#xes = moving_average(Xhot[Cut:eh],aa)\n",
    "#yes = moving_average(Yhot[Cut:eh],aa)\n",
    "\n",
    "xes = moving_average(Xhot,aa)\n",
    "yes = moving_average(Yhot,aa)\n",
    "\n",
    "yes = abs(yes)\n",
    "\n",
    "c = 0.4*np.exp(-(xes) / 21)\n",
    "\n",
    "le = len(xes)\n",
    "exp =  np.exp(-(xes[le/4:le]) / 21)\n",
    "exp = 0.4*exp/max(exp)\n",
    "zer = np.zeros(le/4)\n",
    "\n",
    "hh = np.append(zer,exp)\n",
    "\n",
    "exp =  np.exp(-(xes[0:le/10]) / 21)\n",
    "exp = 0.4*exp/max(exp)\n",
    "\n",
    "\n",
    "ydc, remainder = signal.deconvolve(yes, exp)\n",
    "\n",
    "#ydc *= c.sum()\n",
    "\n"
   ]
  },
  {
   "cell_type": "code",
   "execution_count": 136,
   "metadata": {},
   "outputs": [
    {
     "name": "stderr",
     "output_type": "stream",
     "text": [
      "//anaconda/envs/py35/lib/python3.5/site-packages/ipykernel/__main__.py:1: DeprecationWarning: using a non-integer number instead of an integer will result in an error in the future\n",
      "  if __name__ == '__main__':\n"
     ]
    },
    {
     "data": {
      "text/plain": [
       "[<matplotlib.lines.Line2D at 0x125ba54a8>]"
      ]
     },
     "execution_count": 136,
     "metadata": {},
     "output_type": "execute_result"
    },
    {
     "data": {
      "image/png": "[encoded data removed]",
      "text/plain": [
       "<matplotlib.figure.Figure at 0x125c14160>"
      ]
     },
     "metadata": {},
     "output_type": "display_data"
    }
   ],
   "source": [
    "plt.plot(xes[0:le/10],exp)"
   ]
  },
  {
   "cell_type": "code",
   "execution_count": 138,
   "metadata": {},
   "outputs": [
    {
     "data": {
      "text/plain": [
       "0.0034524485874135456"
      ]
     },
     "execution_count": 138,
     "metadata": {},
     "output_type": "execute_result"
    }
   ],
   "source": [
    "min(exp)"
   ]
  },
  {
   "cell_type": "code",
   "execution_count": 128,
   "metadata": {},
   "outputs": [
    {
     "data": {
      "text/plain": [
       "8994"
      ]
     },
     "execution_count": 128,
     "metadata": {},
     "output_type": "execute_result"
    }
   ],
   "source": [
    "n"
   ]
  },
  {
   "cell_type": "code",
   "execution_count": 130,
   "metadata": {},
   "outputs": [
    {
     "name": "stderr",
     "output_type": "stream",
     "text": [
      "//anaconda/envs/py35/lib/python3.5/site-packages/ipykernel/__main__.py:8: DeprecationWarning: using a non-integer number instead of an integer will result in an error in the future\n"
     ]
    }
   ],
   "source": [
    "deconv,  _ = signal.deconvolve(yes, exp)\n",
    "\n",
    "n = len(yes)-len(exp)+1\n",
    "# so we need to expand it by \n",
    "s = (len(yes)-n)/2\n",
    "#on both sides.\n",
    "deconv_res = np.zeros(len(yes))\n",
    "deconv_res[s:len(yes)-s] = deconv\n",
    "deconv = deconv_res"
   ]
  },
  {
   "cell_type": "code",
   "execution_count": 131,
   "metadata": {},
   "outputs": [
    {
     "data": {
      "text/plain": [
       "9992"
      ]
     },
     "execution_count": 131,
     "metadata": {},
     "output_type": "execute_result"
    }
   ],
   "source": [
    "len(deconv)"
   ]
  },
  {
   "cell_type": "code",
   "execution_count": 125,
   "metadata": {},
   "outputs": [
    {
     "data": {
      "text/plain": [
       "9993"
      ]
     },
     "execution_count": 125,
     "metadata": {},
     "output_type": "execute_result"
    }
   ],
   "source": [
    "len(yes)\n",
    "len(ydc)+len(exp)"
   ]
  },
  {
   "cell_type": "code",
   "execution_count": null,
   "metadata": {
    "collapsed": true
   },
   "outputs": [],
   "source": []
  },
  {
   "cell_type": "code",
   "execution_count": 88,
   "metadata": {},
   "outputs": [
    {
     "name": "stderr",
     "output_type": "stream",
     "text": [
      "//anaconda/envs/py35/lib/python3.5/site-packages/ipykernel/__main__.py:3: DeprecationWarning: using a non-integer number instead of an integer will result in an error in the future\n",
      "  app.launch_new_instance()\n"
     ]
    },
    {
     "data": {
      "text/plain": [
       "9992"
      ]
     },
     "execution_count": 88,
     "metadata": {},
     "output_type": "execute_result"
    }
   ],
   "source": [
    "le = len(xes)\n",
    "exp =  -1*np.exp(-(xes[le/4:le]) / 21)\n",
    "exp = -0.4*exp/min(exp)\n",
    "zer = np.zeros(le/4)\n",
    "\n",
    "hh = np.append(zer,exp)\n",
    "len(exp)+len(zer)"
   ]
  },
  {
   "cell_type": "code",
   "execution_count": 109,
   "metadata": {},
   "outputs": [
    {
     "data": {
      "text/plain": [
       "1"
      ]
     },
     "execution_count": 109,
     "metadata": {},
     "output_type": "execute_result"
    }
   ],
   "source": [
    "len(ydc)"
   ]
  },
  {
   "cell_type": "code",
   "execution_count": 132,
   "metadata": {},
   "outputs": [
    {
     "data": {
      "text/plain": [
       "[<matplotlib.lines.Line2D at 0x121fccac8>]"
      ]
     },
     "execution_count": 132,
     "metadata": {},
     "output_type": "execute_result"
    },
    {
     "data": {
      "image/png": "[encoded data removed]",
      "text/plain": [
       "<matplotlib.figure.Figure at 0x1221bd1d0>"
      ]
     },
     "metadata": {},
     "output_type": "display_data"
    }
   ],
   "source": [
    "plt.plot(xes,deconv)"
   ]
  },
  {
   "cell_type": "code",
   "execution_count": null,
   "metadata": {
    "collapsed": true
   },
   "outputs": [],
   "source": []
  },
  {
   "cell_type": "code",
   "execution_count": null,
   "metadata": {
    "collapsed": true
   },
   "outputs": [],
   "source": []
  },
  {
   "cell_type": "code",
   "execution_count": null,
   "metadata": {
    "collapsed": true
   },
   "outputs": [],
   "source": []
  },
  {
   "cell_type": "code",
   "execution_count": 137,
   "metadata": {},
   "outputs": [
    {
     "name": "stderr",
     "output_type": "stream",
     "text": [
      "//anaconda/envs/py35/lib/python3.5/site-packages/ipykernel/__main__.py:3: DeprecationWarning: using a non-integer number instead of an integer will result in an error in the future\n",
      "  app.launch_new_instance()\n"
     ]
    },
    {
     "data": {
      "text/plain": [
       "[<matplotlib.lines.Line2D at 0x125d7e6a0>]"
      ]
     },
     "execution_count": 137,
     "metadata": {},
     "output_type": "execute_result"
    },
    {
     "data": {
      "image/png": "[encoded data removed]",
      "text/plain": [
       "<matplotlib.figure.Figure at 0x125b7a198>"
      ]
     },
     "metadata": {},
     "output_type": "display_data"
    }
   ],
   "source": [
    "plt.plot(xes,deconv)\n",
    "plt.plot(xes,yes)\n",
    "plt.plot(xes[0:le/10],exp)"
   ]
  },
  {
   "cell_type": "code",
   "execution_count": null,
   "metadata": {
    "collapsed": true
   },
   "outputs": [],
   "source": []
  },
  {
   "cell_type": "code",
   "execution_count": 48,
   "metadata": {},
   "outputs": [
    {
     "data": {
      "text/plain": [
       "9992"
      ]
     },
     "execution_count": 48,
     "metadata": {},
     "output_type": "execute_result"
    }
   ],
   "source": [
    "le"
   ]
  },
  {
   "cell_type": "code",
   "execution_count": 41,
   "metadata": {},
   "outputs": [
    {
     "data": {
      "text/plain": [
       "9992"
      ]
     },
     "execution_count": 41,
     "metadata": {},
     "output_type": "execute_result"
    }
   ],
   "source": [
    "len(xes)"
   ]
  },
  {
   "cell_type": "code",
   "execution_count": 42,
   "metadata": {},
   "outputs": [
    {
     "data": {
      "text/plain": [
       "1"
      ]
     },
     "execution_count": 42,
     "metadata": {},
     "output_type": "execute_result"
    }
   ],
   "source": [
    "len(ydc)"
   ]
  },
  {
   "cell_type": "code",
   "execution_count": 45,
   "metadata": {},
   "outputs": [
    {
     "data": {
      "text/plain": [
       "[<matplotlib.lines.Line2D at 0x121281278>]"
      ]
     },
     "execution_count": 45,
     "metadata": {},
     "output_type": "execute_result"
    },
    {
     "data": {
      "image/png": "[encoded data removed]",
      "text/plain": [
       "<matplotlib.figure.Figure at 0x1211637f0>"
      ]
     },
     "metadata": {},
     "output_type": "display_data"
    }
   ],
   "source": [
    "plt.plot(xes,yes)\n"
   ]
  },
  {
   "cell_type": "code",
   "execution_count": null,
   "metadata": {
    "collapsed": true
   },
   "outputs": [],
   "source": []
  },
  {
   "cell_type": "code",
   "execution_count": 71,
   "metadata": {},
   "outputs": [
    {
     "data": {
      "image/png": "[encoded data removed]",
      "text/plain": [
       "<matplotlib.figure.Figure at 0x11bb2c4e0>"
      ]
     },
     "metadata": {},
     "output_type": "display_data"
    }
   ],
   "source": [
    "\n",
    "tau= 100e-12 * 1/(1/1e6 +1/20e6)\n",
    "x = np.arange(0., 20.01, 0.01)\n",
    "y = np.zeros(len(x))\n",
    "y[900:1100] = 1.\n",
    "y += 0.01 * np.random.randn(len(y)) #adding noise\n",
    "c = np.exp(-(np.arange(len(y))) / 30)\n",
    "\n",
    "yc = signal.convolve(y, c, mode='full') / c.sum()\n",
    "ydc, remainder = signal.deconvolve(yc, c)\n",
    "ydc *= c.sum()\n",
    "\n",
    "fig, ax = plt.subplots(nrows=2, ncols=2, figsize=(8, 8))\n",
    "ax[0][0].plot(x, y, label=\"original y\", lw=3)\n",
    "ax[0][1].plot(x, c, label=\"c\", lw=3)\n",
    "ax[1][0].plot(x[0:2000], yc[0:2000], label=\"yc\", lw=3)\n",
    "ax[1][1].plot(x, ydc, label=\"recovered y\", lw=3)\n",
    "\n",
    "plt.show()"
   ]
  },
  {
   "cell_type": "code",
   "execution_count": 75,
   "metadata": {},
   "outputs": [
    {
     "data": {
      "text/plain": [
       "2002"
      ]
     },
     "execution_count": 75,
     "metadata": {},
     "output_type": "execute_result"
    }
   ],
   "source": [
    "len(ydc)"
   ]
  },
  {
   "cell_type": "code",
   "execution_count": null,
   "metadata": {
    "collapsed": true
   },
   "outputs": [],
   "source": []
  },
  {
   "cell_type": "code",
   "execution_count": null,
   "metadata": {
    "collapsed": true
   },
   "outputs": [],
   "source": []
  },
  {
   "cell_type": "code",
   "execution_count": null,
   "metadata": {
    "collapsed": true
   },
   "outputs": [],
   "source": []
  },
  {
   "cell_type": "code",
   "execution_count": null,
   "metadata": {
    "collapsed": true
   },
   "outputs": [],
   "source": []
  },
  {
   "cell_type": "code",
   "execution_count": null,
   "metadata": {
    "collapsed": true
   },
   "outputs": [],
   "source": []
  },
  {
   "cell_type": "code",
   "execution_count": null,
   "metadata": {
    "collapsed": true
   },
   "outputs": [],
   "source": []
  },
  {
   "cell_type": "code",
   "execution_count": null,
   "metadata": {
    "collapsed": true
   },
   "outputs": [],
   "source": []
  },
  {
   "cell_type": "code",
   "execution_count": null,
   "metadata": {
    "collapsed": true
   },
   "outputs": [],
   "source": []
  },
  {
   "cell_type": "code",
   "execution_count": 2,
   "metadata": {},
   "outputs": [
    {
     "data": {
      "image/png": "[encoded data removed]",
      "text/plain": [
       "<matplotlib.figure.Figure at 0x11b561c18>"
      ]
     },
     "metadata": {},
     "output_type": "display_data"
    }
   ],
   "source": [
    "\n",
    "tau= 100e-12 * 1/(1/1e6 +1/20e6)\n",
    "x = np.arange(0., 20.01, 0.01)\n",
    "y = np.zeros(len(x))\n",
    "y[900:1100] = 1.\n",
    "y += 0.01 * np.random.randn(len(y)) #adding noise\n",
    "c = np.exp(-(np.arange(len(y))) / 30)\n",
    "\n",
    "yc = signal.convolve(y, c, mode='full') / c.sum()\n",
    "ydc, remainder = signal.deconvolve(yc, c)\n",
    "ydc *= c.sum()\n",
    "\n",
    "fig, ax = plt.subplots(nrows=2, ncols=2, figsize=(8, 8))\n",
    "ax[0][0].plot(x, y, label=\"original y\", lw=3)\n",
    "ax[0][1].plot(x, c, label=\"c\", lw=3)\n",
    "ax[1][0].plot(x[0:2000], yc[0:2000], label=\"yc\", lw=3)\n",
    "ax[1][1].plot(x, ydc, label=\"recovered y\", lw=3)\n",
    "\n",
    "plt.show()"
   ]
  },
  {
   "cell_type": "code",
   "execution_count": null,
   "metadata": {
    "collapsed": true
   },
   "outputs": [],
   "source": []
  },
  {
   "cell_type": "code",
   "execution_count": null,
   "metadata": {
    "collapsed": true
   },
   "outputs": [],
   "source": []
  },
  {
   "cell_type": "code",
   "execution_count": 119,
   "metadata": {},
   "outputs": [
    {
     "name": "stdout",
     "output_type": "stream",
     "text": [
      "0.0130329074485\n"
     ]
    },
    {
     "name": "stderr",
     "output_type": "stream",
     "text": [
      "//anaconda/envs/py35/lib/python3.5/site-packages/ipykernel/__main__.py:23: DeprecationWarning: using a non-integer number instead of an integer will result in an error in the future\n"
     ]
    },
    {
     "data": {
      "image/png": "[encoded data removed]",
      "text/plain": [
       "<matplotlib.figure.Figure at 0x1257f6f98>"
      ]
     },
     "metadata": {},
     "output_type": "display_data"
    }
   ],
   "source": [
    "import scipy.signal\n",
    "# let the signal be box-like\n",
    "signal = np.repeat([0., 1., 0.], 100)\n",
    "# and use a gaussian filter\n",
    "# the filter should be shorter than the signal\n",
    "# the filter should be such that it's much bigger then zero everywhere\n",
    "gauss = np.exp(-( (np.linspace(0,50)-25.)/float(12))**2 )\n",
    "print( gauss.min())  # = 0.013 >> 0\n",
    "\n",
    "# calculate the convolution (np.convolve and scipy.signal.convolve identical)\n",
    "# the keywordargument mode=\"same\" ensures that the convolution spans the same\n",
    "#   shape as the input array.\n",
    "#filtered = scipy.signal.convolve(signal, gauss, mode='same') \n",
    "filtered = np.convolve(signal, gauss, mode='same') \n",
    "\n",
    "deconv,  _ = scipy.signal.deconvolve( filtered, gauss )\n",
    "#the deconvolution has n = len(signal) - len(gauss) + 1 points\n",
    "n = len(signal)-len(gauss)+1\n",
    "# so we need to expand it by \n",
    "s = (len(signal)-n)/2\n",
    "#on both sides.\n",
    "deconv_res = np.zeros(len(signal))\n",
    "deconv_res[s:len(signal)-s] = deconv\n",
    "deconv = deconv_res\n",
    "# now deconv contains the deconvolution \n",
    "# expanded to the original shape (filled with zeros) \n",
    "\n",
    "\n",
    "#### Plot #### \n",
    "fig , ax = plt.subplots(nrows=4, figsize=(6,7))\n",
    "\n",
    "ax[0].plot(signal,            color=\"#907700\", label=\"original\",     lw=3 ) \n",
    "ax[1].plot(gauss,          color=\"#68934e\", label=\"gauss filter\", lw=3 )\n",
    "# we need to divide by the sum of the filter window to get the convolution normalized to 1\n",
    "ax[2].plot(filtered/np.sum(gauss), color=\"#325cab\", label=\"convoluted\" ,  lw=3 )\n",
    "ax[3].plot(deconv,         color=\"#ab4232\", label=\"deconvoluted\", lw=3 ) \n",
    "\n",
    "for i in range(len(ax)):\n",
    "    ax[i].set_xlim([0, len(signal)])\n",
    "    ax[i].set_ylim([-0.07, 1.2])\n",
    "    ax[i].legend(loc=1, fontsize=11)\n",
    "    if i != len(ax)-1 :\n",
    "        ax[i].set_xticklabels([])\n",
    "\n",
    "#plt.savefig(__file__ + \".png\")\n",
    "plt.show()    "
   ]
  },
  {
   "cell_type": "code",
   "execution_count": null,
   "metadata": {
    "collapsed": true
   },
   "outputs": [],
   "source": []
  },
  {
   "cell_type": "code",
   "execution_count": null,
   "metadata": {
    "collapsed": true
   },
   "outputs": [],
   "source": []
  },
  {
   "cell_type": "code",
   "execution_count": null,
   "metadata": {
    "collapsed": true
   },
   "outputs": [],
   "source": []
  },
  {
   "cell_type": "code",
   "execution_count": null,
   "metadata": {
    "collapsed": true
   },
   "outputs": [],
   "source": []
  },
  {
   "cell_type": "code",
   "execution_count": null,
   "metadata": {
    "collapsed": true
   },
   "outputs": [],
   "source": []
  }
 ],
 "metadata": {
  "kernelspec": {
   "display_name": "Python 3",
   "language": "python",
   "name": "python3"
  },
  "language_info": {
   "codemirror_mode": {
    "name": "ipython",
    "version": 3
   },
   "file_extension": ".py",
   "mimetype": "text/x-python",
   "name": "python",
   "nbconvert_exporter": "python",
   "pygments_lexer": "ipython3",
   "version": "3.5.2"
  }
 },
 "nbformat": 4,
 "nbformat_minor": 1
}
