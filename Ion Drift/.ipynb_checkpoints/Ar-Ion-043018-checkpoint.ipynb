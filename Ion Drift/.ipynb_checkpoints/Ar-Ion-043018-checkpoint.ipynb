{
 "cells": [
  {
   "cell_type": "code",
   "execution_count": 1,
   "metadata": {},
   "outputs": [
    {
     "name": "stderr",
     "output_type": "stream",
     "text": [
      "//anaconda/envs/py35/lib/python3.5/site-packages/matplotlib/font_manager.py:273: UserWarning: Matplotlib is building the font cache using fc-list. This may take a moment.\n",
      "  warnings.warn('Matplotlib is building the font cache using fc-list. This may take a moment.')\n",
      "//anaconda/envs/py35/lib/python3.5/site-packages/matplotlib/font_manager.py:273: UserWarning: Matplotlib is building the font cache using fc-list. This may take a moment.\n",
      "  warnings.warn('Matplotlib is building the font cache using fc-list. This may take a moment.')\n"
     ]
    }
   ],
   "source": [
    "import csv\n",
    "import numpy as np\n",
    "import matplotlib.pyplot as plt\n",
    "import matplotlib.mlab as mlab\n",
    "from scipy import signal\n",
    "import os\n",
    "import glob\n",
    "%matplotlib inline\n",
    "from scipy.optimize import curve_fit\n",
    "from scipy.signal import savgol_filter\n",
    "import matplotlib.cm as cm\n",
    "\n",
    "import math\n",
    "import pandas as pd\n",
    "from pandas import DataFrame, read_csv\n",
    "import pylab as pl"
   ]
  },
  {
   "cell_type": "code",
   "execution_count": 2,
   "metadata": {
    "collapsed": true
   },
   "outputs": [],
   "source": [
    "\"\"\" \n",
    "Little helper function to load data from a .trc binary file.\n",
    "This is the file format used by LeCroy oscilloscopes.\n",
    "M. Betz 09/2015\n",
    "\"\"\"\n",
    "import datetime\n",
    "import numpy as np\n",
    "import struct\n",
    "\n",
    "def readTrc( fName ):\n",
    "    \"\"\"\n",
    "        Reads .trc binary files from LeCroy Oscilloscopes.\n",
    "        Decoding is based on LECROY_2_3 template.\n",
    "        [More info](http://forums.ni.com/attachments/ni/60/4652/2/LeCroyWaveformTemplate_2_3.pdf)\n",
    "        \n",
    "        Parameters\n",
    "        -----------       \n",
    "        fName = filename of the .trc file\n",
    "        \n",
    "        Returns\n",
    "        -----------       \n",
    "        x: array with sample times [s],\n",
    "        \n",
    "        y: array with sample  values [V],\n",
    "        \n",
    "        d: dictionary with metadata\n",
    "        \n",
    "        \n",
    "        M. Betz 09/2015\n",
    "    \"\"\"\n",
    "    with open(fName, \"rb\") as fid:\n",
    "        data = fid.read(50).decode()\n",
    "        wdOffset = data.find('WAVEDESC')\n",
    "        \n",
    "        #------------------------\n",
    "        # Get binary format / endianess\n",
    "        #------------------------\n",
    "        if readX( fid, '?', wdOffset + 32 ):  #16 or 8 bit sample format?\n",
    "            smplFmt = \"int16\"\n",
    "        else:\n",
    "            smplFmt = \"int8\"\n",
    "        if readX( fid, '?', wdOffset + 34 ):  #Big or little endian?\n",
    "            endi = \"<\"\n",
    "        else:\n",
    "            endi = \">\"\n",
    "            \n",
    "        #------------------------\n",
    "        # Get length of blocks and arrays:\n",
    "        #------------------------\n",
    "        lWAVE_DESCRIPTOR = readX( fid, endi+\"l\", wdOffset + 36 )\n",
    "        lUSER_TEXT       = readX( fid, endi+\"l\", wdOffset + 40 )\n",
    "        lTRIGTIME_ARRAY  = readX( fid, endi+\"l\", wdOffset + 48 )\n",
    "        lRIS_TIME_ARRAY  = readX( fid, endi+\"l\", wdOffset + 52 )\n",
    "        lWAVE_ARRAY_1    = readX( fid, endi+\"l\", wdOffset + 60 )\n",
    "        lWAVE_ARRAY_2    = readX( fid, endi+\"l\", wdOffset + 64 )\n",
    "\n",
    "        d = dict()  #Will store all the extracted Metadata\n",
    "        \n",
    "        #------------------------\n",
    "        # Get Instrument info\n",
    "        #------------------------\n",
    "        d[\"INSTRUMENT_NAME\"]  = readX( fid, \"16s\",    wdOffset + 76 ).decode().split('\\x00')[0]\n",
    "        d[\"INSTRUMENT_NUMBER\"]= readX( fid, endi+\"l\", wdOffset + 92 )\n",
    "        d[\"TRACE_LABEL\"]      = readX( fid, \"16s\",    wdOffset + 96 ).decode().split('\\x00')[0]\n",
    "        \n",
    "        #------------------------\n",
    "        # Get Waveform info      \n",
    "        #------------------------\n",
    "        d[\"WAVE_ARRAY_COUNT\"] = readX( fid, endi+\"l\", wdOffset +116 )\n",
    "        d[\"PNTS_PER_SCREEN\"]  = readX( fid, endi+\"l\", wdOffset +120 )\n",
    "        d[\"FIRST_VALID_PNT\"]  = readX( fid, endi+\"l\", wdOffset +124 )\n",
    "        d[\"LAST_VALID_PNT\"]   = readX( fid, endi+\"l\", wdOffset +128 )\n",
    "        d[\"FIRST_POINT\"]      = readX( fid, endi+\"l\", wdOffset +132 )\n",
    "        d[\"SPARSING_FACTOR\"]  = readX( fid, endi+\"l\", wdOffset +136 )\n",
    "        d[\"SEGMENT_INDEX\"]    = readX( fid, endi+\"l\", wdOffset +140 )\n",
    "        d[\"SUBARRAY_COUNT\"]   = readX( fid, endi+\"l\", wdOffset +144 )\n",
    "        d[\"SWEEPS_PER_ACQ\"]   = readX( fid, endi+\"l\", wdOffset +148 )\n",
    "        d[\"POINTS_PER_PAIR\"]  = readX( fid, endi+\"h\", wdOffset +152 )\n",
    "        d[\"PAIR_OFFSET\"]      = readX( fid, endi+\"h\", wdOffset +154 )\n",
    "        d[\"VERTICAL_GAIN\"]    = readX( fid, endi+\"f\", wdOffset +156 ) #to get floating values from raw data :\n",
    "        d[\"VERTICAL_OFFSET\"]  = readX( fid, endi+\"f\", wdOffset +160 ) #VERTICAL_GAIN * data - VERTICAL_OFFSET \n",
    "        d[\"MAX_VALUE\"]        = readX( fid, endi+\"f\", wdOffset +164 )\n",
    "        d[\"MIN_VALUE\"]        = readX( fid, endi+\"f\", wdOffset +168 )\n",
    "        d[\"NOMINAL_BITS\"]     = readX( fid, endi+\"h\", wdOffset +172 )\n",
    "        d[\"NOM_SUBARRAY_COUNT\"]= readX( fid, endi+\"h\",wdOffset +174 )\n",
    "        d[\"HORIZ_INTERVAL\"]   = readX( fid, endi+\"f\", wdOffset +176 ) #sampling interval for time domain waveforms \n",
    "        d[\"HORIZ_OFFSET\"]     = readX( fid, endi+\"d\", wdOffset +180 ) #trigger offset for the first sweep of the trigger, seconds between the trigger and the first data point \n",
    "        d[\"PIXEL_OFFSET\"]     = readX( fid, endi+\"d\", wdOffset +188 )\n",
    "        d[\"VERTUNIT\"]         = readX( fid, \"48s\", wdOffset +196 ).decode().split('\\x00')[0]\n",
    "        d[\"HORUNIT\"]          = readX( fid, \"48s\", wdOffset +244 ).decode().split('\\x00')[0]\n",
    "        d[\"HORIZ_UNCERTAINTY\"]= readX( fid, endi+\"f\", wdOffset +292 )\n",
    "        d[\"TRIGGER_TIME\"]     = getTimeStamp( fid, endi, wdOffset +296 )\n",
    "        d[\"ACQ_DURATION\"]     = readX( fid, endi+\"f\", wdOffset +312 )\n",
    "        d[\"RECORD_TYPE\"]      = [\"single_sweep\",\"interleaved\",\"histogram\",\"graph\",\"filter_coefficient\",\"complex\",\"extrema\",\"sequence_obsolete\",\"centered_RIS\",\"peak_detect\"][ readX( fid, endi+\"H\", wdOffset +316 ) ]\n",
    "        d[\"PROCESSING_DONE\"]  = [\"no_processing\",\"fir_filter\",\"interpolated\",\"sparsed\",\"autoscaled\",\"no_result\",\"rolling\",\"cumulative\"][ readX( fid, endi+\"H\", wdOffset +318 ) ]\n",
    "        d[\"RIS_SWEEPS\"]       = readX( fid, endi+\"h\", wdOffset +322 )\n",
    "        d[\"TIMEBASE\"]         = ['1_ps/div', '2_ps/div', '5_ps/div', '10_ps/div', '20_ps/div', '50_ps/div', '100_ps/div', '200_ps/div', '500_ps/div', '1_ns/div', '2_ns/div', '5_ns/div', '10_ns/div', '20_ns/div', '50_ns/div', '100_ns/div', '200_ns/div', '500_ns/div', '1_us/div', '2_us/div', '5_us/div', '10_us/div', '20_us/div', '50_us/div', '100_us/div', '200_us/div', '500_us/div', '1_ms/div', '2_ms/div', '5_ms/div', '10_ms/div', '20_ms/div', '50_ms/div', '100_ms/div', '200_ms/div', '500_ms/div', '1_s/div', '2_s/div', '5_s/div', '10_s/div', '20_s/div', '50_s/div', '100_s/div', '200_s/div', '500_s/div', '1_ks/div', '2_ks/div', '5_ks/div', 'EXTERNAL'][ readX( fid, endi+\"H\", wdOffset +324 ) ]\n",
    "        d[\"VERT_COUPLING\"]    = ['DC_50_Ohms', 'ground', 'DC_1MOhm', 'ground', 'AC,_1MOhm'][ readX( fid, endi+\"H\", wdOffset +326 ) ]\n",
    "        d[\"PROBE_ATT\"]        = readX( fid, endi+\"f\", wdOffset +328 )\n",
    "        d[\"FIXED_VERT_GAIN\"]  = ['1_uV/div','2_uV/div','5_uV/div','10_uV/div','20_uV/div','50_uV/div','100_uV/div','200_uV/div','500_uV/div','1_mV/div','2_mV/div','5_mV/div','10_mV/div','20_mV/div','50_mV/div','100_mV/div','200_mV/div','500_mV/div','1_V/div','2_V/div','5_V/div','10_V/div','20_V/div','50_V/div','100_V/div','200_V/div','500_V/div','1_kV/div'][ readX( fid, endi+\"H\", wdOffset +332 ) ]\n",
    "        d[\"BANDWIDTH_LIMIT\"]  = ['off', 'on'][ readX( fid, endi+\"H\", wdOffset +334 ) ]\n",
    "        d[\"VERTICAL_VERNIER\"] = readX( fid, endi+\"f\", wdOffset +336 )\n",
    "        d[\"ACQ_VERT_OFFSET\"]  = readX( fid, endi+\"f\", wdOffset +340 )\n",
    "        d[\"WAVE_SOURCE\"]      = readX( fid, endi+\"H\", wdOffset +344 )\n",
    "        d[\"USER_TEXT\"]        = readX( fid, \"{0}s\".format(lUSER_TEXT), wdOffset + lWAVE_DESCRIPTOR ).decode().split('\\x00')[0]\n",
    "\n",
    "        #------------------------\n",
    "        # Get main sample data with the help of numpys .fromfile(\n",
    "        #------------------------\n",
    "        fid.seek( wdOffset + lWAVE_DESCRIPTOR + lUSER_TEXT + lTRIGTIME_ARRAY + lRIS_TIME_ARRAY ) #Seek to WAVE_ARRAY_1\n",
    "        y = np.fromfile( fid, smplFmt, lWAVE_ARRAY_1 )\n",
    "        if endi == \">\":\n",
    "            y.byteswap( True )\n",
    "        y = d[\"VERTICAL_GAIN\"] * y - d[\"VERTICAL_OFFSET\"]\n",
    "        x = np.arange(1,len(y)+1)*d[\"HORIZ_INTERVAL\"] + d[\"HORIZ_OFFSET\"]\n",
    "    return x, y, d\n",
    "\n",
    "def readX( fid, fmt, adr=None ):\n",
    "    \"\"\" extract a byte / word / float / double from the binary file \"\"\"\n",
    "    nBytes = struct.calcsize( fmt )\n",
    "    if adr is not None:\n",
    "        fid.seek( adr )\n",
    "    s = struct.unpack( fmt, fid.read( nBytes ) )\n",
    "    if(type(s) == tuple):\n",
    "        return s[0]\n",
    "    else:\n",
    "        return s\n",
    "\n",
    "def getTimeStamp( fid, endi, adr ):\n",
    "    \"\"\" extract a timestamp from the binary file \"\"\"\n",
    "    s = readX( fid, endi+\"d\", adr )\n",
    "    m = readX( fid, endi+\"b\" )\n",
    "    h = readX( fid, endi+\"b\" )\n",
    "    D = readX( fid, endi+\"b\" )\n",
    "    M = readX( fid, endi+\"b\" )\n",
    "    Y = readX( fid, endi+\"h\" )\n",
    "    trigTs = datetime.datetime(Y, M, D, h, m, int(s), int((s-int(s))*1e6) )\n",
    "    return trigTs"
   ]
  },
  {
   "cell_type": "code",
   "execution_count": 3,
   "metadata": {},
   "outputs": [
    {
     "name": "stdout",
     "output_type": "stream",
     "text": [
      "/Users/austinmcdonald/Desktop/data/BTX-Ion/NoAmp/Ar-ion-043018\n"
     ]
    }
   ],
   "source": [
    "cd /Users/austinmcdonald/Desktop/data/BTX-Ion/NoAmp/Ar-ion-043018/"
   ]
  },
  {
   "cell_type": "code",
   "execution_count": null,
   "metadata": {
    "collapsed": true
   },
   "outputs": [],
   "source": []
  },
  {
   "cell_type": "code",
   "execution_count": 4,
   "metadata": {},
   "outputs": [
    {
     "data": {
      "text/plain": [
       "['0.75bar', '1bar', '2bar', '3bar', '4bar', '5bar', '6bar', '7bar']"
      ]
     },
     "execution_count": 4,
     "metadata": {},
     "output_type": "execute_result"
    }
   ],
   "source": [
    "pressure = glob.glob('*bar')\n",
    "pressure"
   ]
  },
  {
   "cell_type": "code",
   "execution_count": 162,
   "metadata": {},
   "outputs": [
    {
     "data": {
      "text/plain": [
       "['/Users/austinmcdonald/Desktop/data/BTX-Ion/NoAmp/Ar-ion-043018/6bar/2500',\n",
       " '/Users/austinmcdonald/Desktop/data/BTX-Ion/NoAmp/Ar-ion-043018/6bar/3000',\n",
       " '/Users/austinmcdonald/Desktop/data/BTX-Ion/NoAmp/Ar-ion-043018/6bar/3500']"
      ]
     },
     "execution_count": 162,
     "metadata": {},
     "output_type": "execute_result"
    }
   ],
   "source": [
    "pathM= \"/Users/austinmcdonald/Desktop/data/BTX-Ion/NoAmp/Ar-ion-043018/\" + pressure[6]\n",
    "paths=glob.glob(pathM+\"/*0\")\n",
    "paths"
   ]
  },
  {
   "cell_type": "code",
   "execution_count": 163,
   "metadata": {
    "collapsed": true
   },
   "outputs": [],
   "source": [
    "#%%time\n",
    "dataX=[]\n",
    "dataY=[]\n",
    "XTraces=dict()\n",
    "YTraces=dict()\n",
    "volt = dict()\n",
    "time = dict()\n",
    "for z in range(0,len(paths)):\n",
    "    dataX=[]\n",
    "    dataY=[]\n",
    "    Files = os.listdir(paths[z])\n",
    "    for x in range(0,len(Files)):\n",
    "        datX, datY, info = readTrc(paths[z]+\"/\"+Files[x])\n",
    "        NTraces     =   info['SUBARRAY_COUNT']\n",
    "        TotalPoints =   info[ 'WAVE_ARRAY_COUNT']\n",
    "        dx          =   info['HORIZ_INTERVAL']\n",
    "        PPT         =   TotalPoints/NTraces\n",
    "        YTraces[x]   =   np.split(datY, NTraces)\n",
    "        XTraces[x]   =   np.split(datX, NTraces)\n",
    "        for y in range(0,len(YTraces[x])):\n",
    "            dataX.append(XTraces[x][y][0:2500000])\n",
    "            dataY.append(YTraces[x][y][0:2500000])\n",
    "    volt[z] = np.array(dataY)\n",
    "    time[z] = np.array(dataX)"
   ]
  },
  {
   "cell_type": "code",
   "execution_count": null,
   "metadata": {
    "collapsed": true
   },
   "outputs": [],
   "source": []
  },
  {
   "cell_type": "code",
   "execution_count": null,
   "metadata": {
    "collapsed": true
   },
   "outputs": [],
   "source": [
    "Efield=np.array([1000,1500,2000,2500,3000,3500])/20"
   ]
  },
  {
   "cell_type": "code",
   "execution_count": null,
   "metadata": {
    "collapsed": true
   },
   "outputs": [],
   "source": [
    "Volt = dict()\n",
    "STD  = dict()\n",
    "Time = dict()\n",
    "for x in range(0,len(paths)):\n",
    "    Volt[x] = np.mean(volt[x],axis=0)\n",
    "    STD[x] = np.std(volt[x],axis=0)\n",
    "    Time[x] = time[x][0]\n",
    "#    Efield.append(float(Folders[x])/20)"
   ]
  },
  {
   "cell_type": "code",
   "execution_count": null,
   "metadata": {},
   "outputs": [],
   "source": [
    "len(Volt)"
   ]
  },
  {
   "cell_type": "code",
   "execution_count": null,
   "metadata": {},
   "outputs": [],
   "source": [
    "Efield"
   ]
  },
  {
   "cell_type": "code",
   "execution_count": null,
   "metadata": {},
   "outputs": [],
   "source": [
    "mu = 1e6\n",
    "ml = 1e3\n",
    "unit=  r\"$\\frac{V}{cm}$\"\n",
    "plt.figure(figsize=(15,9))\n",
    "for x in range(0,len(paths)):\n",
    "    plt.plot(savgol_filter(Time[x],11,3)*ml,savgol_filter(Volt[x],11,3)*ml,label=str(Efield[x]) + unit)\n",
    "#plt.text(325, -10, r'750 Torr', fontsize=30)\n",
    "#plt.text(25, -1.5, r'RC=1s', fontsize=30)\n",
    "#plt.title('BTX ION drift 5-24-17 ',fontsize=30)\n",
    "#plt.xlim(-10,250)\n",
    "plt.ylim(-2,0)\n",
    "plt.xlabel(r'Time / ms',fontsize=26)\n",
    "plt.ylabel('Voltaeg / mV',fontsize=26)\n",
    "plt.xticks(fontsize=24)\n",
    "plt.yticks(fontsize=24)\n",
    "#plt.xticks(np.arange(0, 400, 50.0))\n",
    "plt.grid()\n",
    "plt.legend(loc='lower right',fontsize=25)\n",
    "plt.tight_layout()\n",
    "#plt.savefig('BTX_ION_drift_ION_5-18-17-2.pdf')\n",
    "\n",
    "plt.show()"
   ]
  },
  {
   "cell_type": "code",
   "execution_count": null,
   "metadata": {
    "collapsed": true
   },
   "outputs": [],
   "source": []
  },
  {
   "cell_type": "code",
   "execution_count": 149,
   "metadata": {},
   "outputs": [
    {
     "name": "stderr",
     "output_type": "stream",
     "text": [
      "//anaconda/envs/py35/lib/python3.5/site-packages/ipykernel/__main__.py:8: DeprecationWarning: using a non-integer number instead of an integer will result in an error in the future\n",
      "//anaconda/envs/py35/lib/python3.5/site-packages/ipykernel/__main__.py:12: DeprecationWarning: using a non-integer number instead of an integer will result in an error in the future\n"
     ]
    }
   ],
   "source": [
    "ct = 1.4e6\n",
    "mu = 1e6\n",
    "ml = 1e3\n",
    "VoltCorr = dict()\n",
    "TimeCorr = dict()\n",
    "leng = len(Volt)\n",
    "for x in range(0,leng):\n",
    "    TimeCorr[x] = (Time[x]*ml)[0:ct]\n",
    "    vv =Volt[x]#+abs(np.mean(Volt[x][5000:60000]))\n",
    "    cor = np.mean(Volt[x][10000:60000])\n",
    "    if cor<0:\n",
    "        VoltCorr[x] = -(vv-cor)[0:ct]*mu\n",
    "    else:\n",
    "        VoltCorr[x] = -(vv+cor)[0:ct]*mu\n",
    "    "
   ]
  },
  {
   "cell_type": "code",
   "execution_count": 150,
   "metadata": {},
   "outputs": [
    {
     "name": "stderr",
     "output_type": "stream",
     "text": [
      "//anaconda/envs/py35/lib/python3.5/site-packages/ipykernel/__main__.py:1: DeprecationWarning: using a non-integer number instead of an integer will result in an error in the future\n",
      "  if __name__ == '__main__':\n"
     ]
    },
    {
     "data": {
      "text/plain": [
       "array([  1.93835772e-04,   5.93835777e-04,   9.93835782e-04, ...,\n",
       "         5.59999000e+02,   5.59999400e+02,   5.59999800e+02])"
      ]
     },
     "execution_count": 150,
     "metadata": {},
     "output_type": "execute_result"
    }
   ],
   "source": [
    "TimeCorr[0][0:5e6]"
   ]
  },
  {
   "cell_type": "code",
   "execution_count": 151,
   "metadata": {},
   "outputs": [
    {
     "data": {
      "text/plain": [
       "[299.25019733283693,\n",
       " 530.11694760730927,\n",
       " 488.61918166846192,\n",
       " 548.24674984679041]"
      ]
     },
     "execution_count": 151,
     "metadata": {},
     "output_type": "execute_result"
    }
   ],
   "source": [
    "cut =9000\n",
    "arrival=[]\n",
    "velocity=[]\n",
    "for x in range(0,len(paths)):\n",
    "    mins=max(VoltCorr[x][cut:])\n",
    "    arrival.append( TimeCorr[x][cut:][np.where(VoltCorr[x][cut:]==mins)[0][0]])\n",
    "    velocity.append(20/ (TimeCorr[x][cut:][np.where(VoltCorr[x][cut:]==mins)[0][0]]))\n",
    "arrival"
   ]
  },
  {
   "cell_type": "code",
   "execution_count": null,
   "metadata": {
    "collapsed": true
   },
   "outputs": [],
   "source": []
  },
  {
   "cell_type": "code",
   "execution_count": 152,
   "metadata": {},
   "outputs": [
    {
     "data": {
      "text/plain": [
       "[295.64579729074859,\n",
       " 541.41974773945537,\n",
       " 547.82478236040595,\n",
       " 539.03394973918932]"
      ]
     },
     "execution_count": 152,
     "metadata": {},
     "output_type": "execute_result"
    }
   ],
   "source": [
    "cut =9000\n",
    "arrival=[]\n",
    "velocity=[]\n",
    "for x in range(0,len(paths)):\n",
    "    tim = savgol_filter(TimeCorr[x],91,3)\n",
    "    vol = savgol_filter(VoltCorr[x],91,3)\n",
    "    \n",
    "    mins=max(vol[cut:])\n",
    "    arrival.append( tim[np.where(vol[cut:]==mins)[0][0]])\n",
    "    #velocity.append(20/ (TimeCorr[x][cut:][np.where(VoltCorr[x][cut:]==mins)[0][0]]))\n",
    "arrival"
   ]
  },
  {
   "cell_type": "code",
   "execution_count": null,
   "metadata": {
    "collapsed": true
   },
   "outputs": [],
   "source": []
  },
  {
   "cell_type": "code",
   "execution_count": 153,
   "metadata": {},
   "outputs": [
    {
     "data": {
      "image/png": "[encoded data removed]",
      "text/plain": [
       "<matplotlib.figure.Figure at 0x108f3cdd8>"
      ]
     },
     "metadata": {},
     "output_type": "display_data"
    }
   ],
   "source": [
    "unit=  r\"$\\frac{V}{cm}$\"\n",
    "plt.figure(figsize=(15,9))\n",
    "for x in range(0,len(paths)):\n",
    "    plt.axvline(arrival[x],color=cm.afmhot((x+2)/17))\n",
    "    tim = savgol_filter(TimeCorr[x],91,3)\n",
    "    vol = savgol_filter(VoltCorr[x],91,3)\n",
    "    plt.plot(tim,vol,label=str(Efield[x]) + unit,color=cm.afmhot((x+2)/17))\n",
    "        #plt.plot(TimeCorr[x],VoltCorr[x],label=str(Efield[x]) + unit,color=cm.afmhot((x+2)/17))\n",
    "\n",
    "#plt.text(325, -10, r'750 Torr', fontsize=30)\n",
    "#plt.text(25, 10, r'RC=10$\\mu$s', fontsize=30)\n",
    "#plt.title('BTX ION drift 5-24-17 ',fontsize=30)\n",
    "plt.xlim(-10,600)\n",
    "plt.ylim(-50,1300)\n",
    "plt.xlabel(r'Time / ms',fontsize=26)\n",
    "plt.ylabel('Voltaeg / muV',fontsize=26)\n",
    "plt.xticks(fontsize=24)\n",
    "plt.yticks(fontsize=24)\n",
    "#plt.xticks(np.arange(0, 400, 50.0))\n",
    "plt.grid()\n",
    "plt.legend(loc='upper right',fontsize=25)\n",
    "plt.tight_layout()\n",
    "#plt.savefig('ION-075.pdf')\n",
    "\n",
    "plt.show()"
   ]
  },
  {
   "cell_type": "code",
   "execution_count": null,
   "metadata": {
    "collapsed": true
   },
   "outputs": [],
   "source": []
  },
  {
   "cell_type": "code",
   "execution_count": 154,
   "metadata": {},
   "outputs": [
    {
     "data": {
      "text/plain": [
       "array([ 100.,  125.,  150.,  175.])"
      ]
     },
     "execution_count": 154,
     "metadata": {},
     "output_type": "execute_result"
    }
   ],
   "source": [
    "Efield[2:6]"
   ]
  },
  {
   "cell_type": "code",
   "execution_count": 155,
   "metadata": {},
   "outputs": [
    {
     "data": {
      "image/png": "[encoded data removed]",
      "text/plain": [
       "<matplotlib.figure.Figure at 0x12054dba8>"
      ]
     },
     "metadata": {},
     "output_type": "display_data"
    }
   ],
   "source": [
    "plt.figure(figsize=(7,7))\n",
    "plt.scatter(Efield[2:6],arrival,linewidth=3,color='g')\n",
    "plt.xlim(0,205)\n",
    "#plt.ylim(90,140)\n",
    "plt.xlabel(r'Eletric field  V/cm',fontsize=26)\n",
    "plt.ylabel(r'drift time ms',fontsize=26)\n",
    "plt.xticks(fontsize=24)\n",
    "plt.yticks(fontsize=24)\n",
    "plt.tight_layout()\n",
    "#plt.savefig('BTX_ION_drift_velocity_5-24-17-2.pdf')\n",
    "\n",
    "plt.show()"
   ]
  },
  {
   "cell_type": "code",
   "execution_count": null,
   "metadata": {
    "collapsed": true
   },
   "outputs": [],
   "source": []
  },
  {
   "cell_type": "code",
   "execution_count": 156,
   "metadata": {},
   "outputs": [
    {
     "data": {
      "text/plain": [
       "array([ 50,  55,  60,  65,  70,  75,  80,  85,  90,  95, 100, 105, 110,\n",
       "       115, 120, 125, 130, 135, 140, 145, 150, 155, 160, 165, 170, 175,\n",
       "       180, 185, 190, 195])"
      ]
     },
     "execution_count": 156,
     "metadata": {},
     "output_type": "execute_result"
    }
   ],
   "source": [
    "Te"
   ]
  },
  {
   "cell_type": "code",
   "execution_count": 158,
   "metadata": {},
   "outputs": [
    {
     "data": {
      "image/png": "[encoded data removed]",
      "text/plain": [
       "<matplotlib.figure.Figure at 0x122f23d68>"
      ]
     },
     "metadata": {},
     "output_type": "display_data"
    },
    {
     "data": {
      "text/plain": [
       "array([ 0.02550635])"
      ]
     },
     "execution_count": 158,
     "metadata": {},
     "output_type": "execute_result"
    }
   ],
   "source": [
    "Te = np.arange(50, 200, 5)\n",
    "x = Efield[3:6]\n",
    "y = arrival[1:4]\n",
    "def srt(E,k0):\n",
    "    return 1/k0*20/E\n",
    "popt,pcov =curve_fit(srt,  x,  y)\n",
    "plt.figure(figsize=(7,7))\n",
    "plt.plot(x,y,'g^:',label='data')\n",
    "plt.scatter(Te,srt(Te,*popt),color='r',alpha=0.4)\n",
    "plt.xlim(0,200)\n",
    "#plt.ylim(0,200)\n",
    "plt.show()\n",
    "popt*100"
   ]
  },
  {
   "cell_type": "code",
   "execution_count": null,
   "metadata": {
    "collapsed": true
   },
   "outputs": [],
   "source": []
  },
  {
   "cell_type": "code",
   "execution_count": 119,
   "metadata": {},
   "outputs": [
    {
     "data": {
      "text/plain": [
       "['0.75bar', '1bar', '2bar', '3bar', '4bar', '5bar']"
      ]
     },
     "execution_count": 119,
     "metadata": {},
     "output_type": "execute_result"
    }
   ],
   "source": [
    "pressure[0:6]"
   ]
  },
  {
   "cell_type": "code",
   "execution_count": 159,
   "metadata": {},
   "outputs": [
    {
     "data": {
      "text/plain": [
       "array([ 0.02550635])"
      ]
     },
     "execution_count": 159,
     "metadata": {},
     "output_type": "execute_result"
    }
   ],
   "source": [
    "popt*100 #converts it to seconds"
   ]
  },
  {
   "cell_type": "code",
   "execution_count": 160,
   "metadata": {
    "collapsed": true
   },
   "outputs": [],
   "source": [
    "RudMob = np.array([0.20322658,0.08902632,0.06948859,0.05332866,0.03035011,0.02550635])\n",
    "press  = np.array([0.75,1,2,3,4,5])"
   ]
  },
  {
   "cell_type": "code",
   "execution_count": 161,
   "metadata": {},
   "outputs": [
    {
     "data": {
      "image/png": "[encoded data removed]",
      "text/plain": [
       "<matplotlib.figure.Figure at 0x1258abf60>"
      ]
     },
     "metadata": {},
     "output_type": "display_data"
    }
   ],
   "source": [
    "plt.figure(figsize=(7,7))\n",
    "plt.scatter(press,RudMob,linewidth=2,color='blue')\n",
    "plt.xlim(0,6)\n",
    "#plt.ylim(90,140)\n",
    "plt.xlabel(r'Pressure / bar',fontsize=26)\n",
    "plt.ylabel(r'Reduced Mobility ',fontsize=26)\n",
    "plt.xticks(fontsize=24)\n",
    "plt.yticks(fontsize=24)\n",
    "plt.tight_layout()\n",
    "#plt.savefig('Ar mobility.pdf')\n",
    "\n",
    "plt.show()"
   ]
  },
  {
   "cell_type": "code",
   "execution_count": null,
   "metadata": {
    "collapsed": true
   },
   "outputs": [],
   "source": []
  },
  {
   "cell_type": "code",
   "execution_count": null,
   "metadata": {
    "collapsed": true
   },
   "outputs": [],
   "source": []
  },
  {
   "cell_type": "code",
   "execution_count": null,
   "metadata": {
    "collapsed": true
   },
   "outputs": [],
   "source": []
  },
  {
   "cell_type": "code",
   "execution_count": null,
   "metadata": {
    "collapsed": true
   },
   "outputs": [],
   "source": []
  },
  {
   "cell_type": "code",
   "execution_count": null,
   "metadata": {
    "collapsed": true
   },
   "outputs": [],
   "source": []
  },
  {
   "cell_type": "code",
   "execution_count": null,
   "metadata": {
    "collapsed": true
   },
   "outputs": [],
   "source": []
  },
  {
   "cell_type": "code",
   "execution_count": null,
   "metadata": {
    "collapsed": true
   },
   "outputs": [],
   "source": []
  },
  {
   "cell_type": "code",
   "execution_count": null,
   "metadata": {
    "collapsed": true
   },
   "outputs": [],
   "source": []
  },
  {
   "cell_type": "code",
   "execution_count": null,
   "metadata": {
    "collapsed": true
   },
   "outputs": [],
   "source": []
  },
  {
   "cell_type": "code",
   "execution_count": 35,
   "metadata": {
    "collapsed": true
   },
   "outputs": [],
   "source": [
    "Fdata = []\n",
    "Ftime = []\n",
    "for x in range(2,len(paths)):\n",
    "    Fdata.append(((Volt[x]+abs(np.mean(Volt[x][0:9000])))*ml)[12000:])\n",
    "    Ftime.append((Time[x]*ml)[12000:])"
   ]
  },
  {
   "cell_type": "code",
   "execution_count": 77,
   "metadata": {},
   "outputs": [
    {
     "data": {
      "image/png": "[encoded data removed]",
      "text/plain": [
       "<matplotlib.figure.Figure at 0x1176c9668>"
      ]
     },
     "metadata": {},
     "output_type": "display_data"
    }
   ],
   "source": [
    "for x in range(0,1):\n",
    "    plt.plot(Ftime[x],Fdata[x])"
   ]
  },
  {
   "cell_type": "code",
   "execution_count": 49,
   "metadata": {},
   "outputs": [
    {
     "data": {
      "text/plain": [
       "131.93447988286135"
      ]
     },
     "execution_count": 49,
     "metadata": {},
     "output_type": "execute_result"
    }
   ],
   "source": [
    "MeanLoc = np.where(Fdata[0]==max(Fdata[0]))[0][0]\n",
    "Mean = Ftime[0][aa]"
   ]
  },
  {
   "cell_type": "code",
   "execution_count": 32,
   "metadata": {
    "collapsed": true
   },
   "outputs": [],
   "source": [
    "def Gauss(x, a, x0, sigma):\n",
    "    return a * np.exp(-(x - x0)**2 / (2 * sigma**2))\n",
    "def find_nearest(array,value):\n",
    "    idx = (np.abs(array-value)).argmin()\n",
    "    return array[idx]\n",
    "def find_fit_vals(dataX,dataY):\n",
    "    maxx = max(dataY)\n",
    "    sig_val = maxx*0.5\n",
    "    MeanLoc = np.where(dataY==max(dataY))[0][0]\n",
    "    Mean = dataX[MeanLoc]\n",
    "    L = dataY[0:MeanLoc]\n",
    "    R = dataY[MeanLoc:len(dataY)]\n",
    "    LP =find_nearest(L,sig_val)\n",
    "    RP =find_nearest(R,sig_val)\n",
    "    whereL = np.where(L==LP)[0][0]\n",
    "    whereR = np.where(R==RP)[0][0]\n",
    "    Lpoint = dataX[whereL]\n",
    "    Rpoint = dataX[MeanLoc+whereR]\n",
    "    sigma_point = (Rpoint-Lpoint)/2   \n",
    "    return (Mean,sigma_point)"
   ]
  },
  {
   "cell_type": "code",
   "execution_count": null,
   "metadata": {
    "collapsed": true
   },
   "outputs": [],
   "source": []
  },
  {
   "cell_type": "code",
   "execution_count": 33,
   "metadata": {},
   "outputs": [
    {
     "ename": "NameError",
     "evalue": "name 'Ftime' is not defined",
     "output_type": "error",
     "traceback": [
      "\u001b[0;31m---------------------------------------------------------------------------\u001b[0m",
      "\u001b[0;31mNameError\u001b[0m                                 Traceback (most recent call last)",
      "\u001b[0;32m<ipython-input-33-1876f3df19f2>\u001b[0m in \u001b[0;36m<module>\u001b[0;34m()\u001b[0m\n\u001b[1;32m      1\u001b[0m \u001b[0mFitVals\u001b[0m \u001b[0;34m=\u001b[0m \u001b[0;34m[\u001b[0m\u001b[0;34m]\u001b[0m\u001b[0;34m\u001b[0m\u001b[0m\n\u001b[1;32m      2\u001b[0m \u001b[0;32mfor\u001b[0m \u001b[0mq\u001b[0m \u001b[0;32min\u001b[0m \u001b[0mrange\u001b[0m\u001b[0;34m(\u001b[0m\u001b[0;36m0\u001b[0m\u001b[0;34m,\u001b[0m\u001b[0mlen\u001b[0m\u001b[0;34m(\u001b[0m\u001b[0mpaths\u001b[0m\u001b[0;34m)\u001b[0m\u001b[0;34m-\u001b[0m\u001b[0;36m2\u001b[0m\u001b[0;34m)\u001b[0m\u001b[0;34m:\u001b[0m\u001b[0;34m\u001b[0m\u001b[0m\n\u001b[0;32m----> 3\u001b[0;31m     \u001b[0mx\u001b[0m \u001b[0;34m=\u001b[0m \u001b[0mFtime\u001b[0m\u001b[0;34m[\u001b[0m\u001b[0mq\u001b[0m\u001b[0;34m]\u001b[0m\u001b[0;34m\u001b[0m\u001b[0m\n\u001b[0m\u001b[1;32m      4\u001b[0m     \u001b[0my\u001b[0m \u001b[0;34m=\u001b[0m \u001b[0mFdata\u001b[0m\u001b[0;34m[\u001b[0m\u001b[0mq\u001b[0m\u001b[0;34m]\u001b[0m\u001b[0;34m\u001b[0m\u001b[0m\n\u001b[1;32m      5\u001b[0m     \u001b[0maa\u001b[0m \u001b[0;34m=\u001b[0m \u001b[0mfind_fit_vals\u001b[0m\u001b[0;34m(\u001b[0m\u001b[0mx\u001b[0m\u001b[0;34m,\u001b[0m\u001b[0my\u001b[0m\u001b[0;34m)\u001b[0m\u001b[0;34m\u001b[0m\u001b[0m\n",
      "\u001b[0;31mNameError\u001b[0m: name 'Ftime' is not defined"
     ]
    }
   ],
   "source": [
    "FitVals = []\n",
    "for q in range(0,len(paths)-2):\n",
    "    x = Ftime[q]\n",
    "    y = Fdata[q]\n",
    "    aa = find_fit_vals(x,y)\n",
    "    popt,pcov = curve_fit(Gauss, x, y, p0=[max(y), aa[0], aa[1]])\n",
    "    FitVals.append(popt)\n",
    "    "
   ]
  },
  {
   "cell_type": "code",
   "execution_count": null,
   "metadata": {
    "collapsed": true
   },
   "outputs": [],
   "source": []
  },
  {
   "cell_type": "code",
   "execution_count": null,
   "metadata": {
    "collapsed": true
   },
   "outputs": [],
   "source": []
  },
  {
   "cell_type": "code",
   "execution_count": null,
   "metadata": {
    "collapsed": true
   },
   "outputs": [],
   "source": []
  },
  {
   "cell_type": "code",
   "execution_count": null,
   "metadata": {
    "collapsed": true
   },
   "outputs": [],
   "source": []
  },
  {
   "cell_type": "code",
   "execution_count": null,
   "metadata": {
    "collapsed": true
   },
   "outputs": [],
   "source": []
  },
  {
   "cell_type": "code",
   "execution_count": 105,
   "metadata": {
    "collapsed": true
   },
   "outputs": [],
   "source": [
    "cut =9000\n",
    "arrival=[]\n",
    "velocity=[]\n",
    "for x in range(0,len(paths)):\n",
    "    mins=max(VoltCorr[x][cut:])\n",
    "    arrival.append( TimeCorr[x][cut:][np.where(VoltCorr[x][cut:]==mins)[0][0]])\n",
    "    velocity.append(20/ (TimeCorr[x][cut:][np.where(VoltCorr[x][cut:]==mins)[0][0]]))\n"
   ]
  },
  {
   "cell_type": "code",
   "execution_count": 101,
   "metadata": {},
   "outputs": [
    {
     "data": {
      "text/plain": [
       "[163.80762699636637,\n",
       " 139.74737350361283,\n",
       " 114.69991664253239,\n",
       " 102.51795855095176,\n",
       " 91.673700894307117,\n",
       " 78.93612393298217]"
      ]
     },
     "execution_count": 101,
     "metadata": {},
     "output_type": "execute_result"
    }
   ],
   "source": [
    "arrival"
   ]
  },
  {
   "cell_type": "code",
   "execution_count": null,
   "metadata": {
    "collapsed": true
   },
   "outputs": [],
   "source": []
  },
  {
   "cell_type": "code",
   "execution_count": null,
   "metadata": {
    "collapsed": true
   },
   "outputs": [],
   "source": []
  },
  {
   "cell_type": "code",
   "execution_count": null,
   "metadata": {
    "collapsed": true
   },
   "outputs": [],
   "source": []
  },
  {
   "cell_type": "code",
   "execution_count": null,
   "metadata": {
    "collapsed": true
   },
   "outputs": [],
   "source": []
  },
  {
   "cell_type": "code",
   "execution_count": null,
   "metadata": {
    "collapsed": true
   },
   "outputs": [],
   "source": []
  },
  {
   "cell_type": "code",
   "execution_count": null,
   "metadata": {
    "collapsed": true
   },
   "outputs": [],
   "source": []
  },
  {
   "cell_type": "code",
   "execution_count": null,
   "metadata": {
    "collapsed": true
   },
   "outputs": [],
   "source": []
  },
  {
   "cell_type": "code",
   "execution_count": null,
   "metadata": {
    "collapsed": true
   },
   "outputs": [],
   "source": []
  },
  {
   "cell_type": "code",
   "execution_count": 106,
   "metadata": {},
   "outputs": [
    {
     "data": {
      "image/png": "[encoded data removed]",
      "text/plain": [
       "<matplotlib.figure.Figure at 0x108ed74e0>"
      ]
     },
     "metadata": {},
     "output_type": "display_data"
    }
   ],
   "source": [
    "plt.figure(figsize=(7,7))\n",
    "plt.scatter(Efield,velocity,linewidth=3,color='g')\n",
    "plt.title('BTX Ion drift velocity',fontsize=30)\n",
    "plt.xlim(0,205)\n",
    "#plt.ylim(90,140)\n",
    "plt.xlabel(r'Eletric field  V/cm',fontsize=26)\n",
    "plt.ylabel(r'drift velocity mm/ms',fontsize=26)\n",
    "plt.xticks(fontsize=24)\n",
    "plt.yticks(fontsize=24)\n",
    "plt.tight_layout()\n",
    "#plt.savefig('BTX_ION_drift_velocity_5-24-17-2.pdf')\n",
    "\n",
    "plt.show()"
   ]
  },
  {
   "cell_type": "code",
   "execution_count": 107,
   "metadata": {},
   "outputs": [
    {
     "data": {
      "text/plain": [
       "array([ 0.00103114,  0.06836393])"
      ]
     },
     "execution_count": 107,
     "metadata": {},
     "output_type": "execute_result"
    }
   ],
   "source": [
    "np.polyfit(Efield,velocity, 1)"
   ]
  },
  {
   "cell_type": "code",
   "execution_count": null,
   "metadata": {
    "collapsed": true
   },
   "outputs": [],
   "source": []
  },
  {
   "cell_type": "code",
   "execution_count": null,
   "metadata": {
    "collapsed": true
   },
   "outputs": [],
   "source": []
  },
  {
   "cell_type": "code",
   "execution_count": null,
   "metadata": {
    "collapsed": true
   },
   "outputs": [],
   "source": []
  }
 ],
 "metadata": {
  "anaconda-cloud": {},
  "kernelspec": {
   "display_name": "Python 3",
   "language": "python",
   "name": "python3"
  },
  "language_info": {
   "codemirror_mode": {
    "name": "ipython",
    "version": 3
   },
   "file_extension": ".py",
   "mimetype": "text/x-python",
   "name": "python",
   "nbconvert_exporter": "python",
   "pygments_lexer": "ipython3",
   "version": "3.5.2"
  }
 },
 "nbformat": 4,
 "nbformat_minor": 1
}
