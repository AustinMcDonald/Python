{
 "cells": [
  {
   "cell_type": "code",
   "execution_count": 9,
   "metadata": {
    "collapsed": true
   },
   "outputs": [],
   "source": [
    "import numpy as np\n",
    "import glob\n",
    "import os\n",
    "%matplotlib inline\n",
    "from readTRC import readTrc"
   ]
  },
  {
   "cell_type": "code",
   "execution_count": 10,
   "metadata": {
    "collapsed": true
   },
   "outputs": [],
   "source": [
    "def find_nearest(array,value):\n",
    "    idx = (np.abs(array-value)).argmin()\n",
    "    return array[idx]"
   ]
  },
  {
   "cell_type": "code",
   "execution_count": null,
   "metadata": {
    "collapsed": true
   },
   "outputs": [],
   "source": []
  },
  {
   "cell_type": "code",
   "execution_count": 12,
   "metadata": {},
   "outputs": [
    {
     "data": {
      "text/plain": [
       "['/Users/austinmcdonald/Desktop/data/Ion-stuff/Ion mobilitys/Argon/091218-A250-2bar/150/',\n",
       " '/Users/austinmcdonald/Desktop/data/Ion-stuff/Ion mobilitys/Argon/091218-A250-2bar/025/',\n",
       " '/Users/austinmcdonald/Desktop/data/Ion-stuff/Ion mobilitys/Argon/091218-A250-2bar/250/',\n",
       " '/Users/austinmcdonald/Desktop/data/Ion-stuff/Ion mobilitys/Argon/091218-A250-2bar/175/',\n",
       " '/Users/austinmcdonald/Desktop/data/Ion-stuff/Ion mobilitys/Argon/091218-A250-2bar/100/',\n",
       " '/Users/austinmcdonald/Desktop/data/Ion-stuff/Ion mobilitys/Argon/091218-A250-2bar/075/',\n",
       " '/Users/austinmcdonald/Desktop/data/Ion-stuff/Ion mobilitys/Argon/091218-A250-2bar/225/',\n",
       " '/Users/austinmcdonald/Desktop/data/Ion-stuff/Ion mobilitys/Argon/091218-A250-2bar/200/',\n",
       " '/Users/austinmcdonald/Desktop/data/Ion-stuff/Ion mobilitys/Argon/091218-A250-2bar/050/',\n",
       " '/Users/austinmcdonald/Desktop/data/Ion-stuff/Ion mobilitys/Argon/091218-A250-2bar/125/']"
      ]
     },
     "execution_count": 12,
     "metadata": {},
     "output_type": "execute_result"
    }
   ],
   "source": [
    "PATH = '/Users/austinmcdonald/Desktop/data/Ion-stuff/Ion mobilitys/Argon/091218-A250-2bar/'\n",
    "folders = glob.glob(PATH+\"*/\")\n",
    "folders"
   ]
  },
  {
   "cell_type": "code",
   "execution_count": 13,
   "metadata": {},
   "outputs": [
    {
     "data": {
      "text/plain": [
       "'150'"
      ]
     },
     "execution_count": 13,
     "metadata": {},
     "output_type": "execute_result"
    }
   ],
   "source": [
    "folders[0].split('/')[-2]"
   ]
  },
  {
   "cell_type": "code",
   "execution_count": null,
   "metadata": {
    "collapsed": true
   },
   "outputs": [],
   "source": []
  },
  {
   "cell_type": "code",
   "execution_count": 14,
   "metadata": {
    "collapsed": true
   },
   "outputs": [],
   "source": [
    "for q in range(0,len(folders)):\n",
    "    files = os.listdir(folders[q])\n",
    "    Name = folders[q].split('/')[-2]\n",
    "    N = len(files)\n",
    "    \n",
    "    X, Y, info = readTrc(folders[q]+files[0])\n",
    "    \n",
    "    Yvals = np.zeros(X.shape[0])\n",
    "    Xvals = np.zeros(Y.shape[0])\n",
    "    avg = 0\n",
    "    for w in range(0,N):\n",
    "        X, Y, info = readTrc(folders[q]+files[w])\n",
    "        if Y.shape[0]==Yvals.shape[0] and X.shape[0]==Xvals.shape[0]:\n",
    "            Yvals += Y\n",
    "            Xvals += X\n",
    "            avg   += 1\n",
    "    Yvals = Yvals/avg\n",
    "    Xvals = Xvals/avg\n",
    "    TriggerTime = find_nearest(Xvals,0)\n",
    "    Trigger     = np.where(Xvals==TriggerTime)[0][0]\n",
    "    baseline    = np.mean(Yvals[0:Trigger])\n",
    "    data = [Xvals,Yvals-baseline]\n",
    "    np.savetxt(PATH+Name+'.txt',data)\n",
    "    \n",
    "    "
   ]
  },
  {
   "cell_type": "code",
   "execution_count": null,
   "metadata": {
    "collapsed": true
   },
   "outputs": [],
   "source": []
  },
  {
   "cell_type": "code",
   "execution_count": null,
   "metadata": {
    "collapsed": true
   },
   "outputs": [],
   "source": []
  },
  {
   "cell_type": "code",
   "execution_count": null,
   "metadata": {
    "collapsed": true
   },
   "outputs": [],
   "source": []
  },
  {
   "cell_type": "code",
   "execution_count": null,
   "metadata": {
    "collapsed": true
   },
   "outputs": [],
   "source": []
  }
 ],
 "metadata": {
  "anaconda-cloud": {},
  "kernelspec": {
   "display_name": "Python 3",
   "language": "python",
   "name": "python3"
  },
  "language_info": {
   "codemirror_mode": {
    "name": "ipython",
    "version": 3
   },
   "file_extension": ".py",
   "mimetype": "text/x-python",
   "name": "python",
   "nbconvert_exporter": "python",
   "pygments_lexer": "ipython3",
   "version": "3.5.2"
  }
 },
 "nbformat": 4,
 "nbformat_minor": 1
}
