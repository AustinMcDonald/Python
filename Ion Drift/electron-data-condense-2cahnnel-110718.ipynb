{
 "cells": [
  {
   "cell_type": "code",
   "execution_count": 1,
   "metadata": {
    "collapsed": true
   },
   "outputs": [],
   "source": [
    "import numpy as np\n",
    "import glob\n",
    "import os\n",
    "%matplotlib inline\n",
    "from readTRC import readTrc\n",
    "import matplotlib.pyplot as plt\n"
   ]
  },
  {
   "cell_type": "code",
   "execution_count": 2,
   "metadata": {
    "collapsed": true
   },
   "outputs": [],
   "source": [
    "def find_nearest(array,value):\n",
    "    idx = (np.abs(array-value)).argmin()\n",
    "    return array[idx]\n",
    "\n",
    "def moving_average(a, n=3) :\n",
    "    ret = np.cumsum(a, dtype=float)\n",
    "    ret[n:] = ret[n:] - ret[:-n]\n",
    "    return ret[n - 1:] / n"
   ]
  },
  {
   "cell_type": "code",
   "execution_count": null,
   "metadata": {
    "collapsed": true
   },
   "outputs": [],
   "source": []
  },
  {
   "cell_type": "code",
   "execution_count": 3,
   "metadata": {},
   "outputs": [
    {
     "data": {
      "text/plain": [
       "['/Users/austinmcdonald/Desktop/Extraction-Both-100Vcm-110719/0000/',\n",
       " '/Users/austinmcdonald/Desktop/Extraction-Both-100Vcm-110719/0020/',\n",
       " '/Users/austinmcdonald/Desktop/Extraction-Both-100Vcm-110719/0040/',\n",
       " '/Users/austinmcdonald/Desktop/Extraction-Both-100Vcm-110719/0060/',\n",
       " '/Users/austinmcdonald/Desktop/Extraction-Both-100Vcm-110719/0080/',\n",
       " '/Users/austinmcdonald/Desktop/Extraction-Both-100Vcm-110719/0100/',\n",
       " '/Users/austinmcdonald/Desktop/Extraction-Both-100Vcm-110719/0120/',\n",
       " '/Users/austinmcdonald/Desktop/Extraction-Both-100Vcm-110719/0140/',\n",
       " '/Users/austinmcdonald/Desktop/Extraction-Both-100Vcm-110719/0160/',\n",
       " '/Users/austinmcdonald/Desktop/Extraction-Both-100Vcm-110719/0180/',\n",
       " '/Users/austinmcdonald/Desktop/Extraction-Both-100Vcm-110719/0200/',\n",
       " '/Users/austinmcdonald/Desktop/Extraction-Both-100Vcm-110719/0220/',\n",
       " '/Users/austinmcdonald/Desktop/Extraction-Both-100Vcm-110719/0240/',\n",
       " '/Users/austinmcdonald/Desktop/Extraction-Both-100Vcm-110719/0260/',\n",
       " '/Users/austinmcdonald/Desktop/Extraction-Both-100Vcm-110719/0280/',\n",
       " '/Users/austinmcdonald/Desktop/Extraction-Both-100Vcm-110719/0300/',\n",
       " '/Users/austinmcdonald/Desktop/Extraction-Both-100Vcm-110719/0320/',\n",
       " '/Users/austinmcdonald/Desktop/Extraction-Both-100Vcm-110719/0340/',\n",
       " '/Users/austinmcdonald/Desktop/Extraction-Both-100Vcm-110719/0360/',\n",
       " '/Users/austinmcdonald/Desktop/Extraction-Both-100Vcm-110719/0380/',\n",
       " '/Users/austinmcdonald/Desktop/Extraction-Both-100Vcm-110719/0400/',\n",
       " '/Users/austinmcdonald/Desktop/Extraction-Both-100Vcm-110719/0420/',\n",
       " '/Users/austinmcdonald/Desktop/Extraction-Both-100Vcm-110719/0440/',\n",
       " '/Users/austinmcdonald/Desktop/Extraction-Both-100Vcm-110719/0460/',\n",
       " '/Users/austinmcdonald/Desktop/Extraction-Both-100Vcm-110719/0480/',\n",
       " '/Users/austinmcdonald/Desktop/Extraction-Both-100Vcm-110719/0500/',\n",
       " '/Users/austinmcdonald/Desktop/Extraction-Both-100Vcm-110719/0520/',\n",
       " '/Users/austinmcdonald/Desktop/Extraction-Both-100Vcm-110719/0540/',\n",
       " '/Users/austinmcdonald/Desktop/Extraction-Both-100Vcm-110719/0560/',\n",
       " '/Users/austinmcdonald/Desktop/Extraction-Both-100Vcm-110719/0580/',\n",
       " '/Users/austinmcdonald/Desktop/Extraction-Both-100Vcm-110719/0600/',\n",
       " '/Users/austinmcdonald/Desktop/Extraction-Both-100Vcm-110719/0620/',\n",
       " '/Users/austinmcdonald/Desktop/Extraction-Both-100Vcm-110719/0640/',\n",
       " '/Users/austinmcdonald/Desktop/Extraction-Both-100Vcm-110719/0660/',\n",
       " '/Users/austinmcdonald/Desktop/Extraction-Both-100Vcm-110719/0680/',\n",
       " '/Users/austinmcdonald/Desktop/Extraction-Both-100Vcm-110719/0700/']"
      ]
     },
     "execution_count": 3,
     "metadata": {},
     "output_type": "execute_result"
    }
   ],
   "source": [
    "PATH = '/Users/austinmcdonald/Desktop/Extraction-Both-100Vcm-110719/'\n",
    "folders = glob.glob(PATH+\"*/\")\n",
    "folders.sort()\n",
    "folders"
   ]
  },
  {
   "cell_type": "code",
   "execution_count": 288,
   "metadata": {},
   "outputs": [
    {
     "data": {
      "text/plain": [
       "'Try1'"
      ]
     },
     "execution_count": 288,
     "metadata": {},
     "output_type": "execute_result"
    }
   ],
   "source": [
    "Fold"
   ]
  },
  {
   "cell_type": "code",
   "execution_count": null,
   "metadata": {
    "collapsed": true
   },
   "outputs": [],
   "source": []
  },
  {
   "cell_type": "code",
   "execution_count": null,
   "metadata": {
    "collapsed": true
   },
   "outputs": [],
   "source": []
  },
  {
   "cell_type": "code",
   "execution_count": 6,
   "metadata": {
    "collapsed": true
   },
   "outputs": [],
   "source": [
    "for AH in range(0,len(folders)):#    AH = 2\n",
    "    Fold = folders[AH].split('/')[-2]\n",
    "    cut = Fold+'/'\n",
    "\n",
    "    files = os.listdir(folders[AH])\n",
    "\n",
    "    FilesGold   = []\n",
    "    FilesSignal = []\n",
    "\n",
    "    for x in range(0,len(files)):\n",
    "        if int(files[x][1]) ==4:\n",
    "            FilesGold.append(files[x])\n",
    "        if int(files[x][1]) ==3:\n",
    "            FilesSignal.append(files[x])\n",
    "\n",
    "    X, Y, info = readTrc(folders[AH]+FilesSignal[0])\n",
    "\n",
    "    Yvals = np.zeros(X.shape[0])\n",
    "    Xvals = np.zeros(Y.shape[0])\n",
    "    avg = 0\n",
    "    #for w in range(0,1100):\n",
    "    for w in range(0,len(FilesSignal)):\n",
    "\n",
    "        X, Y, info = readTrc(folders[AH]+FilesSignal[w])\n",
    "        if Y.shape[0]==Yvals.shape[0] and X.shape[0]==Xvals.shape[0]:\n",
    "            Yvals += Y\n",
    "            Xvals += X\n",
    "            avg   += 1\n",
    "    SigY = Yvals/avg\n",
    "    SigX = Xvals/avg\n",
    "\n",
    "    TriggerTime = find_nearest(SigX,0)\n",
    "    Trigger     = np.where(SigX==TriggerTime)[0][0]\n",
    "    baseline    = np.mean(SigY[0:Trigger])\n",
    "    data = [SigX,SigY-baseline]\n",
    "    np.savetxt('/Users/austinmcdonald/Desktop/Extraction-Both-100Vcm-110719/'+\"Sig-\"+Fold+'.txt',data)\n",
    "\n",
    "    X, Y, info = readTrc(folders[AH]+FilesGold[1])\n",
    "\n",
    "    Yvals = np.zeros(X.shape[0])\n",
    "    Xvals = np.zeros(Y.shape[0])\n",
    "    avg = 0\n",
    "    #for w in range(0,1100):\n",
    "    for w in range(0,len(FilesGold)):\n",
    "        X, Y, info = readTrc(folders[AH]+FilesGold[w])\n",
    "        if Y.shape[0]==Yvals.shape[0] and X.shape[0]==Xvals.shape[0]:\n",
    "            Yvals += Y\n",
    "            Xvals += X\n",
    "            avg   += 1\n",
    "    GolY = Yvals/avg\n",
    "    GolX = Xvals/avg\n",
    "\n",
    "    TriggerTime = find_nearest(GolX,0)\n",
    "    Trigger     = np.where(GolX==TriggerTime)[0][0]\n",
    "    baseline    = np.mean(GolY[0:Trigger])\n",
    "    data = [GolX,GolY-baseline]\n",
    "    np.savetxt('/Users/austinmcdonald/Desktop/Extraction-Both-100Vcm-110719/'+\"Gol-\"+Fold+'.txt',data)"
   ]
  },
  {
   "cell_type": "code",
   "execution_count": null,
   "metadata": {
    "collapsed": true
   },
   "outputs": [],
   "source": []
  },
  {
   "cell_type": "code",
   "execution_count": null,
   "metadata": {
    "collapsed": true
   },
   "outputs": [],
   "source": []
  },
  {
   "cell_type": "code",
   "execution_count": null,
   "metadata": {
    "collapsed": true
   },
   "outputs": [],
   "source": []
  },
  {
   "cell_type": "code",
   "execution_count": 301,
   "metadata": {},
   "outputs": [
    {
     "data": {
      "text/plain": [
       "3"
      ]
     },
     "execution_count": 301,
     "metadata": {},
     "output_type": "execute_result"
    }
   ],
   "source": [
    "AH = 2\n",
    "Fold = folders[AH].split('/')[-2]\n",
    "cut = Fold+'/'\n",
    "\n",
    "\n",
    "\n",
    "files = os.listdir(folders[AH])\n",
    "#files.remove('.DS_Store')\n",
    "int(files[4][1])"
   ]
  },
  {
   "cell_type": "code",
   "execution_count": null,
   "metadata": {
    "collapsed": true
   },
   "outputs": [],
   "source": []
  },
  {
   "cell_type": "code",
   "execution_count": 302,
   "metadata": {
    "collapsed": true
   },
   "outputs": [],
   "source": [
    "FilesGold   = []\n",
    "FilesSignal = []\n",
    "\n",
    "for x in range(0,len(files)):\n",
    "    if int(files[x][1]) ==4:\n",
    "        FilesGold.append(files[x])\n",
    "    if int(files[x][1]) ==3:\n",
    "        FilesSignal.append(files[x])"
   ]
  },
  {
   "cell_type": "code",
   "execution_count": null,
   "metadata": {
    "collapsed": true
   },
   "outputs": [],
   "source": []
  },
  {
   "cell_type": "code",
   "execution_count": null,
   "metadata": {
    "collapsed": true
   },
   "outputs": [],
   "source": []
  },
  {
   "cell_type": "code",
   "execution_count": 303,
   "metadata": {
    "collapsed": true
   },
   "outputs": [],
   "source": [
    "X, Y, info = readTrc(folders[AH]+FilesSignal[0])\n",
    "\n",
    "Yvals = np.zeros(X.shape[0])\n",
    "Xvals = np.zeros(Y.shape[0])\n",
    "avg = 0\n",
    "#for w in range(0,1100):\n",
    "for w in range(0,len(FilesSignal)):\n",
    "\n",
    "    X, Y, info = readTrc(folders[AH]+FilesSignal[w])\n",
    "    if Y.shape[0]==Yvals.shape[0] and X.shape[0]==Xvals.shape[0]:\n",
    "        Yvals += Y\n",
    "        Xvals += X\n",
    "        avg   += 1\n",
    "SigY = Yvals/avg\n",
    "SigX = Xvals/avg"
   ]
  },
  {
   "cell_type": "code",
   "execution_count": null,
   "metadata": {
    "collapsed": true
   },
   "outputs": [],
   "source": []
  },
  {
   "cell_type": "code",
   "execution_count": null,
   "metadata": {
    "collapsed": true
   },
   "outputs": [],
   "source": []
  },
  {
   "cell_type": "code",
   "execution_count": 304,
   "metadata": {},
   "outputs": [
    {
     "data": {
      "text/plain": [
       "500"
      ]
     },
     "execution_count": 304,
     "metadata": {},
     "output_type": "execute_result"
    }
   ],
   "source": [
    "avg"
   ]
  },
  {
   "cell_type": "code",
   "execution_count": 305,
   "metadata": {
    "collapsed": true
   },
   "outputs": [],
   "source": [
    "TriggerTime = find_nearest(SigX,0)\n",
    "Trigger     = np.where(SigX==TriggerTime)[0][0]\n",
    "baseline    = np.mean(SigY[0:Trigger])\n",
    "data = [SigX,SigY-baseline]\n",
    "np.savetxt('/Users/austinmcdonald/Desktop/Uncertinty-200Vcm-100Vext-110618/'+\"Sig-\"+Fold+'.txt',data)"
   ]
  },
  {
   "cell_type": "code",
   "execution_count": null,
   "metadata": {
    "collapsed": true
   },
   "outputs": [],
   "source": []
  },
  {
   "cell_type": "code",
   "execution_count": null,
   "metadata": {
    "collapsed": true
   },
   "outputs": [],
   "source": []
  },
  {
   "cell_type": "code",
   "execution_count": 306,
   "metadata": {
    "collapsed": true
   },
   "outputs": [],
   "source": [
    "X, Y, info = readTrc(folders[AH]+FilesGold[1])\n",
    "\n",
    "Yvals = np.zeros(X.shape[0])\n",
    "Xvals = np.zeros(Y.shape[0])\n",
    "avg = 0\n",
    "#for w in range(0,1100):\n",
    "for w in range(0,len(FilesGold)):\n",
    "    X, Y, info = readTrc(folders[AH]+FilesGold[w])\n",
    "    if Y.shape[0]==Yvals.shape[0] and X.shape[0]==Xvals.shape[0]:\n",
    "        Yvals += Y\n",
    "        Xvals += X\n",
    "        avg   += 1\n",
    "GolY = Yvals/avg\n",
    "GolX = Xvals/avg"
   ]
  },
  {
   "cell_type": "code",
   "execution_count": 307,
   "metadata": {},
   "outputs": [
    {
     "data": {
      "text/plain": [
       "500"
      ]
     },
     "execution_count": 307,
     "metadata": {},
     "output_type": "execute_result"
    }
   ],
   "source": [
    "avg"
   ]
  },
  {
   "cell_type": "code",
   "execution_count": 308,
   "metadata": {
    "collapsed": true
   },
   "outputs": [],
   "source": [
    "TriggerTime = find_nearest(GolX,0)\n",
    "Trigger     = np.where(GolX==TriggerTime)[0][0]\n",
    "baseline    = np.mean(GolY[0:Trigger])\n",
    "data = [GolX,GolY-baseline]\n",
    "np.savetxt('/Users/austinmcdonald/Desktop/Uncertinty-200Vcm-100Vext-110618/'+\"Gol-\"+Fold+'.txt',data)"
   ]
  },
  {
   "cell_type": "code",
   "execution_count": null,
   "metadata": {
    "collapsed": true
   },
   "outputs": [],
   "source": []
  },
  {
   "cell_type": "code",
   "execution_count": null,
   "metadata": {
    "collapsed": true
   },
   "outputs": [],
   "source": []
  },
  {
   "cell_type": "code",
   "execution_count": null,
   "metadata": {
    "collapsed": true
   },
   "outputs": [],
   "source": []
  },
  {
   "cell_type": "code",
   "execution_count": null,
   "metadata": {
    "collapsed": true
   },
   "outputs": [],
   "source": []
  },
  {
   "cell_type": "code",
   "execution_count": null,
   "metadata": {
    "collapsed": true
   },
   "outputs": [],
   "source": []
  },
  {
   "cell_type": "code",
   "execution_count": null,
   "metadata": {
    "collapsed": true
   },
   "outputs": [],
   "source": []
  },
  {
   "cell_type": "code",
   "execution_count": null,
   "metadata": {
    "collapsed": true
   },
   "outputs": [],
   "source": []
  },
  {
   "cell_type": "code",
   "execution_count": 6,
   "metadata": {},
   "outputs": [
    {
     "ename": "UnicodeDecodeError",
     "evalue": "'utf-8' codec can't decode byte 0x86 in position 27: invalid start byte",
     "output_type": "error",
     "traceback": [
      "\u001b[0;31m---------------------------------------------------------------------------\u001b[0m",
      "\u001b[0;31mUnicodeDecodeError\u001b[0m                        Traceback (most recent call last)",
      "\u001b[0;32m<ipython-input-6-644ef45159bd>\u001b[0m in \u001b[0;36m<module>\u001b[0;34m()\u001b[0m\n\u001b[1;32m      4\u001b[0m     \u001b[0mN\u001b[0m \u001b[0;34m=\u001b[0m \u001b[0mlen\u001b[0m\u001b[0;34m(\u001b[0m\u001b[0mfiles\u001b[0m\u001b[0;34m)\u001b[0m\u001b[0;34m\u001b[0m\u001b[0m\n\u001b[1;32m      5\u001b[0m \u001b[0;34m\u001b[0m\u001b[0m\n\u001b[0;32m----> 6\u001b[0;31m     \u001b[0mX\u001b[0m\u001b[0;34m,\u001b[0m \u001b[0mY\u001b[0m\u001b[0;34m,\u001b[0m \u001b[0minfo\u001b[0m \u001b[0;34m=\u001b[0m \u001b[0mreadTrc\u001b[0m\u001b[0;34m(\u001b[0m\u001b[0mfolders\u001b[0m\u001b[0;34m[\u001b[0m\u001b[0mq\u001b[0m\u001b[0;34m]\u001b[0m\u001b[0;34m+\u001b[0m\u001b[0mfiles\u001b[0m\u001b[0;34m[\u001b[0m\u001b[0;36m0\u001b[0m\u001b[0;34m]\u001b[0m\u001b[0;34m)\u001b[0m\u001b[0;34m\u001b[0m\u001b[0m\n\u001b[0m\u001b[1;32m      7\u001b[0m \u001b[0;34m\u001b[0m\u001b[0m\n\u001b[1;32m      8\u001b[0m     \u001b[0mYvals\u001b[0m \u001b[0;34m=\u001b[0m \u001b[0mnp\u001b[0m\u001b[0;34m.\u001b[0m\u001b[0mzeros\u001b[0m\u001b[0;34m(\u001b[0m\u001b[0mX\u001b[0m\u001b[0;34m.\u001b[0m\u001b[0mshape\u001b[0m\u001b[0;34m[\u001b[0m\u001b[0;36m0\u001b[0m\u001b[0;34m]\u001b[0m\u001b[0;34m)\u001b[0m\u001b[0;34m\u001b[0m\u001b[0m\n",
      "\u001b[0;32m/Users/austinmcdonald/Documents/Python/Ion Drift/readTRC.py\u001b[0m in \u001b[0;36mreadTrc\u001b[0;34m(fName)\u001b[0m\n\u001b[1;32m     30\u001b[0m     \"\"\"\n\u001b[1;32m     31\u001b[0m     \u001b[0;32mwith\u001b[0m \u001b[0mopen\u001b[0m\u001b[0;34m(\u001b[0m\u001b[0mfName\u001b[0m\u001b[0;34m,\u001b[0m \u001b[0;34m\"rb\"\u001b[0m\u001b[0;34m)\u001b[0m \u001b[0;32mas\u001b[0m \u001b[0mfid\u001b[0m\u001b[0;34m:\u001b[0m\u001b[0;34m\u001b[0m\u001b[0m\n\u001b[0;32m---> 32\u001b[0;31m         \u001b[0mdata\u001b[0m \u001b[0;34m=\u001b[0m \u001b[0mfid\u001b[0m\u001b[0;34m.\u001b[0m\u001b[0mread\u001b[0m\u001b[0;34m(\u001b[0m\u001b[0;36m50\u001b[0m\u001b[0;34m)\u001b[0m\u001b[0;34m.\u001b[0m\u001b[0mdecode\u001b[0m\u001b[0;34m(\u001b[0m\u001b[0;34m)\u001b[0m\u001b[0;34m\u001b[0m\u001b[0m\n\u001b[0m\u001b[1;32m     33\u001b[0m         \u001b[0mwdOffset\u001b[0m \u001b[0;34m=\u001b[0m \u001b[0mdata\u001b[0m\u001b[0;34m.\u001b[0m\u001b[0mfind\u001b[0m\u001b[0;34m(\u001b[0m\u001b[0;34m'WAVEDESC'\u001b[0m\u001b[0;34m)\u001b[0m\u001b[0;34m\u001b[0m\u001b[0m\n\u001b[1;32m     34\u001b[0m \u001b[0;34m\u001b[0m\u001b[0m\n",
      "\u001b[0;31mUnicodeDecodeError\u001b[0m: 'utf-8' codec can't decode byte 0x86 in position 27: invalid start byte"
     ]
    }
   ],
   "source": [
    "for q in range(3,4):\n",
    "    files = os.listdir(folders[q])\n",
    "    Name = folders[q].split('/')[-2]\n",
    "    N = len(files)\n",
    "    \n",
    "    X, Y, info = readTrc(folders[q]+files[0])\n",
    "    \n",
    "    Yvals = np.zeros(X.shape[0])\n",
    "    Xvals = np.zeros(Y.shape[0])\n",
    "    avg = 0\n",
    "    for w in range(0,N):\n",
    "        X, Y, info = readTrc(folders[q]+files[w])\n",
    "        if Y.shape[0]==Yvals.shape[0] and X.shape[0]==Xvals.shape[0]:\n",
    "            Yvals += Y\n",
    "            Xvals += X\n",
    "            avg   += 1\n",
    "    Yvals = Yvals/avg\n",
    "    Xvals = Xvals/avg\n",
    "    TriggerTime = find_nearest(Xvals,0)\n",
    "    Trigger     = np.where(Xvals==TriggerTime)[0][0]\n",
    "    baseline    = np.mean(Yvals[0:Trigger])\n",
    "    data = [Xvals,Yvals-baseline]\n",
    "    np.savetxt(PATH+Name+'.txt',data)\n",
    "    \n",
    "    "
   ]
  },
  {
   "cell_type": "code",
   "execution_count": null,
   "metadata": {
    "collapsed": true
   },
   "outputs": [],
   "source": []
  },
  {
   "cell_type": "code",
   "execution_count": null,
   "metadata": {
    "collapsed": true
   },
   "outputs": [],
   "source": []
  },
  {
   "cell_type": "code",
   "execution_count": null,
   "metadata": {
    "collapsed": true
   },
   "outputs": [],
   "source": []
  },
  {
   "cell_type": "code",
   "execution_count": 26,
   "metadata": {},
   "outputs": [
    {
     "data": {
      "text/plain": [
       "array([ 0.01477493,  0.01506118,  0.01478548, ...,  0.01492791,\n",
       "        0.01496623,  0.01486933])"
      ]
     },
     "execution_count": 26,
     "metadata": {},
     "output_type": "execute_result"
    }
   ],
   "source": [
    "Yvals"
   ]
  },
  {
   "cell_type": "code",
   "execution_count": null,
   "metadata": {
    "collapsed": true
   },
   "outputs": [],
   "source": []
  },
  {
   "cell_type": "code",
   "execution_count": null,
   "metadata": {
    "collapsed": true
   },
   "outputs": [],
   "source": []
  },
  {
   "cell_type": "code",
   "execution_count": null,
   "metadata": {
    "collapsed": true
   },
   "outputs": [],
   "source": []
  },
  {
   "cell_type": "code",
   "execution_count": null,
   "metadata": {
    "collapsed": true
   },
   "outputs": [],
   "source": [
    "files = os.listdir()\n",
    "#files.remove('.DS_Store')\n"
   ]
  },
  {
   "cell_type": "code",
   "execution_count": null,
   "metadata": {
    "collapsed": true
   },
   "outputs": [],
   "source": [
    "len(files)"
   ]
  },
  {
   "cell_type": "code",
   "execution_count": null,
   "metadata": {
    "collapsed": true
   },
   "outputs": [],
   "source": [
    "N = len(files)\n",
    "Yvals = np.zeros(50e3+2)\n",
    "Xvals = np.zeros(50e3+2)\n",
    "\n",
    "for q in range(0,N):\n",
    "    X, Y, info = readTrc(files[q])\n",
    "    #Y = np.array(Y)\n",
    "    Yvals += Y\n",
    "    Xvals +=X\n",
    "Yvals = Yvals/N\n",
    "Xvals = Xvals/N"
   ]
  },
  {
   "cell_type": "code",
   "execution_count": null,
   "metadata": {
    "collapsed": true
   },
   "outputs": [],
   "source": [
    "find_nearest(Xvals,0)"
   ]
  },
  {
   "cell_type": "code",
   "execution_count": null,
   "metadata": {
    "collapsed": true
   },
   "outputs": [],
   "source": [
    "TriggerTime = find_nearest(Xvals,0)\n",
    "Trigger     = np.where(Xvals==TriggerTime)[0][0]\n",
    "baseline    = np.mean(Yvals[0:Trigger])\n",
    "baseline"
   ]
  },
  {
   "cell_type": "code",
   "execution_count": null,
   "metadata": {
    "collapsed": true
   },
   "outputs": [],
   "source": []
  },
  {
   "cell_type": "code",
   "execution_count": null,
   "metadata": {
    "collapsed": true
   },
   "outputs": [],
   "source": [
    "plt.plot(Xvals,Yvals-baseline)"
   ]
  },
  {
   "cell_type": "code",
   "execution_count": null,
   "metadata": {
    "collapsed": true
   },
   "outputs": [],
   "source": [
    "data = [Xvals,Yvals-baseline]"
   ]
  },
  {
   "cell_type": "code",
   "execution_count": null,
   "metadata": {
    "collapsed": true
   },
   "outputs": [],
   "source": [
    "path = '/Users/austinmcdonald/Desktop/data/Ion-stuff/Ion mobilitys/Argon/090418-cleaned-2bar/'\n",
    "np.savetxt(path+'050-clean.txt',data)"
   ]
  },
  {
   "cell_type": "code",
   "execution_count": null,
   "metadata": {
    "collapsed": true
   },
   "outputs": [],
   "source": []
  },
  {
   "cell_type": "code",
   "execution_count": null,
   "metadata": {
    "collapsed": true
   },
   "outputs": [],
   "source": []
  },
  {
   "cell_type": "code",
   "execution_count": null,
   "metadata": {
    "collapsed": true
   },
   "outputs": [],
   "source": []
  },
  {
   "cell_type": "code",
   "execution_count": null,
   "metadata": {
    "collapsed": true
   },
   "outputs": [],
   "source": [
    "AA = np.loadtxt(path+'200clean.txt')\n"
   ]
  },
  {
   "cell_type": "code",
   "execution_count": null,
   "metadata": {
    "collapsed": true
   },
   "outputs": [],
   "source": []
  },
  {
   "cell_type": "code",
   "execution_count": null,
   "metadata": {
    "collapsed": true
   },
   "outputs": [],
   "source": []
  },
  {
   "cell_type": "code",
   "execution_count": null,
   "metadata": {
    "collapsed": true
   },
   "outputs": [],
   "source": []
  }
 ],
 "metadata": {
  "anaconda-cloud": {},
  "kernelspec": {
   "display_name": "Python 3",
   "language": "python",
   "name": "python3"
  },
  "language_info": {
   "codemirror_mode": {
    "name": "ipython",
    "version": 3
   },
   "file_extension": ".py",
   "mimetype": "text/x-python",
   "name": "python",
   "nbconvert_exporter": "python",
   "pygments_lexer": "ipython3",
   "version": "3.5.2"
  }
 },
 "nbformat": 4,
 "nbformat_minor": 1
}
