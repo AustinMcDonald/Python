{
 "cells": [
  {
   "cell_type": "code",
   "execution_count": 40,
   "metadata": {
    "collapsed": true
   },
   "outputs": [],
   "source": [
    "import numpy as np\n",
    "import matplotlib.pyplot as plt\n",
    "import os\n",
    "import glob\n",
    "import pandas as pd\n",
    "from scipy.optimize import curve_fit\n",
    "from scipy.signal import savgol_filter\n",
    "from scipy import optimize\n",
    "import scipy\n",
    "import scipy.ndimage as ndimage\n",
    "import scipy.ndimage.filters as filters\n",
    "from PIL import Image \n",
    "import numpy.polynomial.polynomial as poly\n",
    "from IPython.display import clear_output\n",
    "\n",
    "\n",
    "%matplotlib inline\n"
   ]
  },
  {
   "cell_type": "code",
   "execution_count": 41,
   "metadata": {
    "collapsed": false
   },
   "outputs": [
    {
     "name": "stdout",
     "output_type": "stream",
     "text": [
      "/Users/austinmcdonald/Desktop/SingleMolecule-selected-092817/CutImages\n"
     ]
    }
   ],
   "source": [
    "cd /Users/austinmcdonald/Desktop/SingleMolecule-selected-092817/CutImages\n"
   ]
  },
  {
   "cell_type": "code",
   "execution_count": 42,
   "metadata": {
    "collapsed": false
   },
   "outputs": [
    {
     "data": {
      "text/plain": [
       "['BaSmall', 'CaSmall', 'NaSmall']"
      ]
     },
     "execution_count": 42,
     "metadata": {},
     "output_type": "execute_result"
    }
   ],
   "source": [
    "DataSet = os.listdir()\n",
    "DataSet = DataSet[1:4]\n",
    "DataSet"
   ]
  },
  {
   "cell_type": "code",
   "execution_count": 43,
   "metadata": {
    "collapsed": true
   },
   "outputs": [],
   "source": [
    "DataPath = '/Users/austinmcdonald/Desktop/SingleMolecule-selected-092817/CutImages'"
   ]
  },
  {
   "cell_type": "code",
   "execution_count": 44,
   "metadata": {
    "collapsed": true
   },
   "outputs": [],
   "source": [
    "def running_mean(x, N):\n",
    "    cumsum = np.cumsum(np.insert(x, 0, 0)) \n",
    "    return (cumsum[N:] - cumsum[:-N]) / N "
   ]
  },
  {
   "cell_type": "code",
   "execution_count": 45,
   "metadata": {
    "collapsed": false
   },
   "outputs": [
    {
     "name": "stdout",
     "output_type": "stream",
     "text": [
      "Finding all areas in dataset 2\n",
      "Finding all areas in folder 52\n",
      "On file 300 of 300\n"
     ]
    }
   ],
   "source": [
    "eCoeff = 0.01160\n",
    "eOffset= 1970\n",
    "AreaFull = dict()\n",
    "AreaCUT = dict()\n",
    "PairsM = dict()\n",
    "PairsA = dict()\n",
    "AreaCUT2 = dict() \n",
    "PairsM2 = dict()\n",
    "Bleached = dict()\n",
    "INFO1 = dict()\n",
    "INFO2 = dict()\n",
    "\n",
    "PPairs = []\n",
    "for z in range(0,len(DataSet)):\n",
    "    FoldPath = DataPath+'/'+DataSet[z]\n",
    "    Folders = os.listdir(FoldPath)\n",
    "    Folders = [x for x in Folders if x != '.DS_Store']\n",
    "    \n",
    "    AreaH=[]# kill this ?\n",
    "    AreaHH=[]# kill this ?\n",
    "    SpotAreaH = []# kill this ?\n",
    "    SpotAreaHH = []# kill this ?\n",
    "    SpotAreaHH2 = []# kill this ?\n",
    "    PairsMade2 = []# kill this ?\n",
    "    Bleach = []# kill this ?\n",
    "    MASTERT = []\n",
    "    MASTERI = []\n",
    "\n",
    "    PairsMade = []\n",
    "    Shape = 221\n",
    "    xvs = np.arange(0,Shape)\n",
    "    Means = []# kill this ?\n",
    "    Devs  = []# kill this ?\n",
    "    neighborhood_size = 9\n",
    "    Row = int(4) # define the area to take around the spots\n",
    "    Col = int(4) # define the area to take around the spots\n",
    "    for w in range(0,len(Folders)):\n",
    "        folder = FoldPath+'/'+Folders[w]\n",
    "        files = os.listdir(folder)\n",
    "        files = [x for x in files if x != '.DS_Store']\n",
    "        DataSub = np.zeros(Shape**2).reshape((Shape,Shape))\n",
    "        Datatot = DataSub\n",
    "        fitts = []\n",
    "        AllPairs =[]\n",
    "        SpotInfo2 = []\n",
    "\n",
    "        ImageB = []\n",
    "        MeanFit = np.zeros(Shape**2).reshape((Shape,Shape))\n",
    "        eCoeffM = eCoeff*np.ones(Shape**2).reshape((Shape,Shape))\n",
    "        eOffsetM = eOffset*np.ones(Shape**2).reshape((Shape,Shape))\n",
    "        for x in range(250,300):\n",
    "            Images = np.array(Image.open(folder+'/'+files[x]))\n",
    "            Images = eCoeffM*(Images - eOffsetM)\n",
    "            #Mfit = np.zeros(len(xvs)) # kill this ?\n",
    "            ImageFit = []\n",
    "            for y in range(0,Shape):\n",
    "                coefs = poly.polyfit(xvs,Images[y], 2) # fits 11th order poly \n",
    "                ffit  = poly.polyval(xvs, coefs)\n",
    "                ImageFit.append(ffit)\n",
    "            MeanFit+=np.array(ImageFit)\n",
    "        MeanFit = MeanFit/50\n",
    "\n",
    "\n",
    "        for q in range(0,len(files)):\n",
    "            Images = (np.array(Image.open(folder+'/'+files[q])))# - MeanFit)\n",
    "            Images = eCoeffM*(Images - eOffsetM) - MeanFit\n",
    "            DataSub += Images\n",
    "\n",
    "\n",
    "        data = DataSub\n",
    "\n",
    "        Means.append(np.mean(data)) # kill this ?\n",
    "        Devs.append(np.std(data))   # kill this ?\n",
    "\n",
    "        threshold = np.mean(data)+6*np.std(data)\n",
    "\n",
    "        data_max = filters.maximum_filter(data, neighborhood_size)\n",
    "        maxima = (data == data_max)\n",
    "        data_min = filters.minimum_filter(data, neighborhood_size)\n",
    "        diff = ((data_max - data_min) > threshold)\n",
    "        maxima[diff == 0] = 0\n",
    "\n",
    "        labeled, num_objects = ndimage.label(maxima)\n",
    "        slices = ndimage.find_objects(labeled)\n",
    "        x, y = [], []\n",
    "        Pairs = []\n",
    "        for dy,dx in slices:\n",
    "            x_center = (dx.start + dx.stop - 1)/2\n",
    "            x.append(x_center)\n",
    "            y_center = (dy.start + dy.stop - 1)/2    \n",
    "            y.append(y_center)\n",
    "            Pairs.append((x_center,y_center))\n",
    "        for item in Pairs:\n",
    "            if item not in AllPairs:\n",
    "                AllPairs.append(item) \n",
    "\n",
    "        clear_output()\n",
    "        print('Finding AllPairs')\n",
    "        print('On file'+' '+str(q+1)+' '+'of'+' '+str(len(files)))   \n",
    "        Images = None\n",
    "        ImageB = None\n",
    "        #data   = None\n",
    "        Slices = None\n",
    "        labeled= None\n",
    "        num_objects=None\n",
    "\n",
    "        ############################################################## \n",
    "\n",
    "        Xc,Yc = zip(*AllPairs)\n",
    "\n",
    "        for q in range(0,len(files)):\n",
    "            Images = (np.array(Image.open(folder+'/'+files[q])))# - MeanFit)\n",
    "            Images = eCoeffM*(Images - eOffsetM) - MeanFit\n",
    "            Images[Images < 0] = 0 \n",
    "\n",
    "            SpotInfoHolder = []\n",
    "\n",
    "            for w in range(0,len(Xc)):\n",
    "                Xindex = int(Xc[w])\n",
    "                Yindex = int(Yc[w])\n",
    "                #spot = Images[Yindex-Row:Yindex+Row+1,Xindex-Col:Xindex+Col+1]\n",
    "                #ATot = spot.sum()\n",
    "                #SpotInfo2.append([q,Xindex,Yindex,ATot])\n",
    "                \n",
    "                spot1 = np.array(Images[Yindex-Row:Yindex+Row+1,Xindex-Col:Xindex+Col+1])\n",
    "                spot2 = np.array(Images[Yindex-Row:Yindex+Row+1,Xindex-Col:Xindex+Col+1])\n",
    "                spot = spot1[2:7,2:7]\n",
    "                SpotRemove = np.zeros(5**2).reshape((5,5))\n",
    "                spot2[2:7,2:7]=SpotRemove\n",
    "                spotB = spot2\n",
    "\n",
    "                ATot = spot.sum()\n",
    "                ATotB = spot2.sum()\n",
    "                SpotInfo2.append([z,w,Xindex,Yindex,ATot,ATotB])\n",
    "\n",
    "    ########################################################################################  \n",
    "\n",
    "            clear_output()\n",
    "            print('Finding all areas in dataset'+' '+str(z)) \n",
    "            print('Finding all areas in folder'+' '+str(w)) \n",
    "            print('On file'+' '+str(q+1)+' '+'of'+' '+str(len(files)))\n",
    "\n",
    "        Par = len(AllPairs)\n",
    "        AVG = 5\n",
    "        Mnumb = 5\n",
    "        PairsMade=[]\n",
    "        Tau = []\n",
    "        Signal = []\n",
    "        for x in range(0,Par):\n",
    "            HoldArea = np.array(SpotInfo2[x::Par])[:,4]\n",
    "            HoldAreaB = np.array(SpotInfo2[x::Par])[:,5]*(25/56)\n",
    "            aa = np.add.reduceat(HoldArea, np.arange(0, len(HoldArea), AVG))/AVG\n",
    "            aaB = np.add.reduceat(HoldAreaB, np.arange(0, len(HoldAreaB), AVG))/AVG\n",
    "            vals =np.arange(0,len(aa))\n",
    "\n",
    "            coefs = poly.polyfit(vals,aaB, 3)\n",
    "            ffit  = poly.polyval(vals, coefs)\n",
    "            Sig = np.array(aa-ffit)\n",
    "\n",
    "            meanI = np.mean(Sig[:Mnumb])\n",
    "            sigmaI = np.std(Sig[:Mnumb])\n",
    "            meanE = np.mean(Sig[-Mnumb:])\n",
    "            sigmaE = np.std(Sig[-Mnumb:])\n",
    "            meanM = np.mean(Sig)\n",
    "            T = len(Sig)\n",
    "            tau = ((meanM - meanE)/(meanI -meanE))*T\n",
    "            Tau.append(tau)\n",
    "            Signal.append(Sig)\n",
    "\n",
    "        Tau2 = []\n",
    "        Offset = 5\n",
    "        for x in range(0,Par):\n",
    "            TauH = Tau[x]\n",
    "            for q in range(0,50):\n",
    "                meanI = np.mean(running_mean(Signal[x],4)[:int(TauH)-Offset])\n",
    "                meanE = np.mean(running_mean(Signal[x],4)[int(TauH)+Offset:])\n",
    "                T = len(Signal[x])\n",
    "                meanM = np.mean(Signal[x])\n",
    "                tau = ((meanM - meanE)/(meanI -meanE))*T \n",
    "                if tau != tau:\n",
    "                    tau = -10\n",
    "                TauH = tau\n",
    "            Tau2.append(TauH)\n",
    "\n",
    "        Tau3 = []\n",
    "        Offset = 3\n",
    "        for x in range(0,Par):\n",
    "            TauH = Tau2[x]\n",
    "            for q in range(0,50):\n",
    "                meanI = np.mean(running_mean(Signal[x],4)[:int(TauH)-Offset])\n",
    "                meanE = np.mean(running_mean(Signal[x],4)[int(TauH)+Offset:])\n",
    "                T = len(Signal[x])\n",
    "                meanM = np.mean(Signal[x])\n",
    "                tau = ((meanM - meanE)/(meanI -meanE))*T \n",
    "                if tau != tau:\n",
    "                    tau = -10\n",
    "                TauH = tau\n",
    "            Tau3.append(TauH)\n",
    "            \n",
    "        data = []\n",
    "        Ta = []\n",
    "        Ia = []\n",
    "        Offset =3\n",
    "        for x in range(0,Par):\n",
    "            TauH   = Tau3[x]\n",
    "            meanI  = np.mean(running_mean(Signal[x],4)[:int(TauH)-Offset])\n",
    "            sigmaI = np.std(running_mean(Signal[x],4)[:int(TauH)-Offset])\n",
    "            meanE  = np.mean(running_mean(Signal[x],4)[int(TauH)+Offset:])\n",
    "            sigmaE = np.std(running_mean(Signal[x],4)[int(TauH)+Offset:])\n",
    "            Inten  = Signal[x][:int(TauH)]\n",
    "            Intensity  = np.sum(Inten)/len(Inten)\n",
    "            if meanI-2*sigmaI > meanE+2*sigmaE and TauH>0:\n",
    "                #data.append([Signal[x],TauH,Intensity])\n",
    "                Ta.append(TauH)\n",
    "                Ia.append(Intensity)\n",
    "        MASTERT.append(Ta)\n",
    "        MASTERI.append(Ia)\n",
    "\n",
    "    INFO1[z] = [item for sublist in MASTERT for item in sublist]\n",
    "    INFO2[z] = [item for sublist in MASTERI for item in sublist]\n",
    "\n",
    "    AreaFull[z]  = [item for sublist in AreaHH for item in sublist]\n",
    "    AreaCUT[z]   = [item for sublist in SpotAreaHH for item in sublist]\n",
    "    PairsM[z]    = [item for sublist in PairsMade for item in sublist]\n",
    "    PairsA[z]    = [item for sublist in PPairs for item in sublist]\n",
    "    AreaCUT2[z]  = [item for sublist in SpotAreaHH2 for item in sublist]\n",
    "    PairsM2[z]   = [item for sublist in PairsMade2 for item in sublist]\n",
    "    Bleached[z]  = Bleach"
   ]
  },
  {
   "cell_type": "code",
   "execution_count": 46,
   "metadata": {
    "collapsed": false
   },
   "outputs": [
    {
     "name": "stdout",
     "output_type": "stream",
     "text": [
      "BaSmall  pairs =  107\n",
      "CaSmall  pairs =  10\n",
      "NaSmall  pairs =  53\n"
     ]
    }
   ],
   "source": [
    "for x in range(0,len(DataSet)):\n",
    "    print(DataSet[x]+' '+' pairs = ',len(INFO1[x]))"
   ]
  },
  {
   "cell_type": "code",
   "execution_count": 52,
   "metadata": {
    "collapsed": false
   },
   "outputs": [
    {
     "data": {
      "image/png": "[encoded data removed]",
      "text/plain": [
       "<matplotlib.figure.Figure at 0x11a4567b8>"
      ]
     },
     "metadata": {},
     "output_type": "display_data"
    }
   ],
   "source": [
    "plt.figure(figsize=(7,7))\n",
    "#plt.scatter(INFO1[0],INFO2[0],color='b',label=DataSet[0])\n",
    "plt.scatter(INFO1[1],INFO2[1],color='r',label=DataSet[1])\n",
    "#plt.scatter(INFO1[2],INFO2[2],color='g',label=DataSet[2])\n",
    "fitba=np.polyfit(INFO1[0],INFO2[0],1)\n",
    "fitca=np.polyfit(INFO1[1],INFO2[1],1)\n",
    "fitna=np.polyfit(INFO1[2],INFO2[2],1)\n",
    "vars=np.arange(0,55,1)\n",
    "plt.plot(vars,fitba[1]+vars*fitba[0],color='b')\n",
    "plt.plot(vars,fitca[1]+vars*fitca[0],color='r')\n",
    "plt.plot(vars,fitna[1]+vars*fitna[0],color='g')\n",
    "plt.plot()\n",
    "plt.legend()\n",
    "plt.xlim(5,55)\n",
    "#plt.ylim(0,100)\n",
    "plt.show()"
   ]
  },
  {
   "cell_type": "code",
   "execution_count": null,
   "metadata": {
    "collapsed": true
   },
   "outputs": [],
   "source": []
  },
  {
   "cell_type": "code",
   "execution_count": null,
   "metadata": {
    "collapsed": false
   },
   "outputs": [],
   "source": []
  },
  {
   "cell_type": "code",
   "execution_count": 48,
   "metadata": {
    "collapsed": false
   },
   "outputs": [
    {
     "name": "stdout",
     "output_type": "stream",
     "text": [
      "BaSmall all pairs =  0.0\n",
      "BaSmall pairs made cut =  0.0\n",
      "BaSmall pairs made cut2 =  0.0\n",
      "CaSmall all pairs =  0.0\n",
      "CaSmall pairs made cut =  0.0\n",
      "CaSmall pairs made cut2 =  0.0\n",
      "NaSmall all pairs =  0.0\n",
      "NaSmall pairs made cut =  0.0\n",
      "NaSmall pairs made cut2 =  0.0\n"
     ]
    }
   ],
   "source": [
    "for x in range(0,len(DataSet)):\n",
    "    print(DataSet[x]+' '+'all pairs = ',len(PairsA[x])/2)\n",
    "    print(DataSet[x]+' '+ 'pairs made cut = ',len(PairsM[x])/2)\n",
    "    print(DataSet[x]+' '+ 'pairs made cut2 = ',len(PairsM2[x])/2)"
   ]
  },
  {
   "cell_type": "code",
   "execution_count": null,
   "metadata": {
    "collapsed": false
   },
   "outputs": [],
   "source": []
  },
  {
   "cell_type": "code",
   "execution_count": null,
   "metadata": {
    "collapsed": true
   },
   "outputs": [],
   "source": []
  },
  {
   "cell_type": "code",
   "execution_count": 51,
   "metadata": {
    "collapsed": false
   },
   "outputs": [
    {
     "data": {
      "image/png": "[encoded data removed]",
      "text/plain": [
       "<matplotlib.figure.Figure at 0x11b4841d0>"
      ]
     },
     "metadata": {},
     "output_type": "display_data"
    }
   ],
   "source": [
    "'''area cut at 4e3'''\n",
    "BaCu5 = np.array(AreaCUT[0])\n",
    "NaCu5 = np.array(AreaCUT[2])\n",
    "CaCu5 = np.array(AreaCUT[1])\n",
    "plt.figure(figsize=(7,7))\n",
    "plt.hist(BaCu5,label='Ba',alpha=0.2,color='g',bins=np.arange(0,500,10))\n",
    "plt.hist(NaCu5,label='Na',alpha=0.2,color='b',bins=np.arange(0,500,10))\n",
    "plt.hist(CaCu5,label='Ca',alpha=0.2,color='r',bins=np.arange(0,500,10))\n",
    "#plt.xlim(0,300)\n",
    "#plt.ylim(0,25)\n",
    "plt.legend()\n",
    "plt.axvline(70,linewidth=3,color='k')\n",
    "plt.title(\"area 5 frame avg cut at 7k area\")\n",
    "plt.tight_layout()\n",
    "#plt.savefig('/Users/austinmcdonald/Desktop/SingleMolecule-selected-092817/Hist-dat/'+'Areas-CutAt7k-5frameAVG')\n",
    "plt.show()"
   ]
  },
  {
   "cell_type": "code",
   "execution_count": 80,
   "metadata": {
    "collapsed": false
   },
   "outputs": [
    {
     "data": {
      "text/plain": [
       "array([  0,  15,  30,  45,  60,  75,  90, 105, 120, 135, 150, 165, 180,\n",
       "       195, 210, 225, 240, 255, 270, 285, 300, 315, 330, 345, 360, 375,\n",
       "       390, 405, 420, 435, 450, 465, 480, 495])"
      ]
     },
     "execution_count": 80,
     "metadata": {},
     "output_type": "execute_result"
    }
   ],
   "source": [
    "np.arange(0,500,15)"
   ]
  },
  {
   "cell_type": "code",
   "execution_count": 93,
   "metadata": {
    "collapsed": false
   },
   "outputs": [
    {
     "data": {
      "image/png": "[encoded data removed]",
      "text/plain": [
       "<matplotlib.figure.Figure at 0x11d054588>"
      ]
     },
     "metadata": {},
     "output_type": "display_data"
    }
   ],
   "source": [
    "'''area cut at 4e3'''\n",
    "BaCu5 = np.array(AreaCUT2[0])\n",
    "NaCu5 = np.array(AreaCUT2[2])\n",
    "CaCu5 = np.array(AreaCUT2[1])\n",
    "plt.figure(figsize=(7,7))\n",
    "plt.hist(BaCu5,label='Ba',alpha=0.2,color='g',bins=np.arange(0,500,10))\n",
    "plt.hist(NaCu5,label='Na',alpha=0.2,color='b',bins=np.arange(0,500,10))\n",
    "plt.hist(CaCu5,label='Ca',alpha=0.2,color='r',bins=np.arange(0,500,10))\n",
    "plt.xlim(0,300)\n",
    "#plt.ylim(0,25)\n",
    "plt.legend()\n",
    "plt.axvline(70,linewidth=3,color='k')\n",
    "plt.title(\"area 5 frame avg cut at 7k area\")\n",
    "plt.tight_layout()\n",
    "#plt.savefig('/Users/austinmcdonald/Desktop/SingleMolecule-selected-092817/Hist-dat/'+'Areas-CutAt7k-5frameAVG')\n",
    "plt.show()"
   ]
  },
  {
   "cell_type": "code",
   "execution_count": null,
   "metadata": {
    "collapsed": true
   },
   "outputs": [],
   "source": []
  },
  {
   "cell_type": "code",
   "execution_count": null,
   "metadata": {
    "collapsed": true
   },
   "outputs": [],
   "source": []
  },
  {
   "cell_type": "code",
   "execution_count": 92,
   "metadata": {
    "collapsed": false
   },
   "outputs": [
    {
     "data": {
      "image/png": "[encoded data removed]",
      "text/plain": [
       "<matplotlib.figure.Figure at 0x11ad541d0>"
      ]
     },
     "metadata": {},
     "output_type": "display_data"
    }
   ],
   "source": [
    "'''area cut at 4e3'''\n",
    "BaCu5 = np.array(Bleached[0])\n",
    "NaCu5 = np.array(Bleached[2])\n",
    "CaCu5 = np.array(Bleached[1])\n",
    "plt.figure(figsize=(7,7))\n",
    "plt.hist(BaCu5,label='Ba',alpha=0.2,color='g',bins=np.arange(0,70,3))\n",
    "plt.hist(NaCu5,label='Na',alpha=0.2,color='b',bins=np.arange(0,70,3))\n",
    "plt.hist(CaCu5,label='Ca',alpha=0.2,color='r',bins=np.arange(0,70,3))\n",
    "#plt.xlim(0,300)\n",
    "#plt.ylim(0,25)\n",
    "#plt.legend()\n",
    "plt.axvline(70,linewidth=3,color='k')\n",
    "plt.title(\"area 5 frame avg cut at 7k area\")\n",
    "plt.tight_layout()\n",
    "#plt.savefig('/Users/austinmcdonald/Desktop/SingleMolecule-selected-092817/Hist-dat/'+'Areas-CutAt7k-5frameAVG')\n",
    "plt.show()"
   ]
  },
  {
   "cell_type": "code",
   "execution_count": null,
   "metadata": {
    "collapsed": true
   },
   "outputs": [],
   "source": []
  },
  {
   "cell_type": "code",
   "execution_count": null,
   "metadata": {
    "collapsed": true
   },
   "outputs": [],
   "source": []
  },
  {
   "cell_type": "code",
   "execution_count": null,
   "metadata": {
    "collapsed": true
   },
   "outputs": [],
   "source": []
  },
  {
   "cell_type": "code",
   "execution_count": null,
   "metadata": {
    "collapsed": true
   },
   "outputs": [],
   "source": []
  },
  {
   "cell_type": "code",
   "execution_count": null,
   "metadata": {
    "collapsed": true
   },
   "outputs": [],
   "source": []
  },
  {
   "cell_type": "code",
   "execution_count": null,
   "metadata": {
    "collapsed": true
   },
   "outputs": [],
   "source": []
  },
  {
   "cell_type": "code",
   "execution_count": 37,
   "metadata": {
    "collapsed": false
   },
   "outputs": [
    {
     "data": {
      "image/png": "[encoded data removed]",
      "text/plain": [
       "<matplotlib.figure.Figure at 0x11a604f28>"
      ]
     },
     "metadata": {},
     "output_type": "display_data"
    }
   ],
   "source": [
    "'''area cut at 4e3'''\n",
    "BaCu5 = np.array(AreaCUT[0])\n",
    "NaCu5 = np.array(AreaCUT[2])\n",
    "CaCu5 = np.array(AreaCUT[1])\n",
    "bins=50\n",
    "plt.figure(figsize=(7,7))\n",
    "plt.hist(BaCu5[BaCu5 <30e3],label='Ba',alpha=0.2,color='g',bins=np.arange(0,30000,500))\n",
    "plt.hist(NaCu5[NaCu5 <30e3],label='Na',alpha=0.2,color='b',bins=np.arange(0,30000,500))\n",
    "plt.hist(CaCu5[CaCu5 <30e3],label='Ca',alpha=0.2,color='r',bins=np.arange(0,30000,500))\n",
    "plt.xlim(0,3e4)\n",
    "#plt.ylim(0,25)\n",
    "plt.legend()\n",
    "plt.axvline(7000,linewidth=3,color='k')\n",
    "plt.title(\"area 5 frame avg cut at 7k area\")\n",
    "plt.tight_layout()\n",
    "#plt.savefig('/Users/austinmcdonald/Desktop/SingleMolecule-selected-092817/Hist-dat/'+'Areas-CutAt7k-5frameAVG')\n",
    "plt.show()"
   ]
  },
  {
   "cell_type": "code",
   "execution_count": null,
   "metadata": {
    "collapsed": true
   },
   "outputs": [],
   "source": []
  },
  {
   "cell_type": "code",
   "execution_count": null,
   "metadata": {
    "collapsed": true
   },
   "outputs": [],
   "source": []
  },
  {
   "cell_type": "code",
   "execution_count": null,
   "metadata": {
    "collapsed": true
   },
   "outputs": [],
   "source": []
  },
  {
   "cell_type": "code",
   "execution_count": null,
   "metadata": {
    "collapsed": true
   },
   "outputs": [],
   "source": []
  },
  {
   "cell_type": "code",
   "execution_count": null,
   "metadata": {
    "collapsed": true
   },
   "outputs": [],
   "source": []
  },
  {
   "cell_type": "code",
   "execution_count": 179,
   "metadata": {
    "collapsed": true
   },
   "outputs": [],
   "source": [
    "#CaArea = [item for sublist in AreaH for item in sublist]\n",
    "#CaArea5 = [item for sublist in AreaHH for item in sublist]\n",
    "#CaCut = [item for sublist in SpotAreaH for item in sublist]\n",
    "#CaCut5 = [item for sublist in SpotAreaHH for item in sublist]\n",
    "\n",
    "#BaArea = [item for sublist in AreaH for item in sublist]\n",
    "#BaArea5 = [item for sublist in AreaHH for item in sublist]\n",
    "#BaCut = [item for sublist in SpotAreaH for item in sublist]\n",
    "#BaCut5 = [item for sublist in SpotAreaHH for item in sublist]\n",
    "\n",
    "#NaArea = [item for sublist in AreaH for item in sublist]\n",
    "#NaArea5 = [item for sublist in AreaHH for item in sublist]\n",
    "#NaCut = [item for sublist in SpotAreaH for item in sublist]\n",
    "#NaCut5 = [item for sublist in SpotAreaHH for item in sublist]"
   ]
  },
  {
   "cell_type": "code",
   "execution_count": null,
   "metadata": {
    "collapsed": true
   },
   "outputs": [],
   "source": [
    "'''cd /Users/austinmcdonald/Desktop/SingleMolecule-selected-092817/Hist-dat\n",
    "np.savetxt('NaArea',NaArea5,delimiter=',')\n",
    "np.savetxt('NaArea5',NaArea5,delimiter=',')\n",
    "np.savetxt('BaArea',NaArea5,delimiter=',')\n",
    "np.savetxt('BaArea5',NaArea5,delimiter=',')\n",
    "np.savetxt('CaArea',NaArea5,delimiter=',')\n",
    "np.savetxt('CaArea5',NaArea5,delimiter=',')'''"
   ]
  },
  {
   "cell_type": "code",
   "execution_count": 71,
   "metadata": {
    "collapsed": false
   },
   "outputs": [
    {
     "data": {
      "image/png": "[encoded data removed]",
      "text/plain": [
       "<matplotlib.figure.Figure at 0x119ca2240>"
      ]
     },
     "metadata": {},
     "output_type": "display_data"
    }
   ],
   "source": [
    "BaArea = np.array(BaArea)\n",
    "NaArea = np.array(NaArea)\n",
    "CaArea = np.array(CaArea)\n",
    "bins = 50\n",
    "plt.figure(figsize=(7,7))\n",
    "plt.hist(BaArea[BaArea <30e3],bins,label='Ba',color='g')\n",
    "plt.hist(NaArea[NaArea <30e3],bins,label='Na',alpha=0.6)\n",
    "plt.hist(CaArea[CaArea <30e3],bins,label='Ca',alpha=0.6, color='r')\n",
    "plt.xlim(0,3e4)\n",
    "#plt.ylim(0,500)\n",
    "plt.legend()\n",
    "plt.title('All Areas')\n",
    "plt.tight_layout()\n",
    "#plt.savefig('/Users/austinmcdonald/Desktop/SingleMolecule-selected-092817/Hist-dat/'+'AllAreas')\n",
    "plt.show()"
   ]
  },
  {
   "cell_type": "code",
   "execution_count": 180,
   "metadata": {
    "collapsed": false
   },
   "outputs": [
    {
     "data": {
      "image/png": "[encoded data removed]",
      "text/plain": [
       "<matplotlib.figure.Figure at 0x11b28da58>"
      ]
     },
     "metadata": {},
     "output_type": "display_data"
    }
   ],
   "source": [
    "'''area cut at 4e3'''\n",
    "BaCu = np.array(BaCut)\n",
    "NaCu = np.array(NaCut)\n",
    "CaCu = np.array(CaCut)\n",
    "bins=50\n",
    "plt.figure(figsize=(7,7))\n",
    "plt.hist(BaCu[BaCu <30e3],bins,label='Ba',color='g')\n",
    "plt.hist(NaCu[NaCu <30e3],bins,label='Na',alpha=0.9,color='b')\n",
    "plt.hist(CaCu[CaCu <30e3],bins,label='Ca',alpha=0.4,color='r')\n",
    "plt.xlim(0,3e4)\n",
    "#plt.ylim(0,500)\n",
    "plt.legend()\n",
    "plt.axvline(7000,linewidth=3,color='k')\n",
    "plt.title(\"area cut at 7k area\")\n",
    "plt.tight_layout()\n",
    "#plt.savefig('/Users/austinmcdonald/Desktop/SingleMolecule-selected-092817/Hist-dat/'+'AllAreas-CutAt7k')\n",
    "plt.show()"
   ]
  },
  {
   "cell_type": "code",
   "execution_count": 190,
   "metadata": {
    "collapsed": false
   },
   "outputs": [
    {
     "data": {
      "image/png": "[encoded data removed]",
      "text/plain": [
       "<matplotlib.figure.Figure at 0x11a643d30>"
      ]
     },
     "metadata": {},
     "output_type": "display_data"
    }
   ],
   "source": [
    "BaArea5 = np.array(BaArea5)\n",
    "NaArea5 = np.array(NaArea5)\n",
    "CaArea5 = np.array(CaArea5)\n",
    "bins=50\n",
    "plt.figure(figsize=(7,7))\n",
    "plt.hist(BaArea5[BaArea5 <30e3],bins,label='Ba',color='g',alpha = 0.2)\n",
    "plt.hist(NaArea5[NaArea5 <30e3],bins,label='Na',alpha=0.2)\n",
    "plt.hist(CaArea5[CaArea5 <30e3],bins,label='Ca',alpha=0.2,color='r')\n",
    "plt.xlim(0,3e4)\n",
    "\n",
    "plt.ylim(0,500)\n",
    "plt.legend()\n",
    "plt.title(\"area 5 frame avg\")\n",
    "plt.tight_layout()\n",
    "#plt.savefig('/Users/austinmcdonald/Desktop/SingleMolecule-selected-092817/Hist-dat/'+'Areas-5frameAVG')\n",
    "plt.show()"
   ]
  },
  {
   "cell_type": "code",
   "execution_count": 198,
   "metadata": {
    "collapsed": false
   },
   "outputs": [
    {
     "data": {
      "image/png": "[encoded data removed]",
      "text/plain": [
       "<matplotlib.figure.Figure at 0x11dfeb198>"
      ]
     },
     "metadata": {},
     "output_type": "display_data"
    }
   ],
   "source": [
    "'''area cut at 4e3'''\n",
    "BaCu5 = np.array(BaCut5)\n",
    "NaCu5 = np.array(NaCut5)\n",
    "CaCu5 = np.array(CaCut5)\n",
    "bins=50\n",
    "plt.figure(figsize=(7,7))\n",
    "plt.hist(BaCu5[BaCu5 <30e3],label='Ba',alpha=0.2,color='g',bins=np.arange(0,30000,500))\n",
    "plt.hist(NaCu5[NaCu5 <30e3],label='Na',alpha=0.2,color='b',bins=np.arange(0,30000,500))\n",
    "plt.hist(CaCu5[CaCu5 <30e3],label='Ca',alpha=0.2,color='r',bins=np.arange(0,30000,500))\n",
    "plt.xlim(0,3e4)\n",
    "#plt.ylim(0,25)\n",
    "plt.legend()\n",
    "plt.axvline(7000,linewidth=3,color='k')\n",
    "plt.title(\"area 5 frame avg cut at 7k area\")\n",
    "plt.tight_layout()\n",
    "#plt.savefig('/Users/austinmcdonald/Desktop/SingleMolecule-selected-092817/Hist-dat/'+'Areas-CutAt7k-5frameAVG')\n",
    "plt.show()"
   ]
  },
  {
   "cell_type": "code",
   "execution_count": 191,
   "metadata": {
    "collapsed": false
   },
   "outputs": [
    {
     "data": {
      "text/plain": [
       "0.51297936199937844"
      ]
     },
     "execution_count": 191,
     "metadata": {},
     "output_type": "execute_result"
    }
   ],
   "source": [
    "sum(BaCu5[BaCu5 <30e3])/sum(CaCu5[CaCu5 <50e3])"
   ]
  },
  {
   "cell_type": "code",
   "execution_count": null,
   "metadata": {
    "collapsed": true
   },
   "outputs": [],
   "source": []
  },
  {
   "cell_type": "code",
   "execution_count": null,
   "metadata": {
    "collapsed": true
   },
   "outputs": [],
   "source": [
    "'''        for x in range(0,len(PairsMade)):\n",
    "            thold = 70\n",
    "            Cut2 = SpotAreaHH[x]\n",
    "            CutP = PairsMade[x]\n",
    "            High = []\n",
    "            Low = []\n",
    "            for x in range(1,len(Cut2)):\n",
    "                if Cut2[x] >= thold:\n",
    "                    High.append(x)\n",
    "                elif Cut2[x] < thold:\n",
    "                    Low.append(x)\n",
    "            pos=[]\n",
    "            for x in range(0,len(High)):\n",
    "                if all(i >= High[x] for i in Low):# all bad must be bigger than good!\n",
    "                    pos.append(1)\n",
    "                else:\n",
    "                    pos.append(0)\n",
    "            if pos.count(1)>=1:\n",
    "                SpotAreaHH2.append(Cut2)\n",
    "                PairsMade2.append(CutP)  \n",
    "                Bleach.append(pos.count(1))'''\n",
    "\n"
   ]
  },
  {
   "cell_type": "code",
   "execution_count": null,
   "metadata": {
    "collapsed": true
   },
   "outputs": [],
   "source": [
    "AreaH=[]\n",
    "AreaHH=[]\n",
    "SpotAreaH = []\n",
    "SpotAreaHH = []\n",
    "Shape = 221\n",
    "xvs = np.arange(0,Shape)\n",
    "Means = []\n",
    "Devs  = []\n",
    "neighborhood_size = 5\n",
    "Row = int(2) # define the area to take around the spots\n",
    "Col = int(2) # define the area to take around the spots\n",
    "for w in range(0,len(Folders)):\n",
    "    folder = FoldPath+'/'+Folders[w]\n",
    "    files = os.listdir(folder)\n",
    "    DataSub = np.zeros(Shape**2).reshape((Shape,Shape))\n",
    "    Datatot = DataSub\n",
    "    fitts = []\n",
    "    AllPairs =[]\n",
    "    SpotInfo2 = []\n",
    "\n",
    "    ImageB = []\n",
    "    MeanFit = np.zeros(Shape**2).reshape((Shape,Shape))\n",
    "    for x in range(250,300):\n",
    "        Images = np.array(Image.open(folder+'/'+files[x]))\n",
    "        #Mfit = np.zeros(len(xvs))\n",
    "        ImageFit = []\n",
    "        for y in range(0,Shape):\n",
    "            coefs = poly.polyfit(xvs,Images[y], 2) # fits 11th order poly \n",
    "            ffit  = poly.polyval(xvs, coefs)\n",
    "            ImageFit.append(ffit)\n",
    "        MeanFit+=np.array(ImageFit)\n",
    "    MeanFit = MeanFit/50\n",
    "            \n",
    "        \n",
    "    for q in range(0,len(files)):\n",
    "        Images = (np.array(Image.open(folder+'/'+files[q])) - MeanFit)\n",
    "        DataSub += Images\n",
    "\n",
    "\n",
    "    data = DataSub\n",
    "    \n",
    "    Means.append(np.mean(data))\n",
    "    Devs.append(np.std(data))\n",
    "    \n",
    "    threshold = np.mean(data)+6*np.std(data)\n",
    "\n",
    "    data_max = filters.maximum_filter(data, neighborhood_size)\n",
    "    maxima = (data == data_max)\n",
    "    data_min = filters.minimum_filter(data, neighborhood_size)\n",
    "    diff = ((data_max - data_min) > threshold)\n",
    "    maxima[diff == 0] = 0\n",
    "\n",
    "    labeled, num_objects = ndimage.label(maxima)\n",
    "    slices = ndimage.find_objects(labeled)\n",
    "    x, y = [], []\n",
    "    Pairs = []\n",
    "    for dy,dx in slices:\n",
    "        x_center = (dx.start + dx.stop - 1)/2\n",
    "        x.append(x_center)\n",
    "        y_center = (dy.start + dy.stop - 1)/2    \n",
    "        y.append(y_center)\n",
    "        Pairs.append((x_center,y_center))\n",
    "    for item in Pairs:\n",
    "        if item not in AllPairs:\n",
    "            AllPairs.append(item) \n",
    "\n",
    "    clear_output()\n",
    "    print('Finding AllPairs')\n",
    "    print('On file'+' '+str(q+1)+' '+'of'+' '+str(len(files)))   \n",
    "    Images = None\n",
    "    ImageB = None\n",
    "    data   = None\n",
    "    Slices = None\n",
    "    labeled= None\n",
    "    num_objects=None\n",
    "\n",
    "    ############################################################## \n",
    "\n",
    "    Xc,Yc = zip(*AllPairs)\n",
    "\n",
    "    for q in range(0,len(files)):\n",
    "        Images = (np.array(Image.open(folder+'/'+files[q])) - MeanFit)\n",
    "        Images[Images < 0] = 0 \n",
    "\n",
    "        SpotInfoHolder = []\n",
    "\n",
    "        for w in range(0,len(Xc)):\n",
    "            Xindex = int(Xc[w])\n",
    "            Yindex = int(Yc[w])\n",
    "            spot = Images[Yindex-Row:Yindex+Row+1,Xindex-Col:Xindex+Col+1]\n",
    "            ATot = spot.sum()\n",
    "            SpotInfo2.append([q,Xindex,Yindex,ATot])\n",
    "\n",
    "    ##############################################################  \n",
    "\n",
    "        clear_output()\n",
    "        print('Finding all areas') \n",
    "        print('On file'+' '+str(q+1)+' '+'of'+' '+str(len(files)))\n",
    "        \n",
    "    Par = len(AllPairs)\n",
    "    AreaCut = 7e3\n",
    "\n",
    "    for x in range(0,Par):\n",
    "        HoldArea = np.array(SpotInfo2[x::Par])[:,3]\n",
    "        aa = np.add.reduceat(HoldArea, np.arange(0, len(HoldArea), 5))/5\n",
    "        AreaH.append(HoldArea)\n",
    "        AreaHH.append(aa)\n",
    "        \n",
    "        aboveCut = len([i for i in aa if i > AreaCut])\n",
    "        gd = np.gradient(aa)\n",
    "        grad = abs(gd[5:len(gd)-5])\n",
    "        #if aboveCut > 5 :\n",
    "        if max(grad)>2e3 and aboveCut > 10:\n",
    "            SpotAreaH.append(HoldArea)\n",
    "            SpotAreaHH.append(aa)\n",
    "            #PairsMade.append(AllPairs[x])\n"
   ]
  }
 ],
 "metadata": {
  "kernelspec": {
   "display_name": "Python 3",
   "language": "python",
   "name": "python3"
  },
  "language_info": {
   "codemirror_mode": {
    "name": "ipython",
    "version": 3
   },
   "file_extension": ".py",
   "mimetype": "text/x-python",
   "name": "python",
   "nbconvert_exporter": "python",
   "pygments_lexer": "ipython3",
   "version": "3.5.2"
  }
 },
 "nbformat": 4,
 "nbformat_minor": 0
}
