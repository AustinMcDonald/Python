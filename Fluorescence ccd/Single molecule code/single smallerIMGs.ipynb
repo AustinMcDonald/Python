{
 "cells": [
  {
   "cell_type": "code",
   "execution_count": 1,
   "metadata": {
    "collapsed": false
   },
   "outputs": [],
   "source": [
    "import numpy as np\n",
    "import matplotlib.pyplot as plt\n",
    "import os\n",
    "import glob\n",
    "import pandas as pd\n",
    "from scipy.optimize import curve_fit\n",
    "from scipy.signal import savgol_filter\n",
    "from scipy import optimize\n",
    "import scipy\n",
    "import scipy.ndimage as ndimage\n",
    "import scipy.ndimage.filters as filters\n",
    "from PIL import Image \n",
    "import numpy.polynomial.polynomial as poly\n",
    "%matplotlib inline\n"
   ]
  },
  {
   "cell_type": "code",
   "execution_count": 2,
   "metadata": {
    "collapsed": true
   },
   "outputs": [],
   "source": [
    "#100x100\n",
    "#x=450,y=220"
   ]
  },
  {
   "cell_type": "code",
   "execution_count": 8,
   "metadata": {
    "collapsed": false
   },
   "outputs": [
    {
     "name": "stdout",
     "output_type": "stream",
     "text": [
      "/Users/austinmcdonald/Desktop/9-8-17/sampleBa/site1\n"
     ]
    }
   ],
   "source": [
    "cd /Users/austinmcdonald/Desktop/9-8-17/sampleBa/site1"
   ]
  },
  {
   "cell_type": "code",
   "execution_count": 9,
   "metadata": {
    "collapsed": false
   },
   "outputs": [],
   "source": [
    "files = os.listdir()\n",
    "#files = files[5:9]\n",
    "#files = files[0:1]"
   ]
  },
  {
   "cell_type": "code",
   "execution_count": 4,
   "metadata": {
    "collapsed": false
   },
   "outputs": [],
   "source": [
    "\n",
    "xvs = np.arange(0,512)\n",
    "\n",
    "Row = int(100) # define the area to take around the spots\n",
    "Col = int(104) # define the area to take around the spots\n",
    "Yindex = int(220)\n",
    "Xindex = int(415)\n",
    "for q in range(0,len(files)):\n",
    "    Images = np.array(Image.open(files[q]))\n",
    "    ImageB = []\n",
    "    for x in range(0,512):\n",
    "        coefs = poly.polyfit(xvs, Images[x], 11) # fits 11th order poly \n",
    "        ffit  = poly.polyval(xvs, coefs)\n",
    "        hold  = Images[x]-(ffit)\n",
    "        hold[hold < 0] = 0        # replaces negtive values form the sub with 0\n",
    "        ImageB.append(hold)\n",
    "\n",
    "    spot = np.array(ImageB)[Yindex-Row:Yindex+Row+1,Xindex-Col:Xindex+Col+1]\n",
    "    im = Image.fromarray(spot)\n",
    "    #im.save('/Users/austinmcdonald/Desktop/Baback/' + 'Basmall' + files[q])\n",
    "    \n",
    "    \n",
    "    \n",
    "    \n",
    "\n",
    "    Images = None\n",
    "    ImageB = None\n",
    "############################################################## \n",
    "\n"
   ]
  },
  {
   "cell_type": "code",
   "execution_count": 10,
   "metadata": {
    "collapsed": false
   },
   "outputs": [],
   "source": [
    "\n",
    "xvs = np.arange(0,512)\n",
    "Row = int(100) # define the area to take around the spots\n",
    "Col = int(104) # define the area to take around the spots\n",
    "Yindex = int(220)\n",
    "Xindex = int(415)\n",
    "for q in range(0,len(files)):\n",
    "    Images = np.array(Image.open(files[q]))\n",
    "    ImageB = []\n",
    "    for x in range(0,512):\n",
    "        hold  = Images[x]\n",
    "        hold[hold < 0] = 0        # replaces negtive values form the sub with 0\n",
    "        ImageB.append(hold)\n",
    "        \n",
    "    spot = np.array(ImageB)[Yindex-Row:Yindex+Row+1,Xindex-Col:Xindex+Col+1]\n",
    "    im = Image.fromarray(spot.astype('float64'))\n",
    "    im.save('/Users/austinmcdonald/Desktop/Batest/' + 'Basmall' + files[q])\n",
    "\n",
    "    Images = None"
   ]
  },
  {
   "cell_type": "code",
   "execution_count": 22,
   "metadata": {
    "collapsed": false
   },
   "outputs": [
    {
     "data": {
      "text/plain": [
       "(201, 201)"
      ]
     },
     "execution_count": 22,
     "metadata": {},
     "output_type": "execute_result"
    }
   ],
   "source": [
    "spot.shape"
   ]
  },
  {
   "cell_type": "code",
   "execution_count": 17,
   "metadata": {
    "collapsed": false
   },
   "outputs": [
    {
     "data": {
      "text/plain": [
       "dtype('uint16')"
      ]
     },
     "execution_count": 17,
     "metadata": {},
     "output_type": "execute_result"
    }
   ],
   "source": [
    "spot.dtype"
   ]
  },
  {
   "cell_type": "code",
   "execution_count": 6,
   "metadata": {
    "collapsed": false
   },
   "outputs": [
    {
     "ename": "NameError",
     "evalue": "name 'Imdat' is not defined",
     "output_type": "error",
     "traceback": [
      "\u001b[0;31m---------------------------------------------------------------------------\u001b[0m",
      "\u001b[0;31mNameError\u001b[0m                                 Traceback (most recent call last)",
      "\u001b[0;32m<ipython-input-6-8ccd8354f5ff>\u001b[0m in \u001b[0;36m<module>\u001b[0;34m()\u001b[0m\n\u001b[0;32m----> 1\u001b[0;31m \u001b[0mplt\u001b[0m\u001b[0;34m.\u001b[0m\u001b[0mimshow\u001b[0m\u001b[0;34m(\u001b[0m\u001b[0mImdat\u001b[0m\u001b[0;34m,\u001b[0m \u001b[0mcmap\u001b[0m\u001b[0;34m=\u001b[0m\u001b[0;34m'hot'\u001b[0m\u001b[0;34m,\u001b[0m \u001b[0minterpolation\u001b[0m\u001b[0;34m=\u001b[0m\u001b[0;34m'nearest'\u001b[0m\u001b[0;34m)\u001b[0m\u001b[0;34m\u001b[0m\u001b[0m\n\u001b[0m\u001b[1;32m      2\u001b[0m \u001b[0mplt\u001b[0m\u001b[0;34m.\u001b[0m\u001b[0mshow\u001b[0m\u001b[0;34m(\u001b[0m\u001b[0;34m)\u001b[0m\u001b[0;34m\u001b[0m\u001b[0m\n",
      "\u001b[0;31mNameError\u001b[0m: name 'Imdat' is not defined"
     ]
    }
   ],
   "source": [
    "plt.imshow(Imdat, cmap='hot', interpolation='nearest')\n",
    "plt.show()"
   ]
  },
  {
   "cell_type": "code",
   "execution_count": 10,
   "metadata": {
    "collapsed": false
   },
   "outputs": [
    {
     "data": {
      "text/plain": [
       "509"
      ]
     },
     "execution_count": 10,
     "metadata": {},
     "output_type": "execute_result"
    }
   ],
   "source": [
    "K=4\n",
    "def running_mean(x, N):\n",
    "    cumsum = np.cumsum(np.insert(x, 0, 0)) \n",
    "    return (cumsum[N:] - cumsum[:-N]) / N \n",
    "ma = running_mean(Imdat[250],K)\n",
    "maxvs = running_mean(xvs,K)\n",
    "len(ma)\n"
   ]
  },
  {
   "cell_type": "code",
   "execution_count": null,
   "metadata": {
    "collapsed": true
   },
   "outputs": [],
   "source": []
  },
  {
   "cell_type": "code",
   "execution_count": null,
   "metadata": {
    "collapsed": true
   },
   "outputs": [],
   "source": []
  },
  {
   "cell_type": "code",
   "execution_count": null,
   "metadata": {
    "collapsed": true
   },
   "outputs": [],
   "source": []
  },
  {
   "cell_type": "code",
   "execution_count": null,
   "metadata": {
    "collapsed": true
   },
   "outputs": [],
   "source": []
  }
 ],
 "metadata": {
  "kernelspec": {
   "display_name": "Python 3",
   "language": "python",
   "name": "python3"
  },
  "language_info": {
   "codemirror_mode": {
    "name": "ipython",
    "version": 3
   },
   "file_extension": ".py",
   "mimetype": "text/x-python",
   "name": "python",
   "nbconvert_exporter": "python",
   "pygments_lexer": "ipython3",
   "version": "3.5.2"
  }
 },
 "nbformat": 4,
 "nbformat_minor": 0
}
