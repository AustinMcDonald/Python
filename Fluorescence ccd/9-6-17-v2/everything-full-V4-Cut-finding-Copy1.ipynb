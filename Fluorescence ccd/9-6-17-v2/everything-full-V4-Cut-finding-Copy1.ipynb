{
 "cells": [
  {
   "cell_type": "code",
   "execution_count": 1,
   "metadata": {
    "collapsed": true
   },
   "outputs": [],
   "source": [
    "import numpy as np\n",
    "import matplotlib.pyplot as plt\n",
    "import os\n",
    "import glob\n",
    "import pandas as pd\n",
    "from scipy.optimize import curve_fit\n",
    "from scipy.signal import savgol_filter\n",
    "from scipy import optimize\n",
    "import scipy\n",
    "import scipy.ndimage as ndimage\n",
    "import scipy.ndimage.filters as filters\n",
    "from PIL import Image \n",
    "import numpy.polynomial.polynomial as poly\n",
    "from IPython.display import clear_output\n",
    "\n",
    "\n",
    "%matplotlib inline\n"
   ]
  },
  {
   "cell_type": "code",
   "execution_count": 2,
   "metadata": {
    "collapsed": false
   },
   "outputs": [
    {
     "name": "stdout",
     "output_type": "stream",
     "text": [
      "/Users/austinmcdonald/Desktop/test/cut\n"
     ]
    }
   ],
   "source": [
    "cd /Users/austinmcdonald/Desktop/test/cut/"
   ]
  },
  {
   "cell_type": "code",
   "execution_count": 3,
   "metadata": {
    "collapsed": false
   },
   "outputs": [
    {
     "data": {
      "text/plain": [
       "['Ba', 'Ca', 'Na']"
      ]
     },
     "execution_count": 3,
     "metadata": {},
     "output_type": "execute_result"
    }
   ],
   "source": [
    "DataSet = os.listdir()\n",
    "DataSet = [x for x in DataSet if x != '.DS_Store']\n",
    "#DataSet = DataSet[0]\n",
    "DataSet"
   ]
  },
  {
   "cell_type": "code",
   "execution_count": 4,
   "metadata": {
    "collapsed": true
   },
   "outputs": [],
   "source": [
    "DataPath = '/Users/austinmcdonald/Desktop/test/cut'"
   ]
  },
  {
   "cell_type": "code",
   "execution_count": 5,
   "metadata": {
    "collapsed": true
   },
   "outputs": [],
   "source": [
    "def running_mean(x, N):\n",
    "    cumsum = np.cumsum(np.insert(x, 0, 0)) \n",
    "    return (cumsum[N:] - cumsum[:-N]) / N "
   ]
  },
  {
   "cell_type": "code",
   "execution_count": 36,
   "metadata": {
    "collapsed": false
   },
   "outputs": [
    {
     "name": "stdout",
     "output_type": "stream",
     "text": [
      "Finding all areas in dataset 2\n",
      "Finding all areas in folder 21\n",
      "On file 750 of 750\n"
     ]
    }
   ],
   "source": [
    "eCoeff = 0.01160\n",
    "eOffset= 1917\n",
    "AreaFull = dict()\n",
    "AreaCUT = dict()\n",
    "PairsM = dict()\n",
    "PairsA = dict()\n",
    "AreaCUT2 = dict() \n",
    "PairsM2 = dict()\n",
    "Bleached = dict()\n",
    "INFO1 = dict()\n",
    "INFO2 = dict()\n",
    "\n",
    "LIFETIME= dict()\n",
    "INTENSITY= dict()\n",
    "AREA= dict()\n",
    "AREAPRE=dict()\n",
    "AREAPOST=dict()\n",
    "AREASS=dict()\n",
    "CHIR= dict()\n",
    "MEAND= dict()\n",
    "MEANI=dict()\n",
    "MEANE=dict()\n",
    "NUM=dict()\n",
    "PPairs = []\n",
    "for z in range(0,len(DataSet)):\n",
    "    FoldPath = DataPath+'/'+DataSet[z]\n",
    "    Folders = os.listdir(FoldPath)\n",
    "    Folders = [x for x in Folders if x != '.DS_Store']\n",
    "    \n",
    "    AreaH=[]        # kill this ?\n",
    "    AreaHH=[]       # kill this ?\n",
    "    SpotAreaH = []  # kill this ?\n",
    "    SpotAreaHH = [] # kill this ?\n",
    "    SpotAreaHH2 = []# kill this ?\n",
    "    PairsMade2 = [] # kill this ?\n",
    "    Bleach = []     # kill this ?\n",
    "    MASTERTau = []\n",
    "    MASTERItn = []\n",
    "    MASTERarea=[]\n",
    "    MASTERchiRa=[]\n",
    "    MASTERmeanD=[]\n",
    "    MASTERareaSS=[]\n",
    "    MASTERareaPre=[]\n",
    "    MASTERareaPost=[]\n",
    "    MASTERmeanI=[]\n",
    "    MASTERmeanE=[]\n",
    "    SPOTS=[]\n",
    "    PairsMade = []\n",
    "    Shape = 221\n",
    "    xvs = np.arange(0,Shape)\n",
    "    ##Means = []# kill this ?\n",
    "    #Devs  = []# kill this ?\n",
    "    neighborhood_size = 9\n",
    "    Row = int(4) # define the area to take around the spots\n",
    "    Col = int(4) # define the area to take around the spots\n",
    "    for w in range(0,len(Folders)):\n",
    "        folder = FoldPath+'/'+Folders[w]\n",
    "        files = os.listdir(folder)\n",
    "        files = [x for x in files if x != '.DS_Store']\n",
    "        DataSub = np.zeros(Shape**2).reshape((Shape,Shape))\n",
    "        Datatot = DataSub\n",
    "        fitts = []\n",
    "        AllPairs =[]\n",
    "        SpotInfo2 = []\n",
    "\n",
    "        ImageB = []\n",
    "        MeanFit = np.zeros(Shape**2).reshape((Shape,Shape))\n",
    "        eCoeffM = eCoeff*np.ones(Shape**2).reshape((Shape,Shape))\n",
    "        eOffsetM = eOffset*np.ones(Shape**2).reshape((Shape,Shape))\n",
    "        for x in range(700,750):\n",
    "            Images = np.array(Image.open(folder+'/'+files[x]))\n",
    "            Images = eCoeffM*(Images - eOffsetM)\n",
    "            #Mfit = np.zeros(len(xvs)) # kill this ?\n",
    "            ImageFit = []\n",
    "            for y in range(0,Shape):\n",
    "                coefs = poly.polyfit(xvs,Images[y], 2) # fits 11th order poly \n",
    "                ffit  = poly.polyval(xvs, coefs)\n",
    "                ImageFit.append(ffit)\n",
    "            MeanFit+=np.array(ImageFit)\n",
    "        MeanFit = MeanFit/50\n",
    "\n",
    "\n",
    "        for q in range(0,len(files)):\n",
    "            Images = (np.array(Image.open(folder+'/'+files[q])))# - MeanFit)\n",
    "            Images = eCoeffM*(Images - eOffsetM) - MeanFit\n",
    "            DataSub += Images\n",
    "\n",
    "\n",
    "        data = DataSub\n",
    "\n",
    "        threshold = np.mean(data)+3*np.std(data)  #////////////////////////////////////////////////////////////\n",
    "\n",
    "        data_max = filters.maximum_filter(data, neighborhood_size)\n",
    "        maxima = (data == data_max)\n",
    "        data_min = filters.minimum_filter(data, neighborhood_size)\n",
    "        diff = ((data_max - data_min) > threshold)\n",
    "        maxima[diff == 0] = 0\n",
    "\n",
    "        labeled, num_objects = ndimage.label(maxima)\n",
    "        slices = ndimage.find_objects(labeled)\n",
    "        x, y = [], []\n",
    "        Pairs = []\n",
    "        for dy,dx in slices:\n",
    "            x_center = (dx.start + dx.stop - 1)/2\n",
    "            x.append(x_center)\n",
    "            y_center = (dy.start + dy.stop - 1)/2    \n",
    "            y.append(y_center)\n",
    "            Pairs.append((x_center,y_center))\n",
    "        for item in Pairs:\n",
    "            if item not in AllPairs:\n",
    "                AllPairs.append(item) \n",
    "\n",
    "\n",
    "        Images = None\n",
    "        ImageB = None\n",
    "        #data   = None\n",
    "        Slices = None\n",
    "        labeled= None\n",
    "        num_objects=None\n",
    "\n",
    "        ############################################################## \n",
    "        Xc=[]\n",
    "        Yc=[]\n",
    "        for qw in range(0,len(AllPairs)):\n",
    "            XX = AllPairs[qw][0]\n",
    "            YY = AllPairs[qw][1]\n",
    "            if XX>10 and XX<210 and YY>10 and YY<210:\n",
    "                Xc.append(XX)\n",
    "                Yc.append(YY)\n",
    "        #try:\n",
    "            #Xc=[]\n",
    "            #Yc=[]\n",
    "            #for qw in range(0,len(AllPairs)):\n",
    "                #XX = AllPairs[qw][0]\n",
    "                #YY = AllPairs[qw][0]\n",
    "                #if XX>10 and XX<210 and YY>10 and YY<210:\n",
    "                    #Xc.append(XX)\n",
    "                    #Yc.append(YY)\n",
    "        #except ValueError:\n",
    "            #break\n",
    "            #Xc=0\n",
    "            #Yc=0\n",
    "            #AllPairs=0\n",
    "\n",
    "        for q in range(0,len(files)):\n",
    "            Images = (np.array(Image.open(folder+'/'+files[q])))# - MeanFit)\n",
    "            Images = eCoeffM*(Images - eOffsetM) - MeanFit\n",
    "            Images[Images < 0] = 0 \n",
    "\n",
    "            SpotInfoHolder = []\n",
    "\n",
    "            for we in range(0,len(Xc)):\n",
    "                Xindex = int(Xc[we])\n",
    "                Yindex = int(Yc[we])\n",
    "\n",
    "                spot1 = np.array(Images[Yindex-Row:Yindex+Row+1,Xindex-Col:Xindex+Col+1])\n",
    "                spot2 = np.array(Images[Yindex-Row:Yindex+Row+1,Xindex-Col:Xindex+Col+1])\n",
    "                spot = spot1[2:7,2:7]\n",
    "                SpotRemove = np.zeros(5**2).reshape((5,5))\n",
    "                spot2[2:7,2:7]=SpotRemove\n",
    "                spotB = spot2\n",
    "\n",
    "                ATot = spot.sum()\n",
    "                ATotB = spot2.sum()\n",
    "                SpotInfo2.append([z,w,Xindex,Yindex,ATot,ATotB])\n",
    "\n",
    "    ########################################################################################  \n",
    "\n",
    "            clear_output()\n",
    "            print('Finding all areas in dataset'+' '+str(z)) \n",
    "            print('Finding all areas in folder'+' '+str(w)) \n",
    "            print('On file'+' '+str(q+1)+' '+'of'+' '+str(len(files)))\n",
    "\n",
    "        Par = len(AllPairs)\n",
    "        AVG = 5\n",
    "        Mnumb = 5\n",
    "        PairsMade=[]\n",
    "        Tau = []\n",
    "        Signal = []\n",
    "        for x in range(0,Par):\n",
    "            HoldArea = np.array(SpotInfo2[x::Par])[:,4]\n",
    "            HoldAreaB = np.array(SpotInfo2[x::Par])[:,5]*(25/56)\n",
    "            aa = np.add.reduceat(HoldArea, np.arange(0, len(HoldArea), AVG))/AVG\n",
    "            aaB = np.add.reduceat(HoldAreaB, np.arange(0, len(HoldAreaB), AVG))/AVG\n",
    "            vals =np.arange(0,len(aa))\n",
    "\n",
    "            coefs = poly.polyfit(vals,aaB, 3)\n",
    "            ffit  = poly.polyval(vals, coefs)\n",
    "            Sig = np.array(aa-ffit)\n",
    "\n",
    "            meanI = np.mean(Sig[:Mnumb])\n",
    "            sigmaI = np.std(Sig[:Mnumb])\n",
    "            meanE = np.mean(Sig[-Mnumb:])\n",
    "            sigmaE = np.std(Sig[-Mnumb:])\n",
    "            meanM = np.mean(Sig)\n",
    "            T = len(Sig)\n",
    "            tau = ((meanM - meanE)/(meanI -meanE))*T\n",
    "            Tau.append(tau)\n",
    "            Signal.append(Sig)\n",
    "\n",
    "        Tau2 = []\n",
    "        Offset = 5\n",
    "        for x in range(0,Par):\n",
    "            TauH = Tau[x]\n",
    "            for q in range(0,50):\n",
    "                meanI = np.mean(running_mean(Signal[x],4)[:int(TauH)-Offset])\n",
    "                meanE = np.mean(running_mean(Signal[x],4)[int(TauH)+Offset:])\n",
    "                T = len(Signal[x])\n",
    "                meanM = np.mean(Signal[x])\n",
    "                tau = ((meanM - meanE)/(meanI -meanE))*T \n",
    "                if tau != tau:\n",
    "                    tau = -10\n",
    "                TauH = tau\n",
    "            Tau2.append(TauH)\n",
    "\n",
    "        Tau3 = []\n",
    "        Offset = 3\n",
    "        for x in range(0,Par):\n",
    "            TauH = Tau2[x]\n",
    "            for q in range(0,50):\n",
    "                meanI = np.mean(running_mean(Signal[x],4)[:int(TauH)-Offset])\n",
    "                meanE = np.mean(running_mean(Signal[x],4)[int(TauH)+Offset:])\n",
    "                T = len(Signal[x])\n",
    "                meanM = np.mean(Signal[x])\n",
    "                tau = ((meanM - meanE)/(meanI -meanE))*T \n",
    "                if tau != tau:\n",
    "                    tau = -10\n",
    "                TauH = tau\n",
    "            Tau3.append(TauH)\n",
    "            \n",
    "\n",
    "        #data = []\n",
    "        #PairsMade = []\n",
    "        #chiF = []\n",
    "        #chiB = []\n",
    "        #chiFIT=[]\n",
    "        chiRa = []\n",
    "        meanDif = []\n",
    "        #Dtau = []\n",
    "        areaS=[]\n",
    "        areaSS=[]\n",
    "        areaPre=[]\n",
    "        areaPost=[]\n",
    "        ITEN=[]\n",
    "        MeanI=[]\n",
    "        MeanE=[]\n",
    "        Offset =3\n",
    "        NUMBER = 0\n",
    "        for x in range(0,Par):\n",
    "            TauH   = Tau3[x]\n",
    "            Data = running_mean(Signal[x],4)\n",
    "            DataLeft  = Data[:int(TauH)-Offset]\n",
    "            DataRight = Data[int(TauH)+Offset:]\n",
    "            sigma = np.std(Data)\n",
    "            mean  = np.mean(Data)\n",
    "            meanI  = np.mean(DataLeft)\n",
    "            sigmaI = np.std(DataLeft)\n",
    "            meanE  = np.mean(DataRight)\n",
    "            sigmaE = np.std(DataRight)\n",
    "            Inten  = Signal[x][:int(TauH)]\n",
    "            Intensity  = np.sum(Inten)/len(Inten)#######  mean? wtf man\n",
    "            chiHIGH = np.sum((DataLeft - np.mean(DataLeft))**2)\n",
    "            chiLOW = np.sum((DataRight - np.mean(DataRight))**2)\n",
    "            val = np.arange(0,len(Data),1)\n",
    "            fit=np.polyfit(val,Data,1)    \n",
    "            chiFit  = np.sum((np.polyval(fit, val) - Data) ** 2)\n",
    "            ###dtau = TauH*np.sqrt(((sigma-sigmaE)/(mean-meanE))**2+((sigmaI-sigmaE)/(meanI-meanE))**2)\n",
    "            #data.append([Signal[x],TauH,Intensity])\n",
    "            #PairsMade.append(AllPairs[x])\n",
    "            #chiF.append(chiHIGH)\n",
    "            #chiB.append(chiLOW)\n",
    "            #chiFIT.append(chiFit)\n",
    "            ##ITEN.append(Intensity)\n",
    "            \n",
    "            if meanI-meanE>20 and ((chiLOW+chiHIGH)/ chiFit)<1:\n",
    "                NUMBER += 1\n",
    "            \n",
    "            ##chiRa.append((chiLOW+chiHIGH)/ chiFit)\n",
    "            ##meanDif.append(meanI-meanE)\n",
    "            ###Dtau.append(dtau)\n",
    "            ##areaS.append(Signal[x])\n",
    "            ##areaSS.append(Data)\n",
    "            ##areaPre.append(DataLeft)\n",
    "            ##areaPost.append(DataRight)\n",
    "            ##MeanI.append(meanI)\n",
    "            ##MeanE.append(meanE)\n",
    "        SPOTS.append(NUMBER)\n",
    "        ##MASTERTau.append(Tau3)\n",
    "        ##MASTERItn.append(ITEN)\n",
    "        ##MASTERarea.append(areaS)\n",
    "        ##MASTERareaSS.append(areaSS)\n",
    "        ##MASTERareaPre.append(areaPre)\n",
    "        ##MASTERareaPost.append(areaPost)\n",
    "\n",
    "        ##MASTERchiRa.append(chiRa)\n",
    "        ##MASTERmeanD.append(meanDif)\n",
    "        ##MASTERmeanI.append(MeanI)\n",
    "        ##MASTERmeanE.append(MeanE)\n",
    "    NUM[z] =     SPOTS#[item for sublist in SPOTS for item in sublist]\n",
    "    ##MEANI[z] = [item for sublist in MASTERmeanI for item in sublist] \n",
    "    ##MEANE[z] = [item for sublist in MASTERmeanE for item in sublist]\n",
    "    ##LIFETIME[z] = [item for sublist in MASTERTau for item in sublist]\n",
    "    ##INTENSITY[z]= [item for sublist in MASTERItn for item in sublist]\n",
    "    ##AREA[z]     = [item for sublist in MASTERarea for item in sublist]\n",
    "    ##AREAPRE[z]  = [item for sublist in MASTERareaPre for item in sublist]\n",
    "    ##AREAPOST[z] = [item for sublist in MASTERareaPost for item in sublist]\n",
    "\n",
    "    ##AREASS[z]     = [item for sublist in MASTERareaSS for item in sublist]\n",
    "\n",
    "    ##CHIR[z]     = [item for sublist in MASTERchiRa for item in sublist]\n",
    "    ##MEAND[z]    = [item for sublist in MASTERmeanD for item in sublist]\n",
    "\n",
    "    #AreaFull[z]  = [item for sublist in AreaHH for item in sublist]\n",
    "    #AreaCUT[z]   = [item for sublist in SpotAreaHH for item in sublist]\n",
    "    #PairsM[z]    = [item for sublist in PairsMade for item in sublist]\n",
    "    #PairsA[z]    = [item for sublist in PPairs for item in sublist]\n",
    "    #AreaCUT2[z]  = [item for sublist in SpotAreaHH2 for item in sublist]\n",
    "    #PairsM2[z]   = [item for sublist in PairsMade2 for item in sublist]\n",
    "    #Bleached[z]  = Bleach"
   ]
  },
  {
   "cell_type": "code",
   "execution_count": 28,
   "metadata": {
    "collapsed": false
   },
   "outputs": [
    {
     "name": "stdout",
     "output_type": "stream",
     "text": [
      "Ba  pairs =  22\n",
      "Ca  pairs =  1\n",
      "Na  pairs =  22\n"
     ]
    }
   ],
   "source": [
    "for x in range(0,len(DataSet)):\n",
    "    print(DataSet[x]+' '+' pairs = ',len(NUM[x]))"
   ]
  },
  {
   "cell_type": "code",
   "execution_count": 37,
   "metadata": {
    "collapsed": false
   },
   "outputs": [
    {
     "data": {
      "text/plain": [
       "[3, 0, 0, 3, 6, 9, 0, 11, 15, 12, 0, 18, 5, 11, 0, 0, 9, 5, 0, 0, 0, 11]"
      ]
     },
     "execution_count": 37,
     "metadata": {},
     "output_type": "execute_result"
    }
   ],
   "source": [
    "NUM[0]"
   ]
  },
  {
   "cell_type": "code",
   "execution_count": 38,
   "metadata": {
    "collapsed": false
   },
   "outputs": [
    {
     "data": {
      "text/plain": [
       "[0, 1, 5, 6, 5, 0, 0, 0, 5, 1, 7, 3, 5, 0, 0, 0, 0, 2, 0, 4, 4, 7]"
      ]
     },
     "execution_count": 38,
     "metadata": {},
     "output_type": "execute_result"
    }
   ],
   "source": [
    "NUM[2]"
   ]
  },
  {
   "cell_type": "code",
   "execution_count": null,
   "metadata": {
    "collapsed": true
   },
   "outputs": [],
   "source": []
  },
  {
   "cell_type": "code",
   "execution_count": null,
   "metadata": {
    "collapsed": true
   },
   "outputs": [],
   "source": []
  },
  {
   "cell_type": "code",
   "execution_count": null,
   "metadata": {
    "collapsed": true
   },
   "outputs": [],
   "source": []
  },
  {
   "cell_type": "code",
   "execution_count": 66,
   "metadata": {
    "collapsed": false
   },
   "outputs": [
    {
     "data": {
      "image/png": "[encoded data removed]",
      "text/plain": [
       "<matplotlib.figure.Figure at 0x11af93eb8>"
      ]
     },
     "metadata": {},
     "output_type": "display_data"
    }
   ],
   "source": [
    "\n",
    "plt.figure(figsize=(7,7))\n",
    "num =1\n",
    "plt.hist(NUM[0],label='Barium',alpha=0.6,color='r',bins=np.arange(1,16,num),weights=NUM[0])\n",
    "plt.hist(NUM[2],label='Nothing',alpha=0.6,color='k',bins=np.arange(1,16,num),weights=NUM[2])\n",
    "\n",
    "\n",
    "plt.xlabel(\"Number of spots in F.O.V\", fontsize=28)\n",
    "plt.ylabel(\"Spots\", fontsize=28)\n",
    "plt.xticks(fontsize = 26)\n",
    "plt.yticks(fontsize = 26)\n",
    "#plt.xticks([450,475,500,525,550,575,600,625],ha='left')\n",
    "plt.tick_params(top=\"off\",right='off')\n",
    "plt.tick_params(axis='x', direction='out',width=2,length=5)\n",
    "plt.tick_params(axis='y',width=2,length=5)\n",
    "plt.legend(loc='upper left',fontsize=22,shadow=True, fancybox=True)\n",
    "plt.xlim(1,15)\n",
    "plt.ylim(0,34)\n",
    "\n",
    "plt.tight_layout()\n",
    "#plt.savefig('/Users/austinmcdonald/Desktop/FOVhist')\n",
    "plt.show()"
   ]
  },
  {
   "cell_type": "code",
   "execution_count": null,
   "metadata": {
    "collapsed": true
   },
   "outputs": [],
   "source": []
  },
  {
   "cell_type": "code",
   "execution_count": null,
   "metadata": {
    "collapsed": true
   },
   "outputs": [],
   "source": []
  },
  {
   "cell_type": "code",
   "execution_count": null,
   "metadata": {
    "collapsed": true
   },
   "outputs": [],
   "source": []
  },
  {
   "cell_type": "code",
   "execution_count": null,
   "metadata": {
    "collapsed": true
   },
   "outputs": [],
   "source": []
  },
  {
   "cell_type": "code",
   "execution_count": null,
   "metadata": {
    "collapsed": true
   },
   "outputs": [],
   "source": []
  },
  {
   "cell_type": "code",
   "execution_count": null,
   "metadata": {
    "collapsed": true
   },
   "outputs": [],
   "source": []
  },
  {
   "cell_type": "code",
   "execution_count": 110,
   "metadata": {
    "collapsed": false
   },
   "outputs": [],
   "source": [
    "nbins = np.arange(0,6e3,num)\n",
    "histba, bin_edgesba = np.histogram(AreaPass3[0] , nbins)\n",
    "bin_centresba = (bin_edgesba[:-1] + bin_edgesba[1:])/2\n",
    "\n",
    "histna, bin_edgesna = np.histogram(AreaPass3[2] , nbins)\n",
    "bin_centresna = (bin_edgesna[:-1] + bin_edgesna[1:])/2"
   ]
  },
  {
   "cell_type": "code",
   "execution_count": null,
   "metadata": {
    "collapsed": true
   },
   "outputs": [],
   "source": []
  },
  {
   "cell_type": "code",
   "execution_count": 111,
   "metadata": {
    "collapsed": false
   },
   "outputs": [
    {
     "data": {
      "image/png": "[encoded data removed]",
      "text/plain": [
       "<matplotlib.figure.Figure at 0x11bd81c50>"
      ]
     },
     "metadata": {},
     "output_type": "display_data"
    }
   ],
   "source": [
    "plt.figure(figsize=(9,9))\n",
    "baerry = np.sqrt(histba)\n",
    "naerry = np.sqrt(histna)\n",
    "\n",
    "baerrx = (bin_centresba[1]-bin_centresba[0])/2\n",
    "naerrx = (bin_centresna[1]-bin_centresna[0])/2\n",
    "\n",
    "plt.scatter(bin_centresba,histba,linewidth=6,color='r',marker='s',label='Barium')\n",
    "plt.scatter(bin_centresna,histna,linewidth=6,color='k',marker='o',label='Residue')\n",
    "\n",
    "#plt.errorbar(bin_centresba,histba,yerr=baerry,xerr=baerrx,color='r',fmt='.')\n",
    "#plt.errorbar(bin_centresna,histna,yerr=naerry,xerr=naerrx,color='k',fmt='.')\n",
    "\n",
    "plt.xlabel(r'bins / pe', fontsize=28)\n",
    "plt.ylabel('counts (arb. units)', fontsize=28)\n",
    "plt.legend(loc='upper right',fontsize=22,shadow=True, fancybox=True)\n",
    "plt.xticks(fontsize = 26)\n",
    "plt.yticks(fontsize = 26)\n",
    "#plt.xticks([450,475,500,525,550,575,600,625],ha='left')\n",
    "plt.tick_params(top=\"off\",right='off')\n",
    "plt.tick_params(axis='x', direction='out',width=2,length=5)\n",
    "plt.tick_params(axis='y',width=2,length=5)\n",
    "\n",
    "\n",
    "plt.xlim(0,6e3)\n",
    "#plt.ylim(0,500)\n",
    "#plt.axhline(0,linewidth=3,linestyle='--',color='k')\n",
    "\n",
    "#plt.axvline(30)\n",
    "plt.legend(fontsize=22)\n",
    "plt.tight_layout()\n",
    "#plt.savefig(SAVE+'Hist-areapre-meancor-lifeWgh')\n",
    "plt.show()"
   ]
  },
  {
   "cell_type": "code",
   "execution_count": null,
   "metadata": {
    "collapsed": true
   },
   "outputs": [],
   "source": []
  },
  {
   "cell_type": "code",
   "execution_count": null,
   "metadata": {
    "collapsed": true
   },
   "outputs": [],
   "source": []
  },
  {
   "cell_type": "code",
   "execution_count": null,
   "metadata": {
    "collapsed": true
   },
   "outputs": [],
   "source": []
  },
  {
   "cell_type": "code",
   "execution_count": null,
   "metadata": {
    "collapsed": true
   },
   "outputs": [],
   "source": [
    "   '''\n",
    "\n",
    "        for q in range(0,len(files)):\n",
    "            Images = (np.array(Image.open(folder+'/'+files[q])))# - MeanFit)\n",
    "            Images = eCoeffM*(Images - eOffsetM) - MeanFit\n",
    "            Images[Images < 0] = 0 \n",
    "\n",
    "            SpotInfoHolder = []\n",
    "\n",
    "            for we in range(0,len(Xc)):\n",
    "                Xindex = int(Xc[we])\n",
    "                Yindex = int(Yc[we])\n",
    "\n",
    "                spot1 = np.array(Images[Yindex-Row:Yindex+Row+1,Xindex-Col:Xindex+Col+1])\n",
    "                spot2 = np.array(Images[Yindex-Row:Yindex+Row+1,Xindex-Col:Xindex+Col+1])\n",
    "                spot = spot1[2:7,2:7]\n",
    "                SpotRemove = np.zeros(5**2).reshape((5,5))\n",
    "                spot2[2:7,2:7]=SpotRemove\n",
    "                spotB = spot2\n",
    "\n",
    "                ATot = spot.sum()\n",
    "                ATotB = spot2.sum()\n",
    "                SpotInfo2.append([z,w,Xindex,Yindex,ATot,ATotB])\n",
    "\n",
    "    ########################################################################################  \n",
    "\n",
    "            clear_output()\n",
    "            print('Finding all areas in dataset'+' '+str(z)) \n",
    "            print('Finding all areas in folder'+' '+str(w)) \n",
    "            print('On file'+' '+str(q+1)+' '+'of'+' '+str(len(files)))\n",
    "\n",
    "        Par = len(AllPairs)\n",
    "        AVG = 5\n",
    "        Mnumb = 5\n",
    "        PairsMade=[]\n",
    "        Tau = []\n",
    "        Signal = []\n",
    "        for x in range(0,Par):\n",
    "            HoldArea = np.array(SpotInfo2[x::Par])[:,4]\n",
    "            HoldAreaB = np.array(SpotInfo2[x::Par])[:,5]*(25/56)\n",
    "            aa = np.add.reduceat(HoldArea, np.arange(0, len(HoldArea), AVG))/AVG\n",
    "            aaB = np.add.reduceat(HoldAreaB, np.arange(0, len(HoldAreaB), AVG))/AVG\n",
    "            vals =np.arange(0,len(aa))\n",
    "\n",
    "            coefs = poly.polyfit(vals,aaB, 3)\n",
    "            ffit  = poly.polyval(vals, coefs)\n",
    "            Sig = np.array(aa-ffit)\n",
    "\n",
    "            meanI = np.mean(Sig[:Mnumb])\n",
    "            sigmaI = np.std(Sig[:Mnumb])\n",
    "            meanE = np.mean(Sig[-Mnumb:])\n",
    "            sigmaE = np.std(Sig[-Mnumb:])\n",
    "            meanM = np.mean(Sig)\n",
    "            T = len(Sig)\n",
    "            tau = ((meanM - meanE)/(meanI -meanE))*T\n",
    "            Tau.append(tau)\n",
    "            Signal.append(Sig)\n",
    "\n",
    "        Tau2 = []\n",
    "        Offset = 5\n",
    "        for x in range(0,Par):\n",
    "            TauH = Tau[x]\n",
    "            for q in range(0,50):\n",
    "                meanI = np.mean(running_mean(Signal[x],4)[:int(TauH)-Offset])\n",
    "                meanE = np.mean(running_mean(Signal[x],4)[int(TauH)+Offset:])\n",
    "                T = len(Signal[x])\n",
    "                meanM = np.mean(Signal[x])\n",
    "                tau = ((meanM - meanE)/(meanI -meanE))*T \n",
    "                if tau != tau:\n",
    "                    tau = -10\n",
    "                TauH = tau\n",
    "            Tau2.append(TauH)\n",
    "\n",
    "        Tau3 = []\n",
    "        Offset = 3\n",
    "        for x in range(0,Par):\n",
    "            TauH = Tau2[x]\n",
    "            for q in range(0,50):\n",
    "                meanI = np.mean(running_mean(Signal[x],4)[:int(TauH)-Offset])\n",
    "                meanE = np.mean(running_mean(Signal[x],4)[int(TauH)+Offset:])\n",
    "                T = len(Signal[x])\n",
    "                meanM = np.mean(Signal[x])\n",
    "                tau = ((meanM - meanE)/(meanI -meanE))*T \n",
    "                if tau != tau:\n",
    "                    tau = -10\n",
    "                TauH = tau\n",
    "            Tau3.append(TauH)\n",
    "            \n",
    "\n",
    "        #data = []\n",
    "        #PairsMade = []\n",
    "        #chiF = []\n",
    "        #chiB = []\n",
    "        #chiFIT=[]\n",
    "        chiRa = []\n",
    "        meanDif = []\n",
    "        #Dtau = []\n",
    "        areaS=[]\n",
    "        areaSS=[]\n",
    "        areaPre=[]\n",
    "        areaPost=[]\n",
    "        ITEN=[]\n",
    "        MeanI=[]\n",
    "        MeanE=[]\n",
    "        Offset =3\n",
    "        NUMBER = 0\n",
    "        for x in range(0,Par):\n",
    "            TauH   = Tau3[x]\n",
    "            Data = running_mean(Signal[x],4)\n",
    "            DataLeft  = Data[:int(TauH)-Offset]\n",
    "            DataRight = Data[int(TauH)+Offset:]\n",
    "            sigma = np.std(Data)\n",
    "            mean  = np.mean(Data)\n",
    "            meanI  = np.mean(DataLeft)\n",
    "            sigmaI = np.std(DataLeft)\n",
    "            meanE  = np.mean(DataRight)\n",
    "            sigmaE = np.std(DataRight)\n",
    "            Inten  = Signal[x][:int(TauH)]\n",
    "            Intensity  = np.sum(Inten)/len(Inten)#######  mean? wtf man\n",
    "            chiHIGH = np.sum((DataLeft - np.mean(DataLeft))**2)\n",
    "            chiLOW = np.sum((DataRight - np.mean(DataRight))**2)\n",
    "            val = np.arange(0,len(Data),1)\n",
    "            fit=np.polyfit(val,Data,1)    \n",
    "            chiFit  = np.sum((np.polyval(fit, val) - Data) ** 2)\n",
    "            ###dtau = TauH*np.sqrt(((sigma-sigmaE)/(mean-meanE))**2+((sigmaI-sigmaE)/(meanI-meanE))**2)\n",
    "            #data.append([Signal[x],TauH,Intensity])\n",
    "            #PairsMade.append(AllPairs[x])\n",
    "            #chiF.append(chiHIGH)\n",
    "            #chiB.append(chiLOW)\n",
    "            #chiFIT.append(chiFit)\n",
    "            ##ITEN.append(Intensity)\n",
    "            \n",
    "            if meanI-meanE>25 and ((chiLOW+chiHIGH)/ chiFit)<1:\n",
    "                NUMBER += 1\n",
    "            \n",
    "            ##chiRa.append((chiLOW+chiHIGH)/ chiFit)\n",
    "            ##meanDif.append(meanI-meanE)\n",
    "            ###Dtau.append(dtau)\n",
    "            ##areaS.append(Signal[x])\n",
    "            ##areaSS.append(Data)\n",
    "            ##areaPre.append(DataLeft)\n",
    "            ##areaPost.append(DataRight)\n",
    "            ##MeanI.append(meanI)\n",
    "            ##MeanE.append(meanE)\n",
    "        SPOTS.append(NUMBER)\n",
    "        ##MASTERTau.append(Tau3)\n",
    "        ##MASTERItn.append(ITEN)\n",
    "        ##MASTERarea.append(areaS)\n",
    "        ##MASTERareaSS.append(areaSS)\n",
    "        ##MASTERareaPre.append(areaPre)\n",
    "        ##MASTERareaPost.append(areaPost)\n",
    "\n",
    "        ##MASTERchiRa.append(chiRa)\n",
    "        ##MASTERmeanD.append(meanDif)\n",
    "        ##MASTERmeanI.append(MeanI)\n",
    "        ##MASTERmeanE.append(MeanE)\n",
    "    NUM[z] =     SPOTS#[item for sublist in SPOTS for item in sublist]\n",
    "    ##MEANI[z] = [item for sublist in MASTERmeanI for item in sublist] \n",
    "    ##MEANE[z] = [item for sublist in MASTERmeanE for item in sublist]\n",
    "    ##LIFETIME[z] = [item for sublist in MASTERTau for item in sublist]\n",
    "    ##INTENSITY[z]= [item for sublist in MASTERItn for item in sublist]\n",
    "    ##AREA[z]     = [item for sublist in MASTERarea for item in sublist]\n",
    "    ##AREAPRE[z]  = [item for sublist in MASTERareaPre for item in sublist]\n",
    "    ##AREAPOST[z] = [item for sublist in MASTERareaPost for item in sublist]\n",
    "\n",
    "    ##AREASS[z]     = [item for sublist in MASTERareaSS for item in sublist]\n",
    "\n",
    "    ##CHIR[z]     = [item for sublist in MASTERchiRa for item in sublist]\n",
    "    ##MEAND[z]    = [item for sublist in MASTERmeanD for item in sublist]\n",
    "\n",
    "    #AreaFull[z]  = [item for sublist in AreaHH for item in sublist]\n",
    "    #AreaCUT[z]   = [item for sublist in SpotAreaHH for item in sublist]\n",
    "    #PairsM[z]    = [item for sublist in PairsMade for item in sublist]\n",
    "    #PairsA[z]    = [item for sublist in PPairs for item in sublist]\n",
    "    #AreaCUT2[z]  = [item for sublist in SpotAreaHH2 for item in sublist]\n",
    "    #PairsM2[z]   = [item for sublist in PairsMade2 for item in sublist]\n",
    "    #Bleached[z]  = Bleach'''\n",
    "        "
   ]
  }
 ],
 "metadata": {
  "kernelspec": {
   "display_name": "Python 3",
   "language": "python",
   "name": "python3"
  },
  "language_info": {
   "codemirror_mode": {
    "name": "ipython",
    "version": 3
   },
   "file_extension": ".py",
   "mimetype": "text/x-python",
   "name": "python",
   "nbconvert_exporter": "python",
   "pygments_lexer": "ipython3",
   "version": "3.5.2"
  }
 },
 "nbformat": 4,
 "nbformat_minor": 0
}
