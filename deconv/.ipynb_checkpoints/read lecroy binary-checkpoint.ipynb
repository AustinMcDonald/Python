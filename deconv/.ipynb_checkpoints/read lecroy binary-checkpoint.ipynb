{
 "cells": [
  {
   "cell_type": "code",
   "execution_count": 1,
   "metadata": {
    "collapsed": false
   },
   "outputs": [],
   "source": [
    "import struct\n",
    "import numpy as np\n",
    "import os\n",
    "import matplotlib.pyplot as plt\n",
    "from scipy import signal\n",
    "%matplotlib inline"
   ]
  },
  {
   "cell_type": "code",
   "execution_count": 2,
   "metadata": {
    "collapsed": false
   },
   "outputs": [
    {
     "name": "stdout",
     "output_type": "stream",
     "text": [
      "/Users/austinmcdonald/Desktop/con data\n"
     ]
    }
   ],
   "source": [
    "cd /Users/austinmcdonald/Desktop/con data"
   ]
  },
  {
   "cell_type": "code",
   "execution_count": 3,
   "metadata": {
    "collapsed": false
   },
   "outputs": [
    {
     "data": {
      "text/plain": [
       "['C4electron-4-2800000.trc',\n",
       " 'C4electron-4-2800001.trc',\n",
       " 'C4electron-4-2800002.trc',\n",
       " 'C4electron-4-2800003.trc',\n",
       " 'C4electron-4-2800004.trc',\n",
       " 'C4electron-4-2800005.trc',\n",
       " 'C4electron-4-2800006.trc',\n",
       " 'C4electron-4-2800007.trc',\n",
       " 'C4electron-4-2800008.trc',\n",
       " 'C4electron-4-2800009.trc',\n",
       " 'C4electron-4-2800010.trc']"
      ]
     },
     "execution_count": 3,
     "metadata": {},
     "output_type": "execute_result"
    }
   ],
   "source": [
    "#%run ./my_script.py\n",
    "\n",
    "os.listdir()"
   ]
  },
  {
   "cell_type": "code",
   "execution_count": null,
   "metadata": {
    "collapsed": false
   },
   "outputs": [],
   "source": []
  },
  {
   "cell_type": "code",
   "execution_count": 4,
   "metadata": {
    "collapsed": true
   },
   "outputs": [],
   "source": [
    "\"\"\" \n",
    "Little helper function to load data from a .trc binary file.\n",
    "This is the file format used by LeCroy oscilloscopes.\n",
    "M. Betz 09/2015\n",
    "\"\"\"\n",
    "import datetime\n",
    "import numpy as np\n",
    "import struct\n",
    "\n",
    "def readTrc( fName ):\n",
    "    \"\"\"\n",
    "        Reads .trc binary files from LeCroy Oscilloscopes.\n",
    "        Decoding is based on LECROY_2_3 template.\n",
    "        [More info](http://forums.ni.com/attachments/ni/60/4652/2/LeCroyWaveformTemplate_2_3.pdf)\n",
    "        \n",
    "        Parameters\n",
    "        -----------       \n",
    "        fName = filename of the .trc file\n",
    "        \n",
    "        Returns\n",
    "        -----------       \n",
    "        x: array with sample times [s],\n",
    "        \n",
    "        y: array with sample  values [V],\n",
    "        \n",
    "        d: dictionary with metadata\n",
    "        \n",
    "        \n",
    "        M. Betz 09/2015\n",
    "    \"\"\"\n",
    "    with open(fName, \"rb\") as fid:\n",
    "        data = fid.read(50).decode()\n",
    "        wdOffset = data.find('WAVEDESC')\n",
    "        \n",
    "        #------------------------\n",
    "        # Get binary format / endianess\n",
    "        #------------------------\n",
    "        if readX( fid, '?', wdOffset + 32 ):  #16 or 8 bit sample format?\n",
    "            smplFmt = \"int16\"\n",
    "        else:\n",
    "            smplFmt = \"int8\"\n",
    "        if readX( fid, '?', wdOffset + 34 ):  #Big or little endian?\n",
    "            endi = \"<\"\n",
    "        else:\n",
    "            endi = \">\"\n",
    "            \n",
    "        #------------------------\n",
    "        # Get length of blocks and arrays:\n",
    "        #------------------------\n",
    "        lWAVE_DESCRIPTOR = readX( fid, endi+\"l\", wdOffset + 36 )\n",
    "        lUSER_TEXT       = readX( fid, endi+\"l\", wdOffset + 40 )\n",
    "        lTRIGTIME_ARRAY  = readX( fid, endi+\"l\", wdOffset + 48 )\n",
    "        lRIS_TIME_ARRAY  = readX( fid, endi+\"l\", wdOffset + 52 )\n",
    "        lWAVE_ARRAY_1    = readX( fid, endi+\"l\", wdOffset + 60 )\n",
    "        lWAVE_ARRAY_2    = readX( fid, endi+\"l\", wdOffset + 64 )\n",
    "\n",
    "        d = dict()  #Will store all the extracted Metadata\n",
    "        \n",
    "        #------------------------\n",
    "        # Get Instrument info\n",
    "        #------------------------\n",
    "        d[\"INSTRUMENT_NAME\"]  = readX( fid, \"16s\",    wdOffset + 76 ).decode().split('\\x00')[0]\n",
    "        d[\"INSTRUMENT_NUMBER\"]= readX( fid, endi+\"l\", wdOffset + 92 )\n",
    "        d[\"TRACE_LABEL\"]      = readX( fid, \"16s\",    wdOffset + 96 ).decode().split('\\x00')[0]\n",
    "        \n",
    "        #------------------------\n",
    "        # Get Waveform info      \n",
    "        #------------------------\n",
    "        d[\"WAVE_ARRAY_COUNT\"] = readX( fid, endi+\"l\", wdOffset +116 )\n",
    "        d[\"PNTS_PER_SCREEN\"]  = readX( fid, endi+\"l\", wdOffset +120 )\n",
    "        d[\"FIRST_VALID_PNT\"]  = readX( fid, endi+\"l\", wdOffset +124 )\n",
    "        d[\"LAST_VALID_PNT\"]   = readX( fid, endi+\"l\", wdOffset +128 )\n",
    "        d[\"FIRST_POINT\"]      = readX( fid, endi+\"l\", wdOffset +132 )\n",
    "        d[\"SPARSING_FACTOR\"]  = readX( fid, endi+\"l\", wdOffset +136 )\n",
    "        d[\"SEGMENT_INDEX\"]    = readX( fid, endi+\"l\", wdOffset +140 )\n",
    "        d[\"SUBARRAY_COUNT\"]   = readX( fid, endi+\"l\", wdOffset +144 )\n",
    "        d[\"SWEEPS_PER_ACQ\"]   = readX( fid, endi+\"l\", wdOffset +148 )\n",
    "        d[\"POINTS_PER_PAIR\"]  = readX( fid, endi+\"h\", wdOffset +152 )\n",
    "        d[\"PAIR_OFFSET\"]      = readX( fid, endi+\"h\", wdOffset +154 )\n",
    "        d[\"VERTICAL_GAIN\"]    = readX( fid, endi+\"f\", wdOffset +156 ) #to get floating values from raw data :\n",
    "        d[\"VERTICAL_OFFSET\"]  = readX( fid, endi+\"f\", wdOffset +160 ) #VERTICAL_GAIN * data - VERTICAL_OFFSET \n",
    "        d[\"MAX_VALUE\"]        = readX( fid, endi+\"f\", wdOffset +164 )\n",
    "        d[\"MIN_VALUE\"]        = readX( fid, endi+\"f\", wdOffset +168 )\n",
    "        d[\"NOMINAL_BITS\"]     = readX( fid, endi+\"h\", wdOffset +172 )\n",
    "        d[\"NOM_SUBARRAY_COUNT\"]= readX( fid, endi+\"h\",wdOffset +174 )\n",
    "        d[\"HORIZ_INTERVAL\"]   = readX( fid, endi+\"f\", wdOffset +176 ) #sampling interval for time domain waveforms \n",
    "        d[\"HORIZ_OFFSET\"]     = readX( fid, endi+\"d\", wdOffset +180 ) #trigger offset for the first sweep of the trigger, seconds between the trigger and the first data point \n",
    "        d[\"PIXEL_OFFSET\"]     = readX( fid, endi+\"d\", wdOffset +188 )\n",
    "        d[\"VERTUNIT\"]         = readX( fid, \"48s\", wdOffset +196 ).decode().split('\\x00')[0]\n",
    "        d[\"HORUNIT\"]          = readX( fid, \"48s\", wdOffset +244 ).decode().split('\\x00')[0]\n",
    "        d[\"HORIZ_UNCERTAINTY\"]= readX( fid, endi+\"f\", wdOffset +292 )\n",
    "        d[\"TRIGGER_TIME\"]     = getTimeStamp( fid, endi, wdOffset +296 )\n",
    "        d[\"ACQ_DURATION\"]     = readX( fid, endi+\"f\", wdOffset +312 )\n",
    "        d[\"RECORD_TYPE\"]      = [\"single_sweep\",\"interleaved\",\"histogram\",\"graph\",\"filter_coefficient\",\"complex\",\"extrema\",\"sequence_obsolete\",\"centered_RIS\",\"peak_detect\"][ readX( fid, endi+\"H\", wdOffset +316 ) ]\n",
    "        d[\"PROCESSING_DONE\"]  = [\"no_processing\",\"fir_filter\",\"interpolated\",\"sparsed\",\"autoscaled\",\"no_result\",\"rolling\",\"cumulative\"][ readX( fid, endi+\"H\", wdOffset +318 ) ]\n",
    "        d[\"RIS_SWEEPS\"]       = readX( fid, endi+\"h\", wdOffset +322 )\n",
    "        d[\"TIMEBASE\"]         = ['1_ps/div', '2_ps/div', '5_ps/div', '10_ps/div', '20_ps/div', '50_ps/div', '100_ps/div', '200_ps/div', '500_ps/div', '1_ns/div', '2_ns/div', '5_ns/div', '10_ns/div', '20_ns/div', '50_ns/div', '100_ns/div', '200_ns/div', '500_ns/div', '1_us/div', '2_us/div', '5_us/div', '10_us/div', '20_us/div', '50_us/div', '100_us/div', '200_us/div', '500_us/div', '1_ms/div', '2_ms/div', '5_ms/div', '10_ms/div', '20_ms/div', '50_ms/div', '100_ms/div', '200_ms/div', '500_ms/div', '1_s/div', '2_s/div', '5_s/div', '10_s/div', '20_s/div', '50_s/div', '100_s/div', '200_s/div', '500_s/div', '1_ks/div', '2_ks/div', '5_ks/div', 'EXTERNAL'][ readX( fid, endi+\"H\", wdOffset +324 ) ]\n",
    "        d[\"VERT_COUPLING\"]    = ['DC_50_Ohms', 'ground', 'DC_1MOhm', 'ground', 'AC,_1MOhm'][ readX( fid, endi+\"H\", wdOffset +326 ) ]\n",
    "        d[\"PROBE_ATT\"]        = readX( fid, endi+\"f\", wdOffset +328 )\n",
    "        d[\"FIXED_VERT_GAIN\"]  = ['1_uV/div','2_uV/div','5_uV/div','10_uV/div','20_uV/div','50_uV/div','100_uV/div','200_uV/div','500_uV/div','1_mV/div','2_mV/div','5_mV/div','10_mV/div','20_mV/div','50_mV/div','100_mV/div','200_mV/div','500_mV/div','1_V/div','2_V/div','5_V/div','10_V/div','20_V/div','50_V/div','100_V/div','200_V/div','500_V/div','1_kV/div'][ readX( fid, endi+\"H\", wdOffset +332 ) ]\n",
    "        d[\"BANDWIDTH_LIMIT\"]  = ['off', 'on'][ readX( fid, endi+\"H\", wdOffset +334 ) ]\n",
    "        d[\"VERTICAL_VERNIER\"] = readX( fid, endi+\"f\", wdOffset +336 )\n",
    "        d[\"ACQ_VERT_OFFSET\"]  = readX( fid, endi+\"f\", wdOffset +340 )\n",
    "        d[\"WAVE_SOURCE\"]      = readX( fid, endi+\"H\", wdOffset +344 )\n",
    "        d[\"USER_TEXT\"]        = readX( fid, \"{0}s\".format(lUSER_TEXT), wdOffset + lWAVE_DESCRIPTOR ).decode().split('\\x00')[0]\n",
    "\n",
    "        #------------------------\n",
    "        # Get main sample data with the help of numpys .fromfile(\n",
    "        #------------------------\n",
    "        fid.seek( wdOffset + lWAVE_DESCRIPTOR + lUSER_TEXT + lTRIGTIME_ARRAY + lRIS_TIME_ARRAY ) #Seek to WAVE_ARRAY_1\n",
    "        y = np.fromfile( fid, smplFmt, lWAVE_ARRAY_1 )\n",
    "        if endi == \">\":\n",
    "            y.byteswap( True )\n",
    "        y = d[\"VERTICAL_GAIN\"] * y - d[\"VERTICAL_OFFSET\"]\n",
    "        x = np.arange(1,len(y)+1)*d[\"HORIZ_INTERVAL\"] + d[\"HORIZ_OFFSET\"]\n",
    "    return x, y, d\n",
    "\n",
    "def readX( fid, fmt, adr=None ):\n",
    "    \"\"\" extract a byte / word / float / double from the binary file \"\"\"\n",
    "    nBytes = struct.calcsize( fmt )\n",
    "    if adr is not None:\n",
    "        fid.seek( adr )\n",
    "    s = struct.unpack( fmt, fid.read( nBytes ) )\n",
    "    if(type(s) == tuple):\n",
    "        return s[0]\n",
    "    else:\n",
    "        return s\n",
    "\n",
    "def getTimeStamp( fid, endi, adr ):\n",
    "    \"\"\" extract a timestamp from the binary file \"\"\"\n",
    "    s = readX( fid, endi+\"d\", adr )\n",
    "    m = readX( fid, endi+\"b\" )\n",
    "    h = readX( fid, endi+\"b\" )\n",
    "    D = readX( fid, endi+\"b\" )\n",
    "    M = readX( fid, endi+\"b\" )\n",
    "    Y = readX( fid, endi+\"h\" )\n",
    "    trigTs = datetime.datetime(Y, M, D, h, m, int(s), int((s-int(s))*1e6) )\n",
    "    return trigTs"
   ]
  },
  {
   "cell_type": "code",
   "execution_count": 13,
   "metadata": {
    "collapsed": false
   },
   "outputs": [
    {
     "data": {
      "text/plain": [
       "['.DS_Store',\n",
       " '__pycache__',\n",
       " 'C1test00000.trc',\n",
       " 'C1testBauto00000.trc',\n",
       " 'C1testBbyte00000.trc',\n",
       " 'readTrc.py']"
      ]
     },
     "execution_count": 13,
     "metadata": {},
     "output_type": "execute_result"
    }
   ],
   "source": [
    "os.listdir()"
   ]
  },
  {
   "cell_type": "code",
   "execution_count": 39,
   "metadata": {
    "collapsed": false
   },
   "outputs": [
    {
     "name": "stdout",
     "output_type": "stream",
     "text": [
      "CPU times: user 10.7 ms, sys: 9.66 ms, total: 20.4 ms\n",
      "Wall time: 18.9 ms\n"
     ]
    }
   ],
   "source": [
    "%%time\n",
    "datX, datY, info = readTrc( \"C1testBauto00000.trc\" )\n"
   ]
  },
  {
   "cell_type": "code",
   "execution_count": 22,
   "metadata": {
    "collapsed": false
   },
   "outputs": [
    {
     "data": {
      "text/plain": [
       "[<matplotlib.lines.Line2D at 0x11902a9b0>]"
      ]
     },
     "execution_count": 22,
     "metadata": {},
     "output_type": "execute_result"
    },
    {
     "data": {
      "image/png": "[encoded data removed]",
      "text/plain": [
       "<matplotlib.figure.Figure at 0x117df3358>"
      ]
     },
     "metadata": {},
     "output_type": "display_data"
    }
   ],
   "source": [
    "plt.plot(datX,datY)"
   ]
  },
  {
   "cell_type": "code",
   "execution_count": 19,
   "metadata": {
    "collapsed": false
   },
   "outputs": [
    {
     "data": {
      "text/plain": [
       "{'ACQ_DURATION': 0.0,\n",
       " 'ACQ_VERT_OFFSET': -0.009999999776482582,\n",
       " 'BANDWIDTH_LIMIT': 'off',\n",
       " 'FIRST_POINT': 0,\n",
       " 'FIRST_VALID_PNT': 0,\n",
       " 'FIXED_VERT_GAIN': '200_mV/div',\n",
       " 'HORIZ_INTERVAL': 1.999999943436137e-09,\n",
       " 'HORIZ_OFFSET': -0.000752001327410189,\n",
       " 'HORIZ_UNCERTAINTY': 9.999999960041972e-13,\n",
       " 'HORUNIT': 'S',\n",
       " 'INSTRUMENT_NAME': 'LECROYWaveRunner',\n",
       " 'INSTRUMENT_NUMBER': 20594,\n",
       " 'LAST_VALID_PNT': 1000001,\n",
       " 'MAX_VALUE': 119.0,\n",
       " 'MIN_VALUE': -120.0,\n",
       " 'NOMINAL_BITS': 8,\n",
       " 'NOM_SUBARRAY_COUNT': 1,\n",
       " 'PAIR_OFFSET': 0,\n",
       " 'PIXEL_OFFSET': -0.000752,\n",
       " 'PNTS_PER_SCREEN': 1000000,\n",
       " 'POINTS_PER_PAIR': 0,\n",
       " 'PROBE_ATT': 1.0,\n",
       " 'PROCESSING_DONE': 'no_processing',\n",
       " 'RECORD_TYPE': 'single_sweep',\n",
       " 'RIS_SWEEPS': 1,\n",
       " 'SEGMENT_INDEX': 0,\n",
       " 'SPARSING_FACTOR': 1,\n",
       " 'SUBARRAY_COUNT': 1,\n",
       " 'SWEEPS_PER_ACQ': 1,\n",
       " 'TIMEBASE': '200_us/div',\n",
       " 'TRACE_LABEL': '',\n",
       " 'TRIGGER_TIME': datetime.datetime(2017, 1, 24, 20, 30, 12, 479055),\n",
       " 'USER_TEXT': '',\n",
       " 'VERTICAL_GAIN': 0.006641868967562914,\n",
       " 'VERTICAL_OFFSET': -0.009999999776482582,\n",
       " 'VERTICAL_VERNIER': 1.0,\n",
       " 'VERTUNIT': 'V',\n",
       " 'VERT_COUPLING': 'DC_1MOhm',\n",
       " 'WAVE_ARRAY_COUNT': 1000002,\n",
       " 'WAVE_SOURCE': 0}"
      ]
     },
     "execution_count": 19,
     "metadata": {},
     "output_type": "execute_result"
    }
   ],
   "source": [
    "info"
   ]
  },
  {
   "cell_type": "code",
   "execution_count": null,
   "metadata": {
    "collapsed": true
   },
   "outputs": [],
   "source": []
  }
 ],
 "metadata": {
  "kernelspec": {
   "display_name": "Python 3",
   "language": "python",
   "name": "python3"
  },
  "language_info": {
   "codemirror_mode": {
    "name": "ipython",
    "version": 3
   },
   "file_extension": ".py",
   "mimetype": "text/x-python",
   "name": "python",
   "nbconvert_exporter": "python",
   "pygments_lexer": "ipython3",
   "version": "3.5.2"
  }
 },
 "nbformat": 4,
 "nbformat_minor": 0
}
