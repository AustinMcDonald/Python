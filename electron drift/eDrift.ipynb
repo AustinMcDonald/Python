{
 "cells": [
  {
   "cell_type": "code",
   "execution_count": 59,
   "metadata": {
    "collapsed": true
   },
   "outputs": [],
   "source": [
    "import csv\n",
    "import numpy as np\n",
    "import matplotlib.pyplot as plt\n",
    "import matplotlib.cm as cm\n",
    "import os\n",
    "import glob\n",
    "import pandas as pd\n",
    "from scipy.optimize import curve_fit\n",
    "from scipy.signal import savgol_filter\n",
    "from scipy import integrate\n",
    "\n",
    "%matplotlib inline"
   ]
  },
  {
   "cell_type": "code",
   "execution_count": 2,
   "metadata": {
    "collapsed": false
   },
   "outputs": [
    {
     "name": "stdout",
     "output_type": "stream",
     "text": [
      "/Users/austinmcdonald/Desktop/data/eDrift/postive\n"
     ]
    }
   ],
   "source": [
    "cd /Users/austinmcdonald/Desktop/data/eDrift/postive"
   ]
  },
  {
   "cell_type": "code",
   "execution_count": 3,
   "metadata": {
    "collapsed": false
   },
   "outputs": [
    {
     "data": {
      "text/plain": [
       "['.DS_Store',\n",
       " 'tek0000ALL.csv',\n",
       " 'tek0001ALL.csv',\n",
       " 'tek0002ALL.csv',\n",
       " 'tek0003ALL.csv',\n",
       " 'tek0004ALL.csv']"
      ]
     },
     "execution_count": 3,
     "metadata": {},
     "output_type": "execute_result"
    }
   ],
   "source": [
    "os.listdir()"
   ]
  },
  {
   "cell_type": "code",
   "execution_count": 4,
   "metadata": {
    "collapsed": false
   },
   "outputs": [
    {
     "data": {
      "text/plain": [
       "['tek0000ALL.csv',\n",
       " 'tek0001ALL.csv',\n",
       " 'tek0002ALL.csv',\n",
       " 'tek0003ALL.csv',\n",
       " 'tek0004ALL.csv']"
      ]
     },
     "execution_count": 4,
     "metadata": {},
     "output_type": "execute_result"
    }
   ],
   "source": [
    "alldata = None\n",
    "alldata = []\n",
    "for files in glob.glob(\"*.csv\"):\n",
    "    alldata.append(files)\n",
    "alldata"
   ]
  },
  {
   "cell_type": "code",
   "execution_count": null,
   "metadata": {
    "collapsed": true
   },
   "outputs": [],
   "source": []
  },
  {
   "cell_type": "code",
   "execution_count": 31,
   "metadata": {
    "collapsed": false
   },
   "outputs": [
    {
     "name": "stdout",
     "output_type": "stream",
     "text": [
      "CPU times: user 7.45 s, sys: 878 ms, total: 8.33 s\n",
      "Wall time: 8.3 s\n"
     ]
    }
   ],
   "source": [
    "%%time\n",
    "FirstEtime = None\n",
    "PeakEtime  = None\n",
    "Area       = None\n",
    "FirstEtime = []\n",
    "PeakEtime  = []\n",
    "Area       = []\n",
    "data       = dict()\n",
    "time       = dict()\n",
    "volt       = dict()\n",
    "ch1        = dict()\n",
    "ch2        = dict()\n",
    "leng       = len(alldata)\n",
    "for x in range(0,leng):\n",
    "    data[x] = pd.read_csv(alldata[x],delimiter=\",\",names=['time','ch1','ch2'],skiprows=22,low_memory=False,engine='c')\n",
    "    ch1[x]  = \n",
    "    volt[x] = pd.to_numeric(data[x]['ch1'],errors='coerce') - pd.to_numeric(data[x]['ch2'],errors='coerce')\n",
    "    time[x] = data[x]['time']\n",
    "    \n",
    "    data[x]['volt'] = pd.to_numeric(data[x]['ch1'],errors='coerce') - pd.to_numeric(data[x]['ch2'],errors='coerce')\n",
    "    del data[x]['ch1']\n",
    "    del data[x]['ch2']\n",
    " \n",
    "    ArrivalCut = data[x][(data[x]['time']>6e-5) & (data[x]['time']<15e-5)] # Slice for the inital arrival\n",
    "    ArrivalCutS=ArrivalCut.rolling(center=False,window=300).mean()         # smooths the cut curve\n",
    "    init = ArrivalCutS['volt'].argmax()                                    #Finds the DF index for the max of the cut\n",
    "    inital = ArrivalCutS['time'][init]                      # this is the time posistion for the cut aka arrival \n",
    "    FirstEtime.append(inital)\n",
    "    \n",
    "    AreaCut = data[x][(data[x]['time']>inital)]                       # Cuts the time with inital arrival \n",
    "    AreaCutS=AreaCut.rolling(center=False,window=300).mean().dropna() # smooths the plot\n",
    "    peak = AreaCutS['volt'].argmin()\n",
    "    Peak = AreaCutS['time'][peak]\n",
    "    PeakEtime.append(Peak)\n",
    "    \n",
    "    area = integrate.trapz(AreaCutS['volt'], AreaCutS['time'])\n",
    "    Area.append(area)\n",
    "\n",
    "Volt=pd.DataFrame(volt)\n",
    "Time=pd.DataFrame(time)\n",
    "VoltSD=Volt.std(axis=1)\n",
    "TimeSD=Time.std(axis=1)\n",
    "VoltMean=Volt.mean(axis=1)\n",
    "TimeMean=Time.mean(axis=1)\n",
    "VoltSm=VoltMean.rolling(center=False,window=300).mean()\n",
    "TimeSm=TimeMean.rolling(center=False,window=300).mean()\n",
    "\n",
    "#Trace=pd.DataFrame({'Time Mean':TimeMean,'Time SD':TimeSD,'Volt Mean':VoltMean,'Volt SD':VoltSD,\n",
    "#                    'VoltSm':VoltSm,'TimeSm':TimeSm,'FirstEtime':FirstEtime,'PeakEtime':PeakEtime,\n",
    "#                    'Area':Area}, ignore_index=True)\n",
    "    \n",
    "    "
   ]
  },
  {
   "cell_type": "code",
   "execution_count": 16,
   "metadata": {
    "collapsed": false
   },
   "outputs": [],
   "source": [
    "Trace=pd.DataFrame({'Time Mean':TimeMean,'Time SD':TimeSD,'Volt Mean':VoltMean,'Volt SD':VoltSD,\n",
    "                    'VoltSm':VoltSm,'TimeSm':TimeSm})"
   ]
  },
  {
   "cell_type": "code",
   "execution_count": 32,
   "metadata": {
    "collapsed": false
   },
   "outputs": [
    {
     "data": {
      "text/plain": [
       "[-8.4497742986666502e-06,\n",
       " -7.0341122893331839e-06,\n",
       " -8.4832216519999735e-06,\n",
       " -6.8175355919999406e-06,\n",
       " -6.8808805600000629e-06]"
      ]
     },
     "execution_count": 32,
     "metadata": {},
     "output_type": "execute_result"
    }
   ],
   "source": [
    "Area"
   ]
  },
  {
   "cell_type": "code",
   "execution_count": 42,
   "metadata": {
    "collapsed": false
   },
   "outputs": [],
   "source": [
    "FirstEtime1=pd.DataFrame({'First time':FirstEtime})\n",
    "PeakEtime1 =pd.DataFrame({'Peak time':PeakEtime})\n",
    "Area1      =pd.DataFrame({'Area':Area})\n",
    "\n",
    "Trace2=pd.concat([Trace,FirstEtime1,PeakEtime1,Area1])\n"
   ]
  },
  {
   "cell_type": "code",
   "execution_count": 44,
   "metadata": {
    "collapsed": false
   },
   "outputs": [],
   "source": [
    "#Trace2.to_csv('testsave.csv')"
   ]
  },
  {
   "cell_type": "code",
   "execution_count": 6,
   "metadata": {
    "collapsed": false
   },
   "outputs": [
    {
     "data": {
      "text/plain": [
       "[-8.4497742986666502e-06,\n",
       " -7.0341122893331839e-06,\n",
       " -8.4832216519999735e-06,\n",
       " -6.8175355919999406e-06,\n",
       " -6.8808805600000629e-06]"
      ]
     },
     "execution_count": 6,
     "metadata": {},
     "output_type": "execute_result"
    }
   ],
   "source": [
    "Area"
   ]
  },
  {
   "cell_type": "code",
   "execution_count": 10,
   "metadata": {
    "collapsed": false
   },
   "outputs": [
    {
     "data": {
      "text/plain": [
       "[0.00026833700000000439,\n",
       " 0.00026033100000000443,\n",
       " 0.00027641700000000444,\n",
       " 0.0002633070000000044,\n",
       " 0.00019528700000000156]"
      ]
     },
     "execution_count": 10,
     "metadata": {},
     "output_type": "execute_result"
    }
   ],
   "source": [
    "PeakEtime"
   ]
  },
  {
   "cell_type": "code",
   "execution_count": 11,
   "metadata": {
    "collapsed": false
   },
   "outputs": [
    {
     "data": {
      "text/plain": [
       "[0.00011252500000000059,\n",
       " 0.0001098150000000006,\n",
       " 0.00011113100000000059,\n",
       " 0.00010930700000000061,\n",
       " 0.00011183300000000062]"
      ]
     },
     "execution_count": 11,
     "metadata": {},
     "output_type": "execute_result"
    }
   ],
   "source": [
    "FirstEtime"
   ]
  },
  {
   "cell_type": "code",
   "execution_count": 64,
   "metadata": {
    "collapsed": false
   },
   "outputs": [
    {
     "data": {
      "image/png": "[encoded data removed]",
      "text/plain": [
       "<matplotlib.figure.Figure at 0x11be2beb8>"
      ]
     },
     "metadata": {},
     "output_type": "display_data"
    }
   ],
   "source": [
    "plt.figure(figsize=(14,7))\n",
    "mili=1e-3\n",
    "\n",
    "plt.plot(Trace['Time Mean'],Trace['Volt Mean']/mili)\n",
    "plt.plot(Trace['TimeSm'],Trace['VoltSm']/mili ,color='r')\n",
    "\n",
    "#plt.xlim(-2e-4,1.8e-3)\n",
    "#plt.ylim(-2.2e-2,1e-2)\n",
    "plt.axhline(y=0, color='k',linewidth=3)\n",
    "#plt.axvline(x=0, color='k',linewidth=1)\n",
    "plt.tight_layout()\n",
    "plt.show()"
   ]
  },
  {
   "cell_type": "code",
   "execution_count": null,
   "metadata": {
    "collapsed": true
   },
   "outputs": [],
   "source": []
  },
  {
   "cell_type": "code",
   "execution_count": 69,
   "metadata": {
    "collapsed": false
   },
   "outputs": [
    {
     "name": "stdout",
     "output_type": "stream",
     "text": [
      "Mean Area = -1.1639244419707315e-06\n",
      "SD = 1.74474478547e-07\n"
     ]
    }
   ],
   "source": [
    "areas = []\n",
    "for x in range(0,leng):\n",
    "    areas.append(area[x])\n",
    "areas=np.array(areas)\n",
    "meanarea  = float(sum(areas))/len(areas)   \n",
    "SDarea  = np.std(areas)\n",
    "print('Mean Area =',meanarea)\n",
    "print('SD =',SDarea)"
   ]
  },
  {
   "cell_type": "code",
   "execution_count": 67,
   "metadata": {
    "collapsed": false
   },
   "outputs": [
    {
     "data": {
      "image/png": "[encoded data removed]",
      "text/plain": [
       "<matplotlib.figure.Figure at 0x119386588>"
      ]
     },
     "metadata": {},
     "output_type": "display_data"
    }
   ],
   "source": [
    "\n",
    "plt.hist(areas,11, color='r')\n",
    "\n",
    "plt.show()"
   ]
  },
  {
   "cell_type": "code",
   "execution_count": 7,
   "metadata": {
    "collapsed": false
   },
   "outputs": [
    {
     "data": {
      "image/png": "[encoded data removed]",
      "text/plain": [
       "<matplotlib.figure.Figure at 0x11d4f5198>"
      ]
     },
     "metadata": {},
     "output_type": "display_data"
    }
   ],
   "source": [
    "plt.figure(figsize=(7,7))\n",
    "\n",
    "plt.plot(dataf[0]['Time']*1e6,dataf[0]['CH1']*1e3,label= 'CH1',linewidth=2)\n",
    "plt.plot(dataf[0]['Time']*1e6,dataf[0]['CH2']*1e3,label= 'CH2',linewidth=2)\n",
    "\n",
    "plt.xlabel(r'Time / $\\mu$ s', fontsize=28)\n",
    "plt.ylabel('Voltage / m V', fontsize=28)\n",
    "#plt.title('Fluo-4 Calicum Induced Fluorescence', fontsize=32)\n",
    "plt.legend(loc='center right',fontsize=26,shadow=True, fancybox=True)\n",
    "#plt.xticks(fontsize = 26)\n",
    "#plt.yticks(fontsize = 26)\n",
    "#plt.xticks([450,475,500,525,550,575,600,625],ha='left')\n",
    "#plt.tick_params(top=\"off\",right='off')\n",
    "#plt.tick_params(axis='x', direction='out',width=2,length=5)\n",
    "##plt.tick_params(axis='y',width=2,length=5)\n",
    "\n",
    "plt.tight_layout()\n",
    "plt.xlim(-200,800)\n",
    "#plt.ylim(0,1.02)\n",
    "#plt.savefig('/Users/austinmcdonald/Desktop/Plots/paper8-16/Ar_Fluo4_ca_IF.pdf')\n",
    "plt.show()\n"
   ]
  },
  {
   "cell_type": "code",
   "execution_count": null,
   "metadata": {
    "collapsed": true
   },
   "outputs": [],
   "source": []
  }
 ],
 "metadata": {
  "kernelspec": {
   "display_name": "Python 3",
   "language": "python",
   "name": "python3"
  },
  "language_info": {
   "codemirror_mode": {
    "name": "ipython",
    "version": 3
   },
   "file_extension": ".py",
   "mimetype": "text/x-python",
   "name": "python",
   "nbconvert_exporter": "python",
   "pygments_lexer": "ipython3",
   "version": "3.5.2"
  }
 },
 "nbformat": 4,
 "nbformat_minor": 0
}
