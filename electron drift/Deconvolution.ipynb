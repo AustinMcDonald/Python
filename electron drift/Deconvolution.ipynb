{
 "cells": [
  {
   "cell_type": "code",
   "execution_count": 1,
   "metadata": {
    "collapsed": true
   },
   "outputs": [],
   "source": [
    "import numpy as np\n",
    "import matplotlib.pyplot as plt\n",
    "import matplotlib.cm as cm\n",
    "import os\n",
    "import glob\n",
    "import pandas as pd\n",
    "from scipy.optimize import curve_fit\n",
    "from scipy.signal import savgol_filter\n",
    "from scipy import integrate\n",
    "from scipy import signal\n",
    "from scipy.fftpack import fft, ifft\n",
    "%matplotlib inline"
   ]
  },
  {
   "cell_type": "code",
   "execution_count": null,
   "metadata": {
    "collapsed": true
   },
   "outputs": [],
   "source": []
  },
  {
   "cell_type": "code",
   "execution_count": null,
   "metadata": {
    "collapsed": true
   },
   "outputs": [],
   "source": []
  },
  {
   "cell_type": "code",
   "execution_count": 2,
   "metadata": {
    "collapsed": false
   },
   "outputs": [
    {
     "data": {
      "image/png": "[encoded data removed]",
      "text/plain": [
       "<matplotlib.figure.Figure at 0x1173d1940>"
      ]
     },
     "metadata": {},
     "output_type": "display_data"
    }
   ],
   "source": [
    "x = np.arange(0., 20.01, 0.01)\n",
    "y = np.zeros(len(x))\n",
    "y[900:1100] = 1.\n",
    "y += 0.01 * np.random.randn(len(y)) #adding noise\n",
    "c = np.exp(-(np.arange(len(y))) / 30)\n",
    "\n",
    "yc = signal.convolve(y, c, mode='full') / c.sum()\n",
    "ydc, remainder = signal.deconvolve(yc, c)\n",
    "ydc *= c.sum()\n",
    "\n",
    "fig, ax = plt.subplots(nrows=2, ncols=2, figsize=(8, 8))\n",
    "ax[0][0].plot(x, y, label=\"original y\", lw=3)\n",
    "ax[0][1].plot(x, c, label=\"c\", lw=3)\n",
    "ax[1][0].plot(x[0:2000], yc[0:2000], label=\"yc\", lw=3)\n",
    "ax[1][1].plot(x, ydc, label=\"recovered y\", lw=3)\n",
    "\n",
    "plt.show()"
   ]
  },
  {
   "cell_type": "code",
   "execution_count": null,
   "metadata": {
    "collapsed": true
   },
   "outputs": [],
   "source": []
  },
  {
   "cell_type": "code",
   "execution_count": 3,
   "metadata": {
    "collapsed": false
   },
   "outputs": [
    {
     "name": "stdout",
     "output_type": "stream",
     "text": [
      "/Users/austinmcdonald/Desktop/test data/Convolution data\n"
     ]
    }
   ],
   "source": [
    "cd /Users/austinmcdonald/Desktop/test data/Convolution data"
   ]
  },
  {
   "cell_type": "code",
   "execution_count": 4,
   "metadata": {
    "collapsed": false
   },
   "outputs": [
    {
     "data": {
      "text/plain": [
       "['F1Channel-1-input00000.csv',\n",
       " 'F1Channel-1-response00002.csv',\n",
       " 'F1Channel-2-response00000.csv',\n",
       " 'F1InputTwo00000.csv',\n",
       " 'F1InputTwoCH100000.csv',\n",
       " 'F1InputTwoCH200000.csv']"
      ]
     },
     "execution_count": 4,
     "metadata": {},
     "output_type": "execute_result"
    }
   ],
   "source": [
    "os.listdir()"
   ]
  },
  {
   "cell_type": "code",
   "execution_count": 5,
   "metadata": {
    "collapsed": true
   },
   "outputs": [],
   "source": [
    "colums=['1','2','3','x','y']"
   ]
  },
  {
   "cell_type": "code",
   "execution_count": 6,
   "metadata": {
    "collapsed": false
   },
   "outputs": [
    {
     "name": "stdout",
     "output_type": "stream",
     "text": [
      "CPU times: user 3.83 ms, sys: 1.51 ms, total: 5.34 ms\n",
      "Wall time: 4.99 ms\n"
     ]
    }
   ],
   "source": [
    "%%time\n",
    "orig = pd.read_csv('F1Channel-1-input00000.csv',delimiter=\",\",names=colums,skiprows=0,engine='c')\n"
   ]
  },
  {
   "cell_type": "code",
   "execution_count": 7,
   "metadata": {
    "collapsed": true
   },
   "outputs": [],
   "source": [
    "orig = pd.read_csv('F1Channel-1-input00000.csv',delimiter=\",\",names=colums,skiprows=0,engine='c')\n",
    "Ch1  = pd.read_csv('F1Channel-1-response00002.csv',delimiter=\",\",names=colums,skiprows=0,engine='c')\n",
    "Ch2  = pd.read_csv('F1Channel-2-response00000.csv',delimiter=\",\",names=colums,skiprows=0,engine='c')"
   ]
  },
  {
   "cell_type": "code",
   "execution_count": 8,
   "metadata": {
    "collapsed": false
   },
   "outputs": [],
   "source": [
    "orgf=fft(orig['y'])\n",
    "ch1f=fft(Ch1['y'])\n",
    "ch2f=fft(Ch2['y'])"
   ]
  },
  {
   "cell_type": "code",
   "execution_count": 17,
   "metadata": {
    "collapsed": true
   },
   "outputs": [],
   "source": [
    "tau=100e-12*1e6\n",
    "ex = np.exp(-(np.arange(len(Ch1))) / tau)\n"
   ]
  },
  {
   "cell_type": "code",
   "execution_count": null,
   "metadata": {
    "collapsed": false
   },
   "outputs": [],
   "source": []
  },
  {
   "cell_type": "code",
   "execution_count": null,
   "metadata": {
    "collapsed": true
   },
   "outputs": [],
   "source": []
  },
  {
   "cell_type": "code",
   "execution_count": 13,
   "metadata": {
    "collapsed": false
   },
   "outputs": [
    {
     "data": {
      "image/png": "[encoded data removed]",
      "text/plain": [
       "<matplotlib.figure.Figure at 0x109d45be0>"
      ]
     },
     "metadata": {},
     "output_type": "display_data"
    }
   ],
   "source": [
    "plt.figure(figsize=(6,6))\n",
    "m=1e6\n",
    "plt.plot(orig['x']*m,orig['y'])\n",
    "plt.plot(Ch1['x']*m,Ch1['y'])\n",
    "plt.plot(Ch2['x']*m,Ch2['y'])\n",
    "plt.xlim(-0.7,.02)\n",
    "plt.show()"
   ]
  },
  {
   "cell_type": "code",
   "execution_count": 10,
   "metadata": {
    "collapsed": true
   },
   "outputs": [],
   "source": [
    "x = np.arange(0., 20.01, 0.01)\n",
    "y = np.zeros(len(x))\n",
    "y[900:1100] = 1.\n",
    "y += 0.01 * np.random.randn(len(y)) #adding noise\n",
    "c = np.exp(-(np.arange(len(y))) / 30)\n",
    "\n",
    "yc = signal.convolve(y, c, mode='full') / c.sum()\n",
    "ydc, remainder = signal.deconvolve(yc, c)\n",
    "ydc *= c.sum()"
   ]
  },
  {
   "cell_type": "code",
   "execution_count": 20,
   "metadata": {
    "collapsed": false
   },
   "outputs": [
    {
     "data": {
      "text/plain": [
       "array([ 15.25138886])"
      ]
     },
     "execution_count": 20,
     "metadata": {},
     "output_type": "execute_result"
    }
   ],
   "source": [
    "ydc"
   ]
  },
  {
   "cell_type": "code",
   "execution_count": null,
   "metadata": {
    "collapsed": true
   },
   "outputs": [],
   "source": []
  },
  {
   "cell_type": "code",
   "execution_count": null,
   "metadata": {
    "collapsed": true
   },
   "outputs": [],
   "source": []
  }
 ],
 "metadata": {
  "kernelspec": {
   "display_name": "Python 3",
   "language": "python",
   "name": "python3"
  },
  "language_info": {
   "codemirror_mode": {
    "name": "ipython",
    "version": 3
   },
   "file_extension": ".py",
   "mimetype": "text/x-python",
   "name": "python",
   "nbconvert_exporter": "python",
   "pygments_lexer": "ipython3",
   "version": "3.5.2"
  }
 },
 "nbformat": 4,
 "nbformat_minor": 0
}
