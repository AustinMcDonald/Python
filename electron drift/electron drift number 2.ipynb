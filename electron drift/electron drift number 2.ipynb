{
 "cells": [
  {
   "cell_type": "code",
   "execution_count": 1,
   "metadata": {
    "collapsed": true
   },
   "outputs": [],
   "source": [
    "import csv\n",
    "import numpy as np\n",
    "import matplotlib.pyplot as plt\n",
    "import matplotlib.cm as cm\n",
    "import os\n",
    "import glob\n",
    "import pandas as pd\n",
    "from scipy.optimize import curve_fit\n",
    "from scipy.signal import savgol_filter\n",
    "from scipy import integrate\n",
    "\n",
    "%matplotlib inline\n"
   ]
  },
  {
   "cell_type": "code",
   "execution_count": 2,
   "metadata": {
    "collapsed": false
   },
   "outputs": [
    {
     "name": "stdout",
     "output_type": "stream",
     "text": [
      "/Users/austinmcdonald/Desktop/data/electron drift\n"
     ]
    }
   ],
   "source": [
    "cd /Users/austinmcdonald/Desktop/data/electron drift"
   ]
  },
  {
   "cell_type": "code",
   "execution_count": 3,
   "metadata": {
    "collapsed": false
   },
   "outputs": [],
   "source": [
    "alldata = None\n",
    "alldata = []\n",
    "for files in glob.glob(\"*.csv\"):\n",
    "    alldata.append(files)\n",
    "#alldata"
   ]
  },
  {
   "cell_type": "code",
   "execution_count": 4,
   "metadata": {
    "collapsed": false
   },
   "outputs": [],
   "source": [
    "data = dict()\n",
    "area= dict()\n",
    "area1hold = dict()\n",
    "area2hold = dict()\n",
    "\n",
    "adata = dict()\n",
    "intensity = dict()\n",
    "leng = len(alldata)\n",
    "for x in range(0,leng):\n",
    "    data[x] = pd.read_csv(alldata[x],delimiter=\",\",names = ['1','2','3','time','voltage'],skiprows=0,skipfooter=0,engine='python')\n",
    "   \n",
    "    adata[x] = data[x][(data[x]['time']>5e-5) ]\n",
    "    \n",
    "\n",
    "    area[x] = integrate.trapz(adata[x]['voltage'], adata[x]['time'])\n",
    "\n",
    "\n",
    "    #data[x]['dif'] = data[x]['sig'].diff().abs()\n",
    "    #data[x]['BS'] = (data[x]['sig']-backg['sig'])\n",
    "    #dataf[x] = data[x][data[x]['dif']<.02]\n",
    "    #datacut[x] = dataf[x][(dataf[x]['wave']>490) & (dataf[x]['wave']<700)]"
   ]
  },
  {
   "cell_type": "code",
   "execution_count": 79,
   "metadata": {
    "collapsed": false
   },
   "outputs": [],
   "source": [
    "tst = [data[0]['voltage'],data[1]['voltage'],data[2]['voltage']]\n",
    "test= pd.concat(tst,axis=1)\n",
    "#test.std(axis=1)\n",
    "#test.mean(axis=1)\n",
    "#"
   ]
  },
  {
   "cell_type": "code",
   "execution_count": null,
   "metadata": {
    "collapsed": true
   },
   "outputs": [],
   "source": []
  },
  {
   "cell_type": "code",
   "execution_count": null,
   "metadata": {
    "collapsed": true
   },
   "outputs": [],
   "source": []
  },
  {
   "cell_type": "code",
   "execution_count": null,
   "metadata": {
    "collapsed": true
   },
   "outputs": [],
   "source": []
  },
  {
   "cell_type": "code",
   "execution_count": null,
   "metadata": {
    "collapsed": true
   },
   "outputs": [],
   "source": [
    "plt.plot(adata[0]['time'],adata[0]['voltage'].rolling(center=False,window=300).mean())\n",
    "plt.xlim(-1e-4,5e-4)\n",
    "plt.ylim(-.02,.02)\n",
    "plt.axvline(0.000159, color='g', linestyle='-')\n",
    "\n",
    "plt.show()\n",
    "\n",
    "adata[0]['voltage'].idxmin()\n",
    "adata[0]['time'].loc[[85340]]"
   ]
  },
  {
   "cell_type": "code",
   "execution_count": 69,
   "metadata": {
    "collapsed": false
   },
   "outputs": [
    {
     "name": "stdout",
     "output_type": "stream",
     "text": [
      "Mean Area = -1.1639244419707315e-06\n",
      "SD = 1.74474478547e-07\n"
     ]
    }
   ],
   "source": [
    "areas = []\n",
    "for x in range(0,leng):\n",
    "    areas.append(area[x])\n",
    "areas=np.array(areas)\n",
    "meanarea  = float(sum(areas))/len(areas)   \n",
    "SDarea  = np.std(areas)\n",
    "print('Mean Area =',meanarea)\n",
    "print('SD =',SDarea)"
   ]
  },
  {
   "cell_type": "code",
   "execution_count": 51,
   "metadata": {
    "collapsed": false
   },
   "outputs": [
    {
     "data": {
      "text/plain": [
       "array([ -1.06104746e-06,  -8.45309532e-07,  -8.23159981e-07,\n",
       "        -1.02074493e-06,  -1.01224003e-06,  -1.23659320e-06,\n",
       "        -1.03184697e-06,  -1.19871975e-06,  -9.71752902e-07,\n",
       "        -9.89686648e-07,  -1.14969079e-06,  -1.05946847e-06,\n",
       "        -9.77230093e-07,  -1.04922887e-06,  -9.83713053e-07,\n",
       "        -1.14164345e-06,  -1.02304145e-06,  -1.17746282e-06,\n",
       "        -1.02881341e-06,  -1.14702104e-06,  -1.12522725e-06,\n",
       "        -1.05093900e-06,  -1.02138081e-06,  -3.78197755e-07,\n",
       "        -8.38806105e-07,  -8.37588199e-07,  -1.24964371e-06,\n",
       "        -1.02486696e-06,  -1.25694369e-06,  -1.25154154e-06,\n",
       "        -1.25736484e-06,  -1.29304669e-06,  -1.05527328e-06,\n",
       "        -9.65586959e-07,  -9.76578168e-07,  -1.02392611e-06,\n",
       "        -1.07409237e-06,  -1.07140746e-06,  -1.10339119e-06,\n",
       "        -1.11094995e-06,  -1.16315206e-06,  -1.30641426e-06,\n",
       "        -1.24196728e-06,  -1.09865784e-06,  -1.17360433e-06,\n",
       "        -1.40353133e-06,  -1.27373343e-06,  -1.26434316e-06,\n",
       "        -1.29237601e-06,  -1.10561640e-06,  -1.13820066e-06,\n",
       "        -1.24795351e-06,  -1.12185661e-06,  -1.23842874e-06,\n",
       "        -1.31455055e-06,  -1.21934501e-06,  -1.15657161e-06,\n",
       "        -1.26597168e-06,  -1.30154181e-06,  -1.49370241e-06,\n",
       "        -1.39600643e-06,  -1.12436314e-06,  -1.29285989e-06,\n",
       "        -1.19452235e-06,  -1.11993628e-06,  -1.16822982e-06,\n",
       "        -8.67229865e-07,  -1.41658485e-06,  -1.25499252e-06,\n",
       "        -1.29730763e-06,  -1.21255645e-06,  -1.42013028e-06,\n",
       "        -1.37599531e-06,  -1.42800870e-06,  -1.29912643e-06,\n",
       "        -1.04197463e-06,  -1.12368303e-06,  -1.24313028e-06,\n",
       "        -1.34838593e-06,  -9.60925222e-07,  -1.34661972e-06,\n",
       "        -1.30608576e-06,  -1.39316718e-06,  -1.29557701e-06,\n",
       "        -1.07868755e-06,  -1.36208375e-06,  -1.40537421e-06,\n",
       "        -1.29034796e-06,  -1.37126319e-06,  -1.42054476e-06,\n",
       "        -1.06897966e-06,  -1.34507728e-06,  -1.32140583e-06,\n",
       "        -8.54555771e-07,  -1.29624218e-06,  -1.22063646e-06,\n",
       "        -1.34151291e-06,  -9.97636098e-07,  -1.21008785e-06])"
      ]
     },
     "execution_count": 51,
     "metadata": {},
     "output_type": "execute_result"
    }
   ],
   "source": [
    "meanarea  = float(sum(areas))/len(areas)   \n",
    "SDarea  = np.std(areas)"
   ]
  },
  {
   "cell_type": "code",
   "execution_count": 67,
   "metadata": {
    "collapsed": false
   },
   "outputs": [
    {
     "data": {
      "image/png": "[encoded data removed]",
      "text/plain": [
       "<matplotlib.figure.Figure at 0x119386588>"
      ]
     },
     "metadata": {},
     "output_type": "display_data"
    }
   ],
   "source": [
    "\n",
    "plt.hist(areas,11, color='r')\n",
    "\n",
    "plt.show()"
   ]
  },
  {
   "cell_type": "code",
   "execution_count": 7,
   "metadata": {
    "collapsed": false
   },
   "outputs": [
    {
     "data": {
      "image/png": "[encoded data removed]",
      "text/plain": [
       "<matplotlib.figure.Figure at 0x11d4f5198>"
      ]
     },
     "metadata": {},
     "output_type": "display_data"
    }
   ],
   "source": [
    "plt.figure(figsize=(7,7))\n",
    "\n",
    "plt.plot(dataf[0]['Time']*1e6,dataf[0]['CH1']*1e3,label= 'CH1',linewidth=2)\n",
    "plt.plot(dataf[0]['Time']*1e6,dataf[0]['CH2']*1e3,label= 'CH2',linewidth=2)\n",
    "\n",
    "plt.xlabel(r'Time / $\\mu$ s', fontsize=28)\n",
    "plt.ylabel('Voltage / m V', fontsize=28)\n",
    "#plt.title('Fluo-4 Calicum Induced Fluorescence', fontsize=32)\n",
    "plt.legend(loc='center right',fontsize=26,shadow=True, fancybox=True)\n",
    "#plt.xticks(fontsize = 26)\n",
    "#plt.yticks(fontsize = 26)\n",
    "#plt.xticks([450,475,500,525,550,575,600,625],ha='left')\n",
    "#plt.tick_params(top=\"off\",right='off')\n",
    "#plt.tick_params(axis='x', direction='out',width=2,length=5)\n",
    "##plt.tick_params(axis='y',width=2,length=5)\n",
    "\n",
    "plt.tight_layout()\n",
    "plt.xlim(-200,800)\n",
    "#plt.ylim(0,1.02)\n",
    "#plt.savefig('/Users/austinmcdonald/Desktop/Plots/paper8-16/Ar_Fluo4_ca_IF.pdf')\n",
    "plt.show()\n"
   ]
  },
  {
   "cell_type": "code",
   "execution_count": null,
   "metadata": {
    "collapsed": true
   },
   "outputs": [],
   "source": []
  }
 ],
 "metadata": {
  "kernelspec": {
   "display_name": "Python 3",
   "language": "python",
   "name": "python3"
  },
  "language_info": {
   "codemirror_mode": {
    "name": "ipython",
    "version": 3
   },
   "file_extension": ".py",
   "mimetype": "text/x-python",
   "name": "python",
   "nbconvert_exporter": "python",
   "pygments_lexer": "ipython3",
   "version": "3.5.2"
  }
 },
 "nbformat": 4,
 "nbformat_minor": 0
}
