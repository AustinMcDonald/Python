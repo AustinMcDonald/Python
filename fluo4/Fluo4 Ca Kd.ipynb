{
 "cells": [
  {
   "cell_type": "code",
   "execution_count": 1,
   "metadata": {
    "collapsed": true
   },
   "outputs": [],
   "source": [
    "import csv\n",
    "import numpy as np\n",
    "import matplotlib.pyplot as plt\n",
    "import matplotlib.mlab as mlab\n",
    "import os\n",
    "import glob\n",
    "import pandas as pd\n",
    "from scipy.optimize import curve_fit\n",
    "from scipy.signal import savgol_filter\n",
    "from scipy import integrate\n",
    "\n",
    "%matplotlib inline\n"
   ]
  },
  {
   "cell_type": "code",
   "execution_count": 2,
   "metadata": {
    "collapsed": false
   },
   "outputs": [
    {
     "name": "stdout",
     "output_type": "stream",
     "text": [
      "/Users/austinmcdonald/Desktop/data/Fluo4/8-12-16/Ar Fluo4-Ca_Kd\n"
     ]
    }
   ],
   "source": [
    "cd /Users/austinmcdonald/Desktop/data/Fluo4/8-12-16/Ar Fluo4-Ca_Kd"
   ]
  },
  {
   "cell_type": "code",
   "execution_count": 3,
   "metadata": {
    "collapsed": false
   },
   "outputs": [
    {
     "data": {
      "text/plain": [
       "['Ca00.csv',\n",
       " 'Ca01.csv',\n",
       " 'Ca02.csv',\n",
       " 'Ca03.csv',\n",
       " 'Ca04.csv',\n",
       " 'Ca05.csv',\n",
       " 'Ca06.csv',\n",
       " 'Ca07.csv',\n",
       " 'Ca08.csv',\n",
       " 'Ca09.csv',\n",
       " 'Ca10.csv',\n",
       " 'Ca11.csv',\n",
       " 'Ca12.csv',\n",
       " 'Ca13.csv',\n",
       " 'Ca14.csv',\n",
       " 'Ca15.csv',\n",
       " 'Ca16.csv',\n",
       " 'Ca17.csv',\n",
       " 'Ca18.csv',\n",
       " 'Ca19.csv']"
      ]
     },
     "execution_count": 3,
     "metadata": {},
     "output_type": "execute_result"
    }
   ],
   "source": [
    "datass = None\n",
    "datass = []\n",
    "for files in glob.glob(\"*.csv\"):\n",
    "    datass.append(files)\n",
    "datass.pop()\n",
    "datass"
   ]
  },
  {
   "cell_type": "code",
   "execution_count": 4,
   "metadata": {
    "collapsed": false
   },
   "outputs": [
    {
     "data": {
      "text/plain": [
       "'Ca01.csv'"
      ]
     },
     "execution_count": 4,
     "metadata": {},
     "output_type": "execute_result"
    }
   ],
   "source": [
    "datass[1]"
   ]
  },
  {
   "cell_type": "code",
   "execution_count": 5,
   "metadata": {
    "collapsed": false
   },
   "outputs": [],
   "source": [
    "data = dict()\n",
    "dataf= dict()\n",
    "datacut = dict()\n",
    "intensity = dict()\n",
    "leng = len(datass)\n",
    "backg = pd.read_csv('CCD-noise.csv',delimiter=\",\",names = ['wave','sig'],skiprows=33,skipfooter=1,engine='python')\n",
    "    \n",
    "for x in range(0,leng):\n",
    "    data[x] = pd.read_csv(datass[x],delimiter=\",\",names = ['wave','sig'],skiprows=33,skipfooter=1,engine='python')\n",
    "    data[x]['dif'] = data[x]['sig'].diff().abs()\n",
    "    data[x]['BS'] = data[x]['sig']-backg['sig']\n",
    "    dataf[x] = data[x][data[x]['dif']<.1]\n",
    "    datacut[x] = dataf[x][(dataf[x]['wave']>490) & (dataf[x]['wave']<700)]\n",
    "    intensity[x] = integrate.trapz(datacut[x]['BS'], datacut[x]['wave'])\n",
    "\n"
   ]
  },
  {
   "cell_type": "code",
   "execution_count": 6,
   "metadata": {
    "collapsed": false
   },
   "outputs": [
    {
     "data": {
      "text/plain": [
       "61.487737022020276"
      ]
     },
     "execution_count": 6,
     "metadata": {},
     "output_type": "execute_result"
    }
   ],
   "source": [
    "intensity[16]/intensity[0]"
   ]
  },
  {
   "cell_type": "code",
   "execution_count": 7,
   "metadata": {
    "collapsed": false
   },
   "outputs": [
    {
     "data": {
      "text/plain": [
       "[<matplotlib.lines.Line2D at 0x1175d3320>]"
      ]
     },
     "execution_count": 7,
     "metadata": {},
     "output_type": "execute_result"
    },
    {
     "data": {
      "image/png": "[encoded data removed]",
      "text/plain": [
       "<matplotlib.figure.Figure at 0x1173e73c8>"
      ]
     },
     "metadata": {},
     "output_type": "display_data"
    }
   ],
   "source": [
    "plt.plot(dataf[19]['wave'],dataf[19]['sig'])\n",
    "plt.plot(dataf[0]['wave'],dataf[0]['sig'])"
   ]
  },
  {
   "cell_type": "code",
   "execution_count": 8,
   "metadata": {
    "collapsed": false
   },
   "outputs": [
    {
     "data": {
      "text/plain": [
       "array([  0.00000000e+00,   2.64172609e-02,   1.87250642e-02,\n",
       "         5.76282303e-02,   9.34488101e-02,   1.50937201e-01,\n",
       "         2.27793941e-01,   2.70485460e-01,   3.75022737e-01,\n",
       "         5.82715954e-01,   9.05479515e-01,   1.01042268e+00,\n",
       "         1.35563970e+00,   2.08000131e+00,   8.35660409e+00,\n",
       "         3.83088229e+01,              inf,   6.82662029e+01,\n",
       "         7.39948042e+01,   3.56336067e+01])"
      ]
     },
     "execution_count": 8,
     "metadata": {},
     "output_type": "execute_result"
    }
   ],
   "source": [
    "inte = []\n",
    "for a in range(0,20):\n",
    "    inte.append(intensity[a])\n",
    "inte\n",
    "Fmax=max(inte)\n",
    "Fmin=min(inte)\n",
    "Fs = (inte-Fmin)/(Fmax-inte)\n",
    "Fs"
   ]
  },
  {
   "cell_type": "code",
   "execution_count": 9,
   "metadata": {
    "collapsed": false
   },
   "outputs": [
    {
     "data": {
      "text/plain": [
       "[0.45687681690206094,\n",
       " 1.1681399462940227,\n",
       " 0.96484063980539092,\n",
       " 1.9626817201232676,\n",
       " 2.8186695280792247,\n",
       " 4.0810681935201814,\n",
       " 5.5841108409223859,\n",
       " 6.3404435420995675,\n",
       " 7.9941486412706304,\n",
       " 10.631548095590457,\n",
       " 13.589177066334804,\n",
       " 14.346234757541826,\n",
       " 16.360712216212047,\n",
       " 19.119778401532599,\n",
       " 25.138745197441438,\n",
       " 27.389287422521527,\n",
       " 28.092321569131631,\n",
       " 27.693347125628787,\n",
       " 27.723823443777619,\n",
       " 27.33794745175916]"
      ]
     },
     "execution_count": 9,
     "metadata": {},
     "output_type": "execute_result"
    }
   ],
   "source": [
    "inte"
   ]
  },
  {
   "cell_type": "code",
   "execution_count": 10,
   "metadata": {
    "collapsed": false
   },
   "outputs": [
    {
     "data": {
      "text/plain": [
       "[0, 1, 2, 3, 4, 5, 6, 7, 8, 9, 10, 11, 12, 13, 14, 15, 16, 17, 18, 19]"
      ]
     },
     "execution_count": 10,
     "metadata": {},
     "output_type": "execute_result"
    }
   ],
   "source": [
    "xes = list(range(20))\n",
    "xes"
   ]
  },
  {
   "cell_type": "code",
   "execution_count": 11,
   "metadata": {
    "collapsed": false
   },
   "outputs": [
    {
     "data": {
      "text/plain": [
       "array([  2.02      ,   4.03195219,   6.03592045,   8.03196788,\n",
       "        10.02015685,  12.00054901,  13.97320526,  15.9381858 ,\n",
       "        17.89555015,  19.84535709,  21.78766479,  23.72253069,\n",
       "        25.6500116 ,  27.57016369,  29.48304248,  31.38870286,\n",
       "        33.2871991 ,  35.17858487,  37.06291323,  38.94023665])"
      ]
     },
     "execution_count": 11,
     "metadata": {},
     "output_type": "execute_result"
    }
   ],
   "source": [
    "xes = list(range(20))\n",
    "\n",
    "cacon = []\n",
    "for f in range(len(xes)):\n",
    "    cacon.append((505e-6)*(2e-6)/(500e-6+(2e-6*xes[f])))\n",
    "finalcon=np.cumsum(cacon)/1e-6\n",
    "finalcon"
   ]
  },
  {
   "cell_type": "code",
   "execution_count": 12,
   "metadata": {
    "collapsed": false,
    "scrolled": false
   },
   "outputs": [
    {
     "data": {
      "image/png": "[encoded data removed]",
      "text/plain": [
       "<matplotlib.figure.Figure at 0x117516b00>"
      ]
     },
     "metadata": {},
     "output_type": "display_data"
    }
   ],
   "source": [
    "plt.figure(figsize=(8,8))\n",
    "plt.plot(finalcon,Fs,'ro')\n",
    "plt.xlabel(r'Total Ammount of $Ca^{++}$ in $\\mu M$', fontsize=32)\n",
    "plt.ylabel('Signal Intensity', fontsize=32)\n",
    "plt.title('Fluo-4 Calucum', fontsize=32)\n",
    "plt.tick_params(labelsize=20)\n",
    "#plt.savefig('/Users/austinmcdonald/Desktop/Plots/Fluo4/Fluo4 Cakd.pdf')\n",
    "\n",
    "plt.show()"
   ]
  },
  {
   "cell_type": "code",
   "execution_count": 13,
   "metadata": {
    "collapsed": false
   },
   "outputs": [
    {
     "data": {
      "image/png": "[encoded data removed]",
      "text/plain": [
       "<matplotlib.figure.Figure at 0x11a80b5c0>"
      ]
     },
     "metadata": {},
     "output_type": "display_data"
    }
   ],
   "source": [
    "plt.figure(figsize=(8,8))\n",
    "plt.loglog(finalcon,Fs,'ro')\n",
    "#plt.ylim(0,5)\n",
    "plt.show()"
   ]
  },
  {
   "cell_type": "code",
   "execution_count": 14,
   "metadata": {
    "collapsed": false
   },
   "outputs": [
    {
     "data": {
      "text/plain": [
       "inf"
      ]
     },
     "execution_count": 14,
     "metadata": {},
     "output_type": "execute_result"
    }
   ],
   "source": [
    "Fs[16]"
   ]
  },
  {
   "cell_type": "code",
   "execution_count": 15,
   "metadata": {
    "collapsed": false
   },
   "outputs": [
    {
     "data": {
      "text/plain": [
       "21.574949233829248"
      ]
     },
     "execution_count": 15,
     "metadata": {},
     "output_type": "execute_result"
    }
   ],
   "source": [
    "ys =np.log(np.delete(Fs,[0,16]))\n",
    "xs =np.log(np.delete(finalcon,[0,16]))\n",
    "fit = np.polyfit(xs,ys,1)\n",
    "fun = np.poly1d(fit)\n",
    "kd = np.exp(fun[0])/1e-6\n",
    "kd"
   ]
  },
  {
   "cell_type": "code",
   "execution_count": 16,
   "metadata": {
    "collapsed": false
   },
   "outputs": [
    {
     "data": {
      "text/plain": [
       "[<matplotlib.lines.Line2D at 0x11a9b3fd0>]"
      ]
     },
     "execution_count": 16,
     "metadata": {},
     "output_type": "execute_result"
    },
    {
     "data": {
      "image/png": "[encoded data removed]",
      "text/plain": [
       "<matplotlib.figure.Figure at 0x11a9b7080>"
      ]
     },
     "metadata": {},
     "output_type": "display_data"
    }
   ],
   "source": [
    "xvals = np.linspace(1.0, 5.0, num=500, endpoint=True)\n",
    "plt.plot(xvals,(fun[1]*xvals+fun[0]))\n",
    "plt.plot(np.log(finalcon),np.log(Fs),'ro')"
   ]
  },
  {
   "cell_type": "code",
   "execution_count": 48,
   "metadata": {
    "collapsed": false
   },
   "outputs": [
    {
     "data": {
      "text/plain": [
       "array([  2.02      ,   4.03195219,   6.03592045,   8.03196788,\n",
       "        10.02015685,  12.00054901,  13.97320526,  15.9381858 ,\n",
       "        17.89555015,  19.84535709,  21.78766479,  23.72253069,\n",
       "        25.6500116 ,  27.57016369,  29.48304248,  31.38870286,\n",
       "        33.2871991 ,  35.17858487,  37.06291323,  38.94023665])"
      ]
     },
     "execution_count": 48,
     "metadata": {},
     "output_type": "execute_result"
    }
   ],
   "source": [
    "finalcon"
   ]
  },
  {
   "cell_type": "code",
   "execution_count": 29,
   "metadata": {
    "collapsed": false
   },
   "outputs": [
    {
     "data": {
      "text/plain": [
       "20"
      ]
     },
     "execution_count": 29,
     "metadata": {},
     "output_type": "execute_result"
    }
   ],
   "source": [
    "len(Fs)"
   ]
  },
  {
   "cell_type": "code",
   "execution_count": 28,
   "metadata": {
    "collapsed": false
   },
   "outputs": [
    {
     "data": {
      "text/plain": [
       "array([  0.00000000e+00,   2.64172609e-02,   1.87250642e-02,\n",
       "         5.76282303e-02,   9.34488101e-02,   1.50937201e-01,\n",
       "         2.27793941e-01,   2.70485460e-01,   3.75022737e-01,\n",
       "         5.82715954e-01,   9.05479515e-01,   1.01042268e+00,\n",
       "         1.35563970e+00,   2.08000131e+00,   8.35660409e+00,\n",
       "         3.83088229e+01,              inf,   6.82662029e+01,\n",
       "         7.39948042e+01,   3.56336067e+01])"
      ]
     },
     "execution_count": 28,
     "metadata": {},
     "output_type": "execute_result"
    }
   ],
   "source": [
    "Fs"
   ]
  },
  {
   "cell_type": "code",
   "execution_count": 51,
   "metadata": {
    "collapsed": false
   },
   "outputs": [],
   "source": [
    "Fs2 = np.delete(Fs,16)\n",
    "Fcon2 = np.delete(finalcon,16)\n",
    "#print(Fs2)"
   ]
  },
  {
   "cell_type": "code",
   "execution_count": null,
   "metadata": {
    "collapsed": true
   },
   "outputs": [],
   "source": []
  },
  {
   "cell_type": "code",
   "execution_count": null,
   "metadata": {
    "collapsed": true
   },
   "outputs": [],
   "source": []
  },
  {
   "cell_type": "code",
   "execution_count": 60,
   "metadata": {
    "collapsed": false
   },
   "outputs": [
    {
     "data": {
      "image/png": "[encoded data removed]",
      "text/plain": [
       "<matplotlib.figure.Figure at 0x11bfc2c88>"
      ]
     },
     "metadata": {},
     "output_type": "display_data"
    }
   ],
   "source": [
    "a =14\n",
    "b =18\n",
    "plt.figure(figsize=(8,8))\n",
    "plt.plot(Fcon2[a:b],Fs2[a:b],'ro')\n",
    "#plt.ylim(0,5)\n",
    "plt.show()"
   ]
  },
  {
   "cell_type": "code",
   "execution_count": 78,
   "metadata": {
    "collapsed": false
   },
   "outputs": [
    {
     "data": {
      "text/plain": [
       "0.33592680982846301"
      ]
     },
     "execution_count": 78,
     "metadata": {},
     "output_type": "execute_result"
    }
   ],
   "source": [
    "ys  = np.log(Fs2[14:18])\n",
    "xs  = np.log(Fcon2[1:5])\n",
    "fit = np.polyfit(xs,ys,1)\n",
    "fun = np.poly1d(fit)\n",
    "kd  = np.exp(fun[0])\n",
    "kd"
   ]
  },
  {
   "cell_type": "code",
   "execution_count": 80,
   "metadata": {
    "collapsed": false
   },
   "outputs": [
    {
     "data": {
      "text/plain": [
       "(0, 2)"
      ]
     },
     "execution_count": 80,
     "metadata": {},
     "output_type": "execute_result"
    },
    {
     "data": {
      "image/png": "[encoded data removed]",
      "text/plain": [
       "<matplotlib.figure.Figure at 0x11cba6c18>"
      ]
     },
     "metadata": {},
     "output_type": "display_data"
    }
   ],
   "source": [
    "xvals = np.linspace(-1.0, 5.0, num=500, endpoint=True)\n",
    "plt.plot(xvals,(fun[1]*xvals+fun[0]))\n",
    "plt.plot(np.log(xs),np.log(ys),'ro')\n",
    "plt.xlim(0,1)\n",
    "plt.ylim(0,2)"
   ]
  },
  {
   "cell_type": "code",
   "execution_count": 73,
   "metadata": {
    "collapsed": false
   },
   "outputs": [
    {
     "data": {
      "text/plain": [
       "array([ 1.39425067,  1.79772836])"
      ]
     },
     "execution_count": 73,
     "metadata": {},
     "output_type": "execute_result"
    }
   ],
   "source": [
    "xs"
   ]
  },
  {
   "cell_type": "code",
   "execution_count": 74,
   "metadata": {
    "collapsed": false
   },
   "outputs": [
    {
     "data": {
      "text/plain": [
       "array([ 2.12305213,  3.64568023])"
      ]
     },
     "execution_count": 74,
     "metadata": {},
     "output_type": "execute_result"
    }
   ],
   "source": [
    "ys"
   ]
  },
  {
   "cell_type": "code",
   "execution_count": null,
   "metadata": {
    "collapsed": true
   },
   "outputs": [],
   "source": []
  }
 ],
 "metadata": {
  "kernelspec": {
   "display_name": "Python 3",
   "language": "python",
   "name": "python3"
  },
  "language_info": {
   "codemirror_mode": {
    "name": "ipython",
    "version": 3
   },
   "file_extension": ".py",
   "mimetype": "text/x-python",
   "name": "python",
   "nbconvert_exporter": "python",
   "pygments_lexer": "ipython3",
   "version": "3.5.2"
  }
 },
 "nbformat": 4,
 "nbformat_minor": 0
}
