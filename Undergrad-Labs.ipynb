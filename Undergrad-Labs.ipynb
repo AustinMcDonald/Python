{
 "cells": [
  {
   "cell_type": "markdown",
   "metadata": {},
   "source": [
    "# Undergrad Labs "
   ]
  },
  {
   "cell_type": "raw",
   "metadata": {},
   "source": [
    "Here is where I will do the \"lab reports\" \n",
    "I will paste the questions and what not form the labs in so it can all be viewed in one document. "
   ]
  },
  {
   "cell_type": "code",
   "execution_count": 2,
   "metadata": {
    "collapsed": true
   },
   "outputs": [],
   "source": [
    "import numpy as np\n",
    "import matplotlib.pyplot as plt\n",
    "%matplotlib inline"
   ]
  },
  {
   "cell_type": "markdown",
   "metadata": {},
   "source": [
    "# Lab 2: Falling Objects and Conservation of Energy"
   ]
  },
  {
   "cell_type": "markdown",
   "metadata": {},
   "source": [
    "I measured the time with the 2 masses as instructed. However I did do it at 0.5, 1.0, 1.5, 2.0 m.\n",
    "I think this would be good to add this it gives more point to plot haha.\n",
    "\n",
    "For the time measurements I made 3 for each I will only use the mean number since my values had little flucutation. "
   ]
  },
  {
   "cell_type": "code",
   "execution_count": 3,
   "metadata": {},
   "outputs": [
    {
     "name": "stdout",
     "output_type": "stream",
     "text": [
      "Vavg 50g = [1.5625     2.5        3.         3.33333333]\n",
      "Vavg 100g = [1.66666667 2.38095238 2.83018868 3.33333333]\n",
      "\n",
      "\n",
      "Vf 50g = [3.125      5.         6.         6.66666667]\n",
      "Vf 100g = [3.33333333 4.76190476 5.66037736 6.66666667]\n",
      "\n",
      "\n",
      "Delta KE 50g = [0.24414062 0.625      0.9        1.11111111]\n",
      "Delta KE 100g = [0.55555556 1.13378685 1.60199359 2.22222222]\n",
      "\n",
      "\n",
      "Delta PE 50g = [0.245 0.49  0.735 0.98 ]\n",
      "Delta PE 100g = [0.49 0.98 1.47 1.96]\n"
     ]
    }
   ],
   "source": [
    "Heights  = np.array([0.5, 1.0, 1.5, 2.0])\n",
    "Mass50g  = np.array([0.32, 0.4, 0.5, 0.6])\n",
    "Mass100g = np.array([0.3, 0.42, 0.53, 0.6])\n",
    "\n",
    "V50avg  = Heights/Mass50g\n",
    "print(\"Vavg 50g =\",V50avg)\n",
    "V100avg = Heights/Mass100g\n",
    "print(\"Vavg 100g =\",V100avg)\n",
    "\n",
    "print('\\n')\n",
    "print(\"Vf 50g =\",2*V50avg)\n",
    "print(\"Vf 100g =\",2*V100avg)\n",
    "\n",
    "print('\\n')\n",
    "print(\"Delta KE 50g =\",0.5*50e-3*(2*V50avg)**2)\n",
    "print(\"Delta KE 100g =\",0.5*100e-3*(2*V100avg)**2)\n",
    "\n",
    "print('\\n')\n",
    "print(\"Delta PE 50g =\",50e-3*9.8*Heights)\n",
    "print(\"Delta PE 100g =\",100e-3*9.8*Heights)"
   ]
  },
  {
   "cell_type": "markdown",
   "metadata": {},
   "source": [
    "The above fills Tables 1&2 for the lab.\n",
    "\n",
    "The force dise not change between the 2 points in a measurable way.\n",
    "I got 1, 0.5 newtons for the 100g and 50g mass respsctivily. "
   ]
  },
  {
   "cell_type": "code",
   "execution_count": 4,
   "metadata": {},
   "outputs": [
    {
     "name": "stdout",
     "output_type": "stream",
     "text": [
      "Work 50g = [0.25 0.5  0.75 1.  ]\n",
      "Work 100g = [0.5 1.  1.5 2. ]\n"
     ]
    }
   ],
   "source": [
    "Work50  = 0.5*Heights\n",
    "Work100 = 1.0*Heights\n",
    "print(\"Work 50g =\",Work50)\n",
    "print(\"Work 100g =\",Work100)"
   ]
  },
  {
   "cell_type": "markdown",
   "metadata": {},
   "source": [
    "1-\tPlot the two masses energies differences ΔPe vs ΔKe. then draw a smooth curve that best fits the two data points.  Determine the slope of the line. What is your conclusion."
   ]
  },
  {
   "cell_type": "markdown",
   "metadata": {},
   "source": [
    "<font color='red'>I dont think I need to fit them to tell you that the slope it at zero.\n",
    "This is what would expect form conservation of energy.</font>"
   ]
  },
  {
   "cell_type": "code",
   "execution_count": 5,
   "metadata": {},
   "outputs": [
    {
     "data": {
      "image/png": "[encoded data removed]",
      "text/plain": [
       "<Figure size 504x504 with 1 Axes>"
      ]
     },
     "metadata": {
      "needs_background": "light"
     },
     "output_type": "display_data"
    }
   ],
   "source": [
    "plt.figure(figsize=(7,7))\n",
    "PE = 50e-3*9.8*Heights\n",
    "KE = 0.5*50e-3*(2*V50avg)**2\n",
    "plt.scatter(PE,KE,color='r',s=50,label=\"50g mass\",alpha=0.5)\n",
    "\n",
    "PE = 100e-3*9.8*Heights\n",
    "KE = 0.5*100e-3*(2*V100avg)**2\n",
    "plt.scatter(PE,KE,color='b',s=50,label=\"100g mass\",alpha=0.5)\n",
    "plt.legend(loc=\"upper left\",fontsize=15)\n",
    "plt.xlabel(\"PE\",fontsize=15)\n",
    "plt.ylabel(\"KE\",fontsize=15)\n",
    "plt.show()"
   ]
  },
  {
   "cell_type": "code",
   "execution_count": null,
   "metadata": {
    "collapsed": true
   },
   "outputs": [],
   "source": []
  },
  {
   "cell_type": "markdown",
   "metadata": {},
   "source": [
    "2-\tLooking at ΔKe, ΔPe and W values that you have calculated for each mass, what do you conclude? Explain."
   ]
  },
  {
   "cell_type": "markdown",
   "metadata": {},
   "source": [
    "<font color='red'>They are nearly identical, but this is due to the work energy therom. :)</font>"
   ]
  },
  {
   "cell_type": "code",
   "execution_count": null,
   "metadata": {
    "collapsed": true
   },
   "outputs": [],
   "source": []
  },
  {
   "cell_type": "markdown",
   "metadata": {},
   "source": [
    "3-\tIf ΔKe and ΔPe values were different for each mass, what is the major source of the error? What type of error equation we need to use? Calculate the error. "
   ]
  },
  {
   "cell_type": "markdown",
   "metadata": {},
   "source": [
    "<font color='red'>The error would be in the measurement of the time for all practicle puroposes.</font>"
   ]
  },
  {
   "cell_type": "code",
   "execution_count": null,
   "metadata": {
    "collapsed": true
   },
   "outputs": [],
   "source": []
  },
  {
   "cell_type": "markdown",
   "metadata": {},
   "source": [
    "4-\tTwo masses were used to calculate the final velocity as they were dropped from the same height, what do you conclude? Explain."
   ]
  },
  {
   "cell_type": "markdown",
   "metadata": {},
   "source": [
    "<font color='red'>Gravity is invariant to the mass.</font>"
   ]
  },
  {
   "cell_type": "code",
   "execution_count": null,
   "metadata": {
    "collapsed": true
   },
   "outputs": [],
   "source": []
  },
  {
   "cell_type": "markdown",
   "metadata": {},
   "source": [
    "5-\tBased on your conclusion of question 4, where I had different masses were dropped from the same height, what would be the only quantity that is controlling the value of the object kinetic energy right before it hits the ground."
   ]
  },
  {
   "cell_type": "markdown",
   "metadata": {},
   "source": [
    "<font color='red'>It depends on Vavg^2. which is (d/t)^2</font>"
   ]
  },
  {
   "cell_type": "code",
   "execution_count": null,
   "metadata": {
    "collapsed": true
   },
   "outputs": [],
   "source": []
  },
  {
   "cell_type": "markdown",
   "metadata": {},
   "source": [
    "trying to add measuring g if you do the experiments at mutiple heights"
   ]
  },
  {
   "cell_type": "code",
   "execution_count": 20,
   "metadata": {
    "collapsed": true
   },
   "outputs": [],
   "source": [
    "HH  = np.array([0.5, 1.0, 1.5, 2.0,0.5, 1.0, 1.5, 2.0])\n",
    "TT  = np.array([0.32, 0.4, 0.5, 0.6,0.3, 0.42, 0.53, 0.6])\n"
   ]
  },
  {
   "cell_type": "code",
   "execution_count": 48,
   "metadata": {},
   "outputs": [
    {
     "data": {
      "image/png": "[encoded data removed]",
      "text/plain": [
       "<Figure size 504x504 with 1 Axes>"
      ]
     },
     "metadata": {
      "needs_background": "light"
     },
     "output_type": "display_data"
    }
   ],
   "source": [
    "plt.figure(figsize=(7,7))\n",
    "plt.scatter(0.5*TT**2,HH,label=\"Data\")\n",
    "\n",
    "FIT = np.polyfit(0.5*TT**2,HH,1)\n",
    "Fun = np.poly1d(FIT) \n",
    "\n",
    "xp = np.linspace(0,1,100)\n",
    "plt.plot(xp,Fun(xp),label=\"Fit\",color='r')\n",
    "plt.text(0.025,2,\"Fit for g = 11.1 m/s\",fontsize=20)\n",
    "plt.legend(loc=\"upper left\",fontsize=15)\n",
    "plt.xlim(0,0.2)\n",
    "plt.ylim(0,3)\n",
    "plt.xlabel(r\"$t^2$/2\",fontsize=15)\n",
    "plt.ylabel(\"Heights\",fontsize=15)\n",
    "plt.show()"
   ]
  },
  {
   "cell_type": "code",
   "execution_count": null,
   "metadata": {
    "collapsed": true
   },
   "outputs": [],
   "source": []
  },
  {
   "cell_type": "markdown",
   "metadata": {},
   "source": [
    "It seems that it works. I think this would make this lab better if they measured it at a few distances while i only fitted g to be 11 I consider that well within the error and it is pretty cool. \n"
   ]
  },
  {
   "cell_type": "code",
   "execution_count": null,
   "metadata": {
    "collapsed": true
   },
   "outputs": [],
   "source": []
  },
  {
   "cell_type": "code",
   "execution_count": null,
   "metadata": {
    "collapsed": true
   },
   "outputs": [],
   "source": []
  },
  {
   "cell_type": "code",
   "execution_count": null,
   "metadata": {
    "collapsed": true
   },
   "outputs": [],
   "source": []
  },
  {
   "cell_type": "markdown",
   "metadata": {},
   "source": [
    "# Lab 3: Electrical Circuits and Electrical Energy"
   ]
  },
  {
   "cell_type": "markdown",
   "metadata": {},
   "source": [
    "Following the instructions I measured the voltage and current of the 3 devices for table 1."
   ]
  },
  {
   "cell_type": "code",
   "execution_count": 6,
   "metadata": {},
   "outputs": [
    {
     "name": "stdout",
     "output_type": "stream",
     "text": [
      "P diode = 0.13824\n",
      "E diode = 4.1472\n",
      "\n",
      "\n",
      "P buzz = 0.0729\n",
      "E buzz = 2.1870000000000003\n",
      "\n",
      "\n",
      "P moto = 0.169\n",
      "E moto = 5.07\n",
      "\n",
      "\n"
     ]
    }
   ],
   "source": [
    "V_diode  = 2.56 ; I_diode =54e-3\n",
    "V_buzz   = 2.70 ; I_buzz  =27e-3\n",
    "V_moto   = 2.60 ; I_moto  =65e-3\n",
    "\n",
    "P_diode = V_diode*I_diode\n",
    "E_diode = P_diode*30\n",
    "print(\"P diode =\",P_diode)\n",
    "print(\"E diode =\",E_diode)\n",
    "print(\"\\n\")\n",
    "\n",
    "P_buzz = V_buzz*I_buzz\n",
    "E_buzz = P_buzz*30\n",
    "print(\"P buzz =\",P_buzz)\n",
    "print(\"E buzz =\",E_buzz)\n",
    "print(\"\\n\")\n",
    "\n",
    "P_moto = V_moto*I_moto\n",
    "E_moto = P_moto*30\n",
    "print(\"P moto =\",P_moto)\n",
    "print(\"E moto =\",E_moto)\n",
    "print(\"\\n\")"
   ]
  },
  {
   "cell_type": "markdown",
   "metadata": {},
   "source": [
    "Im going to skip the questions about the table they seem pretty stright forward.\n",
    "\n",
    "A-\tConnections in Series:\n",
    "\n",
    "Connect the diode in series with the motor by taking a wire that connect the battery case to the diode, then a second wire from the diode to the motor, then a third wire from the motor back to the batteries. Do we have light and a fan motion? 2p\n",
    "Explain why. 6p\n"
   ]
  },
  {
   "cell_type": "markdown",
   "metadata": {},
   "source": [
    "<font color='red'>Yes they both turn on. However the motor is really slow due to the less power aviable for the LED in series with it.</font>"
   ]
  },
  {
   "cell_type": "code",
   "execution_count": null,
   "metadata": {
    "collapsed": true
   },
   "outputs": [],
   "source": []
  },
  {
   "cell_type": "markdown",
   "metadata": {},
   "source": [
    "B-\tConnections in parallel:\n",
    "\n",
    "1-\tConnect the diode in parallel with the motor by taking two wires one connects the motor black terminal to the diode black terminal, the other wire from the motor red terminal to the diode red terminal.\n",
    "2-\tThen, use a third wire to connects the battery case using a terminal to wire 1 side opening, and a fourth wire from the battery case second terminal to wire 2 side opening. \n",
    "Do we have light and fan motion? 2p\n",
    "Explain why. 5p\n"
   ]
  },
  {
   "cell_type": "markdown",
   "metadata": {},
   "source": [
    "<font color='red'>Yes they both turn on. The motor and LED appear to have full power because they each have a current source form the barrery.</font>"
   ]
  },
  {
   "cell_type": "code",
   "execution_count": null,
   "metadata": {
    "collapsed": true
   },
   "outputs": [],
   "source": []
  },
  {
   "cell_type": "code",
   "execution_count": null,
   "metadata": {
    "collapsed": true
   },
   "outputs": [],
   "source": []
  },
  {
   "cell_type": "code",
   "execution_count": null,
   "metadata": {
    "collapsed": true
   },
   "outputs": [],
   "source": []
  },
  {
   "cell_type": "code",
   "execution_count": null,
   "metadata": {
    "collapsed": true
   },
   "outputs": [],
   "source": []
  },
  {
   "cell_type": "markdown",
   "metadata": {},
   "source": [
    "# Lab 4: Resistance R and Ohm’s Law"
   ]
  },
  {
   "cell_type": "markdown",
   "metadata": {},
   "source": [
    "I started by measuring the resistance of 5 of the wires included and there length. "
   ]
  },
  {
   "cell_type": "code",
   "execution_count": 7,
   "metadata": {},
   "outputs": [
    {
     "data": {
      "text/plain": [
       "351.5"
      ]
     },
     "execution_count": 7,
     "metadata": {},
     "output_type": "execute_result"
    }
   ],
   "source": [
    "34.5+34.5+34.5+41.5+66.5+41.5+33.5+65"
   ]
  },
  {
   "cell_type": "code",
   "execution_count": 8,
   "metadata": {},
   "outputs": [
    {
     "name": "stdout",
     "output_type": "stream",
     "text": [
      "measured R = [  0.8   2.3   4.9   4.4  17.8  49.8 149.8 149.8]\n",
      "calculated R = [0.58 1.16 1.74 2.44 3.55 4.25 4.81 5.91]\n",
      "percent error = [  38.03   98.41  181.8    80.62  400.96 1071.65 3012.27 2436.75]\n"
     ]
    }
   ],
   "source": [
    "rho = 1.68e-8\n",
    "A = 1e-6\n",
    "Length = np.array([34.5, 34.5, 34.5 , 41.5,  66.5, 41.5, 33.5, 65])*1e-2\n",
    "Length = np.array([34.5, 69  , 103.5,  145, 211.5,  253, 286.5, 351.5])\n",
    "RR    = np.array([3.6, 3.4, 1.2, 0.7, 1.2, 0.6, 1.8, 2.2])\n",
    "RRF   = np.array([4.4, 3.2, 0.9, 0.5, 1.0, 0.3, 2.2, 1.1])-0.2999\n",
    "RvL   = np.array([1.4, 7.3, 7.0, 9.0,  5.8,  8.2, 150,150])\n",
    "RvLF  = np.array([1.0, 2.5, 5.1, 4.6, 18.0, 50.0, 150,150])-0.2\n",
    "\n",
    "print(\"measured R =\",RvLF)\n",
    "Rs = rho*Length/A\n",
    "print(\"calculated R =\",np.around(Rs, 2))\n",
    "error = (RvLF-Rs)/Rs*100\n",
    "print(\"percent error =\",np.around(error, 2))"
   ]
  },
  {
   "cell_type": "markdown",
   "metadata": {},
   "source": [
    "So I measured the above with my multimeter aswell and still got quite an error. I used 1e-6 for the area this is what i found fot 18 gauge copper. My suspicion is that the this will work much better with a very long wire, I thikn the affition of clamping a few different kinds of wires togeather coupled with measuring small values with instruments that dont work there best in that range.  "
   ]
  },
  {
   "cell_type": "code",
   "execution_count": null,
   "metadata": {
    "collapsed": true
   },
   "outputs": [],
   "source": []
  },
  {
   "cell_type": "markdown",
   "metadata": {},
   "source": [
    "Measuring the current in the same manner "
   ]
  },
  {
   "cell_type": "code",
   "execution_count": 9,
   "metadata": {},
   "outputs": [
    {
     "name": "stdout",
     "output_type": "stream",
     "text": [
      "measured R = [  0.8   2.3   4.9   4.4  17.8  49.8 149.8 149.8]\n",
      "calculated R = [1.6 1.6 2.2 2.4 3.1 3.1 3.5 5.6]\n",
      "percent error = [ -49.14   46.21  127.5    82.29  472.14 1500.71 4180.   2575.  ]\n"
     ]
    }
   ],
   "source": [
    "Ri  =np.array([1.78, 1.78, 1.5, 1.15, 0.87, 0.9, 0.6, 0.55])\n",
    "RiF =np.array([1.78, 1.78, 1.3, 1.16, 0.9 , 0.9, 0.8, 0.5])\n",
    "RRR = 2.8/RiF\n",
    "\n",
    "print(\"measured R =\",RvLF)\n",
    "Rs = 2.8/RiF\n",
    "print(\"calculated R =\",np.around(Rs, 1))\n",
    "error = (RvLF-Rs)/Rs*100\n",
    "print(\"percent error =\",np.around(error, 2))"
   ]
  },
  {
   "cell_type": "markdown",
   "metadata": {
    "collapsed": true
   },
   "source": [
    "I have the same feelings about the above measurements Although it seemed when I got to a high enough ammonut of wire I was gettign some vey funny behavior."
   ]
  },
  {
   "cell_type": "code",
   "execution_count": 11,
   "metadata": {},
   "outputs": [
    {
     "data": {
      "image/png": "[encoded data removed]",
      "text/plain": [
       "<Figure size 504x504 with 1 Axes>"
      ]
     },
     "metadata": {
      "needs_background": "light"
     },
     "output_type": "display_data"
    }
   ],
   "source": [
    "plt.figure(figsize=(7,7))\n",
    "\n",
    "plt.scatter(RiF, 1/RRF)\n",
    "\n",
    "plt.xlabel(\"I\",fontsize=15)\n",
    "plt.ylabel(\"1/R\",fontsize=15)\n",
    "plt.text(1,3,\"Battery Voltage\",fontsize=20)\n",
    "plt.axhline(2.8,color=\"lime\",linewidth=3)\n",
    "plt.ylim(0,5)\n",
    "plt.show()"
   ]
  },
  {
   "cell_type": "markdown",
   "metadata": {
    "collapsed": true
   },
   "source": [
    "Plotted the current vs 1/r\n",
    "The voltage dose not quite line up with the voltage of the battery but I think this error is the same as the one above. It is pretty nice that all the points seem to more or less follow a line so it appears physics still works haha."
   ]
  },
  {
   "cell_type": "code",
   "execution_count": null,
   "metadata": {
    "collapsed": true
   },
   "outputs": [],
   "source": []
  },
  {
   "cell_type": "markdown",
   "metadata": {
    "collapsed": true
   },
   "source": [
    "As a note before I forget the issue with the adding wires giving me funny problem could be that the wire are not a solid core and they are straded this will have a different surface are and im not sure how much it will effect it.\n",
    "\n",
    "This is something I might test\n",
    "\n",
    "Might be worth adding some solid core wire in the kits that has finate lengths eg 0.5m, 1m, 2m ..\n",
    "I would like to test this to see if eleminates the error.\n"
   ]
  },
  {
   "cell_type": "code",
   "execution_count": null,
   "metadata": {
    "collapsed": true
   },
   "outputs": [],
   "source": []
  },
  {
   "cell_type": "code",
   "execution_count": null,
   "metadata": {
    "collapsed": true
   },
   "outputs": [],
   "source": []
  },
  {
   "cell_type": "markdown",
   "metadata": {
    "collapsed": true
   },
   "source": [
    "## Lab 5: Temperature Gradient and Heat"
   ]
  },
  {
   "cell_type": "code",
   "execution_count": null,
   "metadata": {
    "collapsed": true
   },
   "outputs": [],
   "source": []
  },
  {
   "cell_type": "markdown",
   "metadata": {},
   "source": [
    "Keep leaving the tempature probe at the school..."
   ]
  },
  {
   "cell_type": "code",
   "execution_count": null,
   "metadata": {
    "collapsed": true
   },
   "outputs": [],
   "source": []
  },
  {
   "cell_type": "markdown",
   "metadata": {},
   "source": [
    "## Lab 6: Converting mechanical Energy to Electric Energy"
   ]
  },
  {
   "cell_type": "code",
   "execution_count": null,
   "metadata": {
    "collapsed": true
   },
   "outputs": [],
   "source": []
  },
  {
   "cell_type": "markdown",
   "metadata": {},
   "source": [
    "There is an issue with step 11 the picture is miss leading and should only have the multimeter and generator. the picture has the MM in parallel with the LED so you will not get the true reading. \n",
    "\n",
    "Another Issue with table 1 the work should be W = F*2*pi*r\n",
    "\n"
   ]
  },
  {
   "cell_type": "code",
   "execution_count": 70,
   "metadata": {},
   "outputs": [
    {
     "name": "stdout",
     "output_type": "stream",
     "text": [
      "work of gen =  0.98\n",
      "Mec Power of gen =  5.88\n",
      "Ele Power of gen =  2.2\n",
      "\n",
      "\n",
      "work to turn gen 10x =  9.8\n",
      "Power produced =  1.63\n",
      "Power generated =  0.36\n",
      "\n",
      "\n",
      "Power consumed by LED =  0.24\n"
     ]
    }
   ],
   "source": [
    "R  = 6.5e-2 #m\n",
    "C  = 2*np.pi*R\n",
    "F  = 1.2 #N\n",
    "Work = 2*F*C\n",
    "\n",
    "# takes me 6s to rotate 10 times\n",
    "t  = 6 # in s\n",
    "# probing the LED with multimeter I get a maximum voltage of 2.7V\n",
    "Vgen  = 4 # in V\n",
    "# I got the current in the same maner to be 90mA\n",
    "Igen  = 550e-3 # in mA\n",
    "print(\"work of gen = \",round(Work,2))\n",
    "print(\"Mec Power of gen = \",round(Work*t,2))\n",
    "print(\"Ele Power of gen = \",round(Igen*Vgen,2))\n",
    "\n",
    "print(\"\\n\")\n",
    "\n",
    "\n",
    "Work = 20*F*C\n",
    "print(\"work to turn gen 10x = \",round(Work,2))\n",
    "print(\"Power produced = \", round(Work/t,2))\n",
    "P = I*Vgen\n",
    "print(\"Power generated = \", round(P,2))\n",
    "print(\"\\n\")\n",
    "# now plugging in the LED and measuring the voltage across it \n",
    "Vled  = 2.7 # in V\n",
    "print(\"Power consumed by LED = \", round(I*Vled,2))\n",
    "\n"
   ]
  },
  {
   "cell_type": "markdown",
   "metadata": {},
   "source": [
    "The error of the mechanical and electrical is about a facor of 2 that could be to the bad measuremnt of the force and the friction in the motor.\n",
    "\n",
    "This is something I am not really sure what to do about. Needs more thought"
   ]
  },
  {
   "cell_type": "code",
   "execution_count": null,
   "metadata": {
    "collapsed": true
   },
   "outputs": [],
   "source": []
  },
  {
   "cell_type": "code",
   "execution_count": null,
   "metadata": {
    "collapsed": true
   },
   "outputs": [],
   "source": []
  }
 ],
 "metadata": {
  "kernelspec": {
   "display_name": "Python 3",
   "language": "python",
   "name": "python3"
  },
  "language_info": {
   "codemirror_mode": {
    "name": "ipython",
    "version": 3
   },
   "file_extension": ".py",
   "mimetype": "text/x-python",
   "name": "python",
   "nbconvert_exporter": "python",
   "pygments_lexer": "ipython3",
   "version": "3.6.7"
  }
 },
 "nbformat": 4,
 "nbformat_minor": 1
}
