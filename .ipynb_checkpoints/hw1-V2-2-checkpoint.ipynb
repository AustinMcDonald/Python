{
 "cells": [
  {
   "cell_type": "code",
   "execution_count": 122,
   "metadata": {
    "collapsed": false
   },
   "outputs": [],
   "source": [
    "#from sympy import *\n",
    "import numpy as np\n",
    "from numpy import pi\n",
    "#from sympy import DiracDelta\n",
    "import itertools\n",
    "import math\n",
    "import random\n",
    "import matplotlib.pyplot as plt\n",
    "%matplotlib inline\n"
   ]
  },
  {
   "cell_type": "code",
   "execution_count": 2,
   "metadata": {
    "collapsed": false
   },
   "outputs": [
    {
     "data": {
      "text/plain": [
       "array([[4, 1],\n",
       "       [2, 2]])"
      ]
     },
     "execution_count": 2,
     "metadata": {},
     "output_type": "execute_result"
    }
   ],
   "source": [
    "a = [[1, 0], [0, 1]]\n",
    "b = [[4, 1], [2, 2]]\n",
    "np.dot(a, b)"
   ]
  },
  {
   "cell_type": "code",
   "execution_count": 3,
   "metadata": {
    "collapsed": false
   },
   "outputs": [
    {
     "name": "stdout",
     "output_type": "stream",
     "text": [
      "[16  6  8]\n"
     ]
    }
   ],
   "source": [
    "a = np.array([[ 5, 1 ,3], \n",
    "              [ 1, 1 ,1], \n",
    "              [ 1, 2 ,1]])\n",
    "b = np.array([1, 2, 3])\n",
    "print( a.dot(b))"
   ]
  },
  {
   "cell_type": "code",
   "execution_count": 4,
   "metadata": {
    "collapsed": false
   },
   "outputs": [
    {
     "data": {
      "text/plain": [
       "1j"
      ]
     },
     "execution_count": 4,
     "metadata": {},
     "output_type": "execute_result"
    }
   ],
   "source": [
    "i = np.complex(0,1)\n",
    "i"
   ]
  },
  {
   "cell_type": "code",
   "execution_count": 5,
   "metadata": {
    "collapsed": false
   },
   "outputs": [
    {
     "data": {
      "text/plain": [
       "matrix([[ 1,  4,  9, 16]])"
      ]
     },
     "execution_count": 5,
     "metadata": {},
     "output_type": "execute_result"
    }
   ],
   "source": [
    "testm = np.mat([[1, 0, 0, 0], [0, 2, 0, 0], [0, 0, 3, 0], [0, 0, 0, 4]])\n",
    "testa = np.array([1, 2, 3, 4])\n",
    "np.dot(testa,testm)"
   ]
  },
  {
   "cell_type": "code",
   "execution_count": null,
   "metadata": {
    "collapsed": true
   },
   "outputs": [],
   "source": []
  },
  {
   "cell_type": "code",
   "execution_count": 6,
   "metadata": {
    "collapsed": false
   },
   "outputs": [
    {
     "ename": "NameError",
     "evalue": "name 'Identity' is not defined",
     "output_type": "error",
     "traceback": [
      "\u001b[0;31m---------------------------------------------------------------------------\u001b[0m",
      "\u001b[0;31mNameError\u001b[0m                                 Traceback (most recent call last)",
      "\u001b[0;32m<ipython-input-6-3164835893de>\u001b[0m in \u001b[0;36m<module>\u001b[0;34m()\u001b[0m\n\u001b[0;32m----> 1\u001b[0;31m \u001b[0mIdentity\u001b[0m\u001b[0;34m\u001b[0m\u001b[0m\n\u001b[0m",
      "\u001b[0;31mNameError\u001b[0m: name 'Identity' is not defined"
     ]
    }
   ],
   "source": [
    "Identity"
   ]
  },
  {
   "cell_type": "code",
   "execution_count": 7,
   "metadata": {
    "collapsed": false
   },
   "outputs": [],
   "source": [
    "Identity = np.mat([[1, 0, 0, 0], [0, 1, 0, 0], [0, 0, 1, 0], [0, 0, 0, 1]])\n",
    "Gamma0   = np.mat([[1, 0, 0, 0], [0, 1, 0, 0], [0, 0, -1, 0], [0, 0, 0, -1]])\n",
    "Gamma1   = np.mat([[0, 0, 0, 1], [0, 0, 1, 0], [0, -1, 0, 0], [-1, 0, 0,0]])\n",
    "Gamma2   = np.mat([[0, 0, 0, -i], [0, 0, i, 0], [0, i, 0, 0], [-i, 0, 0, 0]])\n",
    "Gamma3   = np.mat([[0, 0, 1, 0], [0, 0, 0, -1], [-1, 0, 0, 0], [0, 1, 0, 0]])\n",
    "a = np.dot(Gamma0,Gamma1);b = np.dot(Gamma2,Gamma3)\n",
    "Gamma5   = i*np.dot(a,b)\n",
    "\n",
    "CoGamma0 = Gamma0\n",
    "CoGamma1 = -Gamma1\n",
    "CoGamma2 = -Gamma2\n",
    "CoGamma3 = -Gamma3\n",
    "CoGamma5 = Gamma5\n",
    "\n",
    "TwoPR = (Identity + Gamma5)\n",
    "TwoPL = (Identity - Gamma5)"
   ]
  },
  {
   "cell_type": "code",
   "execution_count": null,
   "metadata": {
    "collapsed": false
   },
   "outputs": [],
   "source": []
  },
  {
   "cell_type": "code",
   "execution_count": 190,
   "metadata": {
    "collapsed": true
   },
   "outputs": [],
   "source": [
    "def Spinnors(x,y):\n",
    "    p1     = x[0]\n",
    "    theta1 = x[1]\n",
    "    theta2 = x[2]\n",
    "    phi1   = x[3]\n",
    "    phi2   = x[4]\n",
    "    phi3   = y[4]\n",
    "    m0     = y[0]\n",
    "    m1     = y[1]\n",
    "    m2     = y[2]\n",
    "    m3     = y[3]\n",
    "    \n",
    "    p2simp = abs(p1*(np.sin(theta1)*np.cos(phi1))/(np.sin(theta2)*np.cos(phi2))) # get rid of negative\n",
    "    p3simp = np.sqrt(abs(p1**2+p2simp**2+2*p1*p2simp*(np.cos(theta1)*np.cos(theta2)+np.cos(phi1-phi2)*np.sin(theta1)*np.sin(theta2))))\n",
    "    C3simp = np.arccos((p1*np.cos(theta1)+p2simp*np.cos(theta2))/p3simp)\n",
    "    E1simp = p1 + m1**2/(2*p1)\n",
    "    E2simp = p2simp + m2**2/(2*p2simp)\n",
    "    E3simp = m0-p1-m1**2/(2*p1)-p2simp-m2**2/(2*p2simp)\n",
    "    #E3simp = np.sqrt(p3simp**2*m3**2)\n",
    "\n",
    "    s1 =  np.sin(theta1/2)\n",
    "    s2 =  np.sin(theta2/2)\n",
    "    s3 =  np.sin(C3simp/2)\n",
    "    c1 =  np.cos(theta1/2)\n",
    "    c2 =  np.cos(theta2/2)\n",
    "    c3 =  np.cos(C3simp/2)\n",
    "    ei1 = np.exp(i*phi1)\n",
    "    ei2 = np.exp(i*phi2)\n",
    "    ei3 = np.exp(i*phi3)\n",
    "\n",
    "    AA = (np.sqrt(p1)    -m1/(2*np.sqrt(p1)))\n",
    "    A  = (np.sqrt(p1)    +m1/(2*np.sqrt(p1)))\n",
    "    BB = (np.sqrt(abs(p3simp)) -m3/(2*np.sqrt(abs(p3simp))))\n",
    "    B  = (np.sqrt(abs(p3simp)) +m3/(2*np.sqrt(abs(p3simp))))\n",
    "    CC = (np.sqrt(abs(p2simp)) -m2/(2*np.sqrt(abs(p2simp))))\n",
    "    C  = (np.sqrt(abs(p2simp)) +m2/(2*np.sqrt(abs(p2simp))))\n",
    "\n",
    "    v0up = np.sqrt(2*m0)*np.mat([0,0,0,1])\n",
    "    v0dn = np.sqrt(2*m0)*np.mat([0,0,1,0])\n",
    "\n",
    "    v1up = np.mat([AA*s1,-AA*c1*ei1,-A*s1,A*c1*ei1])\n",
    "    v1dn = np.mat([AA*c1,AA*s1*ei1,A*c1,A*s1*ei1])\n",
    "\n",
    "    con3 = p3simp/(m3+E3simp)\n",
    "    N3   = np.sqrt(abs(E3simp+m3))\n",
    "    v3up = N3*np.mat([con3*s3,-con3*c3*ei3,-s3,c3*ei3])\n",
    "    v3dn = N3*np.mat([con3*c3,con3*s3*ei3,c3,s3*ei3])\n",
    "\n",
    "    u2up = np.mat([C*c2,C*s2*ei2,CC*c2,CC*s2*ei2])\n",
    "    u2dn = np.mat([-C*s2,C*c2*ei2,CC*s2,-CC*c2*ei2])\n",
    "    \n",
    "    dLIPS = 1/(64*(pi)**5*m0)*1/(E1simp*E2simp*E3simp)*p1**2*p2simp**2*p3simp**2*np.sin(theta1)*np.sin(theta2)\n",
    "    \n",
    "    return [v0up, v0dn, v1up, v1dn, u2up, u2dn, v3up, v3dn], [dLIPS]#,[p3simp,E3simp,C3simp,AA,A,BB,B,CC,C,con3,N3]"
   ]
  },
  {
   "cell_type": "code",
   "execution_count": 151,
   "metadata": {
    "collapsed": false
   },
   "outputs": [
    {
     "name": "stderr",
     "output_type": "stream",
     "text": [
      "//anaconda/envs/py35/lib/python3.5/site-packages/ipykernel/__main__.py:45: RuntimeWarning: invalid value encountered in sqrt\n"
     ]
    },
    {
     "data": {
      "text/plain": [
       "[0.18337561237795855,\n",
       " -0.087747949078839274,\n",
       " 0.11021515233951185,\n",
       " 0.10000000000000001,\n",
       " 0.10000000000000001,\n",
       " 0.42762713708317562,\n",
       " 0.42882043837712897,\n",
       " 0.42160164738629674,\n",
       " 0.42160164738629674,\n",
       " -2.102040641199352,\n",
       " nan]"
      ]
     },
     "execution_count": 151,
     "metadata": {},
     "output_type": "execute_result"
    }
   ],
   "source": [
    "stuff = [0.01, 1, 0.1, 0.5, 2]\n",
    "masses= [100e-3, 0.0, 0., 511e-6, pi/2]\n",
    "X ,Y= Spinnors(stuff,masses)\n",
    "Z"
   ]
  },
  {
   "cell_type": "code",
   "execution_count": null,
   "metadata": {
    "collapsed": true
   },
   "outputs": [],
   "source": []
  },
  {
   "cell_type": "code",
   "execution_count": null,
   "metadata": {
    "collapsed": true
   },
   "outputs": [],
   "source": []
  },
  {
   "cell_type": "code",
   "execution_count": 35,
   "metadata": {
    "collapsed": true
   },
   "outputs": [],
   "source": [
    "stuff = [0.01, 1.2, 1, 0.5, 2]\n",
    "masses= [50, 0.023, 0.56, 0.778, pi/2]"
   ]
  },
  {
   "cell_type": "code",
   "execution_count": 10,
   "metadata": {
    "collapsed": false
   },
   "outputs": [
    {
     "data": {
      "text/plain": [
       "(matrix([[ 0.        ,  0.        ,  0.        ,  0.45825757]]),\n",
       " matrix([[ 0.        ,  0.        ,  0.45825757,  0.        ]]),\n",
       " matrix([[ 0.05646425+0.j       , -0.07243001-0.0395687j,\n",
       "          -0.05646425+0.j       ,  0.07243001+0.0395687j]]),\n",
       " matrix([[ 0.08253356+0.j       ,  0.04955204+0.0270704j,\n",
       "           0.08253356+0.j       ,  0.04955204+0.0270704j]]),\n",
       " matrix([[ 0.1341239+0.j        , -0.0304920+0.06662624j,\n",
       "           0.1341239+0.j        , -0.0304920+0.06662624j]]),\n",
       " matrix([[-0.07327222+0.j        , -0.05581524+0.12195852j,\n",
       "           0.07327222+0.j        ,  0.05581524-0.12195852j]]),\n",
       " matrix([[  4.66716378e-02+0.j        ,  -5.61130509e-18-0.09163957j,\n",
       "           -1.21894814e-01+0.j        ,   1.46553457e-17+0.23933996j]]),\n",
       " matrix([[  9.16395665e-02+0.j        ,   2.85781359e-18+0.04667164j,\n",
       "            2.39339959e-01+0.j        ,   7.46390466e-18+0.12189481j]]))"
      ]
     },
     "execution_count": 10,
     "metadata": {},
     "output_type": "execute_result"
    }
   ],
   "source": [
    "Spinnors(values)"
   ]
  },
  {
   "cell_type": "code",
   "execution_count": null,
   "metadata": {
    "collapsed": true
   },
   "outputs": [],
   "source": []
  },
  {
   "cell_type": "code",
   "execution_count": null,
   "metadata": {
    "collapsed": true
   },
   "outputs": [],
   "source": []
  },
  {
   "cell_type": "code",
   "execution_count": 11,
   "metadata": {
    "collapsed": false
   },
   "outputs": [],
   "source": [
    "G00PL = np.dot(np.dot(Gamma0,Gamma0),TwoPL)\n",
    "G01PL = np.dot(np.dot(Gamma0,Gamma1),TwoPL)\n",
    "G02PL = np.dot(np.dot(Gamma0,Gamma2),TwoPL)\n",
    "G03PL = np.dot(np.dot(Gamma0,Gamma3),TwoPL)\n",
    "\n",
    "CG00PL = np.dot(np.dot(Gamma0,CoGamma0),TwoPL)\n",
    "CG01PL = np.dot(np.dot(Gamma0,CoGamma1),TwoPL)\n",
    "CG02PL = np.dot(np.dot(Gamma0,CoGamma2),TwoPL)\n",
    "CG03PL = np.dot(np.dot(Gamma0,CoGamma3),TwoPL)\n"
   ]
  },
  {
   "cell_type": "code",
   "execution_count": 299,
   "metadata": {
    "collapsed": false
   },
   "outputs": [],
   "source": [
    "Gf = 1.16636e-5\n",
    "rt2 = np.sqrt(2)\n",
    "def element(a,b,c,d):\n",
    "    return Gf/rt2*(np.dot(a,np.dot(G00PL,np.transpose(b)))*np.dot(c,np.dot(CG00PL,np.transpose(d))) + \\\n",
    "                   np.dot(a,np.dot(G01PL,np.transpose(b)))*np.dot(c,np.dot(CG01PL,np.transpose(d))) + \\\n",
    "                   np.dot(a,np.dot(G02PL,np.transpose(b)))*np.dot(c,np.dot(CG02PL,np.transpose(d))) + \\\n",
    "                   np.dot(a,np.dot(G03PL,np.transpose(b)))*np.dot(c,np.dot(CG03PL,np.transpose(d))))"
   ]
  },
  {
   "cell_type": "code",
   "execution_count": 76,
   "metadata": {
    "collapsed": false
   },
   "outputs": [
    {
     "name": "stderr",
     "output_type": "stream",
     "text": [
      "//anaconda/envs/py35/lib/python3.5/site-packages/ipykernel/__main__.py:35: RuntimeWarning: invalid value encountered in sqrt\n",
      "//anaconda/envs/py35/lib/python3.5/site-packages/ipykernel/__main__.py:36: RuntimeWarning: invalid value encountered in sqrt\n"
     ]
    },
    {
     "data": {
      "text/plain": [
       "[0.017880782300536698, 0.89212150646676869]"
      ]
     },
     "execution_count": 76,
     "metadata": {},
     "output_type": "execute_result"
    }
   ],
   "source": [
    "stuff = [0.01, 1.2, 1, 0.5, 2]\n",
    "masses= [50, 0.023, 0.56, 0.778, pi/2]\n",
    "X ,Y,Z= Spinnors(stuff,masses)\n",
    "Z"
   ]
  },
  {
   "cell_type": "code",
   "execution_count": 46,
   "metadata": {
    "collapsed": false
   },
   "outputs": [
    {
     "data": {
      "text/plain": [
       "matrix([[ 775.39263286+0.j]])"
      ]
     },
     "execution_count": 46,
     "metadata": {},
     "output_type": "execute_result"
    }
   ],
   "source": [
    "(E*np.conjugate(E))"
   ]
  },
  {
   "cell_type": "code",
   "execution_count": 47,
   "metadata": {
    "collapsed": false
   },
   "outputs": [
    {
     "data": {
      "text/plain": [
       "3.1411184767456154e-18"
      ]
     },
     "execution_count": 47,
     "metadata": {},
     "output_type": "execute_result"
    }
   ],
   "source": [
    "Y[0]"
   ]
  },
  {
   "cell_type": "code",
   "execution_count": null,
   "metadata": {
    "collapsed": true
   },
   "outputs": [],
   "source": []
  },
  {
   "cell_type": "code",
   "execution_count": null,
   "metadata": {
    "collapsed": true
   },
   "outputs": [],
   "source": [
    "Chi = Spinnors(values)\n",
    "\n",
    "M1   = element(Chi[0], Chi[2], Chi[4], Chi[6])*np.conjugate(element(Chi[0], Chi[2], Chi[4], Chi[6]))# UUUU\n",
    "M2   = element(Chi[0], Chi[3], Chi[4], Chi[6])*np.conjugate(element(Chi[0], Chi[3], Chi[4], Chi[6]))# UDUU\n",
    "M3   = element(Chi[0], Chi[2], Chi[5], Chi[6])*np.conjugate(element(Chi[0], Chi[2], Chi[5], Chi[6]))# UUDU\n",
    "M4   = element(Chi[0], Chi[2], Chi[4], Chi[7])*np.conjugate(element(Chi[0], Chi[2], Chi[4], Chi[7]))# UUUD\n",
    "M5   = element(Chi[0], Chi[3], Chi[5], Chi[6])*np.conjugate(element(Chi[0], Chi[3], Chi[5], Chi[6]))# UDDU\n",
    "M6   = element(Chi[0], Chi[3], Chi[4], Chi[7])*np.conjugate(element(Chi[0], Chi[3], Chi[4], Chi[7]))# UDUD\n",
    "M7   = element(Chi[0], Chi[3], Chi[5], Chi[7])*np.conjugate(element(Chi[0], Chi[3], Chi[5], Chi[7]))# UDDD\n",
    "M8   = element(Chi[0], Chi[2], Chi[5], Chi[7])*np.conjugate(element(Chi[0], Chi[2], Chi[5], Chi[7]))# UUDD\n",
    "M9   = element(Chi[1], Chi[2], Chi[4], Chi[6])*np.conjugate(element(Chi[1], Chi[2], Chi[4], Chi[6]))# DUUU\n",
    "M10  = element(Chi[1], Chi[3], Chi[4], Chi[6])*np.conjugate(element(Chi[1], Chi[3], Chi[4], Chi[6]))# DDUU\n",
    "M11  = element(Chi[1], Chi[2], Chi[5], Chi[6])*np.conjugate(element(Chi[1], Chi[2], Chi[5], Chi[6]))# DUDU\n",
    "M12  = element(Chi[1], Chi[2], Chi[4], Chi[7])*np.conjugate(element(Chi[1], Chi[2], Chi[4], Chi[7]))# DUUD\n",
    "M13  = element(Chi[1], Chi[3], Chi[5], Chi[6])*np.conjugate(element(Chi[1], Chi[3], Chi[5], Chi[6]))# DDDU\n",
    "M14  = element(Chi[1], Chi[3], Chi[4], Chi[7])*np.conjugate(element(Chi[1], Chi[3], Chi[4], Chi[7]))# DDUD\n",
    "M15  = element(Chi[1], Chi[3], Chi[5], Chi[7])*np.conjugate(element(Chi[1], Chi[3], Chi[5], Chi[7]))# DDDD\n",
    "M16  = element(Chi[1], Chi[2], Chi[5], Chi[7])*np.conjugate(element(Chi[1], Chi[2], Chi[5], Chi[7]))# DUDD"
   ]
  },
  {
   "cell_type": "code",
   "execution_count": null,
   "metadata": {
    "collapsed": true
   },
   "outputs": [],
   "source": []
  },
  {
   "cell_type": "code",
   "execution_count": null,
   "metadata": {
    "collapsed": true
   },
   "outputs": [],
   "source": []
  },
  {
   "cell_type": "code",
   "execution_count": 39,
   "metadata": {
    "collapsed": true
   },
   "outputs": [],
   "source": [
    "def Msqrd(spinnor):\n",
    "    v0up = spinnor[0]\n",
    "    v0dn = spinnor[1]\n",
    "    v1up = spinnor[2]\n",
    "    v1dn = spinnor[3]\n",
    "    u2up = spinnor[4]\n",
    "    u2dn = spinnor[5]\n",
    "    v3up = spinnor[6]\n",
    "    v3dn = spinnor[7]\n",
    "    \n",
    "    M1   = element(v0up, v1up, u2up, v3up)*np.conjugate(element(v0up, v1up, u2up, v3up))\n",
    "    M2   = element(v0up, v1dn, u2up, v3up)*np.conjugate(element(v0up, v1dn, u2up, v3up))\n",
    "    M3   = element(v0up, v1up, u2dn, v3up)*np.conjugate(element(v0up, v1up, u2dn, v3up))\n",
    "    M4   = element(v0up, v1up, u2up, v3dn)*np.conjugate(element(v0up, v1up, u2up, v3dn))\n",
    "    M5   = element(v0up, v1dn, u2dn, v3up)*np.conjugate(element(v0up, v1dn, u2dn, v3up))\n",
    "    M6   = element(v0up, v1dn, u2up, v3dn)*np.conjugate(element(v0up, v1dn, u2up, v3dn))\n",
    "    M7   = element(v0up, v1dn, u2dn, v3dn)*np.conjugate(element(v0up, v1dn, u2dn, v3dn))\n",
    "    M8   = element(v0up, v1up, u2dn, v3dn)*np.conjugate(element(v0up, v1up, u2dn, v3dn))\n",
    "    M9   = element(v0dn, v1up, u2up, v3up)*np.conjugate(element(v0dn, v1up, u2up, v3up))\n",
    "    M10  = element(v0dn, v1dn, u2up, v3up)*np.conjugate(element(v0dn, v1dn, u2up, v3up))\n",
    "    M11  = element(v0dn, v1up, u2dn, v3up)*np.conjugate(element(v0dn, v1up, u2dn, v3up))\n",
    "    M12  = element(v0dn, v1up, u2up, v3dn)*np.conjugate(element(v0dn, v1up, u2up, v3dn))\n",
    "    M13  = element(v0dn, v1dn, u2dn, v3up)*np.conjugate(element(v0dn, v1dn, u2dn, v3up))\n",
    "    M14  = element(v0dn, v1dn, u2up, v3dn)*np.conjugate(element(v0dn, v1dn, u2up, v3dn))\n",
    "    M15  = element(v0dn, v1dn, u2dn, v3dn)*np.conjugate(element(v0dn, v1dn, u2dn, v3dn))\n",
    "    M16  = element(v0dn, v1up, u2dn, v3dn)*np.conjugate(element(v0dn, v1up, u2dn, v3dn))\n",
    "    Mtot = M1+M2+M3+M4+M5+M6+M7+M8+M9+M10+M11+M12+M13+M14+M15+M16\n",
    "    return Mtot"
   ]
  },
  {
   "cell_type": "code",
   "execution_count": 51,
   "metadata": {
    "collapsed": false
   },
   "outputs": [
    {
     "name": "stdout",
     "output_type": "stream",
     "text": [
      "[[ 11054.67289488+0.j]]\n"
     ]
    }
   ],
   "source": [
    "print(Msqrd(X))"
   ]
  },
  {
   "cell_type": "code",
   "execution_count": 66,
   "metadata": {
    "collapsed": false
   },
   "outputs": [
    {
     "name": "stdout",
     "output_type": "stream",
     "text": [
      "(11054.6728949+0j)\n"
     ]
    }
   ],
   "source": [
    "a = np.asarray(Msqrd(X))[0][0]\n",
    "b = np.asarray(Y)[0]\n",
    "print(a)"
   ]
  },
  {
   "cell_type": "code",
   "execution_count": 67,
   "metadata": {
    "collapsed": false
   },
   "outputs": [
    {
     "data": {
      "text/plain": [
       "(3.4724037284474073e-14+0j)"
      ]
     },
     "execution_count": 67,
     "metadata": {},
     "output_type": "execute_result"
    }
   ],
   "source": [
    "b*a"
   ]
  },
  {
   "cell_type": "code",
   "execution_count": null,
   "metadata": {
    "collapsed": true
   },
   "outputs": [],
   "source": []
  },
  {
   "cell_type": "code",
   "execution_count": null,
   "metadata": {
    "collapsed": true
   },
   "outputs": [],
   "source": []
  },
  {
   "cell_type": "code",
   "execution_count": null,
   "metadata": {
    "collapsed": true
   },
   "outputs": [],
   "source": []
  },
  {
   "cell_type": "code",
   "execution_count": null,
   "metadata": {
    "collapsed": true
   },
   "outputs": [],
   "source": []
  },
  {
   "cell_type": "code",
   "execution_count": null,
   "metadata": {
    "collapsed": true
   },
   "outputs": [],
   "source": []
  },
  {
   "cell_type": "code",
   "execution_count": null,
   "metadata": {
    "collapsed": true
   },
   "outputs": [],
   "source": []
  },
  {
   "cell_type": "code",
   "execution_count": null,
   "metadata": {
    "collapsed": true
   },
   "outputs": [],
   "source": []
  },
  {
   "cell_type": "code",
   "execution_count": null,
   "metadata": {
    "collapsed": true
   },
   "outputs": [],
   "source": []
  },
  {
   "cell_type": "code",
   "execution_count": null,
   "metadata": {
    "collapsed": true
   },
   "outputs": [],
   "source": []
  },
  {
   "cell_type": "code",
   "execution_count": 306,
   "metadata": {
    "collapsed": true
   },
   "outputs": [],
   "source": [
    "def Spinnors(x,y):\n",
    "    p1     = x[0]\n",
    "    theta1 = x[1]\n",
    "    theta2 = x[2]\n",
    "    phi1   = x[3]\n",
    "    phi2   = x[4]\n",
    "    phi3   = y[4]\n",
    "    m0     = y[0]\n",
    "    m1     = y[1]\n",
    "    m2     = y[2]\n",
    "    m3     = y[3]\n",
    "    \n",
    "    p2simp = p1*(np.sin(theta1)*np.cos(phi1))/(np.sin(theta2)*np.cos(phi2)) # get rid of negative\n",
    "    p3simp = np.sqrt((m0-p1-p2simp-m1**2/(2*p1)-m2**2/(2*p2simp))**2 - (m3)**2)\n",
    "    #p3simp = np.sqrt(p1**2+p2simp**2+2*p1*p2simp*(np.cos(theta1)*np.cos(theta2)+np.cos(phi1-phi2)*np.sin(theta1)*np.sin(theta2)))\n",
    "    \n",
    "    #T3simp = np.arccos((p1*np.cos(theta1)+p2simp*np.cos(theta2))/p3simp)\n",
    "    T3simp = np.arcsin((p1*(np.sin(theta1)*np.sin(phi1)+np.cos(theta1))+p2simp*(np.sin(theta2)*np.sin(phi2)+np.cos(theta2)))/p3simp)/np.sqrt(2) - pi/4\n",
    "    \n",
    "    #T3simp = np.arcsin((p1*np.sin(theta1)*np.sin(phi1)+p2simp*np.sin(theta2)*np.sin(phi2))/p3simp)\n",
    "    E1simp = p1 + m1**2/(2*p1)\n",
    "    E2simp = p2simp + m2**2/(2*p2simp)\n",
    "    #E3simp = m0-p1-m1**2/(2*p1)-p2simp-m2**2/(2*p2simp)\n",
    "    E3simp = np.sqrt(p3simp**2+m3**2)\n",
    "\n",
    "    s1 =  np.sin(theta1/2)\n",
    "    s2 =  np.sin(theta2/2)\n",
    "    s3 =  np.sin(T3simp/2)\n",
    "    c1 =  np.cos(theta1/2)\n",
    "    c2 =  np.cos(theta2/2)\n",
    "    c3 =  np.cos(T3simp/2)\n",
    "    ei1 = np.exp(i*phi1)\n",
    "    ei2 = np.exp(i*phi2)\n",
    "    ei3 = np.exp(i*phi3)\n",
    "\n",
    "    AA = (np.sqrt(p1)    -m1/(2*np.sqrt(p1)))\n",
    "    A  = (np.sqrt(p1)    +m1/(2*np.sqrt(p1)))\n",
    "    BB = (np.sqrt(abs(p3simp)) -m3/(2*np.sqrt(abs(p3simp))))\n",
    "    B  = (np.sqrt(abs(p3simp)) +m3/(2*np.sqrt(abs(p3simp))))\n",
    "    CC = (np.sqrt(abs(p2simp)) -m2/(2*np.sqrt(abs(p2simp))))\n",
    "    C  = (np.sqrt(abs(p2simp)) +m2/(2*np.sqrt(abs(p2simp))))\n",
    "\n",
    "    v0up = np.sqrt(2*m0)*np.mat([0,0,0,1])\n",
    "    v0dn = np.sqrt(2*m0)*np.mat([0,0,1,0])\n",
    "\n",
    "    v1up = np.mat([AA*s1,-AA*c1*ei1,-A*s1,A*c1*ei1])\n",
    "    v1dn = np.mat([AA*c1,AA*s1*ei1,A*c1,A*s1*ei1])\n",
    "\n",
    "    con3 = p3simp/(m3+E3simp)\n",
    "    N3   = np.sqrt(abs(E3simp+m3))\n",
    "    v3up = N3*np.mat([con3*s3,-con3*c3*ei3,-s3,c3*ei3])\n",
    "    v3dn = N3*np.mat([con3*c3,con3*s3*ei3,c3,s3*ei3])\n",
    "\n",
    "    u2up = np.mat([C*c2,C*s2*ei2,CC*c2,CC*s2*ei2])\n",
    "    u2dn = np.mat([-C*s2,C*c2*ei2,CC*s2,-CC*c2*ei2])\n",
    "    \n",
    "    dLIPS = 1/(64*(pi)**5*m0)*1/(E1simp*E2simp*E3simp)*p1**2*p2simp**2*p3simp**2*np.sin(theta1)*np.sin(theta2)\n",
    "    \n",
    "    return [v0up, v0dn, v1up, v1dn, u2up, u2dn, v3up, v3dn], [dLIPS]#,[p3simp,E3simp,C3simp,AA,A,BB,B,CC,C,con3,N3]"
   ]
  },
  {
   "cell_type": "code",
   "execution_count": null,
   "metadata": {
    "collapsed": true
   },
   "outputs": [],
   "source": []
  },
  {
   "cell_type": "code",
   "execution_count": null,
   "metadata": {
    "collapsed": true
   },
   "outputs": [],
   "source": []
  },
  {
   "cell_type": "code",
   "execution_count": 390,
   "metadata": {
    "collapsed": true
   },
   "outputs": [],
   "source": [
    "import itertools\n",
    "import math\n",
    "import random\n",
    "import numpy as np\n",
    "import time\n",
    "\n",
    "\n",
    "def integrate(integrand, sampler, measure, n):\n",
    "    # Sum elements and elements squared\n",
    "    total = 0.0\n",
    "    total_sq = 0.0\n",
    "    for x in itertools.islice(sampler, n):\n",
    "        f = integrand(x)\n",
    "        total += f\n",
    "        total_sq += (f**2)\n",
    "    # Return answer\n",
    "    sample_mean = total/n\n",
    "    sample_var = (total_sq - ((total/n)**2)/n)/(n-1.0)\n",
    "    return (measure*sample_mean, measure*math.sqrt(sample_var/n))\n",
    "    #return (measure*sample_mean)"
   ]
  },
  {
   "cell_type": "code",
   "execution_count": 281,
   "metadata": {
    "collapsed": false
   },
   "outputs": [
    {
     "data": {
      "text/plain": [
       "0.0525"
      ]
     },
     "execution_count": 281,
     "metadata": {},
     "output_type": "execute_result"
    }
   ],
   "source": [
    "105e-3/2"
   ]
  },
  {
   "cell_type": "code",
   "execution_count": 336,
   "metadata": {
    "collapsed": false
   },
   "outputs": [
    {
     "ename": "TypeError",
     "evalue": "a float is required",
     "output_type": "error",
     "traceback": [
      "\u001b[0;31m---------------------------------------------------------------------------\u001b[0m",
      "\u001b[0;31mTypeError\u001b[0m                                 Traceback (most recent call last)",
      "\u001b[0;32m<ipython-input-336-52964c357b1f>\u001b[0m in \u001b[0;36m<module>\u001b[0;34m()\u001b[0m\n\u001b[0;32m----> 1\u001b[0;31m \u001b[0mmath\u001b[0m\u001b[0;34m.\u001b[0m\u001b[0misnan\u001b[0m\u001b[0;34m(\u001b[0m\u001b[0;34m'nan'\u001b[0m\u001b[0;34m)\u001b[0m\u001b[0;34m\u001b[0m\u001b[0m\n\u001b[0m",
      "\u001b[0;31mTypeError\u001b[0m: a float is required"
     ]
    }
   ],
   "source": [
    "math.isnan()"
   ]
  },
  {
   "cell_type": "code",
   "execution_count": null,
   "metadata": {
    "collapsed": true
   },
   "outputs": [],
   "source": []
  },
  {
   "cell_type": "code",
   "execution_count": 424,
   "metadata": {
    "collapsed": false
   },
   "outputs": [],
   "source": [
    "\n",
    "def sampler():\n",
    "    while True:\n",
    "        Momentum = random.uniform(0.,(105e-3-511e-6)/2)#half m0 \n",
    "        ThetaOne = random.uniform(0.,math.pi)\n",
    "        ThetaTwo = random.uniform(0.,math.pi)\n",
    "        PhiOne   = random.uniform(0.,2*math.pi)\n",
    "        PhiTwo   = random.uniform(0.,2*math.pi)\n",
    "        \n",
    "        \n",
    "        statementONE = Momentum*(1+(np.sin(ThetaOne)*np.cos(PhiOne))/(np.sin(ThetaTwo)*np.cos(PhiTwo)))\n",
    "        m0= 105e-3; m1=0 ; m2=0 ; m3=511e-6\n",
    "        p2simp = Momentum*(np.sin(ThetaOne)*np.cos(PhiOne))/(np.sin(ThetaTwo)*np.cos(PhiTwo)) # get rid of negative\n",
    "        p3simp = np.sqrt((m0-Momentum-p2simp-m1**2/(2*Momentum)-m2**2/(2*p2simp))**2 - (m3)**2)\n",
    "        \n",
    "        LL = (Momentum*np.sin(ThetaOne)*np.sin(PhiOne)+p2simp*np.sin(ThetaTwo)*np.sin(PhiTwo))/p3simp\n",
    "        RR = (Momentum*np.cos(ThetaOne)+p2simp*np.cos(ThetaTwo))/p3simp\n",
    "        \n",
    "        #T3L = np.arcsin(LL)\n",
    "        #T3R = np.arccos(RR)\n",
    "        \n",
    "        #statementTWO\n",
    "        if (105e-3-511e-6)>=statementONE and abs(LL)<=1 and abs(RR)<=1:\n",
    "            T3L = np.arcsin(LL)\n",
    "            T3R = np.arccos(RR)\n",
    "            if T3L==T3R:\n",
    "                yield [Momentum, ThetaOne, ThetaTwo, PhiOne, PhiTwo]\n",
    "                #return [Momentum, ThetaOne, ThetaTwo, PhiOne, PhiTwo]\n",
    "            \n",
    "        else:\n",
    "            break\n",
    "\n",
    "domainsize = math.pow(math.pi,4)*4*(105e-3-511e-6)/2\n",
    "\n",
    "\n",
    "def integrand(x):\n",
    "    Momentum = x[0]\n",
    "    ThetaOne = x[1]\n",
    "    ThetaTwo = x[2]\n",
    "    PhiOne   = x[3]\n",
    "    PhiTwo   = x[4]\n",
    "    masses   = [105e-3, 0.0, 0.0, 511e-6, pi/2]\n",
    "    Values   = [Momentum, ThetaOne, ThetaTwo, PhiOne, PhiTwo]\n",
    "    \n",
    "    X ,Y= Spinnors(Values, masses)\n",
    "    MSQRD = np.asarray(Msqrd(X))[0][0]\n",
    "    DLIPS = np.asarray(Y)[0]\n",
    "    VAL = MSQRD*DLIPS\n",
    "    return VAL\n"
   ]
  },
  {
   "cell_type": "code",
   "execution_count": null,
   "metadata": {
    "collapsed": false
   },
   "outputs": [],
   "source": []
  },
  {
   "cell_type": "code",
   "execution_count": 395,
   "metadata": {
    "collapsed": true
   },
   "outputs": [],
   "source": [
    "def integrate(integrand, sampler, measure, n):\n",
    "    # Sum elements and elements squared\n",
    "    total = 0.0\n",
    "    total_sq = 0.0\n",
    "    for x in itertools.islice(sampler, n):\n",
    "        f = integrand(x)\n",
    "        total += f\n",
    "        total_sq += (f**2)\n",
    "    # Return answer\n",
    "    sample_mean = total/n\n",
    "    sample_var = (total_sq - ((total/n)**2)/n)/(n-1.0)\n",
    "    return (measure*sample_mean, measure*math.sqrt(sample_var/n))"
   ]
  },
  {
   "cell_type": "code",
   "execution_count": 415,
   "metadata": {
    "collapsed": false
   },
   "outputs": [],
   "source": [
    "sampler()"
   ]
  },
  {
   "cell_type": "code",
   "execution_count": null,
   "metadata": {
    "collapsed": true
   },
   "outputs": [],
   "source": []
  },
  {
   "cell_type": "code",
   "execution_count": null,
   "metadata": {
    "collapsed": true
   },
   "outputs": [],
   "source": []
  },
  {
   "cell_type": "code",
   "execution_count": null,
   "metadata": {
    "collapsed": true
   },
   "outputs": [],
   "source": []
  },
  {
   "cell_type": "code",
   "execution_count": 431,
   "metadata": {
    "collapsed": false
   },
   "outputs": [],
   "source": [
    "def sampler():\n",
    "    while True:\n",
    "        Momentum = random.uniform(0.,(105e-3-511e-6)/2)#half m0 \n",
    "        ThetaOne = random.uniform(0.,pi)\n",
    "        ThetaTwo = random.uniform(0.,pi)\n",
    "        PhiOne   = random.uniform(0.,2*pi)\n",
    "        PhiTwo   = random.uniform(0.,2*pi)\n",
    "        \n",
    "        yield [Momentum, ThetaOne, ThetaTwo, PhiOne, PhiTwo]\n",
    "                #return [Momentum, ThetaOne, ThetaTwo, PhiOne, PhiTwo]"
   ]
  },
  {
   "cell_type": "code",
   "execution_count": 432,
   "metadata": {
    "collapsed": false
   },
   "outputs": [
    {
     "name": "stdout",
     "output_type": "stream",
     "text": [
      "[0.0005488938441294943, 2.653320923281322, 3.0156538757270717, 3.9128930288427353, 2.3055316555185406]\n",
      "[0.006547294073475297, 1.1007036624405586, 2.583783870181308, 2.020398768536169, 3.5822530060421625]\n",
      "[0.036427745469686, 0.4905567797252771, 2.700951736331573, 5.899758167729245, 2.3876766238432197]\n",
      "[0.04741969985085292, 1.56736063993642, 2.5563549698779324, 1.7507352282621542, 1.5433197393791822]\n",
      "[0.005798872101642003, 1.7443854690024918, 0.8852487627364933, 3.9049623163329636, 3.327706142440374]\n",
      "[0.009837245116449561, 3.0632146778760703, 0.17784890287031124, 1.7510911780666254, 5.382157456723074]\n",
      "[0.023259137861403996, 1.267213344225984, 0.3368837819103151, 3.2729787501143597, 2.5930966778132603]\n",
      "[0.03900964616666455, 2.837748919004133, 2.5443295420469045, 3.4873280277919387, 3.4506485566749507]\n",
      "[0.05013594129442361, 2.394228504858144, 2.63798977855874, 6.175250596822639, 0.7634153984321687]\n",
      "[0.04272852663258646, 2.321939738590168, 1.613910503108348, 0.27849734988276237, 4.338136264034431]\n",
      "[0.003067045347458553, 2.5134205313036615, 1.567047392629165, 2.8042277498589248, 1.874155185417366]\n",
      "[0.03931458219023982, 0.31954544224584414, 1.1094724304736718, 3.966937320758785, 3.6330445373355524]\n",
      "[0.04872844234647607, 1.345220276504761, 0.4546571851495474, 0.6731107058813678, 0.2789218560637969]\n",
      "[0.01736361693938335, 2.465150089768574, 1.979212370480595, 3.6405268054385753, 2.2360917847669173]\n",
      "[0.010506908319728756, 1.0882258518823629, 0.010378771114304585, 5.695346715228836, 4.694979121504797]\n"
     ]
    }
   ],
   "source": [
    "for x in itertools.islice(sampler(), 15):\n",
    "    print(x)"
   ]
  },
  {
   "cell_type": "code",
   "execution_count": null,
   "metadata": {
    "collapsed": true
   },
   "outputs": [],
   "source": [
    "PassValues=[]"
   ]
  },
  {
   "cell_type": "code",
   "execution_count": 449,
   "metadata": {
    "collapsed": false
   },
   "outputs": [
    {
     "name": "stderr",
     "output_type": "stream",
     "text": [
      "//anaconda/envs/py35/lib/python3.5/site-packages/ipykernel/__main__.py:14: RuntimeWarning: invalid value encountered in sqrt\n"
     ]
    },
    {
     "name": "stdout",
     "output_type": "stream",
     "text": [
      "[0.019886424576072342, 1.3784292136740133, 0.7614059123480841, 6.123856967283406, 0.8835065734461948]\n",
      "[0.03340074645549017, 1.5580276715509964, 1.2385513790852503, 2.5359216799394773, 2.5939374457178532]\n",
      "[0.050021720698696544, 0.28155145296035566, 1.586434582631597, 1.9337021772758807, 3.769395008093194]\n",
      "1.517607409606619\n"
     ]
    }
   ],
   "source": [
    "t1 = time.time()\n",
    "\n",
    "for x in itertools.islice(sampler(), 150000):\n",
    "    p1 = x[0]\n",
    "    t1 = x[1] \n",
    "    t2 = x[2]\n",
    "    phi1 = x[3]\n",
    "    phi2  = x[4]\n",
    "\n",
    "\n",
    "    statementONE = p1*(1+(np.sin(t1)*np.cos(phi1))/(np.sin(t2)*np.cos(phi2)))\n",
    "    m0= 105e-3; m1=0 ; m2=0 ; m3=511e-6\n",
    "    p2simp = p1*(np.sin(t1)*np.cos(phi1))/(np.sin(t2)*np.cos(phi2)) # get rid of negative\n",
    "    p3simp = np.sqrt((m0-p1-p2simp-m1**2/(2*p1)-m2**2/(2*p2simp))**2 - (m3)**2)\n",
    "\n",
    "    LL = (p1*np.sin(t1)*np.sin(phi1)+p2simp*np.sin(t2)*np.sin(phi2))/p3simp\n",
    "    RR = (p1*np.cos(t1)+p2simp*np.cos(t2))/p3simp\n",
    "\n",
    "    #T3L = np.arcsin(LL)\n",
    "    #T3R = np.arccos(RR)\n",
    "\n",
    "    #statementTWO\n",
    "    if (105e-3-511e-6)>=statementONE and abs(LL)<=1 and abs(RR)<=1:\n",
    "        #print([p1, t1, t2, phi1, phi2])\n",
    "        T3L = np.arcsin(LL)\n",
    "        T3R = np.arccos(RR)\n",
    "        #if T3L==T3R:\n",
    "        if abs(T3L-T3R)<=1e-3:\n",
    "            PaVal\n",
    "            #print([p1, t1, t2, phi1, phi2])\n",
    "            \n",
    "t2 = time.time()\n",
    "print((t2-t1)*1e-9)"
   ]
  },
  {
   "cell_type": "code",
   "execution_count": null,
   "metadata": {
    "collapsed": true
   },
   "outputs": [],
   "source": []
  },
  {
   "cell_type": "code",
   "execution_count": 507,
   "metadata": {
    "collapsed": true
   },
   "outputs": [],
   "source": [
    "P3TEST=[]\n",
    "P2TEST=[]\n",
    "P1TEST=[]\n",
    "T1TEST=[]\n",
    "T2TEST=[]\n",
    "T3TEST=[]\n",
    "Phi1TEST=[]\n",
    "Phi2TEST=[]"
   ]
  },
  {
   "cell_type": "code",
   "execution_count": null,
   "metadata": {
    "collapsed": true
   },
   "outputs": [],
   "source": [
    "p3TEst = np.sqrt(p1**2+p2simp**2+2*p1*p2simp*(np.cos(theta1)*np.cos(theta2)+np.cos(phi1-phi2)*np.sin(theta1)*np.sin(theta2)))"
   ]
  },
  {
   "cell_type": "code",
   "execution_count": 566,
   "metadata": {
    "collapsed": false
   },
   "outputs": [
    {
     "name": "stderr",
     "output_type": "stream",
     "text": [
      "//anaconda/envs/py35/lib/python3.5/site-packages/ipykernel/__main__.py:14: RuntimeWarning: invalid value encountered in sqrt\n"
     ]
    }
   ],
   "source": [
    "Number = 10000000\n",
    "m0= 105e-3; m1=0 ; m2=0 ; m3=511e-6\n",
    "for x in itertools.islice(sampler(), Number):\n",
    "    p1   = x[0]\n",
    "    t1   = x[1] \n",
    "    t2   = x[2]\n",
    "    phi1 = x[3]\n",
    "    phi2 = x[4]\n",
    "\n",
    "    statementONE = p1*(1+(np.sin(t1)*np.cos(phi1))/(np.sin(t2)*np.cos(phi2)))\n",
    "    p2simp = p1*(np.sin(t1)*np.cos(phi1))/(np.sin(t2)*np.cos(phi2)) # get rid of negative\n",
    "    p3simp = np.sqrt((m0-p1-p2simp-m1**2/(2*p1)-m2**2/(2*p2simp))**2 - (m3)**2)\n",
    "    LL = (p1*np.sin(t1)*np.sin(phi1)+p2simp*np.sin(t2)*np.sin(phi2))/p3simp\n",
    "    RR = (p1*np.cos(t1)+p2simp*np.cos(t2))/p3simp\n",
    "    #p3TEst = np.sqrt(p1**2+p2simp**2+2*p1*p2simp*(np.cos(t1)*np.cos(t2)+np.cos(phi1-phi2)*np.sin(t1)*np.sin(t2)))\n",
    "\n",
    "    if (105e-3-511e-6)>=statementONE and abs(LL)<=1 and abs(RR)<=1 and p2simp<105e-3/2 and p3simp<105e-3/2:\n",
    "        T3L = np.arcsin(LL)\n",
    "        T3R = np.arccos(RR)\n",
    "        if abs(T3L-T3R)<=1e-3:\n",
    "            \n",
    "            P3TEST.append(p3simp)\n",
    "            P2TEST.append(p2simp)\n",
    "            P1TEST.append(p1)\n",
    "            T1TEST.append(t1)\n",
    "            T2TEST.append(t2)\n",
    "            T3TEST.append((T3L+T3R)/2)\n",
    "            Phi1TEST.append(phi1)\n",
    "            Phi2TEST.append(phi2)\n",
    "            #print([p1, t1, t2, phi1, phi2])\n",
    "            "
   ]
  },
  {
   "cell_type": "code",
   "execution_count": 577,
   "metadata": {
    "collapsed": true
   },
   "outputs": [],
   "source": [
    "STUFF = [P1TEST, P2TEST, P3TEST, T1TEST, T2TEST, T3TEST, Phi1TEST, Phi2TEST]\n",
    "np.savetxt('/Users/austinmcdonald/Desktop/muonium-vals.txt', np.transpose(STUFF), delimiter=',')   # x,y,z equal sized 1D arrays"
   ]
  },
  {
   "cell_type": "code",
   "execution_count": 567,
   "metadata": {
    "collapsed": false
   },
   "outputs": [
    {
     "data": {
      "text/plain": [
       "760"
      ]
     },
     "execution_count": 567,
     "metadata": {},
     "output_type": "execute_result"
    }
   ],
   "source": [
    "len(P3TEST)"
   ]
  },
  {
   "cell_type": "code",
   "execution_count": null,
   "metadata": {
    "collapsed": true
   },
   "outputs": [],
   "source": []
  },
  {
   "cell_type": "code",
   "execution_count": 572,
   "metadata": {
    "collapsed": false
   },
   "outputs": [
    {
     "data": {
      "image/png": "[encoded data removed]",
      "text/plain": [
       "<matplotlib.figure.Figure at 0x10f968be0>"
      ]
     },
     "metadata": {},
     "output_type": "display_data"
    }
   ],
   "source": [
    "plt.figure(figsize=(7,7))\n",
    "num =40\n",
    "#plt.title(r'',fontsize=20)\n",
    "plt.hist(P3TEST,label='Electron',alpha=0.4,color='b',bins=np.linspace(0,105e-3/2,num))\n",
    "plt.hist(P2TEST,label='nu e',alpha=0.4,color='g',bins=np.linspace(0,105e-3/2,num))\n",
    "plt.hist(P1TEST,label='nu mu',alpha=0.4,color='r',bins=np.linspace(0,105e-3/2,num))\n",
    "\n",
    "plt.xlabel('Momentum / GeV',fontsize=20)\n",
    "plt.ylabel(\"counts\",fontsize=20)\n",
    "\n",
    "plt.xlim(0,105e-3/2)\n",
    "#plt.ylim(0,90)\n",
    "plt.legend(loc='upper left',fontsize=24,shadow=True, fancybox=True)\n",
    "plt.tight_layout()\n",
    "plt.grid(True)\n",
    "#plt.savefig('/Users/austinmcdonald/Desktop/fitting/'+'chihistRAND-cutwhole')\n",
    "plt.show()"
   ]
  },
  {
   "cell_type": "code",
   "execution_count": null,
   "metadata": {
    "collapsed": true
   },
   "outputs": [],
   "source": []
  },
  {
   "cell_type": "code",
   "execution_count": 574,
   "metadata": {
    "collapsed": false
   },
   "outputs": [
    {
     "data": {
      "image/png": "[encoded data removed]",
      "text/plain": [
       "<matplotlib.figure.Figure at 0x110b428d0>"
      ]
     },
     "metadata": {},
     "output_type": "display_data"
    }
   ],
   "source": [
    "plt.figure(figsize=(7,7))\n",
    "num =30\n",
    "#plt.title(r'',fontsize=20)\n",
    "plt.hist(T3TEST,label='theta3',alpha=0.4,color='b',bins=np.linspace(0,pi,num))\n",
    "plt.hist(T2TEST,label='theta2',alpha=0.4,color='g',bins=np.linspace(0,pi,num))\n",
    "plt.hist(T1TEST,label='theta1',alpha=0.4,color='r',bins=np.linspace(0,pi,num))\n",
    "\n",
    "plt.xlabel('polar angle ',fontsize=20)\n",
    "plt.ylabel(\"counts\",fontsize=20)\n",
    "plt.xlim(0,pi)\n",
    "#plt.ylim(0,90)\n",
    "plt.legend(loc='upper right',fontsize=24,shadow=True, fancybox=True)\n",
    "plt.tight_layout()\n",
    "plt.grid(True)\n",
    "#plt.savefig('/Users/austinmcdonald/Desktop/fitting/'+'chihistRAND-cutwhole')\n",
    "plt.show()"
   ]
  },
  {
   "cell_type": "code",
   "execution_count": null,
   "metadata": {
    "collapsed": true
   },
   "outputs": [],
   "source": []
  },
  {
   "cell_type": "code",
   "execution_count": 575,
   "metadata": {
    "collapsed": false
   },
   "outputs": [
    {
     "data": {
      "image/png": "[encoded data removed]",
      "text/plain": [
       "<matplotlib.figure.Figure at 0x1044a1240>"
      ]
     },
     "metadata": {},
     "output_type": "display_data"
    }
   ],
   "source": [
    "plt.figure(figsize=(7,7))\n",
    "num =30\n",
    "#plt.title(r'',fontsize=20)\n",
    "plt.hist(Phi2TEST,label='phi2',alpha=0.4,color='g',bins=np.linspace(0,2*pi,num))\n",
    "plt.hist(Phi1TEST,label='phi1',alpha=0.4,color='r',bins=np.linspace(0,2*pi,num))\n",
    "\n",
    "plt.xlabel('azimuthal angle ',fontsize=20)\n",
    "plt.ylabel(\"counts\",fontsize=20)\n",
    "plt.xlim(0,2*pi)\n",
    "#plt.ylim(0,90)\n",
    "plt.legend(loc='upper right',fontsize=24,shadow=True, fancybox=True)\n",
    "plt.tight_layout()\n",
    "plt.grid(True)\n",
    "#plt.savefig('/Users/austinmcdonald/Desktop/fitting/'+'chihistRAND-cutwhole')\n",
    "plt.show()"
   ]
  },
  {
   "cell_type": "code",
   "execution_count": null,
   "metadata": {
    "collapsed": true
   },
   "outputs": [],
   "source": []
  },
  {
   "cell_type": "code",
   "execution_count": null,
   "metadata": {
    "collapsed": true
   },
   "outputs": [],
   "source": []
  },
  {
   "cell_type": "code",
   "execution_count": 552,
   "metadata": {
    "collapsed": true
   },
   "outputs": [],
   "source": [
    "def Spinnors(x,y):\n",
    "    p1     = x[0]\n",
    "    p2     = x[1]\n",
    "    p3     = x[2]\n",
    "    theta1 = x[3]\n",
    "    theta2 = x[4]\n",
    "    theta3 = x[5]\n",
    "    phi1   = x[6]\n",
    "    phi2   = x[7]\n",
    "    phi3   = y[4]\n",
    "    m0     = y[0]\n",
    "    m1     = y[1]\n",
    "    m2     = y[2]\n",
    "    m3     = y[3]\n",
    "    \n",
    "    #T3simp = np.arcsin((p1*np.sin(theta1)*np.sin(phi1)+p2simp*np.sin(theta2)*np.sin(phi2))/p3simp)\n",
    "    E1 = p1 + m1**2/(2*p1)\n",
    "    E2 = p2 + m2**2/(2*p2)\n",
    "    #E3simp = m0-p1-m1**2/(2*p1)-p2simp-m2**2/(2*p2simp)\n",
    "    E3 = np.sqrt(p3**2+m3**2)\n",
    "\n",
    "    s1 =  np.sin(theta1/2)\n",
    "    s2 =  np.sin(theta2/2)\n",
    "    s3 =  np.sin(theta3/2)\n",
    "    c1 =  np.cos(theta1/2)\n",
    "    c2 =  np.cos(theta2/2)\n",
    "    c3 =  np.cos(theta3/2)\n",
    "    ei1 = np.exp(i*phi1)\n",
    "    ei2 = np.exp(i*phi2)\n",
    "    ei3 = np.exp(i*phi3)\n",
    "\n",
    "    AA = (np.sqrt(p1) -m1/(2*np.sqrt(p1)))\n",
    "    A  = (np.sqrt(p1) +m1/(2*np.sqrt(p1)))\n",
    "    BB = (np.sqrt(p3) -m3/(2*np.sqrt(p3)))\n",
    "    B  = (np.sqrt(p3) +m3/(2*np.sqrt(p3)))\n",
    "    CC = (np.sqrt(p2) -m2/(2*np.sqrt(p2)))\n",
    "    C  = (np.sqrt(p2) +m2/(2*np.sqrt(p2)))\n",
    "\n",
    "    v0up = np.sqrt(2*m0)*np.mat([0,0,0,1])\n",
    "    v0dn = np.sqrt(2*m0)*np.mat([0,0,1,0])\n",
    "\n",
    "    v1up = np.mat([AA*s1,-AA*c1*ei1,-A*s1,A*c1*ei1])\n",
    "    v1dn = np.mat([AA*c1,AA*s1*ei1,A*c1,A*s1*ei1])\n",
    "\n",
    "    con3 = p3/(m3+E3)\n",
    "    N3   = np.sqrt(E3+m3)\n",
    "    v3up = N3*np.mat([con3*s3,-con3*c3*ei3,-s3,c3*ei3])\n",
    "    v3dn = N3*np.mat([con3*c3,con3*s3*ei3,c3,s3*ei3])\n",
    "\n",
    "    u2up = np.mat([C*c2,C*s2*ei2,CC*c2,CC*s2*ei2])\n",
    "    u2dn = np.mat([-C*s2,C*c2*ei2,CC*s2,-CC*c2*ei2])\n",
    "    \n",
    "    dLIPS = 1/(64*(pi)**5*m0)*1/(E1*E2*E3)*p1**2*p2**2*p3**2*np.sin(theta1)*np.sin(theta2)\n",
    "    \n",
    "    return [v0up, v0dn, v1up, v1dn, u2up, u2dn, v3up, v3dn], [dLIPS]#,[p3simp,E3simp,C3simp,AA,A,BB,B,CC,C,con3,N3]"
   ]
  },
  {
   "cell_type": "code",
   "execution_count": null,
   "metadata": {
    "collapsed": true
   },
   "outputs": [],
   "source": []
  },
  {
   "cell_type": "code",
   "execution_count": 553,
   "metadata": {
    "collapsed": true
   },
   "outputs": [],
   "source": [
    "def integrand(x):\n",
    "    P1 = x[0]\n",
    "    P2 = x[1]\n",
    "    P3 = x[2]\n",
    "    T1 = x[3]\n",
    "    T2 = x[4]\n",
    "    T3 = x[5]\n",
    "    Ph1 = x[6]\n",
    "    Ph2 = x[7]\n",
    "    masses   = [105e-3, 0.0, 0.0, 511e-6, pi/2]\n",
    "    Values   = [P1,P2,P3,T1,T2,T3,Ph1,Ph2]\n",
    "    \n",
    "    X ,Y= Spinnors(Values, masses)\n",
    "    MSQRD = np.asarray(Msqrd(X))[0][0]\n",
    "    DLIPS = np.asarray(Y)[0]\n",
    "    VAL = MSQRD*DLIPS\n",
    "    return VAL"
   ]
  },
  {
   "cell_type": "code",
   "execution_count": null,
   "metadata": {
    "collapsed": true
   },
   "outputs": [],
   "source": [
    "STUFF = [P1TEST, P2TEST, P3TEST, T1TEST, T2TEST, T3TEST, Phi1TEST, Phi2TEST]\n"
   ]
  },
  {
   "cell_type": "code",
   "execution_count": 578,
   "metadata": {
    "collapsed": false
   },
   "outputs": [
    {
     "name": "stdout",
     "output_type": "stream",
     "text": [
      "[ 0.04736981  0.00610217  0.05152549  0.15106971  0.93372499  0.20364455\n",
      "  1.99633193  2.21424385]\n"
     ]
    }
   ],
   "source": [
    "a = STUFF\n",
    "a = np.array(a)\n",
    "print( na[:,0])"
   ]
  },
  {
   "cell_type": "code",
   "execution_count": null,
   "metadata": {
    "collapsed": true
   },
   "outputs": [],
   "source": []
  },
  {
   "cell_type": "code",
   "execution_count": 582,
   "metadata": {
    "collapsed": false
   },
   "outputs": [],
   "source": [
    "a = STUFF\n",
    "a = np.array(a)\n",
    "length = len(P1TEST)\n",
    "total = 0.0\n",
    "total_sq = 0.0\n",
    "for x in range(0,length):\n",
    "    FF = a[:,x]\n",
    "    f = integrand(FF)\n",
    "    total += f\n",
    "    total_sq += (f**2)\n",
    "sample_mean = total/length\n",
    "#sample_var = (total_sq - ((total/length)**2)/length)/(length-1.0)\n",
    "sample_var = np.sqrt((total_sq - total**2)/(length-1))"
   ]
  },
  {
   "cell_type": "code",
   "execution_count": 583,
   "metadata": {
    "collapsed": false
   },
   "outputs": [
    {
     "data": {
      "text/plain": [
       "(3.4760216997663605e-21+0j)"
      ]
     },
     "execution_count": 583,
     "metadata": {},
     "output_type": "execute_result"
    }
   ],
   "source": [
    "sample_mean*domainsize"
   ]
  },
  {
   "cell_type": "code",
   "execution_count": 581,
   "metadata": {
    "collapsed": false
   },
   "outputs": [
    {
     "data": {
      "text/plain": [
       "(2.2478108957222894e-42+0j)"
      ]
     },
     "execution_count": 581,
     "metadata": {},
     "output_type": "execute_result"
    }
   ],
   "source": [
    "sample_var*domainsize"
   ]
  },
  {
   "cell_type": "code",
   "execution_count": 584,
   "metadata": {
    "collapsed": false
   },
   "outputs": [
    {
     "data": {
      "text/plain": [
       "9.5651522703870228e-20j"
      ]
     },
     "execution_count": 584,
     "metadata": {},
     "output_type": "execute_result"
    }
   ],
   "source": [
    "sample_var*domainsize"
   ]
  },
  {
   "cell_type": "code",
   "execution_count": 586,
   "metadata": {
    "collapsed": false
   },
   "outputs": [
    {
     "data": {
      "text/plain": [
       "(3.4760216997663605e-21+9.5651522703870228e-20j)"
      ]
     },
     "execution_count": 586,
     "metadata": {},
     "output_type": "execute_result"
    }
   ],
   "source": [
    "sample_mean*domainsize + sample_var*domainsize"
   ]
  },
  {
   "cell_type": "code",
   "execution_count": null,
   "metadata": {
    "collapsed": true
   },
   "outputs": [],
   "source": []
  },
  {
   "cell_type": "code",
   "execution_count": 560,
   "metadata": {
    "collapsed": true
   },
   "outputs": [],
   "source": [
    "X ,Y= Spinnors(a[:,6], masses)\n",
    "MSQRD = np.asarray(Msqrd(X))[0][0]\n",
    "DLIPS = np.asarray(Y)[0]\n",
    "VAL = MSQRD*DLIPS"
   ]
  },
  {
   "cell_type": "code",
   "execution_count": 561,
   "metadata": {
    "collapsed": false
   },
   "outputs": [
    {
     "data": {
      "text/plain": [
       "(4.8291172611672352e-15+0j)"
      ]
     },
     "execution_count": 561,
     "metadata": {},
     "output_type": "execute_result"
    }
   ],
   "source": [
    "MSQRD"
   ]
  },
  {
   "cell_type": "code",
   "execution_count": 562,
   "metadata": {
    "collapsed": false
   },
   "outputs": [
    {
     "data": {
      "text/plain": [
       "1.3969853056865219e-08"
      ]
     },
     "execution_count": 562,
     "metadata": {},
     "output_type": "execute_result"
    }
   ],
   "source": [
    "DLIPS"
   ]
  },
  {
   "cell_type": "code",
   "execution_count": 563,
   "metadata": {
    "collapsed": false
   },
   "outputs": [
    {
     "data": {
      "text/plain": [
       "20.356357026103755"
      ]
     },
     "execution_count": 563,
     "metadata": {},
     "output_type": "execute_result"
    }
   ],
   "source": [
    "domainsize = math.pow(math.pi,4)*4*(105e-3-511e-6)/2\n",
    "domainsize"
   ]
  },
  {
   "cell_type": "code",
   "execution_count": null,
   "metadata": {
    "collapsed": true
   },
   "outputs": [],
   "source": []
  },
  {
   "cell_type": "code",
   "execution_count": null,
   "metadata": {
    "collapsed": true
   },
   "outputs": [],
   "source": []
  },
  {
   "cell_type": "code",
   "execution_count": null,
   "metadata": {
    "collapsed": true
   },
   "outputs": [],
   "source": [
    "def integrate(integrand,QW, measure, n):\n",
    "    # Sum elements and elements squared\n",
    "    total = 0.0\n",
    "    total_sq = 0.0\n",
    "    for x in range(0,n):\n",
    "        \n",
    "        f = integrand(x)\n",
    "        total += f\n",
    "        total_sq += (f**2)\n",
    "    # Return answer\n",
    "    sample_mean = total/n\n",
    "    sample_var = (total_sq - ((total/n)**2)/n)/(n-1.0)\n",
    "    return (measure*sample_mean, measure*math.sqrt(sample_var/n))"
   ]
  },
  {
   "cell_type": "code",
   "execution_count": null,
   "metadata": {
    "collapsed": true
   },
   "outputs": [],
   "source": []
  },
  {
   "cell_type": "code",
   "execution_count": null,
   "metadata": {
    "collapsed": true
   },
   "outputs": [],
   "source": []
  },
  {
   "cell_type": "code",
   "execution_count": null,
   "metadata": {
    "collapsed": true
   },
   "outputs": [],
   "source": []
  },
  {
   "cell_type": "code",
   "execution_count": null,
   "metadata": {
    "collapsed": true
   },
   "outputs": [],
   "source": []
  },
  {
   "cell_type": "code",
   "execution_count": null,
   "metadata": {
    "collapsed": true
   },
   "outputs": [],
   "source": []
  },
  {
   "cell_type": "code",
   "execution_count": null,
   "metadata": {
    "collapsed": true
   },
   "outputs": [],
   "source": []
  },
  {
   "cell_type": "code",
   "execution_count": null,
   "metadata": {
    "collapsed": true
   },
   "outputs": [],
   "source": []
  },
  {
   "cell_type": "code",
   "execution_count": null,
   "metadata": {
    "collapsed": true
   },
   "outputs": [],
   "source": []
  },
  {
   "cell_type": "code",
   "execution_count": null,
   "metadata": {
    "collapsed": true
   },
   "outputs": [],
   "source": []
  },
  {
   "cell_type": "code",
   "execution_count": null,
   "metadata": {
    "collapsed": true
   },
   "outputs": [],
   "source": []
  },
  {
   "cell_type": "code",
   "execution_count": null,
   "metadata": {
    "collapsed": true
   },
   "outputs": [],
   "source": []
  },
  {
   "cell_type": "code",
   "execution_count": null,
   "metadata": {
    "collapsed": true
   },
   "outputs": [],
   "source": []
  },
  {
   "cell_type": "code",
   "execution_count": null,
   "metadata": {
    "collapsed": true
   },
   "outputs": [],
   "source": []
  },
  {
   "cell_type": "code",
   "execution_count": null,
   "metadata": {
    "collapsed": true
   },
   "outputs": [],
   "source": []
  },
  {
   "cell_type": "code",
   "execution_count": null,
   "metadata": {
    "collapsed": true
   },
   "outputs": [],
   "source": []
  },
  {
   "cell_type": "code",
   "execution_count": null,
   "metadata": {
    "collapsed": true
   },
   "outputs": [],
   "source": []
  },
  {
   "cell_type": "code",
   "execution_count": 504,
   "metadata": {
    "collapsed": false
   },
   "outputs": [
    {
     "data": {
      "image/png": "[encoded data removed]",
      "text/plain": [
       "<matplotlib.figure.Figure at 0x10f8bb5f8>"
      ]
     },
     "metadata": {},
     "output_type": "display_data"
    }
   ],
   "source": [
    "plt.figure(figsize=(7,7))\n",
    "num =20\n",
    "#plt.title(r'',fontsize=20)\n",
    "plt.hist(P3TEST2,alpha=0.4,color='b')\n",
    "plt.hist(P3TEST1,alpha=0.4,color='g')\n",
    "\n",
    "#plt.xlim(0,105e-3/2)\n",
    "#plt.ylim(0,90)\n",
    "plt.tight_layout()\n",
    "plt.grid(True)\n",
    "#plt.savefig('/Users/austinmcdonald/Desktop/fitting/'+'chihistRAND-cutwhole')\n",
    "plt.show()"
   ]
  },
  {
   "cell_type": "code",
   "execution_count": null,
   "metadata": {
    "collapsed": true
   },
   "outputs": [],
   "source": []
  },
  {
   "cell_type": "code",
   "execution_count": 500,
   "metadata": {
    "collapsed": false
   },
   "outputs": [
    {
     "data": {
      "image/png": "[encoded data removed]",
      "text/plain": [
       "<matplotlib.figure.Figure at 0x111d7dc50>"
      ]
     },
     "metadata": {},
     "output_type": "display_data"
    }
   ],
   "source": [
    "plt.figure(figsize=(7,7))\n",
    "num =20\n",
    "#plt.title(r'',fontsize=20)\n",
    "plt.hist(P3TEST2,label='Electron',alpha=0.4,color='b',bins=np.linspace(0,105e-3/2,num))\n",
    "plt.hist(P2TEST2,label='nu e',alpha=0.4,color='g',bins=np.linspace(0,105e-3/2,num))\n",
    "plt.hist(P1TEST2,label='nu mu',alpha=0.4,color='r',bins=np.linspace(0,105e-3/2,num))\n",
    "\n",
    "plt.xlim(0,105e-3/2)\n",
    "#plt.ylim(0,90)\n",
    "plt.legend(loc='upper left',fontsize=24,shadow=True, fancybox=True)\n",
    "plt.tight_layout()\n",
    "plt.grid(True)\n",
    "#plt.savefig('/Users/austinmcdonald/Desktop/fitting/'+'chihistRAND-cutwhole')\n",
    "plt.show()"
   ]
  },
  {
   "cell_type": "code",
   "execution_count": 506,
   "metadata": {
    "collapsed": false
   },
   "outputs": [
    {
     "data": {
      "text/plain": [
       "0.002420008781679021"
      ]
     },
     "execution_count": 506,
     "metadata": {},
     "output_type": "execute_result"
    }
   ],
   "source": [
    "min(P1TEST2)"
   ]
  },
  {
   "cell_type": "code",
   "execution_count": 473,
   "metadata": {
    "collapsed": false
   },
   "outputs": [
    {
     "data": {
      "text/plain": [
       "0.0525"
      ]
     },
     "execution_count": 473,
     "metadata": {},
     "output_type": "execute_result"
    }
   ],
   "source": [
    "105e-3/2"
   ]
  },
  {
   "cell_type": "code",
   "execution_count": null,
   "metadata": {
    "collapsed": true
   },
   "outputs": [],
   "source": []
  },
  {
   "cell_type": "code",
   "execution_count": 396,
   "metadata": {
    "collapsed": false
   },
   "outputs": [
    {
     "ename": "TypeError",
     "evalue": "'generator' object is not subscriptable",
     "output_type": "error",
     "traceback": [
      "\u001b[0;31m---------------------------------------------------------------------------\u001b[0m",
      "\u001b[0;31mTypeError\u001b[0m                                 Traceback (most recent call last)",
      "\u001b[0;32m<ipython-input-396-07e1953c51ef>\u001b[0m in \u001b[0;36m<module>\u001b[0;34m()\u001b[0m\n\u001b[1;32m      1\u001b[0m \u001b[0mt1\u001b[0m \u001b[0;34m=\u001b[0m \u001b[0mtime\u001b[0m\u001b[0;34m.\u001b[0m\u001b[0mtime\u001b[0m\u001b[0;34m(\u001b[0m\u001b[0;34m)\u001b[0m\u001b[0;34m\u001b[0m\u001b[0m\n\u001b[0;32m----> 2\u001b[0;31m \u001b[0mprint\u001b[0m\u001b[0;34m(\u001b[0m\u001b[0mintegrate\u001b[0m\u001b[0;34m(\u001b[0m\u001b[0mintegrand\u001b[0m\u001b[0;34m,\u001b[0m \u001b[0msampler\u001b[0m\u001b[0;34m(\u001b[0m\u001b[0;34m)\u001b[0m\u001b[0;34m,\u001b[0m \u001b[0mmeasure\u001b[0m\u001b[0;34m=\u001b[0m\u001b[0mdomainsize\u001b[0m\u001b[0;34m,\u001b[0m \u001b[0mn\u001b[0m\u001b[0;34m=\u001b[0m\u001b[0;36m1000000\u001b[0m\u001b[0;34m)\u001b[0m\u001b[0;34m)\u001b[0m\u001b[0;34m\u001b[0m\u001b[0m\n\u001b[0m\u001b[1;32m      3\u001b[0m \u001b[0mt2\u001b[0m \u001b[0;34m=\u001b[0m \u001b[0mtime\u001b[0m\u001b[0;34m.\u001b[0m\u001b[0mtime\u001b[0m\u001b[0;34m(\u001b[0m\u001b[0;34m)\u001b[0m\u001b[0;34m\u001b[0m\u001b[0m\n\u001b[1;32m      4\u001b[0m \u001b[0;34m\u001b[0m\u001b[0m\n\u001b[1;32m      5\u001b[0m \u001b[0mprint\u001b[0m\u001b[0;34m(\u001b[0m\u001b[0mt2\u001b[0m\u001b[0;34m-\u001b[0m\u001b[0mt1\u001b[0m\u001b[0;34m)\u001b[0m\u001b[0;34m\u001b[0m\u001b[0m\n",
      "\u001b[0;32m<ipython-input-395-2dcf8375685d>\u001b[0m in \u001b[0;36mintegrate\u001b[0;34m(integrand, sampler, measure, n)\u001b[0m\n\u001b[1;32m      5\u001b[0m     \u001b[0;32mfor\u001b[0m \u001b[0mx\u001b[0m \u001b[0;32min\u001b[0m \u001b[0mrange\u001b[0m\u001b[0;34m(\u001b[0m\u001b[0;36m0\u001b[0m\u001b[0;34m,\u001b[0m\u001b[0mn\u001b[0m\u001b[0;34m)\u001b[0m\u001b[0;34m:\u001b[0m\u001b[0;34m\u001b[0m\u001b[0m\n\u001b[1;32m      6\u001b[0m         \u001b[0;31m#FF = sampler\u001b[0m\u001b[0;34m\u001b[0m\u001b[0;34m\u001b[0m\u001b[0m\n\u001b[0;32m----> 7\u001b[0;31m         \u001b[0mf\u001b[0m \u001b[0;34m=\u001b[0m \u001b[0mintegrand\u001b[0m\u001b[0;34m(\u001b[0m\u001b[0msampler\u001b[0m\u001b[0;34m)\u001b[0m\u001b[0;34m\u001b[0m\u001b[0m\n\u001b[0m\u001b[1;32m      8\u001b[0m         \u001b[0mtotal\u001b[0m \u001b[0;34m+=\u001b[0m \u001b[0mf\u001b[0m\u001b[0;34m\u001b[0m\u001b[0m\n\u001b[1;32m      9\u001b[0m         \u001b[0;31m#total_sq += (f**2)\u001b[0m\u001b[0;34m\u001b[0m\u001b[0;34m\u001b[0m\u001b[0m\n",
      "\u001b[0;32m<ipython-input-372-c344b559d387>\u001b[0m in \u001b[0;36mintegrand\u001b[0;34m(x)\u001b[0m\n\u001b[1;32m     32\u001b[0m \u001b[0;34m\u001b[0m\u001b[0m\n\u001b[1;32m     33\u001b[0m \u001b[0;32mdef\u001b[0m \u001b[0mintegrand\u001b[0m\u001b[0;34m(\u001b[0m\u001b[0mx\u001b[0m\u001b[0;34m)\u001b[0m\u001b[0;34m:\u001b[0m\u001b[0;34m\u001b[0m\u001b[0m\n\u001b[0;32m---> 34\u001b[0;31m     \u001b[0mMomentum\u001b[0m \u001b[0;34m=\u001b[0m \u001b[0mx\u001b[0m\u001b[0;34m[\u001b[0m\u001b[0;36m0\u001b[0m\u001b[0;34m]\u001b[0m\u001b[0;34m\u001b[0m\u001b[0m\n\u001b[0m\u001b[1;32m     35\u001b[0m     \u001b[0mThetaOne\u001b[0m \u001b[0;34m=\u001b[0m \u001b[0mx\u001b[0m\u001b[0;34m[\u001b[0m\u001b[0;36m1\u001b[0m\u001b[0;34m]\u001b[0m\u001b[0;34m\u001b[0m\u001b[0m\n\u001b[1;32m     36\u001b[0m     \u001b[0mThetaTwo\u001b[0m \u001b[0;34m=\u001b[0m \u001b[0mx\u001b[0m\u001b[0;34m[\u001b[0m\u001b[0;36m2\u001b[0m\u001b[0;34m]\u001b[0m\u001b[0;34m\u001b[0m\u001b[0m\n",
      "\u001b[0;31mTypeError\u001b[0m: 'generator' object is not subscriptable"
     ]
    }
   ],
   "source": [
    "t1 = time.time()\n",
    "print(integrate(integrand, sampler(), measure=domainsize, n=1000000))\n",
    "t2 = time.time()\n",
    "\n",
    "print(t2-t1)"
   ]
  },
  {
   "cell_type": "code",
   "execution_count": 355,
   "metadata": {
    "collapsed": false
   },
   "outputs": [
    {
     "data": {
      "text/plain": [
       "0.0"
      ]
     },
     "execution_count": 355,
     "metadata": {},
     "output_type": "execute_result"
    }
   ],
   "source": [
    "np.arccos(1)"
   ]
  },
  {
   "cell_type": "code",
   "execution_count": null,
   "metadata": {
    "collapsed": true
   },
   "outputs": [],
   "source": []
  },
  {
   "cell_type": "code",
   "execution_count": 201,
   "metadata": {
    "collapsed": true
   },
   "outputs": [],
   "source": [
    "def test(x):\n",
    "    Momentum = x[0]\n",
    "    ThetaOne = x[1]\n",
    "    ThetaTwo = x[2]\n",
    "    PhiOne   = x[3]\n",
    "    PhiTwo   = x[4]\n",
    "    masses= [105e-3, 0.0, 0.0, 511e-6, pi/2]\n",
    "    Values   = [Momentum, ThetaOne, ThetaTwo, PhiOne, PhiTwo]\n",
    "    \n",
    "    X ,Y= Spinnors(Values, masses)\n",
    "    MSQRD = np.asarray(Msqrd(X))[0][0]\n",
    "    DLIPS = np.asarray(Y)[0]\n",
    "    VAL = MSQRD*DLIPS\n",
    "    return VAL"
   ]
  },
  {
   "cell_type": "code",
   "execution_count": 120,
   "metadata": {
    "collapsed": false
   },
   "outputs": [
    {
     "data": {
      "text/plain": [
       "2.916421658470162"
      ]
     },
     "execution_count": 120,
     "metadata": {},
     "output_type": "execute_result"
    }
   ],
   "source": [
    "random.uniform(0.,math.pi)"
   ]
  },
  {
   "cell_type": "code",
   "execution_count": 208,
   "metadata": {
    "collapsed": false
   },
   "outputs": [],
   "source": [
    "vals = np.linspace(0.,105e-3/2,1000)\n",
    "vals = np.linspace(1e-12,0.052,1000)\n",
    "\n",
    "XXX=[]\n",
    "aa =random.uniform(0.,math.pi)\n",
    "bb =random.uniform(0.,math.pi)\n",
    "cc =random.uniform(0.,2*math.pi)\n",
    "dd =random.uniform(0.,2*math.pi)\n",
    "for x in range(0,len(vals)):\n",
    "    hold = test([vals[x],aa,bb,cc,dd])\n",
    "    XXX.append(hold)\n",
    "XXX = np.array(XXX)"
   ]
  },
  {
   "cell_type": "code",
   "execution_count": 165,
   "metadata": {
    "collapsed": true
   },
   "outputs": [],
   "source": [
    "XXX[np.isnan(XXX)] = 1"
   ]
  },
  {
   "cell_type": "code",
   "execution_count": 209,
   "metadata": {
    "collapsed": false
   },
   "outputs": [
    {
     "name": "stderr",
     "output_type": "stream",
     "text": [
      "//anaconda/envs/py35/lib/python3.5/site-packages/numpy/core/numeric.py:525: ComplexWarning: Casting complex values to real discards the imaginary part\n",
      "  return array(a, dtype, copy=False, order=order, subok=True)\n"
     ]
    },
    {
     "data": {
      "image/png": "[encoded data removed]",
      "text/plain": [
       "<matplotlib.figure.Figure at 0x110f8bf28>"
      ]
     },
     "metadata": {},
     "output_type": "display_data"
    }
   ],
   "source": [
    "plt.figure(figsize=(6,6))\n",
    "plt.scatter(vals,np.log(XXX))\n",
    "#plt.semilogy()\n",
    "plt.xlim(0,0.06)\n",
    "#plt.ylim(0,np.log(10e-8))\n",
    "plt.axvline(0.0525, color='r')\n",
    "plt.axvline(0.05, color='c')\n",
    "plt.show()\n"
   ]
  },
  {
   "cell_type": "code",
   "execution_count": 146,
   "metadata": {
    "collapsed": false
   },
   "outputs": [
    {
     "name": "stdout",
     "output_type": "stream",
     "text": [
      "0.3119844454272264\n",
      "2.801128324355132\n",
      "5.809133949017616\n",
      "6.1697268502408855\n"
     ]
    }
   ],
   "source": [
    "print(aa)\n",
    "print(bb)\n",
    "print(cc)\n",
    "print(dd)"
   ]
  },
  {
   "cell_type": "code",
   "execution_count": 159,
   "metadata": {
    "collapsed": false
   },
   "outputs": [
    {
     "name": "stderr",
     "output_type": "stream",
     "text": [
      "//anaconda/envs/py35/lib/python3.5/site-packages/ipykernel/__main__.py:15: RuntimeWarning: invalid value encountered in double_scalars\n"
     ]
    },
    {
     "ename": "ZeroDivisionError",
     "evalue": "float division by zero",
     "output_type": "error",
     "traceback": [
      "\u001b[0;31m---------------------------------------------------------------------------\u001b[0m",
      "\u001b[0;31mZeroDivisionError\u001b[0m                         Traceback (most recent call last)",
      "\u001b[0;32m<ipython-input-159-33f2745d3b6b>\u001b[0m in \u001b[0;36m<module>\u001b[0;34m()\u001b[0m\n\u001b[0;32m----> 1\u001b[0;31m \u001b[0mX\u001b[0m \u001b[0;34m,\u001b[0m\u001b[0mY\u001b[0m\u001b[0;34m=\u001b[0m \u001b[0mSpinnors\u001b[0m\u001b[0;34m(\u001b[0m\u001b[0;34m[\u001b[0m\u001b[0;36m0\u001b[0m\u001b[0;34m,\u001b[0m\u001b[0maa\u001b[0m\u001b[0;34m,\u001b[0m\u001b[0mbb\u001b[0m\u001b[0;34m,\u001b[0m\u001b[0mcc\u001b[0m\u001b[0;34m,\u001b[0m\u001b[0mdd\u001b[0m\u001b[0;34m]\u001b[0m\u001b[0;34m,\u001b[0m\u001b[0mmasses\u001b[0m\u001b[0;34m)\u001b[0m\u001b[0;34m\u001b[0m\u001b[0m\n\u001b[0m\u001b[1;32m      2\u001b[0m \u001b[0mY\u001b[0m\u001b[0;34m\u001b[0m\u001b[0m\n",
      "\u001b[0;32m<ipython-input-116-30640ed35636>\u001b[0m in \u001b[0;36mSpinnors\u001b[0;34m(x, y)\u001b[0m\n\u001b[1;32m     14\u001b[0m     \u001b[0mp3simp\u001b[0m \u001b[0;34m=\u001b[0m \u001b[0mnp\u001b[0m\u001b[0;34m.\u001b[0m\u001b[0msqrt\u001b[0m\u001b[0;34m(\u001b[0m\u001b[0mp1\u001b[0m\u001b[0;34m**\u001b[0m\u001b[0;36m2\u001b[0m\u001b[0;34m+\u001b[0m\u001b[0mp2simp\u001b[0m\u001b[0;34m**\u001b[0m\u001b[0;36m2\u001b[0m\u001b[0;34m+\u001b[0m\u001b[0;36m2\u001b[0m\u001b[0;34m*\u001b[0m\u001b[0mp1\u001b[0m\u001b[0;34m*\u001b[0m\u001b[0mp2simp\u001b[0m\u001b[0;34m*\u001b[0m\u001b[0;34m(\u001b[0m\u001b[0mnp\u001b[0m\u001b[0;34m.\u001b[0m\u001b[0mcos\u001b[0m\u001b[0;34m(\u001b[0m\u001b[0mtheta1\u001b[0m\u001b[0;34m)\u001b[0m\u001b[0;34m*\u001b[0m\u001b[0mnp\u001b[0m\u001b[0;34m.\u001b[0m\u001b[0mcos\u001b[0m\u001b[0;34m(\u001b[0m\u001b[0mtheta2\u001b[0m\u001b[0;34m)\u001b[0m\u001b[0;34m+\u001b[0m\u001b[0mnp\u001b[0m\u001b[0;34m.\u001b[0m\u001b[0mcos\u001b[0m\u001b[0;34m(\u001b[0m\u001b[0mphi1\u001b[0m\u001b[0;34m-\u001b[0m\u001b[0mphi2\u001b[0m\u001b[0;34m)\u001b[0m\u001b[0;34m*\u001b[0m\u001b[0mnp\u001b[0m\u001b[0;34m.\u001b[0m\u001b[0msin\u001b[0m\u001b[0;34m(\u001b[0m\u001b[0mtheta1\u001b[0m\u001b[0;34m)\u001b[0m\u001b[0;34m*\u001b[0m\u001b[0mnp\u001b[0m\u001b[0;34m.\u001b[0m\u001b[0msin\u001b[0m\u001b[0;34m(\u001b[0m\u001b[0mtheta2\u001b[0m\u001b[0;34m)\u001b[0m\u001b[0;34m)\u001b[0m\u001b[0;34m)\u001b[0m\u001b[0;34m\u001b[0m\u001b[0m\n\u001b[1;32m     15\u001b[0m     \u001b[0mC3simp\u001b[0m \u001b[0;34m=\u001b[0m \u001b[0mnp\u001b[0m\u001b[0;34m.\u001b[0m\u001b[0marccos\u001b[0m\u001b[0;34m(\u001b[0m\u001b[0;34m(\u001b[0m\u001b[0mp1\u001b[0m\u001b[0;34m*\u001b[0m\u001b[0mnp\u001b[0m\u001b[0;34m.\u001b[0m\u001b[0mcos\u001b[0m\u001b[0;34m(\u001b[0m\u001b[0mtheta1\u001b[0m\u001b[0;34m)\u001b[0m\u001b[0;34m+\u001b[0m\u001b[0mp2simp\u001b[0m\u001b[0;34m*\u001b[0m\u001b[0mnp\u001b[0m\u001b[0;34m.\u001b[0m\u001b[0mcos\u001b[0m\u001b[0;34m(\u001b[0m\u001b[0mtheta2\u001b[0m\u001b[0;34m)\u001b[0m\u001b[0;34m)\u001b[0m\u001b[0;34m/\u001b[0m\u001b[0mp3simp\u001b[0m\u001b[0;34m)\u001b[0m\u001b[0;34m\u001b[0m\u001b[0m\n\u001b[0;32m---> 16\u001b[0;31m     \u001b[0mE1simp\u001b[0m \u001b[0;34m=\u001b[0m \u001b[0mp1\u001b[0m \u001b[0;34m+\u001b[0m \u001b[0mm1\u001b[0m\u001b[0;34m**\u001b[0m\u001b[0;36m2\u001b[0m\u001b[0;34m/\u001b[0m\u001b[0;34m(\u001b[0m\u001b[0;36m2\u001b[0m\u001b[0;34m*\u001b[0m\u001b[0mp1\u001b[0m\u001b[0;34m)\u001b[0m\u001b[0;34m\u001b[0m\u001b[0m\n\u001b[0m\u001b[1;32m     17\u001b[0m     \u001b[0mE2simp\u001b[0m \u001b[0;34m=\u001b[0m \u001b[0mp2simp\u001b[0m \u001b[0;34m+\u001b[0m \u001b[0mm2\u001b[0m\u001b[0;34m**\u001b[0m\u001b[0;36m2\u001b[0m\u001b[0;34m/\u001b[0m\u001b[0;34m(\u001b[0m\u001b[0;36m2\u001b[0m\u001b[0;34m*\u001b[0m\u001b[0mp2simp\u001b[0m\u001b[0;34m)\u001b[0m\u001b[0;34m\u001b[0m\u001b[0m\n\u001b[1;32m     18\u001b[0m     \u001b[0mE3simp\u001b[0m \u001b[0;34m=\u001b[0m \u001b[0mm0\u001b[0m\u001b[0;34m-\u001b[0m\u001b[0mp1\u001b[0m\u001b[0;34m-\u001b[0m\u001b[0mm1\u001b[0m\u001b[0;34m**\u001b[0m\u001b[0;36m2\u001b[0m\u001b[0;34m/\u001b[0m\u001b[0;34m(\u001b[0m\u001b[0;36m2\u001b[0m\u001b[0;34m*\u001b[0m\u001b[0mp1\u001b[0m\u001b[0;34m)\u001b[0m\u001b[0;34m-\u001b[0m\u001b[0mp2simp\u001b[0m\u001b[0;34m-\u001b[0m\u001b[0mm2\u001b[0m\u001b[0;34m**\u001b[0m\u001b[0;36m2\u001b[0m\u001b[0;34m/\u001b[0m\u001b[0;34m(\u001b[0m\u001b[0;36m2\u001b[0m\u001b[0;34m*\u001b[0m\u001b[0mp2simp\u001b[0m\u001b[0;34m)\u001b[0m\u001b[0;34m\u001b[0m\u001b[0m\n",
      "\u001b[0;31mZeroDivisionError\u001b[0m: float division by zero"
     ]
    }
   ],
   "source": [
    "X ,Y= Spinnors([0,aa,bb,cc,dd],masses)\n",
    "Y"
   ]
  },
  {
   "cell_type": "code",
   "execution_count": 590,
   "metadata": {
    "collapsed": false
   },
   "outputs": [
    {
     "name": "stderr",
     "output_type": "stream",
     "text": [
      "//anaconda/envs/py35/lib/python3.5/site-packages/ipykernel/__main__.py:13: RuntimeWarning: invalid value encountered in sqrt\n"
     ]
    }
   ],
   "source": [
    "Number = 1000000\n",
    "m0= 105e-3; m1=0 ; m2=0 ; m3=511e-6\n",
    "DATA=[]\n",
    "for x in itertools.islice(sampler(), Number):\n",
    "    p1   = x[0]\n",
    "    t1   = x[1] \n",
    "    t2   = x[2]\n",
    "    phi1 = x[3]\n",
    "    phi2 = x[4]\n",
    "\n",
    "    statementONE = p1*(1+(np.sin(t1)*np.cos(phi1))/(np.sin(t2)*np.cos(phi2)))\n",
    "    p2simp = p1*(np.sin(t1)*np.cos(phi1))/(np.sin(t2)*np.cos(phi2)) # get rid of negative\n",
    "    p3simp = np.sqrt((m0-p1-p2simp-m1**2/(2*p1)-m2**2/(2*p2simp))**2 - (m3)**2)\n",
    "    LL = (p1*np.sin(t1)*np.sin(phi1)+p2simp*np.sin(t2)*np.sin(phi2))/p3simp\n",
    "    RR = (p1*np.cos(t1)+p2simp*np.cos(t2))/p3simp\n",
    "    \n",
    "    if (105e-3-511e-6)>=statementONE and abs(LL)<=1 and abs(RR)<=1 and p2simp<105e-3/2 and p3simp<105e-3/2:\n",
    "        T3L = np.arcsin(LL)\n",
    "        T3R = np.arccos(RR)\n",
    "        if abs(T3L-T3R)<=1e-3:\n",
    "            \n",
    "            DATA.append([p1, p2simp, p3simp, t1, t2, (T3L+T3R)/2, phi1, phi2])\n",
    "\n",
    "np.savetxt('/Users/austinmcdonald/Desktop/test.txt',DATA, delimiter=',')\n",
    "\n",
    "print('Samples tried =',Number)\n",
    "print('Samples that passed =',len(testt))"
   ]
  },
  {
   "cell_type": "code",
   "execution_count": null,
   "metadata": {
    "collapsed": true
   },
   "outputs": [],
   "source": []
  },
  {
   "cell_type": "code",
   "execution_count": 591,
   "metadata": {
    "collapsed": true
   },
   "outputs": [],
   "source": [
    "testt = np.genfromtxt('/Users/austinmcdonald/Desktop/test.txt', delimiter=\",\")"
   ]
  },
  {
   "cell_type": "code",
   "execution_count": 597,
   "metadata": {
    "collapsed": false
   },
   "outputs": [
    {
     "name": "stdout",
     "output_type": "stream",
     "text": [
      "Numbers that passed = 20\n"
     ]
    }
   ],
   "source": [
    "print('Numbers that passed =',len(testt))"
   ]
  },
  {
   "cell_type": "code",
   "execution_count": null,
   "metadata": {
    "collapsed": true
   },
   "outputs": [],
   "source": []
  },
  {
   "cell_type": "code",
   "execution_count": null,
   "metadata": {
    "collapsed": true
   },
   "outputs": [],
   "source": []
  },
  {
   "cell_type": "code",
   "execution_count": null,
   "metadata": {
    "collapsed": true
   },
   "outputs": [],
   "source": []
  },
  {
   "cell_type": "code",
   "execution_count": null,
   "metadata": {
    "collapsed": true
   },
   "outputs": [],
   "source": []
  },
  {
   "cell_type": "code",
   "execution_count": null,
   "metadata": {
    "collapsed": true
   },
   "outputs": [],
   "source": []
  },
  {
   "cell_type": "code",
   "execution_count": null,
   "metadata": {
    "collapsed": true
   },
   "outputs": [],
   "source": []
  },
  {
   "cell_type": "code",
   "execution_count": null,
   "metadata": {
    "collapsed": true
   },
   "outputs": [],
   "source": []
  },
  {
   "cell_type": "code",
   "execution_count": null,
   "metadata": {
    "collapsed": true
   },
   "outputs": [],
   "source": []
  },
  {
   "cell_type": "code",
   "execution_count": null,
   "metadata": {
    "collapsed": true
   },
   "outputs": [],
   "source": []
  },
  {
   "cell_type": "code",
   "execution_count": null,
   "metadata": {
    "collapsed": true
   },
   "outputs": [],
   "source": []
  },
  {
   "cell_type": "code",
   "execution_count": null,
   "metadata": {
    "collapsed": true
   },
   "outputs": [],
   "source": []
  },
  {
   "cell_type": "code",
   "execution_count": null,
   "metadata": {
    "collapsed": true
   },
   "outputs": [],
   "source": []
  },
  {
   "cell_type": "code",
   "execution_count": null,
   "metadata": {
    "collapsed": true
   },
   "outputs": [],
   "source": []
  },
  {
   "cell_type": "code",
   "execution_count": null,
   "metadata": {
    "collapsed": true
   },
   "outputs": [],
   "source": []
  },
  {
   "cell_type": "code",
   "execution_count": null,
   "metadata": {
    "collapsed": true
   },
   "outputs": [],
   "source": []
  },
  {
   "cell_type": "code",
   "execution_count": null,
   "metadata": {
    "collapsed": true
   },
   "outputs": [],
   "source": []
  },
  {
   "cell_type": "code",
   "execution_count": 18,
   "metadata": {
    "collapsed": false
   },
   "outputs": [],
   "source": [
    "import itertools\n",
    "import math\n",
    "import random\n",
    "import numpy as np\n",
    "import time\n",
    "\n",
    "\n",
    "def integrate(integrand, sampler, measure=1.0, n=100):\n",
    "    # Sum elements and elements squared\n",
    "    total = 0.0\n",
    "    total_sq = 0.0\n",
    "    for x in itertools.islice(sampler, n):\n",
    "        f = integrand(x)\n",
    "        total += f\n",
    "        total_sq += (f**2)\n",
    "    # Return answer\n",
    "    sample_mean = total/n\n",
    "    sample_var = (total_sq - ((total/n)**2)/n)/(n-1.0)\n",
    "    #return (measure*sample_mean, measure*math.sqrt(sample_var/n))\n",
    "    return (measure*sample_mean)"
   ]
  },
  {
   "cell_type": "code",
   "execution_count": 19,
   "metadata": {
    "collapsed": true
   },
   "outputs": [],
   "source": [
    "Masses = [(m0,105e-3),(m3,500e-6),(m1,0),(m2,0),(u,1.16636e-5)]"
   ]
  },
  {
   "cell_type": "code",
   "execution_count": 20,
   "metadata": {
    "collapsed": true
   },
   "outputs": [],
   "source": [
    "tet1   = (element(v0up, v1up, u2up, v3up)*conjugate(element(v0up, v1up, u2up, v3up))).subs(Masses)\n",
    "tet2   = (element(v0up, v1dn, u2up, v3up)*conjugate(element(v0up, v1dn, u2up, v3up))).subs(Masses)\n",
    "tet3   = (element(v0up, v1up, u2dn, v3up)*conjugate(element(v0up, v1up, u2dn, v3up))).subs(Masses)\n",
    "tet4   = (element(v0up, v1up, u2up, v3dn)*conjugate(element(v0up, v1up, u2up, v3dn))).subs(Masses)\n",
    "tet5   = (element(v0up, v1dn, u2dn, v3up)*conjugate(element(v0up, v1dn, u2dn, v3up))).subs(Masses)\n",
    "tet6   = (element(v0up, v1dn, u2up, v3dn)*conjugate(element(v0up, v1dn, u2up, v3dn))).subs(Masses)\n",
    "tet7   = (element(v0up, v1dn, u2dn, v3dn)*conjugate(element(v0up, v1dn, u2dn, v3dn))).subs(Masses)\n",
    "tet8   = (element(v0up, v1up, u2dn, v3dn)*conjugate(element(v0up, v1up, u2dn, v3dn))).subs(Masses)\n",
    "tet9   = (element(v0dn, v1up, u2up, v3up)*conjugate(element(v0dn, v1up, u2up, v3up))).subs(Masses)\n",
    "tet10  = (element(v0dn, v1dn, u2up, v3up)*conjugate(element(v0dn, v1dn, u2up, v3up))).subs(Masses)\n",
    "tet11  = (element(v0dn, v1up, u2dn, v3up)*conjugate(element(v0dn, v1up, u2dn, v3up))).subs(Masses)\n",
    "tet12  = (element(v0dn, v1up, u2up, v3dn)*conjugate(element(v0dn, v1up, u2up, v3dn))).subs(Masses)\n",
    "tet13  = (element(v0dn, v1dn, u2dn, v3up)*conjugate(element(v0dn, v1dn, u2dn, v3up))).subs(Masses)\n",
    "tet14  = (element(v0dn, v1dn, u2up, v3dn)*conjugate(element(v0dn, v1dn, u2up, v3dn))).subs(Masses)\n",
    "tet15  = (element(v0dn, v1dn, u2dn, v3dn)*conjugate(element(v0dn, v1dn, u2dn, v3dn))).subs(Masses)\n",
    "tet16  = (element(v0dn, v1up, u2dn, v3dn)*conjugate(element(v0dn, v1up, u2dn, v3dn))).subs(Masses)"
   ]
  },
  {
   "cell_type": "code",
   "execution_count": null,
   "metadata": {
    "collapsed": false
   },
   "outputs": [],
   "source": []
  },
  {
   "cell_type": "code",
   "execution_count": null,
   "metadata": {
    "collapsed": true
   },
   "outputs": [],
   "source": []
  },
  {
   "cell_type": "code",
   "execution_count": 21,
   "metadata": {
    "collapsed": true
   },
   "outputs": [],
   "source": [
    "def integrand(x):\n",
    "    Momentum = x[0]\n",
    "    ThetaOne = x[1]\n",
    "    ThetaTwo = x[2]\n",
    "    PhiOne   = x[3]\n",
    "    PhiTwo   = x[4]\n",
    "    Values   = [(p1,Momentum),(theta1,ThetaOne),(theta2,ThetaTwo),(phi1,PhiOne),(phi2,PhiTwo)]\n",
    "    M1=tet1.subs(Values) ; M5=tet5.subs(Values) ;M9=tet9.subs(Values)   ;M13=tet13.subs(Values)\n",
    "    M2=tet2.subs(Values) ; M6=tet6.subs(Values) ;M10=tet10.subs(Values) ;M14=tet14.subs(Values)    \n",
    "    M3=tet3.subs(Values) ; M7=tet7.subs(Values) ;M11=tet11.subs(Values) ;M15=tet15.subs(Values)\n",
    "    M4=tet4.subs(Values) ; M8=tet8.subs(Values) ;M12=tet12.subs(Values) ;M16=tet16.subs(Values)\n",
    "    This     = M1+M2+M3+M4+M5+M6+M7+M8+M9+M10+M11+M12+M13+M14+M15+M16\n",
    "    return abs(This[0])\n",
    "    #return np.real(This)\n",
    "\n",
    "def sampler():\n",
    "    while True:\n",
    "        Momentum = random.uniform(0.,0.0525)#half m0\n",
    "        ThetaOne = random.uniform(0.,math.pi)\n",
    "        ThetaTwo = random.uniform(0.,math.pi)\n",
    "        PhiOne   = random.uniform(0.,2*math.pi)\n",
    "        PhiTwo   = random.uniform(0.,2*math.pi)\n",
    "        \n",
    "        yield (Momentum, ThetaOne, ThetaTwo, PhiOne, PhiTwo)\n",
    "\n",
    "domainsize = math.pow(math.pi,4)*4*0.0525\n"
   ]
  },
  {
   "cell_type": "code",
   "execution_count": 22,
   "metadata": {
    "collapsed": false
   },
   "outputs": [
    {
     "name": "stdout",
     "output_type": "stream",
     "text": [
      "0.204559091171405*Abs(6.801978248e-11*(-1.72207289145795e-6*sqrt(2) - 1.86132045423695e-6*sqrt(2)*I*(0.83574356076353 - 0.549119932840082*I))*(-1.72207289145795e-6*sqrt(2) + 1.86132045423695e-6*sqrt(2)*I*(0.83574356076353 + 0.549119932840082*I)) + 6.801978248e-11*(-7.14299878302451e-11*sqrt(2) + 5.8461187500149e-5*sqrt(2)*I*(0.83574356076353 - 0.549119932840082*I))*(-7.14299878302451e-11*sqrt(2) - 5.8461187500149e-5*sqrt(2)*I*(0.83574356076353 + 0.549119932840082*I)) + 6.801978248e-11*(-1.01785602647908e-10*sqrt(2)*(0.844081630145712 + 0.536214697346648*I) + 8.33054489013285e-5*sqrt(2)*I*(0.83574356076353 - 0.549119932840082*I)*(0.844081630145712 + 0.536214697346648*I))*(-8.33054489013285e-5*sqrt(2)*I*(0.83574356076353 + 0.549119932840082*I)*(0.844081630145712 - 0.536214697346648*I) - 1.01785602647908e-10*sqrt(2)*(0.844081630145712 - 0.536214697346648*I)) + 6.801978248e-11*(-2.45390251888653e-6*sqrt(2)*(0.844081630145712 - 0.536214697346648*I) + 2.65232614354675e-6*sqrt(2)*I*(0.83574356076353 + 0.549119932840082*I)*(0.844081630145712 - 0.536214697346648*I))*(-2.65232614354675e-6*sqrt(2)*I*(0.83574356076353 - 0.549119932840082*I)*(0.844081630145712 + 0.536214697346648*I) - 2.45390251888653e-6*sqrt(2)*(0.844081630145712 + 0.536214697346648*I))) + 0.204559091171405*Abs(6.801978248e-11*(-5.58285296961359e-7*sqrt(2) + 2.70411353059851e-7*sqrt(2)*I*(0.937360505273505 - 0.348360851924264*I))*(-5.58285296961359e-7*sqrt(2) - 2.70411353059851e-7*sqrt(2)*I*(0.937360505273505 + 0.348360851924264*I)) + 6.801978248e-11*(-1.8493863794357e-10*sqrt(2) - 0.000300803615813136*sqrt(2)*I*(0.937360505273505 - 0.348360851924264*I))*(-1.8493863794357e-10*sqrt(2) + 0.000300803615813136*sqrt(2)*I*(0.937360505273505 + 0.348360851924264*I)) + 6.801978248e-11*(-3.05598533434701e-10*sqrt(2)*(0.989719180167247 - 0.143024279089505*I) + 0.000497057536848512*sqrt(2)*I*(0.937360505273505 + 0.348360851924264*I)*(0.989719180167247 - 0.143024279089505*I))*(-0.000497057536848512*sqrt(2)*I*(0.937360505273505 - 0.348360851924264*I)*(0.989719180167247 + 0.143024279089505*I) - 3.05598533434701e-10*sqrt(2)*(0.989719180167247 + 0.143024279089505*I)) + 6.801978248e-11*(-9.22528520198176e-7*sqrt(2)*(0.989719180167247 + 0.143024279089505*I) + 4.46836387669291e-7*sqrt(2)*I*(0.937360505273505 - 0.348360851924264*I)*(0.989719180167247 + 0.143024279089505*I))*(-4.46836387669291e-7*sqrt(2)*I*(0.937360505273505 + 0.348360851924264*I)*(0.989719180167247 - 0.143024279089505*I) - 9.22528520198176e-7*sqrt(2)*(0.989719180167247 - 0.143024279089505*I))) + 0.204559091171405*Abs(6.801978248e-11*(-0.000628562798683262*sqrt(2)*(-0.878627831439574 + 0.477507208133858*I) + 0.000635987417303086*sqrt(2)*I*(-0.878627831439574 + 0.477507208133858*I)*(-0.0511759577480034 - 0.998689652168568*I))*(-0.000635987417303086*sqrt(2)*I*(-0.878627831439574 - 0.477507208133858*I)*(-0.0511759577480034 + 0.998689652168568*I) - 0.000628562798683262*sqrt(2)*(-0.878627831439574 - 0.477507208133858*I)) + 6.801978248e-11*(-0.000350747657543219*sqrt(2) - 0.000698531052837853*sqrt(2)*I*(-0.0511759577480034 - 0.998689652168568*I))*(-0.000350747657543219*sqrt(2) + 0.000698531052837853*sqrt(2)*I*(-0.0511759577480034 + 0.998689652168568*I)) + 6.801978248e-11*(-0.000593950391597529*sqrt(2) + 0.000600966166546261*sqrt(2)*I*(-0.0511759577480034 - 0.998689652168568*I))*(-0.000593950391597529*sqrt(2) - 0.000600966166546261*sqrt(2)*I*(-0.0511759577480034 + 0.998689652168568*I)) + 6.801978248e-11*(-0.00037118744658789*sqrt(2)*(-0.878627831439574 - 0.477507208133858*I) + 0.000739237888804101*sqrt(2)*I*(-0.878627831439574 - 0.477507208133858*I)*(-0.0511759577480034 + 0.998689652168568*I))*(-0.000739237888804101*sqrt(2)*I*(-0.878627831439574 + 0.477507208133858*I)*(-0.0511759577480034 - 0.998689652168568*I) - 0.00037118744658789*sqrt(2)*(-0.878627831439574 + 0.477507208133858*I))) + 0.204559091171405*Abs(6.801978248e-11*(-0.000306274826752325*sqrt(2) - 0.000340512086591905*sqrt(2)*I*(-0.420312450441501 - 0.907379437723746*I))*(-0.000306274826752325*sqrt(2) + 0.000340512086591905*sqrt(2)*I*(-0.420312450441501 + 0.907379437723746*I)) + 6.801978248e-11*(-0.000868514486880011*sqrt(2)*(-0.956288728659446 + 0.292424122532496*I) + 0.000965602309856061*sqrt(2)*I*(-0.956288728659446 + 0.292424122532496*I)*(-0.420312450441501 + 0.907379437723746*I))*(-0.000965602309856061*sqrt(2)*I*(-0.956288728659446 - 0.292424122532496*I)*(-0.420312450441501 - 0.907379437723746*I) - 0.000868514486880011*sqrt(2)*(-0.956288728659446 - 0.292424122532496*I)) + 6.801978248e-11*(-0.00023131820659342*sqrt(2)*(-0.956288728659446 - 0.292424122532496*I) + 0.00294691998152186*sqrt(2)*I*(-0.956288728659446 - 0.292424122532496*I)*(-0.420312450441501 - 0.907379437723746*I))*(-0.00294691998152186*sqrt(2)*I*(-0.956288728659446 + 0.292424122532496*I)*(-0.420312450441501 + 0.907379437723746*I) - 0.00023131820659342*sqrt(2)*(-0.956288728659446 + 0.292424122532496*I)) + 6.801978248e-11*(-8.15725525817811e-5*sqrt(2) + 0.00103920823478246*sqrt(2)*I*(-0.420312450441501 - 0.907379437723746*I))*(-8.15725525817811e-5*sqrt(2) - 0.00103920823478246*sqrt(2)*I*(-0.420312450441501 + 0.907379437723746*I))) + 0.204559091171405*Abs(6.801978248e-11*(-7.93066056779559e-6*sqrt(2)*(-0.916869012105846 - 0.39918819451488*I) + 0.000965557435866126*sqrt(2)*I*(-0.916869012105846 - 0.39918819451488*I)*(-0.419430286076342 - 0.907787549552161*I))*(-0.000965557435866126*sqrt(2)*I*(-0.916869012105846 + 0.39918819451488*I)*(-0.419430286076342 + 0.907787549552161*I) - 7.93066056779559e-6*sqrt(2)*(-0.916869012105846 + 0.39918819451488*I)) + 6.801978248e-11*(-0.00101865252806817*sqrt(2)*(-0.916869012105846 + 0.39918819451488*I) + 0.000698271442123187*sqrt(2)*I*(-0.916869012105846 + 0.39918819451488*I)*(-0.419430286076342 + 0.907787549552161*I))*(-0.000698271442123187*sqrt(2)*I*(-0.916869012105846 - 0.39918819451488*I)*(-0.419430286076342 - 0.907787549552161*I) - 0.00101865252806817*sqrt(2)*(-0.916869012105846 - 0.39918819451488*I)) + 6.801978248e-11*(-1.44707584078509e-5*sqrt(2) + 0.00176181394524195*sqrt(2)*I*(-0.419430286076342 - 0.907787549552161*I))*(-1.44707584078509e-5*sqrt(2) - 0.00176181394524195*sqrt(2)*I*(-0.419430286076342 + 0.907787549552161*I)) + 6.801978248e-11*(-0.00185869443146757*sqrt(2) - 0.00127410790761847*sqrt(2)*I*(-0.419430286076342 - 0.907787549552161*I))*(-0.00185869443146757*sqrt(2) + 0.00127410790761847*sqrt(2)*I*(-0.419430286076342 + 0.907787549552161*I))) + 0.204559091171405*Abs(6.801978248e-11*(-0.000134270590931387*sqrt(2) + 0.000170198583982908*sqrt(2)*I*(-0.141961289916761 - 0.989872210017621*I))*(-0.000134270590931387*sqrt(2) - 0.000170198583982908*sqrt(2)*I*(-0.141961289916761 + 0.989872210017621*I)) + 6.801978248e-11*(-0.000684726558659693*sqrt(2)*(-0.720297568440234 + 0.693665202312388*I) + 0.000867945019761785*sqrt(2)*I*(-0.720297568440234 + 0.693665202312388*I)*(-0.141961289916761 - 0.989872210017621*I))*(-0.000867945019761785*sqrt(2)*I*(-0.720297568440234 - 0.693665202312388*I)*(-0.141961289916761 + 0.989872210017621*I) - 0.000684726558659693*sqrt(2)*(-0.720297568440234 - 0.693665202312388*I)) + 6.801978248e-11*(-1.43810144695781e-5*sqrt(2) - 0.000766624465550162*sqrt(2)*I*(-0.141961289916761 - 0.989872210017621*I))*(-1.43810144695781e-5*sqrt(2) + 0.000766624465550162*sqrt(2)*I*(-0.141961289916761 + 0.989872210017621*I)) + 6.801978248e-11*(-7.33374485021918e-5*sqrt(2)*(-0.720297568440234 - 0.693665202312388*I) + 0.00390947956986895*sqrt(2)*I*(-0.720297568440234 - 0.693665202312388*I)*(-0.141961289916761 + 0.989872210017621*I))*(-0.00390947956986895*sqrt(2)*I*(-0.720297568440234 + 0.693665202312388*I)*(-0.141961289916761 - 0.989872210017621*I) - 7.33374485021918e-5*sqrt(2)*(-0.720297568440234 + 0.693665202312388*I))) + 0.204559091171405*Abs(6.801978248e-11*(-0.000109734309137338*sqrt(2)*(0.99987931344042 - 0.0155357186481291*I) + 0.000898544559209635*sqrt(2)*I*(0.614698265304167 - 0.788762348639974*I)*(0.99987931344042 - 0.0155357186481291*I))*(-0.000898544559209635*sqrt(2)*I*(0.614698265304167 + 0.788762348639974*I)*(0.99987931344042 + 0.0155357186481291*I) - 0.000109734309137338*sqrt(2)*(0.99987931344042 + 0.0155357186481291*I)) + 6.801978248e-11*(-0.000783335653802122*sqrt(2)*(0.99987931344042 + 0.0155357186481291*I) + 0.00020719402854898*sqrt(2)*I*(0.614698265304167 + 0.788762348639974*I)*(0.99987931344042 + 0.0155357186481291*I))*(-0.00020719402854898*sqrt(2)*I*(0.614698265304167 - 0.788762348639974*I)*(0.99987931344042 - 0.0155357186481291*I) - 0.000783335653802122*sqrt(2)*(0.99987931344042 - 0.0155357186481291*I)) + 6.801978248e-11*(-0.000626684307251772*sqrt(2) + 0.00513151975029421*sqrt(2)*I*(0.614698265304167 - 0.788762348639974*I))*(-0.000626684307251772*sqrt(2) - 0.00513151975029421*sqrt(2)*I*(0.614698265304167 + 0.788762348639974*I)) + 6.801978248e-11*(-0.00447357043943482*sqrt(2) - 0.00118326936460149*sqrt(2)*I*(0.614698265304167 - 0.788762348639974*I))*(-0.00447357043943482*sqrt(2) + 0.00118326936460149*sqrt(2)*I*(0.614698265304167 + 0.788762348639974*I))) + 0.204559091171405*Abs(6.801978248e-11*(-0.00184789176537501*sqrt(2)*(-0.897310099799644 + 0.441400707744735*I) + 0.00161816547623105*sqrt(2)*I*(-0.907555532646894 - 0.419932083987414*I)*(-0.897310099799644 + 0.441400707744735*I))*(-0.00161816547623105*sqrt(2)*I*(-0.907555532646894 + 0.419932083987414*I)*(-0.897310099799644 - 0.441400707744735*I) - 0.00184789176537501*sqrt(2)*(-0.897310099799644 - 0.441400707744735*I)) + 6.801978248e-11*(-0.00251213181912356*sqrt(2)*(-0.897310099799644 - 0.441400707744735*I) + 0.00154140400703407*sqrt(2)*I*(-0.907555532646894 + 0.419932083987414*I)*(-0.897310099799644 - 0.441400707744735*I))*(-0.00154140400703407*sqrt(2)*I*(-0.907555532646894 - 0.419932083987414*I)*(-0.897310099799644 + 0.441400707744735*I) - 0.00251213181912356*sqrt(2)*(-0.897310099799644 + 0.441400707744735*I)) + 6.801978248e-11*(-0.00393927561694032*sqrt(2) - 0.00241707667350109*sqrt(2)*I*(-0.907555532646894 - 0.419932083987414*I))*(-0.00393927561694032*sqrt(2) + 0.00241707667350109*sqrt(2)*I*(-0.907555532646894 + 0.419932083987414*I)) + 6.801978248e-11*(-0.00289768033614822*sqrt(2) + 0.00253744638564211*sqrt(2)*I*(-0.907555532646894 - 0.419932083987414*I))*(-0.00289768033614822*sqrt(2) - 0.00253744638564211*sqrt(2)*I*(-0.907555532646894 + 0.419932083987414*I))) + 0.204559091171405*Abs(6.801978248e-11*(-0.00200194257039013*sqrt(2)*(0.964260450191423 + 0.264956192976563*I) + 0.000162215234617116*sqrt(2)*I*(0.162477033353071 - 0.986712325671867*I)*(0.964260450191423 + 0.264956192976563*I))*(-0.000162215234617116*sqrt(2)*I*(0.162477033353071 + 0.986712325671867*I)*(0.964260450191423 - 0.264956192976563*I) - 0.00200194257039013*sqrt(2)*(0.964260450191423 - 0.264956192976563*I)) + 6.801978248e-11*(-0.00176599037060321*sqrt(2) - 0.00194143419314399*sqrt(2)*I*(0.162477033353071 - 0.986712325671867*I))*(-0.00176599037060321*sqrt(2) + 0.00194143419314399*sqrt(2)*I*(0.162477033353071 + 0.986712325671867*I)) + 6.801978248e-11*(-0.00546343627850809*sqrt(2)*(0.964260450191423 - 0.264956192976563*I) + 0.00600620602451867*sqrt(2)*I*(0.162477033353071 + 0.986712325671867*I)*(0.964260450191423 - 0.264956192976563*I))*(-0.00600620602451867*sqrt(2)*I*(0.162477033353071 - 0.986712325671867*I)*(0.964260450191423 + 0.264956192976563*I) - 0.00546343627850809*sqrt(2)*(0.964260450191423 + 0.264956192976563*I)) + 6.801978248e-11*(-0.000647103969294401*sqrt(2) + 5.24341326036649e-5*sqrt(2)*I*(0.162477033353071 - 0.986712325671867*I))*(-0.000647103969294401*sqrt(2) - 5.24341326036649e-5*sqrt(2)*I*(0.162477033353071 + 0.986712325671867*I))) + 0.204559091171405*Abs(6.801978248e-11*(-0.00213807375263186*sqrt(2) + 0.00107769731999812*sqrt(2)*I*(-0.528707490640542 - 0.848804093616767*I))*(-0.00213807375263186*sqrt(2) - 0.00107769731999812*sqrt(2)*I*(-0.528707490640542 + 0.848804093616767*I)) + 6.801978248e-11*(-0.0072769274925038*sqrt(2)*(-0.899595785950415 + 0.43672350738225*I) + 0.0036679395398959*sqrt(2)*I*(-0.899595785950415 + 0.43672350738225*I)*(-0.528707490640542 - 0.848804093616767*I))*(-0.0036679395398959*sqrt(2)*I*(-0.899595785950415 - 0.43672350738225*I)*(-0.528707490640542 + 0.848804093616767*I) - 0.0072769274925038*sqrt(2)*(-0.899595785950415 - 0.43672350738225*I)) + 6.801978248e-11*(-0.0016800090552026*sqrt(2) - 0.00361101978519132*sqrt(2)*I*(-0.528707490640542 - 0.848804093616767*I))*(-0.0016800090552026*sqrt(2) + 0.00361101978519132*sqrt(2)*I*(-0.528707490640542 + 0.848804093616767*I)) + 6.801978248e-11*(-0.0057179056926406*sqrt(2)*(-0.899595785950415 - 0.43672350738225*I) + 0.0122900948194552*sqrt(2)*I*(-0.899595785950415 - 0.43672350738225*I)*(-0.528707490640542 + 0.848804093616767*I))*(-0.0122900948194552*sqrt(2)*I*(-0.899595785950415 + 0.43672350738225*I)*(-0.528707490640542 - 0.848804093616767*I) - 0.0057179056926406*sqrt(2)*(-0.899595785950415 + 0.43672350738225*I))) + 0.204559091171405*Abs(6.801978248e-11*(-0.00846423455609796*sqrt(2)*(-0.773914638119368 + 0.633289927998676*I) + 0.00413624563548532*sqrt(2)*I*(-0.777553650071868 - 0.628816603836059*I)*(-0.773914638119368 + 0.633289927998676*I))*(-0.00413624563548532*sqrt(2)*I*(-0.777553650071868 + 0.628816603836059*I)*(-0.773914638119368 - 0.633289927998676*I) - 0.00846423455609796*sqrt(2)*(-0.773914638119368 - 0.633289927998676*I)) + 6.801978248e-11*(-0.00798315375289695*sqrt(2) - 0.00631132891438912*sqrt(2)*I*(-0.777553650071868 - 0.628816603836059*I))*(-0.00798315375289695*sqrt(2) + 0.00631132891438912*sqrt(2)*I*(-0.777553650071868 + 0.628816603836059*I)) + 6.801978248e-11*(-0.0175716261748667*sqrt(2) + 0.00858678497062797*sqrt(2)*I*(-0.777553650071868 - 0.628816603836059*I))*(-0.0175716261748667*sqrt(2) - 0.00858678497062797*sqrt(2)*I*(-0.777553650071868 + 0.628816603836059*I)) + 6.801978248e-11*(-0.00384547708843039*sqrt(2)*(-0.773914638119368 - 0.633289927998676*I) + 0.00304016075464216*sqrt(2)*I*(-0.777553650071868 + 0.628816603836059*I)*(-0.773914638119368 - 0.633289927998676*I))*(-0.00304016075464216*sqrt(2)*I*(-0.777553650071868 - 0.628816603836059*I)*(-0.773914638119368 + 0.633289927998676*I) - 0.00384547708843039*sqrt(2)*(-0.773914638119368 + 0.633289927998676*I))) + 0.204559091171405*Abs(6.801978248e-11*(-0.00128767222057628*sqrt(2) + 0.00503622545437905*sqrt(2)*I*(-0.203773862284268 - 0.979017984027746*I))*(-0.00128767222057628*sqrt(2) - 0.00503622545437905*sqrt(2)*I*(-0.203773862284268 + 0.979017984027746*I)) + 6.801978248e-11*(-0.0106945693089611*sqrt(2) - 0.00913025455276873*sqrt(2)*I*(-0.203773862284268 - 0.979017984027746*I))*(-0.0106945693089611*sqrt(2) + 0.00913025455276873*sqrt(2)*I*(-0.203773862284268 + 0.979017984027746*I)) + 6.801978248e-11*(-0.000463507794363661*sqrt(2)*(-0.777831447663581 + 0.628472942158672*I) + 0.00181282916178208*sqrt(2)*I*(-0.777831447663581 + 0.628472942158672*I)*(-0.203773862284268 - 0.979017984027746*I))*(-0.00181282916178208*sqrt(2)*I*(-0.777831447663581 - 0.628472942158672*I)*(-0.203773862284268 + 0.979017984027746*I) - 0.000463507794363661*sqrt(2)*(-0.777831447663581 - 0.628472942158672*I)) + 6.801978248e-11*(-0.00384959475933048*sqrt(2)*(-0.777831447663581 - 0.628472942158672*I) + 0.00328650729751603*sqrt(2)*I*(-0.777831447663581 - 0.628472942158672*I)*(-0.203773862284268 + 0.979017984027746*I))*(-0.00328650729751603*sqrt(2)*I*(-0.777831447663581 + 0.628472942158672*I)*(-0.203773862284268 - 0.979017984027746*I) - 0.00384959475933048*sqrt(2)*(-0.777831447663581 + 0.628472942158672*I))) + 0.204559091171405*Abs(6.801978248e-11*(-0.000187067914458107*sqrt(2) + 0.00563735858338647*sqrt(2)*I*(0.94898898487395 - 0.315309223759644*I))*(-0.000187067914458107*sqrt(2) - 0.00563735858338647*sqrt(2)*I*(0.94898898487395 + 0.315309223759644*I)) + 6.801978248e-11*(-0.0120515249237247*sqrt(2)*(0.913387789251332 + 0.407090587519*I) + 0.000372476688647094*sqrt(2)*I*(0.913387789251332 + 0.407090587519*I)*(0.94898898487395 + 0.315309223759644*I))*(-0.000372476688647094*sqrt(2)*I*(0.913387789251332 - 0.407090587519*I)*(0.94898898487395 - 0.315309223759644*I) - 0.0120515249237247*sqrt(2)*(0.913387789251332 - 0.407090587519*I)) + 6.801978248e-11*(-0.000645970451586476*sqrt(2)*(0.913387789251332 - 0.407090587519*I) + 0.0194665508535435*sqrt(2)*I*(0.913387789251332 - 0.407090587519*I)*(0.94898898487395 - 0.315309223759644*I))*(-0.0194665508535435*sqrt(2)*I*(0.913387789251332 + 0.407090587519*I)*(0.94898898487395 + 0.315309223759644*I) - 0.000645970451586476*sqrt(2)*(0.913387789251332 + 0.407090587519*I)) + 6.801978248e-11*(-0.00349002594156472*sqrt(2) - 0.000107866291961724*sqrt(2)*I*(0.94898898487395 - 0.315309223759644*I))*(-0.00349002594156472*sqrt(2) + 0.000107866291961724*sqrt(2)*I*(0.94898898487395 + 0.315309223759644*I))) + 0.204559091171405*Abs(6.801978248e-11*(-0.00380753595470578*sqrt(2) - 0.000162144507654483*sqrt(2)*I*(0.710449916530253 - 0.703747764545051*I))*(-0.00380753595470578*sqrt(2) + 0.000162144507654483*sqrt(2)*I*(0.710449916530253 + 0.703747764545051*I)) + 6.801978248e-11*(-0.00150249691598853*sqrt(2)*(0.804368023151412 - 0.594131368748941*I) + 0.0246044636247649*sqrt(2)*I*(0.710449916530253 - 0.703747764545051*I)*(0.804368023151412 - 0.594131368748941*I))*(-0.0246044636247649*sqrt(2)*I*(0.710449916530253 + 0.703747764545051*I)*(0.804368023151412 + 0.594131368748941*I) - 0.00150249691598853*sqrt(2)*(0.804368023151412 + 0.594131368748941*I)) + 6.801978248e-11*(-0.000393805125499327*sqrt(2) + 0.00644884111407264*sqrt(2)*I*(0.710449916530253 - 0.703747764545051*I))*(-0.000393805125499327*sqrt(2) - 0.00644884111407264*sqrt(2)*I*(0.710449916530253 + 0.703747764545051*I)) + 6.801978248e-11*(-0.014527010084511*sqrt(2)*(0.804368023151412 + 0.594131368748941*I) + 0.00061863497176792*sqrt(2)*I*(0.710449916530253 + 0.703747764545051*I)*(0.804368023151412 + 0.594131368748941*I))*(-0.00061863497176792*sqrt(2)*I*(0.710449916530253 - 0.703747764545051*I)*(0.804368023151412 - 0.594131368748941*I) - 0.014527010084511*sqrt(2)*(0.804368023151412 - 0.594131368748941*I))) + 0.204559091171405*Abs(6.801978248e-11*(-0.00218095793660865*sqrt(2)*(0.999860071589501 - 0.0167283364695446*I) - 9.91652896591709e-5*sqrt(2)*I*(-0.960727486742992 - 0.277493596712597*I)*(0.999860071589501 - 0.0167283364695446*I))*(9.91652896591709e-5*sqrt(2)*I*(-0.960727486742992 + 0.277493596712597*I)*(0.999860071589501 + 0.0167283364695446*I) - 0.00218095793660865*sqrt(2)*(0.999860071589501 + 0.0167283364695446*I)) + 6.801978248e-11*(0.000269408113922906*sqrt(2) - 0.036824658296748*sqrt(2)*I*(-0.960727486742992 - 0.277493596712597*I))*(0.000269408113922906*sqrt(2) + 0.036824658296748*sqrt(2)*I*(-0.960727486742992 + 0.277493596712597*I)) + 6.801978248e-11*(-0.0413852532933123*sqrt(2) - 0.00188173305021695*sqrt(2)*I*(-0.960727486742992 - 0.277493596712597*I))*(-0.0413852532933123*sqrt(2) + 0.00188173305021695*sqrt(2)*I*(-0.960727486742992 + 0.277493596712597*I)) + 6.801978248e-11*(1.41975152376771e-5*sqrt(2)*(0.999860071589501 - 0.0167283364695446*I) - 0.00194061952952146*sqrt(2)*I*(-0.960727486742992 - 0.277493596712597*I)*(0.999860071589501 - 0.0167283364695446*I))*(0.00194061952952146*sqrt(2)*I*(-0.960727486742992 + 0.277493596712597*I)*(0.999860071589501 + 0.0167283364695446*I) + 1.41975152376771e-5*sqrt(2)*(0.999860071589501 + 0.0167283364695446*I))) + 0.204559091171405*Abs(6.801978248e-11*(-2.16216087685638e-5*sqrt(2) + 0.000287881303985181*sqrt(2)*I*(-0.494337021621839 - 0.869270331401026*I))*(-2.16216087685638e-5*sqrt(2) - 0.000287881303985181*sqrt(2)*I*(-0.494337021621839 + 0.869270331401026*I)) + 6.801978248e-11*(-0.00152071882279458*sqrt(2)*(0.909125494526842 - 0.416522310568504*I) - 0.0202476384799555*sqrt(2)*I*(-0.494337021621839 + 0.869270331401026*I)*(0.909125494526842 - 0.416522310568504*I))*(0.0202476384799555*sqrt(2)*I*(-0.494337021621839 - 0.869270331401026*I)*(0.909125494526842 + 0.416522310568504*I) - 0.00152071882279458*sqrt(2)*(0.909125494526842 + 0.416522310568504*I)) + 6.801978248e-11*(0.000759508133742309*sqrt(2) + 3.51672977999445e-6*sqrt(2)*I*(-0.494337021621839 - 0.869270331401026*I))*(0.000759508133742309*sqrt(2) - 3.51672977999445e-6*sqrt(2)*I*(-0.494337021621839 + 0.869270331401026*I)) + 6.801978248e-11*(0.0534187038259058*sqrt(2)*(0.909125494526842 - 0.416522310568504*I) - 0.000247343166198408*sqrt(2)*I*(-0.494337021621839 + 0.869270331401026*I)*(0.909125494526842 - 0.416522310568504*I))*(0.000247343166198408*sqrt(2)*I*(-0.494337021621839 - 0.869270331401026*I)*(0.909125494526842 + 0.416522310568504*I) + 0.0534187038259058*sqrt(2)*(0.909125494526842 + 0.416522310568504*I))) + 0.204559091171405*Abs(6.801978248e-11*(-0.00155591576867616*sqrt(2) + 0.000686421847026194*sqrt(2)*I*(-0.719124950223053 - 0.694880785434949*I))*(-0.00155591576867616*sqrt(2) - 0.000686421847026194*sqrt(2)*I*(-0.719124950223053 + 0.694880785434949*I)) + 6.801978248e-11*(-0.010375417039559*sqrt(2)*(-0.423535934102123 + 0.905879303508057*I) + 0.00457731264849943*sqrt(2)*I*(-0.719124950223053 - 0.694880785434949*I)*(-0.423535934102123 + 0.905879303508057*I))*(-0.00457731264849943*sqrt(2)*I*(-0.719124950223053 + 0.694880785434949*I)*(-0.423535934102123 - 0.905879303508057*I) - 0.010375417039559*sqrt(2)*(-0.423535934102123 - 0.905879303508057*I)) + 6.801978248e-11*(-0.000935788356800636*sqrt(2) - 0.00840359169487857*sqrt(2)*I*(-0.719124950223053 - 0.694880785434949*I))*(-0.000935788356800636*sqrt(2) + 0.00840359169487857*sqrt(2)*I*(-0.719124950223053 + 0.694880785434949*I)) + 6.801978248e-11*(-0.00624018000076649*sqrt(2)*(-0.423535934102123 - 0.905879303508057*I) + 0.056038231773128*sqrt(2)*I*(-0.719124950223053 + 0.694880785434949*I)*(-0.423535934102123 - 0.905879303508057*I))*(-0.056038231773128*sqrt(2)*I*(-0.719124950223053 - 0.694880785434949*I)*(-0.423535934102123 + 0.905879303508057*I) - 0.00624018000076649*sqrt(2)*(-0.423535934102123 + 0.905879303508057*I))) + 0.204559091171405*Abs(6.801978248e-11*(-0.0031231960512128*sqrt(2) - 0.0141346548123825*sqrt(2)*I*(0.781448529241174 - 0.623969707715692*I))*(-0.0031231960512128*sqrt(2) + 0.0141346548123825*sqrt(2)*I*(0.781448529241174 + 0.623969707715692*I)) + 6.801978248e-11*(-0.0221949072388306*sqrt(2)*(0.508683276059705 + 0.860953729684218*I) + 0.00872450629007835*sqrt(2)*I*(0.508683276059705 + 0.860953729684218*I)*(0.781448529241174 - 0.623969707715692*I))*(-0.00872450629007835*sqrt(2)*I*(0.508683276059705 - 0.860953729684218*I)*(0.781448529241174 + 0.623969707715692*I) - 0.0221949072388306*sqrt(2)*(0.508683276059705 - 0.860953729684218*I)) + 6.801978248e-11*(-0.00082006747060507*sqrt(2)*(0.508683276059705 - 0.860953729684218*I) + 0.00371138104358359*sqrt(2)*I*(0.508683276059705 - 0.860953729684218*I)*(0.781448529241174 + 0.623969707715692*I))*(-0.00371138104358359*sqrt(2)*I*(0.508683276059705 + 0.860953729684218*I)*(0.781448529241174 - 0.623969707715692*I) - 0.00082006747060507*sqrt(2)*(0.508683276059705 + 0.860953729684218*I)) + 6.801978248e-11*(-0.0845284676323088*sqrt(2) + 0.0332269533552517*sqrt(2)*I*(0.781448529241174 - 0.623969707715692*I))*(-0.0845284676323088*sqrt(2) - 0.0332269533552517*sqrt(2)*I*(0.781448529241174 + 0.623969707715692*I))) + 0.204559091171405*Abs(6.801978248e-11*(-1.72159936415436e-5*sqrt(2)*(-0.984438668715071 - 0.17572850519622*I) + 7.84195454300314e-5*sqrt(2)*I*(-0.984438668715071 - 0.17572850519622*I)*(-0.75461260152521 + 0.65617057357013*I))*(-7.84195454300314e-5*sqrt(2)*I*(-0.984438668715071 + 0.17572850519622*I)*(-0.75461260152521 - 0.65617057357013*I) - 1.72159936415436e-5*sqrt(2)*(-0.984438668715071 + 0.17572850519622*I)) + 6.801978248e-11*(-0.00155159798034081*sqrt(2)*(-0.984438668715071 + 0.17572850519622*I) + 5.41478088810517e-6*sqrt(2)*I*(-0.984438668715071 + 0.17572850519622*I)*(-0.75461260152521 - 0.65617057357013*I))*(-5.41478088810517e-6*sqrt(2)*I*(-0.984438668715071 - 0.17572850519622*I)*(-0.75461260152521 + 0.65617057357013*I) - 0.00155159798034081*sqrt(2)*(-0.984438668715071 - 0.17572850519622*I)) + 6.801978248e-11*(-0.0736234146851554*sqrt(2) + 0.000256931669031083*sqrt(2)*I*(-0.75461260152521 - 0.65617057357013*I))*(-0.0736234146851554*sqrt(2) - 0.000256931669031083*sqrt(2)*I*(-0.75461260152521 + 0.65617057357013*I)) + 6.801978248e-11*(-0.000816899902647433*sqrt(2) - 0.00372101200553795*sqrt(2)*I*(-0.75461260152521 - 0.65617057357013*I))*(-0.000816899902647433*sqrt(2) + 0.00372101200553795*sqrt(2)*I*(-0.75461260152521 + 0.65617057357013*I))) + 0.204559091171405*Abs(6.801978248e-11*(0.0071543500308079*sqrt(2) - 0.00170505634341742*sqrt(2)*I*(0.632187013081609 - 0.774815836499845*I))*(0.0071543500308079*sqrt(2) + 0.00170505634341742*sqrt(2)*I*(0.632187013081609 + 0.774815836499845*I)) + 6.801978248e-11*(-0.00491045931099388*sqrt(2) - 0.0120816403316446*sqrt(2)*I*(0.632187013081609 - 0.774815836499845*I))*(-0.00491045931099388*sqrt(2) + 0.0120816403316446*sqrt(2)*I*(0.632187013081609 + 0.774815836499845*I)) + 6.801978248e-11*(0.0390280096979062*sqrt(2)*(-0.864461658781314 - 0.502698757206598*I) - 0.00930132789419267*sqrt(2)*I*(-0.864461658781314 - 0.502698757206598*I)*(0.632187013081609 - 0.774815836499845*I))*(0.00930132789419267*sqrt(2)*I*(-0.864461658781314 + 0.502698757206598*I)*(0.632187013081609 + 0.774815836499845*I) + 0.0390280096979062*sqrt(2)*(-0.864461658781314 + 0.502698757206598*I)) + 6.801978248e-11*(-0.0267872626842947*sqrt(2)*(-0.864461658781314 - 0.502698757206598*I) - 0.0659070878555818*sqrt(2)*I*(-0.864461658781314 - 0.502698757206598*I)*(0.632187013081609 - 0.774815836499845*I))*(0.0659070878555818*sqrt(2)*I*(-0.864461658781314 + 0.502698757206598*I)*(0.632187013081609 + 0.774815836499845*I) - 0.0267872626842947*sqrt(2)*(-0.864461658781314 + 0.502698757206598*I))) + 0.204559091171405*Abs(6.801978248e-11*(8.62531804513142e-5*sqrt(2) + 0.0213490502330268*sqrt(2)*I*(0.904237715968873 - 0.427029452168578*I))*(8.62531804513142e-5*sqrt(2) - 0.0213490502330268*sqrt(2)*I*(0.904237715968873 + 0.427029452168578*I)) + 6.801978248e-11*(-0.00190899931527398*sqrt(2)*(-0.968939384816668 + 0.2472983391596*I) - 0.000106343431490633*sqrt(2)*I*(-0.968939384816668 + 0.2472983391596*I)*(0.904237715968873 + 0.427029452168578*I))*(0.000106343431490633*sqrt(2)*I*(-0.968939384816668 - 0.2472983391596*I)*(0.904237715968873 - 0.427029452168578*I) - 0.00190899931527398*sqrt(2)*(-0.968939384816668 - 0.2472983391596*I)) + 6.801978248e-11*(1.7017389827911e-6*sqrt(2)*(-0.968939384816668 + 0.2472983391596*I) - 0.000421207784304419*sqrt(2)*I*(-0.968939384816668 + 0.2472983391596*I)*(0.904237715968873 + 0.427029452168578*I))*(0.000421207784304419*sqrt(2)*I*(-0.968939384816668 - 0.2472983391596*I)*(0.904237715968873 - 0.427029452168578*I) + 1.7017389827911e-6*sqrt(2)*(-0.968939384816668 - 0.2472983391596*I)) + 6.801978248e-11*(-0.0967582361847876*sqrt(2) + 0.00539005057704521*sqrt(2)*I*(0.904237715968873 - 0.427029452168578*I))*(-0.0967582361847876*sqrt(2) - 0.00539005057704521*sqrt(2)*I*(0.904237715968873 + 0.427029452168578*I))) + 0.204559091171405*Abs(6.801978248e-11*(0.00450035825372923*sqrt(2) - 0.000789469085240841*sqrt(2)*I*(-0.674034751648172 - 0.738699636909744*I))*(0.00450035825372923*sqrt(2) + 0.000789469085240841*sqrt(2)*I*(-0.674034751648172 + 0.738699636909744*I)) + 6.801978248e-11*(-0.00727065809250141*sqrt(2) - 0.0118009969378549*sqrt(2)*I*(-0.674034751648172 - 0.738699636909744*I))*(-0.00727065809250141*sqrt(2) + 0.0118009969378549*sqrt(2)*I*(-0.674034751648172 + 0.738699636909744*I)) + 6.801978248e-11*(0.024437613400767*sqrt(2)*(0.634729255534142 - 0.772734606555882*I) - 0.00428693433039156*sqrt(2)*I*(-0.674034751648172 - 0.738699636909744*I)*(0.634729255534142 - 0.772734606555882*I))*(0.00428693433039156*sqrt(2)*I*(-0.674034751648172 + 0.738699636909744*I)*(0.634729255534142 + 0.772734606555882*I) + 0.024437613400767*sqrt(2)*(0.634729255534142 + 0.772734606555882*I)) + 6.801978248e-11*(-0.039480752779287*sqrt(2)*(0.634729255534142 - 0.772734606555882*I) - 0.064081165243225*sqrt(2)*I*(-0.674034751648172 - 0.738699636909744*I)*(0.634729255534142 - 0.772734606555882*I))*(0.064081165243225*sqrt(2)*I*(-0.674034751648172 + 0.738699636909744*I)*(0.634729255534142 + 0.772734606555882*I) - 0.039480752779287*sqrt(2)*(0.634729255534142 + 0.772734606555882*I))) + 0.204559091171405*Abs(6.801978248e-11*(-0.0946690009732281*sqrt(2) - 0.00968668702430632*sqrt(2)*I*(0.771928139492972 - 0.635709798146071*I))*(-0.0946690009732281*sqrt(2) + 0.00968668702430632*sqrt(2)*I*(0.771928139492972 + 0.635709798146071*I)) + 6.801978248e-11*(0.000106981816530277*sqrt(2)*(-0.962144381370373 + 0.27254025280208*I) - 0.00235614596322674*sqrt(2)*I*(-0.962144381370373 + 0.27254025280208*I)*(0.771928139492972 - 0.635709798146071*I))*(0.00235614596322674*sqrt(2)*I*(-0.962144381370373 - 0.27254025280208*I)*(0.771928139492972 + 0.635709798146071*I) + 0.000106981816530277*sqrt(2)*(-0.962144381370373 - 0.27254025280208*I)) + 6.801978248e-11*(-0.0108242525894252*sqrt(2)*(-0.962144381370373 + 0.27254025280208*I) - 0.00110755522956718*sqrt(2)*I*(-0.962144381370373 + 0.27254025280208*I)*(0.771928139492972 - 0.635709798146071*I))*(0.00110755522956718*sqrt(2)*I*(-0.962144381370373 - 0.27254025280208*I)*(0.771928139492972 + 0.635709798146071*I) - 0.0108242525894252*sqrt(2)*(-0.962144381370373 - 0.27254025280208*I)) + 6.801978248e-11*(0.000935663835405778*sqrt(2) - 0.0206068717117422*sqrt(2)*I*(0.771928139492972 - 0.635709798146071*I))*(0.000935663835405778*sqrt(2) + 0.0206068717117422*sqrt(2)*I*(0.771928139492972 + 0.635709798146071*I))) + 0.204559091171405*Abs(6.801978248e-11*(0.00893267128367382*sqrt(2) - 0.00530013076193908*sqrt(2)*I*(0.963243433251509 - 0.268630021214768*I))*(0.00893267128367382*sqrt(2) + 0.00530013076193908*sqrt(2)*I*(0.963243433251509 + 0.268630021214768*I)) + 6.801978248e-11*(-0.0219098408990158*sqrt(2)*(-0.346507114075059 - 0.938047344165194*I) - 0.132314700515279*sqrt(2)*I*(-0.346507114075059 - 0.938047344165194*I)*(0.963243433251509 - 0.268630021214768*I))*(0.132314700515279*sqrt(2)*I*(-0.346507114075059 + 0.938047344165194*I)*(0.963243433251509 + 0.268630021214768*I) - 0.0219098408990158*sqrt(2)*(-0.346507114075059 + 0.938047344165194*I)) + 6.801978248e-11*(-0.00771998252464349*sqrt(2) - 0.0466213871857587*sqrt(2)*I*(0.963243433251509 - 0.268630021214768*I))*(-0.00771998252464349*sqrt(2) + 0.0466213871857587*sqrt(2)*I*(0.963243433251509 + 0.268630021214768*I)) + 6.801978248e-11*(0.0253515349294834*sqrt(2)*(-0.346507114075059 - 0.938047344165194*I) - 0.0150421353114951*sqrt(2)*I*(-0.346507114075059 - 0.938047344165194*I)*(0.963243433251509 - 0.268630021214768*I))*(0.0150421353114951*sqrt(2)*I*(-0.346507114075059 + 0.938047344165194*I)*(0.963243433251509 + 0.268630021214768*I) + 0.0253515349294834*sqrt(2)*(-0.346507114075059 + 0.938047344165194*I))) + 0.204559091171405*Abs(6.801978248e-11*(0.0130638168306831*sqrt(2) - 0.00743439130622002*sqrt(2)*I*(0.715461500489235 - 0.698652160461622*I))*(0.0130638168306831*sqrt(2) + 0.00743439130622002*sqrt(2)*I*(0.715461500489235 + 0.698652160461622*I)) + 6.801978248e-11*(0.0321398004182329*sqrt(2)*(-0.334499655483766 - 0.942395872487375*I) - 0.0182902023129838*sqrt(2)*I*(-0.334499655483766 - 0.942395872487375*I)*(0.715461500489235 - 0.698652160461622*I))*(0.0182902023129838*sqrt(2)*I*(-0.334499655483766 + 0.942395872487375*I)*(0.715461500489235 + 0.698652160461622*I) + 0.0321398004182329*sqrt(2)*(-0.334499655483766 + 0.942395872487375*I)) + 6.801978248e-11*(-0.018502693639084*sqrt(2) - 0.0531297698003407*sqrt(2)*I*(0.715461500489235 - 0.698652160461622*I))*(-0.018502693639084*sqrt(2) + 0.0531297698003407*sqrt(2)*I*(0.715461500489235 + 0.698652160461622*I)) + 6.801978248e-11*(-0.0455206076805327*sqrt(2)*(-0.334499655483766 - 0.942395872487375*I) - 0.130710665939452*sqrt(2)*I*(-0.334499655483766 - 0.942395872487375*I)*(0.715461500489235 - 0.698652160461622*I))*(0.130710665939452*sqrt(2)*I*(-0.334499655483766 + 0.942395872487375*I)*(0.715461500489235 + 0.698652160461622*I) - 0.0455206076805327*sqrt(2)*(-0.334499655483766 + 0.942395872487375*I))) + 0.204559091171405*Abs(6.801978248e-11*(1.57252907656446e-5*sqrt(2)*(0.714806968125244 + 0.699321813130119*I) - 0.000345151852333598*sqrt(2)*I*(-0.994906517625695 + 0.100801890785401*I)*(0.714806968125244 + 0.699321813130119*I))*(0.000345151852333598*sqrt(2)*I*(-0.994906517625695 - 0.100801890785401*I)*(0.714806968125244 - 0.699321813130119*I) + 1.57252907656446e-5*sqrt(2)*(0.714806968125244 - 0.699321813130119*I)) + 6.801978248e-11*(-0.64784422943433*sqrt(2) + 0.00354234658019709*sqrt(2)*I*(-0.994906517625695 - 0.100801890785401*I))*(-0.64784422943433*sqrt(2) - 0.00354234658019709*sqrt(2)*I*(-0.994906517625695 + 0.100801890785401*I)) + 6.801978248e-11*(0.000740339962148976*sqrt(2) + 0.016249601555894*sqrt(2)*I*(-0.994906517625695 - 0.100801890785401*I))*(0.000740339962148976*sqrt(2) - 0.016249601555894*sqrt(2)*I*(-0.994906517625695 + 0.100801890785401*I)) + 6.801978248e-11*(-0.0137606226862705*sqrt(2)*(0.714806968125244 + 0.699321813130119*I) - 7.52416900535715e-5*sqrt(2)*I*(-0.994906517625695 + 0.100801890785401*I)*(0.714806968125244 + 0.699321813130119*I))*(7.52416900535715e-5*sqrt(2)*I*(-0.994906517625695 - 0.100801890785401*I)*(0.714806968125244 - 0.699321813130119*I) - 0.0137606226862705*sqrt(2)*(0.714806968125244 - 0.699321813130119*I))) + 2.41618762805254e-9\n",
      "123.48967504501343\n"
     ]
    }
   ],
   "source": [
    "t1 = time.time()\n",
    "print(integrate(integrand, sampler(), measure=domainsize, n=100))\n",
    "t2 = time.time()\n",
    "print(t2-t1)"
   ]
  },
  {
   "cell_type": "code",
   "execution_count": null,
   "metadata": {
    "collapsed": true
   },
   "outputs": [],
   "source": []
  },
  {
   "cell_type": "code",
   "execution_count": null,
   "metadata": {
    "collapsed": true
   },
   "outputs": [],
   "source": []
  },
  {
   "cell_type": "code",
   "execution_count": null,
   "metadata": {
    "collapsed": true
   },
   "outputs": [],
   "source": []
  },
  {
   "cell_type": "code",
   "execution_count": null,
   "metadata": {
    "collapsed": true
   },
   "outputs": [],
   "source": []
  },
  {
   "cell_type": "code",
   "execution_count": null,
   "metadata": {
    "collapsed": true
   },
   "outputs": [],
   "source": []
  },
  {
   "cell_type": "code",
   "execution_count": null,
   "metadata": {
    "collapsed": true
   },
   "outputs": [],
   "source": []
  },
  {
   "cell_type": "code",
   "execution_count": null,
   "metadata": {
    "collapsed": true
   },
   "outputs": [],
   "source": []
  },
  {
   "cell_type": "code",
   "execution_count": 24,
   "metadata": {
    "collapsed": true
   },
   "outputs": [],
   "source": [
    "def integrand(x):\n",
    "    Momentum = x[0]\n",
    "    ThetaOne = x[1]\n",
    "    ThetaTwo = x[2]\n",
    "    PhiOne   = x[3]\n",
    "    PhiTwo   = x[4]\n",
    "    Values   = [(p1,Momentum),(theta1,ThetaOne),(theta2,ThetaTwo),(phi1,PhiOne),(phi2,PhiTwo)]\n",
    "    This     = N(ELEMENT.subs(Values))[0]\n",
    "    return abs(This)\n",
    "    #return np.real(This)\n",
    "\n",
    "def sampler():\n",
    "    while True:\n",
    "        Momentum = random.uniform(0.,0.0525)#half m0\n",
    "        ThetaOne = random.uniform(0.,math.pi)\n",
    "        ThetaTwo = random.uniform(0.,math.pi)\n",
    "        PhiOne   = random.uniform(0.,2*math.pi)\n",
    "        PhiTwo   = random.uniform(0.,2*math.pi)\n",
    "        \n",
    "        yield (Momentum, ThetaOne, ThetaTwo, PhiOne, PhiTwo)\n",
    "\n",
    "domainsize = math.pow(math.pi,4)*4*0.0525"
   ]
  },
  {
   "cell_type": "code",
   "execution_count": 25,
   "metadata": {
    "collapsed": false
   },
   "outputs": [
    {
     "name": "stdout",
     "output_type": "stream",
     "text": [
      "1.02743866560034e-10\n",
      "42.227355003356934\n"
     ]
    }
   ],
   "source": [
    "t1 = time.time()\n",
    "print(integrate(integrand, sampler(), measure=domainsize, n=100))\n",
    "t2 = time.time()\n",
    "print(t2-t1)"
   ]
  },
  {
   "cell_type": "code",
   "execution_count": 26,
   "metadata": {
    "collapsed": false
   },
   "outputs": [
    {
     "name": "stdout",
     "output_type": "stream",
     "text": [
      "2.24394745714368e-10\n",
      "43.35280895233154\n"
     ]
    }
   ],
   "source": [
    "t1 = time.time()\n",
    "print(integrate(integrand, sampler(), measure=domainsize, n=100))\n",
    "t2 = time.time()\n",
    "print(t2-t1)"
   ]
  },
  {
   "cell_type": "code",
   "execution_count": 27,
   "metadata": {
    "collapsed": false
   },
   "outputs": [
    {
     "name": "stdout",
     "output_type": "stream",
     "text": [
      "5.86343426504037e-16\n",
      "42.93415021896362\n"
     ]
    }
   ],
   "source": [
    "t1 = time.time()\n",
    "print(integrate(integrand, sampler(), measure=domainsize, n=100))\n",
    "t2 = time.time()\n",
    "print(t2-t1)"
   ]
  },
  {
   "cell_type": "code",
   "execution_count": null,
   "metadata": {
    "collapsed": true
   },
   "outputs": [],
   "source": []
  },
  {
   "cell_type": "code",
   "execution_count": null,
   "metadata": {
    "collapsed": true
   },
   "outputs": [],
   "source": []
  },
  {
   "cell_type": "code",
   "execution_count": 32,
   "metadata": {
    "collapsed": true
   },
   "outputs": [],
   "source": [
    "def integrand(x):\n",
    "    Momentum = x[0]\n",
    "    ThetaOne = x[1]\n",
    "    ThetaTwo = x[2]\n",
    "    PhiOne   = x[3]\n",
    "    PhiTwo   = x[4]\n",
    "    Values   = [(p1,Momentum),(theta1,ThetaOne),(theta2,ThetaTwo),(phi1,PhiOne),(phi2,PhiTwo)]\n",
    "    This     = N(ELEMENT.subs(Values))[0]\n",
    "    #return abs(This)\n",
    "    return np.real(This)\n",
    "\n",
    "def sampler():\n",
    "    while True:\n",
    "        Momentum = random.uniform(0.,0.0525)#half m0\n",
    "        ThetaOne = random.uniform(0.,math.pi)\n",
    "        ThetaTwo = random.uniform(0.,math.pi)\n",
    "        PhiOne   = random.uniform(0.,2*math.pi)\n",
    "        PhiTwo   = random.uniform(0.,2*math.pi)\n",
    "        \n",
    "        yield (Momentum, ThetaOne, ThetaTwo, PhiOne, PhiTwo)\n",
    "\n",
    "domainsize = math.pow(math.pi,4)*4*0.0525"
   ]
  },
  {
   "cell_type": "code",
   "execution_count": 33,
   "metadata": {
    "collapsed": false
   },
   "outputs": [
    {
     "name": "stdout",
     "output_type": "stream",
     "text": [
      "1.84910101564077e-19 - 2.54594869917009e-59*I\n",
      "46.727437019348145\n"
     ]
    }
   ],
   "source": [
    "t1 = time.time()\n",
    "print(integrate(integrand, sampler(), measure=domainsize, n=100))\n",
    "t2 = time.time()\n",
    "print(t2-t1)"
   ]
  },
  {
   "cell_type": "code",
   "execution_count": null,
   "metadata": {
    "collapsed": true
   },
   "outputs": [],
   "source": []
  },
  {
   "cell_type": "code",
   "execution_count": null,
   "metadata": {
    "collapsed": true
   },
   "outputs": [],
   "source": []
  },
  {
   "cell_type": "code",
   "execution_count": null,
   "metadata": {
    "collapsed": true
   },
   "outputs": [],
   "source": []
  },
  {
   "cell_type": "code",
   "execution_count": null,
   "metadata": {
    "collapsed": true
   },
   "outputs": [],
   "source": []
  },
  {
   "cell_type": "code",
   "execution_count": null,
   "metadata": {
    "collapsed": true
   },
   "outputs": [],
   "source": []
  },
  {
   "cell_type": "code",
   "execution_count": null,
   "metadata": {
    "collapsed": true
   },
   "outputs": [],
   "source": []
  },
  {
   "cell_type": "code",
   "execution_count": null,
   "metadata": {
    "collapsed": false
   },
   "outputs": [],
   "source": [
    "\n",
    "def w(r, theta, phi, alpha, beta, gamma):\n",
    "    return(-math.log(theta * beta))\n",
    "\n",
    "def integrand(x):\n",
    "    r     = x[0]\n",
    "    theta = x[1]\n",
    "    alpha = x[2]\n",
    "    beta  = x[3]\n",
    "    gamma = x[4]\n",
    "    phi   = x[5]\n",
    "\n",
    "    k = 1.\n",
    "    T = 1.\n",
    "    ww = w(r, theta, phi, alpha, beta, gamma)\n",
    "    return (math.exp(-ww/(k*T)) - 1.)*r*r*math.sin(beta)*math.sin(theta)\n",
    "\n",
    "def sampler():\n",
    "    while True:\n",
    "        r     = random.uniform(0.,1.)\n",
    "        theta = random.uniform(0.,2.*math.pi)\n",
    "        alpha = random.uniform(0.,2.*math.pi)\n",
    "        beta  = random.uniform(0.,2.*math.pi)\n",
    "        gamma = random.uniform(0.,2.*math.pi)\n",
    "        phi   = random.uniform(0.,math.pi)\n",
    "        yield (r, theta, alpha, beta, gamma, phi)\n",
    "\n",
    "domainsize = math.pow(2*math.pi,4)*math.pi*1\n",
    "expected = 16*math.pow(math.pi,5)/3.\n",
    "\n",
    "\n",
    "for nmc in [1000, 10000]:\n",
    "    random.seed(1)\n",
    "    result, error = integrate(integrand, sampler(), measure=domainsize, n=nmc)\n",
    "\n",
    "    print( \"Using n = \", nmc)\n",
    "    print( \"Result = \", result, \"estimated error = \", error)\n"
   ]
  },
  {
   "cell_type": "code",
   "execution_count": null,
   "metadata": {
    "collapsed": false
   },
   "outputs": [],
   "source": [
    "sampler()"
   ]
  },
  {
   "cell_type": "code",
   "execution_count": null,
   "metadata": {
    "collapsed": false
   },
   "outputs": [],
   "source": [
    "qwer = cos(z+u/2)"
   ]
  },
  {
   "cell_type": "code",
   "execution_count": null,
   "metadata": {
    "collapsed": false
   },
   "outputs": [],
   "source": [
    "a = N(qwer.subs([(z,1),(u,0)]))\n"
   ]
  },
  {
   "cell_type": "code",
   "execution_count": null,
   "metadata": {
    "collapsed": true
   },
   "outputs": [],
   "source": []
  },
  {
   "cell_type": "code",
   "execution_count": null,
   "metadata": {
    "collapsed": false
   },
   "outputs": [],
   "source": [
    "test = integrand((1,1,1,1,1))"
   ]
  },
  {
   "cell_type": "code",
   "execution_count": null,
   "metadata": {
    "collapsed": false
   },
   "outputs": [],
   "source": [
    "test[0].dtype"
   ]
  },
  {
   "cell_type": "code",
   "execution_count": null,
   "metadata": {
    "collapsed": true
   },
   "outputs": [],
   "source": []
  },
  {
   "cell_type": "code",
   "execution_count": null,
   "metadata": {
    "collapsed": true
   },
   "outputs": [],
   "source": []
  },
  {
   "cell_type": "code",
   "execution_count": null,
   "metadata": {
    "collapsed": false
   },
   "outputs": [],
   "source": [
    "abs(-3)"
   ]
  },
  {
   "cell_type": "code",
   "execution_count": null,
   "metadata": {
    "collapsed": true
   },
   "outputs": [],
   "source": []
  },
  {
   "cell_type": "code",
   "execution_count": null,
   "metadata": {
    "collapsed": false
   },
   "outputs": [],
   "source": [
    "def integrand(x):\n",
    "    Momentum = x[0]\n",
    "    ThetaOne = x[1]\n",
    "    ThetaTwo = x[2]\n",
    "    PhiOne   = x[3]\n",
    "    PhiTwo   = x[4]\n",
    "    Values   = [(p1,Momentum),(theta1,ThetaOne),(theta2,ThetaTwo),(phi1,PhiOne),(phi2,PhiTwo)]\n",
    "    This     = np.array(N(ELEMENT.subs(Values))[0])\n",
    "    return This.real\n",
    "\n",
    "def sampler():\n",
    "    while True:\n",
    "        Momentum = random.uniform(0.,1.)\n",
    "        ThetaOne = random.uniform(0.,math.pi)\n",
    "        ThetaTwo = random.uniform(0.,math.pi)\n",
    "        PhiOne   = random.uniform(0.,2*math.pi)\n",
    "        PhiTwo   = random.uniform(0.,2*math.pi)\n",
    "        \n",
    "        yield (Momentum, ThetaOne, ThetaTwo, PhiOne, PhiTwo)\n",
    "\n",
    "domainsize = math.pow(math.pi,4)*4\n"
   ]
  },
  {
   "cell_type": "code",
   "execution_count": null,
   "metadata": {
    "collapsed": false
   },
   "outputs": [],
   "source": [
    "integrate(integrand, sampler(), measure=1, n=100)"
   ]
  },
  {
   "cell_type": "code",
   "execution_count": null,
   "metadata": {
    "collapsed": true
   },
   "outputs": [],
   "source": []
  },
  {
   "cell_type": "code",
   "execution_count": null,
   "metadata": {
    "collapsed": true
   },
   "outputs": [],
   "source": []
  },
  {
   "cell_type": "code",
   "execution_count": null,
   "metadata": {
    "collapsed": true
   },
   "outputs": [],
   "source": []
  },
  {
   "cell_type": "code",
   "execution_count": null,
   "metadata": {
    "collapsed": false
   },
   "outputs": [],
   "source": [
    "result, error = integrate(integrand, sampler(), measure=1, n=100)\n",
    "print( \"Result = \", result, \"estimated error = \", error)"
   ]
  },
  {
   "cell_type": "code",
   "execution_count": null,
   "metadata": {
    "collapsed": true
   },
   "outputs": [],
   "source": []
  },
  {
   "cell_type": "code",
   "execution_count": null,
   "metadata": {
    "collapsed": true
   },
   "outputs": [],
   "source": []
  },
  {
   "cell_type": "code",
   "execution_count": null,
   "metadata": {
    "collapsed": true
   },
   "outputs": [],
   "source": []
  },
  {
   "cell_type": "code",
   "execution_count": null,
   "metadata": {
    "collapsed": true
   },
   "outputs": [],
   "source": []
  },
  {
   "cell_type": "code",
   "execution_count": null,
   "metadata": {
    "collapsed": false
   },
   "outputs": [],
   "source": [
    "Momentum"
   ]
  },
  {
   "cell_type": "code",
   "execution_count": null,
   "metadata": {
    "collapsed": true
   },
   "outputs": [],
   "source": []
  },
  {
   "cell_type": "code",
   "execution_count": null,
   "metadata": {
    "collapsed": false
   },
   "outputs": [],
   "source": [
    "\n",
    "def integrand(x):\n",
    "    Momentum = x[0]\n",
    "    ThetaOne = x[1]\n",
    "    ThetaTwo = x[2]\n",
    "    PhiOne   = x[3]\n",
    "    PhiTwo   = x[4]\n",
    "    \n",
    "    return N(ELEMENT.subs([(z,r),(u,theta)]))\n",
    "\n",
    "def sampler():\n",
    "    while True:\n",
    "        r     = random.uniform(-math.pi/2,math.pi/2)\n",
    "        theta = random.uniform(0.,math.pi)\n",
    "        \n",
    "        yield (r, theta)\n",
    "\n",
    "domainsize = math.pow(math.pi,2)*1\n",
    "\n",
    "\n",
    "\n",
    "for nmc in [1000, 10000, 100000, 1000000]:\n",
    "    random.seed(1)\n",
    "    result, error = integrate(integrand, sampler(), measure=domainsize, n=nmc)\n",
    "\n",
    "    print( \"Using n = \", nmc)\n",
    "    print( \"Result = \", result, \"estimated error = \", error)"
   ]
  },
  {
   "cell_type": "code",
   "execution_count": null,
   "metadata": {
    "collapsed": true
   },
   "outputs": [],
   "source": []
  },
  {
   "cell_type": "code",
   "execution_count": null,
   "metadata": {
    "collapsed": true
   },
   "outputs": [],
   "source": []
  },
  {
   "cell_type": "code",
   "execution_count": null,
   "metadata": {
    "collapsed": true
   },
   "outputs": [],
   "source": []
  }
 ],
 "metadata": {
  "kernelspec": {
   "display_name": "Python 3",
   "language": "python",
   "name": "python3"
  },
  "language_info": {
   "codemirror_mode": {
    "name": "ipython",
    "version": 3
   },
   "file_extension": ".py",
   "mimetype": "text/x-python",
   "name": "python",
   "nbconvert_exporter": "python",
   "pygments_lexer": "ipython3",
   "version": "3.5.2"
  }
 },
 "nbformat": 4,
 "nbformat_minor": 0
}
