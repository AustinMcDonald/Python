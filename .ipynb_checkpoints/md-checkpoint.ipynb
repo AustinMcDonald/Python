{
 "cells": [
  {
   "cell_type": "code",
   "execution_count": 39,
   "metadata": {
    "collapsed": false
   },
   "outputs": [
    {
     "name": "stdout",
     "output_type": "stream",
     "text": [
      "30 water molecules will be added\n",
      "Solvent molecules have been added, now shrinking universe...\n",
      "Universe has been compressed, now equilibrating...\n"
     ]
    }
   ],
   "source": [
    "# Solvation of a protein with water.\n",
    "#\n",
    "# The solvation procedure consists of three steps:\n",
    "#\n",
    "# - The universe containing the protein is scaled up, and the required\n",
    "#   number of water molecules is added at random positions, but without\n",
    "#   any overlap between molecules. The system is so dilute that random\n",
    "#   placements are easily possible.\n",
    "#\n",
    "# - The universe is slowly scaled down do its original size, with\n",
    "#   each scaling step followed by some energy minimization and\n",
    "#   molecular dynamics steps.\n",
    "#\n",
    "# - A molecular dynamics run at constant pressure and temperature is\n",
    "#   used to put the system into a well-defined thermodynamic state.\n",
    "#\n",
    "\n",
    "from MMTK import *\n",
    "from MMTK.Proteins import Protein\n",
    "from MMTK.ForceFields import Amber94ForceField\n",
    "from MMTK.Environment import NoseThermostat, AndersenBarostat\n",
    "from MMTK.Trajectory import Trajectory, TrajectoryOutput, LogOutput\n",
    "from MMTK.Dynamics import VelocityVerletIntegrator, VelocityScaler, \\\n",
    "                          BarostatReset, TranslationRemover\n",
    "import MMTK.Solvation\n",
    "\n",
    "# Create the solute.\n",
    "protein = Protein('bala1')\n",
    "\n",
    "# Put the solvent in a standard configuration: center of mass at the\n",
    "# coordinate origin, principal axes of inertia parallel to the coordinate axes.\n",
    "protein.normalizeConfiguration()\n",
    "\n",
    "# Define density, pressure,  and temperature of the solvent.\n",
    "water_density = 1.*Units.g/Units.cm**3\n",
    "temperature = 300.*Units.K\n",
    "pressure = 1.*Units.atm\n",
    "\n",
    "# Calculate the box size as the boundary box of the protein plus an\n",
    "# offset. Note: a much larger offset should be used in real applications.\n",
    "box = protein.boundingBox()\n",
    "box = box[1]-box[0]+Vector(0.5, 0.5, 0.5)\n",
    "\n",
    "# Create a periodic universe. The force field is intentionally created with\n",
    "# a rather small cutoff to speed up the solvation process.\n",
    "universe = OrthorhombicPeriodicUniverse(tuple(box),\n",
    "                                        Amber94ForceField(1., 1.))\n",
    "universe.protein = protein\n",
    "\n",
    "# Find the number of solvent molecules.\n",
    "print MMTK.Solvation.numberOfSolventMolecules(universe,'water',water_density),\\\n",
    "      \"water molecules will be added\"\n",
    "\n",
    "# Scale up the universe and add the solvent molecules.\n",
    "MMTK.Solvation.addSolvent(universe, 'water', water_density)\n",
    "print \"Solvent molecules have been added, now shrinking universe...\"\n",
    "\n",
    "# Shrink the universe back to its original size, thereby compressing\n",
    "# the solvent to its real density.\n",
    "MMTK.Solvation.shrinkUniverse(universe, temperature, 'solvation.nc')\n",
    "print \"Universe has been compressed, now equilibrating...\"\n",
    "\n",
    "# Set a better force field and add thermostat and barostat.\n",
    "#\n",
    "# Note: For efficiency, optimized Ewald parameters should be used\n",
    "# in a real application. The barostat relaxation time must be\n",
    "# adjusted to the system size; it should be chosen smaller than\n",
    "# for a realistic simulation in order to reach the final\n",
    "# volume faster.\n",
    "universe.setForceField(Amber94ForceField(1.4, {'method': 'ewald'}))\n",
    "universe.thermostat = NoseThermostat(temperature)\n",
    "universe.barostat = AndersenBarostat(pressure, 0.1*Units.ps)\n",
    "\n",
    "# Create an integrator and a trajectory.\n",
    "integrator = VelocityVerletIntegrator(universe, delta_t=1.*Units.fs)\n",
    "\n",
    "trajectory = Trajectory(universe, \"equilibration.nc\", \"w\",\n",
    "                        \"Equilibration (NPT ensemble)\")\n",
    "\n",
    "# Start an NPT integration with periodic rescaling of velocities\n",
    "# and resetting of the barostat. The number of steps required to\n",
    "# reach a stable volume depends strongly on the system!\n",
    "output_actions = [TrajectoryOutput(trajectory,\n",
    "                                   ('configuration', 'energy', 'thermodynamic',\n",
    "                                    'time', 'auxiliary'), 0, None, 100),\n",
    "                  LogOutput(\"equilibration.log\", ('time', 'energy'),\n",
    "                            0, None, 100)]\n",
    "integrator(steps = 1000,\n",
    "           actions = [TranslationRemover(0, None, 200),\n",
    "                      BarostatReset(0, None, 20),\n",
    "                      VelocityScaler(temperature, 0., 0, None, 20)]\n",
    "           + output_actions)\n",
    "\n",
    "# Close the equilibration trajectory\n",
    "\n",
    "trajectory.close()\n",
    "view(universe)"
   ]
  },
  {
   "cell_type": "code",
   "execution_count": 17,
   "metadata": {
    "collapsed": false
   },
   "outputs": [
    {
     "name": "stdout",
     "output_type": "stream",
     "text": [
      "/Users/austinmcdonald/Desktop/md test\n"
     ]
    }
   ],
   "source": [
    "cd /Users/austinmcdonald/Desktop/md test"
   ]
  },
  {
   "cell_type": "code",
   "execution_count": 41,
   "metadata": {
    "collapsed": false
   },
   "outputs": [
    {
     "ename": "IOError",
     "evalue": "PDB configuration does not match object UNL",
     "output_type": "error",
     "traceback": [
      "\u001b[0;31m---------------------------------------------------------------------------\u001b[0m",
      "\u001b[0;31mIOError\u001b[0m                                   Traceback (most recent call last)",
      "\u001b[0;32m<ipython-input-41-208a46c38756>\u001b[0m in \u001b[0;36m<module>\u001b[0;34m()\u001b[0m\n\u001b[1;32m      5\u001b[0m \u001b[0;34m\u001b[0m\u001b[0m\n\u001b[1;32m      6\u001b[0m \u001b[0muniverse\u001b[0m \u001b[0;34m=\u001b[0m \u001b[0mInfiniteUniverse\u001b[0m\u001b[0;34m(\u001b[0m\u001b[0;34m)\u001b[0m\u001b[0;34m\u001b[0m\u001b[0m\n\u001b[0;32m----> 7\u001b[0;31m \u001b[0muniverse\u001b[0m\u001b[0;34m.\u001b[0m\u001b[0maddObject\u001b[0m\u001b[0;34m(\u001b[0m\u001b[0mconfiguration\u001b[0m\u001b[0;34m.\u001b[0m\u001b[0mcreateAll\u001b[0m\u001b[0;34m(\u001b[0m\u001b[0mNone\u001b[0m\u001b[0;34m,\u001b[0m \u001b[0;36m1\u001b[0m\u001b[0;34m)\u001b[0m\u001b[0;34m)\u001b[0m\u001b[0;34m\u001b[0m\u001b[0m\n\u001b[0m\u001b[1;32m      8\u001b[0m \u001b[0mview\u001b[0m\u001b[0;34m(\u001b[0m\u001b[0muniverse\u001b[0m\u001b[0;34m)\u001b[0m\u001b[0;34m\u001b[0m\u001b[0m\n",
      "\u001b[0;32m//anaconda/envs/py27/lib/python2.7/site-packages/MMTK/PDB.pyc\u001b[0m in \u001b[0;36mcreateAll\u001b[0;34m(self, molecule_names, permit_undefined)\u001b[0m\n\u001b[1;32m    431\u001b[0m         \u001b[0mnucleotide_chains\u001b[0m \u001b[0;34m=\u001b[0m \u001b[0mself\u001b[0m\u001b[0;34m.\u001b[0m\u001b[0mcreateNucleotideChains\u001b[0m\u001b[0;34m(\u001b[0m\u001b[0;34m)\u001b[0m\u001b[0;34m\u001b[0m\u001b[0m\n\u001b[1;32m    432\u001b[0m         \u001b[0mcollection\u001b[0m\u001b[0;34m.\u001b[0m\u001b[0maddObject\u001b[0m\u001b[0;34m(\u001b[0m\u001b[0mnucleotide_chains\u001b[0m\u001b[0;34m)\u001b[0m\u001b[0;34m\u001b[0m\u001b[0m\n\u001b[0;32m--> 433\u001b[0;31m         \u001b[0mmolecules\u001b[0m \u001b[0;34m=\u001b[0m \u001b[0mself\u001b[0m\u001b[0;34m.\u001b[0m\u001b[0mcreateMolecules\u001b[0m\u001b[0;34m(\u001b[0m\u001b[0mmolecule_names\u001b[0m\u001b[0;34m,\u001b[0m \u001b[0mpermit_undefined\u001b[0m\u001b[0;34m)\u001b[0m\u001b[0;34m\u001b[0m\u001b[0m\n\u001b[0m\u001b[1;32m    434\u001b[0m         \u001b[0mcollection\u001b[0m\u001b[0;34m.\u001b[0m\u001b[0maddObject\u001b[0m\u001b[0;34m(\u001b[0m\u001b[0mmolecules\u001b[0m\u001b[0;34m)\u001b[0m\u001b[0;34m\u001b[0m\u001b[0m\n\u001b[1;32m    435\u001b[0m         \u001b[0;32mreturn\u001b[0m \u001b[0mcollection\u001b[0m\u001b[0;34m\u001b[0m\u001b[0m\n",
      "\u001b[0;32m//anaconda/envs/py27/lib/python2.7/site-packages/MMTK/PDB.pyc\u001b[0m in \u001b[0;36mcreateMolecules\u001b[0;34m(self, names, permit_undefined)\u001b[0m\n\u001b[1;32m    398\u001b[0m                             \u001b[0;31m# unique atom names\u001b[0m\u001b[0;34m\u001b[0m\u001b[0;34m\u001b[0m\u001b[0m\n\u001b[1;32m    399\u001b[0m                             \u001b[0mm\u001b[0m\u001b[0;34m.\u001b[0m\u001b[0mpdbmap\u001b[0m \u001b[0;34m=\u001b[0m \u001b[0;34m[\u001b[0m\u001b[0;34m(\u001b[0m\u001b[0mname\u001b[0m\u001b[0;34m,\u001b[0m \u001b[0mpdbdict\u001b[0m\u001b[0;34m)\u001b[0m\u001b[0;34m]\u001b[0m\u001b[0;34m\u001b[0m\u001b[0m\n\u001b[0;32m--> 400\u001b[0;31m                         \u001b[0msetConfiguration\u001b[0m\u001b[0;34m(\u001b[0m\u001b[0mm\u001b[0m\u001b[0;34m,\u001b[0m \u001b[0;34m[\u001b[0m\u001b[0mmolecule\u001b[0m\u001b[0;34m]\u001b[0m\u001b[0;34m)\u001b[0m\u001b[0;34m\u001b[0m\u001b[0m\n\u001b[0m\u001b[1;32m    401\u001b[0m                     \u001b[0mcollection\u001b[0m\u001b[0;34m.\u001b[0m\u001b[0maddObject\u001b[0m\u001b[0;34m(\u001b[0m\u001b[0mm\u001b[0m\u001b[0;34m)\u001b[0m\u001b[0;34m\u001b[0m\u001b[0m\n\u001b[1;32m    402\u001b[0m         \u001b[0;32mreturn\u001b[0m \u001b[0mcollection\u001b[0m\u001b[0;34m\u001b[0m\u001b[0m\n",
      "\u001b[0;32m//anaconda/envs/py27/lib/python2.7/site-packages/MMTK/PDB.pyc\u001b[0m in \u001b[0;36msetConfiguration\u001b[0;34m(object, pdb_residues, map, alt, atom_map, toplevel)\u001b[0m\n\u001b[1;32m    554\u001b[0m             \u001b[0;32mexcept\u001b[0m \u001b[0mAttributeError\u001b[0m\u001b[0;34m:\u001b[0m\u001b[0;34m\u001b[0m\u001b[0m\n\u001b[1;32m    555\u001b[0m                 \u001b[0mname\u001b[0m \u001b[0;34m=\u001b[0m \u001b[0;34m'???'\u001b[0m\u001b[0;34m\u001b[0m\u001b[0m\n\u001b[0;32m--> 556\u001b[0;31m         \u001b[0;32mraise\u001b[0m \u001b[0mIOError\u001b[0m\u001b[0;34m(\u001b[0m\u001b[0;34m'PDB configuration does not match object '\u001b[0m \u001b[0;34m+\u001b[0m \u001b[0mname\u001b[0m\u001b[0;34m)\u001b[0m\u001b[0;34m\u001b[0m\u001b[0m\n\u001b[0m\u001b[1;32m    557\u001b[0m \u001b[0;34m\u001b[0m\u001b[0m\n\u001b[1;32m    558\u001b[0m     \u001b[0;32mif\u001b[0m \u001b[0mtoplevel\u001b[0m \u001b[0;32mand\u001b[0m \u001b[0mdefined\u001b[0m \u001b[0;34m<\u001b[0m \u001b[0mobject\u001b[0m\u001b[0;34m.\u001b[0m\u001b[0mnumberOfAtoms\u001b[0m\u001b[0;34m(\u001b[0m\u001b[0;34m)\u001b[0m\u001b[0;34m:\u001b[0m\u001b[0;34m\u001b[0m\u001b[0m\n",
      "\u001b[0;31mIOError\u001b[0m: PDB configuration does not match object UNL"
     ]
    }
   ],
   "source": [
    "from MMTK.PDB import PDBConfiguration\n",
    "configuration = PDBConfiguration('fluo3at1.pdb')\n",
    "#universe = OrthorhombicPeriodicUniverse(tuple(box),\n",
    " #                                       Amber94ForceField(1., 1.))\n",
    "\n",
    "universe = InfiniteUniverse()\n",
    "universe.addObject(configuration.createAll(None, 1))\n",
    "view(universe)"
   ]
  },
  {
   "cell_type": "code",
   "execution_count": 34,
   "metadata": {
    "collapsed": false
   },
   "outputs": [
    {
     "ename": "AttributeError",
     "evalue": "PDBConfiguration instance has no attribute 'boundingBox'",
     "output_type": "error",
     "traceback": [
      "\u001b[0;31m---------------------------------------------------------------------------\u001b[0m",
      "\u001b[0;31mAttributeError\u001b[0m                            Traceback (most recent call last)",
      "\u001b[0;32m<ipython-input-34-41e340cbfcb8>\u001b[0m in \u001b[0;36m<module>\u001b[0;34m()\u001b[0m\n\u001b[1;32m     39\u001b[0m \u001b[0;31m# Calculate the box size as the boundary box of the protein plus an\u001b[0m\u001b[0;34m\u001b[0m\u001b[0;34m\u001b[0m\u001b[0m\n\u001b[1;32m     40\u001b[0m \u001b[0;31m# offset. Note: a much larger offset should be used in real applications.\u001b[0m\u001b[0;34m\u001b[0m\u001b[0;34m\u001b[0m\u001b[0m\n\u001b[0;32m---> 41\u001b[0;31m \u001b[0mbox\u001b[0m \u001b[0;34m=\u001b[0m \u001b[0mmolevule\u001b[0m\u001b[0;34m.\u001b[0m\u001b[0mboundingBox\u001b[0m\u001b[0;34m(\u001b[0m\u001b[0;34m)\u001b[0m\u001b[0;34m\u001b[0m\u001b[0m\n\u001b[0m\u001b[1;32m     42\u001b[0m \u001b[0mbox\u001b[0m \u001b[0;34m=\u001b[0m \u001b[0mbox\u001b[0m\u001b[0;34m[\u001b[0m\u001b[0;36m1\u001b[0m\u001b[0;34m]\u001b[0m\u001b[0;34m-\u001b[0m\u001b[0mbox\u001b[0m\u001b[0;34m[\u001b[0m\u001b[0;36m0\u001b[0m\u001b[0;34m]\u001b[0m\u001b[0;34m+\u001b[0m\u001b[0mVector\u001b[0m\u001b[0;34m(\u001b[0m\u001b[0;36m0.5\u001b[0m\u001b[0;34m,\u001b[0m \u001b[0;36m0.5\u001b[0m\u001b[0;34m,\u001b[0m \u001b[0;36m0.5\u001b[0m\u001b[0;34m)\u001b[0m\u001b[0;34m\u001b[0m\u001b[0m\n\u001b[1;32m     43\u001b[0m \u001b[0;34m\u001b[0m\u001b[0m\n",
      "\u001b[0;31mAttributeError\u001b[0m: PDBConfiguration instance has no attribute 'boundingBox'"
     ]
    }
   ],
   "source": [
    "# Solvation of a protein with water.\n",
    "#\n",
    "# The solvation procedure consists of three steps:\n",
    "#\n",
    "# - The universe containing the protein is scaled up, and the required\n",
    "#   number of water molecules is added at random positions, but without\n",
    "#   any overlap between molecules. The system is so dilute that random\n",
    "#   placements are easily possible.\n",
    "#\n",
    "# - The universe is slowly scaled down do its original size, with\n",
    "#   each scaling step followed by some energy minimization and\n",
    "#   molecular dynamics steps.\n",
    "#\n",
    "# - A molecular dynamics run at constant pressure and temperature is\n",
    "#   used to put the system into a well-defined thermodynamic state.\n",
    "#\n",
    "\n",
    "from MMTK import *\n",
    "from MMTK.Proteins import Protein\n",
    "from MMTK.ForceFields import Amber94ForceField\n",
    "from MMTK.Environment import NoseThermostat, AndersenBarostat\n",
    "from MMTK.Trajectory import Trajectory, TrajectoryOutput, LogOutput\n",
    "from MMTK.Dynamics import VelocityVerletIntegrator, VelocityScaler, \\\n",
    "                          BarostatReset, TranslationRemover\n",
    "import MMTK.Solvation\n",
    "\n",
    "# Create the solute.\n",
    "#protein = Protein('bala1')\n",
    "molevule = PDBConfiguration('fluo3at1.pdb')\n",
    "\n",
    "# Put the solvent in a standard configuration: center of mass at the\n",
    "# coordinate origin, principal axes of inertia parallel to the coordinate axes.\n",
    "#molevule.normalizeConfiguration()\n",
    "\n",
    "# Define density, pressure,  and temperature of the solvent.\n",
    "water_density = 1.*Units.g/Units.cm**3\n",
    "temperature = 300.*Units.K\n",
    "pressure = 1.*Units.atm\n",
    "\n",
    "# Calculate the box size as the boundary box of the protein plus an\n",
    "# offset. Note: a much larger offset should be used in real applications.\n",
    "box = molevule.boundingBox()\n",
    "box = box[1]-box[0]+Vector(0.5, 0.5, 0.5)\n",
    "\n",
    "# Create a periodic universe. The force field is intentionally created with\n",
    "# a rather small cutoff to speed up the solvation process.\n",
    "universe = OrthorhombicPeriodicUniverse(tuple(box),\n",
    "                                        Amber94ForceField(1., 1.))\n",
    "universe.molecule = molecule\n",
    "\n",
    "# Find the number of solvent molecules.\n",
    "print MMTK.Solvation.numberOfSolventMolecules(universe,'water',water_density),\\\n",
    "      \"water molecules will be added\"\n",
    "\n",
    "# Scale up the universe and add the solvent molecules.\n",
    "MMTK.Solvation.addSolvent(universe, 'water', water_density)\n",
    "print \"Solvent molecules have been added, now shrinking universe...\"\n",
    "\n",
    "# Shrink the universe back to its original size, thereby compressing\n",
    "# the solvent to its real density.\n",
    "MMTK.Solvation.shrinkUniverse(universe, temperature, 'solvation.nc')\n",
    "print \"Universe has been compressed, now equilibrating...\"\n",
    "\n",
    "# Set a better force field and add thermostat and barostat.\n",
    "#\n",
    "# Note: For efficiency, optimized Ewald parameters should be used\n",
    "# in a real application. The barostat relaxation time must be\n",
    "# adjusted to the system size; it should be chosen smaller than\n",
    "# for a realistic simulation in order to reach the final\n",
    "# volume faster.\n",
    "universe.setForceField(Amber94ForceField(1.4, {'method': 'ewald'}))\n",
    "universe.thermostat = NoseThermostat(temperature)\n",
    "universe.barostat = AndersenBarostat(pressure, 0.1*Units.ps)\n",
    "\n",
    "# Create an integrator and a trajectory.\n",
    "integrator = VelocityVerletIntegrator(universe, delta_t=1.*Units.fs)\n",
    "\n",
    "trajectory = Trajectory(universe, \"equilibration.nc\", \"w\",\n",
    "                        \"Equilibration (NPT ensemble)\")\n",
    "\n",
    "# Start an NPT integration with periodic rescaling of velocities\n",
    "# and resetting of the barostat. The number of steps required to\n",
    "# reach a stable volume depends strongly on the system!\n",
    "output_actions = [TrajectoryOutput(trajectory,\n",
    "                                   ('configuration', 'energy', 'thermodynamic',\n",
    "                                    'time', 'auxiliary'), 0, None, 100),\n",
    "                  LogOutput(\"equilibration.log\", ('time', 'energy'),\n",
    "                            0, None, 100)]\n",
    "integrator(steps = 1000,\n",
    "           actions = [TranslationRemover(0, None, 200),\n",
    "                      BarostatReset(0, None, 20),\n",
    "                      VelocityScaler(temperature, 0., 0, None, 20)]\n",
    "           + output_actions)\n",
    "\n",
    "# Close the equilibration trajectory\n",
    "view(universe)\n",
    "trajectory.close()"
   ]
  },
  {
   "cell_type": "code",
   "execution_count": null,
   "metadata": {
    "collapsed": true
   },
   "outputs": [],
   "source": []
  }
 ],
 "metadata": {
  "kernelspec": {
   "display_name": "Python 2",
   "language": "python",
   "name": "python2"
  },
  "language_info": {
   "codemirror_mode": {
    "name": "ipython",
    "version": 2
   },
   "file_extension": ".py",
   "mimetype": "text/x-python",
   "name": "python",
   "nbconvert_exporter": "python",
   "pygments_lexer": "ipython2",
   "version": "2.7.12"
  }
 },
 "nbformat": 4,
 "nbformat_minor": 0
}
