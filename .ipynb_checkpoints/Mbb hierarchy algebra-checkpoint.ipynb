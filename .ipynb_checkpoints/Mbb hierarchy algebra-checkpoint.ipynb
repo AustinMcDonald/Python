{
 "cells": [
  {
   "cell_type": "code",
   "execution_count": 1,
   "metadata": {
    "collapsed": true
   },
   "outputs": [],
   "source": [
    "from sympy import *\n",
    "import numpy as np\n",
    "from sympy import DiracDelta"
   ]
  },
  {
   "cell_type": "code",
   "execution_count": 2,
   "metadata": {
    "collapsed": true
   },
   "outputs": [],
   "source": [
    "from sympy import init_printing\n",
    "init_printing() "
   ]
  },
  {
   "cell_type": "code",
   "execution_count": 8,
   "metadata": {
    "collapsed": true
   },
   "outputs": [],
   "source": [
    "x, y, z, u, dx, dy, dz = symbols('x y z u dx dy dz',real=True,positive=True)\n",
    "\n",
    "c13, c12, s12, s13, Dm21, Dm31, ml, alpha, beta = symbols('c13 c12 s12 s13 Dm21 Dm31 ml alpha beta',real=True)\n",
    "\n"
   ]
  },
  {
   "cell_type": "code",
   "execution_count": null,
   "metadata": {
    "collapsed": true
   },
   "outputs": [],
   "source": []
  },
  {
   "cell_type": "code",
   "execution_count": 11,
   "metadata": {
    "collapsed": false
   },
   "outputs": [],
   "source": [
    "Mee = sqrt((c13*c12*ml+c13*s12*sqrt(ml**2+Dm21)*cos(2*alpha)+s13*sqrt(ml**2+Dm31)*cos(2*beta))**2  \\\n",
    "           +(c13*s12*sqrt(ml**2+Dm21)*sin(2*alpha)+s13*sqrt(ml**2+Dm31)*sin(2*beta))**2)"
   ]
  },
  {
   "cell_type": "code",
   "execution_count": 12,
   "metadata": {
    "collapsed": false
   },
   "outputs": [
    {
     "data": {
      "image/png": "[encoded data removed]",
      "text/latex": [
       "$$\\sqrt{\\left(c_{13} s_{12} \\sqrt{Dm_{21} + ml^{2}} \\sin{\\left (2 \\alpha \\right )} + s_{13} \\sqrt{Dm_{31} + ml^{2}} \\sin{\\left (2 \\beta \\right )}\\right)^{2} + \\left(c_{12} c_{13} ml + c_{13} s_{12} \\sqrt{Dm_{21} + ml^{2}} \\cos{\\left (2 \\alpha \\right )} + s_{13} \\sqrt{Dm_{31} + ml^{2}} \\cos{\\left (2 \\beta \\right )}\\right)^{2}}$$"
      ],
      "text/plain": [
       "     _________________________________________________________________________\n",
       "    ╱                                                                  2      \n",
       "   ╱  ⎛           ____________                   ____________         ⎞    ⎛  \n",
       "  ╱   ⎜          ╱          2                   ╱          2          ⎟    ⎜  \n",
       "╲╱    ⎝c₁₃⋅s₁₂⋅╲╱  Dm₂₁ + ml  ⋅sin(2⋅α) + s₁₃⋅╲╱  Dm₃₁ + ml  ⋅sin(2⋅β)⎠  + ⎝c₁\n",
       "\n",
       "_____________________________________________________________________________\n",
       "                                                                           2 \n",
       "                      ____________                   ____________         ⎞  \n",
       "                     ╱          2                   ╱          2          ⎟  \n",
       "₂⋅c₁₃⋅ml + c₁₃⋅s₁₂⋅╲╱  Dm₂₁ + ml  ⋅cos(2⋅α) + s₁₃⋅╲╱  Dm₃₁ + ml  ⋅cos(2⋅β)⎠  "
      ]
     },
     "execution_count": 12,
     "metadata": {},
     "output_type": "execute_result"
    }
   ],
   "source": [
    "simplify(Mee)"
   ]
  },
  {
   "cell_type": "code",
   "execution_count": 15,
   "metadata": {
    "collapsed": false
   },
   "outputs": [],
   "source": [
    "tt = diff(Mee,c13)"
   ]
  },
  {
   "cell_type": "code",
   "execution_count": 20,
   "metadata": {
    "collapsed": false
   },
   "outputs": [
    {
     "data": {
      "image/png": "[encoded data removed]",
      "text/latex": [
       "$$\\frac{\\left(\\left(1.392 ml + 0.608 \\sqrt{ml^{2} + 7.5 \\cdot 10^{-5}} \\cos{\\left (2 \\alpha \\right )}\\right) \\left(0.680688 ml + 0.297312 \\sqrt{ml^{2} + 7.5 \\cdot 10^{-5}} \\cos{\\left (2 \\alpha \\right )} + 0.0219 \\sqrt{ml^{2} + 0.002458} \\cos{\\left (2 \\beta \\right )}\\right) + 0.608 \\sqrt{ml^{2} + 7.5 \\cdot 10^{-5}} \\left(0.297312 \\sqrt{ml^{2} + 7.5 \\cdot 10^{-5}} \\sin{\\left (2 \\alpha \\right )} + 0.0219 \\sqrt{ml^{2} + 0.002458} \\sin{\\left (2 \\beta \\right )}\\right) \\sin{\\left (2 \\alpha \\right )}\\right)^{2}}{4 \\left(0.297312 \\sqrt{ml^{2} + 7.5 \\cdot 10^{-5}} \\sin{\\left (2 \\alpha \\right )} + 0.0219 \\sqrt{ml^{2} + 0.002458} \\sin{\\left (2 \\beta \\right )}\\right)^{2} + 4 \\left(0.680688 ml + 0.297312 \\sqrt{ml^{2} + 7.5 \\cdot 10^{-5}} \\cos{\\left (2 \\alpha \\right )} + 0.0219 \\sqrt{ml^{2} + 0.002458} \\cos{\\left (2 \\beta \\right )}\\right)^{2}}$$"
      ],
      "text/plain": [
       "                                                                              \n",
       "⎛⎛                    ______________         ⎞ ⎛                          ____\n",
       "⎜⎜                   ╱   2                   ⎟ ⎜                         ╱   2\n",
       "⎝⎝1.392⋅ml + 0.608⋅╲╱  ml  + 7.5e-5 ⋅cos(2⋅α)⎠⋅⎝0.680688⋅ml + 0.297312⋅╲╱  ml \n",
       "──────────────────────────────────────────────────────────────────────────────\n",
       "                                        ⎛                                     \n",
       "                                        ⎜⎛            ______________          \n",
       "                                        ⎜⎜           ╱   2                    \n",
       "                                      4⋅⎝⎝0.297312⋅╲╱  ml  + 7.5e-5 ⋅sin(2⋅α) \n",
       "\n",
       "                                                                              \n",
       "__________                      ________________         ⎞            ________\n",
       "                               ╱   2                     ⎟           ╱   2    \n",
       " + 7.5e-5 ⋅cos(2⋅α) + 0.0219⋅╲╱  ml  + 0.002458 ⋅cos(2⋅β)⎠ + 0.608⋅╲╱  ml  + 7\n",
       "──────────────────────────────────────────────────────────────────────────────\n",
       "                                      2                                       \n",
       "            ________________         ⎞    ⎛                          _________\n",
       "           ╱   2                     ⎟    ⎜                         ╱   2     \n",
       "+ 0.0219⋅╲╱  ml  + 0.002458 ⋅sin(2⋅β)⎠  + ⎝0.680688⋅ml + 0.297312⋅╲╱  ml  + 7.\n",
       "\n",
       "                                                                              \n",
       "______ ⎛            ______________                      ________________      \n",
       "       ⎜           ╱   2                               ╱   2                  \n",
       ".5e-5 ⋅⎝0.297312⋅╲╱  ml  + 7.5e-5 ⋅sin(2⋅α) + 0.0219⋅╲╱  ml  + 0.002458 ⋅sin(2\n",
       "──────────────────────────────────────────────────────────────────────────────\n",
       "                                                     2⎞                       \n",
       "_____                      ________________         ⎞ ⎟                       \n",
       "                          ╱   2                     ⎟ ⎟                       \n",
       "5e-5 ⋅cos(2⋅α) + 0.0219⋅╲╱  ml  + 0.002458 ⋅cos(2⋅β)⎠ ⎠                       \n",
       "\n",
       "              2\n",
       "   ⎞         ⎞ \n",
       "   ⎟         ⎟ \n",
       "⋅β)⎠⋅sin(2⋅α)⎠ \n",
       "───────────────\n",
       "               \n",
       "               \n",
       "               \n",
       "               "
      ]
     },
     "execution_count": 20,
     "metadata": {},
     "output_type": "execute_result"
    }
   ],
   "source": [
    "fitvals = [(c13,0.978),(c12,0.696),(s12,0.304),(s13,0.0219),(Dm21,7.5e-5),(Dm31,2.458e-3)]\n",
    "\n",
    "simplify((tt.subs(fitvals)**2))"
   ]
  },
  {
   "cell_type": "code",
   "execution_count": null,
   "metadata": {
    "collapsed": true
   },
   "outputs": [],
   "source": []
  },
  {
   "cell_type": "code",
   "execution_count": 22,
   "metadata": {
    "collapsed": true
   },
   "outputs": [],
   "source": [
    "Pc13 = diff(Mee,c13).subs(fitvals)**2\n",
    "Pc12 = diff(Mee,c12).subs(fitvals)**2\n",
    "Ps13 = diff(Mee,s13).subs(fitvals)**2\n",
    "Ps12 = diff(Mee,s12).subs(fitvals)**2\n",
    "Pm21 = diff(Mee,Dm21).subs(fitvals)**2\n",
    "Pm31 = diff(Mee,Dm31).subs(fitvals)**2"
   ]
  },
  {
   "cell_type": "code",
   "execution_count": 29,
   "metadata": {
    "collapsed": false
   },
   "outputs": [
    {
     "data": {
      "image/png": "[encoded data removed]",
      "text/latex": [
       "$$1.9843732243632$$"
      ],
      "text/plain": [
       "1.98437322436320"
      ]
     },
     "execution_count": 29,
     "metadata": {},
     "output_type": "execute_result"
    }
   ],
   "source": [
    "MM = sqrt(Pc13+Pc12+Ps13+Ps12+Pm21+Pm31)\n"
   ]
  },
  {
   "cell_type": "code",
   "execution_count": 44,
   "metadata": {
    "collapsed": false
   },
   "outputs": [],
   "source": [
    "a=np.array([MM.subs([(ml,1),(alpha,0),(beta,0)])])"
   ]
  },
  {
   "cell_type": "code",
   "execution_count": 45,
   "metadata": {
    "collapsed": false
   },
   "outputs": [
    {
     "data": {
      "text/plain": [
       "array([1.98437322436320], dtype=object)"
      ]
     },
     "execution_count": 45,
     "metadata": {},
     "output_type": "execute_result"
    }
   ],
   "source": [
    "a"
   ]
  },
  {
   "cell_type": "code",
   "execution_count": 33,
   "metadata": {
    "collapsed": false
   },
   "outputs": [
    {
     "data": {
      "image/png": "[encoded data removed]",
      "text/latex": [
       "$$1.9843732243632$$"
      ],
      "text/plain": [
       "1.98437322436320"
      ]
     },
     "execution_count": 33,
     "metadata": {},
     "output_type": "execute_result"
    }
   ],
   "source": [
    "a[0]"
   ]
  },
  {
   "cell_type": "code",
   "execution_count": 42,
   "metadata": {
    "collapsed": true
   },
   "outputs": [],
   "source": [
    "import matplotlib.pyplot as plt\n",
    "%matplotlib inline"
   ]
  },
  {
   "cell_type": "code",
   "execution_count": 39,
   "metadata": {
    "collapsed": false
   },
   "outputs": [],
   "source": [
    "b = a.astype(float)"
   ]
  },
  {
   "cell_type": "code",
   "execution_count": 40,
   "metadata": {
    "collapsed": false
   },
   "outputs": [
    {
     "data": {
      "text/plain": [
       "array([ 1.98437322])"
      ]
     },
     "execution_count": 40,
     "metadata": {},
     "output_type": "execute_result"
    }
   ],
   "source": [
    "b"
   ]
  },
  {
   "cell_type": "code",
   "execution_count": null,
   "metadata": {
    "collapsed": true
   },
   "outputs": [],
   "source": []
  },
  {
   "cell_type": "code",
   "execution_count": null,
   "metadata": {
    "collapsed": true
   },
   "outputs": [],
   "source": []
  },
  {
   "cell_type": "code",
   "execution_count": 46,
   "metadata": {
    "collapsed": false
   },
   "outputs": [
    {
     "data": {
      "text/plain": [
       "<matplotlib.collections.PathCollection at 0x116d39b70>"
      ]
     },
     "execution_count": 46,
     "metadata": {},
     "output_type": "execute_result"
    },
    {
     "data": {
      "image/png": "[encoded data removed]",
      "text/plain": [
       "<matplotlib.figure.Figure at 0x116b167b8>"
      ]
     },
     "metadata": {},
     "output_type": "display_data"
    }
   ],
   "source": [
    "plt.scatter(a[0],a[0])"
   ]
  },
  {
   "cell_type": "code",
   "execution_count": 50,
   "metadata": {
    "collapsed": true
   },
   "outputs": [],
   "source": [
    "we=np.array([0,1,2])"
   ]
  },
  {
   "cell_type": "code",
   "execution_count": 47,
   "metadata": {
    "collapsed": true
   },
   "outputs": [],
   "source": [
    "Q = x+y"
   ]
  },
  {
   "cell_type": "code",
   "execution_count": 52,
   "metadata": {
    "collapsed": false
   },
   "outputs": [
    {
     "data": {
      "image/png": "[encoded data removed]",
      "text/latex": [
       "$$1$$"
      ],
      "text/plain": [
       "1"
      ]
     },
     "execution_count": 52,
     "metadata": {},
     "output_type": "execute_result"
    }
   ],
   "source": [
    "Q.subs([(x,we[0]),(y,1)])"
   ]
  },
  {
   "cell_type": "code",
   "execution_count": null,
   "metadata": {
    "collapsed": true
   },
   "outputs": [],
   "source": []
  },
  {
   "cell_type": "code",
   "execution_count": null,
   "metadata": {
    "collapsed": true
   },
   "outputs": [],
   "source": []
  },
  {
   "cell_type": "code",
   "execution_count": null,
   "metadata": {
    "collapsed": true
   },
   "outputs": [],
   "source": []
  },
  {
   "cell_type": "code",
   "execution_count": null,
   "metadata": {
    "collapsed": true
   },
   "outputs": [],
   "source": [
    "Identity = Matrix([[1, 0, 0, 0], [0, 1, 0, 0], [0, 0, 1, 0], [0, 0, 0, 1]])\n"
   ]
  },
  {
   "cell_type": "code",
   "execution_count": 7,
   "metadata": {
    "collapsed": true
   },
   "outputs": [],
   "source": [
    "\n",
    "s12 = sin(theta12)\n",
    "s13 = sin(theta13)\n",
    "c13 = cos(theta13)\n",
    "c12 = cos(theta12)\n",
    "eia = exp(I*2*A)\n",
    "eib = exp(I*2*B)\n"
   ]
  },
  {
   "cell_type": "code",
   "execution_count": 18,
   "metadata": {
    "collapsed": false
   },
   "outputs": [],
   "source": [
    "Mbb = c13**2*c12**2*m1+c13**2*s12**2*m2*eia+s13**2*m3*eib\n",
    "Mbb2 = x*m1+y*m2*eia+z*m3*eib"
   ]
  },
  {
   "cell_type": "code",
   "execution_count": 19,
   "metadata": {
    "collapsed": false
   },
   "outputs": [],
   "source": [
    "QQ = Mbb*conjugate(Mbb2)"
   ]
  },
  {
   "cell_type": "code",
   "execution_count": null,
   "metadata": {
    "collapsed": true
   },
   "outputs": [],
   "source": []
  },
  {
   "cell_type": "code",
   "execution_count": null,
   "metadata": {
    "collapsed": true
   },
   "outputs": [],
   "source": []
  },
  {
   "cell_type": "code",
   "execution_count": null,
   "metadata": {
    "collapsed": true
   },
   "outputs": [],
   "source": []
  }
 ],
 "metadata": {
  "kernelspec": {
   "display_name": "Python 3",
   "language": "python",
   "name": "python3"
  },
  "language_info": {
   "codemirror_mode": {
    "name": "ipython",
    "version": 3
   },
   "file_extension": ".py",
   "mimetype": "text/x-python",
   "name": "python",
   "nbconvert_exporter": "python",
   "pygments_lexer": "ipython3",
   "version": "3.5.2"
  }
 },
 "nbformat": 4,
 "nbformat_minor": 0
}
