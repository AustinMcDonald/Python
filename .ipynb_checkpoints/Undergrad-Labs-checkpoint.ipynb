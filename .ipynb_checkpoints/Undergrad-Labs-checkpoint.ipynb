{
 "cells": [
  {
   "cell_type": "markdown",
   "metadata": {},
   "source": [
    "# Undergrad Labs "
   ]
  },
  {
   "cell_type": "raw",
   "metadata": {},
   "source": [
    "Here is where I will do the \"lab reports\" \n",
    "I will paste the questions and what not form the labs in so it can all be viewed in one document. "
   ]
  },
  {
   "cell_type": "code",
   "execution_count": 1,
   "metadata": {
    "collapsed": true
   },
   "outputs": [],
   "source": [
    "import numpy as np\n",
    "import matplotlib.pyplot as plt\n",
    "%matplotlib inline"
   ]
  },
  {
   "attachments": {},
   "cell_type": "markdown",
   "metadata": {},
   "source": [
    "# Lab 2: Falling Objects and Conservation of Energy"
   ]
  },
  {
   "cell_type": "markdown",
   "metadata": {},
   "source": [
    "I measured the time with the 2 masses as instructed. However I did do it at 0.5, 1.0, 1.5, 2.0 m.\n",
    "I think this would be good to add this it gives more point to plot haha.\n",
    "\n",
    "For the time measurements I made 3 for each I will only use the mean number since my values had little flucutation. "
   ]
  },
  {
   "cell_type": "code",
   "execution_count": 12,
   "metadata": {},
   "outputs": [
    {
     "name": "stdout",
     "output_type": "stream",
     "text": [
      "Vavg 50g = [1.5625     2.5        3.         3.33333333]\n",
      "Vavg 100g = [1.66666667 2.38095238 2.83018868 3.33333333]\n",
      "\n",
      "\n",
      "Vf 50g = [3.125      5.         6.         6.66666667]\n",
      "Vf 100g = [3.33333333 4.76190476 5.66037736 6.66666667]\n",
      "\n",
      "\n",
      "Delta KE 50g = [0.24414062 0.625      0.9        1.11111111]\n",
      "Delta KE 100g = [0.55555556 1.13378685 1.60199359 2.22222222]\n",
      "\n",
      "\n",
      "Delta PE 50g = [0.245 0.49  0.735 0.98 ]\n",
      "Delta PE 100g = [0.49 0.98 1.47 1.96]\n"
     ]
    }
   ],
   "source": [
    "Heights  = np.array([0.5, 1.0, 1.5, 2.0])\n",
    "Mass50g  = np.array([0.32, 0.4, 0.5, 0.6])\n",
    "Mass100g = np.array([0.3, 0.42, 0.53, 0.6])\n",
    "\n",
    "V50avg  = Heights/Mass50g\n",
    "print(\"Vavg 50g =\",V50avg)\n",
    "V100avg = Heights/Mass100g\n",
    "print(\"Vavg 100g =\",V100avg)\n",
    "\n",
    "print('\\n')\n",
    "print(\"Vf 50g =\",2*V50avg)\n",
    "print(\"Vf 100g =\",2*V100avg)\n",
    "\n",
    "print('\\n')\n",
    "print(\"Delta KE 50g =\",0.5*50e-3*(2*V50avg)**2)\n",
    "print(\"Delta KE 100g =\",0.5*100e-3*(2*V100avg)**2)\n",
    "\n",
    "print('\\n')\n",
    "print(\"Delta PE 50g =\",50e-3*9.8*Heights)\n",
    "print(\"Delta PE 100g =\",100e-3*9.8*Heights)"
   ]
  },
  {
   "cell_type": "markdown",
   "metadata": {},
   "source": [
    "The above fills Tables 1&2 for the lab.\n",
    "\n",
    "The force dise not change between the 2 points in a measurable way.\n",
    "I got 1, 0.5 newtons for the 100g and 50g mass respsctivily. "
   ]
  },
  {
   "cell_type": "code",
   "execution_count": 13,
   "metadata": {},
   "outputs": [
    {
     "name": "stdout",
     "output_type": "stream",
     "text": [
      "Work 50g = [0.25 0.5  0.75 1.  ]\n",
      "Work 100g = [0.5 1.  1.5 2. ]\n"
     ]
    }
   ],
   "source": [
    "Work50  = 0.5*Heights\n",
    "Work100 = 1.0*Heights\n",
    "print(\"Work 50g =\",Work50)\n",
    "print(\"Work 100g =\",Work100)"
   ]
  },
  {
   "attachments": {},
   "cell_type": "markdown",
   "metadata": {},
   "source": [
    "1-\tPlot the two masses energies differences ΔPe vs ΔKe. then draw a smooth curve that best fits the two data points.  Determine the slope of the line. What is your conclusion."
   ]
  },
  {
   "cell_type": "markdown",
   "metadata": {},
   "source": [
    "<font color='red'>I dont think I need to fit them to tell you that the slope it at zero.\n",
    "This is what would expect form conservation of energy.</font>"
   ]
  },
  {
   "cell_type": "code",
   "execution_count": 21,
   "metadata": {},
   "outputs": [
    {
     "data": {
      "image/png": "[encoded data removed]",
      "text/plain": [
       "<Figure size 504x504 with 1 Axes>"
      ]
     },
     "metadata": {
      "needs_background": "light"
     },
     "output_type": "display_data"
    }
   ],
   "source": [
    "plt.figure(figsize=(7,7))\n",
    "PE = 50e-3*9.8*Heights\n",
    "KE = 0.5*50e-3*(2*V50avg)**2\n",
    "plt.scatter(PE,KE,color='r',s=50,label=\"50g mass\",alpha=0.5)\n",
    "\n",
    "PE = 100e-3*9.8*Heights\n",
    "KE = 0.5*100e-3*(2*V100avg)**2\n",
    "plt.scatter(PE,KE,color='b',s=50,label=\"100g mass\",alpha=0.5)\n",
    "plt.legend(loc=\"upper left\",fontsize=15)\n",
    "plt.xlabel(\"PE\",fontsize=15)\n",
    "plt.ylabel(\"KE\",fontsize=15)\n",
    "plt.show()"
   ]
  },
  {
   "cell_type": "code",
   "execution_count": null,
   "metadata": {
    "collapsed": true
   },
   "outputs": [],
   "source": []
  },
  {
   "attachments": {},
   "cell_type": "markdown",
   "metadata": {},
   "source": [
    "2-\tLooking at ΔKe, ΔPe and W values that you have calculated for each mass, what do you conclude? Explain."
   ]
  },
  {
   "cell_type": "markdown",
   "metadata": {},
   "source": [
    "<font color='red'>They are nearly identical, but this is due to the work energy therom. :)</font>"
   ]
  },
  {
   "cell_type": "code",
   "execution_count": null,
   "metadata": {
    "collapsed": true
   },
   "outputs": [],
   "source": []
  },
  {
   "attachments": {},
   "cell_type": "markdown",
   "metadata": {},
   "source": [
    "3-\tIf ΔKe and ΔPe values were different for each mass, what is the major source of the error? What type of error equation we need to use? Calculate the error. "
   ]
  },
  {
   "cell_type": "markdown",
   "metadata": {},
   "source": [
    "<font color='red'>The error would be in the measurement of the time for all practicle puroposes.</font>"
   ]
  },
  {
   "cell_type": "code",
   "execution_count": null,
   "metadata": {
    "collapsed": true
   },
   "outputs": [],
   "source": []
  },
  {
   "attachments": {},
   "cell_type": "markdown",
   "metadata": {},
   "source": [
    "4-\tTwo masses were used to calculate the final velocity as they were dropped from the same height, what do you conclude? Explain."
   ]
  },
  {
   "cell_type": "markdown",
   "metadata": {},
   "source": [
    "<font color='red'>Gravity is invariant to the mass.</font>"
   ]
  },
  {
   "cell_type": "code",
   "execution_count": null,
   "metadata": {
    "collapsed": true
   },
   "outputs": [],
   "source": []
  },
  {
   "attachments": {},
   "cell_type": "markdown",
   "metadata": {},
   "source": [
    "5-\tBased on your conclusion of question 4, where I had different masses were dropped from the same height, what would be the only quantity that is controlling the value of the object kinetic energy right before it hits the ground."
   ]
  },
  {
   "cell_type": "markdown",
   "metadata": {},
   "source": [
    "<font color='red'>It depends on Vavg^2. which is (d/t)^2</font>"
   ]
  },
  {
   "cell_type": "code",
   "execution_count": null,
   "metadata": {
    "collapsed": true
   },
   "outputs": [],
   "source": []
  },
  {
   "cell_type": "code",
   "execution_count": null,
   "metadata": {
    "collapsed": true
   },
   "outputs": [],
   "source": []
  },
  {
   "cell_type": "code",
   "execution_count": null,
   "metadata": {
    "collapsed": true
   },
   "outputs": [],
   "source": []
  },
  {
   "cell_type": "code",
   "execution_count": null,
   "metadata": {
    "collapsed": true
   },
   "outputs": [],
   "source": []
  },
  {
   "attachments": {},
   "cell_type": "markdown",
   "metadata": {},
   "source": [
    "# Lab 3: Electrical Circuits and Electrical Energy"
   ]
  },
  {
   "cell_type": "markdown",
   "metadata": {},
   "source": [
    "Following the instructions I measured the voltage and current of the 3 devices for table 1."
   ]
  },
  {
   "cell_type": "code",
   "execution_count": 38,
   "metadata": {},
   "outputs": [
    {
     "name": "stdout",
     "output_type": "stream",
     "text": [
      "P diode = 0.13824\n",
      "E diode = 4.1472\n",
      "\n",
      "\n",
      "P buzz = 0.0729\n",
      "E buzz = 2.1870000000000003\n",
      "\n",
      "\n",
      "P moto = 0.169\n",
      "E moto = 5.07\n",
      "\n",
      "\n"
     ]
    }
   ],
   "source": [
    "V_diode  = 2.56 ; I_diode =54e-3\n",
    "V_buzz   = 2.70 ; I_buzz  =27e-3\n",
    "V_moto   = 2.60 ; I_moto  =65e-3\n",
    "\n",
    "P_diode = V_diode*I_diode\n",
    "E_diode = P_diode*30\n",
    "print(\"P diode =\",P_diode)\n",
    "print(\"E diode =\",E_diode)\n",
    "print(\"\\n\")\n",
    "\n",
    "P_buzz = V_buzz*I_buzz\n",
    "E_buzz = P_buzz*30\n",
    "print(\"P buzz =\",P_buzz)\n",
    "print(\"E buzz =\",E_buzz)\n",
    "print(\"\\n\")\n",
    "\n",
    "P_moto = V_moto*I_moto\n",
    "E_moto = P_moto*30\n",
    "print(\"P moto =\",P_moto)\n",
    "print(\"E moto =\",E_moto)\n",
    "print(\"\\n\")"
   ]
  },
  {
   "attachments": {},
   "cell_type": "markdown",
   "metadata": {},
   "source": [
    "Im going to skip the questions about the table they seem pretty stright forward.\n",
    "\n",
    "A-\tConnections in Series:\n",
    "\n",
    "Connect the diode in series with the motor by taking a wire that connect the battery case to the diode, then a second wire from the diode to the motor, then a third wire from the motor back to the batteries. Do we have light and a fan motion? 2p\n",
    "Explain why. 6p\n"
   ]
  },
  {
   "cell_type": "markdown",
   "metadata": {},
   "source": [
    "<font color='red'>Yes they both turn on. However the motor is really slow due to the less power aviable for the LED in series with it.</font>"
   ]
  },
  {
   "cell_type": "code",
   "execution_count": null,
   "metadata": {
    "collapsed": true
   },
   "outputs": [],
   "source": []
  },
  {
   "attachments": {},
   "cell_type": "markdown",
   "metadata": {},
   "source": [
    "B-\tConnections in parallel:\n",
    "\n",
    "1-\tConnect the diode in parallel with the motor by taking two wires one connects the motor black terminal to the diode black terminal, the other wire from the motor red terminal to the diode red terminal.\n",
    "2-\tThen, use a third wire to connects the battery case using a terminal to wire 1 side opening, and a fourth wire from the battery case second terminal to wire 2 side opening. \n",
    "Do we have light and fan motion? 2p\n",
    "Explain why. 5p\n"
   ]
  },
  {
   "cell_type": "markdown",
   "metadata": {},
   "source": [
    "<font color='red'>Yes they both turn on. The motor and LED appear to have full power because they each have a current source form the barrery.</font>"
   ]
  },
  {
   "cell_type": "code",
   "execution_count": null,
   "metadata": {
    "collapsed": true
   },
   "outputs": [],
   "source": []
  },
  {
   "cell_type": "code",
   "execution_count": null,
   "metadata": {
    "collapsed": true
   },
   "outputs": [],
   "source": []
  },
  {
   "cell_type": "code",
   "execution_count": null,
   "metadata": {
    "collapsed": true
   },
   "outputs": [],
   "source": []
  },
  {
   "cell_type": "code",
   "execution_count": null,
   "metadata": {
    "collapsed": true
   },
   "outputs": [],
   "source": []
  },
  {
   "attachments": {},
   "cell_type": "markdown",
   "metadata": {},
   "source": [
    "# Lab 4: Resistance R and Ohm’s Law"
   ]
  },
  {
   "cell_type": "markdown",
   "metadata": {},
   "source": [
    "I started by measuring the resistance of 5 of the wires included and there length. "
   ]
  },
  {
   "cell_type": "code",
   "execution_count": 43,
   "metadata": {},
   "outputs": [
    {
     "data": {
      "text/plain": [
       "322"
      ]
     },
     "execution_count": 43,
     "metadata": {},
     "output_type": "execute_result"
    }
   ],
   "source": [
    "136+42+42+67+35"
   ]
  },
  {
   "cell_type": "code",
   "execution_count": 50,
   "metadata": {},
   "outputs": [
    {
     "name": "stdout",
     "output_type": "stream",
     "text": [
      "measured R = [0.4 0.5 0.7 1.8 2.7]\n",
      "calculated R = [0.00243064 0.00318128 0.00393191 0.00512936 0.00575489]\n",
      "percent error = [16356.58263305 15616.96094168 17703.03030303 34992.08561473\n",
      " 46816.59272405]\n"
     ]
    }
   ],
   "source": [
    "rho = 1.68e-8\n",
    "A = 9.4e-6\n",
    "Length = np.array([136, 178, 220, 287, 322])*1e-2\n",
    "RvalsL  = np.array([0.4, 0.5, 0.7, 1.8, 2.7])\n",
    "RvalsM  = np.array([0, 0.1, 0.2, 0.3, 0.4])\n",
    "\n",
    "print(\"measured R =\",RvalsL)\n",
    "\n",
    "Rs = rho*Length/A\n",
    "print(\"calculated R =\",Rs)\n",
    "\n",
    "error = (RvalsL-Rs)/Rs*100\n",
    "print(\"percent error =\",error)"
   ]
  },
  {
   "cell_type": "code",
   "execution_count": null,
   "metadata": {
    "collapsed": true
   },
   "outputs": [],
   "source": []
  },
  {
   "cell_type": "code",
   "execution_count": null,
   "metadata": {
    "collapsed": true
   },
   "outputs": [],
   "source": []
  },
  {
   "cell_type": "code",
   "execution_count": null,
   "metadata": {
    "collapsed": true
   },
   "outputs": [],
   "source": []
  },
  {
   "cell_type": "code",
   "execution_count": null,
   "metadata": {
    "collapsed": true
   },
   "outputs": [],
   "source": []
  },
  {
   "cell_type": "code",
   "execution_count": null,
   "metadata": {
    "collapsed": true
   },
   "outputs": [],
   "source": []
  },
  {
   "cell_type": "code",
   "execution_count": null,
   "metadata": {
    "collapsed": true
   },
   "outputs": [],
   "source": []
  },
  {
   "cell_type": "code",
   "execution_count": null,
   "metadata": {
    "collapsed": true
   },
   "outputs": [],
   "source": []
  },
  {
   "cell_type": "code",
   "execution_count": null,
   "metadata": {
    "collapsed": true
   },
   "outputs": [],
   "source": []
  },
  {
   "cell_type": "code",
   "execution_count": null,
   "metadata": {
    "collapsed": true
   },
   "outputs": [],
   "source": []
  },
  {
   "cell_type": "code",
   "execution_count": null,
   "metadata": {
    "collapsed": true
   },
   "outputs": [],
   "source": []
  },
  {
   "cell_type": "code",
   "execution_count": null,
   "metadata": {
    "collapsed": true
   },
   "outputs": [],
   "source": []
  }
 ],
 "metadata": {
  "kernelspec": {
   "display_name": "Python 3",
   "language": "python",
   "name": "python3"
  },
  "language_info": {
   "codemirror_mode": {
    "name": "ipython",
    "version": 3
   },
   "file_extension": ".py",
   "mimetype": "text/x-python",
   "name": "python",
   "nbconvert_exporter": "python",
   "pygments_lexer": "ipython3",
   "version": "3.6.7"
  }
 },
 "nbformat": 4,
 "nbformat_minor": 1
}
