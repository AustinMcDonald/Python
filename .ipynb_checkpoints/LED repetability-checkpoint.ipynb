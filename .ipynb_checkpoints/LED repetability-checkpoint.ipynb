{
 "cells": [
  {
   "cell_type": "code",
   "execution_count": 1,
   "metadata": {
    "collapsed": true
   },
   "outputs": [],
   "source": [
    "import csv\n",
    "import numpy as np\n",
    "import matplotlib.pyplot as plt\n",
    "import matplotlib.mlab as mlab\n",
    "import os\n",
    "import glob\n",
    "import pandas as pd\n",
    "from scipy.optimize import curve_fit\n",
    "from scipy.signal import savgol_filter\n",
    "\n",
    "%matplotlib inline\n"
   ]
  },
  {
   "cell_type": "code",
   "execution_count": 2,
   "metadata": {
    "collapsed": false
   },
   "outputs": [
    {
     "data": {
      "image/png": "[encoded data removed]",
      "text/plain": [
       "<matplotlib.figure.Figure at 0x116f8c630>"
      ]
     },
     "metadata": {},
     "output_type": "display_data"
    }
   ],
   "source": [
    "#set path to the files location\n",
    "\n",
    "path = '/Users/austinmcdonald/Desktop/fluorescin buffer test 2/LED-488-22ms.csv' # this is the path\n",
    "#Nled=len(os.listdir(path))                            # this is the number of files\n",
    "#filenameled=list(os.listdir(path))                    # this puts the files into a list\n",
    "\n",
    "# defining empty arrays \n",
    "analysisled = []\n",
    "wavelength = []\n",
    "intensity = []\n",
    "# Importing all of the files and saving them to one array\n",
    "#for x in range(1,Nled):\n",
    "analysisled = np.genfromtxt(path,delimiter=\",\",skip_header=33,skip_footer=1)\n",
    "\n",
    "\n",
    "wavelength1 = (analysisled[:,0])\n",
    "intensity = (analysisled[:,1])\n",
    "\n",
    "SDintensity = np.std(intensity,axis = 0)               # Finds the SD of the yvalues\n",
    "\n",
    "#plt.figure(figsize=(6,6))\n",
    "plt.plot(wavelength1,intensity)\n",
    "\n",
    "\n",
    "plt.suptitle('LED Spectrum',size= 18)\n",
    "plt.xlabel('Wavelength', fontsize=18)\n",
    "plt.ylabel('Intensity', fontsize=18)\n",
    "plt.show()"
   ]
  },
  {
   "cell_type": "code",
   "execution_count": 3,
   "metadata": {
    "collapsed": true
   },
   "outputs": [],
   "source": [
    "#set path to the files location\n",
    "\n",
    "#\n",
    "#\n",
    "#    run0\n",
    "#     \n",
    "#\n",
    "path = '/Users/austinmcdonald/Desktop/system repetailibitly/RUN0/' # this is the path\n",
    "Nled=len(os.listdir(path))                            # this is the number of files\n",
    "filenameled=list(os.listdir(path))                    # this puts the files into a list\n",
    "\n",
    "# defining empty arrays \n",
    "analysisled = []\n",
    "wavelength = []\n",
    "intensity = []\n",
    "# Importing all of the files and saving them to one array\n",
    "for x in range(1,Nled):\n",
    "    analysisled.append(pd.read_excel(path + filenameled[x],delimiter=\",\",header=None,skiprows=1,skip_footer=1))\n",
    "    \n",
    "# This picks out all of the xvals and yvals from the prevous array \n",
    "#... note it goes from 0 to x because mac puts an extra file in \n",
    "for y in range(0,x):\n",
    "    wavelength.append(analysisled[y][0])\n",
    "    intensity.append((analysisled[y][1]))\n",
    "    \n",
    "Meanintensity0 = savgol_filter(np.mean(intensity,axis = 0), 95, 3)             # Finds the mean of the yvalues\n",
    "\n",
    "#SDintensity = np.std(intensity,axis = 0)               # Finds the SD of the yvalues\n",
    "#uperr1 = Meanintensity1 + SDintensity                    # Adds the SD to the mean \n",
    "#dnerr1 = Meanintensity1 - SDintensity                    # Subtracts the SD from the mean\n",
    "\n",
    "#plt.figure(figsize=(6,6))\n",
    "#plt.plot(wavelength1,Meanintensity0)\n",
    "#plt.plot(Meanwavelength,uperr)\n",
    "#plt.plot(Meanwavelength,dnerr)\n",
    "\n",
    "\n",
    "#plt.suptitle('LED Spectrum',size= 18)\n",
    "#plt.xlabel('Wavelength', fontsize=18)\n",
    "#plt.ylabel('Intensity', fontsize=18)\n",
    "#plt.show()"
   ]
  },
  {
   "cell_type": "code",
   "execution_count": 4,
   "metadata": {
    "collapsed": true
   },
   "outputs": [],
   "source": [
    "#set path to the files location\n",
    "\n",
    "#\n",
    "#\n",
    "#    run1\n",
    "#     \n",
    "#\n",
    "path = '/Users/austinmcdonald/Desktop/system repetailibitly/RUN1/' # this is the path\n",
    "Nled=len(os.listdir(path))                            # this is the number of files\n",
    "filenameled=list(os.listdir(path))                    # this puts the files into a list\n",
    "\n",
    "# defining empty arrays \n",
    "analysisled = []\n",
    "wavelength = []\n",
    "intensity = []\n",
    "# Importing all of the files and saving them to one array\n",
    "for x in range(1,Nled):\n",
    "    analysisled.append(pd.read_excel(path + filenameled[x],delimiter=\",\",header=None,skiprows=1,skip_footer=1))\n",
    "    \n",
    "# This picks out all of the xvals and yvals from the prevous array \n",
    "#... note it goes from 0 to x because mac puts an extra file in \n",
    "for y in range(0,x):\n",
    "    wavelength.append(analysisled[y][0])\n",
    "    intensity.append((analysisled[y][1]))\n",
    "    \n",
    "Meanintensity1 = savgol_filter(np.mean(intensity,axis = 0), 95, 3)             # Finds the mean of the yvalues\n",
    "\n",
    "#SDintensity = np.std(intensity,axis = 0)               # Finds the SD of the yvalues\n",
    "#uperr1 = Meanintensity1 + SDintensity                    # Adds the SD to the mean \n",
    "#dnerr1 = Meanintensity1 - SDintensity                    # Subtracts the SD from the mean\n",
    "\n",
    "#plt.figure(figsize=(6,6))\n",
    "#plt.plot(wavelength1,Meanintensity0)\n",
    "#plt.plot(Meanwavelength,uperr)\n",
    "#plt.plot(Meanwavelength,dnerr)\n",
    "\n",
    "\n",
    "#plt.suptitle('LED Spectrum',size= 18)\n",
    "#plt.xlabel('Wavelength', fontsize=18)\n",
    "#plt.ylabel('Intensity', fontsize=18)\n",
    "#plt.show()"
   ]
  },
  {
   "cell_type": "code",
   "execution_count": 5,
   "metadata": {
    "collapsed": true
   },
   "outputs": [],
   "source": [
    "#set path to the files location\n",
    "\n",
    "#\n",
    "#\n",
    "#    run2\n",
    "#     \n",
    "#\n",
    "path = '/Users/austinmcdonald/Desktop/system repetailibitly/RUN2/' # this is the path\n",
    "Nled=len(os.listdir(path))                            # this is the number of files\n",
    "filenameled=list(os.listdir(path))                    # this puts the files into a list\n",
    "\n",
    "# defining empty arrays \n",
    "analysisled = []\n",
    "wavelength = []\n",
    "intensity = []\n",
    "# Importing all of the files and saving them to one array\n",
    "for x in range(1,Nled):\n",
    "    analysisled.append(pd.read_excel(path + filenameled[x],delimiter=\",\",header=None,skiprows=1,skip_footer=1))\n",
    "    \n",
    "# This picks out all of the xvals and yvals from the prevous array \n",
    "#... note it goes from 0 to x because mac puts an extra file in \n",
    "for y in range(0,x):\n",
    "    wavelength.append(analysisled[y][0])\n",
    "    intensity.append((analysisled[y][1]))\n",
    "    \n",
    "Meanintensity2 = savgol_filter(np.mean(intensity,axis = 0), 95, 3)             # Finds the mean of the yvalues\n",
    "\n",
    "#SDintensity = np.std(intensity,axis = 0)               # Finds the SD of the yvalues\n",
    "#uperr1 = Meanintensity1 + SDintensity                    # Adds the SD to the mean \n",
    "#dnerr1 = Meanintensity1 - SDintensity                    # Subtracts the SD from the mean\n",
    "\n",
    "#plt.figure(figsize=(6,6))\n",
    "#plt.plot(wavelength1,Meanintensity0)\n",
    "#plt.plot(Meanwavelength,uperr)\n",
    "#plt.plot(Meanwavelength,dnerr)\n",
    "\n",
    "\n",
    "#plt.suptitle('LED Spectrum',size= 18)\n",
    "#plt.xlabel('Wavelength', fontsize=18)\n",
    "#plt.ylabel('Intensity', fontsize=18)\n",
    "#plt.show()"
   ]
  },
  {
   "cell_type": "code",
   "execution_count": 6,
   "metadata": {
    "collapsed": true
   },
   "outputs": [],
   "source": [
    "#set path to the files location\n",
    "\n",
    "#\n",
    "#\n",
    "#    run3\n",
    "#     \n",
    "#\n",
    "path = '/Users/austinmcdonald/Desktop/system repetailibitly/RUN3/' # this is the path\n",
    "Nled=len(os.listdir(path))                            # this is the number of files\n",
    "filenameled=list(os.listdir(path))                    # this puts the files into a list\n",
    "\n",
    "# defining empty arrays \n",
    "analysisled = []\n",
    "wavelength = []\n",
    "intensity = []\n",
    "# Importing all of the files and saving them to one array\n",
    "for x in range(1,Nled):\n",
    "    analysisled.append(pd.read_excel(path + filenameled[x],delimiter=\",\",header=None,skiprows=1,skip_footer=1))\n",
    "    \n",
    "# This picks out all of the xvals and yvals from the prevous array \n",
    "#... note it goes from 0 to x because mac puts an extra file in \n",
    "for y in range(0,x):\n",
    "    wavelength.append(analysisled[y][0])\n",
    "    intensity.append((analysisled[y][1]))\n",
    "    \n",
    "Meanintensity3 = savgol_filter(np.mean(intensity,axis = 0), 95, 3)             # Finds the mean of the yvalues\n",
    "\n",
    "#SDintensity = np.std(intensity,axis = 0)               # Finds the SD of the yvalues\n",
    "#uperr1 = Meanintensity1 + SDintensity                    # Adds the SD to the mean \n",
    "#dnerr1 = Meanintensity1 - SDintensity                    # Subtracts the SD from the mean\n",
    "\n",
    "#plt.figure(figsize=(6,6))\n",
    "#plt.plot(wavelength1,Meanintensity0)\n",
    "#plt.plot(Meanwavelength,uperr)\n",
    "#plt.plot(Meanwavelength,dnerr)\n",
    "\n",
    "\n",
    "#plt.suptitle('LED Spectrum',size= 18)\n",
    "#plt.xlabel('Wavelength', fontsize=18)\n",
    "#plt.ylabel('Intensity', fontsize=18)\n",
    "#plt.show()"
   ]
  },
  {
   "cell_type": "code",
   "execution_count": 7,
   "metadata": {
    "collapsed": true
   },
   "outputs": [],
   "source": [
    "#set path to the files location\n",
    "\n",
    "#\n",
    "#\n",
    "#    run4\n",
    "#     \n",
    "#\n",
    "path = '/Users/austinmcdonald/Desktop/system repetailibitly/RUN4/' # this is the path\n",
    "Nled=len(os.listdir(path))                            # this is the number of files\n",
    "filenameled=list(os.listdir(path))                    # this puts the files into a list\n",
    "\n",
    "# defining empty arrays \n",
    "analysisled = []\n",
    "wavelength = []\n",
    "intensity = []\n",
    "# Importing all of the files and saving them to one array\n",
    "for x in range(1,Nled):\n",
    "    analysisled.append(pd.read_excel(path + filenameled[x],delimiter=\",\",header=None,skiprows=1,skip_footer=1))\n",
    "    \n",
    "# This picks out all of the xvals and yvals from the prevous array \n",
    "#... note it goes from 0 to x because mac puts an extra file in \n",
    "for y in range(0,x):\n",
    "    wavelength.append(analysisled[y][0])\n",
    "    intensity.append((analysisled[y][1]))\n",
    "    \n",
    "Meanintensity4 = savgol_filter(np.mean(intensity,axis = 0), 95, 3)             # Finds the mean of the yvalues\n",
    "\n",
    "#SDintensity = np.std(intensity,axis = 0)               # Finds the SD of the yvalues\n",
    "#uperr1 = Meanintensity1 + SDintensity                    # Adds the SD to the mean \n",
    "#dnerr1 = Meanintensity1 - SDintensity                    # Subtracts the SD from the mean\n",
    "\n",
    "#plt.figure(figsize=(6,6))\n",
    "#plt.plot(wavelength1,Meanintensity0)\n",
    "#plt.plot(Meanwavelength,uperr)\n",
    "#plt.plot(Meanwavelength,dnerr)\n",
    "\n",
    "\n",
    "#plt.suptitle('LED Spectrum',size= 18)\n",
    "#plt.xlabel('Wavelength', fontsize=18)\n",
    "#plt.ylabel('Intensity', fontsize=18)\n",
    "#plt.show()"
   ]
  },
  {
   "cell_type": "code",
   "execution_count": 8,
   "metadata": {
    "collapsed": true
   },
   "outputs": [],
   "source": [
    "#set path to the files location\n",
    "\n",
    "#\n",
    "#\n",
    "#    run5\n",
    "#     \n",
    "#\n",
    "path = '/Users/austinmcdonald/Desktop/system repetailibitly/RUN5/' # this is the path\n",
    "Nled=len(os.listdir(path))                            # this is the number of files\n",
    "filenameled=list(os.listdir(path))                    # this puts the files into a list\n",
    "\n",
    "# defining empty arrays \n",
    "analysisled = []\n",
    "wavelength = []\n",
    "intensity = []\n",
    "# Importing all of the files and saving them to one array\n",
    "for x in range(1,Nled):\n",
    "    analysisled.append(pd.read_excel(path + filenameled[x],delimiter=\",\",header=None,skiprows=1,skip_footer=1))\n",
    "    \n",
    "# This picks out all of the xvals and yvals from the prevous array \n",
    "#... note it goes from 0 to x because mac puts an extra file in \n",
    "for y in range(0,x):\n",
    "    wavelength.append(analysisled[y][0])\n",
    "    intensity.append((analysisled[y][1]))\n",
    "    \n",
    "Meanintensity5 = savgol_filter(np.mean(intensity,axis = 0), 95, 3)             # Finds the mean of the yvalues\n",
    "\n",
    "#SDintensity = np.std(intensity,axis = 0)               # Finds the SD of the yvalues\n",
    "#uperr1 = Meanintensity1 + SDintensity                    # Adds the SD to the mean \n",
    "#dnerr1 = Meanintensity1 - SDintensity                    # Subtracts the SD from the mean\n",
    "\n",
    "#plt.figure(figsize=(6,6))\n",
    "#plt.plot(wavelength1,Meanintensity0)\n",
    "#plt.plot(Meanwavelength,uperr)\n",
    "#plt.plot(Meanwavelength,dnerr)\n",
    "\n",
    "\n",
    "#plt.suptitle('LED Spectrum',size= 18)\n",
    "#plt.xlabel('Wavelength', fontsize=18)\n",
    "#plt.ylabel('Intensity', fontsize=18)\n",
    "#plt.show()"
   ]
  },
  {
   "cell_type": "code",
   "execution_count": 9,
   "metadata": {
    "collapsed": true
   },
   "outputs": [],
   "source": [
    "#set path to the files location\n",
    "\n",
    "#\n",
    "#\n",
    "#    run6\n",
    "#     \n",
    "#\n",
    "path = '/Users/austinmcdonald/Desktop/system repetailibitly/RUN6/' # this is the path\n",
    "Nled=len(os.listdir(path))                            # this is the number of files\n",
    "filenameled=list(os.listdir(path))                    # this puts the files into a list\n",
    "\n",
    "# defining empty arrays \n",
    "analysisled = []\n",
    "wavelength = []\n",
    "intensity = []\n",
    "# Importing all of the files and saving them to one array\n",
    "for x in range(1,Nled):\n",
    "    analysisled.append(pd.read_excel(path + filenameled[x],delimiter=\",\",header=None,skiprows=1,skip_footer=1))\n",
    "    \n",
    "# This picks out all of the xvals and yvals from the prevous array \n",
    "#... note it goes from 0 to x because mac puts an extra file in \n",
    "for y in range(0,x):\n",
    "    wavelength.append(analysisled[y][0])\n",
    "    intensity.append((analysisled[y][1]))\n",
    "    \n",
    "Meanintensity6 = savgol_filter(np.mean(intensity,axis = 0), 95, 3)             # Finds the mean of the yvalues\n",
    "\n",
    "#SDintensity = np.std(intensity,axis = 0)               # Finds the SD of the yvalues\n",
    "#uperr1 = Meanintensity1 + SDintensity                    # Adds the SD to the mean \n",
    "#dnerr1 = Meanintensity1 - SDintensity                    # Subtracts the SD from the mean\n",
    "\n",
    "#plt.figure(figsize=(6,6))\n",
    "#plt.plot(wavelength1,Meanintensity0)\n",
    "#plt.plot(Meanwavelength,uperr)\n",
    "#plt.plot(Meanwavelength,dnerr)\n",
    "\n",
    "\n",
    "#plt.suptitle('LED Spectrum',size= 18)\n",
    "#plt.xlabel('Wavelength', fontsize=18)\n",
    "#plt.ylabel('Intensity', fontsize=18)\n",
    "#plt.show()"
   ]
  },
  {
   "cell_type": "code",
   "execution_count": 10,
   "metadata": {
    "collapsed": true
   },
   "outputs": [],
   "source": [
    "#set path to the files location\n",
    "\n",
    "#\n",
    "#\n",
    "#    run7\n",
    "#     \n",
    "#\n",
    "path = '/Users/austinmcdonald/Desktop/system repetailibitly/RUN7/' # this is the path\n",
    "Nled=len(os.listdir(path))                            # this is the number of files\n",
    "filenameled=list(os.listdir(path))                    # this puts the files into a list\n",
    "\n",
    "# defining empty arrays \n",
    "analysisled = []\n",
    "wavelength = []\n",
    "intensity = []\n",
    "# Importing all of the files and saving them to one array\n",
    "for x in range(1,Nled):\n",
    "    analysisled.append(pd.read_excel(path + filenameled[x],delimiter=\",\",header=None,skiprows=1,skip_footer=1))\n",
    "    \n",
    "# This picks out all of the xvals and yvals from the prevous array \n",
    "#... note it goes from 0 to x because mac puts an extra file in \n",
    "for y in range(0,x):\n",
    "    wavelength.append(analysisled[y][0])\n",
    "    intensity.append((analysisled[y][1]))\n",
    "    \n",
    "Meanintensity7 = savgol_filter(np.mean(intensity,axis = 0), 95, 3)             # Finds the mean of the yvalues\n",
    "\n",
    "#SDintensity = np.std(intensity,axis = 0)               # Finds the SD of the yvalues\n",
    "#uperr1 = Meanintensity1 + SDintensity                    # Adds the SD to the mean \n",
    "#dnerr1 = Meanintensity1 - SDintensity                    # Subtracts the SD from the mean\n",
    "\n",
    "#plt.figure(figsize=(6,6))\n",
    "#plt.plot(wavelength1,Meanintensity0)\n",
    "#plt.plot(Meanwavelength,uperr)\n",
    "#plt.plot(Meanwavelength,dnerr)\n",
    "\n",
    "\n",
    "#plt.suptitle('LED Spectrum',size= 18)\n",
    "#plt.xlabel('Wavelength', fontsize=18)\n",
    "#plt.ylabel('Intensity', fontsize=18)\n",
    "#plt.show()"
   ]
  },
  {
   "cell_type": "code",
   "execution_count": 11,
   "metadata": {
    "collapsed": true
   },
   "outputs": [],
   "source": [
    "#set path to the files location\n",
    "\n",
    "#\n",
    "#\n",
    "#    run8\n",
    "#     \n",
    "#\n",
    "path = '/Users/austinmcdonald/Desktop/system repetailibitly/RUN8/' # this is the path\n",
    "Nled=len(os.listdir(path))                            # this is the number of files\n",
    "filenameled=list(os.listdir(path))                    # this puts the files into a list\n",
    "\n",
    "# defining empty arrays \n",
    "analysisled = []\n",
    "wavelength = []\n",
    "intensity = []\n",
    "# Importing all of the files and saving them to one array\n",
    "for x in range(1,Nled):\n",
    "    analysisled.append(pd.read_excel(path + filenameled[x],delimiter=\",\",header=None,skiprows=1,skip_footer=1))\n",
    "    \n",
    "# This picks out all of the xvals and yvals from the prevous array \n",
    "#... note it goes from 0 to x because mac puts an extra file in \n",
    "for y in range(0,x):\n",
    "    wavelength.append(analysisled[y][0])\n",
    "    intensity.append((analysisled[y][1]))\n",
    "    \n",
    "Meanintensity8 = savgol_filter(np.mean(intensity,axis = 0), 95, 3)             # Finds the mean of the yvalues\n",
    "\n",
    "#SDintensity = np.std(intensity,axis = 0)               # Finds the SD of the yvalues\n",
    "#uperr1 = Meanintensity1 + SDintensity                    # Adds the SD to the mean \n",
    "#dnerr1 = Meanintensity1 - SDintensity                    # Subtracts the SD from the mean\n",
    "\n",
    "#plt.figure(figsize=(6,6))\n",
    "#plt.plot(wavelength1,Meanintensity0)\n",
    "#plt.plot(Meanwavelength,uperr)\n",
    "#plt.plot(Meanwavelength,dnerr)\n",
    "\n",
    "\n",
    "#plt.suptitle('LED Spectrum',size= 18)\n",
    "#plt.xlabel('Wavelength', fontsize=18)\n",
    "#plt.ylabel('Intensity', fontsize=18)\n",
    "#plt.show()"
   ]
  },
  {
   "cell_type": "code",
   "execution_count": 12,
   "metadata": {
    "collapsed": true
   },
   "outputs": [],
   "source": [
    "#set path to the files location\n",
    "\n",
    "#\n",
    "#\n",
    "#    run9\n",
    "#     \n",
    "#        /Users/austinmcdonald/Desktop/system repatability\n",
    "path = '/Users/austinmcdonald/Desktop/system repetailibitly/RUN9/' # this is the path\n",
    "Nled=len(os.listdir(path))                            # this is the number of files\n",
    "filenameled=list(os.listdir(path))                    # this puts the files into a list\n",
    "\n",
    "# defining empty arrays \n",
    "analysisled = []\n",
    "wavelength = []\n",
    "intensity = []\n",
    "# Importing all of the files and saving them to one array\n",
    "for x in range(1,Nled):\n",
    "    analysisled.append(pd.read_excel(path + filenameled[x],delimiter=\",\",header=None,skiprows=1,skip_footer=1))\n",
    "    \n",
    "# This picks out all of the xvals and yvals from the prevous array \n",
    "#... note it goes from 0 to x because mac puts an extra file in \n",
    "for y in range(0,x):\n",
    "    wavelength.append(analysisled[y][0])\n",
    "    intensity.append((analysisled[y][1]))\n",
    "    \n",
    "Meanintensity9 = savgol_filter(np.mean(intensity,axis = 0), 95, 3)             # Finds the mean of the yvalues\n",
    "\n",
    "#SDintensity = np.std(intensity,axis = 0)               # Finds the SD of the yvalues\n",
    "#uperr1 = Meanintensity1 + SDintensity                    # Adds the SD to the mean \n",
    "#dnerr1 = Meanintensity1 - SDintensity                    # Subtracts the SD from the mean\n",
    "\n",
    "#plt.figure(figsize=(6,6))\n",
    "#plt.plot(wavelength1,Meanintensity0)\n",
    "#plt.plot(Meanwavelength,uperr)\n",
    "#plt.plot(Meanwavelength,dnerr)\n",
    "\n",
    "\n",
    "#plt.suptitle('LED Spectrum',size= 18)\n",
    "#plt.xlabel('Wavelength', fontsize=18)\n",
    "#plt.ylabel('Intensity', fontsize=18)\n",
    "#plt.show()"
   ]
  },
  {
   "cell_type": "code",
   "execution_count": 13,
   "metadata": {
    "collapsed": true
   },
   "outputs": [],
   "source": [
    "runs = [Meanintensity0,Meanintensity1,Meanintensity2,Meanintensity3,\n",
    "        Meanintensity4,Meanintensity5,Meanintensity6,Meanintensity7,\n",
    "       Meanintensity8,Meanintensity9]"
   ]
  },
  {
   "cell_type": "code",
   "execution_count": 24,
   "metadata": {
    "collapsed": false
   },
   "outputs": [],
   "source": [
    "meanruns = np.mean(runs,axis = 0)\n",
    "\n",
    "sdruns = np.std(runs,axis = 0)               # Finds the SD of the yvalues\n",
    "up1 = meanruns + sdruns                    # Adds the SD to the mean \n",
    "dn1 = meanruns - sdruns "
   ]
  },
  {
   "cell_type": "code",
   "execution_count": 28,
   "metadata": {
    "collapsed": false
   },
   "outputs": [
    {
     "name": "stdout",
     "output_type": "stream",
     "text": [
      "3.93064570338\n"
     ]
    }
   ],
   "source": [
    "sdmax = max(sdruns)\n",
    "meanmax = max(meanruns)\n",
    "percent = (sdmax/meanmax)*100\n",
    "print(percent)"
   ]
  },
  {
   "cell_type": "code",
   "execution_count": null,
   "metadata": {
    "collapsed": true
   },
   "outputs": [],
   "source": []
  },
  {
   "cell_type": "code",
   "execution_count": 25,
   "metadata": {
    "collapsed": false
   },
   "outputs": [
    {
     "data": {
      "image/png": "[encoded data removed]",
      "text/plain": [
       "<matplotlib.figure.Figure at 0x11ea55be0>"
      ]
     },
     "metadata": {},
     "output_type": "display_data"
    }
   ],
   "source": [
    "plt.plot(wavelength1,meanruns)\n",
    "plt.plot(wavelength1,up1)\n",
    "plt.plot(wavelength1,dn1)\n",
    "\n",
    "plt.xlim([500,540])\n",
    "plt.ylim([.6,1])\n",
    "plt.show()"
   ]
  },
  {
   "cell_type": "code",
   "execution_count": null,
   "metadata": {
    "collapsed": true
   },
   "outputs": [],
   "source": []
  },
  {
   "cell_type": "code",
   "execution_count": null,
   "metadata": {
    "collapsed": true
   },
   "outputs": [],
   "source": []
  }
 ],
 "metadata": {
  "kernelspec": {
   "display_name": "Python 3",
   "language": "python",
   "name": "python3"
  },
  "language_info": {
   "codemirror_mode": {
    "name": "ipython",
    "version": 3
   },
   "file_extension": ".py",
   "mimetype": "text/x-python",
   "name": "python",
   "nbconvert_exporter": "python",
   "pygments_lexer": "ipython3",
   "version": "3.5.1"
  }
 },
 "nbformat": 4,
 "nbformat_minor": 0
}
