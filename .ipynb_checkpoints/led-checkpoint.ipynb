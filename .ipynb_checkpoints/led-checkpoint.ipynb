{
 "cells": [
  {
   "cell_type": "code",
   "execution_count": null,
   "metadata": {
    "collapsed": false
   },
   "outputs": [],
   "source": []
  },
  {
   "cell_type": "code",
   "execution_count": null,
   "metadata": {
    "collapsed": true
   },
   "outputs": [],
   "source": [
    "import numpy as np\n",
    "import matplotlib.pyplot as plt\n",
    "from scipy.signal import savgol_filter\n",
    "import os\n",
    "import glob\n",
    "import pandas as pd\n",
    "import csv"
   ]
  },
  {
   "cell_type": "code",
   "execution_count": null,
   "metadata": {
    "collapsed": false
   },
   "outputs": [],
   "source": [
    "cd /Users/austinmcdonald/desktop/data/led spec"
   ]
  },
  {
   "cell_type": "code",
   "execution_count": null,
   "metadata": {
    "collapsed": false
   },
   "outputs": [],
   "source": [
    "#os.listdir(\".\") \n",
    "\n",
    "for files in glob.glob(\"*.csv\"):\n",
    "    print (files) "
   ]
  },
  {
   "cell_type": "code",
   "execution_count": null,
   "metadata": {
    "collapsed": false
   },
   "outputs": [],
   "source": [
    "thedata = np.genfromtxt(\n",
    "    'led1.csv',           # file name\n",
    "    skip_header=33,          # lines to skip at the top\n",
    "    skip_footer=1,          # lines to skip at the bottom\n",
    "    delimiter=',',          # column delimiter\n",
    "    dtype='float32')   \n",
    "\n",
    "for row in thedata:\n",
    "    print(row)\n",
    "    \n",
    "#plt.plot(thedata)\n",
    "#plt.show()\n"
   ]
  },
  {
   "cell_type": "code",
   "execution_count": 9,
   "metadata": {
    "collapsed": false
   },
   "outputs": [
    {
     "data": {
      "image/png": "[encoded data removed]",
      "text/plain": [
       "<matplotlib.figure.Figure at 0x1043a0208>"
      ]
     },
     "metadata": {},
     "output_type": "display_data"
    }
   ],
   "source": [
    "bak1 = np.loadtxt('h201.txt',dtype= np.float64)\n",
    "bak2 = np.loadtxt('h202.txt',dtype= np.float64)\n",
    "bak3 = np.loadtxt('h203.txt',dtype= np.float64)\n",
    "bak4 = np.loadtxt('h204.txt',dtype= np.float64)\n",
    "bak5 = np.loadtxt('h205.txt',dtype= np.float64)\n",
    "bak6 = np.loadtxt('h206.txt',dtype= np.float64)\n",
    "bak7 = np.loadtxt('h207.txt',dtype= np.float64)\n",
    "bak8 = np.loadtxt('h208.txt',dtype= np.float64)\n",
    "bak9 = np.loadtxt('h209.txt',dtype= np.float64)\n",
    "bak10 = np.loadtxt('h2010.txt',dtype= np.float64)\n",
    "bx=bak1[:,0]\n",
    "by1=bak1[:,1]\n",
    "by2=bak2[:,1]\n",
    "by3=bak3[:,1]\n",
    "by4=bak4[:,1]\n",
    "by5=bak5[:,1]\n",
    "by6=bak6[:,1]\n",
    "by7=bak7[:,1]\n",
    "by8=bak8[:,1]\n",
    "by9=bak9[:,1]\n",
    "by10=bak10[:,1]\n",
    "\n",
    "bakmean=(by1+by2+by3+by4+by5+by6+by7+by8+by9+by10)/10\n",
    "bakmeansmooth= savgol_filter(bakmean, 209, 3)\n",
    "plt.plot(bx,bakmean)\n",
    "plt.plot(bx,bakmeansmooth,color='red')\n",
    "plt.show()"
   ]
  },
  {
   "cell_type": "code",
   "execution_count": 10,
   "metadata": {
    "collapsed": false
   },
   "outputs": [
    {
     "ename": "NameError",
     "evalue": "name 'sigy' is not defined",
     "output_type": "error",
     "traceback": [
      "\u001b[0;31m---------------------------------------------------------------------------\u001b[0m",
      "\u001b[0;31mNameError\u001b[0m                                 Traceback (most recent call last)",
      "\u001b[0;32m<ipython-input-10-2e1eec2ad094>\u001b[0m in \u001b[0;36m<module>\u001b[0;34m()\u001b[0m\n\u001b[0;32m----> 1\u001b[0;31m \u001b[0mfinsmooth\u001b[0m\u001b[0;34m=\u001b[0m \u001b[0msavgol_filter\u001b[0m\u001b[0;34m(\u001b[0m\u001b[0msigy\u001b[0m\u001b[0;34m-\u001b[0m\u001b[0mbakmean\u001b[0m\u001b[0;34m,\u001b[0m \u001b[0;36m209\u001b[0m\u001b[0;34m,\u001b[0m \u001b[0;36m3\u001b[0m\u001b[0;34m)\u001b[0m\u001b[0;34m\u001b[0m\u001b[0m\n\u001b[0m\u001b[1;32m      2\u001b[0m \u001b[0mplt\u001b[0m\u001b[0;34m.\u001b[0m\u001b[0mplot\u001b[0m\u001b[0;34m(\u001b[0m\u001b[0msigx\u001b[0m\u001b[0;34m,\u001b[0m\u001b[0mfinsmooth\u001b[0m\u001b[0;34m)\u001b[0m\u001b[0;34m\u001b[0m\u001b[0m\n\u001b[1;32m      3\u001b[0m \u001b[0mplt\u001b[0m\u001b[0;34m.\u001b[0m\u001b[0mshow\u001b[0m\u001b[0;34m(\u001b[0m\u001b[0;34m)\u001b[0m\u001b[0;34m\u001b[0m\u001b[0m\n",
      "\u001b[0;31mNameError\u001b[0m: name 'sigy' is not defined"
     ]
    }
   ],
   "source": [
    "finsmooth= savgol_filter(sigy-bakmean, 209, 3)\n",
    "plt.plot(sigx,finsmooth)\n",
    "plt.show()"
   ]
  },
  {
   "cell_type": "code",
   "execution_count": null,
   "metadata": {
    "collapsed": false,
    "scrolled": true
   },
   "outputs": [],
   "source": [
    "dat = pd.read_csv('led5.csv')\n",
    "\n",
    "dat"
   ]
  },
  {
   "cell_type": "code",
   "execution_count": null,
   "metadata": {
    "collapsed": true
   },
   "outputs": [],
   "source": []
  }
 ],
 "metadata": {
  "kernelspec": {
   "display_name": "Python 3",
   "language": "python",
   "name": "python3"
  },
  "language_info": {
   "codemirror_mode": {
    "name": "ipython",
    "version": 3
   },
   "file_extension": ".py",
   "mimetype": "text/x-python",
   "name": "python",
   "nbconvert_exporter": "python",
   "pygments_lexer": "ipython3",
   "version": "3.5.1"
  }
 },
 "nbformat": 4,
 "nbformat_minor": 0
}
