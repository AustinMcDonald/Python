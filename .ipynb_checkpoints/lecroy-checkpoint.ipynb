{
 "cells": [
  {
   "cell_type": "code",
   "execution_count": 1,
   "metadata": {
    "collapsed": true
   },
   "outputs": [],
   "source": [
    "import csv\n",
    "import numpy as np\n",
    "from numpy import diff\n",
    "import matplotlib.pyplot as plt\n",
    "import matplotlib.mlab as mlab\n",
    "import os\n",
    "import glob\n",
    "%matplotlib inline\n",
    "from scipy.optimize import curve_fit\n",
    "from scipy.signal import savgol_filter\n",
    "import math\n",
    "import pandas as pd \n",
    "from pandas import DataFrame, read_csv"
   ]
  },
  {
   "cell_type": "code",
   "execution_count": 2,
   "metadata": {
    "collapsed": false
   },
   "outputs": [
    {
     "name": "stdout",
     "output_type": "stream",
     "text": [
      "/Users/austinmcdonald/Desktop/lecroy tst\n"
     ]
    }
   ],
   "source": [
    "cd /Users/austinmcdonald/Desktop/lecroy tst"
   ]
  },
  {
   "cell_type": "code",
   "execution_count": 3,
   "metadata": {
    "collapsed": false
   },
   "outputs": [
    {
     "data": {
      "text/plain": [
       "['.DS_Store', 'C1Trace00002.csv']"
      ]
     },
     "execution_count": 3,
     "metadata": {},
     "output_type": "execute_result"
    }
   ],
   "source": [
    "os.listdir()"
   ]
  },
  {
   "cell_type": "code",
   "execution_count": null,
   "metadata": {
    "collapsed": true
   },
   "outputs": [],
   "source": []
  },
  {
   "cell_type": "code",
   "execution_count": null,
   "metadata": {
    "collapsed": true
   },
   "outputs": [],
   "source": []
  },
  {
   "cell_type": "code",
   "execution_count": 5,
   "metadata": {
    "collapsed": false
   },
   "outputs": [],
   "source": [
    "dat = np.genfromtxt('C1Trace00002.csv',delimiter=',')\n"
   ]
  },
  {
   "cell_type": "code",
   "execution_count": 48,
   "metadata": {
    "collapsed": false
   },
   "outputs": [
    {
     "data": {
      "text/plain": [
       "502"
      ]
     },
     "execution_count": 48,
     "metadata": {},
     "output_type": "execute_result"
    }
   ],
   "source": [
    "PPT = int(dat[:,1][0])\n",
    "PPT"
   ]
  },
  {
   "cell_type": "code",
   "execution_count": null,
   "metadata": {
    "collapsed": true
   },
   "outputs": [],
   "source": []
  },
  {
   "cell_type": "code",
   "execution_count": 41,
   "metadata": {
    "collapsed": false
   },
   "outputs": [],
   "source": [
    "#voltage = np.append(dat[:,4],[dat[:,4],dat2[:,4]]) an example of mutipul files\n",
    "voltage = dat[:,4]\n",
    "time = dat[:,3]"
   ]
  },
  {
   "cell_type": "code",
   "execution_count": 42,
   "metadata": {
    "collapsed": false
   },
   "outputs": [],
   "source": [
    "#\n",
    "#\n",
    "# make sure all csv files are added before this point  #\n",
    "#\n",
    "#\n",
    "volt = []\n",
    "tim = []\n",
    "for q in range(0,len(dat[:,4])):                           #loops over the array to make list\n",
    "    volt.append(voltage[q])\n",
    "    tim.append(time[q])\n",
    "    \n",
    "pairs = list(zip(tim,volt))     #makes the list ordered pairs"
   ]
  },
  {
   "cell_type": "code",
   "execution_count": null,
   "metadata": {
    "collapsed": true
   },
   "outputs": [],
   "source": []
  },
  {
   "cell_type": "code",
   "execution_count": 50,
   "metadata": {
    "collapsed": false
   },
   "outputs": [],
   "source": [
    "chunks = [pairs[x:x+PPT] for x in range(0, len(pairs), PPT)] # this splots the list into the traces\n",
    "                                                             # the 502 is the length of the traces\n",
    "    \n",
    "for a in range(0,len(chunks)):\n",
    "    chunks[a] = [t for t in chunks[a] if t[0] > 0.8E-7 and t[0]<= 1]  # this sets the time window \n",
    "    chunks[a] = np.array(chunks[a])\n",
    "\n",
    "areas = []\n",
    "\n",
    "for p in range(0,len(chunks)):\n",
    "    areas.append(sum(chunks[p][:,1]))        #This sums the yvals \n",
    "    \n",
    "dx = chunks[0][:,0][6]-chunks[0][:,0][5]   # this is dx which sould be constant\n",
    "\n",
    "Area = dx*np.array(areas)                  # this makes them areas\n",
    "        "
   ]
  },
  {
   "cell_type": "code",
   "execution_count": null,
   "metadata": {
    "collapsed": true
   },
   "outputs": [],
   "source": []
  },
  {
   "cell_type": "code",
   "execution_count": 20,
   "metadata": {
    "collapsed": false
   },
   "outputs": [],
   "source": [
    "mean=float(sum(Area))/len(Area) if len(Area) > 0 else float('nan')\n",
    "SD=np.std(Area)\n",
    "NPE=(mean/SD)*(mean/SD)\n",
    "Gain = (((abs(mean)))/(50*(1.6e-19)*NPE))"
   ]
  },
  {
   "cell_type": "code",
   "execution_count": null,
   "metadata": {
    "collapsed": true
   },
   "outputs": [],
   "source": []
  },
  {
   "cell_type": "code",
   "execution_count": 23,
   "metadata": {
    "collapsed": false
   },
   "outputs": [
    {
     "data": {
      "image/png": "[encoded data removed]",
      "text/plain": [
       "<matplotlib.figure.Figure at 0x153328e10>"
      ]
     },
     "metadata": {},
     "output_type": "display_data"
    }
   ],
   "source": [
    "x = chunks[999][:,0]\n",
    "y = chunks[999][:,1]\n",
    "\n",
    "plt.plot(x,y)\n",
    "#plt.ylim([-.007,0])\n",
    "plt.show()"
   ]
  },
  {
   "cell_type": "code",
   "execution_count": null,
   "metadata": {
    "collapsed": true
   },
   "outputs": [],
   "source": []
  },
  {
   "cell_type": "code",
   "execution_count": 24,
   "metadata": {
    "collapsed": false
   },
   "outputs": [
    {
     "name": "stdout",
     "output_type": "stream",
     "text": [
      "mean =  -2.03E-10\n",
      "Fitted mean =  -2.01E-10\n",
      "standard deviation = 2.99E-11\n",
      "Fitted standard deviation =  2.99E-11\n",
      "number of PE =  45.9109037207\n",
      "fitted number of PE =  45.4895718383\n",
      "Gain = 5.52E+05\n",
      "Fitted Gain = 5.54E+05\n"
     ]
    },
    {
     "data": {
      "image/png": "[encoded data removed]",
      "text/plain": [
       "<matplotlib.figure.Figure at 0x14319ba20>"
      ]
     },
     "metadata": {},
     "output_type": "display_data"
    }
   ],
   "source": [
    "binwidth = 1e-10\n",
    "nbins= 50\n",
    "def gauss(x, *p):\n",
    "    A, mu, sigma = p\n",
    "    return A*np.exp(-(x-mu)**2/(2.*sigma**2))\n",
    "\n",
    "p0 = [1., mean, SD]\n",
    "hist, bin_edges = np.histogram(Area , nbins)\n",
    "bin_centres = (bin_edges[:-1] + bin_edges[1:])/2\n",
    "coeff, var_matrix = curve_fit(gauss, bin_centres, hist, p0=p0)\n",
    "\n",
    "\n",
    "plt.figure(figsize=(10,10))\n",
    "plt.hist(Area, bins=nbins)\n",
    "areahist = np.histogram(Area, nbins) \n",
    "yaxis = areahist[0]\n",
    "xaxis = areahist[1]\n",
    "fitarray = []\n",
    "for u in range(0,len(xaxis)-1):\n",
    "    fitarray.append(((xaxis[u+1]-xaxis[u])/2)+xaxis[u])\n",
    "\n",
    "vars=np.linspace(fitarray[0],fitarray[-1],1000)\n",
    "hist_fit = gauss(vars, *coeff)\n",
    "plt.plot(vars, hist_fit, label='Fitted data', color= \"Red\")\n",
    "\n",
    "electron = 1.6e-19\n",
    "PEs = (coeff[1]/coeff[2])**2\n",
    "Fitted_Gain =abs( (coeff[1]/50)/(PEs*(electron)))\n",
    "\n",
    "\n",
    "print('mean = ','%.2E' % mean)\n",
    "print ('Fitted mean = ', '%.2E' % coeff[1])\n",
    "print('standard deviation =', '%.2E' % SD)\n",
    "print ('Fitted standard deviation = ', '%.2E' % coeff[2])\n",
    "\n",
    "print ('number of PE = ', NPE)\n",
    "print ('fitted number of PE = ', PEs)\n",
    "\n",
    "print('Gain =','%.2E' % (Gain))\n",
    "print('Fitted Gain =','%.2E' % (Fitted_Gain))\n",
    "\n",
    "plt.xlabel(\"Area (V.s)\", fontsize= 18)\n",
    "plt.ylabel(\"No. of Events\", fontsize= 18)\n",
    "#plt.suptitle(\"Area Distribution at 900V\", size=22)\n",
    "#plt.savefig('pmtcal1000.pdf')\n",
    "plt.show()"
   ]
  },
  {
   "cell_type": "code",
   "execution_count": 16,
   "metadata": {
    "collapsed": false
   },
   "outputs": [
    {
     "data": {
      "text/plain": [
       "10040000"
      ]
     },
     "execution_count": 16,
     "metadata": {},
     "output_type": "execute_result"
    }
   ],
   "source": [
    "len(dat[:,4])*2"
   ]
  },
  {
   "cell_type": "code",
   "execution_count": 13,
   "metadata": {
    "collapsed": false
   },
   "outputs": [
    {
     "data": {
      "text/plain": [
       "5020000"
      ]
     },
     "execution_count": 13,
     "metadata": {},
     "output_type": "execute_result"
    }
   ],
   "source": [
    "len(dat[:,4] + dat[:,4])"
   ]
  },
  {
   "cell_type": "code",
   "execution_count": 17,
   "metadata": {
    "collapsed": false
   },
   "outputs": [
    {
     "data": {
      "text/plain": [
       "10040000"
      ]
     },
     "execution_count": 17,
     "metadata": {},
     "output_type": "execute_result"
    }
   ],
   "source": [
    " w = np.append(dat[:,4],[dat[:,4]])\n",
    "len(w)"
   ]
  },
  {
   "cell_type": "code",
   "execution_count": 27,
   "metadata": {
    "collapsed": false
   },
   "outputs": [
    {
     "data": {
      "text/plain": [
       "502.0"
      ]
     },
     "execution_count": 27,
     "metadata": {},
     "output_type": "execute_result"
    }
   ],
   "source": [
    "dat[:,1][0]"
   ]
  },
  {
   "cell_type": "code",
   "execution_count": 36,
   "metadata": {
    "collapsed": false
   },
   "outputs": [
    {
     "name": "stdout",
     "output_type": "stream",
     "text": [
      "502.0\n"
     ]
    }
   ],
   "source": [
    "print(PPT[0])"
   ]
  },
  {
   "cell_type": "code",
   "execution_count": null,
   "metadata": {
    "collapsed": true
   },
   "outputs": [],
   "source": []
  }
 ],
 "metadata": {
  "kernelspec": {
   "display_name": "Python 3",
   "language": "python",
   "name": "python3"
  },
  "language_info": {
   "codemirror_mode": {
    "name": "ipython",
    "version": 3
   },
   "file_extension": ".py",
   "mimetype": "text/x-python",
   "name": "python",
   "nbconvert_exporter": "python",
   "pygments_lexer": "ipython3",
   "version": "3.5.1"
  }
 },
 "nbformat": 4,
 "nbformat_minor": 0
}
