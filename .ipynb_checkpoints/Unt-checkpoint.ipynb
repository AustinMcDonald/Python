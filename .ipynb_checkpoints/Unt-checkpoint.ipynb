{
 "cells": [
  {
   "cell_type": "code",
   "execution_count": 1,
   "metadata": {
    "collapsed": false
   },
   "outputs": [],
   "source": [
    "import csv\n",
    "import numpy as np\n",
    "import matplotlib.pyplot as plt\n",
    "import matplotlib.mlab as mlab\n",
    "import os\n",
    "import glob\n",
    "from scipy.optimize import curve_fit\n",
    "\n",
    "%matplotlib inline"
   ]
  },
  {
   "cell_type": "code",
   "execution_count": 2,
   "metadata": {
    "collapsed": false,
    "scrolled": true
   },
   "outputs": [
    {
     "name": "stdout",
     "output_type": "stream",
     "text": [
      "/Users/austinmcdonald/Desktop/data/NaI test/firstwithns/GAIN_TEST_19\n"
     ]
    }
   ],
   "source": [
    "cd /Users/austinmcdonald/Desktop/data/NaI test/firstwithns/GAIN_TEST_19"
   ]
  },
  {
   "cell_type": "code",
   "execution_count": 3,
   "metadata": {
    "collapsed": false
   },
   "outputs": [],
   "source": [
    "N=len(os.listdir())\n",
    "filename=list(os.listdir())\n",
    "\n",
    "analysis = []\n",
    "Time = []\n",
    "Voltage = []\n",
    "for x in range(1,N):\n",
    "    analysis.append(np.loadtxt(filename[x],delimiter=\",\",skiprows=21))\n",
    "for y in range(1,x):\n",
    "    Time.append(analysis[y][:,0])\n",
    "    Voltage.append(analysis[y][:,1])"
   ]
  },
  {
   "cell_type": "code",
   "execution_count": 4,
   "metadata": {
    "collapsed": false
   },
   "outputs": [],
   "source": [
    "darea = []\n",
    "area = []\n",
    "for z in range(1,y):\n",
    "    if (min(Voltage[z]) <= -0.01): \n",
    "        darea.append(Voltage[z]*Time[z])\n",
    "    else: z+=1\n",
    "for a in range(1,len(darea)):    \n",
    "    area.append(sum(darea[a]))\n",
    "\n",
    "Area = np.array(area)"
   ]
  },
  {
   "cell_type": "code",
   "execution_count": 8,
   "metadata": {
    "collapsed": false
   },
   "outputs": [
    {
     "name": "stdout",
     "output_type": "stream",
     "text": [
      "-1.7792e-09\n",
      "3.16555264e-18\n",
      "8.90229781368e-09\n",
      "3.553086088e-09\n"
     ]
    }
   ],
   "source": [
    "areax2 =[]\n",
    "for a in range(0,len(area)):\n",
    "    areax2.append(area[a]*area[a])\n",
    "    \n",
    "    rms = np.sqrt(sum(areax2)/len(areax2))\n",
    "\n",
    "print(area[1])\n",
    "print(areax2[1])\n",
    "print(rms)\n",
    "print(SD)"
   ]
  },
  {
   "cell_type": "code",
   "execution_count": 9,
   "metadata": {
    "collapsed": false
   },
   "outputs": [
    {
     "name": "stdout",
     "output_type": "stream",
     "text": [
      "mean =  -8.162504861538447e-09\n",
      "standard deivation =  3.553086088e-09\n",
      "number of PE =  0.840703137314\n",
      "Gain =  364092767.973\n"
     ]
    }
   ],
   "source": [
    "mean=float(sum(area))/len(area) if len(area) > 0 else float('nan')\n",
    "\n",
    "\n",
    "\n",
    "print(\"mean = \",mean)\n",
    "\n",
    "SD=np.std(area)\n",
    "\n",
    "print(\"standard deivation = \",SD)\n",
    "\n",
    "NPE=(mean/rms)*(mean/rms)\n",
    "\n",
    "print(\"number of PE = \",NPE)\n",
    "\n",
    "Gain = ((0.3*(abs(mean)))/(50*(1.6e-19)*NPE))\n",
    "\n",
    "print(\"Gain = \", Gain)\n"
   ]
  },
  {
   "cell_type": "code",
   "execution_count": 10,
   "metadata": {
    "collapsed": false
   },
   "outputs": [
    {
     "name": "stdout",
     "output_type": "stream",
     "text": [
      "-1.016208e-08\n"
     ]
    }
   ],
   "source": [
    "len(area)\n",
    "print(area[0])"
   ]
  },
  {
   "cell_type": "code",
   "execution_count": 11,
   "metadata": {
    "collapsed": false
   },
   "outputs": [
    {
     "name": "stdout",
     "output_type": "stream",
     "text": [
      "Fitted mean =  -7.73476781568e-09\n",
      "mean =  -8.162504861538447e-09\n",
      "Fitted standard deviation =  3.45458803028e-09\n",
      "standard deviation =  3.553086088e-09\n"
     ]
    },
    {
     "data": {
      "image/png": "[encoded data removed]",
      "text/plain": [
       "<matplotlib.figure.Figure at 0x10dadd198>"
      ]
     },
     "metadata": {},
     "output_type": "display_data"
    }
   ],
   "source": [
    "Nbins = 25\n",
    "hist, bin_edges = np.histogram(Area, Nbins)\n",
    "bin_centres = (bin_edges[:-1] + bin_edges[1:])/2\n",
    "\n",
    "# Define model function to be used to fit to the data above:\n",
    "def gauss(x, *p):\n",
    "    A, mu, sigma = p\n",
    "    return A*np.exp(-(x-mu)**2/(2.*sigma**2))\n",
    "\n",
    "# p0 is the initial guess for the fitting coefficients (A, mu and sigma above)\n",
    "L0 = [1., mean, SD]\n",
    "\n",
    "coeff, var_matrix = curve_fit(gauss, bin_centres, hist, p0=L0)\n",
    "\n",
    "# Get the fitted curve\n",
    "vars=np.linspace(bin_centres[0],bin_centres[-1],1000)\n",
    "hist_fit = gauss(vars, *coeff)\n",
    "plt.figure(figsize=(6,6))\n",
    "#plt.plot(bin_centres, hist, label='Test data')\n",
    "plt.plot(vars, hist_fit, label='Fitted data')\n",
    "\n",
    "# Finally, lets get the fitting parameters, i.e. the mean and standard deviation:\n",
    "print ('Fitted mean = ', coeff[1])\n",
    "print(\"mean = \",mean)\n",
    "print ('Fitted standard deviation = ', coeff[2])\n",
    "print(\"standard deviation = \",SD)\n",
    "plt.show()\n"
   ]
  },
  {
   "cell_type": "code",
   "execution_count": 13,
   "metadata": {
    "collapsed": false
   },
   "outputs": [
    {
     "data": {
      "image/png": "[encoded data removed]",
      "text/plain": [
       "<matplotlib.figure.Figure at 0x10ddc0860>"
      ]
     },
     "metadata": {},
     "output_type": "display_data"
    }
   ],
   "source": [
    "plt.figure(figsize=(6,6))\n",
    "#plt.hist(Area, bins=Nbins)\n",
    "plt.plot(vars, (hist_fit/coeff[2]), label='Fitted data',color='Red')\n",
    "\n",
    "\n",
    "plt.show()"
   ]
  },
  {
   "cell_type": "code",
   "execution_count": 9,
   "metadata": {
    "collapsed": false
   },
   "outputs": [
    {
     "data": {
      "text/plain": [
       "['.DS_Store', 'led1.csv', 'led2.csv', 'led3.csv', 'led4.csv', 'led5.csv']"
      ]
     },
     "execution_count": 9,
     "metadata": {},
     "output_type": "execute_result"
    }
   ],
   "source": [
    "os.listdir('/Users/austinmcdonald/Desktop/data/led spec')"
   ]
  },
  {
   "cell_type": "code",
   "execution_count": 23,
   "metadata": {
    "collapsed": false
   },
   "outputs": [
    {
     "data": {
      "image/png": "[encoded data removed]",
      "text/plain": [
       "<matplotlib.figure.Figure at 0x10dfc0b70>"
      ]
     },
     "metadata": {},
     "output_type": "display_data"
    }
   ],
   "source": [
    "#set path to the files location\n",
    "\n",
    "path = '/Users/austinmcdonald/Desktop/data/led spec/' # this is the path\n",
    "Nled=len(os.listdir(path))                            # this is the number of files\n",
    "filenameled=list(os.listdir(path))                    # this puts the files into a list\n",
    "\n",
    "# defining empty arrays \n",
    "analysisled = []\n",
    "wavelength = []\n",
    "intensity = []\n",
    "# Importing all of the files and saving them to one array\n",
    "for x in range(1,Nled):\n",
    "    analysisled.append(np.genfromtxt(path + filenameled[x],delimiter=\",\",skip_header=33,skip_footer=1))\n",
    "# This picks out all of the xvals and yvals from the prevous array \n",
    "#... note it goes from 0 to x because mac puts an extra file in \n",
    "for y in range(0,x):\n",
    "    wavelength.append(analysisled[y][:,0])\n",
    "    intensity.append(analysisled[y][:,1])\n",
    "\n",
    "    \n",
    "Meanwavelength = np.mean(wavelength,axis = 0)          # Finds the mean of the xvalues\n",
    "\n",
    "Meanintensity = np.mean(intensity,axis = 0)            # Finds the mean of the yvalues\n",
    "\n",
    "SDintensity = np.std(intensity,axis = 0)               # Finds the SD of the yvalues\n",
    "uperr = Meanintensity + SDintensity                    # Adds the SD to the mean \n",
    "dnerr = Meanintensity - SDintensity                    # Subtracts the SD from the mean\n",
    "\n",
    "plt.figure(figsize=(4,4))\n",
    "plt.plot(Meanwavelength,Meanintensity)\n",
    "plt.plot(Meanwavelength,uperr)\n",
    "plt.plot(Meanwavelength,dnerr)\n",
    "\n",
    "\n",
    "plt.suptitle('LED Spectrum',size= 18)\n",
    "plt.xlabel('Wavelength', fontsize=18)\n",
    "plt.ylabel('Intensity', fontsize=18)\n",
    "plt.show()"
   ]
  },
  {
   "cell_type": "code",
   "execution_count": null,
   "metadata": {
    "collapsed": true
   },
   "outputs": [],
   "source": []
  }
 ],
 "metadata": {
  "kernelspec": {
   "display_name": "Python 3",
   "language": "python",
   "name": "python3"
  },
  "language_info": {
   "codemirror_mode": {
    "name": "ipython",
    "version": 3
   },
   "file_extension": ".py",
   "mimetype": "text/x-python",
   "name": "python",
   "nbconvert_exporter": "python",
   "pygments_lexer": "ipython3",
   "version": "3.5.1"
  }
 },
 "nbformat": 4,
 "nbformat_minor": 0
}
