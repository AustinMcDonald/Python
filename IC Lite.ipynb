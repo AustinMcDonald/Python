{
 "cells": [
  {
   "cell_type": "code",
   "execution_count": 1,
   "metadata": {
    "collapsed": true
   },
   "outputs": [],
   "source": [
    "import numpy             as np\n",
    "import matplotlib.pyplot as plt\n",
    "import glob\n",
    "import tables\n",
    "%matplotlib inline"
   ]
  },
  {
   "cell_type": "code",
   "execution_count": 2,
   "metadata": {
    "collapsed": true
   },
   "outputs": [],
   "source": [
    "def IC_Lite(H5file):\n",
    "    \n",
    "    Tab = tables.open_file(H5file,mode='r')\n",
    "    root = Tab.root.MC\n",
    "\n",
    "    data = root\n",
    "    \n",
    "    Nevents = len(data.events)\n",
    "\n",
    "    DatL=[]\n",
    "    DatL.append(0)\n",
    "    for x in range(0,Nevents):\n",
    "        DatL.append(data.extents[x][\"last_hit\"])\n",
    "\n",
    "    EVENTS = []\n",
    "    \n",
    "    for y in range(0,Nevents):\n",
    "        EventNum = data.events[y][\"evt_number\"]\n",
    "        Energy   = data.events[y][\"evt_energy\"]\n",
    "        #Evnt.append(EventNum)\n",
    "        #Enrg.append(Energy)\n",
    "        Xhit = []\n",
    "        Yhit = []\n",
    "        Zhit = []\n",
    "        Ehit = []\n",
    "        Ihit = []\n",
    "\n",
    "        for x in range(DatL[y],DatL[y+1]):\n",
    "\n",
    "            Xhit.append(data.hits[x][\"hit_position\"][0])\n",
    "            Yhit.append(data.hits[x][\"hit_position\"][1])\n",
    "            Zhit.append(data.hits[x][\"hit_position\"][2])\n",
    "            Ehit.append(data.hits[x][\"hit_energy\"])\n",
    "            Ihit.append(data.hits[x][\"hit_time\"])\n",
    "\n",
    "        EVENT = [EventNum,Energy,Ihit,Ehit,Xhit,Yhit,Zhit]\n",
    "        EVENTS.append(EVENT)\n",
    "    return EVENTS\n",
    "    "
   ]
  },
  {
   "cell_type": "code",
   "execution_count": 23,
   "metadata": {
    "collapsed": true
   },
   "outputs": [],
   "source": [
    "path = '/Users/austinmcdonald/Desktop/research/Side Projects/Nexus-100kg/'\n",
    "folder = '/Tl208/'\n",
    "#folder = '/Bi214/'\n",
    "#folder = '/bb0nu/'"
   ]
  },
  {
   "cell_type": "code",
   "execution_count": 24,
   "metadata": {
    "collapsed": true
   },
   "outputs": [],
   "source": [
    "Files = glob.glob(path+folder+'*.h5')\n"
   ]
  },
  {
   "cell_type": "code",
   "execution_count": 40,
   "metadata": {
    "collapsed": true
   },
   "outputs": [],
   "source": [
    "# how you import 1 hf file\n",
    "# the function gives a list of list\n",
    "# the iformation is in the form \n",
    "# [EventNum,Energy,Index hit,Energy hit,Xhit,Yhit,Zhit]\n",
    "events = IC_Lite(Files[0])"
   ]
  },
  {
   "cell_type": "code",
   "execution_count": null,
   "metadata": {
    "collapsed": true
   },
   "outputs": [],
   "source": []
  },
  {
   "cell_type": "code",
   "execution_count": 41,
   "metadata": {},
   "outputs": [
    {
     "data": {
      "text/plain": [
       "647"
      ]
     },
     "execution_count": 41,
     "metadata": {},
     "output_type": "execute_result"
    }
   ],
   "source": [
    "#this is how you seperate the energys from the event data\n",
    "Energys = [ events[i][1] for i in range(len(events)) ]\n",
    "len(Energys)\n",
    "\n",
    "#and this would be for x positions \n",
    "#Xpos = [ events[i][6] for i in range(len(events)) ]"
   ]
  },
  {
   "cell_type": "code",
   "execution_count": 42,
   "metadata": {},
   "outputs": [
    {
     "data": {
      "image/png": "[encoded data removed]",
      "text/plain": [
       "<matplotlib.figure.Figure at 0x14dbe3c88>"
      ]
     },
     "metadata": {},
     "output_type": "display_data"
    }
   ],
   "source": [
    "fig, ax = plt.subplots(figsize=(8,8))\n",
    "Bins = np.linspace(2,3.0,70)\n",
    "plt.hist(Energys,bins=Bins,alpha=0.7,label='Tl208')\n",
    "\n",
    "plt.ylabel(\"Counts\",fontsize=26)\n",
    "plt.xlabel(\"Energy MeV\",fontsize=26)\n",
    "plt.tick_params('both', length=10, width=2, which='major')\n",
    "plt.tick_params('both', length=5, width=1, which='minor')\n",
    "plt.xticks(fontsize=24)\n",
    "plt.yticks(fontsize=24)\n",
    "plt.legend(loc='upper right',fontsize=24,shadow=True, fancybox=True)\n",
    "plt.xlim(2,3)\n",
    "plt.ylim(0,100)\n",
    "plt.grid(True)\n",
    "plt.tight_layout()\n",
    "\n",
    "#plt.savefig('/Users/austinmcdonald/Desktop/energyNoCut.pdf')\n",
    "plt.show()"
   ]
  },
  {
   "cell_type": "code",
   "execution_count": null,
   "metadata": {
    "collapsed": true
   },
   "outputs": [],
   "source": []
  },
  {
   "cell_type": "code",
   "execution_count": null,
   "metadata": {
    "collapsed": true
   },
   "outputs": [],
   "source": []
  },
  {
   "cell_type": "code",
   "execution_count": null,
   "metadata": {
    "collapsed": true
   },
   "outputs": [],
   "source": []
  },
  {
   "cell_type": "code",
   "execution_count": 34,
   "metadata": {
    "collapsed": true
   },
   "outputs": [],
   "source": [
    "# if you want to do it for multiple files just add the events\n",
    "# I recommend testing with only 1 or 2 files because it will \n",
    "# take some time to go through a larger production\n",
    "AllEvents = []\n",
    "for q in range(0,len(Files)):\n",
    "    events += IC_Lite(Files[q])"
   ]
  },
  {
   "cell_type": "code",
   "execution_count": 35,
   "metadata": {},
   "outputs": [
    {
     "data": {
      "text/plain": [
       "24183"
      ]
     },
     "execution_count": 35,
     "metadata": {},
     "output_type": "execute_result"
    }
   ],
   "source": [
    "Energys = [ events[i][1] for i in range(len(events)) ]\n",
    "len(Energys)"
   ]
  },
  {
   "cell_type": "code",
   "execution_count": 39,
   "metadata": {},
   "outputs": [
    {
     "data": {
      "image/png": "[encoded data removed]",
      "text/plain": [
       "<matplotlib.figure.Figure at 0x12c823dd8>"
      ]
     },
     "metadata": {},
     "output_type": "display_data"
    }
   ],
   "source": [
    "fig, ax = plt.subplots(figsize=(8,8))\n",
    "Bins = np.linspace(2,3.0,70)\n",
    "\n",
    "plt.hist(Energys,bins=Bins,alpha=0.7,label='Tl208')\n",
    "plt.ylabel(\"Counts\",fontsize=26)\n",
    "plt.xlabel(\"Energy MeV\",fontsize=26)\n",
    "plt.tick_params('both', length=10, width=2, which='major')\n",
    "plt.tick_params('both', length=5, width=1, which='minor')\n",
    "plt.xticks(fontsize=24)\n",
    "plt.yticks(fontsize=24)\n",
    "plt.legend(loc='upper right',fontsize=24,shadow=True, fancybox=True)\n",
    "plt.xlim(2,3)\n",
    "#plt.ylim(0,80)\n",
    "plt.grid(True)\n",
    "plt.tight_layout()\n",
    "\n",
    "#plt.savefig('/Users/austinmcdonald/Desktop/energyNoCut.pdf')\n",
    "plt.show()"
   ]
  },
  {
   "cell_type": "code",
   "execution_count": null,
   "metadata": {
    "collapsed": true
   },
   "outputs": [],
   "source": []
  },
  {
   "cell_type": "code",
   "execution_count": null,
   "metadata": {
    "collapsed": true
   },
   "outputs": [],
   "source": []
  },
  {
   "cell_type": "code",
   "execution_count": null,
   "metadata": {
    "collapsed": true
   },
   "outputs": [],
   "source": []
  }
 ],
 "metadata": {
  "kernelspec": {
   "display_name": "Python 3",
   "language": "python",
   "name": "python3"
  },
  "language_info": {
   "codemirror_mode": {
    "name": "ipython",
    "version": 3
   },
   "file_extension": ".py",
   "mimetype": "text/x-python",
   "name": "python",
   "nbconvert_exporter": "python",
   "pygments_lexer": "ipython3",
   "version": "3.6.7"
  }
 },
 "nbformat": 4,
 "nbformat_minor": 1
}
