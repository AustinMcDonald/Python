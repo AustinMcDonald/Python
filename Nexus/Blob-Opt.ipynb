{
 "cells": [
  {
   "cell_type": "code",
   "execution_count": 1,
   "metadata": {
    "collapsed": true
   },
   "outputs": [],
   "source": [
    "import numpy as np\n",
    "import matplotlib.pyplot as plt\n",
    "import matplotlib.mlab as mlab\n",
    "import glob\n",
    "%matplotlib inline"
   ]
  },
  {
   "cell_type": "code",
   "execution_count": 2,
   "metadata": {},
   "outputs": [
    {
     "name": "stdout",
     "output_type": "stream",
     "text": [
      "/Users/austinmcdonald/Desktop/Nexus-100kg/OPT-blobE/bb0nu\n"
     ]
    }
   ],
   "source": [
    "cd /Users/austinmcdonald/Desktop/Nexus-100kg/OPT-blobE/bb0nu/"
   ]
  },
  {
   "cell_type": "code",
   "execution_count": 3,
   "metadata": {
    "collapsed": true
   },
   "outputs": [],
   "source": [
    "bbPath = \"/Users/austinmcdonald/Desktop/Nexus-100kg/OPT-blobE/bb0nu/\"\n",
    "biPath = \"/Users/austinmcdonald/Desktop/Nexus-100kg/OPT-blobE/bi214/\"\n",
    "tlPath = \"/Users/austinmcdonald/Desktop/Nexus-100kg/OPT-blobE/tl208/\""
   ]
  },
  {
   "cell_type": "code",
   "execution_count": 4,
   "metadata": {},
   "outputs": [
    {
     "data": {
      "text/plain": [
       "['/Users/austinmcdonald/Desktop/Nexus-100kg/OPT-blobE/tl208/blob-0.0.txt',\n",
       " '/Users/austinmcdonald/Desktop/Nexus-100kg/OPT-blobE/tl208/blob-0.111111111111.txt',\n",
       " '/Users/austinmcdonald/Desktop/Nexus-100kg/OPT-blobE/tl208/blob-0.222222222222.txt',\n",
       " '/Users/austinmcdonald/Desktop/Nexus-100kg/OPT-blobE/tl208/blob-0.333333333333.txt',\n",
       " '/Users/austinmcdonald/Desktop/Nexus-100kg/OPT-blobE/tl208/blob-0.444444444444.txt',\n",
       " '/Users/austinmcdonald/Desktop/Nexus-100kg/OPT-blobE/tl208/blob-0.555555555556.txt',\n",
       " '/Users/austinmcdonald/Desktop/Nexus-100kg/OPT-blobE/tl208/blob-0.666666666667.txt',\n",
       " '/Users/austinmcdonald/Desktop/Nexus-100kg/OPT-blobE/tl208/blob-0.777777777778.txt',\n",
       " '/Users/austinmcdonald/Desktop/Nexus-100kg/OPT-blobE/tl208/blob-0.888888888889.txt',\n",
       " '/Users/austinmcdonald/Desktop/Nexus-100kg/OPT-blobE/tl208/blob-1.0.txt']"
      ]
     },
     "execution_count": 4,
     "metadata": {},
     "output_type": "execute_result"
    }
   ],
   "source": [
    "glob.glob(tlPath+'*.txt')"
   ]
  },
  {
   "cell_type": "code",
   "execution_count": 5,
   "metadata": {
    "collapsed": true
   },
   "outputs": [],
   "source": [
    "files = glob.glob(tlPath+'*.txt')\n",
    "TL = dict()\n",
    "LE = len(files)\n",
    "for q in range(0,LE):\n",
    "    TL[q] = np.genfromtxt(files[q], delimiter=',')\n",
    "    \n",
    "files = glob.glob(biPath+'*.txt')\n",
    "BI = dict()\n",
    "LE = len(files)\n",
    "for q in range(0,LE):\n",
    "    BI[q] = np.genfromtxt(files[q], delimiter=',')\n",
    "    \n",
    "files = glob.glob(bbPath+'*.txt')\n",
    "BB = dict()\n",
    "LE = len(files)\n",
    "for q in range(0,LE):\n",
    "    BB[q] = np.genfromtxt(files[q], delimiter=',')"
   ]
  },
  {
   "cell_type": "code",
   "execution_count": 6,
   "metadata": {},
   "outputs": [
    {
     "data": {
      "text/plain": [
       "10"
      ]
     },
     "execution_count": 6,
     "metadata": {},
     "output_type": "execute_result"
    }
   ],
   "source": [
    "len(TL)"
   ]
  },
  {
   "cell_type": "code",
   "execution_count": 7,
   "metadata": {
    "collapsed": true
   },
   "outputs": [],
   "source": [
    "def Effi(DICT):\n",
    "    LEN = len(DICT)\n",
    "    L   = np.array([])\n",
    "    for q in range(0,LEN):\n",
    "        AA = len(DICT[q])\n",
    "        L = np.append(L,AA)\n",
    "    return L"
   ]
  },
  {
   "cell_type": "code",
   "execution_count": 8,
   "metadata": {},
   "outputs": [
    {
     "data": {
      "text/plain": [
       "array([ 72.,  65.,  37.,  18.,   3.,   6.,   2.,   3.])"
      ]
     },
     "execution_count": 8,
     "metadata": {},
     "output_type": "execute_result"
    }
   ],
   "source": [
    "Effi(BI)"
   ]
  },
  {
   "cell_type": "code",
   "execution_count": 9,
   "metadata": {},
   "outputs": [
    {
     "data": {
      "text/plain": [
       "array([ 0.        ,  0.11111111,  0.22222222,  0.33333333,  0.44444444,\n",
       "        0.55555556,  0.66666667,  0.77777778,  0.88888889,  1.        ])"
      ]
     },
     "execution_count": 9,
     "metadata": {},
     "output_type": "execute_result"
    }
   ],
   "source": [
    "xx = np.linspace(0,1,10)\n",
    "xx"
   ]
  },
  {
   "cell_type": "code",
   "execution_count": 10,
   "metadata": {},
   "outputs": [
    {
     "data": {
      "text/plain": [
       "8"
      ]
     },
     "execution_count": 10,
     "metadata": {},
     "output_type": "execute_result"
    }
   ],
   "source": [
    "len(Effi(BI))"
   ]
  },
  {
   "cell_type": "code",
   "execution_count": 12,
   "metadata": {},
   "outputs": [
    {
     "data": {
      "image/png": "[encoded data removed]",
      "text/plain": [
       "<matplotlib.figure.Figure at 0x10a34ca58>"
      ]
     },
     "metadata": {},
     "output_type": "display_data"
    }
   ],
   "source": [
    "plt.scatter(xx,Effi(TL),color='blue')\n",
    "#plt.semilogy()\n",
    "#plt.ylim(1e-6,1e-3)\n",
    "plt.show()"
   ]
  },
  {
   "cell_type": "code",
   "execution_count": 13,
   "metadata": {},
   "outputs": [
    {
     "data": {
      "text/plain": [
       "<matplotlib.collections.PathCollection at 0x10d01fe80>"
      ]
     },
     "execution_count": 13,
     "metadata": {},
     "output_type": "execute_result"
    },
    {
     "data": {
      "image/png": "[encoded data removed]",
      "text/plain": [
       "<matplotlib.figure.Figure at 0x10cf8a4a8>"
      ]
     },
     "metadata": {},
     "output_type": "display_data"
    }
   ],
   "source": [
    "plt.scatter(xx[0:8],Effi(BI),color='green')\n"
   ]
  },
  {
   "cell_type": "code",
   "execution_count": 14,
   "metadata": {},
   "outputs": [
    {
     "data": {
      "image/png": "[encoded data removed]",
      "text/plain": [
       "<matplotlib.figure.Figure at 0x10d03fd68>"
      ]
     },
     "metadata": {},
     "output_type": "display_data"
    }
   ],
   "source": [
    "plt.scatter(xx,Effi(BB))\n",
    "#plt.semilogy()\n",
    "#plt.ylim(1e-6,1e-3)\n",
    "plt.show()"
   ]
  },
  {
   "cell_type": "code",
   "execution_count": 81,
   "metadata": {},
   "outputs": [
    {
     "data": {
      "image/png": "[encoded data removed]",
      "text/plain": [
       "<matplotlib.figure.Figure at 0x11149fcf8>"
      ]
     },
     "metadata": {},
     "output_type": "display_data"
    }
   ],
   "source": [
    "fig, ax = plt.subplots(figsize=(6,6))\n",
    "plt.scatter(xx,Effi(TL)/max(Effi(TL)),color='blue',alpha=0.7,label='Tl')\n",
    "plt.scatter(xx[0:8],Effi(BI)/max(Effi(BI)),color='green',alpha=0.7,label='Bi')\n",
    "plt.scatter(xx,Effi(BB)/max(Effi(BB)),color='red',alpha=0.7,label='bb0nu')\n",
    "\n",
    "plt.ylabel(\"Rate Normalized\",fontsize=26)\n",
    "plt.xlabel(\"Blob min Energy MeV\",fontsize=26)\n",
    "plt.tick_params('both', length=10, width=2, which='major')\n",
    "plt.tick_params('both', length=5, width=1, which='minor')\n",
    "xmajor_ticks = np.arange(0, 1.1, 2e-1)\n",
    "xminor_ticks = np.arange(0, 1.1, 1e-1)\n",
    "ymajor_ticks = np.arange(0, 1.1, 5e-1)\n",
    "yminor_ticks = np.arange(0, 1.1, 1e-1)\n",
    "ax.tick_params(axis = 'x', which = 'major', direction='out',width=2,length=6,top=\"off\",right='off')\n",
    "ax.tick_params(axis = 'x', which = 'minor', direction='out',width=1,length=3,top=\"off\",right='off')\n",
    "ax.tick_params(axis = 'y', which = 'major', direction='in',width=2,length=6,top=\"off\",right='off')\n",
    "ax.tick_params(axis = 'y', which = 'minor', direction='in',width=2,length=4,top=\"off\",right='off')\n",
    "ax.set_xticks(xmajor_ticks)\n",
    "ax.set_xticks(xminor_ticks, minor = True)\n",
    "ax.set_yticks(ymajor_ticks)\n",
    "ax.set_yticks(yminor_ticks, minor = True)\n",
    "plt.xticks(fontsize=24)\n",
    "plt.yticks(fontsize=24)\n",
    "plt.legend(loc='upper right',fontsize=24,shadow=True, fancybox=True)\n",
    "plt.xlim(-.1,1.1)\n",
    "plt.ylim(0,1.1)\n",
    "plt.grid(True)\n",
    "plt.axvline(0.45,linewidth=2,linestyle='--',color='k',alpha=0.3)\n",
    "\n",
    "plt.tight_layout()\n",
    "\n",
    "plt.show()"
   ]
  },
  {
   "cell_type": "code",
   "execution_count": 40,
   "metadata": {},
   "outputs": [
    {
     "data": {
      "text/plain": [
       "0.44444444444444442"
      ]
     },
     "execution_count": 40,
     "metadata": {},
     "output_type": "execute_result"
    }
   ],
   "source": [
    "BI[5]\n",
    "xx[4]"
   ]
  },
  {
   "cell_type": "code",
   "execution_count": 29,
   "metadata": {},
   "outputs": [
    {
     "data": {
      "text/plain": [
       "0.0098591549295772296"
      ]
     },
     "execution_count": 29,
     "metadata": {},
     "output_type": "execute_result"
    }
   ],
   "source": [
    "Bins = np.linspace(2.3,3.0,29)\n",
    "Bins = np.linspace(2.3,3.0,72)\n",
    "Bins[2]-Bins[1]"
   ]
  },
  {
   "cell_type": "code",
   "execution_count": 44,
   "metadata": {},
   "outputs": [
    {
     "data": {
      "image/png": "[encoded data removed]",
      "text/plain": [
       "<matplotlib.figure.Figure at 0x10ff23f60>"
      ]
     },
     "metadata": {},
     "output_type": "display_data"
    }
   ],
   "source": [
    "fig, ax = plt.subplots(figsize=(6,6))\n",
    "#plt.hist(Tl,bins=Bins,normed=True,alpha=0.7,label='Tl208')\n",
    "#plt.hist(Bi,bins=Bins,normed=True,alpha=0.7,label='Bi214')\n",
    "#plt.hist(bb,bins=Bins,normed=True,alpha=0.7,label='bb0nu')\n",
    "plt.hist(TL[4][:,0],bins=Bins,alpha=0.7,label='Tl208',color='blue',normed=1e7)\n",
    "#plt.hist(BI[4][:,0],bins=Bins,alpha=0.7,label='Bi214',color='green',normed=1e7)\n",
    "plt.hist(BB[4][:,0],bins=Bins,alpha=0.7,label='bb0nu',color='red',normed=1e4)\n",
    "\n",
    "plt.ylabel(\"Counts\",fontsize=26)\n",
    "plt.xlabel(\"Energy MeV\",fontsize=26)\n",
    "plt.tick_params('both', length=10, width=2, which='major')\n",
    "plt.tick_params('both', length=5, width=1, which='minor')\n",
    "xmajor_ticks = np.arange(2.3, 2.7, 0.1)\n",
    "xminor_ticks = np.arange(2.3, 2.7, 0.05)\n",
    "ymajor_ticks = np.arange(0, 100, 10)\n",
    "yminor_ticks = np.arange(0, 100, 5)\n",
    "ax.tick_params(axis = 'x', which = 'major', direction='out',width=2,length=6,top=\"off\",right='off')\n",
    "ax.tick_params(axis = 'x', which = 'minor', direction='out',width=1,length=3,top=\"off\",right='off')\n",
    "ax.tick_params(axis = 'y', which = 'major', direction='in',width=2,length=6,top=\"off\",right='off')\n",
    "ax.tick_params(axis = 'y', which = 'minor', direction='in',width=2,length=4,top=\"off\",right='off')\n",
    "ax.set_xticks(xmajor_ticks)\n",
    "ax.set_xticks(xminor_ticks, minor = True)\n",
    "ax.set_yticks(ymajor_ticks)\n",
    "ax.set_yticks(yminor_ticks, minor = True)\n",
    "plt.xticks(fontsize=24)\n",
    "plt.yticks(fontsize=24)\n",
    "plt.legend(loc='upper right',fontsize=24,shadow=True, fancybox=True)\n",
    "plt.xlim(2.3,2.7)\n",
    "plt.ylim(0,55)\n",
    "plt.grid(True)\n",
    "plt.tight_layout()\n",
    "\n",
    "#plt.savefig('/Users/austinmcdonald/Desktop/energyNoCut.pdf')\n",
    "plt.show()\n"
   ]
  },
  {
   "cell_type": "code",
   "execution_count": null,
   "metadata": {
    "collapsed": true
   },
   "outputs": [],
   "source": []
  },
  {
   "cell_type": "code",
   "execution_count": null,
   "metadata": {
    "collapsed": true
   },
   "outputs": [],
   "source": [
    "2.45"
   ]
  },
  {
   "cell_type": "code",
   "execution_count": 82,
   "metadata": {},
   "outputs": [
    {
     "data": {
      "text/plain": [
       "0.05"
      ]
     },
     "execution_count": 82,
     "metadata": {},
     "output_type": "execute_result"
    }
   ],
   "source": [
    "2.5/50"
   ]
  },
  {
   "cell_type": "code",
   "execution_count": 105,
   "metadata": {},
   "outputs": [
    {
     "data": {
      "image/png": "[encoded data removed]",
      "text/plain": [
       "<matplotlib.figure.Figure at 0x11086f0f0>"
      ]
     },
     "metadata": {},
     "output_type": "display_data"
    }
   ],
   "source": [
    "from matplotlib.colors import LogNorm\n",
    "import matplotlib.pyplot as plt\n",
    "import numpy as np\n",
    "import matplotlib.colors as mcolors\n",
    "bins = 50\n",
    "\n",
    "plt.figure(figsize=(9,9))\n",
    "\n",
    "plt.title(r'Cut space ',fontsize=20)\n",
    "x =BB[0][:,2]\n",
    "y =BB[0][:,1]\n",
    "\n",
    "xedges, yedges = np.linspace(0, 2.5, bins), np.linspace(0, 2.5, bins)\n",
    "#plt.hist2d(x, y, bins=(xedges, yedges), norm=LogNorm(),cmap='viridis')\n",
    "plt.hist2d(x, y, bins=(xedges, yedges), normed=True,cmap='viridis')\n",
    "plt.colorbar()\n",
    "plt.xlim(0,2.5)\n",
    "plt.ylim(0,2.5)\n",
    "plt.axhline(0.45,linewidth=2,linestyle='--',color='r')\n",
    "plt.grid(True)\n",
    "#plt.savefig('/Users/austinmcdonald/Desktop/fitting/'+'chiBadata-cut')\n",
    "plt.show()"
   ]
  },
  {
   "cell_type": "code",
   "execution_count": null,
   "metadata": {
    "collapsed": true
   },
   "outputs": [],
   "source": []
  },
  {
   "cell_type": "code",
   "execution_count": 107,
   "metadata": {},
   "outputs": [
    {
     "data": {
      "image/png": "[encoded data removed]",
      "text/plain": [
       "<matplotlib.figure.Figure at 0x10d032940>"
      ]
     },
     "metadata": {},
     "output_type": "display_data"
    }
   ],
   "source": [
    "from matplotlib.colors import LogNorm\n",
    "import matplotlib.pyplot as plt\n",
    "import numpy as np\n",
    "import matplotlib.colors as mcolors\n",
    "bins = 50\n",
    "\n",
    "plt.figure(figsize=(9,9))\n",
    "\n",
    "plt.title(r'Cut space ',fontsize=20)\n",
    "x =TL[0][:,2]\n",
    "y =TL[0][:,1]\n",
    "\n",
    "xedges, yedges = np.linspace(0, 2.5, bins), np.linspace(0, 2.5, bins)\n",
    "#plt.hist2d(x, y, bins=(xedges, yedges), norm=LogNorm(),cmap='viridis')\n",
    "plt.hist2d(x, y, bins=(xedges, yedges), normed=True,cmap='viridis')\n",
    "plt.colorbar()\n",
    "plt.xlim(0,2.5)\n",
    "plt.ylim(0,2.5)\n",
    "plt.axhline(0.45,linewidth=2,linestyle='--',color='r')\n",
    "plt.grid(True)\n",
    "#plt.savefig('/Users/austinmcdonald/Desktop/fitting/'+'chiBadata-cut')\n",
    "plt.show()"
   ]
  },
  {
   "cell_type": "code",
   "execution_count": null,
   "metadata": {
    "collapsed": true
   },
   "outputs": [],
   "source": []
  },
  {
   "cell_type": "code",
   "execution_count": 117,
   "metadata": {},
   "outputs": [
    {
     "data": {
      "image/png": "[encoded data removed]",
      "text/plain": [
       "<matplotlib.figure.Figure at 0x1112242e8>"
      ]
     },
     "metadata": {},
     "output_type": "display_data"
    }
   ],
   "source": [
    "from matplotlib.colors import LogNorm\n",
    "import matplotlib.pyplot as plt\n",
    "import numpy as np\n",
    "import matplotlib.colors as mcolors\n",
    "bins = 50\n",
    "\n",
    "plt.figure(figsize=(9,9))\n",
    "\n",
    "plt.title(r'Cut space ',fontsize=20)\n",
    "x =BI[0][:,2]\n",
    "y =BI[0][:,1]\n",
    "\n",
    "xedges, yedges = np.linspace(0, 2.5, bins), np.linspace(0, 2.5, bins)\n",
    "#plt.hist2d(x, y, bins=(xedges, yedges), norm=LogNorm(),cmap='viridis')\n",
    "plt.hist2d(x, y, bins=(xedges, yedges), normed=True,cmap='viridis')\n",
    "plt.colorbar()\n",
    "plt.xlim(0,2.5)\n",
    "plt.ylim(0,2.5)\n",
    "plt.grid(True)\n",
    "plt.axhline(0.45,linewidth=2,linestyle='--',color='r')\n",
    "#plt.savefig('/Users/austinmcdonald/Desktop/fitting/'+'chiBadata-cut')\n",
    "plt.show()"
   ]
  },
  {
   "cell_type": "code",
   "execution_count": null,
   "metadata": {
    "collapsed": true
   },
   "outputs": [],
   "source": []
  },
  {
   "cell_type": "code",
   "execution_count": null,
   "metadata": {
    "collapsed": true
   },
   "outputs": [],
   "source": []
  },
  {
   "cell_type": "code",
   "execution_count": null,
   "metadata": {
    "collapsed": true
   },
   "outputs": [],
   "source": []
  },
  {
   "cell_type": "code",
   "execution_count": null,
   "metadata": {
    "collapsed": true
   },
   "outputs": [],
   "source": []
  },
  {
   "cell_type": "code",
   "execution_count": null,
   "metadata": {
    "collapsed": true
   },
   "outputs": [],
   "source": []
  },
  {
   "cell_type": "code",
   "execution_count": null,
   "metadata": {
    "collapsed": true
   },
   "outputs": [],
   "source": []
  },
  {
   "cell_type": "code",
   "execution_count": null,
   "metadata": {
    "collapsed": true
   },
   "outputs": [],
   "source": []
  },
  {
   "cell_type": "code",
   "execution_count": 115,
   "metadata": {},
   "outputs": [
    {
     "data": {
      "image/png": "[encoded data removed]",
      "text/plain": [
       "<matplotlib.figure.Figure at 0x1112262b0>"
      ]
     },
     "metadata": {},
     "output_type": "display_data"
    }
   ],
   "source": [
    "import numpy as np\n",
    "import matplotlib.pyplot as plt\n",
    "import matplotlib.gridspec as gridspec\n",
    "\n",
    "\n",
    "x =BB[0][:,2]\n",
    "y =BB[0][:,1]\n",
    "\n",
    "xedges, yedges = np.linspace(0, 2.5, bins), np.linspace(0, 2.5, bins)\n",
    "#plt.hist2d(x, y, bins=(xedges, yedges), normed=True,cmap='viridis')\n",
    "\n",
    "\n",
    "'''data = # Uploaded to http://pastebin.com/tjLqM9gQ\n",
    "\n",
    "# Create a meshgrid of coordinates (0,1,...,N) times (0,1,...,N)\n",
    "y, x = np.mgrid[:len(data[0, :, 0]), :len(data[0, 0, :])]\n",
    "# duplicating the grids\n",
    "xcoord, ycoord = np.array([x] * len(data)), np.array([y] * len(data))\n",
    "# compute histogram with coordinates as x,y\n",
    "h, xe, ye = np.histogram2d(\n",
    "    xcoord.ravel(), ycoord.ravel(),\n",
    "    bins=[len(data[0, 0, :]), len(data[0, :, 0])],\n",
    "    weights=stars.ravel())'''\n",
    "h,xe,ye = np.histogram2d(x, y, bins=(xedges, yedges))\n",
    "# Projected histograms inx and y\n",
    "hx, hy = h.sum(axis=0), h.sum(axis=1)\n",
    "\n",
    "# Define size of figure\n",
    "fig = plt.figure(figsize=(20, 15))\n",
    "gs = gridspec.GridSpec(10, 12)\n",
    "\n",
    "# Define the positions of the subplots.\n",
    "ax0 = plt.subplot(gs[6:10, 5:9])\n",
    "axx = plt.subplot(gs[5:6, 5:9])\n",
    "axy = plt.subplot(gs[6:10, 9:10])\n",
    "\n",
    "ax0.imshow(h, cmap=plt.cm.viridis, interpolation='nearest',\n",
    "           origin='lower', vmin=0.)\n",
    "\n",
    "# Remove tick labels\n",
    "'''nullfmt = NullFormatter()\n",
    "axx.xaxis.set_major_formatter(nullfmt)\n",
    "axx.yaxis.set_major_formatter(nullfmt)\n",
    "axy.xaxis.set_major_formatter(nullfmt)\n",
    "axy.yaxis.set_major_formatter(nullfmt)\n",
    "'''\n",
    "# Top plot\n",
    "axx.hist(hx,bins=bins)\n",
    "axx.set_xlim(ax0.get_xlim())\n",
    "# Right plot\n",
    "axy.plot(hy, range(len(hy)))\n",
    "axy.set_ylim(ax0.get_ylim())\n",
    "\n",
    "fig.tight_layout()\n",
    "#plt.savefig('del.png')"
   ]
  },
  {
   "cell_type": "code",
   "execution_count": null,
   "metadata": {
    "collapsed": true
   },
   "outputs": [],
   "source": []
  },
  {
   "cell_type": "code",
   "execution_count": null,
   "metadata": {
    "collapsed": true
   },
   "outputs": [],
   "source": []
  },
  {
   "cell_type": "code",
   "execution_count": null,
   "metadata": {
    "collapsed": true
   },
   "outputs": [],
   "source": []
  },
  {
   "cell_type": "code",
   "execution_count": null,
   "metadata": {
    "collapsed": true
   },
   "outputs": [],
   "source": []
  },
  {
   "cell_type": "code",
   "execution_count": null,
   "metadata": {
    "collapsed": true
   },
   "outputs": [],
   "source": []
  },
  {
   "cell_type": "code",
   "execution_count": null,
   "metadata": {
    "collapsed": true
   },
   "outputs": [],
   "source": []
  },
  {
   "cell_type": "code",
   "execution_count": 88,
   "metadata": {},
   "outputs": [
    {
     "data": {
      "text/plain": [
       "array([  0.        ,   5.55555556,  11.11111111,  16.66666667,\n",
       "        22.22222222,  27.77777778,  33.33333333,  38.88888889,\n",
       "        44.44444444,  50.        ])"
      ]
     },
     "execution_count": 88,
     "metadata": {},
     "output_type": "execute_result"
    }
   ],
   "source": [
    "test"
   ]
  },
  {
   "cell_type": "code",
   "execution_count": 93,
   "metadata": {},
   "outputs": [
    {
     "name": "stdout",
     "output_type": "stream",
     "text": [
      "0.0\n",
      "5.55555555556\n"
     ]
    }
   ],
   "source": [
    "test = np.linspace(0,50,10)\n",
    "for x in range(0,10):\n",
    "    A = True\n",
    "    if test[x]>10:\n",
    "        A = False\n",
    "    if A == True:\n",
    "        print(test[x])"
   ]
  },
  {
   "cell_type": "code",
   "execution_count": null,
   "metadata": {
    "collapsed": true
   },
   "outputs": [],
   "source": []
  },
  {
   "cell_type": "code",
   "execution_count": null,
   "metadata": {
    "collapsed": true
   },
   "outputs": [],
   "source": []
  }
 ],
 "metadata": {
  "kernelspec": {
   "display_name": "Python 3",
   "language": "python",
   "name": "python3"
  },
  "language_info": {
   "codemirror_mode": {
    "name": "ipython",
    "version": 3
   },
   "file_extension": ".py",
   "mimetype": "text/x-python",
   "name": "python",
   "nbconvert_exporter": "python",
   "pygments_lexer": "ipython3",
   "version": "3.5.2"
  }
 },
 "nbformat": 4,
 "nbformat_minor": 1
}
