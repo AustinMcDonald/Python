{
 "cells": [
  {
   "cell_type": "code",
   "execution_count": 1,
   "metadata": {
    "collapsed": true
   },
   "outputs": [],
   "source": [
    "import numpy as np\n",
    "import matplotlib\n",
    "\n",
    "import matplotlib.pyplot as plt\n",
    "%matplotlib inline\n",
    "import matplotlib.mlab as mlab\n",
    "import glob\n",
    "from scipy import optimize\n",
    "from scipy.special import erf\n",
    "import os\n",
    "import numpy.polynomial.polynomial as poly\n",
    "from scipy.stats import chisquare\n",
    "from collections import OrderedDict\n"
   ]
  },
  {
   "cell_type": "code",
   "execution_count": 2,
   "metadata": {
    "collapsed": true
   },
   "outputs": [],
   "source": [
    "def find_nearest(array,value):\n",
    "    idx = (np.abs(array-value)).argmin()\n",
    "    return array[idx]\n",
    "\n",
    "def moving_average(a, n=3) :\n",
    "    ret = np.cumsum(a, dtype=float)\n",
    "    ret[n:] = ret[n:] - ret[:-n]\n",
    "    return ret[n - 1:] / n"
   ]
  },
  {
   "cell_type": "code",
   "execution_count": 3,
   "metadata": {
    "collapsed": true
   },
   "outputs": [],
   "source": [
    "def FIND_MAX(X,Y):\n",
    "    TriggerTime = find_nearest(X,0)\n",
    "    Trigger     = np.where(X==TriggerTime)[0][0]+5\n",
    "    xx = moving_average(X,20)\n",
    "    yy = moving_average(Y,20)\n",
    "    \n",
    "    xxx = xx[Trigger:]\n",
    "    yyy = yy[Trigger:]\n",
    "    \n",
    "    maxy = max(yyy)\n",
    "    \n",
    "    hold      = find_nearest(yyy,maxy)\n",
    "    peak     = np.where(yyy==hold)[0][0]\n",
    "\n",
    "    xxx = xx[Trigger:Trigger+peak]\n",
    "    yyy = yy[Trigger:Trigger+peak]\n",
    "    \n",
    "    hold      = find_nearest(yyy,maxy*0.1)\n",
    "    edge     = np.where(yyy==hold)[0][0]\n",
    "    return Trigger+peak, Trigger+edge\n",
    "\n",
    "def FIND_MIN(X,Y):\n",
    "    TriggerTime = find_nearest(X,0)\n",
    "    Trigger     = np.where(X==TriggerTime)[0][0]+20\n",
    "    xx = moving_average(X,20)\n",
    "    yy = moving_average(Y,20)\n",
    "    \n",
    "    xxx = xx[Trigger:]\n",
    "    yyy = yy[Trigger:]\n",
    "    \n",
    "    miny = min(yyy)\n",
    "    \n",
    "    hold      = find_nearest(yyy,miny)\n",
    "    MINLOC     = np.where(yyy==hold)[0][0]\n",
    "    \n",
    "    TT = Trigger+MINLOC\n",
    "    xxxx = xx[Trigger:TT]\n",
    "    yyyy = yy[Trigger:TT]\n",
    "    \n",
    "    hold      = find_nearest(yyyy,miny*0.1)\n",
    "    REDGE     = np.where(yyyy==hold)[0][0]\n",
    "    return MINLOC+Trigger,miny,REDGE+Trigger"
   ]
  },
  {
   "cell_type": "code",
   "execution_count": 4,
   "metadata": {},
   "outputs": [
    {
     "data": {
      "text/plain": [
       "0.5204998778130465"
      ]
     },
     "execution_count": 4,
     "metadata": {},
     "output_type": "execute_result"
    }
   ],
   "source": [
    "1*np.erf(0.5)"
   ]
  },
  {
   "cell_type": "code",
   "execution_count": 5,
   "metadata": {
    "collapsed": true
   },
   "outputs": [],
   "source": [
    "def funcG(t,t0,sig,a,c):\n",
    "    tau = 121e-6\n",
    "    A = (sig**2-2*(t-t0)*tau)/(2*tau**2)\n",
    "    B = (-sig**2 +(t-t0)*tau)/(np.sqrt(2)*tau*sig)\n",
    "    C = np.exp(A)\n",
    "    D = (1 + erf(B))\n",
    "    E = a*C*D+c\n",
    "    return E\n",
    "\n",
    "def funcA(t,t0,sig,a,c):\n",
    "    tau = 123e-6\n",
    "    tau = 155e-6\n",
    "    A = (sig**2-2*(t-t0)*tau)/(2*tau**2)\n",
    "    B = (-sig**2 +(t-t0)*tau)/(np.sqrt(2.)*tau*sig)\n",
    "    C = np.exp(A)\n",
    "    D = (1 + erf(B))\n",
    "    E = a*C*D+c\n",
    "    return E\n",
    "def func(t,t0,sig,a,c,tau):\n",
    "    #tau = 123e-6\n",
    "    A = (sig**2-2*(t-t0)*tau)/(2*tau**2)\n",
    "    B = (-sig**2 +(t-t0)*tau)/(np.sqrt(2)*tau*sig)\n",
    "    C = np.exp(A)\n",
    "    D = (1 + erf(B))\n",
    "    E = a*C*D+c\n",
    "    return E"
   ]
  },
  {
   "cell_type": "code",
   "execution_count": 6,
   "metadata": {
    "collapsed": true
   },
   "outputs": [],
   "source": [
    "def FITTER_GOLD(x,y):\n",
    "    XX = x\n",
    "    YY = y\n",
    "\n",
    "    TriggerTime = find_nearest(XX,0)\n",
    "    Trigger     = np.where(XX==TriggerTime)[0][0]\n",
    "    Trigger = int(Trigger)\n",
    "\n",
    "    xx = moving_average(XX,20)\n",
    "    yy = moving_average(YY,20)\n",
    "\n",
    "    xxx = xx[Trigger:]\n",
    "    yyy = yy[Trigger:]\n",
    "\n",
    "    miny = max(yyy)\n",
    "\n",
    "    hold      = find_nearest(yyy,miny)\n",
    "    MINLOC     = np.where(yyy==hold)[0][0]\n",
    "\n",
    "    TT = Trigger+MINLOC\n",
    "    TT = int(TT)\n",
    "\n",
    "    xxxx = xx[Trigger:TT]\n",
    "    yyyy = yy[Trigger:TT]\n",
    "\n",
    "    hold      = find_nearest(yyyy,miny*0.2)\n",
    "    REDGE     = np.where(yyyy==hold)[0][0]\n",
    "    TTT = Trigger+REDGE\n",
    "    Arr = TTT + int((TT-TTT)/2)\n",
    "\n",
    "    BF = (XX[TT]-XX[TTT])/2\n",
    "    Off = np.mean(YY[Trigger:])\n",
    "    fitval = [XX[Arr],BF, miny,Off]\n",
    "    cut = 200*25\n",
    "    cut2=cut-100*25\n",
    "    fitX = XX[Arr-cut2:Arr+cut]\n",
    "    fitY = YY[Arr-cut2:Arr+cut]\n",
    "    \n",
    "\n",
    "    optim,eh = optimize.curve_fit(funcA,fitX,fitY,p0=fitval)\n",
    "\n",
    "    chi = sum((funcG(fitX,*optim)- fitY)**2)\n",
    "    return XX,YY,optim,chi,[Arr-cut2,Arr+cut]"
   ]
  },
  {
   "cell_type": "code",
   "execution_count": 7,
   "metadata": {
    "collapsed": true
   },
   "outputs": [],
   "source": [
    "def FITTER_ANOD(x,y):\n",
    "    XX = x\n",
    "    YY = y\n",
    "\n",
    "    TriggerTime = find_nearest(XX,0)\n",
    "    Trigger     = np.where(XX==TriggerTime)[0][0]\n",
    "    Trigger = int(Trigger+1e3)\n",
    "    XX = XX[Trigger:]\n",
    "    YY = YY[Trigger:]\n",
    "\n",
    "    xx = moving_average(XX,20)\n",
    "    yy = moving_average(YY,20)\n",
    "\n",
    "    \n",
    "\n",
    "    miny = min(yy)\n",
    "\n",
    "    hold      = find_nearest(yy,miny)\n",
    "    MINLOC     = np.where(yy==hold)[0][0]\n",
    "\n",
    "    TT = MINLOC\n",
    "    TT = int(TT)\n",
    "\n",
    "    xxxx = xx[:TT]\n",
    "    yyyy = yy[:TT]\n",
    "\n",
    "    hold      = find_nearest(yyyy,miny*0.2)\n",
    "    REDGE     = np.where(yyyy==hold)[0][0]\n",
    "    TTT = REDGE\n",
    "    Arr = TTT + int((TT-TTT)/2)\n",
    "\n",
    "    BF = (XX[TT]-XX[TTT])/2\n",
    "    Off = np.mean(YY[Trigger:])\n",
    "    fitval = [XX[Arr],BF, miny,Off]\n",
    "    cut = 400*25\n",
    "    #cut2=cut-50\n",
    "    cut2=cut-100*25\n",
    "    if XX[Arr-cut2:Arr+cut].shape[0]!=0:\n",
    "        fitX = XX[Arr-cut2:Arr+cut]\n",
    "        fitY = YY[Arr-cut2:Arr+cut]\n",
    "    else:\n",
    "        fitX = XX[0:Arr+cut]\n",
    "        fitY = YY[0:Arr+cut]\n",
    "\n",
    "    #fitval = [XX[Arr],BF, miny,Off,120e-6]\n",
    "    #optim,eh = optimize.curve_fit(func,fitX,fitY,p0=fitval)\n",
    "    optim,eh = optimize.curve_fit(funcA,fitX,fitY,p0=fitval)\n",
    "\n",
    "    #chi = sum((func(fitX,*optim)- fitY)**2)\n",
    "    chi = sum((funcA(fitX,*optim)- fitY)**2)\n",
    "    return XX,YY,optim,chi,[Arr-cut2,Arr+cut]"
   ]
  },
  {
   "cell_type": "code",
   "execution_count": 8,
   "metadata": {
    "collapsed": true
   },
   "outputs": [],
   "source": [
    "def FITTER_GOLD(x,y):\n",
    "    XX = x\n",
    "    YY = y\n",
    "\n",
    "    TriggerTime = find_nearest(XX,0)\n",
    "    Trigger     = np.where(XX==TriggerTime)[0][0]\n",
    "    Trigger = int(Trigger)\n",
    "\n",
    "    xx = moving_average(XX,20)\n",
    "    yy = moving_average(YY,20)\n",
    "\n",
    "    xxx = xx[Trigger:]\n",
    "    yyy = yy[Trigger:]\n",
    "\n",
    "    miny = max(yyy)\n",
    "\n",
    "    hold      = find_nearest(yyy,miny)\n",
    "    MINLOC     = np.where(yyy==hold)[0][0]\n",
    "\n",
    "    TT = Trigger+MINLOC\n",
    "    TT = int(TT)\n",
    "\n",
    "    xxxx = xx[Trigger:TT]\n",
    "    yyyy = yy[Trigger:TT]\n",
    "\n",
    "    hold      = find_nearest(yyyy,miny*0.2)\n",
    "    REDGE     = np.where(yyyy==hold)[0][0]\n",
    "    TTT = Trigger+REDGE\n",
    "    Arr = TTT + int((TT-TTT)/2)\n",
    "\n",
    "    BF = (XX[TT]-XX[TTT])/2\n",
    "    Off = np.mean(YY[Trigger:])\n",
    "    fitval = [XX[Arr],BF, miny,Off,130e-6]\n",
    "    cut = 200*25\n",
    "    cut2=cut-100*25\n",
    "    fitX = XX[Arr-cut2:Arr+cut]\n",
    "    fitY = YY[Arr-cut2:Arr+cut]\n",
    "    \n",
    "\n",
    "    optim,eh = optimize.curve_fit(func,fitX,fitY,p0=fitval)\n",
    "\n",
    "    chi = sum((func(fitX,*optim)- fitY)**2)\n",
    "    return XX,YY,optim,chi,[Arr-cut2,Arr+cut]\n",
    "\n",
    "def FITTER_ANOD(x,y):# V2\n",
    "    XX = x\n",
    "    YY = y\n",
    "\n",
    "    TriggerTime = find_nearest(XX,0)\n",
    "    Trigger     = np.where(XX==TriggerTime)[0][0]\n",
    "    Trigger = int(Trigger)\n",
    "    XX = XX[Trigger:]\n",
    "    YY = YY[Trigger:]\n",
    "\n",
    "    xx = moving_average(XX,20)\n",
    "    yy = moving_average(YY,20)\n",
    "\n",
    "    \n",
    "\n",
    "    miny = min(yy[10000:])\n",
    "\n",
    "    hold      = find_nearest(yy,miny)\n",
    "    MINLOC     = np.where(yy==hold)[0][0]\n",
    "\n",
    "    TT = MINLOC\n",
    "    TT = int(TT)\n",
    "\n",
    "    xxxx = xx[:TT]\n",
    "    yyyy = yy[:TT]\n",
    "\n",
    "    hold      = find_nearest(yyyy,miny*0.2)\n",
    "    REDGE     = np.where(yyyy==hold)[0][0]\n",
    "    TTT = REDGE\n",
    "    Arr = TTT + int((TT-TTT)/2)\n",
    "\n",
    "    BF = (XX[TT]-XX[TTT])/2\n",
    "    Off = np.mean(YY[Trigger:])\n",
    "    fitval = [XX[Arr],BF, miny,Off,130e-6]\n",
    "    cut = 400*25\n",
    "    #cut2=cut-50\n",
    "    cut2=cut-100*25\n",
    "    #if XX[Arr-cut2:Arr+cut].shape[0]!=0:\n",
    "    #    fitX = XX[Arr-cut2:Arr+cut]\n",
    "    #    fitY = YY[Arr-cut2:Arr+cut]\n",
    "    #else:\n",
    "    #    fitX = XX[0:Arr+cut]\n",
    "    #    fitY = YY[0:Arr+cut]\n",
    "    fitX = XX#[Arr-cut2:Arr+cut]\n",
    "    fitY = YY#[Arr-cut2:Arr+cut]\n",
    "    #fitval = [XX[Arr],BF, miny,Off,120e-6]\n",
    "    #optim,eh = optimize.curve_fit(func,fitX,fitY,p0=fitval)\n",
    "    optim,eh = optimize.curve_fit(func,fitX,fitY,p0=fitval)\n",
    "\n",
    "    #chi = sum((func(fitX,*optim)- fitY)**2)\n",
    "    chi = sum((func(fitX,*optim)- fitY)**2)\n",
    "    return XX,YY,optim,chi,[Arr-cut2,Arr+cut]"
   ]
  },
  {
   "cell_type": "code",
   "execution_count": 9,
   "metadata": {
    "collapsed": true
   },
   "outputs": [],
   "source": [
    "def gaus(x,x0,sigma,a,c):\n",
    "    return a*np.exp(-(x-x0)**2/(2*sigma**2))+c"
   ]
  },
  {
   "cell_type": "code",
   "execution_count": null,
   "metadata": {
    "collapsed": true
   },
   "outputs": [],
   "source": []
  },
  {
   "cell_type": "code",
   "execution_count": 55,
   "metadata": {},
   "outputs": [
    {
     "data": {
      "text/plain": [
       "['/Users/austinmcdonald/Desktop/HeliumXenonV2/000/',\n",
       " '/Users/austinmcdonald/Desktop/HeliumXenonV2/080/',\n",
       " '/Users/austinmcdonald/Desktop/HeliumXenonV2/085/',\n",
       " '/Users/austinmcdonald/Desktop/HeliumXenonV2/090/',\n",
       " '/Users/austinmcdonald/Desktop/HeliumXenonV2/100/']"
      ]
     },
     "execution_count": 55,
     "metadata": {},
     "output_type": "execute_result"
    }
   ],
   "source": [
    "PATH = '/Users/austinmcdonald/Desktop/HeliumXenonV2/'\n",
    "#PATH = '/Users/austinmcdonald/Desktop/XeAr/Data/'\n",
    "\n",
    "folders = glob.glob(PATH+\"*/\")\n",
    "folders.sort()\n",
    "#folders = [folders[1]]\n",
    "#folders = [folders[1]]\n",
    "folders"
   ]
  },
  {
   "cell_type": "code",
   "execution_count": 52,
   "metadata": {},
   "outputs": [
    {
     "name": "stdout",
     "output_type": "stream",
     "text": [
      "Xe-080_P-01_E-050.txt\n",
      "Xe-080_P-01_E-100.txt\n",
      "Xe-080_P-01_E-150.txt\n",
      "Xe-080_P-01_E-200.txt\n",
      "Xe-080_P-01_E-250.txt\n",
      "Xe-080_P-01_E-300.txt\n"
     ]
    }
   ],
   "source": [
    "\n",
    "# arrival, sigma, max, RC\n",
    "DATA = []\n",
    "for F in range(0,len(folders)):\n",
    "   \n",
    "    files = os.listdir(folders[F])\n",
    "    if '.DS_Store' in files: files.remove('.DS_Store')\n",
    "    info = np.loadtxt(folders[F]+'Run-info.txt')\n",
    "    files.remove('Run-info.txt')\n",
    "    files.sort()\n",
    "    N = 0\n",
    "    for fi in files:\n",
    "        \n",
    "        print(fi)\n",
    "        Data = np.loadtxt(folders[F]+fi)\n",
    "        if np.mean(np.nan_to_num(Data[0]))!=0 and np.mean(np.nan_to_num(Data[1]))!=0:\n",
    "            xa,ya,opta,chia,cuta = FITTER_ANOD(Data[0],Data[2])\n",
    "            xg,yg,optg,chig,cutg = FITTER_GOLD(Data[0],Data[1])\n",
    "            \n",
    "            EE =int(fi.split('.')[0].split('-')[-1])\n",
    "            PP = int(fi.split('.')[0].split('-')[2].split('_')[0])\n",
    "            ident = None\n",
    "            if PP==1:\n",
    "                PP = info[0]\n",
    "                MarkH.append('<')\n",
    "                ident = '^'\n",
    "            elif PP==3:\n",
    "                PP = info[1]\n",
    "                MarkH.append('D')\n",
    "                ident = 'D'\n",
    "            elif PP==6:\n",
    "                PP = info[2]\n",
    "                MarkH.append('s')\n",
    "                ident = 'S'\n",
    "            elif PP==9:\n",
    "                PP = info[3]\n",
    "                MarkH.append('o')\n",
    "                ident = 'O'\n",
    "            elif PP==11 or PP==10:\n",
    "                PP = info[4]\n",
    "                MarkH.append('^')\n",
    "                ident = '<'\n",
    "                \n",
    "            Prct = folders[F].split('/')[-2]\n",
    "            dt = opta[0]-optg[0]\n",
    "            sigma = opta[1]\n",
    "            #INFO = [Prct, EE, PP, dt, sigma, ident, opta, optg]\n",
    "            INFO = np.array([Prct, EE, PP, dt, sigma, ident])\n",
    "            \n",
    "            DATA.append(INFO)\n",
    "DATA = np.array(DATA)\n",
    "#np.save('XenonHelium.npy',DATA)"
   ]
  },
  {
   "cell_type": "code",
   "execution_count": 59,
   "metadata": {},
   "outputs": [
    {
     "data": {
      "text/plain": [
       "['/Users/austinmcdonald/Desktop/HeliumXenon/100/']"
      ]
     },
     "execution_count": 59,
     "metadata": {},
     "output_type": "execute_result"
    }
   ],
   "source": [
    "PATH = '/Users/austinmcdonald/Desktop/HeliumXenon/'\n",
    "#PATH = '/Users/austinmcdonald/Desktop/XeAr/Data/'\n",
    "\n",
    "folders = glob.glob(PATH+\"*/\")\n",
    "folders.sort()\n",
    "#folders = [folders[1]]\n",
    "folders = [folders[2]]\n",
    "folders"
   ]
  },
  {
   "cell_type": "code",
   "execution_count": 60,
   "metadata": {
    "scrolled": false
   },
   "outputs": [
    {
     "name": "stdout",
     "output_type": "stream",
     "text": [
      "Xe-100_P-01_E-080.txt\n",
      "Xe-100_P-01_E-100.txt\n",
      "Xe-100_P-01_E-150.txt\n",
      "Xe-100_P-01_E-200.txt\n",
      "Xe-100_P-01_E-250.txt\n",
      "Xe-100_P-01_E-300.txt\n",
      "Xe-100_P-03_E-080.txt\n",
      "Xe-100_P-03_E-100.txt\n",
      "Xe-100_P-03_E-150.txt\n",
      "Xe-100_P-03_E-200.txt\n",
      "Xe-100_P-03_E-250.txt\n",
      "Xe-100_P-03_E-300.txt\n",
      "Xe-100_P-06_E-080.txt\n",
      "Xe-100_P-06_E-100.txt\n",
      "Xe-100_P-06_E-150.txt\n",
      "Xe-100_P-06_E-200.txt\n",
      "Xe-100_P-06_E-250.txt\n",
      "Xe-100_P-06_E-300.txt\n",
      "Xe-100_P-09_E-080.txt\n",
      "Xe-100_P-09_E-100.txt\n",
      "Xe-100_P-09_E-150.txt\n",
      "Xe-100_P-09_E-200.txt\n",
      "Xe-100_P-09_E-250.txt\n",
      "Xe-100_P-09_E-300.txt\n"
     ]
    }
   ],
   "source": [
    "# arrival, sigma, max, RC\n",
    "GOLDD = dict()\n",
    "ANODE = dict()\n",
    "REDU  = dict()\n",
    "PRE   = dict()\n",
    "EFID  = dict()\n",
    "PERCT = dict()\n",
    "MARKER= dict()\n",
    "CHIa = []\n",
    "CHIg = []\n",
    "for F in range(0,len(folders)):\n",
    "    GOLDDH = []\n",
    "    ANODEH = []\n",
    "    REDUH  = []\n",
    "    PREH   = []\n",
    "    EFIDH  = []\n",
    "    MarkH  = []\n",
    "    files = os.listdir(folders[F])\n",
    "    if '.DS_Store' in files: files.remove('.DS_Store')\n",
    "    info = np.loadtxt(folders[F]+'Run-info.txt')\n",
    "    files.remove('Run-info.txt')\n",
    "    files.sort()\n",
    "    N = 0\n",
    "    for fi in files:\n",
    "        \n",
    "        print(fi)\n",
    "        Data = np.loadtxt(folders[F]+fi)\n",
    "        if np.mean(np.nan_to_num(Data[0]))!=0 and np.mean(np.nan_to_num(Data[1]))!=0:\n",
    "            xa,ya,opta,chia,cuta = FITTER_ANOD(Data[0],Data[2])\n",
    "            xg,yg,optg,chig,cutg = FITTER_GOLD(Data[0],Data[1])\n",
    "            CHIa.append(chia)\n",
    "            CHIg.append(chig)\n",
    "            EE =int(fi.split('.')[0].split('-')[-1])\n",
    "            PP = int(fi.split('.')[0].split('-')[2].split('_')[0])\n",
    "            \n",
    "            '''print(opta)\n",
    "            #plt.plot(xa[cuta[0]:cuta[1]],ya[cuta[0]:cuta[1]])\n",
    "            plt.plot(xa,ya)\n",
    "            plt.plot(xa[cuta[0]:cuta[1]],ya[cuta[0]:cuta[1]],color='r')\n",
    "            plt.plot(xa,func(xa,*opta))\n",
    "            #plt.xlim(0,0.0008)\n",
    "            plt.show()\n",
    "            \n",
    "            #plt.plot(xg[cutg[0]:cutg[1]],yg[cutg[0]:cutg[1]])\n",
    "            plt.plot(xg,yg)\n",
    "            plt.plot(xg[cutg[0]:cutg[1]],yg[cutg[0]:cutg[1]],color='r')\n",
    "            plt.plot(xg,func(xg,*optg))\n",
    "            plt.xlim(0,0.0002)\n",
    "            #plt.xlim(0.00004,0.00005)\n",
    "            plt.show()'''\n",
    "            if PP==1:\n",
    "                PP = info[0]\n",
    "                MarkH.append('<')\n",
    "            elif PP==3:\n",
    "                PP = info[1]\n",
    "                MarkH.append('D')\n",
    "            elif PP==6:\n",
    "                PP = info[2]\n",
    "                MarkH.append('s')\n",
    "            elif PP==9:\n",
    "                PP = info[3]\n",
    "                MarkH.append('o')\n",
    "            elif PP==11 or PP==10:\n",
    "                PP = info[4]\n",
    "                MarkH.append('^')\n",
    "            PREH.append(PP)\n",
    "            REDUH.append(EE/PP)\n",
    "            ANODEH.append(opta)\n",
    "            GOLDDH.append(optg)\n",
    "            EFIDH.append(EE)\n",
    "    MARKER[F] = np.array(MarkH)  \n",
    "    GOLDD[F] = np.array(GOLDDH)\n",
    "    ANODE[F] = np.array(ANODEH)\n",
    "    REDU[F]  = np.array(REDUH)\n",
    "    PRE[F]   = np.array(PREH)\n",
    "    EFID[F]   = np.array(EFIDH)\n",
    "    Prct = folders[F].split('/')[-2]\n",
    "    PERCT[F] = Prct\n",
    "#def funcA(t,t0,sig,a,c):"
   ]
  },
  {
   "cell_type": "code",
   "execution_count": 61,
   "metadata": {},
   "outputs": [
    {
     "data": {
      "text/plain": [
       "array([1.04, 1.04, 1.04, 1.04, 1.04, 1.04, 3.03, 3.03, 3.03, 3.03, 3.03,\n",
       "       3.03, 6.05, 6.05, 6.05, 6.05, 6.05, 6.05, 9.01, 9.01, 9.01, 9.01,\n",
       "       9.01, 9.01])"
      ]
     },
     "execution_count": 61,
     "metadata": {},
     "output_type": "execute_result"
    }
   ],
   "source": [
    "PRE[0]"
   ]
  },
  {
   "cell_type": "code",
   "execution_count": 62,
   "metadata": {},
   "outputs": [
    {
     "data": {
      "text/plain": [
       "array(['<', '<', '<', '<', '<', '<', 'D', 'D', 'D', 'D', 'D', 'D', 's',\n",
       "       's', 's', 's', 's', 's', 'o', 'o', 'o', 'o', 'o', 'o'], dtype='<U1')"
      ]
     },
     "execution_count": 62,
     "metadata": {},
     "output_type": "execute_result"
    }
   ],
   "source": [
    "MARKER[0]"
   ]
  },
  {
   "cell_type": "code",
   "execution_count": 63,
   "metadata": {},
   "outputs": [
    {
     "data": {
      "text/plain": [
       "array([   9.77756793,    7.80315606,    5.57378189,    4.43132058,\n",
       "          3.54384522,    3.04054893, 1995.90097784,    8.92251215,\n",
       "          5.67124514,    4.34899067,    3.73954359,    3.13537667,\n",
       "         88.06626434,   29.9057286 ,    7.82818563,    4.99121679,\n",
       "          3.98538208,    3.41466948,  517.62286339,  178.92515053,\n",
       "         20.9943737 ,    7.1529629 ,    4.61038375,    3.48001453])"
      ]
     },
     "execution_count": 63,
     "metadata": {},
     "output_type": "execute_result"
    }
   ],
   "source": [
    "(ANODE[0][:,1]*1e6)**2"
   ]
  },
  {
   "cell_type": "code",
   "execution_count": 64,
   "metadata": {},
   "outputs": [
    {
     "data": {
      "text/plain": [
       "array([2.36618225, 2.53566553, 2.44991866, 2.4259027 , 2.41999935,\n",
       "       2.34250446, 3.3401266 , 3.42559826, 3.24687098, 3.54179101,\n",
       "       3.02503965, 5.11872922, 4.25262651, 4.55475387, 4.34863251,\n",
       "       4.82380018, 4.84981116, 4.66156659, 5.31007425, 5.38219587,\n",
       "       5.9389402 , 5.55027941, 4.65990248, 4.72536697])"
      ]
     },
     "execution_count": 64,
     "metadata": {},
     "output_type": "execute_result"
    }
   ],
   "source": [
    "(GOLDD[0][:,1]*1e6)**2"
   ]
  },
  {
   "cell_type": "code",
   "execution_count": null,
   "metadata": {
    "collapsed": true
   },
   "outputs": [],
   "source": []
  },
  {
   "cell_type": "code",
   "execution_count": null,
   "metadata": {
    "collapsed": true
   },
   "outputs": [],
   "source": []
  },
  {
   "cell_type": "code",
   "execution_count": null,
   "metadata": {
    "collapsed": true
   },
   "outputs": [],
   "source": []
  },
  {
   "cell_type": "code",
   "execution_count": null,
   "metadata": {
    "collapsed": true
   },
   "outputs": [],
   "source": []
  },
  {
   "cell_type": "code",
   "execution_count": 66,
   "metadata": {
    "collapsed": true
   },
   "outputs": [],
   "source": [
    "COL =['b','g','r','m','y','c','k','lime','orange','steelblue','pink','blue']\n",
    "from collections import OrderedDict\n",
    "import matplotlib.patches as mpatches\n"
   ]
  },
  {
   "cell_type": "code",
   "execution_count": null,
   "metadata": {
    "collapsed": true
   },
   "outputs": [],
   "source": []
  },
  {
   "cell_type": "code",
   "execution_count": 67,
   "metadata": {},
   "outputs": [
    {
     "name": "stdout",
     "output_type": "stream",
     "text": [
      "19\n",
      "19\n"
     ]
    }
   ],
   "source": [
    "nextDX = np.array([22.9,25.9,26.2,28.0,28.3,28.4,29.9,33.2,34.0,37.9,38.0,38.3,42.0,43.4,44.4,47.5,48.6,53.7,57.0])\n",
    "nextDY = np.array([1357.3, 1213.3, 1167.4, 1161.1, 1320.9, 1195.9, 1105.7, 1058.2, 1034.5, 979.1, 1129.4,\n",
    "          988.6, 941.1, 939.6, 958.5, 1028.2, 901.6, 869.9, 903.2])\n",
    "print(len(nextDX))\n",
    "print(len(nextDY))"
   ]
  },
  {
   "cell_type": "code",
   "execution_count": null,
   "metadata": {
    "collapsed": true
   },
   "outputs": [],
   "source": []
  },
  {
   "cell_type": "code",
   "execution_count": null,
   "metadata": {
    "collapsed": true
   },
   "outputs": [],
   "source": []
  },
  {
   "cell_type": "code",
   "execution_count": 68,
   "metadata": {
    "collapsed": true
   },
   "outputs": [],
   "source": [
    "r = mpatches.Patch(color='r',    label='0%Xe',alpha=0.6)\n",
    "k = mpatches.Patch(color='k',    label='100%Xe',alpha=0.6)\n",
    "b = mpatches.Patch(color='b',    label='100%Xe',alpha=0.6)"
   ]
  },
  {
   "cell_type": "code",
   "execution_count": 69,
   "metadata": {},
   "outputs": [
    {
     "data": {
      "text/plain": [
       "array([1.04, 1.04, 1.04, 1.04, 1.04, 1.04, 3.03, 3.03, 3.03, 3.03, 3.03,\n",
       "       3.03, 6.05, 6.05, 6.05, 6.05, 6.05, 6.05, 9.01, 9.01, 9.01, 9.01,\n",
       "       9.01, 9.01])"
      ]
     },
     "execution_count": 69,
     "metadata": {},
     "output_type": "execute_result"
    }
   ],
   "source": [
    "PRE[0]"
   ]
  },
  {
   "cell_type": "code",
   "execution_count": 77,
   "metadata": {
    "scrolled": false
   },
   "outputs": [
    {
     "data": {
      "text/plain": [
       "<Figure size 576x576 with 0 Axes>"
      ]
     },
     "metadata": {},
     "output_type": "display_data"
    },
    {
     "data": {
      "image/png": "[encoded data removed]",
      "text/plain": [
       "<Figure size 1080x648 with 1 Axes>"
      ]
     },
     "metadata": {
      "needs_background": "light"
     },
     "output_type": "display_data"
    }
   ],
   "source": [
    "plt.figure(figsize=(8,8))\n",
    "plt.figure(figsize=(15,9))\n",
    "\n",
    "#for q in range(0,len(GOLDD)):\n",
    "#for q in range(0,7):\n",
    "#for q in [0,1,2]:\n",
    "for q in [0]:\n",
    "\n",
    "    Dt = (ANODE[q][:,0] - GOLDD[q][:,0])*1e6\n",
    "\n",
    "    d = 15.12\n",
    "    d = 13.48\n",
    "    #d = 13.48+.16+.398\n",
    "\n",
    "    sigma = (ANODE[q][:,1]*1e6)**2\n",
    "    V = d/Dt\n",
    "    Dslash = sigma*V**3/(2*d)*1e6*PRE[q]\n",
    "    Dstar  = np.sqrt(2*Dslash/V)\n",
    "    \n",
    "    lab = PERCT[q]+'%Xe'\n",
    "    color = COL[q]\n",
    "    LABB = np.rint(PRE[q]).astype(str)\n",
    "\n",
    "    Err = np.sqrt((0.1/sigma)**2+(0.5/Dt)**2+(0.1/d)**2)\n",
    "    X = REDU[q]\n",
    "    Y = Dslash\n",
    "    mark = MARKER[q]\n",
    "    for x, y, m ,L in zip(X, Y, mark, LABB):\n",
    "        plt.scatter(x, y, alpha=0.6,marker=m,color=color,s=60,label=L+' bar') \n",
    "        \n",
    "    #plt.errorbar(X,Y,xerr=0,yerr=Y*Err,ecolor='k',color='k',fmt='o', capthick=1)\n",
    "#plt.scatter(nextDX,nextDY,color='lime')\n",
    "#plt.errorbar(nextDX,nextDY,xerr=0,yerr=80,ecolor='lime',color='lime',fmt='D', capthick=1,label='NEXT data')\n",
    "\n",
    "handles, labels = plt.gca().get_legend_handles_labels()\n",
    "by_label = OrderedDict(zip(labels, handles))\n",
    "legend2=plt.legend(by_label.values(), by_label.keys(),loc='upper right',ncol=3,fontsize=13)\n",
    "\n",
    "legend1=plt.legend(handles=[b],loc='center right',ncol=5,fontsize=13)\n",
    "plt.gca().add_artist(legend1)\n",
    "plt.gca().add_artist(legend2)\n",
    "\n",
    "\n",
    "#plt.ylim(600,1600)\n",
    "#plt.semilogx()\n",
    "plt.ylim(0,3000)\n",
    "plt.xlim(0,300)\n",
    "#plt.legend(loc='upper right',fontsize=14,ncol=3)\n",
    "plt.xticks(fontsize=24)\n",
    "plt.yticks(fontsize=24)\n",
    "plt.grid()\n",
    "plt.xlabel(\"Reduced field V/cm/bar\",fontsize=20)\n",
    "plt.ylabel(r\" Dl   (bar cm$^2$ / s )\",fontsize=20)\n",
    "#plt.ylabel(r\" $Dl^*$    ($\\sqrt{bar} cm / \\sqrt{cm}$)\",fontsize=20)\n",
    "plt.tight_layout()\n",
    "#plt.savefig(\"/Users/austinmcdonald/Desktop/DslashSTARBAR\"+\".png\")\n",
    "plt.show()"
   ]
  },
  {
   "cell_type": "code",
   "execution_count": 19,
   "metadata": {},
   "outputs": [
    {
     "data": {
      "text/plain": [
       "array([ 76.92307692,  96.15384615, 144.23076923, 192.30769231,\n",
       "       240.38461538, 288.46153846,  26.40264026,  33.00330033,\n",
       "        49.5049505 ,  66.00660066,  82.50825083,  99.00990099,\n",
       "        13.2231405 ,  16.52892562,  24.79338843,  33.05785124,\n",
       "        41.32231405,  49.58677686,   8.87902331,  11.09877913,\n",
       "        16.6481687 ,  22.19755827,  27.74694784,  33.2963374 ])"
      ]
     },
     "execution_count": 19,
     "metadata": {},
     "output_type": "execute_result"
    }
   ],
   "source": [
    "X"
   ]
  },
  {
   "cell_type": "code",
   "execution_count": 20,
   "metadata": {},
   "outputs": [
    {
     "data": {
      "text/plain": [
       "array([ 76.92307692,  96.15384615, 144.23076923, 192.30769231,\n",
       "       240.38461538, 288.46153846,  26.40264026,  33.00330033,\n",
       "        49.5049505 ,  66.00660066,  82.50825083,  99.00990099,\n",
       "        13.2231405 ,  16.52892562,  24.79338843,  33.05785124,\n",
       "        41.32231405,  49.58677686,   8.87902331,  11.09877913,\n",
       "        16.6481687 ,  22.19755827,  27.74694784,  33.2963374 ])"
      ]
     },
     "execution_count": 20,
     "metadata": {},
     "output_type": "execute_result"
    }
   ],
   "source": [
    "REDU[0]"
   ]
  },
  {
   "cell_type": "code",
   "execution_count": 80,
   "metadata": {},
   "outputs": [
    {
     "data": {
      "image/png": "[encoded data removed]",
      "text/plain": [
       "<Figure size 576x576 with 1 Axes>"
      ]
     },
     "metadata": {
      "needs_background": "light"
     },
     "output_type": "display_data"
    }
   ],
   "source": [
    "plt.figure(figsize=(8,8))\n",
    "#for q in range(0,len(GOLDD)):\n",
    "#for q in range(0,7):\n",
    "#for q in [0,1,2]:\n",
    "for q in [0]:\n",
    "\n",
    "    Dt = (ANODE[q][:,0] - GOLDD[q][:,0])*1e6\n",
    "    #Dt = (ANODE[q][:,0] )*1e6\n",
    "    d = 15.12\n",
    "    d = 13.48\n",
    "    \n",
    "    sigma = (ANODE[q][:,1]*1e6)**2\n",
    "    V = d/Dt\n",
    "    Dslash = sigma*V**3/(2*d)*1e6*PRE[q]\n",
    "    Dstar  = np.sqrt(2*Dslash/V)#*np.sqrt(PRE[q])\n",
    "    \n",
    "    lab = PERCT[q]+'%Xe'\n",
    "    color = COL[q]\n",
    "    ABB = np.rint(PRE[q]).astype(str)\n",
    "    \n",
    "    Err = np.sqrt((0.1/sigma)**2+(0.5/Dt)**2+(0.1/d)**2)\n",
    "    X = REDU[q]\n",
    "    Y = Dstar*10\n",
    "    mark = MARKER[q]\n",
    "    for x, y, m ,L in zip(X, Y, mark, LABB):\n",
    "        plt.scatter(x, y, alpha=0.6,marker=m,color=color,s=60,label=L+' bar') \n",
    "        \n",
    "    #plt.errorbar(X,Y,xerr=0,yerr=Y*Err,ecolor='k',color='k',fmt='o', capthick=1)\n",
    "plt.scatter(nextDX,nextDY,color='lime')\n",
    "#plt.errorbar(nextDX,nextDY,xerr=0,yerr=80,ecolor='lime',color='lime',fmt='D', capthick=1,label='NEXT data')\n",
    "\n",
    "handles, labels = plt.gca().get_legend_handles_labels()\n",
    "by_label = OrderedDict(zip(labels, handles))\n",
    "legend2=plt.legend(by_label.values(), by_label.keys(),loc='upper right',ncol=3,fontsize=13)\n",
    "\n",
    "legend1=plt.legend(handles=[b],loc='center right',ncol=5,fontsize=13)\n",
    "plt.gca().add_artist(legend1)\n",
    "plt.gca().add_artist(legend2)\n",
    "\n",
    "\n",
    "#plt.ylim(0,1000)\n",
    "#plt.xlim(0,200)\n",
    "#plt.xlim(0,400)\n",
    "#plt.axhline(500)\n",
    "plt.ylim(400,5000)\n",
    "#plt.ylim(400,1200)\n",
    "\n",
    "#plt.semilogx()\n",
    "plt.xlim(0,300)\n",
    "#plt.legend(loc='upper right',fontsize=14,ncol=3)\n",
    "plt.xticks(fontsize=24)\n",
    "plt.yticks(fontsize=24)\n",
    "plt.grid()\n",
    "\n",
    "plt.xlabel(\"Reduced field V/cm/bar\",fontsize=20)\n",
    "plt.ylabel(r\" D$^*_L$ ($\\sqrt{bar}$ $\\mu m$ / $\\sqrt{cm}$ )\",fontsize=20)\n",
    "#plt.ylabel(r\" $Dl^*$    ($\\sqrt{bar} cm / \\sqrt{cm}$)\",fontsize=20)\n",
    "plt.tight_layout()\n",
    "#plt.savefig(\"/Users/austinmcdonald/Desktop/DslashSTARBAR\"+\".png\")\n",
    "plt.show()"
   ]
  },
  {
   "cell_type": "code",
   "execution_count": null,
   "metadata": {
    "collapsed": true
   },
   "outputs": [],
   "source": []
  },
  {
   "cell_type": "code",
   "execution_count": 22,
   "metadata": {},
   "outputs": [
    {
     "data": {
      "text/plain": [
       "array([138.91705559, 134.58955292, 125.70734785, 119.26979942,\n",
       "       114.23716626, 110.09226618,  54.40152092, 164.19446516,\n",
       "       152.86099384, 145.35876265, 139.29258299, 133.74135538,\n",
       "       276.86680034, 214.63799014, 175.97647079, 164.71460541,\n",
       "       158.30240469, 153.69289836, 637.28140986, 389.44438384,\n",
       "       214.47497901, 181.92727465, 170.22338902, 164.0337981 ])"
      ]
     },
     "execution_count": 22,
     "metadata": {},
     "output_type": "execute_result"
    }
   ],
   "source": [
    "(ANODE[q][:,0])*1e6-GOLDD[q][:,0]*1e6"
   ]
  },
  {
   "cell_type": "code",
   "execution_count": 23,
   "metadata": {},
   "outputs": [
    {
     "data": {
      "text/plain": [
       "array([ 8.45507424,  8.60639465,  8.65197137,  8.69389165,  8.71882978,\n",
       "        8.70701243,  9.53333294,  9.5059808 ,  9.3492612 ,  9.34954681,\n",
       "        9.14756344,  8.95404708,  9.50418777,  9.63974283,  9.47775299,\n",
       "        9.73658313,  9.78166655,  9.68709508, 10.05985586, 10.11881735,\n",
       "       10.21062844,  9.99175007, 10.06842384,  9.73905944])"
      ]
     },
     "execution_count": 23,
     "metadata": {},
     "output_type": "execute_result"
    }
   ],
   "source": [
    "GOLDD[q][:,0]*1e6"
   ]
  },
  {
   "cell_type": "code",
   "execution_count": 72,
   "metadata": {
    "scrolled": false
   },
   "outputs": [
    {
     "data": {
      "image/png": "[encoded data removed]",
      "text/plain": [
       "<Figure size 576x576 with 1 Axes>"
      ]
     },
     "metadata": {
      "needs_background": "light"
     },
     "output_type": "display_data"
    }
   ],
   "source": [
    "plt.figure(figsize=(8,8))\n",
    "#for q in range(0,len(GOLDD)):\n",
    "#for q in range(0,7):\n",
    "for q in [0]:\n",
    "\n",
    "    Dt = (ANODE[q][:,0] - GOLDD[q][:,0])*1e6\n",
    "    #Dt = (ANODE[q][:,0])*1e6\n",
    "    d = 15.12\n",
    "    d = 13.48+.16+.398\n",
    "    d=13.48\n",
    "    #sigma = ((((ANODE[q][:,1]*1e6))**2)-28.7) #- (((GOLDD[q][:,1]*1e6))**2-2.58)\n",
    "    V = d/Dt\n",
    "    lab = PERCT[q]+'%Xe'\n",
    "    color = COL[q]\n",
    "    \n",
    "    #plt.scatter(REDU[q]*1.06-8,Dslash,label=lab,s=40,color='r',alpha=0.6)\n",
    "    #RR = ((3125*.16+EFID[q]*13.48)/d)/PRE[q]\n",
    "    #plt.scatter(RR,V*10,label=lab,s=4,color='b',alpha=0.6)\n",
    "    #mark = Mark(REDU[q],PRE[q])\n",
    "    X = REDU[q]\n",
    "    Y = (V*10)\n",
    "    mark = MARKER[q]\n",
    "    plt.scatter(X, Y, alpha=0.6,marker=m,color=color,s=60,label=lab)\n",
    "    #for x, y, m in zip(X, Y, mark):\n",
    "    #    plt.scatter(x, y, alpha=0.6,marker=m,color=color,s=60) \n",
    "\n",
    "#plt.scatter(nextDX,nextDY,color='lime')\n",
    "#plt.errorbar(nextDX,nextDY,xerr=0,yerr=80,ecolor='lime',color='lime',fmt='D', capthick=1,label='NEXT data')\n",
    "\n",
    "\n",
    "#plt.ylim(0,1000)\n",
    "#plt.xlim(0,200)\n",
    "#plt.xlim(0,400)\n",
    "#plt.axhline(500)\n",
    "#plt.ylim(0,2)\n",
    "plt.ylim(0,5.8)\n",
    "#plt.ylim(0,2)\n",
    "#plt.semilogx()\n",
    "plt.xlim(0,330)#\n",
    "plt.legend(loc='upper right',fontsize=14,ncol=3)\n",
    "plt.xticks(fontsize=24)\n",
    "plt.yticks(fontsize=24)\n",
    "plt.grid()\n",
    "plt.axhline(3.1)\n",
    "plt.xlabel(\"Reduced field\",fontsize=20)\n",
    "#plt.ylabel(r\" Dl   ($\\sqrt{bar} \\mu m / \\sqrt{cm}$)\",fontsize=20)\n",
    "#plt.ylabel(r\" $Dl^*$    ($\\sqrt{bar} cm / \\sqrt{cm}$)\",fontsize=20)\n",
    "plt.tight_layout()\n",
    "#plt.savefig(\"/Users/austinmcdonald/Desktop/DslashSTARBAR\"+\".png\")\n",
    "plt.show()"
   ]
  },
  {
   "cell_type": "code",
   "execution_count": 73,
   "metadata": {},
   "outputs": [
    {
     "data": {
      "text/plain": [
       "array([0.97036321, 1.00156362, 1.07233191, 1.13021067, 1.18000126,\n",
       "       1.22442752, 2.4778719 , 0.82097773, 0.88184694, 0.92736067,\n",
       "       0.96774715, 1.00791561, 0.48687672, 0.62803421, 0.7660115 ,\n",
       "       0.81838523, 0.85153476, 0.87707371, 0.21152351, 0.34613415,\n",
       "       0.62851154, 0.74095542, 0.79190058, 0.82178186])"
      ]
     },
     "execution_count": 73,
     "metadata": {},
     "output_type": "execute_result"
    }
   ],
   "source": [
    "(V*10)"
   ]
  },
  {
   "cell_type": "code",
   "execution_count": 74,
   "metadata": {},
   "outputs": [
    {
     "data": {
      "text/plain": [
       "array([ 76.92307692,  96.15384615, 144.23076923, 192.30769231,\n",
       "       240.38461538, 288.46153846,  26.40264026,  33.00330033,\n",
       "        49.5049505 ,  66.00660066,  82.50825083,  99.00990099,\n",
       "        13.2231405 ,  16.52892562,  24.79338843,  33.05785124,\n",
       "        41.32231405,  49.58677686,   8.87902331,  11.09877913,\n",
       "        16.6481687 ,  22.19755827,  27.74694784,  33.2963374 ])"
      ]
     },
     "execution_count": 74,
     "metadata": {},
     "output_type": "execute_result"
    }
   ],
   "source": [
    "REDU[0]"
   ]
  },
  {
   "cell_type": "code",
   "execution_count": null,
   "metadata": {
    "collapsed": true
   },
   "outputs": [],
   "source": [
    "PRE[q]"
   ]
  },
  {
   "cell_type": "code",
   "execution_count": null,
   "metadata": {
    "collapsed": true
   },
   "outputs": [],
   "source": [
    "Dt"
   ]
  },
  {
   "cell_type": "code",
   "execution_count": null,
   "metadata": {
    "collapsed": true
   },
   "outputs": [],
   "source": [
    "ANODE[q][:,1]*1e6"
   ]
  },
  {
   "cell_type": "code",
   "execution_count": null,
   "metadata": {
    "collapsed": true
   },
   "outputs": [],
   "source": [
    "GOLDD[q][:,1]*1e6"
   ]
  },
  {
   "cell_type": "code",
   "execution_count": null,
   "metadata": {
    "collapsed": true
   },
   "outputs": [],
   "source": [
    "plt.figure(figsize=(8,8))\n",
    "#for q in range(0,len(GOLDD)):\n",
    "#for q in range(0,7):\n",
    "for q in [0]:\n",
    "\n",
    "    Dt = (ANODE[q][:,0] - GOLDD[q][:,0])*1e6\n",
    "\n",
    "    d = 15.12\n",
    "    d = 13.48\n",
    "    #sigma = ((((ANODE[q][:,1]*1e6))**2)-28.7) #- (((GOLDD[q][:,1]*1e6))**2-2.58)\n",
    "    sigma = ((((ANODE[q][:,1]*1e6))**2)) - (((GOLDD[q][:,1]*1e6))**2)\n",
    "    V = d/Dt\n",
    "    Dslash = sigma*V**3/(2*d)*PRE[q]*1e6\n",
    "    Dstar  = np.sqrt(2*Dslash/V)*np.sqrt(PRE[q])\n",
    "    \n",
    "    lab = PERCT[q]+'%Xe'\n",
    "    color = COL[q]\n",
    "    \n",
    "    \n",
    "    RR = ((500+EFID[q]*d)/13.64)/PRE[q]\n",
    "    plt.scatter(RR,Dt,label=lab,s=30,color='b',alpha=0.6)\n",
    "    \n",
    "    X = RR\n",
    "    Y = Dt\n",
    "    mark = MARKER[q]\n",
    "    for x, y, m in zip(X, Y, mark):\n",
    "        plt.scatter(x, y, alpha=0.6,marker=m,color=color,s=60)\n",
    "    \n",
    "#plt.ylim(0,1600)\n",
    "#plt.xlim(0,300)\n",
    "plt.legend(loc='upper right',fontsize=14,ncol=3)\n",
    "plt.xticks(fontsize=24)\n",
    "plt.yticks(fontsize=24)\n",
    "plt.grid()\n",
    "\n",
    "plt.xlabel(\"Reduced field\",fontsize=20)\n",
    "#plt.ylabel(r\" Dl   ($\\sqrt{bar} \\mu m / \\sqrt{cm}$)\",fontsize=20)\n",
    "#plt.ylabel(r\" $Dl^*$    ($\\sqrt{bar} cm / \\sqrt{cm}$)\",fontsize=20)\n",
    "plt.tight_layout()\n",
    "#plt.savefig(\"/Users/austinmcdonald/Desktop/DslashSTARBAR\"+\".png\")\n",
    "plt.show()"
   ]
  },
  {
   "cell_type": "code",
   "execution_count": null,
   "metadata": {
    "collapsed": true
   },
   "outputs": [],
   "source": []
  },
  {
   "cell_type": "code",
   "execution_count": null,
   "metadata": {
    "collapsed": true
   },
   "outputs": [],
   "source": []
  },
  {
   "cell_type": "code",
   "execution_count": null,
   "metadata": {
    "collapsed": true
   },
   "outputs": [],
   "source": [
    "plt.figure(figsize=(8,8))\n",
    "#for q in range(0,len(GOLDD)):\n",
    "#for q in range(0,7):\n",
    "for q in [0]:\n",
    "\n",
    "    Dt = (ANODE[q][:,0] - GOLDD[q][:,0])*1e6\n",
    "\n",
    "    d = 15.12\n",
    "    d = 13.48\n",
    "    #sigma = ((((ANODE[q][:,1]*1e6))**2)-28.7) #- (((GOLDD[q][:,1]*1e6))**2-2.58)\n",
    "    sigma = ((((ANODE[q][:,1]*1e6))**2))# - (((GOLDD[q][:,1]*1e6))**2)\n",
    "    V = d/Dt\n",
    "    Dslash = sigma*V**3/(2*d)*PRE[q]*1e6\n",
    "    Dstar  = np.sqrt(2*Dslash/V)*np.sqrt(PRE[q])\n",
    "    \n",
    "    lab = PERCT[q]+'%Xe'\n",
    "    color = COL[q]\n",
    "    \n",
    "    \n",
    "    RR = ((500+EFID[q]*d)/13.64)/PRE[q]\n",
    "\n",
    "    plt.scatter(REDU[q],sigma*(PRE[q]),label=lab,s=30,color='b',alpha=0.6)\n",
    "    plt.scatter(RR,sigma*(PRE[q]),label=lab,s=30,color='r',alpha=0.6)\n",
    "\n",
    "    '''X = RR\n",
    "    Y = Dt\n",
    "    mark = MARKER[q]\n",
    "    for x, y, m in zip(X, Y, mark):\n",
    "        plt.scatter(x, y, alpha=0.6,marker=m,color=color,s=60)'''\n",
    "    \n",
    "#plt.ylim(0,1600)\n",
    "#plt.xlim(0,300)\n",
    "plt.legend(loc='upper right',fontsize=14,ncol=3)\n",
    "plt.xticks(fontsize=24)\n",
    "plt.yticks(fontsize=24)\n",
    "plt.grid()\n",
    "\n",
    "plt.xlabel(\"Reduced field\",fontsize=20)\n",
    "#plt.ylabel(r\" Dl   ($\\sqrt{bar} \\mu m / \\sqrt{cm}$)\",fontsize=20)\n",
    "#plt.ylabel(r\" $Dl^*$    ($\\sqrt{bar} cm / \\sqrt{cm}$)\",fontsize=20)\n",
    "plt.tight_layout()\n",
    "#plt.savefig(\"/Users/austinmcdonald/Desktop/DslashSTARBAR\"+\".png\")\n",
    "plt.show()"
   ]
  },
  {
   "cell_type": "code",
   "execution_count": null,
   "metadata": {
    "collapsed": true
   },
   "outputs": [],
   "source": []
  },
  {
   "cell_type": "code",
   "execution_count": null,
   "metadata": {
    "collapsed": true
   },
   "outputs": [],
   "source": [
    "plt.figure(figsize=(8,8))\n",
    "#for q in range(0,len(GOLDD)):\n",
    "#for q in range(0,7):\n",
    "for q in [0]:\n",
    "\n",
    "    Dt = (ANODE[q][:,0] - GOLDD[q][:,0])*1e6\n",
    "\n",
    "    d = 15.12\n",
    "    d = 13.48\n",
    "    #sigma = ((((ANODE[q][:,1]*1e6))**2)-28.7) #- (((GOLDD[q][:,1]*1e6))**2-2.58)\n",
    "    sigma = ((((ANODE[q][:,1]*1e6))**2)) - (((GOLDD[q][:,1]*1e6))**2)\n",
    "    V = d/Dt\n",
    "    Dslash = sigma*V**3/(2*d)*PRE[q]*1e6\n",
    "    Dstar  = np.sqrt(2*Dslash/V)*np.sqrt(PRE[q])\n",
    "    \n",
    "    #D = (sigma*d**2)/(2.0*Dt**3)*1e6\n",
    "    #Dstar = np.sqrt(PRE[q]*sigma*d)/Dt\n",
    "    #mark = Mark(REDU[q],PRE[q])\n",
    "    lab = PERCT[q]+'%Xe'\n",
    "    color = COL[q]\n",
    "    \n",
    "    #plt.scatter(REDU[q]*1.06-8,Dslash,label=lab,s=40,color='r',alpha=0.6)\n",
    "    RR = ((500+EFID[q]*d)/13.64)/PRE[q]\n",
    "    plt.scatter(RR,V*10,label=lab,s=4,color='b',alpha=0.6)\n",
    "    #mark = Mark(REDU[q],PRE[q])\n",
    "    X = REDU[q]\n",
    "    Y = V*10\n",
    "    mark = MARKER[q]\n",
    "    for x, y, m in zip(X, Y, mark):\n",
    "        plt.scatter(x, y, alpha=0.6,marker=m,color=color,s=60) \n",
    "\n",
    "#plt.scatter(nextDX,nextDY,color='lime')\n",
    "#plt.errorbar(nextDX,nextDY,xerr=0,yerr=80,ecolor='lime',color='lime',fmt='D', capthick=1,label='NEXT data')\n",
    "\n",
    "\n",
    "#plt.ylim(0,1000)\n",
    "#plt.xlim(0,200)\n",
    "#plt.xlim(0,400)\n",
    "#plt.axhline(500)\n",
    "#plt.ylim(0,1600)\n",
    "#plt.xlim(0,300)\n",
    "plt.legend(loc='upper right',fontsize=14,ncol=3)\n",
    "plt.xticks(fontsize=24)\n",
    "plt.yticks(fontsize=24)\n",
    "plt.grid()\n",
    "\n",
    "plt.xlabel(\"Reduced field\",fontsize=20)\n",
    "#plt.ylabel(r\" Dl   ($\\sqrt{bar} \\mu m / \\sqrt{cm}$)\",fontsize=20)\n",
    "#plt.ylabel(r\" $Dl^*$    ($\\sqrt{bar} cm / \\sqrt{cm}$)\",fontsize=20)\n",
    "plt.tight_layout()\n",
    "#plt.savefig(\"/Users/austinmcdonald/Desktop/DslashSTARBAR\"+\".png\")\n",
    "plt.show()"
   ]
  },
  {
   "cell_type": "code",
   "execution_count": null,
   "metadata": {
    "collapsed": true
   },
   "outputs": [],
   "source": [
    "ReduCor = ((500+EFID[q]*d)/13.64)/PRE[q]\n",
    "X = ReduCor\n",
    "V = 13.48/((ANODE[q][:,0] - GOLDD[q][:,0])*1e6)\n",
    "V = V*10\n",
    "plt.scatter(X,V)\n",
    "\n",
    "xt = np.linspace(1,5000,5000)\n",
    "cof = np.polyfit(X,X*V,2)\n",
    "fit = np.poly1d(cof)\n",
    "\n",
    "plt.plot(xt,fit(xt)/xt,'--r')\n",
    "\n",
    "\n",
    "plt.xlim(0,500)\n",
    "plt.ylim(0,5)\n",
    "plt.show()\n"
   ]
  },
  {
   "cell_type": "markdown",
   "metadata": {},
   "source": [
    "### "
   ]
  },
  {
   "cell_type": "code",
   "execution_count": null,
   "metadata": {
    "collapsed": true
   },
   "outputs": [],
   "source": [
    "dex = []\n",
    "for x in range(0,len(ReduCor)):\n",
    "    fn = find_nearest(xt,3125/PRE[0][x])\n",
    "    loc = np.where(xt==fn)[0][0]\n",
    "    dex.append(loc)\n",
    "dex = np.array(dex)\n",
    "\n",
    "dex2 = []\n",
    "for x in range(0,len(ReduCor)):\n",
    "    fn = find_nearest(xt,300/PRE[0][x])\n",
    "    loc = np.where(xt==fn)[0][0]\n",
    "    dex2.append(loc)\n",
    "dex2 = np.array(dex2)"
   ]
  },
  {
   "cell_type": "code",
   "execution_count": null,
   "metadata": {
    "collapsed": true
   },
   "outputs": [],
   "source": []
  },
  {
   "cell_type": "code",
   "execution_count": null,
   "metadata": {
    "collapsed": true
   },
   "outputs": [],
   "source": [
    "sig = ((ANODE[0][:,1]*1e6))**2 - ((GOLDD[0][:,1]*1e6))**2\n",
    "Dt = (ANODE[0][:,0] - GOLDD[0][:,0])*1e6\n",
    "vv = 15.12/Dt\n",
    "\n",
    "xxt = np.linspace(0,300,1000)\n",
    "\n",
    "xx = 1/(fit(xt[dex])/xt[dex])\n",
    "xx = (1/(fit(xt[dex])/xt[dex]))**2\n",
    "\n",
    "here = np.where((xx >= 0) & (xx <=300))\n",
    "yy = ((ANODE[0][:,1]*1e6))**2\n",
    "print(min(yy))\n",
    "plt.scatter(xx[here],yy[here],label=\"anode\")\n",
    "\n",
    "coff = np.polyfit(xx[here],yy[here],1)\n",
    "print(coff)\n",
    "ffit = np.poly1d(coff)\n",
    "plt.plot(xxt,ffit(xxt))\n",
    "\n",
    "\n",
    "xx = 4/(fit(xt[dex2])/xt[dex2])\n",
    "xx = (4/(fit(xt[dex2])/xt[dex2]))**2\n",
    "here = np.where((xx >= 0) & (xx <=200))\n",
    "yy = ((GOLDD[0][:,1]*1e6))**2\n",
    "print(min(yy))\n",
    "\n",
    "plt.scatter(xx[here],yy[here],label=\"gold\")\n",
    "coff = np.polyfit(xx[here],yy[here],1)\n",
    "print(coff)\n",
    "ffit = np.poly1d(coff)\n",
    "plt.plot(xxt,ffit(xxt))\n",
    "\n",
    "'''xxt = np.linspace(0,0.002,1000)\n",
    "xx = 1/fit(xt[dex])/xt[dex]\n",
    "yy = ((ANODE[6][:,1]*1e6))**2\n",
    "\n",
    "coff = np.polyfit(xx,yy,2)\n",
    "ffit = np.poly1d(coff)\n",
    "plt.plot(xxt,ffit(xxt))\n",
    "'''\n",
    "plt.ylim(0,6)\n",
    "plt.xlim(0,10)\n",
    "plt.legend()\n",
    "#plt.scatter(vv,1/sig)\n",
    "\n",
    "plt.show()\n"
   ]
  },
  {
   "cell_type": "code",
   "execution_count": null,
   "metadata": {
    "collapsed": true
   },
   "outputs": [],
   "source": []
  },
  {
   "cell_type": "code",
   "execution_count": null,
   "metadata": {
    "collapsed": true
   },
   "outputs": [],
   "source": []
  },
  {
   "cell_type": "code",
   "execution_count": null,
   "metadata": {
    "collapsed": true
   },
   "outputs": [],
   "source": []
  },
  {
   "cell_type": "code",
   "execution_count": null,
   "metadata": {
    "collapsed": true
   },
   "outputs": [],
   "source": []
  },
  {
   "cell_type": "code",
   "execution_count": null,
   "metadata": {
    "collapsed": true
   },
   "outputs": [],
   "source": []
  },
  {
   "cell_type": "code",
   "execution_count": null,
   "metadata": {
    "collapsed": true
   },
   "outputs": [],
   "source": []
  },
  {
   "cell_type": "code",
   "execution_count": null,
   "metadata": {
    "collapsed": true
   },
   "outputs": [],
   "source": [
    "sigma"
   ]
  },
  {
   "cell_type": "code",
   "execution_count": null,
   "metadata": {
    "collapsed": true
   },
   "outputs": [],
   "source": [
    "EP = np.linspace(1,1000,10000)\n",
    "\n",
    "\n",
    "sort_index = np.argsort(REDU[6])\n",
    "Redu = REDU[6][sort_index]\n",
    "sigma = ((((ANODE[q][:,1]*1e6))**2)-28.7) - (((GOLDD[q][:,1]*1e6))**2-2.58)\n",
    "sigma = ((((ANODE[q][:,1]*1e6))**2)-0)# - (((GOLDD[q][:,1]*1e6))**2-2.58)\n",
    "\n",
    "\n",
    "plt.scatter(Dt[0:4],sigma[0:4],label=lab,s=30,color='g',alpha=0.6)\n",
    "cof1 = np.polyfit(Dt[0:4],sigma[0:4],1)\n",
    "print(cof1)\n",
    "fit1 = np.poly1d(cof1)\n",
    "plt.plot(EP,fit1(EP),':g')\n",
    "\n",
    "plt.scatter(Dt[4:8],sigma[4:8],label=lab,s=30,color='b',alpha=0.6)\n",
    "cof1 = np.polyfit(Dt[4:8],sigma[4:8],1)\n",
    "print(cof1)\n",
    "fit1 = np.poly1d(cof1)\n",
    "plt.plot(EP,fit1(EP),':b')\n",
    "\n",
    "'''\n",
    "\n",
    "Y    = (sigma*PRE[6])[sort_index]\n",
    "#Y    = (sigma)[sort_index]\n",
    "#drop = np.argwhere(np.isnan(Y))\n",
    "Redu = Redu[~np.isnan(Y)]\n",
    "Y    = Y[~np.isnan(Y)]\n",
    "\n",
    "#plt.scatter(1000/Redu,Y,label=lab,s=30,color='g',alpha=0.6)\n",
    "plt.scatter(Redu,1/(Y*Redu),label=lab,s=30,color='g',alpha=0.6)\n",
    "cof = np.polyfit(1000/Redu,Y,4)\n",
    "fit = np.poly1d(cof)\n",
    "'''\n",
    "#plt.plot(EP,fit(1000/EP),':r')\n",
    "plt.xlim(0,200)\n",
    "#plt.ylim(0,200)"
   ]
  },
  {
   "cell_type": "code",
   "execution_count": null,
   "metadata": {
    "collapsed": true
   },
   "outputs": [],
   "source": [
    "PRE[6][4:8]"
   ]
  },
  {
   "cell_type": "code",
   "execution_count": null,
   "metadata": {
    "collapsed": true
   },
   "outputs": [],
   "source": [
    "sigma[4:8]"
   ]
  },
  {
   "cell_type": "code",
   "execution_count": null,
   "metadata": {
    "collapsed": true
   },
   "outputs": [],
   "source": []
  },
  {
   "cell_type": "code",
   "execution_count": null,
   "metadata": {
    "collapsed": true
   },
   "outputs": [],
   "source": [
    "EP = np.linspace(1,200,1000)\n",
    "\n",
    "\n",
    "sort_index = np.argsort(REDU[6])\n",
    "Redu = REDU[6][sort_index]\n",
    "sigma = ((((ANODE[q][:,1]*1e6))**2)-28.7) - (((GOLDD[q][:,1]*1e6))**2-2.58)\n",
    "Y    = (sigma*PRE[6])[sort_index]\n",
    "#Y    = (sigma)[sort_index]\n",
    "#drop = np.argwhere(np.isnan(Y))\n",
    "Redu = Redu[~np.isnan(Y)]\n",
    "Y    = Y[~np.isnan(Y)]\n",
    "\n",
    "#plt.scatter(1000/Redu,Y,label=lab,s=30,color='g',alpha=0.6)\n",
    "plt.scatter(Redu,1/(Y*Redu),label=lab,s=30,color='g',alpha=0.6)\n",
    "cof = np.polyfit(1000/Redu,Y,4)\n",
    "fit = np.poly1d(cof)\n",
    "\n",
    "#plt.plot(EP,fit(1000/EP),':r')\n",
    "#plt.xlim(0,.20)\n",
    "#plt.ylim(-20,200)"
   ]
  },
  {
   "cell_type": "code",
   "execution_count": null,
   "metadata": {
    "collapsed": true
   },
   "outputs": [],
   "source": [
    "Y"
   ]
  },
  {
   "cell_type": "code",
   "execution_count": null,
   "metadata": {
    "collapsed": true
   },
   "outputs": [],
   "source": [
    "[~np.isnan(Y)]"
   ]
  },
  {
   "cell_type": "code",
   "execution_count": null,
   "metadata": {
    "collapsed": true
   },
   "outputs": [],
   "source": [
    "Y[~np.isnan(Y)]"
   ]
  },
  {
   "cell_type": "code",
   "execution_count": null,
   "metadata": {
    "collapsed": true
   },
   "outputs": [],
   "source": [
    "sig1 = ((ANODE[6][:,1]*1e6))**2 - 0\n",
    "sig2 = ((ANODE[6][:,1]*1e6))**2 - 6.82\n",
    "Dt = (ANODE[6][:,0] - GOLDD[6][:,0])*1e6\n",
    "\n",
    "X,Y = DlP(REDU[6],sig1,Dt,PRE[6])\n",
    "plt.scatter(X,Y,label=lab,s=40,color='r',alpha=0.6)\n",
    "X,Y = DlP(REDU[6],sig2,Dt,PRE[6])\n",
    "plt.scatter(X,Y,label=lab,s=40,color='k',alpha=0.6)"
   ]
  },
  {
   "cell_type": "code",
   "execution_count": null,
   "metadata": {
    "collapsed": true
   },
   "outputs": [],
   "source": [
    "sig1 = (ANODE[6][:,1]*1e6)**2\n",
    "sig2 = (GOLDD[6][:,1]*1e6)**2\n",
    "sig = ((ANODE[q][:,1]*1e6))**2 -((GOLDD[q][:,1]*1e6))**2\n",
    "Dt = (ANODE[6][:,0] - GOLDD[6][:,0])*1e6\n",
    "\n",
    "D = sig/(2*Dt)\n",
    "frac_err = np.sqrt((2*1/sig1)**2+(2*1/sig2)**2+(2*1/Dt)**2)\n",
    "frac_err = D*frac_err\n",
    "#X,Y = DlP(Dt,sig,Dt,PRE[6])\n",
    "plt.scatter(REDU[6],D,label=lab,s=40,color='r',alpha=0.6)\n",
    "plt.errorbar(REDU[6],D,yerr=frac_err,fmt='D', capthick=1,markersize=0)\n",
    "plt.ylim(0,0.4)\n",
    "#for x, y, m in zip(X, Y, mark):\n",
    "#        plt.scatter(x, y, alpha=0.6,marker=m,color=color,s=60) \n"
   ]
  },
  {
   "cell_type": "code",
   "execution_count": null,
   "metadata": {
    "collapsed": true
   },
   "outputs": [],
   "source": [
    "def DlSstar(Redu, sigma, time, pre):\n",
    "    d = 15.12\n",
    "    d = 13.49\n",
    "    D = (sigma*d**2)/(2.*time**3)*1e6 # Dl slash\n",
    "    D = 2.*D/(d/(time*1e-6))\n",
    "    D = np.sqrt(D)*np.sqrt(pre)\n",
    "    sort_index = np.argsort(Redu)\n",
    "    Re = Redu[sort_index]\n",
    "    D  = D[sort_index]\n",
    "    return  Re, D"
   ]
  },
  {
   "cell_type": "code",
   "execution_count": null,
   "metadata": {
    "collapsed": true
   },
   "outputs": [],
   "source": [
    "sig1 = (ANODE[6][:,1]*1e6)**2\n",
    "sig2 = (GOLDD[6][:,1]*1e6)**2\n",
    "sig = ((ANODE[q][:,1]*1e6))**2 -((GOLDD[q][:,1]*1e6))**2\n",
    "Dt = (ANODE[6][:,0] - GOLDD[6][:,0])*1e6\n",
    "\n",
    "D = sig*(15.12)**2/(2*Dt**3)*PRE[6]\n",
    "#D = np.sqrt(D)*1e4/2\n",
    "#D = 2*D/(15.12/(Dt*1e-6))\n",
    "frac_err = np.sqrt((2*0.5/sig1)**2+(2*0.5/sig2)**2+(6*0.5/Dt)**2+(2*0.1/15)**2)\n",
    "frac_err = D*frac_err\n",
    "#X,Y = DlP(Dt,sig,Dt,PRE[6])\n",
    "plt.scatter(REDU[6],D,label=lab,s=40,color='r',alpha=0.6)\n",
    "plt.errorbar(REDU[6],D,yerr=frac_err,fmt='D', capthick=1,markersize=0)\n",
    "plt.semilogx()\n",
    "#plt.ylim(0,0.004)\n",
    "#for x, y, m in zip(X, Y, mark):\n",
    "#        plt.scatter(x, y, alpha=0.6,marker=m,color=color,s=60) \n"
   ]
  },
  {
   "cell_type": "code",
   "execution_count": null,
   "metadata": {
    "collapsed": true
   },
   "outputs": [],
   "source": []
  },
  {
   "cell_type": "code",
   "execution_count": null,
   "metadata": {
    "collapsed": true
   },
   "outputs": [],
   "source": [
    "sig1 = (ANODE[0][:,1]*1e6)**2\n",
    "sig2 = (GOLDD[0][:,1]*1e6)**2\n",
    "sig = ((ANODE[0][:,1]*1e6))**2 -((GOLDD[0][:,1]*1e6))**2\n",
    "Dt = (ANODE[0][:,0] - GOLDD[0][:,0])*1e6\n",
    "\n",
    "D = sig*(15.12)/(Dt**2)*PRE[0]\n",
    "D = np.sqrt(D)*1e4\n",
    "#D = 2*D/(15.12/(Dt*1e-6))\n",
    "frac_err = np.sqrt((2*0.5/sig1)**2+(2*0.5/sig2)**2+(2*0.5/Dt)**2+(0.1/15)**2)\n",
    "frac_err = D*frac_err\n",
    "#X,Y = DlP(Dt,sig,Dt,PRE[6])\n",
    "plt.scatter(REDU[0],D,label=lab,s=40,color='r',alpha=0.6)\n",
    "plt.errorbar(REDU[0],D,yerr=frac_err,fmt='D', capthick=1,markersize=0)\n",
    "plt.semilogx()\n",
    "#plt.ylim(0,0.004)\n",
    "#for x, y, m in zip(X, Y, mark):\n",
    "#        plt.scatter(x, y, alpha=0.6,marker=m,color=color,s=60) \n"
   ]
  },
  {
   "cell_type": "code",
   "execution_count": null,
   "metadata": {
    "collapsed": true
   },
   "outputs": [],
   "source": []
  },
  {
   "cell_type": "code",
   "execution_count": null,
   "metadata": {
    "collapsed": true
   },
   "outputs": [],
   "source": [
    "sig1 = ((ANODE[6][:,1]*1e6))**2 - 0\n",
    "sig2 = ((ANODE[6][:,1]*1e6))**2 - 6.82\n",
    "Dt = (ANODE[6][:,0] - GOLDD[6][:,0])*1e6\n",
    "\n",
    "X,Y = DlP(REDU[6],sig1,Dt,PRE[6])\n",
    "plt.scatter(X,Y,label=lab,s=40,color='r',alpha=0.6)\n",
    "X,Y = DlP(REDU[6],sig2,Dt,PRE[6])\n",
    "plt.scatter(X,Y,label=lab,s=40,color='k',alpha=0.6)"
   ]
  },
  {
   "cell_type": "code",
   "execution_count": null,
   "metadata": {
    "collapsed": true
   },
   "outputs": [],
   "source": [
    "sig1 = ((ANODE[6][:,1]*1e6))**2 - 0\n",
    "Dt = (ANODE[6][:,0] - GOLDD[6][:,0])*1e6\n",
    "\n",
    "X,Y = DlP(REDU[6],sig1,Dt,PRE[6])\n",
    "\n",
    "xt = np.linspace(1,200,1000)\n",
    "cof = np.polyfit(X,X**2*Y,4)\n",
    "fit = np.poly1d(cof)\n",
    "plt.scatter(X,Y,label=lab,s=40,color='r',alpha=0.6)\n",
    "\n",
    "plt.plot(xt,fit(xt)/xt**2)\n",
    "plt.ylim(0,5)\n"
   ]
  },
  {
   "cell_type": "code",
   "execution_count": null,
   "metadata": {
    "collapsed": true
   },
   "outputs": [],
   "source": []
  },
  {
   "cell_type": "code",
   "execution_count": null,
   "metadata": {
    "collapsed": true
   },
   "outputs": [],
   "source": [
    "X,V = Vel(REDU[6],Dt)\n",
    "\n",
    "plt.scatter(X,V)\n",
    "\n",
    "xt = np.linspace(1,500,1000)\n",
    "cof = np.polyfit(X,X*V,2)\n",
    "fit = np.poly1d(cof)\n",
    "\n",
    "plt.plot(xt,fit(xt)/xt,'--r')\n",
    "\n",
    "\n",
    "plt.xlim(0,500)\n",
    "plt.ylim(0,1.5)\n",
    "plt.show()\n"
   ]
  },
  {
   "cell_type": "code",
   "execution_count": null,
   "metadata": {
    "collapsed": true
   },
   "outputs": [],
   "source": []
  },
  {
   "cell_type": "code",
   "execution_count": null,
   "metadata": {
    "collapsed": true
   },
   "outputs": [],
   "source": [
    "((ANODE[6][:,1]*1e6))#**2"
   ]
  },
  {
   "cell_type": "code",
   "execution_count": null,
   "metadata": {
    "collapsed": true
   },
   "outputs": [],
   "source": [
    "((GOLDD[6][:,1]*1e6))#**2"
   ]
  },
  {
   "cell_type": "code",
   "execution_count": null,
   "metadata": {
    "collapsed": true
   },
   "outputs": [],
   "source": []
  },
  {
   "cell_type": "code",
   "execution_count": null,
   "metadata": {
    "collapsed": true
   },
   "outputs": [],
   "source": [
    "dex = []\n",
    "for x in range(0,len(REDU[6])):\n",
    "    fn = find_nearest(xt,2*REDU[6][x])\n",
    "    loc = np.where(xt==fn)[0][0]\n",
    "    dex.append(loc)\n",
    "dex = np.array(dex)\n",
    "\n",
    "dex2 = []\n",
    "for x in range(0,len(REDU[6])):\n",
    "    fn = find_nearest(xt,300/PRE[6][x])\n",
    "    loc = np.where(xt==fn)[0][0]\n",
    "    dex2.append(loc)\n",
    "dex2 = np.array(dex2)"
   ]
  },
  {
   "cell_type": "code",
   "execution_count": null,
   "metadata": {
    "collapsed": true
   },
   "outputs": [],
   "source": [
    "15/(fit(xt[dex])/xt[dex])"
   ]
  },
  {
   "cell_type": "code",
   "execution_count": null,
   "metadata": {
    "collapsed": true
   },
   "outputs": [],
   "source": [
    "sig = ((ANODE[6][:,1]*1e6))**2 - ((GOLDD[6][:,1]*1e6))**2\n",
    "Dt = (ANODE[6][:,0] - GOLDD[6][:,0])*1e6\n",
    "vv = 15.12/Dt\n",
    "\n",
    "plt.scatter(fit(xt[dex])/xt[dex],1/((ANODE[6][:,1]*1e6))**2)\n",
    "plt.scatter(fit(xt[dex2])/xt[dex2],1/((GOLDD[6][:,1]*1e6))**2)\n",
    "\n",
    "#plt.scatter(vv,1/sig)\n",
    "\n",
    "plt.show()\n",
    "\n",
    "\n",
    "plt.scatter(REDU[6],((ANODE[6][:,1]*1e6))**2)\n",
    "plt.scatter(REDU[6],((GOLDD[6][:,1]*1e6))**2)\n",
    "plt.ylim(0,100)\n",
    "#plt.scatter(vv,1/sig)\n",
    "\n",
    "plt.show()\n",
    "\n",
    "plt.scatter(EFID[6],((ANODE[6][:,1]*1e6))**2)\n",
    "plt.scatter(EFID[6],((GOLDD[6][:,1]*1e6))**2)\n",
    "#plt.ylim(0,100)\n",
    "#plt.scatter(vv,1/sig)\n",
    "\n",
    "plt.show()\n",
    "\n",
    "plt.scatter(PRE[6],((ANODE[6][:,1]*1e6))**2)\n",
    "plt.scatter(PRE[6],((GOLDD[6][:,1]*1e6))**2)\n",
    "#plt.ylim(0,100)\n",
    "#plt.scatter(vv,1/sig)\n",
    "\n",
    "plt.show()\n",
    "\n",
    "plt.scatter(REDU[6],Dt)\n",
    "plt.ylim(0,300)\n",
    "#plt.scatter(vv,1/sig)\n",
    "\n",
    "plt.show()\n",
    "\n",
    "\n",
    "plt.scatter(Dt,sig/PRE[6])\n",
    "plt.ylim(0,300)\n",
    "#plt.scatter(vv,1/sig)\n",
    "\n",
    "plt.show()"
   ]
  },
  {
   "cell_type": "code",
   "execution_count": null,
   "metadata": {
    "collapsed": true
   },
   "outputs": [],
   "source": []
  },
  {
   "cell_type": "code",
   "execution_count": null,
   "metadata": {
    "collapsed": true
   },
   "outputs": [],
   "source": [
    "sig = ((ANODE[6][:,1]*1e6))**2 - ((GOLDD[6][:,1]*1e6))**2\n",
    "Dt = (ANODE[6][:,0] - GOLDD[6][:,0])*1e6\n",
    "vv = 15.12/Dt\n",
    "\n",
    "xxt = np.linspace(0,300,1000)\n",
    "\n",
    "xx = 15/(fit(xt[dex])/xt[dex])\n",
    "xx = (15/(fit(xt[dex])/xt[dex]))**2\n",
    "\n",
    "here = np.where((xx >= 0) & (xx <=300))\n",
    "yy = ((ANODE[6][:,1]*1e6))**2\n",
    "print(min(yy))\n",
    "plt.scatter(xx[here],yy[here],label=\"anode\")\n",
    "\n",
    "coff = np.polyfit(xx[here],yy[here],1)\n",
    "print(coff)\n",
    "ffit = np.poly1d(coff)\n",
    "plt.plot(xxt,ffit(xxt))\n",
    "\n",
    "\n",
    "xx = 4/(fit(xt[dex2])/xt[dex2])\n",
    "xx = (4/(fit(xt[dex2])/xt[dex2]))**2\n",
    "here = np.where((xx >= 0) & (xx <=200))\n",
    "yy = ((GOLDD[6][:,1]*1e6))**2\n",
    "print(min(yy))\n",
    "\n",
    "plt.scatter(xx[here],yy[here],label=\"gold\")\n",
    "coff = np.polyfit(xx[here],yy[here],1)\n",
    "print(coff)\n",
    "ffit = np.poly1d(coff)\n",
    "plt.plot(xxt,ffit(xxt))\n",
    "\n",
    "'''xxt = np.linspace(0,0.002,1000)\n",
    "xx = 1/fit(xt[dex])/xt[dex]\n",
    "yy = ((ANODE[6][:,1]*1e6))**2\n",
    "\n",
    "coff = np.polyfit(xx,yy,2)\n",
    "ffit = np.poly1d(coff)\n",
    "plt.plot(xxt,ffit(xxt))\n",
    "'''\n",
    "plt.axhline(20,color='r')\n",
    "plt.ylim(0,60)\n",
    "plt.xlim(0,300)\n",
    "#plt.legend()\n",
    "#plt.scatter(vv,1/sig)\n",
    "\n",
    "plt.show()\n"
   ]
  },
  {
   "cell_type": "code",
   "execution_count": null,
   "metadata": {
    "collapsed": true
   },
   "outputs": [],
   "source": []
  },
  {
   "cell_type": "code",
   "execution_count": null,
   "metadata": {
    "collapsed": true
   },
   "outputs": [],
   "source": [
    "15/(fit(xt[dex])/xt[dex])"
   ]
  },
  {
   "cell_type": "code",
   "execution_count": null,
   "metadata": {
    "collapsed": true
   },
   "outputs": [],
   "source": [
    "xx = (.235*15.8/(fit(xt[dex])/xt[dex]))**2\n",
    "CORR =xx\n",
    "CORR"
   ]
  },
  {
   "cell_type": "code",
   "execution_count": null,
   "metadata": {
    "collapsed": true
   },
   "outputs": [],
   "source": []
  },
  {
   "cell_type": "code",
   "execution_count": null,
   "metadata": {
    "collapsed": true
   },
   "outputs": [],
   "source": [
    "15/fit(xt[dex])/xt[dex]"
   ]
  },
  {
   "cell_type": "code",
   "execution_count": null,
   "metadata": {
    "collapsed": true
   },
   "outputs": [],
   "source": [
    "PRE[6][18:]"
   ]
  },
  {
   "cell_type": "code",
   "execution_count": null,
   "metadata": {
    "collapsed": true
   },
   "outputs": [],
   "source": []
  },
  {
   "cell_type": "code",
   "execution_count": null,
   "metadata": {
    "collapsed": true
   },
   "outputs": [],
   "source": [
    "sig = ((ANODE[6][:,1]*1e6))**2 - ((GOLDD[6][:,1]*1e6))**2\n",
    "Dt = (ANODE[6][:,0] - GOLDD[6][:,0])*1e6\n",
    "vv = 15.12/Dt\n",
    "\n",
    "xxt = np.linspace(0,0.007,1000)\n",
    "\n",
    "xx = 1.5/fit(xt[dex])/xt[dex]\n",
    "here = np.where((xx >= 0) & (xx <=0.002))\n",
    "yy = ((ANODE[6][:,1]*1e6))**2\n",
    "yy = yy[0:4]\n",
    "xx = xx[0:4]\n",
    "print(min(yy))\n",
    "plt.scatter(xx,yy,color='g',label=\"anode\")\n",
    "\n",
    "coff = np.polyfit(xx,yy,1)\n",
    "print(coff)\n",
    "ffit = np.poly1d(coff)\n",
    "plt.plot(xxt,ffit(xxt),'g')\n",
    "\n",
    "\n",
    "\n",
    "xx = 1.5/fit(xt[dex])/xt[dex]\n",
    "here = np.where((xx >= 0) & (xx <=0.002))\n",
    "yy = ((ANODE[6][:,1]*1e6))**2\n",
    "yy = yy[4:9]\n",
    "xx = xx[4:9]\n",
    "print(min(yy))\n",
    "plt.scatter(xx,yy,color='b',label=\"anode\")\n",
    "\n",
    "coff = np.polyfit(xx,yy,1)\n",
    "print(coff)\n",
    "ffit = np.poly1d(coff)\n",
    "plt.plot(xxt,ffit(xxt),'b')\n",
    "\n",
    "xx = 1.5/fit(xt[dex])/xt[dex]\n",
    "here = np.where((xx >= 0) & (xx <=0.002))\n",
    "yy = ((ANODE[6][:,1]*1e6))**2\n",
    "yy = yy[9:14]\n",
    "xx = xx[9:14]\n",
    "print(min(yy))\n",
    "plt.scatter(xx,yy,color='k',label=\"anode\")\n",
    "\n",
    "coff = np.polyfit(xx,yy,1)\n",
    "print(coff)\n",
    "ffit = np.poly1d(coff)\n",
    "plt.plot(xxt,ffit(xxt),'k')\n",
    "\n",
    "\n",
    "xx = 1.5/fit(xt[dex])/xt[dex]\n",
    "here = np.where((xx >= 0) & (xx <=0.002))\n",
    "yy = ((ANODE[6][:,1]*1e6))**2\n",
    "yy = yy[14:18]\n",
    "xx = xx[14:18]\n",
    "print(min(yy))\n",
    "plt.scatter(xx,yy,color='m',label=\"anode\")\n",
    "\n",
    "coff = np.polyfit(xx,yy,1)\n",
    "print(coff)\n",
    "ffit = np.poly1d(coff)\n",
    "plt.plot(xxt,ffit(xxt),'m')\n",
    "\n",
    "\n",
    "xx = 1.5/fit(xt[dex])/xt[dex]\n",
    "here = np.where((xx >= 0) & (xx <=0.002))\n",
    "yy = ((ANODE[6][:,1]*1e6))**2\n",
    "yy = yy[18:]\n",
    "xx = xx[18:]\n",
    "print(min(yy))\n",
    "plt.scatter(xx,yy,color='y',label=\"anode\")\n",
    "\n",
    "coff = np.polyfit(xx,yy,1)\n",
    "print(coff)\n",
    "ffit = np.poly1d(coff)\n",
    "plt.plot(xxt,ffit(xxt),'y')\n",
    "\n",
    "'''\n",
    "xx = 0.4/fit(xt[dex2])/xt[dex2]\n",
    "here = np.where((xx >= 0) & (xx <=0.002))\n",
    "yy = ((GOLDD[6][:,1]*1e6))**2\n",
    "print(min(yy))\n",
    "\n",
    "plt.scatter(xx[here],yy[here],label=\"gold\")\n",
    "coff = np.polyfit(xx[here],yy[here],1)\n",
    "print(coff)\n",
    "ffit = np.poly1d(coff)\n",
    "plt.plot(xxt,ffit(xxt))\n",
    "'''\n",
    "'''xxt = np.linspace(0,0.002,1000)\n",
    "xx = 1/fit(xt[dex])/xt[dex]\n",
    "yy = ((ANODE[6][:,1]*1e6))**2\n",
    "\n",
    "coff = np.polyfit(xx,yy,2)\n",
    "ffit = np.poly1d(coff)\n",
    "plt.plot(xxt,ffit(xxt))\n",
    "'''\n",
    "#plt.axhline(23.1,color='r')\n",
    "#plt.ylim(0,100)\n",
    "plt.xlim(0,0.007)\n",
    "#plt.legend()\n",
    "#plt.scatter(vv,1/sig)\n",
    "\n",
    "plt.show()\n"
   ]
  },
  {
   "cell_type": "code",
   "execution_count": null,
   "metadata": {
    "collapsed": true
   },
   "outputs": [],
   "source": [
    "PRE[6]"
   ]
  },
  {
   "cell_type": "code",
   "execution_count": null,
   "metadata": {
    "collapsed": true
   },
   "outputs": [],
   "source": [
    "CORR = np.array([22.9,22.9,22.9,22.9,27.8,27.8,27.8,27.8,27.8,16.5,16.5,16.5,16.5,16.5,0,0,0,0,0,0,0])"
   ]
  },
  {
   "cell_type": "code",
   "execution_count": null,
   "metadata": {
    "collapsed": true
   },
   "outputs": [],
   "source": []
  },
  {
   "cell_type": "code",
   "execution_count": null,
   "metadata": {
    "collapsed": true
   },
   "outputs": [],
   "source": []
  },
  {
   "cell_type": "code",
   "execution_count": null,
   "metadata": {
    "collapsed": true
   },
   "outputs": [],
   "source": []
  },
  {
   "cell_type": "code",
   "execution_count": null,
   "metadata": {
    "collapsed": true
   },
   "outputs": [],
   "source": [
    "xx = 1.5/fit(xt[dex])/xt[dex]\n",
    "1/xx"
   ]
  },
  {
   "cell_type": "code",
   "execution_count": null,
   "metadata": {
    "collapsed": true
   },
   "outputs": [],
   "source": []
  },
  {
   "cell_type": "code",
   "execution_count": null,
   "metadata": {
    "collapsed": true
   },
   "outputs": [],
   "source": []
  },
  {
   "cell_type": "code",
   "execution_count": null,
   "metadata": {
    "collapsed": true
   },
   "outputs": [],
   "source": [
    "sig = ((ANODE[6][:,1]*1e6))**2 - ((GOLDD[6][:,1]*1e6))**2\n",
    "Dt = (ANODE[6][:,0] - GOLDD[6][:,0])*1e6\n",
    "vv = 15.12/Dt\n",
    "\n",
    "plt.scatter(Dt,((ANODE[6][:,1]*1e6))**2,label=\"anode\")\n",
    "plt.scatter(Dt,((GOLDD[6][:,1]*1e6))**2,label=\"gold\")\n",
    "\n",
    "plt.ylim(0,100)\n",
    "plt.xlim(0,200)\n",
    "plt.legend()\n",
    "#plt.scatter(vv,1/sig)\n",
    "\n",
    "plt.show()\n"
   ]
  },
  {
   "cell_type": "code",
   "execution_count": null,
   "metadata": {
    "collapsed": true
   },
   "outputs": [],
   "source": []
  },
  {
   "cell_type": "code",
   "execution_count": null,
   "metadata": {
    "collapsed": true
   },
   "outputs": [],
   "source": []
  },
  {
   "cell_type": "code",
   "execution_count": null,
   "metadata": {
    "collapsed": true
   },
   "outputs": [],
   "source": [
    "V1 = fit(xt[dex2])/xt[dex2]\n",
    "V2 = (13.49/Dt)\n",
    "V3 = fit(xt[dex])/xt[dex]"
   ]
  },
  {
   "cell_type": "code",
   "execution_count": null,
   "metadata": {
    "collapsed": true
   },
   "outputs": [],
   "source": [
    "V1"
   ]
  },
  {
   "cell_type": "code",
   "execution_count": null,
   "metadata": {
    "collapsed": true
   },
   "outputs": [],
   "source": [
    "V2"
   ]
  },
  {
   "cell_type": "code",
   "execution_count": null,
   "metadata": {
    "collapsed": true
   },
   "outputs": [],
   "source": [
    "V3"
   ]
  },
  {
   "cell_type": "code",
   "execution_count": null,
   "metadata": {
    "collapsed": true
   },
   "outputs": [],
   "source": [
    "((0.4/V1*300)+(13.49/V2*EFID[6])+(1.5/V3*2*EFID[6]))/Dt"
   ]
  },
  {
   "cell_type": "code",
   "execution_count": null,
   "metadata": {
    "collapsed": true
   },
   "outputs": [],
   "source": [
    "cc = V2/V3"
   ]
  },
  {
   "cell_type": "code",
   "execution_count": null,
   "metadata": {
    "collapsed": true
   },
   "outputs": [],
   "source": [
    "Eeff = ((0.4/V1*300)+(13.49/V2*EFID[6])+(1.5/V3*2*EFID[6]))/Dt\n",
    "Eeff = ((0.4*300)+(13.49*EFID[6])+(1.5*2*EFID[6]))/15.12\n",
    "\n",
    "EFID[6]/Eeff"
   ]
  },
  {
   "cell_type": "code",
   "execution_count": null,
   "metadata": {
    "collapsed": true
   },
   "outputs": [],
   "source": [
    "sig"
   ]
  },
  {
   "cell_type": "code",
   "execution_count": null,
   "metadata": {
    "collapsed": true
   },
   "outputs": [],
   "source": [
    "sig = ((ANODE[6][:,1]*1e6))**2*cc -((GOLDD[6][:,1]*1e6))**2\n",
    "\n",
    "#Eeff = ((0.4/V1*300)+(13.49/V2*EFID[6])+(1.5/V3*2*EFID[6]))/Dt\n",
    "#Eeff = ((0.4*300)+(13.49*EFID[6])+(1.5*2*EFID[6]))/15.12\n",
    "\n",
    "#Eeff = Eeff/PRE[6]\n",
    "X,Y = DlSstar(REDU[6],sig,Dt,PRE[6])\n",
    "plt.scatter(X,Y,label=lab,s=40,color='r',alpha=0.6)\n",
    "for x, y, m in zip(X, Y, mark):\n",
    "    plt.scatter(x, y, alpha=0.6,marker=m,color=color,s=60)"
   ]
  },
  {
   "cell_type": "code",
   "execution_count": null,
   "metadata": {
    "collapsed": true
   },
   "outputs": [],
   "source": []
  },
  {
   "cell_type": "code",
   "execution_count": null,
   "metadata": {
    "collapsed": true
   },
   "outputs": [],
   "source": [
    "factor1 = 15.12/(15.12/Dt)**3\n",
    "factor2 = 13.49/(15.12/Dt)**3\n",
    "factor3 = 1.500/(fit(xt[dex])/xt[dex])**3"
   ]
  },
  {
   "cell_type": "code",
   "execution_count": null,
   "metadata": {
    "collapsed": true
   },
   "outputs": [],
   "source": [
    "factor1"
   ]
  },
  {
   "cell_type": "code",
   "execution_count": null,
   "metadata": {
    "collapsed": true
   },
   "outputs": [],
   "source": [
    "factor2"
   ]
  },
  {
   "cell_type": "code",
   "execution_count": null,
   "metadata": {
    "collapsed": true
   },
   "outputs": [],
   "source": [
    "factor3"
   ]
  },
  {
   "cell_type": "code",
   "execution_count": null,
   "metadata": {
    "collapsed": true
   },
   "outputs": [],
   "source": [
    "(factor2+factor3)"
   ]
  },
  {
   "cell_type": "code",
   "execution_count": null,
   "metadata": {
    "collapsed": true
   },
   "outputs": [],
   "source": []
  },
  {
   "cell_type": "code",
   "execution_count": null,
   "metadata": {
    "collapsed": true
   },
   "outputs": [],
   "source": []
  },
  {
   "cell_type": "code",
   "execution_count": null,
   "metadata": {
    "collapsed": true
   },
   "outputs": [],
   "source": []
  },
  {
   "cell_type": "code",
   "execution_count": null,
   "metadata": {
    "collapsed": true
   },
   "outputs": [],
   "source": [
    "fit"
   ]
  },
  {
   "cell_type": "code",
   "execution_count": null,
   "metadata": {
    "collapsed": true
   },
   "outputs": [],
   "source": []
  },
  {
   "cell_type": "code",
   "execution_count": null,
   "metadata": {
    "collapsed": true
   },
   "outputs": [],
   "source": []
  },
  {
   "cell_type": "code",
   "execution_count": null,
   "metadata": {
    "collapsed": true
   },
   "outputs": [],
   "source": [
    "((ANODE[q][:,1]*1e6))**2"
   ]
  },
  {
   "cell_type": "code",
   "execution_count": null,
   "metadata": {
    "collapsed": true
   },
   "outputs": [],
   "source": [
    "sig[10:14]"
   ]
  },
  {
   "cell_type": "code",
   "execution_count": null,
   "metadata": {
    "collapsed": true
   },
   "outputs": [],
   "source": [
    "np.mean((GOLDD[6][:,1]*1e6)**2)"
   ]
  },
  {
   "cell_type": "code",
   "execution_count": null,
   "metadata": {
    "collapsed": true
   },
   "outputs": [],
   "source": [
    "np.min((GOLDD[6][:,1]*1e6)**2)"
   ]
  },
  {
   "cell_type": "code",
   "execution_count": null,
   "metadata": {
    "collapsed": true
   },
   "outputs": [],
   "source": [
    "np.max((GOLDD[6][:,1]*1e6)**2)"
   ]
  },
  {
   "cell_type": "code",
   "execution_count": null,
   "metadata": {
    "collapsed": true
   },
   "outputs": [],
   "source": [
    "np.mean(GOLDD[6][:,0])"
   ]
  },
  {
   "cell_type": "code",
   "execution_count": null,
   "metadata": {
    "collapsed": true
   },
   "outputs": [],
   "source": [
    "np.std(GOLDD[6][:,0])"
   ]
  },
  {
   "cell_type": "code",
   "execution_count": null,
   "metadata": {
    "collapsed": true
   },
   "outputs": [],
   "source": []
  },
  {
   "cell_type": "code",
   "execution_count": null,
   "metadata": {
    "collapsed": true
   },
   "outputs": [],
   "source": [
    "plt.scatter(PRE[6],GOLDD[6][:,0])\n",
    "plt.ylim(4e-6,15e-6)"
   ]
  },
  {
   "cell_type": "code",
   "execution_count": null,
   "metadata": {
    "collapsed": true
   },
   "outputs": [],
   "source": []
  },
  {
   "cell_type": "code",
   "execution_count": null,
   "metadata": {
    "collapsed": true
   },
   "outputs": [],
   "source": [
    "sig = ((ANODE[q][:,1]*1e6))**2 -((GOLDD[q][:,1]*1e6))**2\n",
    "plt.figure(figsize=(8,8))\n",
    "plt.scatter(PRE[6],((GOLDD[6][:,1]*1e6)))\n",
    "plt.scatter(PRE[0],((GOLDD[0][:,1]*1e6)))\n",
    "plt.scatter(PRE[3],((GOLDD[3][:,1]*1e6)))\n",
    "\n",
    "#plt.ylim(0,3e-6)\n"
   ]
  },
  {
   "cell_type": "code",
   "execution_count": null,
   "metadata": {
    "collapsed": true
   },
   "outputs": [],
   "source": [
    "((ANODE[q][:,1]*1e6))**2 "
   ]
  },
  {
   "cell_type": "code",
   "execution_count": null,
   "metadata": {
    "collapsed": true
   },
   "outputs": [],
   "source": [
    "((GOLDD[q][:,1]*1e6))**2 "
   ]
  },
  {
   "cell_type": "code",
   "execution_count": null,
   "metadata": {
    "collapsed": true
   },
   "outputs": [],
   "source": [
    "(ANODE[q][:,1]*1e6)**2"
   ]
  },
  {
   "cell_type": "code",
   "execution_count": null,
   "metadata": {
    "collapsed": true
   },
   "outputs": [],
   "source": [
    "(GOLDD[q][:,1]*1e6)**2"
   ]
  },
  {
   "cell_type": "code",
   "execution_count": null,
   "metadata": {
    "collapsed": true
   },
   "outputs": [],
   "source": [
    "np.mean((ANODE[0][:,1]*1e6)**2)"
   ]
  },
  {
   "cell_type": "code",
   "execution_count": null,
   "metadata": {
    "collapsed": true
   },
   "outputs": [],
   "source": [
    "np.mean((ANODE[6][:,1]*1e6)**2)"
   ]
  },
  {
   "cell_type": "code",
   "execution_count": null,
   "metadata": {
    "collapsed": true
   },
   "outputs": [],
   "source": [
    "np.mean((GOLDD[0][:,1]*1e6)**2)"
   ]
  },
  {
   "cell_type": "code",
   "execution_count": null,
   "metadata": {
    "collapsed": true
   },
   "outputs": [],
   "source": []
  },
  {
   "cell_type": "code",
   "execution_count": null,
   "metadata": {
    "collapsed": true
   },
   "outputs": [],
   "source": [
    "np.mean((ANODE[0][:,1]*1e6)**2)"
   ]
  },
  {
   "cell_type": "code",
   "execution_count": null,
   "metadata": {
    "collapsed": true
   },
   "outputs": [],
   "source": [
    "np.mean((GOLDD[0][:,1]*1e6)**2)"
   ]
  },
  {
   "cell_type": "code",
   "execution_count": null,
   "metadata": {
    "collapsed": true
   },
   "outputs": [],
   "source": []
  },
  {
   "cell_type": "code",
   "execution_count": null,
   "metadata": {
    "collapsed": true
   },
   "outputs": [],
   "source": []
  },
  {
   "cell_type": "code",
   "execution_count": null,
   "metadata": {
    "collapsed": true
   },
   "outputs": [],
   "source": []
  },
  {
   "cell_type": "code",
   "execution_count": null,
   "metadata": {
    "collapsed": true
   },
   "outputs": [],
   "source": []
  },
  {
   "cell_type": "code",
   "execution_count": null,
   "metadata": {
    "collapsed": true
   },
   "outputs": [],
   "source": []
  },
  {
   "cell_type": "code",
   "execution_count": null,
   "metadata": {
    "collapsed": true
   },
   "outputs": [],
   "source": [
    "plt.figure(figsize=(8,8))\n",
    "#for q in range(0,len(GOLDD)):\n",
    "#for q in range(0,7):\n",
    "for q in [0,3,4,6]:\n",
    "\n",
    "    Dt = (ANODE[q][:,0] - GOLDD[q][:,0])*1e6\n",
    "    sig = ((ANODE[q][:,1]*1e6))**2 -((GOLDD[q][:,1]*1e6))**2\n",
    "\n",
    "\n",
    "\n",
    "    mark = Mark(REDU[q],PRE[q])\n",
    "    X,Y = DlS(REDU[q],sig,Dt)\n",
    "    #X,Y = Dl(REDU[q],sig,Dt)\n",
    "    X,Y = DlP(REDU[q],sig,Dt,PRE[q])\n",
    "    #X,Y = DlSP(REDU[q],sig,Dt,PRE[q])\n",
    "    X,V = Vel(REDU[q],Dt)\n",
    "    \n",
    "    X,Y = DlSstar(REDU[q],sig,Dt,PRE[q])\n",
    "    #X,Y = DlSstar(REDU[q],sig,Dt,1)\n",
    "    lab = PERCT[q]+'%Xe'\n",
    "    color = COL[q]\n",
    "    #plt.scatter(REDU[q],np.sqrt(PRE[q])/PRE[q])\n",
    "    plt.scatter(X,V,label=lab,s=10,color=color,alpha=0.6)\n",
    "    for x, y, m in zip(X, V, mark):\n",
    "        plt.scatter(x, y, alpha=0.6,marker=m,color=color,s=60) \n",
    "\n",
    "#plt.scatter(nextDX,nextDY/1e4,color='lime')\n",
    "#plt.semilogx()\n",
    "#plt.loglog()    \n",
    "#plt.ylim(3e4,5e5)\n",
    "#plt.ylim(3e6,5e7)\n",
    "#plt.ylim(0,3000)\n",
    "#plt.ylim(0.0,0.15)\n",
    "#plt.ylim(0.025,0.225)\n",
    "plt.ylim(0,3)\n",
    "plt.xlim(0,230)\n",
    "plt.legend(loc='upper right',fontsize=14,ncol=3)\n",
    "plt.xticks(fontsize=24)\n",
    "plt.yticks(fontsize=24)\n",
    "plt.xlabel(\"Reduced field\",fontsize=20)\n",
    "#plt.ylabel(r\" Dl   ($\\sqrt{bar} \\mu m / \\sqrt{cm}$)\",fontsize=20)\n",
    "plt.ylabel(r\" $Dl^*$    ($\\sqrt{bar} cm / \\sqrt{cm}$)\",fontsize=20)\n",
    "plt.tight_layout()\n",
    "#plt.savefig(\"/Users/austinmcdonald/Desktop/DslashSTARBAR\"+\".png\")\n",
    "plt.show()"
   ]
  },
  {
   "cell_type": "code",
   "execution_count": null,
   "metadata": {
    "collapsed": true
   },
   "outputs": [],
   "source": []
  },
  {
   "cell_type": "code",
   "execution_count": null,
   "metadata": {
    "collapsed": true
   },
   "outputs": [],
   "source": [
    "def TTtot(P, E, mu):\n",
    "    K = 0.4/300\n",
    "    deff=14.3\n",
    "    TT = (P/mu)*(K + deff/E)\n",
    "    return TT\n",
    "\n",
    "def Ttot(X, mu):\n",
    "    P,E = X\n",
    "    K = 0.4/300\n",
    "    deff=14.3\n",
    "    TT = (P/mu)*(K + deff/E)\n",
    "    return TT"
   ]
  },
  {
   "cell_type": "code",
   "execution_count": null,
   "metadata": {
    "collapsed": true
   },
   "outputs": [],
   "source": [
    "def Vel(Redu, time):\n",
    "    d = 143+4\n",
    "    D = d/time\n",
    "    sort_index = np.argsort(Redu)\n",
    "    Re = Redu[sort_index]\n",
    "    D  = D[sort_index]\n",
    "    return  Re, D"
   ]
  },
  {
   "cell_type": "code",
   "execution_count": null,
   "metadata": {
    "collapsed": true
   },
   "outputs": [],
   "source": [
    "plt.figure(figsize=(8,8))\n",
    "#for q in range(0,len(GOLDD)):\n",
    "#for q in range(0,7):\n",
    "for q in [6]:\n",
    "    lab = PERCT[q]+'%Xe'\n",
    "    color = COL[q]\n",
    "    \n",
    "    Dt = (ANODE[q][:,0] - GOLDD[q][:,0])*1e6\n",
    "    sig = ((ANODE[q][:,1]*1e6))**2 -((GOLDD[q][:,1]*1e6))**2\n",
    "\n",
    "    K = 4/300\n",
    "    deff=143\n",
    "    X = PRE[q]*(K+deff/EFID[q])\n",
    "    Y = Dt\n",
    "    #params,er = optimize.curve_fit(Ttot, (PRE[q],EFID[q]), Y)\n",
    "    \n",
    "    #sort_index = np.argsort(Dt)\n",
    "    #XX = Dt[sort_index]\n",
    "    #YY  = Ttot((PRE[q],EFID[q]),0.00299782)[sort_index]\n",
    " \n",
    "    #plt.plot(XX,YY)\n",
    "    plt.scatter(REDU[q],(X/Y)*REDU[q])\n",
    "    X,V = Vel(REDU[q],Dt)\n",
    "    plt.scatter(X,V,color='r')\n",
    "#plt.semilogx()\n",
    "#plt.loglog()    \n",
    "#plt.ylim(3e4,5e5)\n",
    "#plt.ylim(3e6,5e7)\n",
    "#plt.ylim(0,3000)\n",
    "#plt.ylim(0.0,0.15)\n",
    "#plt.ylim(0.025,0.225)\n",
    "plt.ylim(0.8,1.2)\n",
    "#plt.xlim(0,230)\n",
    "#plt.legend(loc='upper right',fontsize=14,ncol=3)\n",
    "plt.xticks(fontsize=24)\n",
    "plt.yticks(fontsize=24)\n",
    "#plt.xlabel(\"Reduced field\",fontsize=20)\n",
    "#plt.ylabel(r\" Dl   ($\\sqrt{bar} \\mu m / \\sqrt{cm}$)\",fontsize=20)\n",
    "#plt.ylabel(r\" $Dl^*$    ($\\sqrt{bar} cm / \\sqrt{cm}$)\",fontsize=20)\n",
    "plt.tight_layout()\n",
    "#plt.savefig(\"/Users/austinmcdonald/Desktop/DslashSTARBAR\"+\".png\")\n",
    "plt.show()"
   ]
  },
  {
   "cell_type": "code",
   "execution_count": null,
   "metadata": {
    "collapsed": true
   },
   "outputs": [],
   "source": [
    "params"
   ]
  },
  {
   "cell_type": "code",
   "execution_count": null,
   "metadata": {
    "collapsed": true
   },
   "outputs": [],
   "source": [
    "K"
   ]
  },
  {
   "cell_type": "code",
   "execution_count": null,
   "metadata": {
    "collapsed": true
   },
   "outputs": [],
   "source": [
    "K/0.00299782"
   ]
  },
  {
   "cell_type": "code",
   "execution_count": null,
   "metadata": {
    "collapsed": true
   },
   "outputs": [],
   "source": [
    "plt.figure(figsize=(8,8))\n",
    "#for q in range(0,len(GOLDD)):\n",
    "#for q in range(0,7):\n",
    "for q in [6]:\n",
    "\n",
    "    Dt = (ANODE[q][:,0] - GOLDD[q][:,0])*1e6\n",
    "    sig = ((ANODE[q][:,1]*1e6))**2 -((GOLDD[q][:,1]*1e6))**2\n",
    "\n",
    "    #X,Y = DlSstar(REDU[q],sig,Dt,PRE[q])\n",
    "    \n",
    "    lab = PERCT[q]+'%Xe'\n",
    "    color = COL[q]\n",
    "    \n",
    "    ttt = (Dt+0.44476764226449)#*PRE[q]\n",
    "    Xx,Yy = DlSstar(REDU[q],sig,ttt,PRE[q])\n",
    "    plt.scatter(Xx,Yy,label=lab,s=40,color='r',alpha=0.6)\n",
    "    #plt.scatter(X,Y,label=lab,s=30,color='r',alpha=0.6)\n",
    "\n",
    "#plt.semilogx()\n",
    "#plt.loglog()    \n",
    "#plt.ylim(3e4,5e5)\n",
    "#plt.ylim(3e6,5e7)\n",
    "#plt.ylim(0,3000)\n",
    "#plt.ylim(0.0,0.15)\n",
    "#plt.ylim(0.025,0.225)\n",
    "\n",
    "plt.xlim(0,230)\n",
    "plt.legend(loc='upper right',fontsize=14,ncol=3)\n",
    "plt.xticks(fontsize=24)\n",
    "plt.yticks(fontsize=24)\n",
    "plt.xlabel(\"Reduced field\",fontsize=20)\n",
    "#plt.ylabel(r\" Dl   ($\\sqrt{bar} \\mu m / \\sqrt{cm}$)\",fontsize=20)\n",
    "plt.ylabel(r\" $Dl^*$    ($\\sqrt{bar} cm / \\sqrt{cm}$)\",fontsize=20)\n",
    "plt.tight_layout()\n",
    "#plt.savefig(\"/Users/austinmcdonald/Desktop/DslashSTARBAR\"+\".png\")\n",
    "plt.show()"
   ]
  },
  {
   "cell_type": "code",
   "execution_count": null,
   "metadata": {
    "collapsed": true
   },
   "outputs": [],
   "source": [
    "er"
   ]
  },
  {
   "cell_type": "code",
   "execution_count": null,
   "metadata": {
    "collapsed": true
   },
   "outputs": [],
   "source": []
  },
  {
   "cell_type": "code",
   "execution_count": null,
   "metadata": {
    "collapsed": true
   },
   "outputs": [],
   "source": []
  },
  {
   "cell_type": "code",
   "execution_count": null,
   "metadata": {
    "collapsed": true
   },
   "outputs": [],
   "source": [
    "def func(t,t0,sig,a,c,tau):\n",
    "    #tau = 123e-6\n",
    "    A = (sig**2-2*(t-t0)*tau)/(2*tau**2)\n",
    "    B = (-sig**2 +(t-t0)*tau)/(np.sqrt(2)*tau*sig)\n",
    "    C = np.exp(A)\n",
    "    D = (1 + erf(B))\n",
    "    E = a*C*D+c\n",
    "    return E\n",
    "\n",
    "def func2(t,t0,sig,a,c,tau):\n",
    "    #tau = 123e-6\n",
    "    A = (sig**2-2*(t-t0)*tau)/(2*tau**2)\n",
    "    B = (-sig**2 +(t-t0)*tau)/(np.sqrt(2)*tau*sig)\n",
    "    C = np.exp(A)\n",
    "    D = (1 + erf(B))\n",
    "    E = a*C*D+c\n",
    "    return [E,A,B,C,D]"
   ]
  },
  {
   "cell_type": "code",
   "execution_count": null,
   "metadata": {
    "collapsed": true
   },
   "outputs": [],
   "source": []
  },
  {
   "cell_type": "code",
   "execution_count": null,
   "metadata": {
    "collapsed": true
   },
   "outputs": [],
   "source": [
    "sigmas = np.array([0.1,1,5,10,20,50,100,200,300,600])"
   ]
  },
  {
   "cell_type": "code",
   "execution_count": null,
   "metadata": {
    "collapsed": true
   },
   "outputs": [],
   "source": [
    "plt.figure(figsize=(10,7))\n",
    "xvals = np.linspace(-0.5e-3,1e-3,10000)\n",
    "for x in range(0,len(sigmas)):\n",
    "    yvals = func(xvals,0,sigmas[x]*1e-6,1,0,200e-6)\n",
    "    lab = 'sigma = '+str(sigmas[x])+' mus'\n",
    "    plt.plot(xvals*1e6,yvals, linewidth=3,alpha=0.6,label=lab)\n",
    "\n",
    "plt.legend(loc=\"upper right\", fontsize=15)\n",
    "plt.text(-400,.5,\"tau = 200\",fontsize=15)\n",
    "plt.axvline(0,color='lime',linestyle=\":\")\n",
    "plt.show()"
   ]
  },
  {
   "cell_type": "code",
   "execution_count": null,
   "metadata": {
    "collapsed": true
   },
   "outputs": [],
   "source": [
    "plt.figure(figsize=(10,7))\n",
    "xvals = np.linspace(-0.5e-3,1e-3,10000)\n",
    "for x in range(0,len(sigmas)):\n",
    "    yvals = func(xvals,0,sigmas[x]*1e-6,1,0,200e-6)\n",
    "    lab = 'sigma = '+str(sigmas[x])+' mus'\n",
    "    Nor = max(yvals)\n",
    "    MaxArg=np.argmax(yvals)\n",
    "    xa1=xvals-xvals[MaxArg]\n",
    "    plt.plot(xvals*1e6,yvals/Nor, linewidth=3,alpha=0.6,label=lab)\n",
    "\n",
    "plt.legend(loc=\"upper right\", fontsize=15)\n",
    "plt.text(-400,.5,\"tau = 200\",fontsize=15)\n",
    "plt.axvline(0,color='lime',linestyle=\":\")\n",
    "plt.show()"
   ]
  },
  {
   "cell_type": "code",
   "execution_count": null,
   "metadata": {
    "collapsed": true
   },
   "outputs": [],
   "source": [
    "plt.figure(figsize=(10,7))\n",
    "xvals = np.linspace(-0.5e-3,1e-3,10000)\n",
    "for x in range(0,len(sigmas)):\n",
    "    yvals = func(xvals,0,sigmas[x]*1e-6,1,0,200e-6)\n",
    "    lab = 'sigma = '+str(sigmas[x])+' mus'\n",
    "    plt.plot(xvals*1e6,yvals, linewidth=3,alpha=0.6,label=lab)\n",
    "\n",
    "plt.legend(loc=\"upper left\", fontsize=13)\n",
    "plt.axvline(0,color='lime',linestyle=\":\")\n",
    "plt.xlim(-20,20)\n",
    "plt.show()"
   ]
  },
  {
   "cell_type": "code",
   "execution_count": null,
   "metadata": {
    "collapsed": true
   },
   "outputs": [],
   "source": []
  },
  {
   "cell_type": "code",
   "execution_count": null,
   "metadata": {
    "collapsed": true
   },
   "outputs": [],
   "source": [
    "Taus = np.array([6,10,100,200,400,1000,10000])\n",
    "#Taus = np.array([5,6,7,8,9,10])"
   ]
  },
  {
   "cell_type": "code",
   "execution_count": null,
   "metadata": {
    "collapsed": true
   },
   "outputs": [],
   "source": [
    "plt.figure(figsize=(10,7))\n",
    "xvals = np.linspace(-0.5e-3,1e-3,1000)\n",
    "for x in range(0,len(Taus)):\n",
    "    yvals = func(xvals,0,50e-6,1,0,Taus[x]*1e-6)\n",
    "    lab = 'Tau = '+str(Taus[x])+' mus'\n",
    "    plt.plot(xvals*1e6,yvals, linewidth=3,alpha=0.6,label=lab)\n",
    "\n",
    "plt.legend(loc=\"upper left\", fontsize=15)\n",
    "#plt.text(-500,0.5,\"sigma = 50 mus\",fontsize=15)\n",
    "plt.xlim(-200,200)\n",
    "plt.show()"
   ]
  },
  {
   "cell_type": "code",
   "execution_count": null,
   "metadata": {
    "collapsed": true
   },
   "outputs": [],
   "source": [
    "xvals = np.linspace(-0.5e-3,1e-3,1000)\n",
    "for x in range(0,len(Taus)):\n",
    "    E,A,B,C,D = func2(xvals,0,50e-6,1,0,Taus[x]*1e-6)\n",
    "    lab = 'Tau = '+str(Taus[x])+' mus'\n",
    "    plt.plot(xvals*1e6,A, linewidth=3,alpha=0.6,label=lab)\n",
    "   # plt.semilogy()"
   ]
  },
  {
   "cell_type": "code",
   "execution_count": null,
   "metadata": {
    "collapsed": true
   },
   "outputs": [],
   "source": [
    "plt.figure(figsize=(10,7))\n",
    "xvals = np.linspace(-0.5e-3,1e-3,1000)\n",
    "for x in range(0,len(Taus)):\n",
    "    yvals = func(xvals,0,50e-6,1,0,Taus[x]*1e-6)\n",
    "    lab = 'Tau = '+str(Taus[x])+' mus'\n",
    "    Nor = max(yvals)\n",
    "    MaxArg=np.argmax(yvals)\n",
    "    xa1=xvals-xvals[MaxArg]\n",
    "    plt.plot(xa1*1e6,yvals/Nor, linewidth=3,alpha=0.6,label=lab)\n",
    "\n",
    "plt.legend(loc=\"upper left\", fontsize=15)\n",
    "plt.text(-500,0.5,\"sigma = 50 mus\",fontsize=15)\n",
    "plt.show()"
   ]
  },
  {
   "cell_type": "code",
   "execution_count": null,
   "metadata": {
    "collapsed": true
   },
   "outputs": [],
   "source": [
    "plt.figure(figsize=(10,7))\n",
    "xvals = np.linspace(-0.5e-3,1e-3,1000)\n",
    "for x in range(0,len(Taus)):\n",
    "    yvals = func(xvals,0,50e-6,1,0,Taus[x]*1e-6)\n",
    "    lab = 'Tau = '+str(Taus[x])+' mus'\n",
    "    Nor = max(yvals)\n",
    "    MaxArg=np.argmax(yvals)\n",
    "    xa1=xvals-xvals[MaxArg]\n",
    "    plt.plot(xa1*1e6,yvals/Nor, linewidth=3,alpha=0.6,label=lab)\n",
    "\n",
    "#plt.legend(loc=\"upper left\", fontsize=15)\n",
    "#plt.text(-500,0.5,\"sigma = 50 mus\",fontsize=15)\n",
    "plt.xlim(-400,400)\n",
    "plt.show()"
   ]
  },
  {
   "cell_type": "code",
   "execution_count": null,
   "metadata": {
    "collapsed": true
   },
   "outputs": [],
   "source": [
    "plt.figure(figsize=(10,7))\n",
    "xvals = np.linspace(-0.5e-3,1e-3,1000)\n",
    "for x in range(0,len(Taus)):\n",
    "    yvals = func(xvals,0,50e-6,1,0,Taus[x]*1e-6)\n",
    "    lab = 'Tau = '+str(Taus[x])+' mus'\n",
    "    plt.plot(xvals*1e6,yvals, linewidth=3,alpha=0.6,label=lab)\n",
    "\n",
    "plt.legend(loc=\"upper left\", fontsize=15)\n",
    "#plt.text(-500,0.5,\"sigma = 50 mus\",fontsize=15)\n",
    "plt.ylim(0,0.25)\n",
    "plt.show()"
   ]
  },
  {
   "cell_type": "code",
   "execution_count": null,
   "metadata": {
    "collapsed": true
   },
   "outputs": [],
   "source": [
    "vars=np.arange(-5,5,0.01)\n",
    "plt.plot(erf(vars))"
   ]
  },
  {
   "cell_type": "code",
   "execution_count": null,
   "metadata": {
    "collapsed": true
   },
   "outputs": [],
   "source": []
  },
  {
   "cell_type": "code",
   "execution_count": null,
   "metadata": {
    "collapsed": true
   },
   "outputs": [],
   "source": []
  },
  {
   "cell_type": "code",
   "execution_count": null,
   "metadata": {
    "collapsed": true
   },
   "outputs": [],
   "source": []
  },
  {
   "cell_type": "code",
   "execution_count": null,
   "metadata": {
    "collapsed": true
   },
   "outputs": [],
   "source": []
  },
  {
   "cell_type": "code",
   "execution_count": null,
   "metadata": {
    "collapsed": true
   },
   "outputs": [],
   "source": []
  },
  {
   "cell_type": "code",
   "execution_count": null,
   "metadata": {
    "collapsed": true
   },
   "outputs": [],
   "source": []
  },
  {
   "cell_type": "code",
   "execution_count": null,
   "metadata": {
    "collapsed": true
   },
   "outputs": [],
   "source": []
  },
  {
   "cell_type": "code",
   "execution_count": null,
   "metadata": {
    "collapsed": true
   },
   "outputs": [],
   "source": []
  },
  {
   "cell_type": "code",
   "execution_count": null,
   "metadata": {
    "collapsed": true
   },
   "outputs": [],
   "source": []
  },
  {
   "cell_type": "code",
   "execution_count": null,
   "metadata": {
    "collapsed": true
   },
   "outputs": [],
   "source": []
  },
  {
   "cell_type": "code",
   "execution_count": null,
   "metadata": {
    "collapsed": true
   },
   "outputs": [],
   "source": []
  },
  {
   "cell_type": "code",
   "execution_count": null,
   "metadata": {
    "collapsed": true
   },
   "outputs": [],
   "source": []
  },
  {
   "cell_type": "code",
   "execution_count": null,
   "metadata": {
    "collapsed": true
   },
   "outputs": [],
   "source": []
  },
  {
   "cell_type": "code",
   "execution_count": null,
   "metadata": {
    "collapsed": true
   },
   "outputs": [],
   "source": []
  },
  {
   "cell_type": "code",
   "execution_count": null,
   "metadata": {
    "collapsed": true
   },
   "outputs": [],
   "source": []
  },
  {
   "cell_type": "code",
   "execution_count": null,
   "metadata": {
    "collapsed": true
   },
   "outputs": [],
   "source": [
    "PRE[q]"
   ]
  },
  {
   "cell_type": "code",
   "execution_count": null,
   "metadata": {
    "collapsed": true
   },
   "outputs": [],
   "source": [
    "for x, y, c, m in zip(datas[:,0], datas[:,1], colors, markers)\n",
    "    ax.scatter(x, y, alpha=0.8, c=c,marker=m) "
   ]
  },
  {
   "cell_type": "code",
   "execution_count": null,
   "metadata": {
    "collapsed": true
   },
   "outputs": [],
   "source": [
    "x = [0,1,2]\n",
    "y = [0,1,2]\n",
    "m = ['<','s','D']\n",
    "for x, y, m in zip(x, y, m):\n",
    "    plt.scatter(x, y, alpha=0.8,marker=m) "
   ]
  },
  {
   "cell_type": "code",
   "execution_count": null,
   "metadata": {
    "collapsed": true
   },
   "outputs": [],
   "source": [
    "np.rint(PRE[q])"
   ]
  },
  {
   "cell_type": "code",
   "execution_count": null,
   "metadata": {
    "collapsed": true
   },
   "outputs": [],
   "source": []
  },
  {
   "cell_type": "code",
   "execution_count": null,
   "metadata": {
    "collapsed": true
   },
   "outputs": [],
   "source": []
  },
  {
   "cell_type": "code",
   "execution_count": null,
   "metadata": {
    "collapsed": true
   },
   "outputs": [],
   "source": [
    "plt.figure(figsize=(8,8))\n",
    "#for q in range(0,len(GOLDD)):\n",
    "for q in range(0,7):\n",
    "\n",
    "    Dt = (ANODE[q][:,0] - GOLDD[q][:,0])*1e6\n",
    "    sig = ((ANODE[q][:,1]*1e6))**2 -((GOLDD[q][:,1]*1e6))**2\n",
    "    sig = ((ANODE[q][:,1]*1e6))**2\n",
    "    #SigmaA.append(sig.tolist())\n",
    "\n",
    "    #dd = 13.49*1e4\n",
    "    dd = 15.12*1e4\n",
    "    \n",
    "    mu = Vd/EFID[q]\n",
    "    X = REDU[q]#2*dd/(PRE[q]*REDU[q])#DlStar[q]\n",
    "    ds = 15.12\n",
    "    t = Dt\n",
    "    #Y = dd**2/(2*Dt**3)*sig\n",
    "    Y = (sig*ds**2)/(2*t**3)*1e6 # Dl slash\n",
    "    DlSlash = Y\n",
    "    Y = (DlSlash*1e8)\n",
    "    #Y = ((sig*ds**2)/(2*t**3))/((ds/t)**2) # Dl slash/V**2\n",
    "    #Y = (sig)/(2*Dt) # Dl\n",
    "    #Y = sig\n",
    "    #Y = Dt\n",
    "    #ds = 151.2\n",
    "    #Y = ds/t\n",
    "    VVd = (15.12/Dt)*1e6\n",
    "\n",
    "    Y = np.sqrt(2*Y/VVd)#*np.sqrt(PRE[q])#*np.sqrt(273/296)\n",
    "    #sort_index = np.argsort(X)\n",
    "    #X = X[sort_index]\n",
    "    #Y = Y[sort_index]\n",
    "    lab = PERCT[q]+'%Xe'\n",
    "    plt.scatter(X,Y,label=lab)\n",
    "    #DlErr  = 0.5*np.sqrt(6*(0.01)**2+3*(0.3/15.12)**2+(0.01/PRE[q])**2)\n",
    "    #Yer = Y*0.1#DlErr\n",
    "    #plt.errorbar(X,Y,yerr=Yer,fmt='none', capthick=1)\n",
    "    \n",
    "    #plt.plot(X,Y)\n",
    "    #plt.plot(PRE[q],((GOLDD[q][:,1]*1e6))**2,'o')\n",
    "    #plt.plot(PRE[q],((ANODE[q][:,1]*1e6))**2,'x')\n",
    "#plt.semilogx()\n",
    "#plt.loglog()    \n",
    "#plt.ylim(3e4,5e5)\n",
    "#plt.ylim(3e6,5e7)\n",
    "\n",
    "plt.ylim(1200,2200)\n",
    "#plt.ylim(0.025,1)\n",
    "plt.xlim(0,230)\n",
    "plt.legend(loc='upper right',fontsize=14,ncol=3)\n",
    "plt.xticks(fontsize=24)\n",
    "plt.yticks(fontsize=24)\n",
    "plt.xlabel(\"Reduced field\",fontsize=20)\n",
    "#plt.ylabel(r\" Dl   ($\\sqrt{bar} \\mu m / \\sqrt{cm}$)\",fontsize=20)\n",
    "plt.ylabel(r\" $Dl^*$ slash   ($\\mu m / \\sqrt{cm}$)\",fontsize=20)\n",
    "plt.tight_layout()\n",
    "#plt.savefig(\"/Users/austinmcdonald/Desktop/DslashSTAR\"+\".png\")\n",
    "plt.show()"
   ]
  },
  {
   "cell_type": "code",
   "execution_count": null,
   "metadata": {
    "collapsed": true
   },
   "outputs": [],
   "source": [
    "Y"
   ]
  },
  {
   "cell_type": "code",
   "execution_count": null,
   "metadata": {
    "collapsed": true
   },
   "outputs": [],
   "source": [
    "PERCT"
   ]
  },
  {
   "cell_type": "code",
   "execution_count": null,
   "metadata": {
    "collapsed": true
   },
   "outputs": [],
   "source": [
    "sig"
   ]
  },
  {
   "cell_type": "code",
   "execution_count": null,
   "metadata": {
    "collapsed": true
   },
   "outputs": [],
   "source": [
    "Y/(((ds/t)*1e6)**2)"
   ]
  },
  {
   "cell_type": "code",
   "execution_count": null,
   "metadata": {
    "collapsed": true
   },
   "outputs": [],
   "source": []
  },
  {
   "cell_type": "code",
   "execution_count": null,
   "metadata": {
    "collapsed": true
   },
   "outputs": [],
   "source": [
    "DlStar = dict()\n",
    "DlSerr = dict()\n",
    "Vel = dict()\n",
    "VelErr=dict()\n",
    "REDUerr=dict()\n",
    "SigmaA = []\n",
    "SigmaG = []\n",
    "for q in range(0,len(GOLDD)):\n",
    "\n",
    "    Dt = (ANODE[q][:,0] - GOLDD[q][:,0])*1e6\n",
    "    sig = ((ANODE[q][:,1]*1e6))**2 -((GOLDD[q][:,1]*1e6))**2\n",
    "    gig = ((GOLDD[q][:,1]*1e6))**2\n",
    "    sig = ((ANODE[q][:,1]*1e6))**2\n",
    "    SigmaA.append(sig.tolist())\n",
    "    SigmaG.append(gig.tolist())\n",
    "    #sig = ((ANODE[:,1]*1e6))**2 \n",
    "\n",
    "    dd = 13.49*1e4\n",
    "    dd = 15.12*1e4\n",
    "    Dlong = sig*0.5*dd**2/Dt**3\n",
    "    Dlong = sig*dd**2/Dt**3\n",
    "    Vd = 15.12/Dt\n",
    "    Vel[q] = 151.2/Dt\n",
    "    VelErr[q]  = np.sqrt((0.3/15.12)**2+(0.01/PRE[q])**2)\n",
    "    \n",
    "    Dlstar = np.sqrt(2*Dlong/Vd)*np.sqrt(PRE[q])*np.sqrt(273/296)\n",
    "    DlErr  = 0.5*np.sqrt(6*(0.01)**2+3*(0.3/15.12)**2+(0.01/PRE[q])**2)\n",
    "    DlStar[q] = Dlstar\n",
    "    DlSerr[q] = DlErr"
   ]
  },
  {
   "cell_type": "code",
   "execution_count": null,
   "metadata": {
    "collapsed": true
   },
   "outputs": [],
   "source": []
  },
  {
   "cell_type": "code",
   "execution_count": null,
   "metadata": {
    "collapsed": true
   },
   "outputs": [],
   "source": [
    "SigmaG = [item for sublist in SigmaG for item in sublist]\n",
    "SigmaA = [item for sublist in SigmaA for item in sublist]"
   ]
  },
  {
   "cell_type": "code",
   "execution_count": null,
   "metadata": {
    "collapsed": true
   },
   "outputs": [],
   "source": [
    "bb = np.linspace(0,25,30)\n",
    "plt.hist(SigmaG,bins=bb)\n",
    "plt.show()\n",
    "\n",
    "\n",
    "bb = np.linspace(0,1e3,30)\n",
    "plt.hist(SigmaA,bins=bb)\n",
    "plt.show()"
   ]
  },
  {
   "cell_type": "code",
   "execution_count": null,
   "metadata": {
    "collapsed": true
   },
   "outputs": [],
   "source": []
  },
  {
   "cell_type": "code",
   "execution_count": null,
   "metadata": {
    "collapsed": true
   },
   "outputs": [],
   "source": []
  },
  {
   "cell_type": "code",
   "execution_count": null,
   "metadata": {
    "collapsed": true
   },
   "outputs": [],
   "source": [
    "COL =['b','g','r','m','y','c','k','lime','orange','steelblue','pink','blue']\n",
    "#plt.figure(figsize=(9,9))\n",
    "fig1, ax1 = plt.subplots(figsize=(9,9))\n",
    "#for q in range(0,len(GOLDD)):\n",
    "for q in range(0,len(GOLDD)):\n",
    "    lab = PERCT[q]+'%Xe'+' '+str(100-int(PERCT[q]))+'%Ar'\n",
    "    ax1.scatter(REDU[q],Vel[q],color=COL[q],label=lab)\n",
    "    Yer = Vel[q]*VelErr[q]\n",
    "    Xer = REDU[q]*VelErr[q]\n",
    "    ax1.errorbar(REDU[q],Vel[q],xerr=Xer,yerr=Yer,ecolor=COL[q],fmt='none', capthick=1)\n",
    "\n",
    "ax1.set_xscale('log')\n",
    "ax1.set_xticks([7,10,20,40,60,100, 200, 500])\n",
    "ax1.tick_params(axis='both', which='major', labelsize=24)\n",
    "ax1.get_xaxis().set_major_formatter(matplotlib.ticker.ScalarFormatter())\n",
    "\n",
    "ax1.set_xlabel(r'Reduced Drift Field (V/cm/Bar)',fontsize=26)\n",
    "ax1.set_ylabel(r'Drift Velocity (mm/$\\mu$s)',fontsize=26)\n",
    "ax1.grid()\n",
    "ax1.legend(loc='upper right',fontsize=14,ncol=3)\n",
    "\n",
    "plt.ylim(0,3.4)\n",
    "plt.xlim(6,300)\n",
    "plt.tight_layout()\n",
    "#plt.savefig(\"/Users/austinmcdonald/Desktop/Vdrift\"+\"ALL\"+\".png\")\n",
    "\n",
    "plt.show()"
   ]
  },
  {
   "cell_type": "code",
   "execution_count": null,
   "metadata": {
    "collapsed": true
   },
   "outputs": [],
   "source": []
  },
  {
   "cell_type": "code",
   "execution_count": null,
   "metadata": {
    "collapsed": true
   },
   "outputs": [],
   "source": [
    "MBZV = np.load(\"/Users/austinmcdonald/Documents/Gas-physics/MB-XeArHe/MBV-Error-XeAr.npy\")"
   ]
  },
  {
   "cell_type": "code",
   "execution_count": null,
   "metadata": {
    "collapsed": true
   },
   "outputs": [],
   "source": []
  },
  {
   "cell_type": "code",
   "execution_count": null,
   "metadata": {
    "collapsed": true
   },
   "outputs": [],
   "source": [
    "COL =['b','g','r','m','y','c','k','lime','orange','steelblue','pink','blue']\n",
    "#plt.figure(figsize=(9,9))\n",
    "fig1, ax1 = plt.subplots(figsize=(9,9))\n",
    "#for q in range(0,len(GOLDD)):\n",
    "for q in range(0,len(GOLDD)-2):\n",
    "    lab = PERCT[q+1]+'%Xe'+' '+str(100-int(PERCT[q+1]))+'%Ar'\n",
    "    ax1.scatter(REDU[q+1],Vel[q+1],color=COL[q],label=lab)\n",
    "    Yer = Vel[q+1]*VelErr[q+1]\n",
    "    Xer = REDU[q+1]*VelErr[q+1]\n",
    "    ax1.errorbar(REDU[q+1],Vel[q+1],xerr=Xer,yerr=Yer,ecolor=COL[q],fmt='none', capthick=1)\n",
    "    \n",
    "    eh1 =q*3\n",
    "    eh2 =q*3+1\n",
    "    eh3 =q*3+2\n",
    "    X = MBZV[eh1]\n",
    "    Y1 = MBZV[eh2]\n",
    "    Y2 = MBZV[eh3]\n",
    "    ax1.fill_between(X,Y1,Y2,facecolor=COL[q],alpha=0.2, interpolate=True)\n",
    "\n",
    "    \n",
    "ax1.set_xscale('log')\n",
    "ax1.set_xticks([7,20,40,60,100, 200, 500])\n",
    "ax1.tick_params(axis='both', which='major', labelsize=24)\n",
    "ax1.get_xaxis().set_major_formatter(matplotlib.ticker.ScalarFormatter())\n",
    "\n",
    "ax1.set_xlabel(r'Reduced Drift Field (V/cm/Bar)',fontsize=26)\n",
    "ax1.set_ylabel(r'Drift Velocity (mm/$\\mu$s)',fontsize=26)\n",
    "ax1.grid()\n",
    "ax1.legend(loc='upper right',fontsize=14,ncol=3)\n",
    "\n",
    "plt.ylim(0,3.4)\n",
    "plt.xlim(7,300)\n",
    "plt.tight_layout()\n",
    "#plt.savefig(\"/Users/austinmcdonald/Desktop/Vdrift\"+\"ALL\"+\".png\")\n",
    "\n",
    "plt.show()"
   ]
  },
  {
   "cell_type": "code",
   "execution_count": null,
   "metadata": {
    "collapsed": true
   },
   "outputs": [],
   "source": []
  },
  {
   "cell_type": "code",
   "execution_count": null,
   "metadata": {
    "collapsed": true
   },
   "outputs": [],
   "source": []
  },
  {
   "cell_type": "code",
   "execution_count": null,
   "metadata": {
    "collapsed": true
   },
   "outputs": [],
   "source": []
  },
  {
   "cell_type": "code",
   "execution_count": null,
   "metadata": {
    "collapsed": true
   },
   "outputs": [],
   "source": []
  },
  {
   "cell_type": "code",
   "execution_count": null,
   "metadata": {
    "collapsed": true
   },
   "outputs": [],
   "source": []
  },
  {
   "cell_type": "code",
   "execution_count": null,
   "metadata": {
    "collapsed": true
   },
   "outputs": [],
   "source": []
  },
  {
   "cell_type": "code",
   "execution_count": null,
   "metadata": {
    "collapsed": true
   },
   "outputs": [],
   "source": []
  },
  {
   "cell_type": "code",
   "execution_count": null,
   "metadata": {
    "collapsed": true
   },
   "outputs": [],
   "source": []
  },
  {
   "cell_type": "code",
   "execution_count": null,
   "metadata": {
    "collapsed": true
   },
   "outputs": [],
   "source": []
  },
  {
   "cell_type": "code",
   "execution_count": null,
   "metadata": {
    "collapsed": true
   },
   "outputs": [],
   "source": []
  },
  {
   "cell_type": "code",
   "execution_count": null,
   "metadata": {
    "collapsed": true
   },
   "outputs": [],
   "source": []
  },
  {
   "cell_type": "code",
   "execution_count": null,
   "metadata": {
    "collapsed": true
   },
   "outputs": [],
   "source": []
  },
  {
   "cell_type": "code",
   "execution_count": null,
   "metadata": {
    "collapsed": true
   },
   "outputs": [],
   "source": []
  },
  {
   "cell_type": "code",
   "execution_count": null,
   "metadata": {
    "collapsed": true
   },
   "outputs": [],
   "source": []
  },
  {
   "cell_type": "code",
   "execution_count": null,
   "metadata": {
    "collapsed": true
   },
   "outputs": [],
   "source": []
  },
  {
   "cell_type": "code",
   "execution_count": null,
   "metadata": {
    "collapsed": true
   },
   "outputs": [],
   "source": []
  },
  {
   "cell_type": "code",
   "execution_count": null,
   "metadata": {
    "collapsed": true
   },
   "outputs": [],
   "source": []
  },
  {
   "cell_type": "code",
   "execution_count": null,
   "metadata": {
    "collapsed": true
   },
   "outputs": [],
   "source": []
  },
  {
   "cell_type": "code",
   "execution_count": null,
   "metadata": {
    "collapsed": true
   },
   "outputs": [],
   "source": []
  },
  {
   "cell_type": "code",
   "execution_count": null,
   "metadata": {
    "collapsed": true
   },
   "outputs": [],
   "source": []
  },
  {
   "cell_type": "code",
   "execution_count": null,
   "metadata": {
    "collapsed": true
   },
   "outputs": [],
   "source": [
    "MBZ = np.load(\"/Users/austinmcdonald/Documents/Gas-physics/MB-XeAr-Dl.npy\")"
   ]
  },
  {
   "cell_type": "code",
   "execution_count": null,
   "metadata": {
    "collapsed": true
   },
   "outputs": [],
   "source": [
    "len(MBZ)"
   ]
  },
  {
   "cell_type": "code",
   "execution_count": null,
   "metadata": {
    "collapsed": true
   },
   "outputs": [],
   "source": [
    "COL =['b','g','r','m','y','c','k','lime','orange','steelblue','pink','blue']\n",
    "len(COL)"
   ]
  },
  {
   "cell_type": "code",
   "execution_count": null,
   "metadata": {
    "collapsed": true
   },
   "outputs": [],
   "source": [
    "len(GOLDD)"
   ]
  },
  {
   "cell_type": "code",
   "execution_count": null,
   "metadata": {
    "collapsed": true
   },
   "outputs": [],
   "source": [
    "COL =['b','g','r','m','y','c','k','lime','orange','steelblue','pink','blue']\n",
    "plt.figure(figsize=(9,9))\n",
    "for q in range(0,len(GOLDD)):\n",
    "    plt.scatter(REDU[q],DlStar[q],label=PERCT[q],color=COL[q])\n",
    "\n",
    "    Yer = DlStar[q]*0.027655\n",
    "    Yer = DlStar[q]*DlSerr[q]\n",
    "    Xer = REDU[q]*VelErr[q]\n",
    "    plt.errorbar(REDU[q],DlStar[q],xerr=Xer,yerr=Yer,fmt='none', capthick=1,color=COL[q])\n",
    "\n",
    "        \n",
    "    eh1 =q*3\n",
    "    eh2 =q*3+1\n",
    "    eh3 =q*3+2\n",
    "    X = MBZ[eh1]\n",
    "    Y = MBZ[eh2]\n",
    "    Yer = MBZ[eh3]\n",
    "    plt.plot(MBZ[eh1],MBZ[eh2],color=COL[q],alpha=0.5,linewidth=2)\n",
    "    plt.fill_between(X,Y+Yer,Y-Yer,facecolor='k',alpha=0.3, interpolate=True)\n",
    "    \n",
    "    \n",
    "plt.xlabel(r'Reduced Drift Field ( V/cm/Bar )',fontsize=26)\n",
    "plt.ylabel(r'Longitudinal Diffusion  ( $\\sqrt{bar}$*$\\mu$m/$\\sqrt{cm}$ )',fontsize=26)\n",
    "plt.xticks(fontsize=24)\n",
    "plt.yticks(fontsize=24)\n",
    "#plt.xticks(np.arange(0, 400, 50.0))\n",
    "plt.grid()\n",
    "plt.legend(loc='upper right',fontsize=16,ncol=2)\n",
    "\n",
    "plt.ylim(0.5e3,5e3)\n",
    "plt.xlim(0,330)\n",
    "plt.show()"
   ]
  },
  {
   "cell_type": "code",
   "execution_count": null,
   "metadata": {
    "collapsed": true
   },
   "outputs": [],
   "source": [
    "len(GOLDD)"
   ]
  },
  {
   "cell_type": "code",
   "execution_count": null,
   "metadata": {
    "collapsed": true
   },
   "outputs": [],
   "source": []
  },
  {
   "cell_type": "code",
   "execution_count": null,
   "metadata": {
    "collapsed": true
   },
   "outputs": [],
   "source": []
  },
  {
   "cell_type": "code",
   "execution_count": null,
   "metadata": {
    "collapsed": true
   },
   "outputs": [],
   "source": []
  },
  {
   "cell_type": "code",
   "execution_count": null,
   "metadata": {
    "collapsed": true
   },
   "outputs": [],
   "source": [
    "COL =['b','g','r','m','y','c','k','lime','orange','steelblue','pink','blue']\n",
    "plt.figure(figsize=(9,9))\n",
    "#for q in range(0,len(GOLDD)):\n",
    "for q in [0,4,6]:\n",
    "   \n",
    "    plt.scatter(REDU[q],DlStar[q]/2.355,color=COL[q],label=PERCT[q])\n",
    "    eh1 =q*3\n",
    "    eh2 =q*3+1\n",
    "    eh3 =q*3+2\n",
    "    X = MBZ[eh1]\n",
    "    Y = MBZ[eh2]\n",
    "    Yer = MBZ[eh3]\n",
    "    #plt.plot(MBZ[eh1],MBZ[eh2],color=COL[q],alpha=0.5,linewidth=2)\n",
    "    plt.fill_between(X,Y+Yer,Y-Yer,facecolor=COL[q],alpha=0.2, interpolate=True)\n",
    "\n",
    "plt.xlabel(r'Reduced Drift Field ( V/cm/Bar )',fontsize=26)\n",
    "plt.ylabel(r'Longitudinal Diffusion  ( $\\sqrt{bar}$*$\\mu$m/$\\sqrt{cm}$ )',fontsize=26)\n",
    "plt.xticks(fontsize=24)\n",
    "plt.yticks(fontsize=24)\n",
    "#plt.xticks(np.arange(0, 400, 50.0))\n",
    "plt.grid()\n",
    "plt.legend(loc='upper right',fontsize=16,ncol=2)\n",
    "\n",
    "plt.ylim(0,3500)\n",
    "plt.xlim(0,330)\n",
    "plt.show()"
   ]
  },
  {
   "cell_type": "code",
   "execution_count": null,
   "metadata": {
    "collapsed": true
   },
   "outputs": [],
   "source": []
  },
  {
   "cell_type": "code",
   "execution_count": null,
   "metadata": {
    "collapsed": true
   },
   "outputs": [],
   "source": [
    "COL =['b','g','r','m','y','c','k','lime','orange','steelblue','pink','blue']\n",
    "plt.figure(figsize=(9,9))\n",
    "#for q in range(0,len(GOLDD)):\n",
    "for q in [0,2,6]:\n",
    "    lab = PERCT[q]+'%Xe'+' '+str(100-int(PERCT[q]))+'%Ar'\n",
    "\n",
    "    plt.scatter(REDU[q],DlStar[q]/2.355,color=COL[q],label=lab,s=30)\n",
    "    \n",
    "    #Xer = REDU[q]*0.0124479\n",
    "    Xer = REDU[q]*VelErr[q]\n",
    "    #Yer = DlStar[q]/2.355*0.027655\n",
    "    Yer = DlStar[q]/2.355*0.0422\n",
    "    Yer = DlStar[q]/2.355*0.098\n",
    "    Yer = DlStar[q]*DlSerr[q]/2.355\n",
    "\n",
    "    plt.errorbar(REDU[q],DlStar[q]/2.355,xerr=Xer,yerr=Yer,ecolor=COL[q],fmt='none', capthick=1)\n",
    "    \n",
    "    eh1 =q*3\n",
    "    eh2 =q*3+1\n",
    "    eh3 =q*3+2\n",
    "    X = MBZ[eh1]\n",
    "    Y = MBZ[eh2]\n",
    "    Yer = MBZ[eh3]\n",
    "    #plt.plot(MBZ[eh1],MBZ[eh2],color=COL[q],alpha=0.5,linewidth=2)\n",
    "    plt.fill_between(X,Y+Yer,Y-Yer,facecolor=COL[q],alpha=0.2, interpolate=True)\n",
    "    \n",
    "    \n",
    "plt.xlabel(r'Reduced Drift Field ( V/cm/Bar )',fontsize=26)\n",
    "plt.ylabel(r'Longitudinal Diffusion  ( $\\sqrt{bar}$*$\\mu$m/$\\sqrt{cm}$ )',fontsize=26)\n",
    "plt.xticks(fontsize=24)\n",
    "plt.yticks(fontsize=24)\n",
    "#plt.xticks(np.arange(0, 400, 50.0))\n",
    "plt.grid()\n",
    "plt.legend(loc='upper right',fontsize=22,ncol=1)\n",
    "\n",
    "plt.ylim(400,2100)\n",
    "plt.xlim(0,230)\n",
    "plt.tight_layout()\n",
    "#plt.savefig(\"/Users/austinmcdonald/Desktop/diff\"+\".png\")\n",
    "\n",
    "plt.show()"
   ]
  },
  {
   "cell_type": "code",
   "execution_count": null,
   "metadata": {
    "collapsed": true
   },
   "outputs": [],
   "source": []
  },
  {
   "cell_type": "code",
   "execution_count": null,
   "metadata": {
    "collapsed": true
   },
   "outputs": [],
   "source": [
    "len(DlStar[q]/2)"
   ]
  },
  {
   "cell_type": "code",
   "execution_count": null,
   "metadata": {
    "collapsed": true,
    "scrolled": false
   },
   "outputs": [],
   "source": [
    "COL =['b','g','r','m','y','c','k','lime','orange','steelblue','pink','blue']\n",
    "plt.figure(figsize=(9,9))\n",
    "for q in range(0,len(GOLDD)):\n",
    "    plt.figure(figsize=(9,9))\n",
    "    lab = PERCT[q]+'%Xe'+' '+str(100-int(PERCT[q]))+'%Ar'\n",
    "\n",
    "    plt.scatter(REDU[q],DlStar[q]/2.355,color=COL[q],label=lab,s=30)\n",
    "    \n",
    "    #Xer = REDU[q]*0.0124479\n",
    "    Xer = REDU[q]*VelErr[q]\n",
    "    #Yer = DlStar[q]/2.355*0.027655\n",
    "    Yer = DlStar[q]/2.355*0.0422\n",
    "    Yer = DlStar[q]/2.355*0.098\n",
    "    Yer = DlStar[q]*DlSerr[q]/2.355\n",
    "\n",
    "    plt.errorbar(REDU[q],DlStar[q]/2.355,xerr=Xer,yerr=Yer,ecolor=COL[q],fmt='none', capthick=1)\n",
    "    \n",
    "    eh1 =q*3\n",
    "    eh2 =q*3+1\n",
    "    eh3 =q*3+2\n",
    "    X = MBZ[eh1]\n",
    "    Y = MBZ[eh2]\n",
    "    Yer = MBZ[eh3]\n",
    "    #plt.plot(MBZ[eh1],MBZ[eh2],color=COL[q],alpha=0.5,linewidth=2)\n",
    "    plt.fill_between(X,Y+Yer,Y-Yer,facecolor=COL[q],alpha=0.3, interpolate=True)\n",
    "    \n",
    "    \n",
    "    plt.xlabel(r'Reduced Drift Field ( V/cm/Bar )',fontsize=26)\n",
    "    plt.ylabel(r'Longitudinal Diffusion  ( $\\sqrt{bar}$*$\\mu$m/$\\sqrt{cm}$ )',fontsize=26)\n",
    "    plt.xticks(fontsize=24)\n",
    "    plt.yticks(fontsize=24)\n",
    "    #plt.xticks(np.arange(0, 400, 50.0))\n",
    "    plt.grid()\n",
    "    plt.legend(loc='upper right',fontsize=16,ncol=2)\n",
    "\n",
    "    plt.ylim(0,2500)\n",
    "    plt.xlim(0,330)\n",
    "    plt.tight_layout()\n",
    "    #plt.savefig(\"/Users/austinmcdonald/Desktop/Daigo/XeAr/diff\"+str(q)+\".png\")\n",
    "\n",
    "    plt.show()"
   ]
  },
  {
   "cell_type": "code",
   "execution_count": null,
   "metadata": {
    "collapsed": true
   },
   "outputs": [],
   "source": []
  },
  {
   "cell_type": "code",
   "execution_count": null,
   "metadata": {
    "collapsed": true
   },
   "outputs": [],
   "source": [
    "COL =['b','g','r','m','y','c','k','lime','orange','steelblue','pink','blue']\n",
    "plt.figure(figsize=(9,9))\n",
    "for q in range(0,len(GOLDD)):\n",
    "    lab = PERCT[q]+'%Xe'+' '+str(100-int(PERCT[q]))+'%Ar'\n",
    "\n",
    "    plt.scatter(REDU[q],DlStar[q]/2.355,color=COL[q],label=lab,s=30)\n",
    "    \n",
    "    #Xer = REDU[q]*0.0124479\n",
    "    Xer = REDU[q]*VelErr[q]\n",
    "    #Yer = DlStar[q]/2.355*0.027655\n",
    "    Yer = DlStar[q]/2.355*0.0422\n",
    "    Yer = DlStar[q]/2.355*0.098\n",
    "    Yer = DlStar[q]*DlSerr[q]/2.355\n",
    "\n",
    "    plt.errorbar(REDU[q],DlStar[q]/2.355,xerr=Xer,yerr=Yer,ecolor=COL[q],fmt='none', capthick=1)\n",
    "    \n",
    "    eh1 =q*3\n",
    "    eh2 =q*3+1\n",
    "    eh3 =q*3+2\n",
    "    X = MBZ[eh1]\n",
    "    Y = MBZ[eh2]\n",
    "    Yer = MBZ[eh3]\n",
    "    #plt.plot(MBZ[eh1],MBZ[eh2],color=COL[q],alpha=0.5,linewidth=2)\n",
    "    plt.fill_between(X,Y+Yer,Y-Yer,facecolor=COL[q],alpha=0.3, interpolate=True)\n",
    "    \n",
    "plt.semilogx()   \n",
    "plt.xlabel(r'Reduced Drift Field ( V/cm/Bar )',fontsize=26)\n",
    "plt.ylabel(r'Longitudinal Diffusion  ( $\\sqrt{bar}$*$\\mu$m/$\\sqrt{cm}$ )',fontsize=26)\n",
    "plt.xticks(fontsize=24)\n",
    "plt.yticks(fontsize=24)\n",
    "#plt.xticks(np.arange(0, 400, 50.0))\n",
    "plt.grid()\n",
    "plt.legend(loc='upper right',fontsize=16,ncol=2)\n",
    "\n",
    "plt.ylim(500,2500)\n",
    "plt.xlim(0,330)\n",
    "plt.tight_layout()\n",
    "#plt.savefig(\"/Users/austinmcdonald/Desktop/Daigo/XeAr/diff\"+str(q)+\".png\")\n",
    "\n",
    "plt.show()"
   ]
  },
  {
   "cell_type": "code",
   "execution_count": null,
   "metadata": {
    "collapsed": true
   },
   "outputs": [],
   "source": []
  },
  {
   "cell_type": "code",
   "execution_count": null,
   "metadata": {
    "collapsed": true
   },
   "outputs": [],
   "source": []
  },
  {
   "cell_type": "code",
   "execution_count": null,
   "metadata": {
    "collapsed": true
   },
   "outputs": [],
   "source": []
  },
  {
   "cell_type": "code",
   "execution_count": null,
   "metadata": {
    "collapsed": true
   },
   "outputs": [],
   "source": []
  },
  {
   "cell_type": "code",
   "execution_count": null,
   "metadata": {
    "collapsed": true
   },
   "outputs": [],
   "source": []
  },
  {
   "cell_type": "code",
   "execution_count": null,
   "metadata": {
    "collapsed": true
   },
   "outputs": [],
   "source": [
    "MBZV = np.load(\"/Users/austinmcdonald/Documents/Gas-physics/MB-XeAr.npy\")"
   ]
  },
  {
   "cell_type": "code",
   "execution_count": null,
   "metadata": {
    "collapsed": true
   },
   "outputs": [],
   "source": [
    "COL =['b','g','r','m','y','c','k','lime','orange','steelblue','pink','blue']\n",
    "plt.figure(figsize=(9,9))\n",
    "#for q in range(0,len(GOLDD)):\n",
    "#for q in range(0,len(GOLDD)):\n",
    "for q in [0]:\n",
    "\n",
    "    lab = PERCT[q]+'%Xe'+' '+str(100-int(PERCT[q]))+'%Ar'\n",
    "    plt.scatter(REDU[q],Vel[q],color=COL[q],label=lab)\n",
    "    #Xer = REDU[q]*0.0124479\n",
    "    Xer = REDU[q]*0.0222\n",
    "    #Yer = Vel[q]*0.011989\n",
    "    Yer = Vel[q]*0.0222\n",
    "    #Yer = Vel[q]*0.098\n",
    "    Yer = Vel[q]*VelErr[q]\n",
    "    Xer = REDU[q]*VelErr[q]\n",
    "    plt.errorbar(REDU[q],Vel[q],xerr=Xer,yerr=Yer,ecolor=COL[q],fmt='none', capthick=1)\n",
    "    \n",
    "    eh1 =q*3\n",
    "    eh2 =q*3+1\n",
    "    eh3 =q*3+2\n",
    "    X = MBZV[eh1]\n",
    "    Y = MBZV[eh2]\n",
    "    Yer = MBZV[eh3]\n",
    "    #plt.plot(MBZV[eh1],MBZV[eh2],color=COL[q],alpha=0.5,linewidth=2)\n",
    "    #plt.fill_between(X,Y+Yer,Y-Yer,facecolor='k',alpha=0.3, interpolate=True)\n",
    "    plt.fill_between(X,Y+Yer,Y-Yer,facecolor=COL[q],alpha=0.2, interpolate=True)\n",
    "\n",
    "#plt.errorbar(nextVX,nextVY,xerr=0,yerr=0.03,ecolor=COL[q],fmt='none', capthick=1)\n",
    "\n",
    "plt.xlabel(r'Reduced Drift Field (V/cm/Bar)',fontsize=26)\n",
    "plt.ylabel(r'Drift Velocity (mm/$\\mu$s)',fontsize=26)\n",
    "plt.xticks(fontsize=24)\n",
    "plt.yticks(fontsize=24)\n",
    "#plt.xticks(np.arange(0, 400, 50.0))\n",
    "plt.grid()\n",
    "plt.legend(loc='upper right',fontsize=14,ncol=3)\n",
    "plt.tight_layout()\n",
    "\n",
    "plt.grid()\n",
    "plt.ylim(0,3.8)\n",
    "#plt.ylim(0,2)\n",
    "\n",
    "plt.xlim(0,230)\n",
    "#plt.xlim(0,130)\n",
    "#plt.savefig(\"/Users/austinmcdonald/Desktop/Vdrift\"+\"ALL\"+\".png\")\n",
    "\n",
    "plt.show()"
   ]
  },
  {
   "cell_type": "code",
   "execution_count": null,
   "metadata": {
    "collapsed": true
   },
   "outputs": [],
   "source": []
  },
  {
   "cell_type": "code",
   "execution_count": null,
   "metadata": {
    "collapsed": true
   },
   "outputs": [],
   "source": [
    "len(GOLDD)"
   ]
  },
  {
   "cell_type": "code",
   "execution_count": null,
   "metadata": {
    "collapsed": true
   },
   "outputs": [],
   "source": []
  },
  {
   "cell_type": "code",
   "execution_count": null,
   "metadata": {
    "collapsed": true
   },
   "outputs": [],
   "source": [
    "MBZV = np.load(\"/Users/austinmcdonald/Documents/Gas-physics/MB-Error.npy\")\n"
   ]
  },
  {
   "cell_type": "code",
   "execution_count": null,
   "metadata": {
    "collapsed": true
   },
   "outputs": [],
   "source": [
    "COL =['b','b','g','g','r','r','m','m','y','y','c','c','k','k','lime','orange','steelblue','pink','blue']\n",
    "plt.figure(figsize=(9,9))\n",
    "#for q in range(0,len(GOLDD)):\n",
    "for q in range(0,5):\n",
    "    eh1 =q*3\n",
    "    eh2 =q*3+1\n",
    "    eh3 =q*3+2\n",
    "    X = MBZV[eh1]\n",
    "    Y1 = MBZV[eh2]\n",
    "    Y2 = MBZV[eh3]\n",
    "    plt.fill_between(X,Y1,Y2,facecolor=COL[q],alpha=0.2, interpolate=True)\n",
    "\n",
    "plt.xlabel(r'Reduced Drift Field (V/cm/Bar)',fontsize=26)\n",
    "plt.ylabel(r'Drift Velocity (mm/$\\mu$s)',fontsize=26)\n",
    "plt.xticks(fontsize=24)\n",
    "plt.yticks(fontsize=24)\n",
    "plt.grid()\n",
    "plt.legend(loc='upper right',fontsize=14,ncol=3)\n",
    "plt.tight_layout()\n",
    "plt.grid()\n",
    "plt.ylim(0,3.8)\n",
    "plt.xlim(0,230)\n",
    "#plt.savefig(\"/Users/austinmcdonald/Desktop/Vdrift\"+\"ALL\"+\".png\")\n",
    "\n",
    "plt.show()"
   ]
  },
  {
   "cell_type": "code",
   "execution_count": null,
   "metadata": {
    "collapsed": true
   },
   "outputs": [],
   "source": []
  },
  {
   "cell_type": "code",
   "execution_count": null,
   "metadata": {
    "collapsed": true
   },
   "outputs": [],
   "source": []
  },
  {
   "cell_type": "code",
   "execution_count": null,
   "metadata": {
    "collapsed": true
   },
   "outputs": [],
   "source": [
    "COL =['b','g','r','m','y','c','k','lime','orange','steelblue','pink','blue']\n",
    "#plt.figure(figsize=(9,9))\n",
    "fig1, ax1 = plt.subplots(figsize=(9,9))\n",
    "#for q in range(0,len(GOLDD)):\n",
    "for q in range(0,len(GOLDD)-2):\n",
    "    lab = PERCT[q+1]+'%Xe'+' '+str(100-int(PERCT[q+1]))+'%Ar'\n",
    "    ax1.scatter(REDU[q+1],Vel[q+1],color=COL[q],label=lab)\n",
    "    Yer = Vel[q+1]*VelErr[q+1]\n",
    "    Xer = REDU[q+1]*VelErr[q+1]\n",
    "    ax1.errorbar(REDU[q+1],Vel[q+1],xerr=Xer,yerr=Yer,ecolor=COL[q],fmt='none', capthick=1)\n",
    "    \n",
    "    eh1 =q*3\n",
    "    eh2 =q*3+1\n",
    "    eh3 =q*3+2\n",
    "    X = MBZV[eh1]\n",
    "    Y1 = MBZV[eh2]\n",
    "    Y2 = MBZV[eh3]\n",
    "    ax1.fill_between(X,Y1,Y2,facecolor=COL[q],alpha=0.2, interpolate=True)\n",
    "\n",
    "    \n",
    "ax1.set_xscale('log')\n",
    "ax1.set_xticks([7,20,40,60,100, 200, 500])\n",
    "ax1.tick_params(axis='both', which='major', labelsize=24)\n",
    "ax1.get_xaxis().set_major_formatter(matplotlib.ticker.ScalarFormatter())\n",
    "\n",
    "ax1.set_xlabel(r'Reduced Drift Field (V/cm/Bar)',fontsize=26)\n",
    "ax1.set_ylabel(r'Drift Velocity (mm/$\\mu$s)',fontsize=26)\n",
    "ax1.grid()\n",
    "ax1.legend(loc='upper right',fontsize=14,ncol=3)\n",
    "\n",
    "plt.ylim(0,3.4)\n",
    "plt.xlim(7,300)\n",
    "plt.tight_layout()\n",
    "#plt.savefig(\"/Users/austinmcdonald/Desktop/Vdrift\"+\"ALL\"+\".png\")\n",
    "\n",
    "plt.show()"
   ]
  },
  {
   "cell_type": "code",
   "execution_count": null,
   "metadata": {
    "collapsed": true
   },
   "outputs": [],
   "source": []
  },
  {
   "cell_type": "code",
   "execution_count": null,
   "metadata": {
    "collapsed": true
   },
   "outputs": [],
   "source": []
  },
  {
   "cell_type": "code",
   "execution_count": null,
   "metadata": {
    "collapsed": true
   },
   "outputs": [],
   "source": [
    "COL =['b','g','r','m','y','c','k','lime','orange','steelblue','pink','blue']\n",
    "plt.figure(figsize=(9,9))\n",
    "fig1, ax1 = plt.subplots()\n",
    "#for q in range(0,len(GOLDD)):\n",
    "for q in range(0,len(GOLDD)-2):\n",
    "    lab = PERCT[q+1]+'%Xe'+' '+str(100-int(PERCT[q+1]))+'%Ar'\n",
    "    plt.scatter(REDU[q+1],Vel[q+1],color=COL[q],label=lab)\n",
    "    Yer = Vel[q+1]*VelErr[q+1]\n",
    "    Xer = REDU[q+1]*VelErr[q+1]\n",
    "    plt.errorbar(REDU[q+1],Vel[q+1],xerr=Xer,yerr=Yer,ecolor=COL[q],fmt='none', capthick=1)\n",
    "    \n",
    "    eh1 =q*3\n",
    "    eh2 =q*3+1\n",
    "    eh3 =q*3+2\n",
    "    X = MBZV[eh1]\n",
    "    Y1 = MBZV[eh2]\n",
    "    Y2 = MBZV[eh3]\n",
    "    plt.fill_between(X,Y1,Y2,facecolor=COL[q],alpha=0.2, interpolate=True)\n",
    "plt.semilogx()\n",
    "\n",
    "plt.xlabel(r'Reduced Drift Field (V/cm/Bar)',fontsize=26)\n",
    "plt.ylabel(r'Drift Velocity (mm/$\\mu$s)',fontsize=26)\n",
    "#plt.xticks([50,100,150,200],fontsize=24)\n",
    "ax1.set_xticks([20, 200, 500])\n",
    "plt.yticks(fontsize=24)\n",
    "plt.grid()\n",
    "plt.legend(loc='upper right',fontsize=14,ncol=3)\n",
    "plt.tight_layout()\n",
    "plt.grid()\n",
    "#plt.semilogy()\n",
    "\n",
    "plt.ylim(0,3.4)\n",
    "plt.xlim(0,350)\n",
    "#plt.savefig(\"/Users/austinmcdonald/Desktop/Vdrift\"+\"ALL\"+\".png\")\n",
    "\n",
    "plt.show()"
   ]
  },
  {
   "cell_type": "code",
   "execution_count": null,
   "metadata": {
    "collapsed": true
   },
   "outputs": [],
   "source": []
  },
  {
   "cell_type": "code",
   "execution_count": null,
   "metadata": {
    "collapsed": true
   },
   "outputs": [],
   "source": []
  },
  {
   "cell_type": "code",
   "execution_count": null,
   "metadata": {
    "collapsed": true,
    "scrolled": false
   },
   "outputs": [],
   "source": [
    "COL =['b','g','r','m','y','c','k','lime','orange','steelblue','pink','blue']\n",
    "plt.figure(figsize=(9,9))\n",
    "#for q in range(0,len(GOLDD)):\n",
    "for q in range(0,len(GOLDD)):\n",
    "    plt.figure(figsize=(9,9))\n",
    "    lab = PERCT[q]+'%Xe'\n",
    "    plt.scatter(REDU[q],Vel[q],color=COL[q],label=lab)\n",
    "    Xer = REDU[q]*0.0222\n",
    "    Yer = Vel[q]*0.0222\n",
    "    #Yer = Vel[q]*0.098\n",
    "    Yer = Vel[q]*VelErr[q]\n",
    "    Xer = REDU[q]*VelErr[q]\n",
    "    plt.errorbar(REDU[q],Vel[q],xerr=Xer,yerr=Yer,ecolor=COL[q],fmt='none', capthick=1)\n",
    "    \n",
    "    eh1 =q*3\n",
    "    eh2 =q*3+1\n",
    "    eh3 =q*3+2\n",
    "    X = MBZV[eh1]\n",
    "    Y = MBZV[eh2]\n",
    "    Yer = MBZV[eh3]\n",
    "    #plt.plot(MBZV[eh1],MBZV[eh2],color=COL[q],alpha=0.5,linewidth=2)\n",
    "    plt.fill_between(X,Y+Yer,Y-Yer,facecolor='k',alpha=0.3, interpolate=True)\n",
    "\n",
    "    #plt.plot(MBZV[eh1],MBZV[eh2],color=COL[q],alpha=0.5,linewidth=2)\n",
    "\n",
    "\n",
    "    plt.xlabel(r'Reduced Drift Field (V/cm/Bar)',fontsize=26)\n",
    "    plt.ylabel(r'Drift Velocity (mm/$\\mu$s)',fontsize=26)\n",
    "    plt.xticks(fontsize=24)\n",
    "    plt.yticks(fontsize=24)\n",
    "    #plt.xticks(np.arange(0, 400, 50.0))\n",
    "    plt.grid()\n",
    "    plt.legend(loc='upper right',fontsize=16,ncol=2)\n",
    "    plt.tight_layout()\n",
    "    plt.grid()\n",
    "    plt.ylim(0,3.8)\n",
    "    plt.xlim(0,330)\n",
    "    #plt.savefig(\"/Users/austinmcdonald/Desktop/Daigo/XeAr/Vdrift\"+str(q)+\".png\")\n",
    "\n",
    "    plt.show()"
   ]
  },
  {
   "cell_type": "code",
   "execution_count": null,
   "metadata": {
    "collapsed": true
   },
   "outputs": [],
   "source": []
  },
  {
   "cell_type": "code",
   "execution_count": null,
   "metadata": {
    "collapsed": true
   },
   "outputs": [],
   "source": []
  },
  {
   "cell_type": "code",
   "execution_count": null,
   "metadata": {
    "collapsed": true
   },
   "outputs": [],
   "source": [
    "nextVX = [22.932878581189854,28.02632973433397,33.09933408732141,38.31422698545041\n",
    "          ,43.33941591803868,48.39592788718672,53.49143151000674]\n",
    "nextVY = [0.8098494025367218, 0.8570545640040048,0.8878392477288395, 0.9132533688888385\n",
    "         , 0.9312951909452365, 0.9492212516208849, 0.9658736827093846]\n",
    "print(len(nextVX))\n",
    "print(len(nextVY))"
   ]
  },
  {
   "cell_type": "code",
   "execution_count": null,
   "metadata": {
    "collapsed": true
   },
   "outputs": [],
   "source": [
    "nextDX = [22.9,25.9,26.2,28.0,28.3,28.4,29.9,33.2,34.0,37.9,38.0,38.3,42.0,43.4,44.4,47.5,48.6,53.7,57.0]\n",
    "nextDY = [1357.3, 1213.3, 1167.4, 1161.1, 1320.9, 1195.9, 1105.7, 1058.2, 1034.5, 979.1, 1129.4,\n",
    "          988.6, 941.1, 939.6, 958.5, 1028.2, 901.6, 869.9, 903.2]\n",
    "print(len(nextDX))\n",
    "print(len(nextDY))"
   ]
  },
  {
   "cell_type": "code",
   "execution_count": null,
   "metadata": {
    "collapsed": true
   },
   "outputs": [],
   "source": [
    "len(GOLDD)"
   ]
  },
  {
   "cell_type": "code",
   "execution_count": null,
   "metadata": {
    "collapsed": true
   },
   "outputs": [],
   "source": [
    "plt.figure(figsize=(9,9))\n",
    "q=6\n",
    "plt.scatter(REDU[q],Vel[q],color=COL[q],label=PERCT[q])\n",
    "Xer = REDU[q]*0.0222\n",
    "Yer = Vel[q]*0.0222\n",
    "#Yer = Vel[q]*0.098\n",
    "Yer = Vel[q]*VelErr[q]\n",
    "Xer = REDU[q]*VelErr[q]\n",
    "plt.errorbar(REDU[q],Vel[q],xerr=Xer,yerr=Yer,ecolor=COL[q],fmt='none', capthick=1)\n",
    "\n",
    "eh1 =q*3\n",
    "eh2 =q*3+1\n",
    "eh3 =q*3+2\n",
    "X = MBZV[eh1]\n",
    "Y = MBZV[eh2]\n",
    "Yer = MBZV[eh3]\n",
    "plt.fill_between(X,Y+Yer,Y-Yer,facecolor='k',alpha=0.3, interpolate=True)\n",
    "\n",
    "\n",
    "\n",
    "plt.errorbar(nextVX,nextVY,xerr=0,yerr=0.03,ecolor='lime',color='lime',fmt='D', capthick=1,label='NEXT data')\n",
    "\n",
    "\n",
    "\n",
    "\n",
    "\n",
    "plt.xlabel(r'Reduced Drift Field (V/cm/Bar)',fontsize=26)\n",
    "plt.ylabel(r'Drift Velocity (mm/$\\mu$s)',fontsize=26)\n",
    "plt.xticks(fontsize=24)\n",
    "plt.yticks(fontsize=24)\n",
    "#plt.xticks(np.arange(0, 400, 50.0))\n",
    "plt.grid()\n",
    "plt.legend(loc='upper right',fontsize=16,ncol=2)\n",
    "plt.tight_layout()\n",
    "\n",
    "plt.grid()\n",
    "plt.ylim(0,1.4)\n",
    "plt.xlim(0,230)\n",
    "#plt.savefig(\"/Users/austinmcdonald/Desktop/Daigo/next-Vdrift\"+\".png\")\n",
    "\n",
    "plt.show()"
   ]
  },
  {
   "cell_type": "code",
   "execution_count": null,
   "metadata": {
    "collapsed": true
   },
   "outputs": [],
   "source": []
  },
  {
   "cell_type": "code",
   "execution_count": null,
   "metadata": {
    "collapsed": true
   },
   "outputs": [],
   "source": []
  },
  {
   "cell_type": "code",
   "execution_count": null,
   "metadata": {
    "collapsed": true
   },
   "outputs": [],
   "source": [
    "plt.figure(figsize=(9,9))\n",
    "plt.scatter(REDU[q],DlStar[q]/2.355,color=COL[q],label=PERCT[q],s=30)\n",
    "Xer = REDU[q]*0.1\n",
    "Yer = DlStar[q]/2.355*0.098\n",
    "\n",
    "Xer = REDU[q]*VelErr[q]\n",
    "#Yer = DlStar[q]/2.355*0.027655\n",
    "Yer = DlStar[q]/2.355*0.0422\n",
    "Yer = DlStar[q]/2.355*0.098\n",
    "Yer = DlStar[q]*DlSerr[q]/2.355\n",
    "plt.errorbar(REDU[q],DlStar[q]/2.355,xerr=Xer,yerr=Yer,ecolor=COL[q],fmt='none', capthick=1)\n",
    "\n",
    "eh1 =q*3\n",
    "eh2 =q*3+1\n",
    "eh3 =q*3+2\n",
    "X = MBZ[eh1]\n",
    "Y = MBZ[eh2]\n",
    "Yer = MBZ[eh3]\n",
    "plt.fill_between(X,Y+Yer,Y-Yer,facecolor='k',alpha=0.3, interpolate=True)\n",
    "\n",
    "plt.errorbar(nextDX,nextDY,xerr=0,yerr=100,ecolor='lime',color='lime',fmt='D', capthick=1,label='NEXT data')\n",
    "\n",
    "\n",
    "\n",
    "plt.xlabel(r'Reduced Drift Field ( V/cm/Bar )',fontsize=26)\n",
    "plt.ylabel(r'Longitudinal Diffusion  ( $\\sqrt{bar}$*$\\mu$m/$\\sqrt{cm}$ )',fontsize=26)\n",
    "plt.xticks(fontsize=24)\n",
    "plt.yticks(fontsize=24)\n",
    "#plt.xticks(np.arange(0, 400, 50.0))\n",
    "plt.grid()\n",
    "plt.legend(loc='upper right',fontsize=16,ncol=2)\n",
    "\n",
    "plt.ylim(0,2500)\n",
    "plt.xlim(0,330)\n",
    "#plt.savefig(\"/Users/austinmcdonald/Desktop/Daigo/next-diff\"+\".png\")\n",
    "\n",
    "plt.show()"
   ]
  },
  {
   "cell_type": "code",
   "execution_count": null,
   "metadata": {
    "collapsed": true
   },
   "outputs": [],
   "source": []
  },
  {
   "cell_type": "code",
   "execution_count": null,
   "metadata": {
    "collapsed": true
   },
   "outputs": [],
   "source": []
  },
  {
   "cell_type": "code",
   "execution_count": null,
   "metadata": {
    "collapsed": true
   },
   "outputs": [],
   "source": []
  },
  {
   "cell_type": "code",
   "execution_count": null,
   "metadata": {
    "collapsed": true
   },
   "outputs": [],
   "source": [
    "PATH = '/Users/austinmcdonald/Desktop/XeAr/Data/'\n",
    "folders = glob.glob(PATH+\"*/\")\n",
    "folders.sort()\n",
    "folders"
   ]
  },
  {
   "cell_type": "code",
   "execution_count": null,
   "metadata": {
    "collapsed": true
   },
   "outputs": [],
   "source": [
    "'/Users/austinmcdonald/Desktop/XeAr/Data/008/Xe-008_P-01_E-200.txt'"
   ]
  },
  {
   "cell_type": "code",
   "execution_count": null,
   "metadata": {
    "collapsed": true
   },
   "outputs": [],
   "source": [
    "Data = np.loadtxt('/Users/austinmcdonald/Desktop/XeAr/Data/000/Xe-000_P-01_E-200.txt')\n",
    "xa,ya,opta,chia = FITTER_ANOD(Data[0],Data[2])\n",
    "xg,yg,optg,chig = FITTER_GOLD(Data[0],Data[1])"
   ]
  },
  {
   "cell_type": "code",
   "execution_count": null,
   "metadata": {
    "collapsed": true
   },
   "outputs": [],
   "source": [
    "ml = 1\n",
    "mm = 1e3\n",
    "plt.figure(figsize=(8,8))\n",
    "xx = moving_average(xa*ml*ml,10)\n",
    "yy = moving_average(ya*ml,10)\n",
    "plt.plot(xx*mm*mm,yy*mm,linewidth=2,alpha=0.7,label=\"Anode\")\n",
    "TriggerTime = find_nearest(xg,0)\n",
    "Trigger     = np.where(xg==TriggerTime)[0][0]\n",
    "base   = np.mean(yg[0:Trigger])\n",
    "xx = moving_average(xg*ml*ml,10)\n",
    "yy = moving_average((yg-base)*ml,10)\n",
    "plt.plot(xx*mm*mm,yy*mm,linewidth=2,alpha=0.7,label=\"Cathode\")\n",
    "plt.xlim(-10e-6*mm*mm,350e-6*mm*mm)\n",
    "xxx = np.linspace(0,500e-6,1000)\n",
    "yyy = gaus(xxx,*optg)\n",
    "plt.plot(xxx*mm*mm,yyy*mm+0.35,linewidth=2,alpha=0.7)\n",
    "yyy = gaus(xxx,*opta)\n",
    "plt.plot(xxx*mm*mm,yyy*mm,color='k',linewidth=2,alpha=0.7)\n",
    "plt.ylim(-2.3,8.1)\n",
    "plt.legend(loc=\"upper right\", fontsize=20)\n",
    "plt.xlabel(r'Time ($\\mu$s)',fontsize=26)\n",
    "plt.ylabel(r'Voltage (mlV)',fontsize=26)\n",
    "plt.xticks(fontsize=24)\n",
    "plt.yticks(fontsize=24)\n",
    "#plt.xticks(np.arange(0, 400, 50.0))\n",
    "plt.grid()\n",
    "plt.tight_layout()\n"
   ]
  },
  {
   "cell_type": "code",
   "execution_count": null,
   "metadata": {
    "collapsed": true
   },
   "outputs": [],
   "source": [
    "opta"
   ]
  },
  {
   "cell_type": "code",
   "execution_count": null,
   "metadata": {
    "collapsed": true
   },
   "outputs": [],
   "source": [
    "Data = np.loadtxt('/Users/austinmcdonald/Desktop/XeAr/Data/000/Xe-000_P-11_E-200.txt')\n",
    "xa,ya,opta,chia = FITTER_ANOD(Data[0],Data[2])\n",
    "xg,yg,optg,chig = FITTER_GOLD(Data[0],Data[1])"
   ]
  },
  {
   "cell_type": "code",
   "execution_count": null,
   "metadata": {
    "collapsed": true
   },
   "outputs": [],
   "source": [
    "ml = 1\n",
    "mm = 1e3\n",
    "plt.figure(figsize=(8,8))\n",
    "xx = moving_average(xa*ml*ml,10)\n",
    "yy = moving_average(ya*ml,10)\n",
    "plt.plot(xx*mm*mm,yy*mm,linewidth=2,alpha=0.7,label=\"Anode\")\n",
    "TriggerTime = find_nearest(xg,0)\n",
    "Trigger     = np.where(xg==TriggerTime)[0][0]\n",
    "base   = np.mean(yg[0:Trigger])\n",
    "xx = moving_average(xg*ml*ml,10)\n",
    "yy = moving_average((yg-base)*ml,10)\n",
    "plt.plot(xx*mm*mm,yy*mm,linewidth=2,alpha=0.7,label=\"Cathode\")\n",
    "plt.xlim(-10e-6*mm*mm,345e-6*mm*mm)\n",
    "xxx = np.linspace(0,500e-6,1000)\n",
    "yyy = gaus(xxx,*optg)\n",
    "#plt.plot(xxx*mm*mm,yyy*mm+0.58,linewidth=2,alpha=0.7)\n",
    "yyy = gaus(xxx,*opta)\n",
    "#plt.plot(xxx*mm*mm,yyy*mm,color='k',linewidth=2,alpha=0.7)\n",
    "plt.ylim(-1.6,2.9)\n",
    "plt.legend(loc=\"upper right\", fontsize=20)\n",
    "plt.xlabel(r'Time ($\\mu$s)',fontsize=26)\n",
    "plt.ylabel(r'Voltage (mlV)',fontsize=26)\n",
    "plt.xticks(fontsize=24)\n",
    "plt.yticks(fontsize=24)\n",
    "#plt.xticks(np.arange(0, 400, 50.0))\n",
    "plt.grid()\n",
    "plt.tight_layout()\n",
    "#plt.savefig(\"/Users/austinmcdonald/Desktop/Gau\"+\".png\")\n",
    "plt.show()\n"
   ]
  },
  {
   "cell_type": "code",
   "execution_count": null,
   "metadata": {
    "collapsed": true
   },
   "outputs": [],
   "source": []
  },
  {
   "cell_type": "code",
   "execution_count": null,
   "metadata": {
    "collapsed": true
   },
   "outputs": [],
   "source": [
    "ml = 1\n",
    "mm = 1e3\n",
    "plt.figure(figsize=(8,8))\n",
    "xx = moving_average(xa*ml*ml,10)\n",
    "yy = moving_average(ya*ml,10)\n",
    "plt.plot(xx*mm*mm,yy*mm,linewidth=2,alpha=0.7,label=\"Anode\")\n",
    "TriggerTime = find_nearest(xg,0)\n",
    "Trigger     = np.where(xg==TriggerTime)[0][0]\n",
    "base   = np.mean(yg[0:Trigger])\n",
    "xx = moving_average(xg*ml*ml,10)\n",
    "yy = moving_average((yg-base)*ml,10)\n",
    "plt.plot(xx*mm*mm,yy*mm,linewidth=2,alpha=0.7,label=\"Cathode\")\n",
    "plt.xlim(-10e-6*mm*mm,345e-6*mm*mm)\n",
    "xxx = np.linspace(0,500e-6,1000)\n",
    "yyy = gaus(xxx,*optg)\n",
    "plt.plot(xxx*mm*mm,yyy*mm+0.58,linewidth=2,alpha=0.7)\n",
    "yyy = gaus(xxx,*opta)\n",
    "plt.plot(xxx*mm*mm,yyy*mm,color='k',linewidth=2,alpha=0.7)\n",
    "plt.ylim(-1.6,2.9)\n",
    "plt.legend(loc=\"upper right\", fontsize=20)\n",
    "plt.xlabel(r'Time ($\\mu$s)',fontsize=26)\n",
    "plt.ylabel(r'Voltage (mlV)',fontsize=26)\n",
    "plt.xticks(fontsize=24)\n",
    "plt.yticks(fontsize=24)\n",
    "#plt.xticks(np.arange(0, 400, 50.0))\n",
    "plt.grid()\n",
    "plt.tight_layout()\n",
    "#plt.savefig(\"/Users/austinmcdonald/Desktop/Gauss\"+\".png\")\n",
    "plt.show()\n"
   ]
  },
  {
   "cell_type": "code",
   "execution_count": null,
   "metadata": {
    "collapsed": true
   },
   "outputs": [],
   "source": []
  },
  {
   "cell_type": "code",
   "execution_count": null,
   "metadata": {
    "collapsed": true
   },
   "outputs": [],
   "source": [
    "ml = 1\n",
    "mm = 1e3\n",
    "plt.figure(figsize=(8,8))\n",
    "xx = moving_average(xa*ml*ml,10)\n",
    "yy = moving_average(ya*ml,10)\n",
    "plt.plot(xx*mm*mm,yy*mm,linewidth=2,alpha=0.1,label=\"Anode\")\n",
    "TriggerTime = find_nearest(xg,0)\n",
    "Trigger     = np.where(xg==TriggerTime)[0][0]\n",
    "base   = np.mean(yg[0:Trigger])\n",
    "xx = moving_average(xg*ml*ml,10)\n",
    "yy = moving_average((yg-base)*ml,10)\n",
    "plt.plot(xx*mm*mm,yy*mm,linewidth=2,alpha=0.1,label=\"Cathode\")\n",
    "plt.xlim(-10e-6*mm*mm,345e-6*mm*mm)\n",
    "xxx = np.linspace(0,500e-6,1000)\n",
    "yyy = gaus(xxx,*optg)\n",
    "plt.plot(xxx*mm*mm,yyy*mm+0.58,linewidth=2,alpha=0.7)\n",
    "yyy = gaus(xxx,*opta)\n",
    "plt.plot(xxx*mm*mm,yyy*mm,color='k',linewidth=2,alpha=0.7)\n",
    "plt.ylim(-1.6,2.9)\n",
    "plt.legend(loc=\"upper right\", fontsize=20)\n",
    "plt.xlabel(r'Time ($\\mu$s)',fontsize=26)\n",
    "plt.ylabel(r'Voltage (mlV)',fontsize=26)\n",
    "plt.xticks(fontsize=24)\n",
    "plt.yticks(fontsize=24)\n",
    "#plt.xticks(np.arange(0, 400, 50.0))\n",
    "plt.grid()\n",
    "plt.tight_layout()\n",
    "#plt.savefig(\"/Users/austinmcdonald/Desktop/GaussF\"+\".png\")\n",
    "\n",
    "plt.show()"
   ]
  },
  {
   "cell_type": "code",
   "execution_count": null,
   "metadata": {
    "collapsed": true
   },
   "outputs": [],
   "source": []
  },
  {
   "cell_type": "code",
   "execution_count": null,
   "metadata": {
    "collapsed": true
   },
   "outputs": [],
   "source": []
  },
  {
   "cell_type": "code",
   "execution_count": null,
   "metadata": {
    "collapsed": true
   },
   "outputs": [],
   "source": []
  },
  {
   "cell_type": "code",
   "execution_count": null,
   "metadata": {
    "collapsed": true
   },
   "outputs": [],
   "source": []
  },
  {
   "cell_type": "code",
   "execution_count": null,
   "metadata": {
    "collapsed": true
   },
   "outputs": [],
   "source": [
    "# arrival, sigma, max, RC\n",
    "GOLDD = dict()\n",
    "ANODE = dict()\n",
    "REDU  = dict()\n",
    "PRE   = dict()\n",
    "EFID  = dict()\n",
    "PERCT = dict()\n",
    "for F in range(0,len(folders)):\n",
    "    for F in range(0,len(folders)):\n",
    "\n",
    "    GOLDDH = []\n",
    "    ANODEH = []\n",
    "    REDUH  = []\n",
    "    PREH   = []\n",
    "    EFIDH  = []\n",
    "    files = os.listdir(folders[F])\n",
    "    if '.DS_Store' in files: files.remove('.DS_Store')\n",
    "    info = np.loadtxt(folders[F]+'Run-info.txt')\n",
    "    files.remove('Run-info.txt')\n",
    "    files.sort()\n",
    "    for fi in files:\n",
    "        print(fi)\n",
    "        Data = np.loadtxt(folders[F]+fi)\n",
    "        if np.mean(Data[0])!=0:\n",
    "            xa,ya,opta,chia = FITTER_ANOD(Data[0],Data[2])\n",
    "            xg,yg,optg,chig = FITTER_GOLD(Data[0],Data[1])\n",
    "            EE =int(fi.split('.')[0].split('-')[-1])\n",
    "            PP = int(fi.split('.')[0].split('-')[2].split('_')[0])\n",
    "            if PP==1:\n",
    "                PP = info[0]\n",
    "            elif PP==3:\n",
    "                PP = info[1]\n",
    "            elif PP==6:\n",
    "                PP = info[2]\n",
    "            elif PP==9:\n",
    "                PP = info[3]\n",
    "            elif PP==11 or PP==10:\n",
    "                PP = info[4]\n",
    "            PREH.append(PP)\n",
    "            REDUH.append(EE/PP)\n",
    "            ANODEH.append(opta)\n",
    "            GOLDDH.append(optg)\n",
    "            EFIDH.append(EE)\n",
    "        \n",
    "    GOLDD[F] = np.array(GOLDDH)\n",
    "    ANODE[F] = np.array(ANODEH)\n",
    "    REDU[F]  = np.array(REDUH)\n",
    "    PRE[F]   = np.array(PREH)\n",
    "    EFID[F]   = np.array(EFIDH)\n",
    "    Prct = folders[F].split('/')[-2]\n",
    "    PERCT[F] = Prct"
   ]
  },
  {
   "cell_type": "code",
   "execution_count": null,
   "metadata": {
    "collapsed": true
   },
   "outputs": [],
   "source": []
  },
  {
   "cell_type": "code",
   "execution_count": null,
   "metadata": {
    "collapsed": true
   },
   "outputs": [],
   "source": []
  }
 ],
 "metadata": {
  "kernelspec": {
   "display_name": "Python 3",
   "language": "python",
   "name": "python3"
  },
  "language_info": {
   "codemirror_mode": {
    "name": "ipython",
    "version": 3
   },
   "file_extension": ".py",
   "mimetype": "text/x-python",
   "name": "python",
   "nbconvert_exporter": "python",
   "pygments_lexer": "ipython3",
   "version": "3.6.7"
  }
 },
 "nbformat": 4,
 "nbformat_minor": 1
}
