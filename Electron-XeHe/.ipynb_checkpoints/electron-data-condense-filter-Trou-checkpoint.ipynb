{
 "cells": [
  {
   "cell_type": "code",
   "execution_count": 6,
   "metadata": {
    "collapsed": true
   },
   "outputs": [],
   "source": [
    "import numpy as np\n",
    "import glob\n",
    "import os\n",
    "%matplotlib inline\n",
    "from readTRC import readTrc\n",
    "import matplotlib.pyplot as plt\n",
    "from scipy import stats\n",
    "from scipy.stats import chisquare\n",
    "import numpy.polynomial.polynomial as poly"
   ]
  },
  {
   "cell_type": "code",
   "execution_count": 7,
   "metadata": {
    "collapsed": true
   },
   "outputs": [],
   "source": [
    "def find_nearest(array,value):\n",
    "    idx = (np.abs(array-value)).argmin()\n",
    "    return array[idx]\n",
    "\n",
    "def moving_average(a, n=3) :\n",
    "    ret = np.cumsum(a, dtype=float)\n",
    "    ret[n:] = ret[n:] - ret[:-n]\n",
    "    return ret[n - 1:] / n"
   ]
  },
  {
   "cell_type": "code",
   "execution_count": 8,
   "metadata": {
    "collapsed": true
   },
   "outputs": [],
   "source": [
    "def FILE_SORTER(files):\n",
    "    FilesGold   = []\n",
    "    FilesSignal = []\n",
    "    for x in range(0,len(files)):\n",
    "        if int(files[x][1]) ==3:\n",
    "            FilesGold.append(files[x])\n",
    "        if int(files[x][1]) ==2:\n",
    "            FilesSignal.append(files[x])\n",
    "            \n",
    "    FilesGold.sort(); FilesSignal.sort()\n",
    "    return FilesGold, FilesSignal\n",
    "\n",
    "def MEAN_WAVEFORM(PATH,files):\n",
    "    #folders[F]+FilesSignal[0]\n",
    "    #X, Y, info = readTrc(PATH+files[10])\n",
    "    #Yvals = np.zeros(X.shape[0])\n",
    "    #Xvals = np.zeros(Y.shape[0])\n",
    "    Yvals = np.zeros(250002)\n",
    "    Xvals = np.zeros(250002)\n",
    "    avg = 0\n",
    "    for w in range(0,len(files)):\n",
    "\n",
    "        X, Y, info = readTrc(PATH+files[w])\n",
    "        if Y.shape[0]==Yvals.shape[0] and X.shape[0]==Xvals.shape[0]:\n",
    "            Yvals += Y\n",
    "            Xvals += X\n",
    "            avg   += 1\n",
    "    MSigY = Yvals/avg\n",
    "    MSigX = Xvals/avg\n",
    "    return MSigX,MSigY\n",
    "\n",
    "def WAVEFORM_QUALITY(PATH,files,MEAN,CHI):\n",
    "    \n",
    "    #X, Y, info = readTrc(PATH+files[10])\n",
    "    #Yvals = np.zeros(X.shape[0])\n",
    "    #Xvals = np.zeros(Y.shape[0])\n",
    "    Yvals = np.zeros(250002)\n",
    "    Xvals = np.zeros(250002)\n",
    "    avg = 0\n",
    "    #for w in range(0,1100):\n",
    "    CHII = []\n",
    "    for w in range(0,len(files)):\n",
    "\n",
    "        X, Y, info = readTrc(PATH+files[w])\n",
    "        if Y.shape[0]==Yvals.shape[0] and X.shape[0]==Xvals.shape[0]:\n",
    "            A = moving_average(MEAN,10)\n",
    "            B = moving_average(Y   ,10)\n",
    "            D = moving_average(X   ,10)\n",
    "            TriggerTime = find_nearest(D,0)\n",
    "            Trigger     = np.where(D==TriggerTime)[0][0]\n",
    "            As    = np.mean(A[:Trigger])\n",
    "            Bs    = np.mean(B[:Trigger])\n",
    "            \n",
    "            holder = ((A-As)-(B-Bs))**2\n",
    "            chi = np.sum(holder)*1e4\n",
    "            if chi <CHI:\n",
    "                Yvals += Y\n",
    "                Xvals += X\n",
    "                avg   += 1\n",
    "                CHII.append(chi)\n",
    "        if avg != 0:\n",
    "            SigY = Yvals/avg\n",
    "            SigX = Xvals/avg\n",
    "        else:\n",
    "            SigY = Yvals\n",
    "            SigX = Xvals \n",
    "        \n",
    "    #CHI=np.array(CHI)\n",
    "    return SigX,SigY,CHII"
   ]
  },
  {
   "cell_type": "code",
   "execution_count": 9,
   "metadata": {},
   "outputs": [
    {
     "data": {
      "text/plain": [
       "'/Volumes/MY PASSPORT/HeliumXenon/Vac/Xe-999_P-99_E-100/'"
      ]
     },
     "execution_count": 9,
     "metadata": {},
     "output_type": "execute_result"
    }
   ],
   "source": [
    "FOLD = ['100/']\n",
    "FOLD = ['000/']\n",
    "FOLD = ['010/']\n",
    "FOLD = [\"Vac/\"]\n",
    "\n",
    "PATH = '/Volumes/MY PASSPORT/HeliumXenon/'+FOLD[0]\n",
    "SPATH = '/Users/austinmcdonald/Desktop/HeliumXenon/'+FOLD[0]\n",
    "folders = glob.glob(PATH+\"*/\")\n",
    "folders.sort()\n",
    "folders[0]"
   ]
  },
  {
   "cell_type": "code",
   "execution_count": 10,
   "metadata": {
    "scrolled": true
   },
   "outputs": [
    {
     "name": "stdout",
     "output_type": "stream",
     "text": [
      "Xe-999_P-99_E-100\n",
      "Xe-999_P-99_E-200\n",
      "Xe-999_P-99_E-300\n"
     ]
    }
   ],
   "source": [
    "ChG = []\n",
    "ChS = []\n",
    "for per in range(0,len(FOLD)):\n",
    "\n",
    "    #SPATH = '/Users/austinmcdonald/Desktop/Ele-Ar-text/Data/'+FOLD[per]\n",
    "    #PATH = '/Users/austinmcdonald/Desktop/Ele-Ar-text/'+FOLD[per]\n",
    "    PATH = '/Volumes/MY PASSPORT/HeliumXenon/'+FOLD[per]\n",
    "    SPATH = '/Users/austinmcdonald/Desktop/HeliumXenon/'+FOLD[per]\n",
    "    folders = glob.glob(PATH+\"*/\")\n",
    "    folders.sort()\n",
    "    \n",
    "    CHI = 100\n",
    "    for F in range(0,len(folders)):\n",
    "    #for F in [0]:\n",
    "        NAME = folders[F].split('/')[-2]\n",
    "        print(NAME)\n",
    "        files = os.listdir(folders[F])\n",
    "        if '.DS_Store' in files: files.remove('.DS_Store')\n",
    "\n",
    "        FG,FS = FILE_SORTER(files)\n",
    "        Mx,MEAN = MEAN_WAVEFORM(folders[F],FG)\n",
    "        Gx,Gy,ChiG = WAVEFORM_QUALITY(folders[F],FG,MEAN,CHI)\n",
    "\n",
    "        Mx,MEAN = MEAN_WAVEFORM(folders[F],FS)\n",
    "        Sx,Sy,ChiS = WAVEFORM_QUALITY(folders[F],FS,MEAN,CHI)\n",
    "        ChG.append(ChiG)\n",
    "        ChS.append(ChiS)\n",
    "        TriggerTime  = find_nearest(Sx,0)\n",
    "        Trigger      = np.where(Sx==TriggerTime)[0][0]\n",
    "        baselineS    = np.mean(Sy[0:Trigger])\n",
    "        baselineG    = np.mean(Gy[0:Trigger])\n",
    "        data = [Gx, Gy-baselineG, Sy-baselineS]\n",
    "        np.savetxt(SPATH+NAME+'.txt',data)"
   ]
  },
  {
   "cell_type": "code",
   "execution_count": null,
   "metadata": {
    "collapsed": true
   },
   "outputs": [],
   "source": []
  },
  {
   "cell_type": "code",
   "execution_count": null,
   "metadata": {
    "collapsed": true
   },
   "outputs": [],
   "source": []
  },
  {
   "cell_type": "code",
   "execution_count": null,
   "metadata": {
    "collapsed": true
   },
   "outputs": [],
   "source": []
  },
  {
   "cell_type": "code",
   "execution_count": null,
   "metadata": {
    "collapsed": true
   },
   "outputs": [],
   "source": []
  },
  {
   "cell_type": "code",
   "execution_count": null,
   "metadata": {
    "collapsed": true
   },
   "outputs": [],
   "source": []
  },
  {
   "cell_type": "code",
   "execution_count": null,
   "metadata": {
    "collapsed": true
   },
   "outputs": [],
   "source": []
  },
  {
   "cell_type": "code",
   "execution_count": null,
   "metadata": {
    "collapsed": true
   },
   "outputs": [],
   "source": []
  },
  {
   "cell_type": "code",
   "execution_count": null,
   "metadata": {
    "collapsed": true
   },
   "outputs": [],
   "source": []
  },
  {
   "cell_type": "code",
   "execution_count": null,
   "metadata": {
    "collapsed": true
   },
   "outputs": [],
   "source": []
  },
  {
   "cell_type": "code",
   "execution_count": 34,
   "metadata": {},
   "outputs": [
    {
     "data": {
      "text/plain": [
       "'/Users/austinmcdonald/Desktop/Ele-Ar-text/000/Xe-000_P-01_E-080/'"
      ]
     },
     "execution_count": 34,
     "metadata": {},
     "output_type": "execute_result"
    }
   ],
   "source": [
    "files = os.listdir(folders[0])\n",
    "if '.DS_Store' in files: files.remove('.DS_Store')\n",
    "\n",
    "FG,FS = FILE_SORTER(files)\n",
    "folders[0]"
   ]
  },
  {
   "cell_type": "code",
   "execution_count": 35,
   "metadata": {},
   "outputs": [
    {
     "data": {
      "text/plain": [
       "'C3-electron-00000.trc'"
      ]
     },
     "execution_count": 35,
     "metadata": {},
     "output_type": "execute_result"
    }
   ],
   "source": [
    "FG[0]"
   ]
  },
  {
   "cell_type": "code",
   "execution_count": 36,
   "metadata": {
    "collapsed": true
   },
   "outputs": [],
   "source": [
    "Mx,MEAN = MEAN_WAVEFORM(folders[0],FG)"
   ]
  },
  {
   "cell_type": "code",
   "execution_count": 41,
   "metadata": {
    "collapsed": true
   },
   "outputs": [],
   "source": [
    "Gx,Gy,ChiG = WAVEFORM_QUALITY(folders[0],FG,MEAN,100)"
   ]
  },
  {
   "cell_type": "code",
   "execution_count": 42,
   "metadata": {},
   "outputs": [
    {
     "data": {
      "text/plain": [
       "array([-9.99980608e-05, -9.99940608e-05, -9.99900608e-05, ...,\n",
       "        8.99997911e-04,  9.00001911e-04,  9.00005911e-04])"
      ]
     },
     "execution_count": 42,
     "metadata": {},
     "output_type": "execute_result"
    }
   ],
   "source": [
    "Gx"
   ]
  },
  {
   "cell_type": "code",
   "execution_count": 45,
   "metadata": {},
   "outputs": [
    {
     "data": {
      "text/plain": [
       "(array([278., 235., 145.,  91.,  67.,  39.,  31.,  30.,  18.,  25.]),\n",
       " array([ 8.32842818, 17.39673357, 26.46503896, 35.53334435, 44.60164975,\n",
       "        53.66995514, 62.73826053, 71.80656592, 80.87487132, 89.94317671,\n",
       "        99.0114821 ]),\n",
       " <a list of 10 Patch objects>)"
      ]
     },
     "execution_count": 45,
     "metadata": {},
     "output_type": "execute_result"
    },
    {
     "data": {
      "image/png": "[encoded data removed]",
      "text/plain": [
       "<Figure size 432x288 with 1 Axes>"
      ]
     },
     "metadata": {
      "needs_background": "light"
     },
     "output_type": "display_data"
    }
   ],
   "source": [
    "plt.hist(ChiG)"
   ]
  },
  {
   "cell_type": "code",
   "execution_count": 43,
   "metadata": {},
   "outputs": [
    {
     "data": {
      "text/plain": [
       "[<matplotlib.lines.Line2D at 0x106b589e8>]"
      ]
     },
     "execution_count": 43,
     "metadata": {},
     "output_type": "execute_result"
    },
    {
     "data": {
      "image/png": "[encoded data removed]",
      "text/plain": [
       "<Figure size 432x288 with 1 Axes>"
      ]
     },
     "metadata": {
      "needs_background": "light"
     },
     "output_type": "display_data"
    }
   ],
   "source": [
    "plt.plot(Gx,Gy)"
   ]
  }
 ],
 "metadata": {
  "anaconda-cloud": {},
  "kernelspec": {
   "display_name": "Python 3",
   "language": "python",
   "name": "python3"
  },
  "language_info": {
   "codemirror_mode": {
    "name": "ipython",
    "version": 3
   },
   "file_extension": ".py",
   "mimetype": "text/x-python",
   "name": "python",
   "nbconvert_exporter": "python",
   "pygments_lexer": "ipython3",
   "version": "3.6.7"
  }
 },
 "nbformat": 4,
 "nbformat_minor": 1
}
