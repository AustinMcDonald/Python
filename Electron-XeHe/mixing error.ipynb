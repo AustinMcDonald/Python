{
 "cells": [
  {
   "cell_type": "code",
   "execution_count": 1,
   "metadata": {
    "collapsed": true
   },
   "outputs": [],
   "source": [
    "import numpy as np\n",
    "%matplotlib inline\n",
    "import matplotlib.pyplot as plt\n"
   ]
  },
  {
   "cell_type": "code",
   "execution_count": 2,
   "metadata": {},
   "outputs": [
    {
     "data": {
      "text/plain": [
       "11.54"
      ]
     },
     "execution_count": 2,
     "metadata": {},
     "output_type": "execute_result"
    }
   ],
   "source": [
    "11.43\n",
    "11.54"
   ]
  },
  {
   "cell_type": "code",
   "execution_count": 3,
   "metadata": {},
   "outputs": [
    {
     "data": {
      "text/plain": [
       "0.9532062391680967"
      ]
     },
     "execution_count": 3,
     "metadata": {},
     "output_type": "execute_result"
    }
   ],
   "source": [
    "100-(11.43/11.54*100)"
   ]
  },
  {
   "cell_type": "code",
   "execution_count": 4,
   "metadata": {
    "collapsed": true
   },
   "outputs": [],
   "source": [
    "P1 = [11.43, 9.94,10.08, 9.2,  9.52, 9.1, 4.82, 5.66,2.76]\n",
    "P2 = [11.54,10.36,11.26,12.04,12.37,12.8,11.24,10.61,11.2]\n",
    "\n",
    "DeltaP = 0.01"
   ]
  },
  {
   "cell_type": "code",
   "execution_count": 7,
   "metadata": {
    "collapsed": true
   },
   "outputs": [],
   "source": [
    "P1 = [0.99,1.02,1.05]\n",
    "P2 = [1.02,1.05,1.12]"
   ]
  },
  {
   "cell_type": "code",
   "execution_count": null,
   "metadata": {
    "collapsed": true
   },
   "outputs": [],
   "source": []
  },
  {
   "cell_type": "code",
   "execution_count": 8,
   "metadata": {},
   "outputs": [
    {
     "name": "stdout",
     "output_type": "stream",
     "text": [
      "Percent Xe  97.05882352941177\n",
      "Error  1.366246567529658\n",
      "Percent Ar  2.9411764705882377\n",
      "Error  0.05045332226504513\n",
      "\n",
      "\n",
      "Percent Xe  94.28571428571428\n",
      "Error  1.8499402789452108\n",
      "Percent Ar  5.714285714285719\n",
      "Error  0.12462777978394227\n",
      "\n",
      "\n",
      "Percent Xe  88.39285714285712\n",
      "Error  2.083128126211536\n",
      "Percent Ar  11.607142857142867\n",
      "Error  0.2925158517287634\n",
      "\n",
      "\n"
     ]
    }
   ],
   "source": [
    "Frac_xe = 1\n",
    "Frac_xeErr = 0\n",
    "for x in range(0,len(P1)):\n",
    "#for x in [0]:\n",
    "    P1Xe    = P1[x]*Frac_xe\n",
    "    P1XeErr = P1Xe*np.sqrt((DeltaP/P1[x])**2+(Frac_xeErr/Frac_xe)**2)\n",
    "    P2Ar    = P2[x]-P1Xe\n",
    "    P2ArErr = P2Ar*np.sqrt((DeltaP/P2[x])**2+(P1XeErr/P1Xe)**2)\n",
    "    Ptot    = P2[x]\n",
    "    PtotErr = Ptot*np.sqrt((DeltaP/P2[x])**2)\n",
    "    \n",
    "    PerXe   = P1Xe/Ptot\n",
    "    PerXeErr= PerXe*np.sqrt((P1XeErr/P1Xe)**2+(PtotErr/Ptot)**2)\n",
    "    \n",
    "    PerAr   = P2Ar/Ptot\n",
    "    PerArErr= PerAr*np.sqrt((P2ArErr/P2Ar)**2+(PtotErr/Ptot)**2)\n",
    "    print(\"Percent Xe \",PerXe*100)\n",
    "    print(\"Error \",PerXeErr*100)\n",
    "    print(\"Percent Ar \",PerAr*100)\n",
    "    print(\"Error \",PerArErr*100)\n",
    "    print(\"\\n\")\n",
    "\n",
    "    Frac_xe = PerXe\n",
    "    Frac_xeErr = PerXeErr"
   ]
  },
  {
   "cell_type": "code",
   "execution_count": 26,
   "metadata": {},
   "outputs": [
    {
     "data": {
      "text/plain": [
       "0.990467937608319"
      ]
     },
     "execution_count": 26,
     "metadata": {},
     "output_type": "execute_result"
    }
   ],
   "source": [
    "PerXe"
   ]
  },
  {
   "cell_type": "code",
   "execution_count": 27,
   "metadata": {},
   "outputs": [
    {
     "data": {
      "text/plain": [
       "1143.0000000003288"
      ]
     },
     "execution_count": 27,
     "metadata": {},
     "output_type": "execute_result"
    }
   ],
   "source": [
    "PerXeErr"
   ]
  },
  {
   "cell_type": "code",
   "execution_count": 29,
   "metadata": {},
   "outputs": [
    {
     "data": {
      "text/plain": [
       "0.0012313994008848815"
      ]
     },
     "execution_count": 29,
     "metadata": {},
     "output_type": "execute_result"
    }
   ],
   "source": [
    "np.sqrt((P1XeErr/P1Xe)**2+(PtotErr/Ptot)**2)"
   ]
  },
  {
   "cell_type": "code",
   "execution_count": 20,
   "metadata": {},
   "outputs": [
    {
     "data": {
      "text/plain": [
       "0.01"
      ]
     },
     "execution_count": 20,
     "metadata": {},
     "output_type": "execute_result"
    }
   ],
   "source": [
    "P1XeErr"
   ]
  },
  {
   "cell_type": "code",
   "execution_count": 23,
   "metadata": {},
   "outputs": [
    {
     "data": {
      "text/plain": [
       "0.00013545393409733627"
      ]
     },
     "execution_count": 23,
     "metadata": {},
     "output_type": "execute_result"
    }
   ],
   "source": [
    "P2ArErr"
   ]
  },
  {
   "cell_type": "code",
   "execution_count": 24,
   "metadata": {},
   "outputs": [
    {
     "data": {
      "text/plain": [
       "11.54"
      ]
     },
     "execution_count": 24,
     "metadata": {},
     "output_type": "execute_result"
    }
   ],
   "source": [
    "Ptot"
   ]
  },
  {
   "cell_type": "code",
   "execution_count": 25,
   "metadata": {},
   "outputs": [
    {
     "data": {
      "text/plain": [
       "0.00013545393409733627"
      ]
     },
     "execution_count": 25,
     "metadata": {},
     "output_type": "execute_result"
    }
   ],
   "source": [
    "P2ArErr"
   ]
  },
  {
   "cell_type": "code",
   "execution_count": null,
   "metadata": {
    "collapsed": true
   },
   "outputs": [],
   "source": []
  },
  {
   "cell_type": "code",
   "execution_count": null,
   "metadata": {
    "collapsed": true
   },
   "outputs": [],
   "source": []
  }
 ],
 "metadata": {
  "kernelspec": {
   "display_name": "Python 3",
   "language": "python",
   "name": "python3"
  },
  "language_info": {
   "codemirror_mode": {
    "name": "ipython",
    "version": 3
   },
   "file_extension": ".py",
   "mimetype": "text/x-python",
   "name": "python",
   "nbconvert_exporter": "python",
   "pygments_lexer": "ipython3",
   "version": "3.6.7"
  }
 },
 "nbformat": 4,
 "nbformat_minor": 1
}
