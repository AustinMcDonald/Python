{
 "cells": [
  {
   "cell_type": "code",
   "execution_count": 1,
   "metadata": {
    "collapsed": true
   },
   "outputs": [],
   "source": [
    "import csv\n",
    "import numpy as np\n",
    "import matplotlib.pyplot as plt\n",
    "import matplotlib.mlab as mlab\n",
    "import os\n",
    "import glob\n",
    "%matplotlib inline\n",
    "from scipy.optimize import curve_fit\n",
    "import math\n",
    "import pandas as pd\n",
    "from pandas import DataFrame, read_csv\n",
    "#from pyexcel_ods import get_data \n",
    "import pylab as pl"
   ]
  },
  {
   "cell_type": "code",
   "execution_count": 7,
   "metadata": {
    "collapsed": false
   },
   "outputs": [
    {
     "data": {
      "text/plain": [
       "['.DS_Store',\n",
       " 'C4Background_LED00001.csv',\n",
       " 'C4Background_LED00002.csv',\n",
       " 'C4Background_LED00003.csv',\n",
       " 'C4Background_LED00004.csv',\n",
       " 'C4Background_LED00005.csv']"
      ]
     },
     "execution_count": 7,
     "metadata": {},
     "output_type": "execute_result"
    }
   ],
   "source": [
    "os.listdir(path)"
   ]
  },
  {
   "cell_type": "code",
   "execution_count": 19,
   "metadata": {
    "collapsed": false
   },
   "outputs": [
    {
     "data": {
      "text/plain": [
       "'C4Background_LED00001.csv'"
      ]
     },
     "execution_count": 19,
     "metadata": {},
     "output_type": "execute_result"
    }
   ],
   "source": [
    "filename[0]"
   ]
  },
  {
   "cell_type": "code",
   "execution_count": 45,
   "metadata": {
    "collapsed": false
   },
   "outputs": [],
   "source": [
    "path= '/Users/austinmcdonald/Desktop/data/NaI test/LED mesh_V_glass/LED only/'\n",
    "filename = []\n",
    "volt = dict()\n",
    "#filelength = 5e7   #Some files are missing a few traces. Set minimum filelength to insure all files considered\n",
    "                   #have all traces. Uncomment if statement to set condition\n",
    "for x in range(1,len(os.listdir(path))):\n",
    "    filename.append(os.listdir(path)[x])\n",
    "    data = pd.read_csv(path+filename[x-1], names=['Col1','Col2','Col3','xval','yval'])\n",
    "    #if len(data) > filelength: \n",
    "    PPT = int(data['Col2'][0])\n",
    "    dx = data['Col2'][1] \n",
    "    NTraces = int(len(data)/PPT) if PPT != 0 else float ('nan')\n",
    "    voltage = data['yval'] \n",
    "    voltage.fillna(0)\n",
    "    volt[x] = pd.DataFrame(voltage.values.reshape(NTraces,PPT)) \n",
    "#    area = abs((volt.sum(axis=1))*dx)\n",
    "#    area = np.array(area)\n",
    "#    np.savetxt(\"areas\"+str(x)+\".csv\", area, delimiter=\",\")\n",
    "#    voltage = None\n",
    "#    data = None\n",
    "#    PPT = None\n",
    "#    dx = None\n",
    "#    NTraces = None\n",
    "#    volt = None\n",
    "#    area = None"
   ]
  },
  {
   "cell_type": "code",
   "execution_count": 44,
   "metadata": {
    "collapsed": false
   },
   "outputs": [],
   "source": [
    "voltbackf = pd.concat([volt[1],volt[2],volt[3],volt[4],volt[5]])\n",
    "voltbackff = voltbackf.transpose()\n",
    "voltbackff['mean'] = voltbackff.mean(axis=1)"
   ]
  },
  {
   "cell_type": "code",
   "execution_count": 48,
   "metadata": {
    "collapsed": false
   },
   "outputs": [],
   "source": [
    "ledbackf = pd.concat([volt[1],volt[2],volt[3],volt[4],volt[5]])\n",
    "ledbackff = ledbackf.transpose()"
   ]
  },
  {
   "cell_type": "code",
   "execution_count": null,
   "metadata": {
    "collapsed": true
   },
   "outputs": [],
   "source": [
    "ledbackff['sig'] = ledbackff.subtract(voltbackff['mean'])"
   ]
  }
 ],
 "metadata": {
  "kernelspec": {
   "display_name": "Python 3",
   "language": "python",
   "name": "python3"
  },
  "language_info": {
   "codemirror_mode": {
    "name": "ipython",
    "version": 3
   },
   "file_extension": ".py",
   "mimetype": "text/x-python",
   "name": "python",
   "nbconvert_exporter": "python",
   "pygments_lexer": "ipython3",
   "version": "3.5.2"
  }
 },
 "nbformat": 4,
 "nbformat_minor": 0
}
