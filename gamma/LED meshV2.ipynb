{
 "cells": [
  {
   "cell_type": "code",
   "execution_count": 1,
   "metadata": {
    "collapsed": true
   },
   "outputs": [],
   "source": [
    "import os\n",
    "import glob\n",
    "import math\n",
    "import matplotlib.pyplot as plt\n",
    "import matplotlib.mlab as mlab\n",
    "import csv \n",
    "import pandas as pd\n",
    "import numpy as np\n",
    "%matplotlib inline\n",
    "from pandas import DataFrame, read_csv\n",
    "from scipy.optimize import curve_fit\n",
    "from scipy import asarray as ar,exp\n",
    "import scipy.special as sse\n",
    "from scipy.stats import chisquare\n"
   ]
  },
  {
   "cell_type": "code",
   "execution_count": 11,
   "metadata": {
    "collapsed": false
   },
   "outputs": [
    {
     "name": "stdout",
     "output_type": "stream",
     "text": [
      "/Users/austinmcdonald/Desktop/data/NaI test/meshv2areas/Big mesh\n"
     ]
    }
   ],
   "source": [
    "cd /Users/austinmcdonald/Desktop/data/NaI test/meshv2areas/Big mesh"
   ]
  },
  {
   "cell_type": "code",
   "execution_count": 12,
   "metadata": {
    "collapsed": false
   },
   "outputs": [],
   "source": [
    "allFiles = glob.glob(\"*.csv\")\n",
    "df = pd.concat((pd.read_csv(f,header=None) for f in allFiles), axis=1)\n",
    "rows = len(df[0])\n",
    "columns = len(allFiles)\n",
    "new_length = rows*columns\n",
    "areas = df.values.reshape(new_length,1)"
   ]
  },
  {
   "cell_type": "code",
   "execution_count": 19,
   "metadata": {
    "collapsed": false
   },
   "outputs": [],
   "source": [
    "#areasB = areas\n",
    "#areasLED = areas\n",
    "#areasLEDm = areas\n",
    "#areasLEDM = areas"
   ]
  },
  {
   "cell_type": "code",
   "execution_count": 20,
   "metadata": {
    "collapsed": false
   },
   "outputs": [
    {
     "name": "stdout",
     "output_type": "stream",
     "text": [
      "mean B = 0.21621343968\n",
      "mean LED = 2.01344845248\n",
      "mean LEDGm = 0.52010061056\n",
      "mean LEDM = 0.15047982976\n"
     ]
    }
   ],
   "source": [
    "print('mean B =',np.mean(areasB)/1e-9)\n",
    "#print('sum mean B =',np.sum(areasB))\n",
    "\n",
    "print('mean LED =',np.mean(areasLED)/1e-9)\n",
    "#print('sum mean LED =',np.sum(areasLED))\n",
    "\n",
    "print('mean LEDGm =',np.mean(areasLEDm)/1e-9)\n",
    "print('mean LEDM =',np.mean(areasLEDM)/1e-9)"
   ]
  },
  {
   "cell_type": "code",
   "execution_count": 21,
   "metadata": {
    "collapsed": false
   },
   "outputs": [
    {
     "data": {
      "image/png": "[encoded data removed]",
      "text/plain": [
       "<matplotlib.figure.Figure at 0x11ac0e438>"
      ]
     },
     "metadata": {},
     "output_type": "display_data"
    }
   ],
   "source": [
    "#Plotting Raw Data\n",
    "\n",
    "nbins= 100\n",
    "\n",
    "#hist, bin_edges = np.histogram(areas , nbins)\n",
    "\n",
    "plt.figure(figsize=(10,10))\n",
    "plt.hist(areasB, bins=nbins,color='k')\n",
    "plt.hist(areasLED, bins=nbins,color='r',alpha=0.7)\n",
    "plt.hist(areasLEDm, bins=nbins,color='b',alpha=0.7)\n",
    "plt.hist(areasLEDM, bins=nbins,color='c',alpha=0.7)\n",
    "#plt.text(0.2e-9, 3200, 'noise  0.089n', fontsize=20,color='k')\n",
    "#plt.text(0.7e-9, 2100, 'ITO glass  1.54n', fontsize=20,color='b')\n",
    "#plt.text(2.3e-9, 1500, 'mesh  2.03n', fontsize=20,color='c')\n",
    "#plt.text(4e-9, 1700, 'LED  4.22n', fontsize=20,color='r')\n",
    "\n",
    "\n",
    "#areahist = np.histogram(areas, nbins) \n",
    "#yaxis = areahist[0]\n",
    "#xaxis = areahist[1]\n",
    "plt.xlim(-1e-10,3e-9)\n",
    "#plt.savefig('/Users/austinmcdonald/Desktop/test.pdf')\n",
    "\n",
    "plt.show()"
   ]
  }
 ],
 "metadata": {
  "kernelspec": {
   "display_name": "Python 3",
   "language": "python",
   "name": "python3"
  },
  "language_info": {
   "codemirror_mode": {
    "name": "ipython",
    "version": 3
   },
   "file_extension": ".py",
   "mimetype": "text/x-python",
   "name": "python",
   "nbconvert_exporter": "python",
   "pygments_lexer": "ipython3",
   "version": "3.5.2"
  }
 },
 "nbformat": 4,
 "nbformat_minor": 0
}
