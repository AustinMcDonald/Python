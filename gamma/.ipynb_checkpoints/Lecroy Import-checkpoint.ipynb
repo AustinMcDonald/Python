{
 "cells": [
  {
   "cell_type": "code",
   "execution_count": 2,
   "metadata": {
    "collapsed": false
   },
   "outputs": [],
   "source": [
    "import csv\n",
    "import numpy as np\n",
    "import matplotlib.pyplot as plt\n",
    "import matplotlib.mlab as mlab\n",
    "import os\n",
    "import glob\n",
    "%matplotlib inline\n",
    "from scipy.optimize import curve_fit\n",
    "import math\n",
    "import pandas as pd\n",
    "from pandas import DataFrame, read_csv\n",
    "#from pyexcel_ods import get_data \n",
    "import pylab as pl"
   ]
  },
  {
   "cell_type": "code",
   "execution_count": 2,
   "metadata": {
    "collapsed": false,
    "scrolled": true
   },
   "outputs": [
    {
     "name": "stdout",
     "output_type": "stream",
     "text": [
      "/home/user/Desktop/compton coincidence test/Areas\n"
     ]
    }
   ],
   "source": [
    "cd /home/user/Desktop/compton coincidence test/Areas"
   ]
  },
  {
   "cell_type": "code",
   "execution_count": 5,
   "metadata": {
    "collapsed": false,
    "scrolled": true
   },
   "outputs": [],
   "source": [
    "path= '/home/user/Desktop/compton coincidence test/Traces/'\n",
    "filename = []\n",
    "#filelength = 5e7   #Some files are missing a few traces. Set minimum filelength to insure all files considered\n",
    "                   #have all traces. Uncomment if statement to set condition\n",
    "for x in range(0,len(os.listdir(path))):\n",
    "    filename.append(os.listdir(path)[x])\n",
    "    data = pd.read_csv(path+filename[x], names=['Col1','Col2','Col3','xval','yval'])\n",
    "    #if len(data) > filelength: \n",
    "    PPT = int(data['Col2'][0])\n",
    "    dx = data['Col2'][1] \n",
    "    NTraces = int(len(data)/PPT) if PPT != 0 else float ('nan')\n",
    "    voltage = data['yval'] \n",
    "    voltage.fillna(0)\n",
    "    volt = pd.DataFrame(voltage.values.reshape(NTraces,PPT)) \n",
    "    area = abs((volt.sum(axis=1))*dx)\n",
    "    area = np.array(area)\n",
    "    np.savetxt(\"areas\"+str(x)+\".csv\", area, delimiter=\",\")\n",
    "    voltage = None\n",
    "    data = None\n",
    "    PPT = None\n",
    "    dx = None\n",
    "    NTraces = None\n",
    "    volt = None\n",
    "    area = None"
   ]
  },
  {
   "cell_type": "code",
   "execution_count": null,
   "metadata": {
    "collapsed": true
   },
   "outputs": [],
   "source": []
  }
 ],
 "metadata": {
  "kernelspec": {
   "display_name": "Python 3",
   "language": "python",
   "name": "python3"
  },
  "language_info": {
   "codemirror_mode": {
    "name": "ipython",
    "version": 3
   },
   "file_extension": ".py",
   "mimetype": "text/x-python",
   "name": "python",
   "nbconvert_exporter": "python",
   "pygments_lexer": "ipython3",
   "version": "3.5.2"
  }
 },
 "nbformat": 4,
 "nbformat_minor": 0
}
