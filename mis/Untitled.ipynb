{
 "cells": [
  {
   "cell_type": "code",
   "execution_count": 1,
   "metadata": {
    "collapsed": true
   },
   "outputs": [],
   "source": [
    "import numpy as np\n",
    "import matplotlib.pyplot as plt\n",
    "import matplotlib.mlab as mlab\n",
    "from scipy import signal\n",
    "import os\n",
    "import glob\n",
    "%matplotlib inline\n",
    "from scipy.optimize import curve_fit\n",
    "from scipy.signal import savgol_filter\n",
    "import matplotlib.cm as cm\n",
    "import pandas as pd\n",
    "from random import randint\n"
   ]
  },
  {
   "cell_type": "code",
   "execution_count": 2,
   "metadata": {
    "collapsed": true
   },
   "outputs": [],
   "source": [
    "def Gauss(x, a, x0, sigma):\n",
    "    return a * np.exp(-(x - x0)**2 / (2 * sigma**2))\n",
    "def find_nearest(array,value):\n",
    "    idx = (np.abs(array-value)).argmin()\n",
    "    return array[idx]\n",
    "def find_fit_vals(dataX,dataY):\n",
    "    maxx = max(dataY)\n",
    "    sig_val = maxx*0.5\n",
    "    MeanLoc = np.where(dataY==max(dataY))[0][0]\n",
    "    Mean = dataX[MeanLoc]\n",
    "    L = dataY[0:MeanLoc]\n",
    "    R = dataY[MeanLoc:len(dataY)]\n",
    "    LP =find_nearest(L,sig_val)\n",
    "    RP =find_nearest(R,sig_val)\n",
    "    whereL = np.where(L==LP)[0][0]\n",
    "    whereR = np.where(R==RP)[0][0]\n",
    "    Lpoint = dataX[whereL]\n",
    "    Rpoint = dataX[MeanLoc+whereR]\n",
    "    sigma_point = (Rpoint-Lpoint)/2   \n",
    "    return (Mean,sigma_point)"
   ]
  },
  {
   "cell_type": "code",
   "execution_count": 3,
   "metadata": {
    "collapsed": false
   },
   "outputs": [],
   "source": [
    "Number = 1000\n",
    "val = np.zeros(Number)\n",
    "rad = np.random.normal(0.5, .01, Number)"
   ]
  },
  {
   "cell_type": "code",
   "execution_count": 4,
   "metadata": {
    "collapsed": true
   },
   "outputs": [],
   "source": [
    "hist, bin_edges = np.histogram(rad , 20)\n",
    "bin_centres = (bin_edges[:-1] + bin_edges[1:])/2"
   ]
  },
  {
   "cell_type": "code",
   "execution_count": 5,
   "metadata": {
    "collapsed": false
   },
   "outputs": [
    {
     "data": {
      "image/png": "[encoded data removed]",
      "text/plain": [
       "<matplotlib.figure.Figure at 0x117649080>"
      ]
     },
     "metadata": {},
     "output_type": "display_data"
    },
    {
     "data": {
      "image/png": "[encoded data removed]",
      "text/plain": [
       "<matplotlib.figure.Figure at 0x1199edf60>"
      ]
     },
     "metadata": {},
     "output_type": "display_data"
    }
   ],
   "source": [
    "\n",
    "plt.scatter(rad,val)\n",
    "plt.show()\n",
    "plt.plot(bin_centres,hist)\n",
    "plt.scatter(bin_centres,hist)\n",
    "plt.show()"
   ]
  },
  {
   "cell_type": "code",
   "execution_count": 6,
   "metadata": {
    "collapsed": false
   },
   "outputs": [
    {
     "data": {
      "text/plain": [
       "array([  1.29485029e+02,   5.00085931e-01,   9.06146916e-03])"
      ]
     },
     "execution_count": 6,
     "metadata": {},
     "output_type": "execute_result"
    }
   ],
   "source": [
    "x = bin_centres\n",
    "y = hist\n",
    "aa = find_fit_vals(x,y)\n",
    "popt,pcov = curve_fit(Gauss, x, y, p0=[max(y), aa[0], aa[1]])\n",
    "popt"
   ]
  },
  {
   "cell_type": "code",
   "execution_count": null,
   "metadata": {
    "collapsed": true
   },
   "outputs": [],
   "source": []
  },
  {
   "cell_type": "code",
   "execution_count": null,
   "metadata": {
    "collapsed": true
   },
   "outputs": [],
   "source": []
  },
  {
   "cell_type": "code",
   "execution_count": 9,
   "metadata": {
    "collapsed": false
   },
   "outputs": [],
   "source": [
    "K = 9e9\n",
    "Q = 1.6e-19\n",
    "m = 9.109e-31\n",
    "dt = 1e-6\n",
    "times = int(1.5e1)\n",
    "newval = np.zeros(len(rad))\n",
    "for w in range(0,times):\n",
    "    rad += newval\n",
    "    newval = []\n",
    "    for q in range(0,len(rad)):\n",
    "        F = 0\n",
    "        for particle in rad:\n",
    "            if rad[q] > particle:\n",
    "                r = rad[q] - particle\n",
    "                F += 1/(r**2)\n",
    "            elif rad[q] < particle:\n",
    "                r = rad[q] - particle\n",
    "                F += -1/(r**2)\n",
    "            else:\n",
    "                None\n",
    "        dD = ((K*(Q*dt)**2)/m)* F\n",
    "        newval.append(dD)\n",
    "    newval = np.array(newval)            \n",
    "            \n",
    "            \n",
    "            "
   ]
  },
  {
   "cell_type": "code",
   "execution_count": 11,
   "metadata": {
    "collapsed": false
   },
   "outputs": [
    {
     "data": {
      "text/plain": [
       "1000"
      ]
     },
     "execution_count": 11,
     "metadata": {},
     "output_type": "execute_result"
    }
   ],
   "source": [
    "len(newval)"
   ]
  },
  {
   "cell_type": "code",
   "execution_count": null,
   "metadata": {
    "collapsed": false
   },
   "outputs": [],
   "source": [
    "tt =rad[rad>0] \n",
    "tt = tt[tt<1]\n",
    "plt.hist(tt,15)\n",
    "plt.show()"
   ]
  },
  {
   "cell_type": "code",
   "execution_count": 78,
   "metadata": {
    "collapsed": false
   },
   "outputs": [
    {
     "data": {
      "text/plain": [
       "array([ 0.51137541,  1.19606201, -0.02395367,  1.36896454,  0.05371694,\n",
       "        0.70175244,  0.79168939,  0.12233589,  0.21949045,  0.63673958])"
      ]
     },
     "execution_count": 78,
     "metadata": {},
     "output_type": "execute_result"
    }
   ],
   "source": [
    "radO"
   ]
  },
  {
   "cell_type": "code",
   "execution_count": null,
   "metadata": {
    "collapsed": true
   },
   "outputs": [],
   "source": []
  },
  {
   "cell_type": "code",
   "execution_count": null,
   "metadata": {
    "collapsed": true
   },
   "outputs": [],
   "source": []
  },
  {
   "cell_type": "code",
   "execution_count": null,
   "metadata": {
    "collapsed": true
   },
   "outputs": [],
   "source": []
  },
  {
   "cell_type": "code",
   "execution_count": 43,
   "metadata": {
    "collapsed": true
   },
   "outputs": [],
   "source": []
  },
  {
   "cell_type": "code",
   "execution_count": null,
   "metadata": {
    "collapsed": true
   },
   "outputs": [],
   "source": []
  },
  {
   "cell_type": "code",
   "execution_count": 51,
   "metadata": {
    "collapsed": true
   },
   "outputs": [],
   "source": [
    "hist, bin_edges = np.histogram(tt , 20)\n",
    "bin_centres = (bin_edges[:-1] + bin_edges[1:])/2"
   ]
  },
  {
   "cell_type": "code",
   "execution_count": 50,
   "metadata": {
    "collapsed": false
   },
   "outputs": [
    {
     "data": {
      "image/png": "[encoded data removed]",
      "text/plain": [
       "<matplotlib.figure.Figure at 0x11a5249b0>"
      ]
     },
     "metadata": {},
     "output_type": "display_data"
    }
   ],
   "source": [
    "plt.hist(tt, bins=20)\n",
    "plt.show()"
   ]
  },
  {
   "cell_type": "code",
   "execution_count": 52,
   "metadata": {
    "collapsed": true
   },
   "outputs": [],
   "source": [
    "x = bin_centres\n",
    "y = hist\n",
    "aa = find_fit_vals(x,y)\n",
    "popt,pcov = curve_fit(Gauss, x, y, p0=[max(y), aa[0], aa[1]])"
   ]
  },
  {
   "cell_type": "code",
   "execution_count": 53,
   "metadata": {
    "collapsed": false
   },
   "outputs": [
    {
     "data": {
      "text/plain": [
       "array([ 10.47776307,   0.50164162,   0.12005467])"
      ]
     },
     "execution_count": 53,
     "metadata": {},
     "output_type": "execute_result"
    }
   ],
   "source": [
    "popt"
   ]
  },
  {
   "cell_type": "code",
   "execution_count": null,
   "metadata": {
    "collapsed": true
   },
   "outputs": [],
   "source": []
  },
  {
   "cell_type": "code",
   "execution_count": null,
   "metadata": {
    "collapsed": true
   },
   "outputs": [],
   "source": []
  },
  {
   "cell_type": "code",
   "execution_count": null,
   "metadata": {
    "collapsed": true
   },
   "outputs": [],
   "source": []
  },
  {
   "cell_type": "code",
   "execution_count": null,
   "metadata": {
    "collapsed": true
   },
   "outputs": [],
   "source": []
  },
  {
   "cell_type": "code",
   "execution_count": null,
   "metadata": {
    "collapsed": true
   },
   "outputs": [],
   "source": []
  },
  {
   "cell_type": "code",
   "execution_count": null,
   "metadata": {
    "collapsed": true
   },
   "outputs": [],
   "source": [
    "K = 1#9e9\n",
    "Q = 1#1.6e-19\n",
    "m = 1\n",
    "dt = 1\n",
    "newval = 9\n",
    "for q in range(0,len(rad)):\n",
    "    F = 0\n",
    "    for particle in rad:\n",
    "        if rad[q] > particle:\n",
    "            r = rad[q] - particle\n",
    "            F += 1/(r**2)\n",
    "        elif rad[q] < particle:\n",
    "            r = rad[q] - particle\n",
    "            F += -1/(r**2)\n",
    "        else:\n",
    "            None\n",
    "    dD = ((K*(Q*dt)**2)/m)* F\n",
    "    newval.append(dD)\n",
    "newval = np.array(newval)            \n",
    "            \n",
    "            \n",
    "            "
   ]
  },
  {
   "cell_type": "code",
   "execution_count": null,
   "metadata": {
    "collapsed": true
   },
   "outputs": [],
   "source": []
  }
 ],
 "metadata": {
  "kernelspec": {
   "display_name": "Python 3",
   "language": "python",
   "name": "python3"
  },
  "language_info": {
   "codemirror_mode": {
    "name": "ipython",
    "version": 3
   },
   "file_extension": ".py",
   "mimetype": "text/x-python",
   "name": "python",
   "nbconvert_exporter": "python",
   "pygments_lexer": "ipython3",
   "version": "3.5.2"
  }
 },
 "nbformat": 4,
 "nbformat_minor": 0
}
