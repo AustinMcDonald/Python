{
 "cells": [
  {
   "cell_type": "code",
   "execution_count": 1,
   "metadata": {
    "collapsed": true
   },
   "outputs": [],
   "source": [
    "import numpy as np\n",
    "import matplotlib.pyplot as plt\n",
    "%matplotlib inline"
   ]
  },
  {
   "cell_type": "code",
   "execution_count": 6,
   "metadata": {
    "collapsed": false
   },
   "outputs": [
    {
     "name": "stderr",
     "output_type": "stream",
     "text": [
      "//anaconda/envs/py35/lib/python3.5/site-packages/ipykernel/__main__.py:13: RuntimeWarning: invalid value encountered in sqrt\n",
      "//anaconda/envs/py35/lib/python3.5/site-packages/matplotlib/scale.py:93: RuntimeWarning: invalid value encountered in less_equal\n",
      "  mask = a <= 0.0\n"
     ]
    },
    {
     "data": {
      "image/png": "[encoded data removed]",
      "text/plain": [
       "<matplotlib.figure.Figure at 0x120198e10>"
      ]
     },
     "metadata": {},
     "output_type": "display_data"
    }
   ],
   "source": [
    "beta = np.arange(1e-1, 10, 1e-6)\n",
    "c = 3e8   #speed of light\n",
    "Z = 54    #atomic number of TPC medium\n",
    "A = 131   #atomic mass of TPC medium\n",
    "z = 1     #charge of the particle\n",
    "re =2.8e-13   #radius of electron in meters\n",
    "me = 511e3/(c**2)    # mass of electron in eV\n",
    "M = 938e6/(c**2)     # mass of Proton\n",
    "M2 = 3.72e9/(c**2)  # mass of alpha\n",
    "M3 = 105e6/(c**2)   # mass of muon\n",
    "Na = 6.02e23    # avagrado number mol-1\n",
    "\n",
    "gamma = 1/(np.sqrt(1-beta**2))\n",
    "X = beta*gamma\n",
    "#Wmax = (2*me*c**2*(t**2))/(1+2*gamma*(me/M)+(me/M)**2)\n",
    "\n",
    "def f(t):\n",
    "    return 2*np.pi*Na*re**2*me*c**2*(Z/A)*(z/beta)**2*(np.log((2*me*c**2*(t**2)*(2*me*c**2*(t**2))/(1+2*gamma*(me/M)+(me/M)**2))/(10))-beta**2)\n",
    "\n",
    "def ff(t):\n",
    "    return 2*np.pi*Na*re**2*me*c**2*(Z/A)*(2/beta)**2*(np.log((2*me*c**2*(t**2)*(2*me*c**2*(t**2))/(1+2*gamma*(me/M2)+(me/M2)**2))/(10))-beta**2)\n",
    "\n",
    "def fff(t):\n",
    "    return 2*np.pi*Na*re**2*me*c**2*(Z/A)*(z/beta)**2*(np.log((2*me*c**2*(t**2)*(2*me*c**2*(t**2))/(1+2*gamma*(me/M3)+(me/M3)**2))/(10))-beta**2)\n",
    "\n",
    "def ffff(t):\n",
    "    return 2*np.pi*Na*re**2*me*c**2*(Z/A)*(z/beta)**2*(np.log((2*me*c**2*(t**2)*(2*me*c**2*(t**2))/(1+2*gamma*(me/me)+(me/me)**2))/(10))-beta**2)\n",
    "\n",
    "def fele(t):\n",
    "    return 2*np.pi*Na*Z**2/(me*t**2)*np.log(2*me*t**2/(10*Z))\n",
    "\n",
    "\n",
    "#Pro= np.sqrt((X*M*c**2)**2+(M*c**2)**2)/(1e9) # this is to correct beta gamma to momentum in GeV\n",
    "#Alp=np.sqrt((X*M2*c**2)**2+(M2*c**2)**2)/(1e9)\n",
    "#Muo=np.sqrt((X*M3*c**2)**2+(M3*c**2)**2)/(1e9)\n",
    "Ele=np.sqrt((X*me*c**2)**2+(me*c**2)**2)/(1e9)\n",
    "\n",
    "plt.figure(figsize=(8,8))\n",
    "\n",
    "#plt.semilogx(X,f(Pro)/(1e6),color='b',label='proton',linewidth=2)\n",
    "#plt.semilogx(X,ff(Alp)/(1e6),color='g',label='alpha',linewidth=2)\n",
    "#plt.semilogx(X,fff(Muo)/(1e6),color='r',label='muon',linewidth=2)\n",
    "plt.semilogx(Ele,fele(Ele)/(1e6),color='r',label='electron',linewidth=2)\n",
    "plt.grid(True, which=\"both\")\n",
    "plt.xlabel(r'$ \\beta \\gamma $',fontsize=30)\n",
    "plt.ylabel(r'$- \\frac{dE}{dx}$ in $MeV \\cdot cm \\cdot g^{-1}$',fontsize=30)\n",
    "plt.title('Energy Loss',fontsize=30)\n",
    "#plt.xlim(1e-1,5e2)\n",
    "plt.ylim(0,1.5e1)\n",
    "plt.legend(loc='center right',fontsize=20,shadow=True, fancybox=True)\n",
    "plt.tight_layout()\n",
    "#plt.savefig('/Users/austinmcdonald/Desktop/bgloss.pdf')\n",
    "\n",
    "plt.show()"
   ]
  },
  {
   "cell_type": "code",
   "execution_count": 8,
   "metadata": {
    "collapsed": false
   },
   "outputs": [
    {
     "data": {
      "text/plain": [
       "-4.988742527205352e+41"
      ]
     },
     "execution_count": 8,
     "metadata": {},
     "output_type": "execute_result"
    }
   ],
   "source": [
    "max(fele(Ele))"
   ]
  },
  {
   "cell_type": "code",
   "execution_count": null,
   "metadata": {
    "collapsed": true
   },
   "outputs": [],
   "source": []
  },
  {
   "cell_type": "code",
   "execution_count": 3,
   "metadata": {
    "collapsed": false
   },
   "outputs": [
    {
     "data": {
      "text/plain": [
       "1988521.1857093701"
      ]
     },
     "execution_count": 3,
     "metadata": {},
     "output_type": "execute_result"
    }
   ],
   "source": [
    "min(f(X))"
   ]
  },
  {
   "cell_type": "code",
   "execution_count": 4,
   "metadata": {
    "collapsed": false
   },
   "outputs": [
    {
     "data": {
      "text/plain": [
       "866909"
      ]
     },
     "execution_count": 4,
     "metadata": {},
     "output_type": "execute_result"
    }
   ],
   "source": [
    "np.where(f(X)==min(f(X)))[0][0]"
   ]
  },
  {
   "cell_type": "code",
   "execution_count": 5,
   "metadata": {
    "collapsed": false
   },
   "outputs": [
    {
     "data": {
      "text/plain": [
       "2.0647416048447162"
      ]
     },
     "execution_count": 5,
     "metadata": {},
     "output_type": "execute_result"
    }
   ],
   "source": [
    "X[800000]"
   ]
  },
  {
   "cell_type": "code",
   "execution_count": 6,
   "metadata": {
    "collapsed": false
   },
   "outputs": [
    {
     "data": {
      "text/plain": [
       "900000"
      ]
     },
     "execution_count": 6,
     "metadata": {},
     "output_type": "execute_result"
    }
   ],
   "source": [
    "len(f(X))"
   ]
  },
  {
   "cell_type": "code",
   "execution_count": 7,
   "metadata": {
    "collapsed": false
   },
   "outputs": [
    {
     "data": {
      "text/plain": [
       "1986299.5095752452"
      ]
     },
     "execution_count": 7,
     "metadata": {},
     "output_type": "execute_result"
    }
   ],
   "source": [
    "min(fff(X))"
   ]
  },
  {
   "cell_type": "code",
   "execution_count": 8,
   "metadata": {
    "collapsed": false
   },
   "outputs": [
    {
     "data": {
      "text/plain": [
       "867146"
      ]
     },
     "execution_count": 8,
     "metadata": {},
     "output_type": "execute_result"
    }
   ],
   "source": [
    "np.where(fff(X)==min(fff(X)))[0][0]"
   ]
  },
  {
   "cell_type": "code",
   "execution_count": 9,
   "metadata": {
    "collapsed": false
   },
   "outputs": [
    {
     "data": {
      "text/plain": [
       "3.8043425659150794"
      ]
     },
     "execution_count": 9,
     "metadata": {},
     "output_type": "execute_result"
    }
   ],
   "source": [
    "X[867146]"
   ]
  },
  {
   "cell_type": "code",
   "execution_count": null,
   "metadata": {
    "collapsed": true
   },
   "outputs": [],
   "source": []
  },
  {
   "cell_type": "code",
   "execution_count": 10,
   "metadata": {
    "collapsed": false
   },
   "outputs": [
    {
     "data": {
      "text/plain": [
       "1980135.8699009207"
      ]
     },
     "execution_count": 10,
     "metadata": {},
     "output_type": "execute_result"
    }
   ],
   "source": [
    "min(f(Pro))"
   ]
  },
  {
   "cell_type": "code",
   "execution_count": 11,
   "metadata": {
    "collapsed": false
   },
   "outputs": [
    {
     "data": {
      "text/plain": [
       "868971"
      ]
     },
     "execution_count": 11,
     "metadata": {},
     "output_type": "execute_result"
    }
   ],
   "source": [
    "np.where(f(Pro)==min(f(Pro)))[0][0]"
   ]
  },
  {
   "cell_type": "code",
   "execution_count": null,
   "metadata": {
    "collapsed": true
   },
   "outputs": [],
   "source": []
  },
  {
   "cell_type": "code",
   "execution_count": 12,
   "metadata": {
    "collapsed": false
   },
   "outputs": [
    {
     "data": {
      "text/plain": [
       "1388501.8633849146"
      ]
     },
     "execution_count": 12,
     "metadata": {},
     "output_type": "execute_result"
    }
   ],
   "source": [
    "min(fff(Muo))"
   ]
  },
  {
   "cell_type": "code",
   "execution_count": 13,
   "metadata": {
    "collapsed": false
   },
   "outputs": [
    {
     "data": {
      "text/plain": [
       "856343"
      ]
     },
     "execution_count": 13,
     "metadata": {},
     "output_type": "execute_result"
    }
   ],
   "source": [
    "np.where(fff(Muo)==min(fff(Muo)))[0][0]"
   ]
  },
  {
   "cell_type": "code",
   "execution_count": 14,
   "metadata": {
    "collapsed": false
   },
   "outputs": [
    {
     "data": {
      "text/plain": [
       "0.35928563565002231"
      ]
     },
     "execution_count": 14,
     "metadata": {},
     "output_type": "execute_result"
    }
   ],
   "source": [
    "Muo[856343]"
   ]
  },
  {
   "cell_type": "code",
   "execution_count": null,
   "metadata": {
    "collapsed": true
   },
   "outputs": [],
   "source": []
  },
  {
   "cell_type": "code",
   "execution_count": 15,
   "metadata": {
    "collapsed": false
   },
   "outputs": [
    {
     "data": {
      "text/plain": [
       "0.08245002018242223"
      ]
     },
     "execution_count": 15,
     "metadata": {},
     "output_type": "execute_result"
    }
   ],
   "source": [
    "# Xenon Z=54 A=131 Now I will compute the density of the gas in the tpc medium and mutiply it in Y.\n",
    "# Lets do this for 15 bar at room temptuare \n",
    "\n",
    "R = 81.34# cm^3 bar/K mol\n",
    "T = 293  # room temp in K\n",
    "P = 15  # working pressure\n",
    "Density2 = 3.1 # This is the density of liquid xenon\n",
    "Density = (A*P)/(R*T)\n",
    "Density"
   ]
  },
  {
   "cell_type": "code",
   "execution_count": 16,
   "metadata": {
    "collapsed": false
   },
   "outputs": [
    {
     "data": {
      "image/png": "[encoded data removed]",
      "text/plain": [
       "<matplotlib.figure.Figure at 0x11ee801d0>"
      ]
     },
     "metadata": {},
     "output_type": "display_data"
    }
   ],
   "source": [
    "plt.figure(figsize=(8,8))\n",
    "\n",
    "plt.semilogx(Pro,Density*f(Pro)/(1e6),color='b',label=r'proton $Xe_G$',linewidth=2)\n",
    "plt.semilogx(Alp,Density*ff(Alp)/(1e6),color='g',label=r'alpha $Xe_G$',linewidth=2)\n",
    "plt.semilogx(Muo,Density*fff(Muo)/(1e6),color='r',label=r'muon $Xe_G$',linewidth=2)\n",
    "\n",
    "#plt.semilogx(Pro,Density2*f(Pro)/(1e6),color='b',label=r'proton $Xe_L$',linewidth=2,linestyle=':')\n",
    "#plt.semilogx(Alp,Density2*ff(Alp)/(1e6),color='g',label=r'alpha $Xe_L$',linewidth=2,linestyle=':')\n",
    "#plt.semilogx(Muo,Density2*fff(Muo)/(1e6),color='r',label=r'muon $Xe_L$',linewidth=2,linestyle=':')\n",
    "\n",
    "plt.grid(True, which=\"both\")\n",
    "plt.xlabel(r'Momentum in $ GeV/c $',fontsize=30)\n",
    "plt.ylabel(r'$- \\frac{dE}{dx}$ in $\\frac{MeV}{cm}$',fontsize=30)\n",
    "plt.title('Energy Loss in xenon gas',fontsize=30)\n",
    "plt.xlim(1e-1,2e3)\n",
    "plt.ylim(0,1.2)\n",
    "plt.legend(loc='center right',fontsize=16,shadow=True, fancybox=True)\n",
    "plt.tight_layout()\n",
    "#plt.savefig('/Users/austinmcdonald/Desktop/evlossgas.pdf')\n",
    "\n",
    "plt.show()"
   ]
  },
  {
   "cell_type": "code",
   "execution_count": null,
   "metadata": {
    "collapsed": false
   },
   "outputs": [],
   "source": [
    "a = np.sqrt((338e3)**2+(1e6)**2)\n",
    "a"
   ]
  },
  {
   "cell_type": "code",
   "execution_count": null,
   "metadata": {
    "collapsed": true
   },
   "outputs": [],
   "source": []
  },
  {
   "cell_type": "code",
   "execution_count": null,
   "metadata": {
    "collapsed": true
   },
   "outputs": [],
   "source": []
  }
 ],
 "metadata": {
  "kernelspec": {
   "display_name": "Python 3",
   "language": "python",
   "name": "python3"
  },
  "language_info": {
   "codemirror_mode": {
    "name": "ipython",
    "version": 3
   },
   "file_extension": ".py",
   "mimetype": "text/x-python",
   "name": "python",
   "nbconvert_exporter": "python",
   "pygments_lexer": "ipython3",
   "version": "3.5.2"
  }
 },
 "nbformat": 4,
 "nbformat_minor": 0
}
