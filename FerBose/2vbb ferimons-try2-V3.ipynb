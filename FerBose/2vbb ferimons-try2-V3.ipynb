{
 "cells": [
  {
   "cell_type": "code",
   "execution_count": 1,
   "metadata": {
    "collapsed": true
   },
   "outputs": [],
   "source": [
    "import csv\n",
    "import numpy as np\n",
    "import matplotlib.pyplot as plt\n",
    "import matplotlib.cm as cm\n",
    "import os\n",
    "import glob\n",
    "import pandas as pd\n",
    "from scipy.optimize import curve_fit\n",
    "from scipy.signal import savgol_filter\n",
    "from scipy import integrate\n",
    "\n",
    "%matplotlib inline\n",
    "\n"
   ]
  },
  {
   "cell_type": "code",
   "execution_count": 14,
   "metadata": {},
   "outputs": [],
   "source": [
    "Q = 2.4578\n",
    "Xval = np.linspace(0, Q, 1000)\n",
    "\n",
    "def D(E):\n",
    "    return E*(Q-E)**5*(1+2*E+4/3*E**2+1/3*E**3+1/30*E**4)"
   ]
  },
  {
   "cell_type": "code",
   "execution_count": null,
   "metadata": {
    "collapsed": true
   },
   "outputs": [],
   "source": []
  },
  {
   "cell_type": "code",
   "execution_count": 125,
   "metadata": {
    "collapsed": true
   },
   "outputs": [],
   "source": [
    "def gaussian(x, mu, sig):\n",
    "    return np.exp(-np.power(x - mu, 2.) / (2 * np.power(sig, 2.)))/(sig*np.sqrt(2*3.142))\n",
    "\n",
    "def Fermi100(E):\n",
    "    Per = 1\n",
    "    E = E+.166*(1-Per)\n",
    "    A = E*(Q-E)**5*(1+2*E+4/3*E**2+1/3*E**3+1/30*E**4)\n",
    "    return A\n",
    "def Fermi090(E):\n",
    "    Per = 0.9\n",
    "    E = E+.166*(1-Per)\n",
    "    A = E*(Q-E)**5*(1+2*E+4/3*E**2+1/3*E**3+1/30*E**4)\n",
    "    return A\n",
    "def Fermi080(E):\n",
    "    Per = 0.8\n",
    "    E = E+.166*(1-Per)\n",
    "    A = E*(Q-E)**5*(1+2*E+4/3*E**2+1/3*E**3+1/30*E**4)\n",
    "    return A\n",
    "def Fermi070(E):\n",
    "    Per = 0.7\n",
    "    E = E+.166*(1-Per)\n",
    "    A = E*(Q-E)**5*(1+2*E+4/3*E**2+1/3*E**3+1/30*E**4)\n",
    "    return A\n",
    "def Fermi060(E):\n",
    "    Per = 0.6\n",
    "    E = E+.166*(1-Per)\n",
    "    A = E*(Q-E)**5*(1+2*E+4/3*E**2+1/3*E**3+1/30*E**4)\n",
    "    return A\n",
    "def Fermi050(E):\n",
    "    Per = 0.5\n",
    "    E = E+.166*(1-Per)\n",
    "    A = E*(Q-E)**5*(1+2*E+4/3*E**2+1/3*E**3+1/30*E**4)\n",
    "    return A\n",
    "def Fermi040(E):\n",
    "    Per = 0.4\n",
    "    E = E+.166*(1-Per)\n",
    "    A = E*(Q-E)**5*(1+2*E+4/3*E**2+1/3*E**3+1/30*E**4)\n",
    "    return A\n",
    "def Fermi030(E):\n",
    "    Per = 0.3\n",
    "    E = E+.166*(1-Per)\n",
    "    A = E*(Q-E)**5*(1+2*E+4/3*E**2+1/3*E**3+1/30*E**4)\n",
    "    return A\n",
    "def Fermi020(E):\n",
    "    Per = 0.2\n",
    "    E = E+.166*(1-Per)\n",
    "    A = E*(Q-E)**5*(1+2*E+4/3*E**2+1/3*E**3+1/30*E**4)\n",
    "    return A\n",
    "def Fermi010(E):\n",
    "    Per = 0.1\n",
    "    E = E+.166*(1-Per)\n",
    "    A = E*(Q-E)**5*(1+2*E+4/3*E**2+1/3*E**3+1/30*E**4)\n",
    "    return A\n",
    "def Fermi000(E):\n",
    "    Per = 0\n",
    "    E = E+.166*(1-Per)\n",
    "    A = E*(Q-E)**5*(1+2*E+4/3*E**2+1/3*E**3+1/30*E**4)\n",
    "    return A"
   ]
  },
  {
   "cell_type": "code",
   "execution_count": null,
   "metadata": {
    "collapsed": true
   },
   "outputs": [],
   "source": []
  },
  {
   "cell_type": "code",
   "execution_count": 94,
   "metadata": {},
   "outputs": [
    {
     "data": {
      "image/png": "[encoded data removed]",
      "text/plain": [
       "<matplotlib.figure.Figure at 0x11ab45668>"
      ]
     },
     "metadata": {},
     "output_type": "display_data"
    }
   ],
   "source": [
    "plt.figure(figsize=(7,7))\n",
    "A = 1\n",
    "plt.plot(Xval,Fermi100(Xval))\n",
    "plt.plot(Xval,Fermi050(Xval))\n",
    "plt.plot(Xval,Fermi000(Xval))\n",
    "\n",
    "#plt.xlim(0.6,2.8)\n",
    "\n",
    "plt.show()"
   ]
  },
  {
   "cell_type": "code",
   "execution_count": null,
   "metadata": {
    "collapsed": true
   },
   "outputs": [],
   "source": []
  },
  {
   "cell_type": "code",
   "execution_count": 122,
   "metadata": {
    "scrolled": true
   },
   "outputs": [
    {
     "data": {
      "text/plain": [
       "0.13157894736842105"
      ]
     },
     "execution_count": 122,
     "metadata": {},
     "output_type": "execute_result"
    }
   ],
   "source": [
    "Num = 400\n",
    "Rval00 = np.random.uniform(0,Q,Num)\n",
    "Rval01 = np.random.uniform(0,Q,Num)\n",
    "Rval02 = np.random.uniform(0,Q,Num)\n",
    "\n",
    "\n",
    "testBin = np.linspace(0, 2.5,endpoint=True, num=20)\n",
    "testBin[2] - testBin[1]"
   ]
  },
  {
   "cell_type": "code",
   "execution_count": 123,
   "metadata": {},
   "outputs": [
    {
     "data": {
      "text/plain": [
       "4613"
      ]
     },
     "execution_count": 123,
     "metadata": {},
     "output_type": "execute_result"
    }
   ],
   "source": [
    "F100 = np.array([])\n",
    "F050 = np.array([])\n",
    "F000 = np.array([])\n",
    "LL = len(Rval)\n",
    "for x in range(0,LL):\n",
    "    X = Rval00[x]\n",
    "    Y = Fermi100(X)\n",
    "    Full = np.ones(Y)*X\n",
    "    F100 = np.append(F100,Full)\n",
    "    X = Rval01[x]\n",
    "    Y = Fermi050(X)\n",
    "    Full = np.ones(Y)*X\n",
    "    F050 = np.append(F050,Full)\n",
    "    X = Rval02[x]\n",
    "    Y = Fermi000(X)\n",
    "    Full = np.ones(Y)*X\n",
    "    F000 = np.append(F000,Full)    \n",
    "len(F000)"
   ]
  },
  {
   "cell_type": "code",
   "execution_count": null,
   "metadata": {
    "collapsed": true
   },
   "outputs": [],
   "source": []
  },
  {
   "cell_type": "code",
   "execution_count": 124,
   "metadata": {},
   "outputs": [
    {
     "data": {
      "image/png": "[encoded data removed]",
      "text/plain": [
       "<matplotlib.figure.Figure at 0x11a87d048>"
      ]
     },
     "metadata": {},
     "output_type": "display_data"
    }
   ],
   "source": [
    "plt.hist(F100,bins=testBin,alpha=0.7,label='100')\n",
    "plt.hist(F050,bins=testBin,alpha=0.7,label='050')\n",
    "plt.hist(F000,bins=testBin,alpha=0.7,label='000')\n",
    "plt.legend(loc='upper right')\n",
    "#plt.plot(Te,D(Te)/A*100*25,color='r')\n",
    "plt.xlim(0,2.5)\n",
    "plt.show()"
   ]
  },
  {
   "cell_type": "code",
   "execution_count": null,
   "metadata": {
    "collapsed": true
   },
   "outputs": [],
   "source": []
  },
  {
   "cell_type": "code",
   "execution_count": null,
   "metadata": {
    "collapsed": true
   },
   "outputs": [],
   "source": []
  },
  {
   "cell_type": "code",
   "execution_count": null,
   "metadata": {
    "collapsed": true
   },
   "outputs": [],
   "source": []
  },
  {
   "cell_type": "code",
   "execution_count": 126,
   "metadata": {
    "collapsed": true
   },
   "outputs": [],
   "source": [
    "# find the resolution function\n",
    "Prcnt = np.array([6.75, 5.51, 2.35, 0.7])\n",
    "Enrgy = np.array([29.6e-3, 41.5e-3, 511e-3, 2.45])\n",
    "DeltaE= Prcnt*Enrgy/100\n",
    "SIGMAS= DeltaE/2.355"
   ]
  },
  {
   "cell_type": "code",
   "execution_count": 127,
   "metadata": {},
   "outputs": [
    {
     "data": {
      "text/plain": [
       "array([ 0.00084841,  0.00097098,  0.00509915,  0.00728238])"
      ]
     },
     "execution_count": 127,
     "metadata": {},
     "output_type": "execute_result"
    }
   ],
   "source": [
    "SIGMAS"
   ]
  },
  {
   "cell_type": "code",
   "execution_count": 28,
   "metadata": {},
   "outputs": [
    {
     "data": {
      "text/plain": [
       "25000.0"
      ]
     },
     "execution_count": 28,
     "metadata": {},
     "output_type": "execute_result"
    }
   ],
   "source": [
    "testBin = np.linspace(0, 2.5e6,endpoint=True, num=101)\n",
    "\n",
    "hist, bin_edges = np.histogram(Te,weights=D(Te),bins=testBin)\n",
    "bin_centres = (bin_edges[:-1] + bin_edges[1:])/2\n",
    "testBin[2] - testBin[1]"
   ]
  },
  {
   "cell_type": "code",
   "execution_count": 130,
   "metadata": {},
   "outputs": [
    {
     "name": "stderr",
     "output_type": "stream",
     "text": [
      "//anaconda/envs/py35/lib/python3.5/site-packages/scipy/optimize/minpack.py:690: OptimizeWarning: Covariance of the parameters could not be estimated\n",
      "  category=OptimizeWarning)\n"
     ]
    },
    {
     "data": {
      "image/png": "[encoded data removed]",
      "text/plain": [
       "<matplotlib.figure.Figure at 0x11a922c88>"
      ]
     },
     "metadata": {},
     "output_type": "display_data"
    }
   ],
   "source": [
    "x = Enrgy[2:4]\n",
    "y = (SIGMAS/Enrgy)[2:4]\n",
    "def srt(t,a,b):\n",
    "    return a+b/np.sqrt(t)\n",
    "popt,pcov =curve_fit(srt,  x,  y)\n",
    "plt.figure(figsize=(7,7))\n",
    "plt.plot(Enrgy,(SIGMAS/Enrgy),'g^:',label='data')\n",
    "plt.scatter(Xval[1::20],srt(Xval[1::20],*popt),color='r',alpha=0.4)\n",
    "plt.xlim(0,2.5)\n",
    "plt.ylim(0,0.05)\n",
    "plt.show()"
   ]
  },
  {
   "cell_type": "code",
   "execution_count": 132,
   "metadata": {},
   "outputs": [
    {
     "data": {
      "text/plain": [
       "[]"
      ]
     },
     "execution_count": 132,
     "metadata": {},
     "output_type": "execute_result"
    },
    {
     "data": {
      "image/png": "[encoded data removed]",
      "text/plain": [
       "<matplotlib.figure.Figure at 0x11a418f60>"
      ]
     },
     "metadata": {},
     "output_type": "display_data"
    }
   ],
   "source": [
    "plt.scatter(Xval[1::20],srt(Xval[1::20],*popt)*Xval[1::20],color='r',alpha=0.4)\n",
    "plt.xlim(0,2.5)\n",
    "plt.plot()"
   ]
  },
  {
   "cell_type": "code",
   "execution_count": 133,
   "metadata": {
    "collapsed": true
   },
   "outputs": [],
   "source": [
    "NewSigma = srt(Xval,*popt)*Xval"
   ]
  },
  {
   "cell_type": "code",
   "execution_count": 134,
   "metadata": {},
   "outputs": [
    {
     "data": {
      "text/plain": [
       "array([ 0.00084841,  0.00097098,  0.00509915,  0.00728238])"
      ]
     },
     "execution_count": 134,
     "metadata": {},
     "output_type": "execute_result"
    }
   ],
   "source": [
    "SIGMAS"
   ]
  },
  {
   "cell_type": "code",
   "execution_count": null,
   "metadata": {
    "collapsed": true
   },
   "outputs": [],
   "source": [
    "srt(511e3,*popt)*511e3"
   ]
  },
  {
   "cell_type": "code",
   "execution_count": 136,
   "metadata": {
    "collapsed": true
   },
   "outputs": [],
   "source": [
    "Smeared = np.array([])\n",
    "for q in range(0,len(F100)):\n",
    "    mu = F100[q]\n",
    "    sigma = srt(mu,*popt)*mu \n",
    "    smrd = np.random.normal(mu, sigma, 1)\n",
    "    Smeared = np.append(Smeared,smrd)"
   ]
  },
  {
   "cell_type": "code",
   "execution_count": null,
   "metadata": {
    "collapsed": true
   },
   "outputs": [],
   "source": [
    "def smearing(Arry,sigma, size=1):\n",
    "    LL = len(Arry)\n",
    "    Out = np.array([])\n",
    "    for x in range(0,LL):\n",
    "        Point = Arry[x]\n",
    "        Sigma = sigma[x]\n",
    "        smr   = np.random.normal(Point, sigma, size)\n",
    "        Out = np.append(Out,smr)\n",
    "    return Out"
   ]
  },
  {
   "cell_type": "code",
   "execution_count": 137,
   "metadata": {},
   "outputs": [
    {
     "data": {
      "text/plain": [
       "4981"
      ]
     },
     "execution_count": 137,
     "metadata": {},
     "output_type": "execute_result"
    }
   ],
   "source": [
    "len(F100)"
   ]
  },
  {
   "cell_type": "code",
   "execution_count": 138,
   "metadata": {},
   "outputs": [
    {
     "data": {
      "text/plain": [
       "4981"
      ]
     },
     "execution_count": 138,
     "metadata": {},
     "output_type": "execute_result"
    }
   ],
   "source": [
    "len(Smeared)"
   ]
  },
  {
   "cell_type": "code",
   "execution_count": null,
   "metadata": {
    "collapsed": true
   },
   "outputs": [],
   "source": [
    "Smeared"
   ]
  },
  {
   "cell_type": "code",
   "execution_count": null,
   "metadata": {
    "collapsed": true
   },
   "outputs": [],
   "source": []
  },
  {
   "cell_type": "code",
   "execution_count": 139,
   "metadata": {
    "collapsed": true
   },
   "outputs": [],
   "source": [
    "testBin = np.linspace(0, 2.5,endpoint=True, num=20)\n",
    "hist, bin_edges = np.histogram(F100,bins=testBin)\n",
    "bin_centres = (bin_edges[:-1] + bin_edges[1:])/2\n",
    "histS, bin_edgesS = np.histogram(Smeared,bins=testBin)\n",
    "bin_centresS = (bin_edgesS[:-1] + bin_edgesS[1:])/2"
   ]
  },
  {
   "cell_type": "code",
   "execution_count": 33,
   "metadata": {},
   "outputs": [
    {
     "data": {
      "text/plain": [
       "11.775"
      ]
     },
     "execution_count": 33,
     "metadata": {},
     "output_type": "execute_result"
    }
   ],
   "source": [
    "5*2.355"
   ]
  },
  {
   "cell_type": "code",
   "execution_count": 140,
   "metadata": {},
   "outputs": [
    {
     "data": {
      "image/png": "[encoded data removed]",
      "text/plain": [
       "<matplotlib.figure.Figure at 0x11a45fc50>"
      ]
     },
     "metadata": {},
     "output_type": "display_data"
    }
   ],
   "source": [
    "plt.figure(figsize=(7,7))\n",
    "plt.scatter(bin_centres,hist,alpha=0.5,color='b',label='True')\n",
    "plt.scatter(bin_centresS,histS,alpha=0.5,color='g',label='Smeared ')\n",
    "plt.xlim(0,Q)\n",
    "#plt.ylim(0,3200)\n",
    "plt.legend()\n",
    "\n",
    "plt.show()"
   ]
  },
  {
   "cell_type": "code",
   "execution_count": null,
   "metadata": {
    "collapsed": true
   },
   "outputs": [],
   "source": [
    "fig, ax = plt.subplots(figsize=(8,8))\n",
    "\n",
    "plt.scatter(bin_centres,hist,alpha=0.5,color='b',label='True')\n",
    "plt.scatter(bin_centresS,histS,alpha=0.5,color='g',label='Smeared 47%FWHM')\n",
    "\n",
    "plt.ylabel(\"Counts\",fontsize=26)\n",
    "plt.xlabel(\"Energy MeV\",fontsize=26)\n",
    "plt.tick_params('both', length=10, width=2, which='major')\n",
    "plt.tick_params('both', length=5, width=1, which='minor')\n",
    "xmajor_ticks = np.arange(0, Q, 500e3)\n",
    "xminor_ticks = np.arange(0, Q, 100e3)\n",
    "ymajor_ticks = np.arange(0, 3000, 1000)\n",
    "yminor_ticks = np.arange(0, 3000, 500)\n",
    "ax.tick_params(axis = 'x', which = 'major', direction='out',width=2,length=6,top=\"off\",right='off')\n",
    "ax.tick_params(axis = 'x', which = 'minor', direction='out',width=1,length=3,top=\"off\",right='off')\n",
    "ax.tick_params(axis = 'y', which = 'major', direction='in',width=2,length=6,top=\"off\",right='off')\n",
    "ax.tick_params(axis = 'y', which = 'minor', direction='in',width=2,length=4,top=\"off\",right='off')\n",
    "ax.set_xticks(xmajor_ticks)\n",
    "ax.set_xticks(xminor_ticks, minor = True)\n",
    "ax.set_yticks(ymajor_ticks)\n",
    "ax.set_yticks(yminor_ticks, minor = True)\n",
    "plt.xticks(fontsize=24)\n",
    "plt.yticks(fontsize=24)\n",
    "plt.legend(loc='upper right',fontsize=24,shadow=True, fancybox=True)\n",
    "plt.xlim(0,Q)\n",
    "plt.ylim(0,3200)\n",
    "plt.grid(True)\n",
    "plt.tight_layout()\n",
    "\n",
    "#plt.savefig('/Users/austinmcdonald/Desktop/energyNoCut.pdf')\n",
    "plt.show()"
   ]
  },
  {
   "cell_type": "code",
   "execution_count": null,
   "metadata": {
    "collapsed": true
   },
   "outputs": [],
   "source": [
    "#testBin = np.linspace(0, 2.5e6,endpoint=True, num=1001)\n",
    "plt.hist(Out,bins=testBin,alpha=0.5)\n",
    "plt.hist(Smeared,bins=testBin,alpha=0.5)\n",
    "#plt.plot(Te,D(Te)/A*100*25,color='r')\n",
    "#plt.xlim(1.5e5,2e5)\n",
    "plt.show()"
   ]
  },
  {
   "cell_type": "code",
   "execution_count": null,
   "metadata": {
    "collapsed": true
   },
   "outputs": [],
   "source": []
  },
  {
   "cell_type": "code",
   "execution_count": null,
   "metadata": {
    "collapsed": true
   },
   "outputs": [],
   "source": []
  },
  {
   "cell_type": "code",
   "execution_count": null,
   "metadata": {
    "collapsed": true
   },
   "outputs": [],
   "source": []
  },
  {
   "cell_type": "code",
   "execution_count": null,
   "metadata": {
    "collapsed": true
   },
   "outputs": [],
   "source": []
  },
  {
   "cell_type": "code",
   "execution_count": null,
   "metadata": {
    "collapsed": true
   },
   "outputs": [],
   "source": []
  },
  {
   "cell_type": "code",
   "execution_count": null,
   "metadata": {
    "collapsed": true
   },
   "outputs": [],
   "source": [
    "testBin = np.linspace(0, 2.5e6,endpoint=True, num=51)\n",
    "#plt.hist(D(Te),bins=testBin)#,weights=D(Te))\n",
    "#plt.hist(Te,bins=testBin,weights=D(Te))\n",
    "plt.hist(Smeared,bins=testBin,weights=D(Smeared))\n",
    "\n",
    "plt.show()"
   ]
  },
  {
   "cell_type": "code",
   "execution_count": null,
   "metadata": {
    "collapsed": true
   },
   "outputs": [],
   "source": []
  },
  {
   "cell_type": "code",
   "execution_count": null,
   "metadata": {
    "collapsed": true
   },
   "outputs": [],
   "source": []
  },
  {
   "cell_type": "code",
   "execution_count": null,
   "metadata": {
    "collapsed": true
   },
   "outputs": [],
   "source": [
    "Smeared = np.array([])\n",
    "for q in range(0,len(bin_centres)):\n",
    "    mu = bin_centres[q]\n",
    "    sigma = NewSigma[q]#srt(bin_centres[q],*popt)*bin_centres[q]\n",
    "    Height = hist[q]/(np.sqrt(2*np.pi)*sigma)\n",
    "    smrd = np.random.normal(mu, sigma, Height)\n",
    "    Smeared = np.append(Smeared,smrd)"
   ]
  },
  {
   "cell_type": "code",
   "execution_count": null,
   "metadata": {
    "collapsed": true
   },
   "outputs": [],
   "source": [
    "Smeared"
   ]
  },
  {
   "cell_type": "code",
   "execution_count": null,
   "metadata": {
    "collapsed": true
   },
   "outputs": [],
   "source": []
  },
  {
   "cell_type": "code",
   "execution_count": null,
   "metadata": {
    "collapsed": true
   },
   "outputs": [],
   "source": []
  },
  {
   "cell_type": "code",
   "execution_count": null,
   "metadata": {
    "collapsed": true
   },
   "outputs": [],
   "source": []
  },
  {
   "cell_type": "code",
   "execution_count": null,
   "metadata": {
    "collapsed": true
   },
   "outputs": [],
   "source": [
    "histS, bin_edgesS = np.histogram(Smeared,bins=testBin)\n",
    "bin_centresS = (bin_edgesS[:-1] + bin_edgesS[1:])/2"
   ]
  },
  {
   "cell_type": "code",
   "execution_count": null,
   "metadata": {
    "collapsed": true
   },
   "outputs": [],
   "source": []
  },
  {
   "cell_type": "code",
   "execution_count": null,
   "metadata": {
    "collapsed": true
   },
   "outputs": [],
   "source": [
    "plt.figure(figsize=(7,7))\n",
    "plt.scatter(bin_centres/1e6,hist,color='b')\n",
    "plt.scatter(bin_centresS/1e6,histS,color='r')\n",
    "#plt.xlim(2.3e6,2.6e6)\n",
    "#plt.semilogy()\n",
    "#plt.hist(Smeared,bins=testBin)\n",
    "plt.show()"
   ]
  },
  {
   "cell_type": "code",
   "execution_count": null,
   "metadata": {
    "collapsed": true
   },
   "outputs": [],
   "source": [
    "plt.plot(bin_centres,hist/histS,color='b')\n"
   ]
  },
  {
   "cell_type": "code",
   "execution_count": null,
   "metadata": {
    "collapsed": true
   },
   "outputs": [],
   "source": []
  },
  {
   "cell_type": "code",
   "execution_count": null,
   "metadata": {
    "collapsed": true
   },
   "outputs": [],
   "source": [
    "print('mu = ',mu)\n",
    "print('sig = ',sigma)\n",
    "print('H = ',Height)"
   ]
  },
  {
   "cell_type": "code",
   "execution_count": null,
   "metadata": {
    "collapsed": true
   },
   "outputs": [],
   "source": []
  },
  {
   "cell_type": "code",
   "execution_count": null,
   "metadata": {
    "collapsed": true
   },
   "outputs": [],
   "source": [
    "F=20\n",
    "mu = bin_centres[F]\n",
    "sigma = NewSigma[F]#srt(bin_centres[q],*popt)*bin_centres[q]\n",
    "Height = hist[F]/(np.sqrt(2*np.pi)*sigma)\n",
    "smrd = np.random.normal(mu, sigma, Height)\n",
    "\n",
    "plt.figure(figsize=(7,7))\n",
    "plt.hist(smrd)\n",
    "#plt.scatter(bin_centres,hist,color='k')\n",
    "plt.xlim(440e3,1e6)\n",
    "plt.show()"
   ]
  },
  {
   "cell_type": "code",
   "execution_count": null,
   "metadata": {
    "collapsed": true
   },
   "outputs": [],
   "source": []
  },
  {
   "cell_type": "code",
   "execution_count": null,
   "metadata": {
    "collapsed": true
   },
   "outputs": [],
   "source": []
  },
  {
   "cell_type": "code",
   "execution_count": null,
   "metadata": {
    "collapsed": true
   },
   "outputs": [],
   "source": []
  },
  {
   "cell_type": "code",
   "execution_count": null,
   "metadata": {
    "collapsed": true
   },
   "outputs": [],
   "source": []
  },
  {
   "cell_type": "code",
   "execution_count": null,
   "metadata": {
    "collapsed": true
   },
   "outputs": [],
   "source": []
  },
  {
   "cell_type": "code",
   "execution_count": null,
   "metadata": {
    "collapsed": true
   },
   "outputs": [],
   "source": []
  },
  {
   "cell_type": "code",
   "execution_count": null,
   "metadata": {
    "collapsed": true
   },
   "outputs": [],
   "source": [
    "plt.figure(figsize=(7,7))\n",
    "Testx = np.linspace(-50,50,100)\n",
    "Testy = gaussian(Testx,0,5)\n",
    "plt.plot(Testx,Testy*50)\n",
    "plt.show()\n",
    "dx=Testx[2]-Testx[1]\n",
    "sum(Testy*50)*dx"
   ]
  },
  {
   "cell_type": "code",
   "execution_count": null,
   "metadata": {
    "collapsed": true
   },
   "outputs": [],
   "source": [
    "(np.sqrt(2*np.pi)*4)*5"
   ]
  },
  {
   "cell_type": "code",
   "execution_count": null,
   "metadata": {
    "collapsed": true
   },
   "outputs": [],
   "source": []
  },
  {
   "cell_type": "code",
   "execution_count": null,
   "metadata": {
    "collapsed": true
   },
   "outputs": [],
   "source": [
    "plt.figure(figsize=(7,7))\n",
    "Testx = np.linspace(0,Q,1000)\n",
    "Testy = gaussian(Testx,1e6,50e3)*1e8\n",
    "plt.plot(Testx,Testy)\n",
    "plt.show()\n",
    "dx=Testx[2]-Testx[1]\n",
    "sum(Testy*50)*dx"
   ]
  },
  {
   "cell_type": "code",
   "execution_count": null,
   "metadata": {
    "collapsed": true
   },
   "outputs": [],
   "source": []
  },
  {
   "cell_type": "code",
   "execution_count": null,
   "metadata": {
    "collapsed": true
   },
   "outputs": [],
   "source": [
    "testBinT = np.linspace(0, 2.5e6,endpoint=True, num=1001)\n",
    "\n",
    "histT, bin_edgesT = np.histogram(Testx,weights=Testy,bins=testBinT)\n",
    "bin_centresT = (bin_edgesT[:-1] + bin_edgesT[1:])/2\n",
    "testBinT[2] - testBinT[1]"
   ]
  },
  {
   "cell_type": "code",
   "execution_count": null,
   "metadata": {
    "collapsed": true
   },
   "outputs": [],
   "source": [
    "Smeared = np.array([])\n",
    "for q in range(0,len(bin_centresT)):\n",
    "    mu = bin_centresT[q]\n",
    "    sigma = 30000#*NewSigma[q]#srt(bin_centres[q],*popt)*bin_centres[q]\n",
    "    Height = histT[q]#/(np.sqrt(2*np.pi)*sigma)\n",
    "    smrd = np.random.normal(mu, sigma, Height)\n",
    "    Smeared = np.append(Smeared,smrd)"
   ]
  },
  {
   "cell_type": "code",
   "execution_count": null,
   "metadata": {
    "collapsed": true
   },
   "outputs": [],
   "source": [
    "histST, bin_edgesST = np.histogram(Smeared,bins=testBinT)\n",
    "bin_centresST = (bin_edgesST[:-1] + bin_edgesST[1:])/2"
   ]
  },
  {
   "cell_type": "code",
   "execution_count": null,
   "metadata": {
    "collapsed": true
   },
   "outputs": [],
   "source": [
    "plt.figure(figsize=(7,7))\n",
    "plt.scatter(bin_centresT/1e6,histT,color='b')\n",
    "plt.scatter(bin_centresST/1e6,histST,color='r')\n",
    "plt.xlim(0.5,1.5)\n",
    "#plt.ylim(0,0.00002)\n",
    "#plt.semilogy()\n",
    "#plt.hist(Smeared,bins=testBin)\n",
    "plt.show()"
   ]
  },
  {
   "cell_type": "code",
   "execution_count": null,
   "metadata": {
    "collapsed": true
   },
   "outputs": [],
   "source": []
  },
  {
   "cell_type": "code",
   "execution_count": null,
   "metadata": {
    "collapsed": true
   },
   "outputs": [],
   "source": []
  },
  {
   "cell_type": "code",
   "execution_count": null,
   "metadata": {
    "collapsed": true
   },
   "outputs": [],
   "source": []
  },
  {
   "cell_type": "code",
   "execution_count": null,
   "metadata": {
    "collapsed": true
   },
   "outputs": [],
   "source": []
  },
  {
   "cell_type": "code",
   "execution_count": null,
   "metadata": {
    "collapsed": true
   },
   "outputs": [],
   "source": []
  },
  {
   "cell_type": "code",
   "execution_count": null,
   "metadata": {
    "collapsed": true
   },
   "outputs": [],
   "source": []
  },
  {
   "cell_type": "code",
   "execution_count": null,
   "metadata": {
    "collapsed": true
   },
   "outputs": [],
   "source": []
  },
  {
   "cell_type": "code",
   "execution_count": null,
   "metadata": {
    "collapsed": true
   },
   "outputs": [],
   "source": []
  },
  {
   "cell_type": "code",
   "execution_count": null,
   "metadata": {
    "collapsed": true
   },
   "outputs": [],
   "source": []
  },
  {
   "cell_type": "code",
   "execution_count": null,
   "metadata": {
    "collapsed": true
   },
   "outputs": [],
   "source": []
  },
  {
   "cell_type": "code",
   "execution_count": null,
   "metadata": {
    "collapsed": true
   },
   "outputs": [],
   "source": [
    "qq = np.where(ffit == max(ffit))[0][0]\n",
    "Te[qq]"
   ]
  },
  {
   "cell_type": "code",
   "execution_count": null,
   "metadata": {
    "collapsed": true
   },
   "outputs": [],
   "source": [
    "def gaussian(x, mu, sig):\n",
    "    return np.exp(-np.power(x - mu, 2.) / (2 * np.power(sig, 2.)))/(sig*np.sqrt(2*3.142))"
   ]
  },
  {
   "cell_type": "code",
   "execution_count": null,
   "metadata": {
    "collapsed": true
   },
   "outputs": [],
   "source": [
    "len(Te)"
   ]
  },
  {
   "cell_type": "code",
   "execution_count": null,
   "metadata": {
    "collapsed": true
   },
   "outputs": [],
   "source": [
    "QWE = np.linspace(1,3e6,30)"
   ]
  },
  {
   "cell_type": "code",
   "execution_count": null,
   "metadata": {
    "collapsed": true
   },
   "outputs": [],
   "source": [
    "for a in range(0,len(QWE)):\n",
    "    plt.plot(Te,gaussian(Te,QWE[a],ffit),color='b')\n",
    "plt.ylim(0,0.00008)\n",
    "plt.xlim(2.35e6,2.4e6)\n",
    "plt.show()"
   ]
  },
  {
   "cell_type": "code",
   "execution_count": null,
   "metadata": {
    "collapsed": true
   },
   "outputs": [],
   "source": [
    "2370000-2390000"
   ]
  },
  {
   "cell_type": "code",
   "execution_count": null,
   "metadata": {
    "collapsed": true
   },
   "outputs": [],
   "source": [
    "20000/2.4e6"
   ]
  },
  {
   "cell_type": "code",
   "execution_count": null,
   "metadata": {
    "collapsed": true
   },
   "outputs": [],
   "source": []
  },
  {
   "cell_type": "code",
   "execution_count": null,
   "metadata": {
    "collapsed": true
   },
   "outputs": [],
   "source": [
    "N = len(Te)\n",
    "L = min(Te)\n",
    "R = max(Te)\n",
    "dx = float(R-L)/N\n",
    "sigma = 1/2.355\n",
    "gx = np.arange(-3*sigma, 3*sigma, dx)\n",
    "#gaussian = np.exp(-(Totx/1e6/sigma)**2/2)\n",
    "aaa = D(Te)/max(D(Te))\n",
    "bbb = gaussian(Te,1e6,ffit)/max(gaussian(Te,0,ffit))\n",
    "\n",
    "result = np.convolve(D(Te), gaussian(Te,1e5,ffit), mode=\"full\")/sum(gaussian(Te,0,ffit))"
   ]
  },
  {
   "cell_type": "code",
   "execution_count": null,
   "metadata": {
    "collapsed": true
   },
   "outputs": [],
   "source": [
    "result"
   ]
  },
  {
   "cell_type": "code",
   "execution_count": null,
   "metadata": {
    "collapsed": true
   },
   "outputs": [],
   "source": [
    "#X=Te  Y=D(Te)\n",
    "def Con(X,Y,N,ffit):\n",
    "    L = len(X)\n",
    "    chunks = L/N\n",
    "    XX = np.array_split(X,N)\n",
    "    YY = np.array_split(Y,N)\n",
    "    FF = np.array_split(ffit,N)\n",
    "    ANS = np.array([])\n",
    "    for q in range(1,N-1):\n",
    "        xs = XX[q]\n",
    "        ys = YY[q] \n",
    "        fs = FF[q]\n",
    "        M = np.mean(xs)\n",
    "        result = np.convolve(ys, gaussian(xs,M,fs), mode=\"full\")/sum(gaussian(xs,M,fs))\n",
    "        ugg = len(result)\n",
    "        result = result[0:ugg/2+1]\n",
    "        ANS = np.append(ANS,result)\n",
    "    return ANS"
   ]
  },
  {
   "cell_type": "code",
   "execution_count": null,
   "metadata": {
    "collapsed": true
   },
   "outputs": [],
   "source": [
    "#X=Te  Y=D(Te)\n",
    "def Con(X,Y,N,ffit):\n",
    "    L = len(X)\n",
    "    chunks = L/N\n",
    "    XX = np.array_split(X,N)\n",
    "    YY = np.array_split(Y,N)\n",
    "    FF = np.array_split(ffit,N)\n",
    "    ANS = np.array([])\n",
    "    for q in range(1,N-1):\n",
    "        L1 = len(XX[q-1])\n",
    "        L2 = len(XX[q])\n",
    "        L3 = len(XX[q+1])\n",
    "        xs = np.append(XX[q-1],XX[q])\n",
    "        xs = np.append(xs,XX[q+1])\n",
    "        ys = np.append(YY[q-1],YY[q])\n",
    "        ys = np.append(ys,YY[q+1])\n",
    "        fs = np.append(FF[q-1],FF[q])\n",
    "        fs = np.append(fs,FF[q+1])\n",
    "        M = np.mean(xs)\n",
    "        result = np.convolve(ys, gaussian(xs,M,fs), mode=\"full\")/sum(gaussian(xs,M,fs))\n",
    "        ugg = len(result)\n",
    "        result = result[2*L1:2*L1+L2+1]\n",
    "        #result = result[0:ugg/2]\n",
    "        ANS = np.append(ANS,result)\n",
    "    return ANS"
   ]
  },
  {
   "cell_type": "code",
   "execution_count": null,
   "metadata": {
    "collapsed": true
   },
   "outputs": [],
   "source": [
    "TEE = Con(Te,D(Te)/max(D(Te)),15,ffit)\n",
    "xx = np.arange(0,len(TEE))\n",
    "plt.plot(xx,TEE)"
   ]
  },
  {
   "cell_type": "code",
   "execution_count": null,
   "metadata": {
    "collapsed": true
   },
   "outputs": [],
   "source": [
    "N=10\n",
    "XX = np.array_split(Te,N)\n",
    "YY = np.array_split(D(Te),N)\n",
    "FF = np.array_split(ffit,N)\n",
    "ANS = np.array([])\n",
    "for q in range(1,N-1):\n",
    "    L1 = len(XX[q-1])\n",
    "    L2 = len(XX[q])\n",
    "    L3 = len(XX[q+1])\n",
    "    xs = np.append(XX[q-1],XX[q])\n",
    "    xs = np.append(xs,XX[q+1])\n",
    "    ys = np.append(YY[q-1],YY[q])\n",
    "    ys = np.append(ys,YY[q+1])\n",
    "    fs = np.append(FF[q-1],FF[q])\n",
    "    fs = np.append(fs,FF[q+1])\n",
    "    M = np.mean(xs)\n",
    "    result = np.convolve(ys, gaussian(xs,M,fs), mode=\"full\")/sum(gaussian(xs,M,fs))\n",
    "    ugg = len(result)\n",
    "    result = result[2*L1:2*L1+2*L2+1]\n",
    "    ANS = np.append(ANS,result)\n"
   ]
  },
  {
   "cell_type": "code",
   "execution_count": null,
   "metadata": {
    "collapsed": true
   },
   "outputs": [],
   "source": [
    "len(result)"
   ]
  },
  {
   "cell_type": "code",
   "execution_count": null,
   "metadata": {
    "collapsed": true
   },
   "outputs": [],
   "source": [
    "L1"
   ]
  },
  {
   "cell_type": "code",
   "execution_count": null,
   "metadata": {
    "collapsed": true
   },
   "outputs": [],
   "source": [
    "len(xs)"
   ]
  },
  {
   "cell_type": "code",
   "execution_count": null,
   "metadata": {
    "collapsed": true
   },
   "outputs": [],
   "source": []
  },
  {
   "cell_type": "code",
   "execution_count": null,
   "metadata": {
    "collapsed": true
   },
   "outputs": [],
   "source": []
  },
  {
   "cell_type": "code",
   "execution_count": null,
   "metadata": {
    "collapsed": true
   },
   "outputs": [],
   "source": []
  },
  {
   "cell_type": "code",
   "execution_count": null,
   "metadata": {
    "collapsed": true
   },
   "outputs": [],
   "source": [
    "len(TEE)"
   ]
  },
  {
   "cell_type": "code",
   "execution_count": null,
   "metadata": {
    "collapsed": true
   },
   "outputs": [],
   "source": [
    "len(Te)"
   ]
  },
  {
   "cell_type": "code",
   "execution_count": null,
   "metadata": {
    "collapsed": true
   },
   "outputs": [],
   "source": []
  },
  {
   "cell_type": "code",
   "execution_count": null,
   "metadata": {
    "collapsed": true
   },
   "outputs": [],
   "source": [
    "TEE = Con(Te,D(Te),20,ffit)\n",
    "xxx = testBin = np.linspace(0, 2.5e6,endpoint=True, num=len(TEE))\n",
    "\n",
    "plt.plot(Te,D(Te),color='k')\n",
    "plt.plot(xxx,TEE)\n",
    "#plt.plot(Te,result[0:2458],color='r')\n",
    "#plt.xlim([2.4e6,2.46e6])\n",
    "plt.show()"
   ]
  },
  {
   "cell_type": "code",
   "execution_count": null,
   "metadata": {
    "collapsed": true
   },
   "outputs": [],
   "source": [
    "len(Totx)"
   ]
  },
  {
   "cell_type": "code",
   "execution_count": null,
   "metadata": {
    "collapsed": true
   },
   "outputs": [],
   "source": [
    "len(result[0:4955-2477])"
   ]
  },
  {
   "cell_type": "code",
   "execution_count": null,
   "metadata": {
    "collapsed": true
   },
   "outputs": [],
   "source": []
  }
 ],
 "metadata": {
  "kernelspec": {
   "display_name": "Python 3",
   "language": "python",
   "name": "python3"
  },
  "language_info": {
   "codemirror_mode": {
    "name": "ipython",
    "version": 3
   },
   "file_extension": ".py",
   "mimetype": "text/x-python",
   "name": "python",
   "nbconvert_exporter": "python",
   "pygments_lexer": "ipython3",
   "version": "3.5.2"
  }
 },
 "nbformat": 4,
 "nbformat_minor": 1
}
