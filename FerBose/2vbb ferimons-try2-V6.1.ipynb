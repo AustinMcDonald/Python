{
 "cells": [
  {
   "cell_type": "code",
   "execution_count": 1,
   "metadata": {
    "collapsed": true
   },
   "outputs": [],
   "source": [
    "import time\n",
    "import numpy as np\n",
    "import matplotlib.pyplot as plt\n",
    "import matplotlib.cm as cm\n",
    "import glob\n",
    "%matplotlib inline"
   ]
  },
  {
   "cell_type": "code",
   "execution_count": 2,
   "metadata": {
    "collapsed": true
   },
   "outputs": [],
   "source": [
    "Q = 2.4578\n",
    "Xval = np.linspace(0, Q, 100)\n",
    "\n",
    "def gaussian(x, mu, sig):\n",
    "    return np.exp(-np.power(x - mu, 2.) / (2 * np.power(sig, 2.)))/(sig*np.sqrt(2*3.142))\n",
    "\n",
    "def Fermi(E,Per):\n",
    "    E = E+.166*(1-Per)\n",
    "    A = E*(Q-E)**5*(1+2*E+4/3*E**2+1/3*E**3+1/30*E**4)\n",
    "    return A\n",
    "def Poss(arry):\n",
    "    le = len(arry)\n",
    "    New = np.array([])\n",
    "    for x in range(0,le):\n",
    "        a = np.random.poisson(arry[x], 1)\n",
    "        New = np.append(New,a)\n",
    "    return New"
   ]
  },
  {
   "cell_type": "code",
   "execution_count": 40,
   "metadata": {},
   "outputs": [
    {
     "data": {
      "image/png": "[encoded data removed]",
      "text/plain": [
       "<matplotlib.figure.Figure at 0x110eba8d0>"
      ]
     },
     "metadata": {},
     "output_type": "display_data"
    }
   ],
   "source": [
    "plt.plot(Xval,Fermi(Xval,1.5) ,label=\"150% Fermion\",color='purple')\n",
    "plt.plot(Xval,Fermi(Xval,1) ,label=\"100% Fermion\",color='Blue')\n",
    "plt.plot(Xval,Fermi(Xval,.5),label=\"50% Fermion\",color='Green')\n",
    "plt.plot(Xval,Fermi(Xval,0) ,label=\"0% Fermion\",color='orangered')\n",
    "plt.legend()\n",
    "plt.show()"
   ]
  },
  {
   "cell_type": "code",
   "execution_count": null,
   "metadata": {
    "collapsed": true
   },
   "outputs": [],
   "source": []
  },
  {
   "cell_type": "code",
   "execution_count": 3,
   "metadata": {},
   "outputs": [
    {
     "data": {
      "text/plain": [
       "array([0])"
      ]
     },
     "execution_count": 3,
     "metadata": {},
     "output_type": "execute_result"
    }
   ],
   "source": [
    "np.random.poisson(.2, 1)"
   ]
  },
  {
   "cell_type": "code",
   "execution_count": 4,
   "metadata": {},
   "outputs": [
    {
     "data": {
      "text/plain": [
       "0.079310344827586199"
      ]
     },
     "execution_count": 4,
     "metadata": {},
     "output_type": "execute_result"
    }
   ],
   "source": [
    "\n",
    "testBin = np.linspace(0, 2.3,endpoint=True, num=30)\n",
    "testBin[2] - testBin[1]"
   ]
  },
  {
   "cell_type": "code",
   "execution_count": 5,
   "metadata": {},
   "outputs": [
    {
     "data": {
      "text/plain": [
       "5034.1294096595948"
      ]
     },
     "execution_count": 5,
     "metadata": {},
     "output_type": "execute_result"
    }
   ],
   "source": [
    "FF = Fermi(testBin,1)\n",
    "dx = testBin[2]-testBin[1]\n",
    "A = sum(FF)*dx\n",
    "COR = 200e3/A\n",
    "COR"
   ]
  },
  {
   "cell_type": "code",
   "execution_count": 6,
   "metadata": {},
   "outputs": [
    {
     "data": {
      "text/plain": [
       "199999.99999999997"
      ]
     },
     "execution_count": 6,
     "metadata": {},
     "output_type": "execute_result"
    }
   ],
   "source": [
    "sum(FF*COR*dx)"
   ]
  },
  {
   "cell_type": "code",
   "execution_count": 7,
   "metadata": {
    "collapsed": true
   },
   "outputs": [],
   "source": [
    "Truth = FF*COR"
   ]
  },
  {
   "cell_type": "code",
   "execution_count": 8,
   "metadata": {},
   "outputs": [
    {
     "data": {
      "text/plain": [
       "array([181])"
      ]
     },
     "execution_count": 8,
     "metadata": {},
     "output_type": "execute_result"
    }
   ],
   "source": [
    "np.random.poisson(1.91374655e+02, 1)"
   ]
  },
  {
   "cell_type": "code",
   "execution_count": 10,
   "metadata": {},
   "outputs": [
    {
     "data": {
      "text/plain": [
       "array([  0.00000000e+00,   2.84057931e+03,   5.50826207e+03,\n",
       "         7.92580000e+03,   1.00855793e+04,   1.18892552e+04,\n",
       "         1.33433310e+04,   1.42959276e+04,   1.47673483e+04,\n",
       "         1.48852828e+04,   1.46443379e+04,   1.40009724e+04,\n",
       "         1.30383828e+04,   1.19074966e+04,   1.05280517e+04,\n",
       "         9.16137586e+03,   7.80738966e+03,   6.40787931e+03,\n",
       "         5.06816897e+03,   3.90896897e+03,   2.89355862e+03,\n",
       "         2.04874483e+03,   1.38602759e+03,   8.51475862e+02,\n",
       "         4.96800000e+02,   2.52286207e+02,   1.12065517e+02,\n",
       "         4.02103448e+01,   1.05482759e+01,   2.22068966e+00])"
      ]
     },
     "execution_count": 10,
     "metadata": {},
     "output_type": "execute_result"
    }
   ],
   "source": [
    "Poss(Truth)*dx"
   ]
  },
  {
   "cell_type": "code",
   "execution_count": null,
   "metadata": {
    "collapsed": true
   },
   "outputs": [],
   "source": []
  },
  {
   "cell_type": "code",
   "execution_count": 11,
   "metadata": {},
   "outputs": [
    {
     "data": {
      "image/png": "[encoded data removed]",
      "text/plain": [
       "<matplotlib.figure.Figure at 0x10a333550>"
      ]
     },
     "metadata": {},
     "output_type": "display_data"
    },
    {
     "data": {
      "image/png": "[encoded data removed]",
      "text/plain": [
       "<matplotlib.figure.Figure at 0x10f1fb630>"
      ]
     },
     "metadata": {},
     "output_type": "display_data"
    }
   ],
   "source": [
    "\n",
    "plt.scatter(testBin,Truth*dx ,label=\"100% Fermion\",color='Blue')\n",
    "plt.scatter(testBin,Poss(Truth)*dx ,label=\"100% Fermion\",color='red')\n",
    "\n",
    "plt.show()\n",
    "plt.plot(testBin,Poss(Truth)-Truth)\n",
    "plt.show()"
   ]
  },
  {
   "cell_type": "code",
   "execution_count": null,
   "metadata": {
    "collapsed": true
   },
   "outputs": [],
   "source": []
  },
  {
   "cell_type": "code",
   "execution_count": null,
   "metadata": {
    "collapsed": true
   },
   "outputs": [],
   "source": []
  },
  {
   "cell_type": "code",
   "execution_count": 12,
   "metadata": {},
   "outputs": [
    {
     "name": "stdout",
     "output_type": "stream",
     "text": [
      "/Users/austinmcdonald/Desktop/AreNeutrinosFermi/truthLLH-v2\n"
     ]
    }
   ],
   "source": [
    "cd /Users/austinmcdonald/Desktop/AreNeutrinosFermi/truthLLH-v2/"
   ]
  },
  {
   "cell_type": "code",
   "execution_count": 13,
   "metadata": {
    "collapsed": true
   },
   "outputs": [],
   "source": [
    "def write_File(Data,name):\n",
    "    Name = \"{0:.4f}\".format(name)\n",
    "    path = \"/Users/austinmcdonald/Desktop/AreNeutrinosFermi/truthLLH-v2/Truth-V2-\"+Name+\".txt\"\n",
    "    np.savetxt(path,Data)"
   ]
  },
  {
   "cell_type": "code",
   "execution_count": 66,
   "metadata": {},
   "outputs": [
    {
     "data": {
      "text/plain": [
       "array([  0.00000000e+00,   1.00000000e-03,   2.00000000e-03, ...,\n",
       "         1.49800000e+00,   1.49900000e+00,   1.50000000e+00])"
      ]
     },
     "execution_count": 66,
     "metadata": {},
     "output_type": "execute_result"
    }
   ],
   "source": [
    "Pferm = np.linspace(0.0,1.5,1501)\n",
    "Pferm"
   ]
  },
  {
   "cell_type": "code",
   "execution_count": 67,
   "metadata": {},
   "outputs": [
    {
     "data": {
      "text/plain": [
       "1501"
      ]
     },
     "execution_count": 67,
     "metadata": {},
     "output_type": "execute_result"
    }
   ],
   "source": [
    "len(Pferm)"
   ]
  },
  {
   "cell_type": "code",
   "execution_count": 80,
   "metadata": {
    "collapsed": true
   },
   "outputs": [],
   "source": [
    "for x in range(0,len(Pferm)):\n",
    "    FF = Fermi(testBin,Pferm[x])\n",
    "    dx = testBin[2]-testBin[1]\n",
    "    A = sum(FF)*dx\n",
    "    COR = 50e3/A\n",
    "    dat =abs( FF*COR)*dx\n",
    "    write_File(dat,Pferm[x])"
   ]
  },
  {
   "cell_type": "code",
   "execution_count": 81,
   "metadata": {},
   "outputs": [],
   "source": [
    "files = glob.glob('*.txt')\n",
    "LL = len(files)\n",
    "Expected = dict()\n",
    "for q in range(0,LL):\n",
    "    Expected[q] = np.genfromtxt(files[q],delimiter=',')\n",
    "PFermion = np.linspace(0.0,1.5,LL)"
   ]
  },
  {
   "cell_type": "code",
   "execution_count": 82,
   "metadata": {},
   "outputs": [
    {
     "data": {
      "text/plain": [
       "1501"
      ]
     },
     "execution_count": 82,
     "metadata": {},
     "output_type": "execute_result"
    }
   ],
   "source": [
    "LL"
   ]
  },
  {
   "cell_type": "code",
   "execution_count": 83,
   "metadata": {},
   "outputs": [
    {
     "data": {
      "image/png": "[encoded data removed]",
      "text/plain": [
       "<matplotlib.figure.Figure at 0x112b2eb38>"
      ]
     },
     "metadata": {},
     "output_type": "display_data"
    }
   ],
   "source": [
    "for x in range(0,LL):\n",
    "    plt.plot(testBin,Expected[x])"
   ]
  },
  {
   "cell_type": "code",
   "execution_count": 84,
   "metadata": {
    "collapsed": true
   },
   "outputs": [],
   "source": [
    "def LogLLL(observed,predicted):\n",
    "    #KillBins = np.array([22, 23, 24, 25, 26, 27, 28])#np.where(predicted == 0)[0]\n",
    "    KillBins = np.where(predicted == 0)[0]\n",
    "    predicted[predicted == 0] = 1e-100\n",
    "    Obs = observed#np.delete(observed,KillBins)\n",
    "    Pre = predicted#np.delete(predicted,KillBins)\n",
    "    A = (Obs * np.log(Pre))\n",
    "    B = Pre\n",
    "    #C = np.log(fact(Obs))\n",
    "    LLH = np.sum(A-B)#-C\n",
    "    return -LLH\n",
    "def find_nearest(array,value):\n",
    "    idx = (np.abs(array-value)).argmin()\n",
    "    return array[idx]\n",
    "\n",
    "def Sigmas(llh,s):\n",
    "    mm = min(llh)\n",
    "    cut = np.where(llh==mm)[0][0]\n",
    "\n",
    "    ll = len(llh)\n",
    "    Left  = llh[0:cut]\n",
    "    Right = llh[cut:ll]\n",
    "    lp = find_nearest(Left,mm+s)\n",
    "    lpp= np.where(Left == lp)[0][0]\n",
    "    rp = find_nearest(Right,mm+s)\n",
    "    rpp= np.where(Right == rp)[0][0]+cut\n",
    "    return lpp,rpp"
   ]
  },
  {
   "cell_type": "code",
   "execution_count": 85,
   "metadata": {
    "collapsed": true
   },
   "outputs": [],
   "source": [
    "LLH = np.array([]) \n",
    "data = Poss(Truth)*dx\n",
    "for x in range(0,LL):\n",
    "    val = LogLLL(data,Expected[x])\n",
    "    LLH = np.append(LLH,val)"
   ]
  },
  {
   "cell_type": "code",
   "execution_count": 86,
   "metadata": {},
   "outputs": [
    {
     "data": {
      "text/plain": [
       "array([-1497648.33876063, -1497678.38127964, -1497708.40106818, ...,\n",
       "       -1508530.87984188, -1508654.36345522, -1508771.53614643])"
      ]
     },
     "execution_count": 86,
     "metadata": {},
     "output_type": "execute_result"
    }
   ],
   "source": [
    "LLH"
   ]
  },
  {
   "cell_type": "code",
   "execution_count": 87,
   "metadata": {},
   "outputs": [
    {
     "data": {
      "text/plain": [
       "1501"
      ]
     },
     "execution_count": 87,
     "metadata": {},
     "output_type": "execute_result"
    }
   ],
   "source": [
    "len(LLH)"
   ]
  },
  {
   "cell_type": "code",
   "execution_count": null,
   "metadata": {
    "collapsed": true
   },
   "outputs": [],
   "source": []
  },
  {
   "cell_type": "code",
   "execution_count": 88,
   "metadata": {},
   "outputs": [
    {
     "name": "stderr",
     "output_type": "stream",
     "text": [
      "//anaconda/envs/py35/lib/python3.5/site-packages/matplotlib/axes/_axes.py:519: UserWarning: No labelled objects found. Use label='...' kwarg on individual plots.\n",
      "  warnings.warn(\"No labelled objects found. \"\n"
     ]
    },
    {
     "name": "stdout",
     "output_type": "stream",
     "text": [
      "fit val = 1.128\n",
      "1 sigma up 1.129\n",
      "1 sigma dn 1.127\n",
      "3 sigma up 1.13\n",
      "3 sigma dn 1.125\n"
     ]
    },
    {
     "data": {
      "image/png": "[encoded data removed]",
      "text/plain": [
       "<matplotlib.figure.Figure at 0x111ad7f60>"
      ]
     },
     "metadata": {},
     "output_type": "display_data"
    }
   ],
   "source": [
    "LLH = np.array([]) \n",
    "data = Poss(Truth)\n",
    "\n",
    "for x in range(0,LL):\n",
    "    val = LogLLL(data,Expected[x])\n",
    "    LLH = np.append(LLH,val)\n",
    "    \n",
    "aa = min(LLH)\n",
    "qq = np.where(LLH ==aa)[0][0]\n",
    "fig, ax = plt.subplots(figsize=(10,8))\n",
    "\n",
    "plt.plot(PFermion,LLH+abs(aa),color='blue',linewidth=2)\n",
    "\n",
    "\n",
    "plt.ylabel(\"-LLH\",fontsize=26)\n",
    "plt.xlabel(\"Fractional Fermion\",fontsize=26)\n",
    "plt.tick_params('both', length=10, width=2, which='major')\n",
    "plt.tick_params('both', length=5, width=1, which='minor')\n",
    "\n",
    "plt.xticks(fontsize=24)\n",
    "plt.yticks(fontsize=24)\n",
    "plt.legend(loc='upper right',fontsize=24,shadow=True, fancybox=True)\n",
    "plt.grid(True)\n",
    "plt.tight_layout()\n",
    "\n",
    "plt.xlim(0,1.5)\n",
    "print('fit val =',PFermion[qq])\n",
    "L,R = Sigmas(LLH,0.5)\n",
    "print('1 sigma up',PFermion[R])\n",
    "print('1 sigma dn',PFermion[L])\n",
    "L,R = Sigmas(LLH,2)\n",
    "print('3 sigma up',PFermion[R])\n",
    "print('3 sigma dn',PFermion[L])\n",
    "#plt.savefig('/Users/austinmcdonald/Desktop/FermiLLH100.pdf')\n",
    "\n",
    "plt.show()"
   ]
  },
  {
   "cell_type": "code",
   "execution_count": null,
   "metadata": {
    "collapsed": true
   },
   "outputs": [],
   "source": []
  },
  {
   "cell_type": "code",
   "execution_count": 89,
   "metadata": {},
   "outputs": [
    {
     "name": "stdout",
     "output_type": "stream",
     "text": [
      "fit val = 0.6\n",
      "1 sigma up 0.601\n",
      "1 sigma dn 0.598\n",
      "3 sigma up 0.602\n",
      "3 sigma dn 0.597\n"
     ]
    },
    {
     "data": {
      "image/png": "[encoded data removed]",
      "text/plain": [
       "<matplotlib.figure.Figure at 0x1129bce48>"
      ]
     },
     "metadata": {},
     "output_type": "display_data"
    }
   ],
   "source": [
    "FF = Fermi(testBin,0.6)\n",
    "dx = testBin[2]-testBin[1]\n",
    "A = sum(FF)*dx\n",
    "COR = 200e3/A\n",
    "Truth2 = FF*COR\n",
    "LLH = np.array([]) \n",
    "data = Poss(Truth2)\n",
    "for x in range(0,LL):\n",
    "    val = LogLLL(data,Expected[x])\n",
    "    LLH = np.append(LLH,val)\n",
    "    \n",
    "aa = min(LLH)\n",
    "qq = np.where(LLH ==aa)[0][0]\n",
    "fig, ax = plt.subplots(figsize=(10,8))\n",
    "\n",
    "plt.plot(PFermion,LLH+abs(aa),color='blue',linewidth=2)\n",
    "\n",
    "\n",
    "plt.ylabel(\"-LLH\",fontsize=26)\n",
    "plt.xlabel(\"Fractional Fermion\",fontsize=26)\n",
    "plt.tick_params('both', length=10, width=2, which='major')\n",
    "plt.tick_params('both', length=5, width=1, which='minor')\n",
    "\n",
    "plt.xticks(fontsize=24)\n",
    "plt.yticks(fontsize=24)\n",
    "#plt.legend(loc='upper right',fontsize=24,shadow=True, fancybox=True)\n",
    "plt.grid(True)\n",
    "plt.tight_layout()\n",
    "\n",
    "plt.xlim(0,1.5)\n",
    "plt.ylim(0,200e3)\n",
    "print('fit val =',PFermion[qq])\n",
    "L,R = Sigmas(LLH,0.5)\n",
    "print('1 sigma up',PFermion[R])\n",
    "print('1 sigma dn',PFermion[L])\n",
    "L,R = Sigmas(LLH,2)\n",
    "print('3 sigma up',PFermion[R])\n",
    "print('3 sigma dn',PFermion[L])\n",
    "#plt.savefig('/Users/austinmcdonald/Desktop/FermiLLH100.pdf')\n",
    "\n",
    "plt.show()"
   ]
  },
  {
   "cell_type": "code",
   "execution_count": null,
   "metadata": {
    "collapsed": true
   },
   "outputs": [],
   "source": []
  },
  {
   "cell_type": "code",
   "execution_count": 90,
   "metadata": {},
   "outputs": [
    {
     "data": {
      "image/png": "[encoded data removed]",
      "text/plain": [
       "<matplotlib.figure.Figure at 0x111ad7940>"
      ]
     },
     "metadata": {},
     "output_type": "display_data"
    }
   ],
   "source": [
    "fig, ax = plt.subplots(figsize=(10,8))\n",
    "\n",
    "plt.plot(PFermion,LLH+abs(aa),color='blue',linewidth=2)\n",
    "plt.scatter(PFermion,LLH+abs(aa),color='k',linewidth=2)\n",
    "\n",
    "plt.ylabel(\"-LLH\",fontsize=26)\n",
    "plt.xlabel(\"Fractional Fermion\",fontsize=26)\n",
    "plt.tick_params('both', length=10, width=2, which='major')\n",
    "plt.tick_params('both', length=5, width=1, which='minor')\n",
    "\n",
    "plt.xticks(fontsize=24)\n",
    "plt.yticks(fontsize=24)\n",
    "#plt.legend(loc='upper right',fontsize=24,shadow=True, fancybox=True)\n",
    "plt.grid(True)\n",
    "plt.tight_layout()\n",
    "\n",
    "plt.xlim(0.59,0.61)\n",
    "plt.ylim(0,10)\n",
    "plt.axhline(0.5,color='g',linewidth=2,linestyle='-')\n",
    "plt.axhline(2,color='r',linewidth=2,linestyle='--')\n",
    "\n",
    "#plt.savefig('/Users/austinmcdonald/Desktop/FermiLLH050.pdf')\n",
    "\n",
    "plt.show()"
   ]
  },
  {
   "cell_type": "code",
   "execution_count": null,
   "metadata": {
    "collapsed": true
   },
   "outputs": [],
   "source": []
  },
  {
   "cell_type": "code",
   "execution_count": null,
   "metadata": {
    "collapsed": true
   },
   "outputs": [],
   "source": []
  },
  {
   "cell_type": "code",
   "execution_count": null,
   "metadata": {
    "collapsed": true
   },
   "outputs": [],
   "source": []
  },
  {
   "cell_type": "code",
   "execution_count": null,
   "metadata": {
    "collapsed": true
   },
   "outputs": [],
   "source": []
  },
  {
   "cell_type": "code",
   "execution_count": null,
   "metadata": {
    "collapsed": true
   },
   "outputs": [],
   "source": []
  },
  {
   "cell_type": "code",
   "execution_count": 38,
   "metadata": {
    "collapsed": true
   },
   "outputs": [],
   "source": [
    "################################################################\n",
    "# This is where the comparsion to the exo data starts \n",
    "# the hope it to see how well it match the theory\n",
    "################################################################\n"
   ]
  },
  {
   "cell_type": "code",
   "execution_count": 94,
   "metadata": {
    "collapsed": true
   },
   "outputs": [],
   "source": [
    "decay0 = np.loadtxt('/Users/austinmcdonald/Desktop/bb2nuE.txt')"
   ]
  },
  {
   "cell_type": "code",
   "execution_count": 95,
   "metadata": {},
   "outputs": [
    {
     "data": {
      "text/plain": [
       "363113.70737671515"
      ]
     },
     "execution_count": 95,
     "metadata": {},
     "output_type": "execute_result"
    }
   ],
   "source": [
    "T_half = 2.165e21  # in years\n",
    "exo_expo = 177600   # exposure in g*yr\n",
    "Na = 6.02e23       #atoms/mol\n",
    "molar_mass = 136   # Xe molar mass in g\n",
    "Natoms = exo_expo/molar_mass*Na\n",
    "Nexpt = Natoms/T_half\n",
    "Nexpt"
   ]
  },
  {
   "cell_type": "code",
   "execution_count": 101,
   "metadata": {},
   "outputs": [
    {
     "name": "stderr",
     "output_type": "stream",
     "text": [
      "//anaconda/envs/py35/lib/python3.5/site-packages/ipykernel/__main__.py:1: DeprecationWarning: using a non-integer number instead of an integer will result in an error in the future\n",
      "  if __name__ == '__main__':\n"
     ]
    },
    {
     "data": {
      "text/plain": [
       "array([1427058, 1628126, 1147958, ...,  867993, 1799937,  751526])"
      ]
     },
     "execution_count": 101,
     "metadata": {},
     "output_type": "execute_result"
    }
   ],
   "source": [
    "ransam = np.random.randint(0,len(decay0),Nexpt)\n",
    "ransam"
   ]
  },
  {
   "cell_type": "code",
   "execution_count": 109,
   "metadata": {},
   "outputs": [
    {
     "data": {
      "text/plain": [
       "109513"
      ]
     },
     "execution_count": 109,
     "metadata": {},
     "output_type": "execute_result"
    }
   ],
   "source": [
    "dat = decay0[ransam]\n",
    "dat = dat[dat>1]\n",
    "len(dat)"
   ]
  },
  {
   "cell_type": "code",
   "execution_count": null,
   "metadata": {
    "collapsed": true
   },
   "outputs": [],
   "source": []
  },
  {
   "cell_type": "code",
   "execution_count": 103,
   "metadata": {},
   "outputs": [
    {
     "data": {
      "image/png": "[encoded data removed]",
      "text/plain": [
       "<matplotlib.figure.Figure at 0x1123d8860>"
      ]
     },
     "metadata": {},
     "output_type": "display_data"
    }
   ],
   "source": [
    "plt.hist(decay0[ransam],bins=testBin)\n",
    "plt.show()"
   ]
  },
  {
   "cell_type": "code",
   "execution_count": 104,
   "metadata": {
    "collapsed": true
   },
   "outputs": [],
   "source": [
    "le = len(Xval)\n",
    "a = find_nearest(Xval,1)\n",
    "aa = np.where(Xval == a)[0][0]\n",
    "tot_count = sum(Fermi(Xval,1))\n",
    "prt_count = sum(Fermi(Xval,1)[aa:le])\n",
    "frac = prt_count/tot_count"
   ]
  },
  {
   "cell_type": "code",
   "execution_count": 106,
   "metadata": {},
   "outputs": [
    {
     "data": {
      "image/png": "[encoded data removed]",
      "text/plain": [
       "<matplotlib.figure.Figure at 0x110ee1198>"
      ]
     },
     "metadata": {},
     "output_type": "display_data"
    }
   ],
   "source": [
    "plt.plot(Xval,Fermi(Xval,1))\n",
    "plt.plot(Xval[aa:le],Fermi(Xval,1)[aa:le],color='r')\n",
    "plt.show()"
   ]
  },
  {
   "cell_type": "code",
   "execution_count": 107,
   "metadata": {},
   "outputs": [
    {
     "data": {
      "text/plain": [
       "117124.54197856862"
      ]
     },
     "execution_count": 107,
     "metadata": {},
     "output_type": "execute_result"
    }
   ],
   "source": [
    "Nexpt*frac"
   ]
  },
  {
   "cell_type": "code",
   "execution_count": 30,
   "metadata": {},
   "outputs": [
    {
     "data": {
      "text/plain": [
       "1.70183065342301"
      ]
     },
     "execution_count": 30,
     "metadata": {},
     "output_type": "execute_result"
    }
   ],
   "source": [
    "191039/112255"
   ]
  },
  {
   "cell_type": "code",
   "execution_count": 31,
   "metadata": {},
   "outputs": [
    {
     "name": "stdout",
     "output_type": "stream",
     "text": [
      "/Users/austinmcdonald/Desktop/AreNeutrinosFermi\n"
     ]
    }
   ],
   "source": [
    "cd /Users/austinmcdonald/Desktop/AreNeutrinosFermi"
   ]
  },
  {
   "cell_type": "code",
   "execution_count": 32,
   "metadata": {},
   "outputs": [
    {
     "data": {
      "text/plain": [
       "['exo200.csv']"
      ]
     },
     "execution_count": 32,
     "metadata": {},
     "output_type": "execute_result"
    }
   ],
   "source": [
    "glob.glob(\"*.csv\")"
   ]
  },
  {
   "cell_type": "code",
   "execution_count": 33,
   "metadata": {},
   "outputs": [
    {
     "data": {
      "text/plain": [
       "191039.35044509187"
      ]
     },
     "execution_count": 33,
     "metadata": {},
     "output_type": "execute_result"
    }
   ],
   "source": [
    "exo200 = np.genfromtxt('exo200.csv',delimiter=',')\n",
    "sum(exo200[:,1][2:68])"
   ]
  },
  {
   "cell_type": "code",
   "execution_count": 111,
   "metadata": {},
   "outputs": [
    {
     "data": {
      "text/plain": [
       "0.014352941176470457"
      ]
     },
     "execution_count": 111,
     "metadata": {},
     "output_type": "execute_result"
    }
   ],
   "source": [
    "testB = np.linspace(1006e-3, 1982e-3,endpoint=True, num=69)#167\n",
    "testB[2] - testB[1]"
   ]
  },
  {
   "cell_type": "code",
   "execution_count": 103,
   "metadata": {},
   "outputs": [
    {
     "data": {
      "text/plain": [
       "192105"
      ]
     },
     "execution_count": 103,
     "metadata": {},
     "output_type": "execute_result"
    }
   ],
   "source": [
    "Num = 24000\n",
    "Nval = np.linspace(1,Q,Num)\n",
    "Ntes = np.array([])\n",
    "LL = len(Nval)\n",
    "for x in range(0,LL):\n",
    "    X = Nval[x]\n",
    "    Y = Fermi(X,1)\n",
    "    Full = np.ones(Y)*X\n",
    "    Ntes = np.append(Ntes,Full)\n",
    "len(Ntes)"
   ]
  },
  {
   "cell_type": "code",
   "execution_count": 91,
   "metadata": {},
   "outputs": [
    {
     "data": {
      "text/plain": [
       "1982.8926905132193"
      ]
     },
     "execution_count": 91,
     "metadata": {},
     "output_type": "execute_result"
    }
   ],
   "source": [
    "max(exo200[:,0][2:68]) "
   ]
  },
  {
   "cell_type": "code",
   "execution_count": 106,
   "metadata": {},
   "outputs": [
    {
     "data": {
      "text/plain": [
       "array([ 1.        ,  1.        ,  1.        , ...,  1.9301759 ,\n",
       "        1.93023664,  1.93029739])"
      ]
     },
     "execution_count": 106,
     "metadata": {},
     "output_type": "execute_result"
    }
   ],
   "source": [
    "Ntes"
   ]
  },
  {
   "cell_type": "code",
   "execution_count": 112,
   "metadata": {
    "collapsed": true
   },
   "outputs": [],
   "source": [
    "histN, bin_edgesN = np.histogram(Ntes,bins=testB)\n",
    "bin_cN = (bin_edgesN[:-1] + bin_edgesN[1:])/2"
   ]
  },
  {
   "cell_type": "code",
   "execution_count": 113,
   "metadata": {},
   "outputs": [
    {
     "data": {
      "text/plain": [
       "array([7110, 6919, 6844, 6628, 6585, 6372, 6241, 6162, 5915, 5819, 5664,\n",
       "       5506, 5379, 5192, 5059, 4932, 4720, 4591, 4503, 4252, 4152, 4029,\n",
       "       3820, 3731, 3540, 3427, 3304, 3103, 3053, 2832, 2756, 2596, 2497,\n",
       "       2360, 2236, 2133, 2008, 1888, 1811, 1659, 1648, 1416, 1422, 1296,\n",
       "       1180, 1180, 1012,  944,  944,  807,  708,  708,  708,  497,  472,\n",
       "        472,  474,  407,  236,  236,  237,  236,  236,  237,   94,    0,\n",
       "          0,    0])"
      ]
     },
     "execution_count": 113,
     "metadata": {},
     "output_type": "execute_result"
    }
   ],
   "source": [
    "histN"
   ]
  },
  {
   "cell_type": "code",
   "execution_count": 110,
   "metadata": {},
   "outputs": [
    {
     "data": {
      "text/plain": [
       "array([ 1013.17647059,  1027.52941176,  1041.88235294,  1056.23529412,\n",
       "        1070.58823529,  1084.94117647,  1099.29411765,  1113.64705882,\n",
       "        1128.        ,  1142.35294118,  1156.70588235,  1171.05882353,\n",
       "        1185.41176471,  1199.76470588,  1214.11764706,  1228.47058824,\n",
       "        1242.82352941,  1257.17647059,  1271.52941176,  1285.88235294,\n",
       "        1300.23529412,  1314.58823529,  1328.94117647,  1343.29411765,\n",
       "        1357.64705882,  1372.        ,  1386.35294118,  1400.70588235,\n",
       "        1415.05882353,  1429.41176471,  1443.76470588,  1458.11764706,\n",
       "        1472.47058824,  1486.82352941,  1501.17647059,  1515.52941176,\n",
       "        1529.88235294,  1544.23529412,  1558.58823529,  1572.94117647,\n",
       "        1587.29411765,  1601.64705882,  1616.        ,  1630.35294118,\n",
       "        1644.70588235,  1659.05882353,  1673.41176471,  1687.76470588,\n",
       "        1702.11764706,  1716.47058824,  1730.82352941,  1745.17647059,\n",
       "        1759.52941176,  1773.88235294,  1788.23529412,  1802.58823529,\n",
       "        1816.94117647,  1831.29411765,  1845.64705882,  1860.        ,\n",
       "        1874.35294118,  1888.70588235,  1903.05882353,  1917.41176471,\n",
       "        1931.76470588,  1946.11764706,  1960.47058824,  1974.82352941])"
      ]
     },
     "execution_count": 110,
     "metadata": {},
     "output_type": "execute_result"
    }
   ],
   "source": [
    "bin_cN"
   ]
  },
  {
   "cell_type": "code",
   "execution_count": 98,
   "metadata": {
    "collapsed": true
   },
   "outputs": [],
   "source": [
    "a = find_nearest(bin_cN,1) \n",
    "ab = np.where(bin_cN == a)[0][0]"
   ]
  },
  {
   "cell_type": "code",
   "execution_count": 99,
   "metadata": {},
   "outputs": [
    {
     "data": {
      "text/plain": [
       "68"
      ]
     },
     "execution_count": 99,
     "metadata": {},
     "output_type": "execute_result"
    }
   ],
   "source": [
    "ll = len(bin_cN)\n",
    "bin_cN[ab:ll]\n",
    "ll"
   ]
  },
  {
   "cell_type": "code",
   "execution_count": 82,
   "metadata": {},
   "outputs": [
    {
     "data": {
      "text/plain": [
       "1.0"
      ]
     },
     "execution_count": 82,
     "metadata": {},
     "output_type": "execute_result"
    }
   ],
   "source": [
    "part = sum(histN[ab:ll])\n",
    "tot=sum(histN)\n",
    "part/tot"
   ]
  },
  {
   "cell_type": "code",
   "execution_count": 83,
   "metadata": {},
   "outputs": [
    {
     "data": {
      "text/plain": [
       "191039.35044509187"
      ]
     },
     "execution_count": 83,
     "metadata": {},
     "output_type": "execute_result"
    }
   ],
   "source": [
    "sum(exo200[:,1][2:68])"
   ]
  },
  {
   "cell_type": "code",
   "execution_count": 84,
   "metadata": {},
   "outputs": [
    {
     "data": {
      "text/plain": [
       "66"
      ]
     },
     "execution_count": 84,
     "metadata": {},
     "output_type": "execute_result"
    }
   ],
   "source": [
    "len(exo200[:,1][2:68])"
   ]
  },
  {
   "cell_type": "code",
   "execution_count": 86,
   "metadata": {},
   "outputs": [
    {
     "data": {
      "text/plain": [
       "75"
      ]
     },
     "execution_count": 86,
     "metadata": {},
     "output_type": "execute_result"
    }
   ],
   "source": [
    "len(histN[ab:ll])"
   ]
  },
  {
   "cell_type": "code",
   "execution_count": 63,
   "metadata": {},
   "outputs": [
    {
     "data": {
      "text/plain": [
       "2.094990368311167"
      ]
     },
     "execution_count": 63,
     "metadata": {},
     "output_type": "execute_result"
    }
   ],
   "source": [
    "corr = 363242/sum(histN)\n",
    "corr"
   ]
  },
  {
   "cell_type": "code",
   "execution_count": 291,
   "metadata": {},
   "outputs": [
    {
     "data": {
      "text/plain": [
       "(array([66]),)"
      ]
     },
     "execution_count": 291,
     "metadata": {},
     "output_type": "execute_result"
    }
   ],
   "source": [
    "a = find_nearest(exo200[:,0][2:90],2000) \n",
    "np.where(exo200[:,0][2:90] == a)\n"
   ]
  },
  {
   "cell_type": "code",
   "execution_count": null,
   "metadata": {
    "collapsed": true
   },
   "outputs": [],
   "source": []
  },
  {
   "cell_type": "code",
   "execution_count": 118,
   "metadata": {},
   "outputs": [
    {
     "data": {
      "text/plain": [
       "(1, 2)"
      ]
     },
     "execution_count": 118,
     "metadata": {},
     "output_type": "execute_result"
    },
    {
     "data": {
      "image/png": "[encoded data removed]",
      "text/plain": [
       "<matplotlib.figure.Figure at 0x10fcb0e80>"
      ]
     },
     "metadata": {},
     "output_type": "display_data"
    }
   ],
   "source": [
    "plt.scatter(exo200[:,0][2:68]/1e3,exo200[:,1][2:68])\n",
    "plt.scatter(bin_cN,histN*0.87,color='b',alpha=0.7,label='expct')\n",
    "\n",
    "plt.xlim(1,2)"
   ]
  },
  {
   "cell_type": "code",
   "execution_count": 70,
   "metadata": {},
   "outputs": [
    {
     "data": {
      "text/plain": [
       "array([     0,      0,      0,      0,      0,      0,      0,      0,\n",
       "            0,      0,      0,      0,      0,      0,      0,      0,\n",
       "            0,      0,      0,      0,      0,      0,      0,      0,\n",
       "            0,      0,      0,      0,      0,      0,      0,      0,\n",
       "            0,      0,      0,      0,      0,      0,      0,      0,\n",
       "            0,      0,      0,      0,      0,      0,      0,      0,\n",
       "            0,      0,      0,      0,      0,      0,      0,      0,\n",
       "            0,      0,      0,      0,      0,      0,      0,      0,\n",
       "            0,      0, 191190,      0,      0,      0,      0,      0,\n",
       "            0,      0,      0,      0,      0,      0,      0,      0,\n",
       "            0,      0,      0,      0,      0,      0,      0,      0,\n",
       "            0,      0,      0,      0,      0,      0,      0,      0,\n",
       "            0,      0,      0,      0,      0,      0,      0,      0,\n",
       "            0,      0,      0,      0,      0,      0,      0,      0,\n",
       "            0,      0,      0,      0,      0,      0,      0,      0,\n",
       "            0,      0,      0,      0,      0,      0,      0,      0,\n",
       "            0,      0,      0,      0,      0,      0,      0,      0,\n",
       "            0,      0,      0,      0,      0,      0,      0,      0,\n",
       "            0,      0,      0,      0,      0,      0,      0,      0,\n",
       "            0,      0,      0,      0,      0,      0,      0,      0,\n",
       "            0,      0,      0,      0,      0,      0])"
      ]
     },
     "execution_count": 70,
     "metadata": {},
     "output_type": "execute_result"
    }
   ],
   "source": [
    "histE"
   ]
  },
  {
   "cell_type": "code",
   "execution_count": null,
   "metadata": {
    "collapsed": true
   },
   "outputs": [],
   "source": [
    "/Users/austinmcdonald/Desktop/AreNeutrinosFermi/truthLLH/"
   ]
  },
  {
   "cell_type": "code",
   "execution_count": 219,
   "metadata": {
    "collapsed": true
   },
   "outputs": [],
   "source": [
    "Pferm = np.linspace(0.0,1,1001)\n",
    "def write_File(Data,name):\n",
    "    Name = \"{0:.3f}\".format(name)\n",
    "    path = \"/Users/austinmcdonald/Desktop/AreNeutrinosFermi/truthLLH/Truth-V0-\"+Name+\".txt\"\n",
    "    np.savetxt(path,Data)"
   ]
  },
  {
   "cell_type": "code",
   "execution_count": 217,
   "metadata": {},
   "outputs": [
    {
     "data": {
      "text/plain": [
       "array([ 0.   ,  0.001,  0.002, ...,  0.998,  0.999,  1.   ])"
      ]
     },
     "execution_count": 217,
     "metadata": {},
     "output_type": "execute_result"
    }
   ],
   "source": [
    "Pferm = np.linspace(0.0,1,1001)\n",
    "Pferm"
   ]
  },
  {
   "cell_type": "code",
   "execution_count": null,
   "metadata": {
    "collapsed": true
   },
   "outputs": [],
   "source": []
  },
  {
   "cell_type": "code",
   "execution_count": null,
   "metadata": {
    "collapsed": true
   },
   "outputs": [],
   "source": []
  }
 ],
 "metadata": {
  "kernelspec": {
   "display_name": "Python 3",
   "language": "python",
   "name": "python3"
  },
  "language_info": {
   "codemirror_mode": {
    "name": "ipython",
    "version": 3
   },
   "file_extension": ".py",
   "mimetype": "text/x-python",
   "name": "python",
   "nbconvert_exporter": "python",
   "pygments_lexer": "ipython3",
   "version": "3.5.2"
  }
 },
 "nbformat": 4,
 "nbformat_minor": 1
}
